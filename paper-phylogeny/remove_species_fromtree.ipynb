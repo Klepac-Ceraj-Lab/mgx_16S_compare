{
 "cells": [
  {
   "cell_type": "code",
   "execution_count": 1,
   "metadata": {},
   "outputs": [],
   "source": [
    "from IPython.core.interactiveshell import InteractiveShell\n",
    "InteractiveShell.ast_node_interactivity = \"all\"\n",
    "\n",
    "import pandas as pd\n",
    "import csv\n",
    "import janitor\n",
    "import numpy as np\n",
    "import os\n",
    "import glob"
   ]
  },
  {
   "cell_type": "code",
   "execution_count": 6,
   "metadata": {},
   "outputs": [],
   "source": [
    "# read in species list used to make tree with branch lengths\n",
    "tree_species = pd.read_csv(\"/Users/danielle/Documents/thesis/paper-phylogeny/methods_tree_species.txt\", header=None)\n",
    "tree_species.columns = ['species']"
   ]
  },
  {
   "cell_type": "code",
   "execution_count": 30,
   "metadata": {},
   "outputs": [],
   "source": [
    "# make list of species, including only one from each genera\n",
    "species_list = []\n",
    "genera_list = []\n",
    "remove_list = []\n",
    "\n",
    "for species in tree_species[\"species\"]:\n",
    "    #print(species)\n",
    "    genus = species.split(\" \")\n",
    "    genus = genus[0]\n",
    "   # print(genus)\n",
    "    if genus not in genera_list:\n",
    "        genera_list.append(genus)\n",
    "        species_list.append(species)\n",
    "    else:\n",
    "        remove_list.append(species)"
   ]
  },
  {
   "cell_type": "code",
   "execution_count": 34,
   "metadata": {},
   "outputs": [
    {
     "data": {
      "text/plain": [
       "5112"
      ]
     },
     "execution_count": 34,
     "metadata": {},
     "output_type": "execute_result"
    }
   ],
   "source": [
    "with open(\"keep_species.txt\", \"w\") as output:\n",
    "    output.write(str(species_list))"
   ]
  },
  {
   "cell_type": "code",
   "execution_count": 36,
   "metadata": {},
   "outputs": [
    {
     "data": {
      "text/plain": [
       "51137"
      ]
     },
     "execution_count": 36,
     "metadata": {},
     "output_type": "execute_result"
    }
   ],
   "source": [
    "with open(\"remove_species.txt\", \"w\") as output:\n",
    "    output.write(str(remove_list))"
   ]
  }
 ],
 "metadata": {
  "kernelspec": {
   "display_name": "Python 3",
   "language": "python",
   "name": "python3"
  },
  "language_info": {
   "codemirror_mode": {
    "name": "ipython",
    "version": 3
   },
   "file_extension": ".py",
   "mimetype": "text/x-python",
   "name": "python",
   "nbconvert_exporter": "python",
   "pygments_lexer": "ipython3",
   "version": "3.7.4"
  }
 },
 "nbformat": 4,
 "nbformat_minor": 2
}
