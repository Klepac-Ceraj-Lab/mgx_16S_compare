{
 "cells": [
  {
   "cell_type": "code",
   "execution_count": 1,
   "metadata": {},
   "outputs": [],
   "source": [
    "from IPython.core.interactiveshell import InteractiveShell\n",
    "InteractiveShell.ast_node_interactivity = \"all\"\n",
    "\n",
    "import pandas as pd\n",
    "import csv\n",
    "import janitor\n",
    "import numpy as np\n",
    "import os\n",
    "import glob"
   ]
  },
  {
   "cell_type": "code",
   "execution_count": 2,
   "metadata": {},
   "outputs": [],
   "source": [
    "# read in mgx data\n",
    "\n",
    "path = '/Users/danielle/Documents/thesis/paper-abundance-tables/profiles/*'                     \n",
    "all_files = [name for name in glob.glob(path)] "
   ]
  },
  {
   "cell_type": "code",
   "execution_count": 3,
   "metadata": {},
   "outputs": [],
   "source": [
    "# mgx family\n",
    "\n",
    "df_from_each_file = []\n",
    "unclassified_list = []\n",
    "\n",
    "for f in all_files:\n",
    "    df = pd.read_csv(f, sep = '\\t', skiprows=[0,1,2], usecols = ['#clade_name','relative_abundance']) # read in dataframe \n",
    "    \n",
    "    id_1 = f.split('profiles/')[1] # add sample id from filename \n",
    "    id_2 = id_1.split('_S')[0]\n",
    "    df[\"sampleid\"] = id_2\n",
    "    \n",
    "    df.rename(columns = {'#clade_name':'taxa', 'relative_abundance':'abundance'}, inplace = True) \n",
    "    \n",
    "    df = df[df['taxa'].str.contains(\"\\|f__\")] # keep families genera\n",
    "    df = df[~df['taxa'].str.contains(\"\\|g__\")] # remove genera\n",
    "\n",
    "    df[\"taxa\"] = df['taxa'].str.split(\"\\|f__\").str[-1]\n",
    "#     df[\"taxa\"] = df['taxa'].str.split(\"\\|s__\").str[0]\n",
    "    \n",
    "    # percent unclassified organisms profiled with mgx\n",
    "    unclassified = sum(df.taxa.str.contains(\"_unclassified| noname | Candidatus\"))/df.shape[0]\n",
    "    unclassified_list.append(unclassified)\n",
    "    \n",
    "    # remove unclassified\n",
    "    df = df[~df.taxa.str.contains(\"_unclassified\")]\n",
    "    df = df[~df.taxa.str.contains(\"_noname\")]\n",
    "    df = df[~df.taxa.str.contains(\"Candidatus\")]\n",
    "    \n",
    "    # combine together taxa of the same genera\n",
    "    df = df.groupby(['taxa', 'sampleid'])['abundance'].sum().reset_index()    \n",
    "    \n",
    "    # convert to relative abundance\n",
    "    df[\"abundance\"] = df[\"abundance\"]/100.0\n",
    "    \n",
    "    df_from_each_file.append(df)"
   ]
  },
  {
   "cell_type": "code",
   "execution_count": 4,
   "metadata": {},
   "outputs": [],
   "source": [
    "mgx_family = pd.concat(df_from_each_file, ignore_index=True) # concat all dataframes together"
   ]
  },
  {
   "cell_type": "code",
   "execution_count": 5,
   "metadata": {},
   "outputs": [
    {
     "data": {
      "text/html": [
       "<div>\n",
       "<style scoped>\n",
       "    .dataframe tbody tr th:only-of-type {\n",
       "        vertical-align: middle;\n",
       "    }\n",
       "\n",
       "    .dataframe tbody tr th {\n",
       "        vertical-align: top;\n",
       "    }\n",
       "\n",
       "    .dataframe thead th {\n",
       "        text-align: right;\n",
       "    }\n",
       "</style>\n",
       "<table border=\"1\" class=\"dataframe\">\n",
       "  <thead>\n",
       "    <tr style=\"text-align: right;\">\n",
       "      <th></th>\n",
       "      <th>taxa</th>\n",
       "      <th>sampleid</th>\n",
       "      <th>abundance</th>\n",
       "    </tr>\n",
       "  </thead>\n",
       "  <tbody>\n",
       "    <tr>\n",
       "      <th>0</th>\n",
       "      <td>Acidaminococcaceae</td>\n",
       "      <td>C0047-7E-1A</td>\n",
       "      <td>0.000368</td>\n",
       "    </tr>\n",
       "    <tr>\n",
       "      <th>1</th>\n",
       "      <td>Bacteroidaceae</td>\n",
       "      <td>C0047-7E-1A</td>\n",
       "      <td>0.652440</td>\n",
       "    </tr>\n",
       "    <tr>\n",
       "      <th>2</th>\n",
       "      <td>Barnesiellaceae</td>\n",
       "      <td>C0047-7E-1A</td>\n",
       "      <td>0.024996</td>\n",
       "    </tr>\n",
       "    <tr>\n",
       "      <th>3</th>\n",
       "      <td>Bifidobacteriaceae</td>\n",
       "      <td>C0047-7E-1A</td>\n",
       "      <td>0.004231</td>\n",
       "    </tr>\n",
       "    <tr>\n",
       "      <th>4</th>\n",
       "      <td>Eggerthellaceae</td>\n",
       "      <td>C0047-7E-1A</td>\n",
       "      <td>0.000012</td>\n",
       "    </tr>\n",
       "  </tbody>\n",
       "</table>\n",
       "</div>"
      ],
      "text/plain": [
       "                 taxa     sampleid  abundance\n",
       "0  Acidaminococcaceae  C0047-7E-1A   0.000368\n",
       "1      Bacteroidaceae  C0047-7E-1A   0.652440\n",
       "2     Barnesiellaceae  C0047-7E-1A   0.024996\n",
       "3  Bifidobacteriaceae  C0047-7E-1A   0.004231\n",
       "4     Eggerthellaceae  C0047-7E-1A   0.000012"
      ]
     },
     "execution_count": 5,
     "metadata": {},
     "output_type": "execute_result"
    }
   ],
   "source": [
    "mgx_family.head()"
   ]
  },
  {
   "cell_type": "code",
   "execution_count": 6,
   "metadata": {},
   "outputs": [],
   "source": [
    "# read in 16S data\n",
    "amplicon = pd.read_csv(\"/Users/danielle/Documents/thesis/paper-abundance-tables/dada2_output_exported/feature-table.txt\",\n",
    "                      skiprows=[0], sep='\\t')"
   ]
  },
  {
   "cell_type": "code",
   "execution_count": 7,
   "metadata": {},
   "outputs": [],
   "source": [
    "amplicon.drop(['#OTU ID'], axis = 1, inplace = True)\n",
    "amplicon.rename(columns = {\"taxonomy\": \"taxa\"}, inplace = True)"
   ]
  },
  {
   "cell_type": "code",
   "execution_count": 8,
   "metadata": {},
   "outputs": [],
   "source": [
    "cols = list(amplicon.columns)\n",
    "cols = [cols[-1]] + cols[:-1]\n",
    "amplicon = amplicon[cols]"
   ]
  },
  {
   "cell_type": "code",
   "execution_count": 9,
   "metadata": {},
   "outputs": [],
   "source": [
    "# clean taxonomic names\n",
    "# keep only families\n",
    "amplicon_family = amplicon.copy()\n"
   ]
  },
  {
   "cell_type": "code",
   "execution_count": 10,
   "metadata": {},
   "outputs": [],
   "source": [
    "amplicon_family[\"taxa\"] = amplicon_family['taxa'].str.split(\"D_4__\", expand=True)[1].str.split(\";\", expand=True)[0]"
   ]
  },
  {
   "cell_type": "code",
   "execution_count": 11,
   "metadata": {},
   "outputs": [],
   "source": [
    "amplicon_family = amplicon.dropna()"
   ]
  },
  {
   "cell_type": "code",
   "execution_count": 12,
   "metadata": {},
   "outputs": [],
   "source": [
    "# remove if genus is less than 5 characters\n",
    "remove = list(set([name for name in amplicon_family[\"taxa\"] if len(name)<5]))"
   ]
  },
  {
   "cell_type": "code",
   "execution_count": 13,
   "metadata": {},
   "outputs": [],
   "source": [
    "# remove if numbers in genus\n",
    "remove2 = list(set([name for name in amplicon_family[\"taxa\"] if not name.isalpha()]))\n",
    "# remove if Candidatus in genus\n",
    "remove3 = list(set([name for name in amplicon_family[\"taxa\"] if \"Candidatus\" in name]))\n",
    "remove_list = remove + remove2 + remove3 + [\"uncultured\", \"Family\", \"None\", \"Clade\", \"Subgroup\", \"Ruminococcaceae\"]\n",
    "amplicon_family = amplicon_family[~amplicon_family.taxa.isin(remove_list)]"
   ]
  },
  {
   "cell_type": "code",
   "execution_count": 14,
   "metadata": {},
   "outputs": [
    {
     "data": {
      "text/html": [
       "<div>\n",
       "<style scoped>\n",
       "    .dataframe tbody tr th:only-of-type {\n",
       "        vertical-align: middle;\n",
       "    }\n",
       "\n",
       "    .dataframe tbody tr th {\n",
       "        vertical-align: top;\n",
       "    }\n",
       "\n",
       "    .dataframe thead th {\n",
       "        text-align: right;\n",
       "    }\n",
       "</style>\n",
       "<table border=\"1\" class=\"dataframe\">\n",
       "  <thead>\n",
       "    <tr style=\"text-align: right;\">\n",
       "      <th></th>\n",
       "      <th>taxa</th>\n",
       "      <th>C0047-7E-1A</th>\n",
       "      <th>C0052-7E-1A</th>\n",
       "      <th>C0053-8E-1A</th>\n",
       "      <th>C0058-4E-1A</th>\n",
       "      <th>C0059-4E-1A</th>\n",
       "      <th>C0106-6E-1A</th>\n",
       "      <th>C0107-4E-1A</th>\n",
       "      <th>C0123-3E-1A</th>\n",
       "      <th>C0126-9E-1A</th>\n",
       "      <th>...</th>\n",
       "      <th>C1102-1F-1A</th>\n",
       "      <th>C1109-4F-1A</th>\n",
       "      <th>C1115-4F-1A</th>\n",
       "      <th>C1135-4F-1A</th>\n",
       "      <th>C1160-3F-1A</th>\n",
       "      <th>C1177-4F-1A</th>\n",
       "      <th>C1219-3F-1A</th>\n",
       "      <th>C2002-3E-1A</th>\n",
       "      <th>C2014-2E-1A</th>\n",
       "      <th>C2018-3E-1A</th>\n",
       "    </tr>\n",
       "  </thead>\n",
       "  <tbody>\n",
       "  </tbody>\n",
       "</table>\n",
       "<p>0 rows × 131 columns</p>\n",
       "</div>"
      ],
      "text/plain": [
       "Empty DataFrame\n",
       "Columns: [taxa, C0047-7E-1A, C0052-7E-1A, C0053-8E-1A, C0058-4E-1A, C0059-4E-1A, C0106-6E-1A, C0107-4E-1A, C0123-3E-1A, C0126-9E-1A, C0127-7E-1A, C0175-2F-1A, C0192-4F-1A, C0202-6E-1A, C0229-5F-1A, C0237-4E-1A, C0248-3F-1A, C0286-6E-1A, C0296-6E-1A, C0332-4E-1A, C0348-3F-1A, C0388-7F-1A, C0402-3F-1A, C0451-2F-1A, C0461-4F-1A, C0469-2E-1A, C0494-2E-1A, C0499-2F-1A, C0507-2F-1A, C0541-2F-1A, C0550-3F-1A, C0603-4F-1A, C0623-1E-1A, C0633-2F-1A, C0643-2F-1A, C0647-4F-1A, C0649-2F-1A, C0654-2F-1A, C0656-4F-1A, C0660-1E-1A, C0661-2F-1A, C0672-1E-1A, C0673-1E-1A, C0674-3F-1A, C0676-3F-1A, C0679-1E-1A, C0682-3F-1A, C0683-1E-1A, C0686-1E-1A, C0688-1E-1A, C0692-4F-1A, C0694-1E-1A, C0698-2F-1A, C0699-4F-1A, C0703-4F-1A, C0711-4F-1A, C0713-4F-1A, C0723-3F-1A, C0724-1E-1A, C0725-1E-1A, C0730-1E-1A, C0735-1E-1A, C0739-2F-1A, C0742-3F-1A, C0743-1E-1A, C0744-4F-1A, C0752-4F-1A, C0754-2F-1A, C0767-1E-1A, C0768-1E-1A, C0769-5F-1A, C0774-4F-1A, C0784-1E-1A, C0785-1E-1A, C0788-1E-1A, C0789-1E-1A, C0792-4F-1A, C0794-4F-1A, C0799-1E-1A, C0811-1E-1A, C0825-1E-1A, C0828-4F-1A, C0834-4F-1A, C0837-1E-1A, C0839-4F-1A, C0851-4F-1A, C0863-4F-1A, C0864-5F-1A, C0880-4F-1A, C0886-4F-1A, C0888-4F-1A, C0891-4F-1A, C0904-5F-1A, C0908-4F-1A, C0914-5F-1A, C0925-1F-1A, C0932-3F-1A, C0936-1F-1A, C0946-5F-1A, C0958-4F-1A, ...]\n",
       "Index: []\n",
       "\n",
       "[0 rows x 131 columns]"
      ]
     },
     "execution_count": 14,
     "metadata": {},
     "output_type": "execute_result"
    }
   ],
   "source": [
    "amplicon_family.head()"
   ]
  },
  {
   "cell_type": "code",
   "execution_count": 15,
   "metadata": {},
   "outputs": [],
   "source": [
    "exclude = [\"sampleid\", \"dev_stage\", \"AgeMonths\"]"
   ]
  },
  {
   "cell_type": "code",
   "execution_count": 16,
   "metadata": {},
   "outputs": [],
   "source": [
    "family_amplicon_list = set(amplicon_family[\"taxa\"])\n",
    "family_mgx_list = set(mgx_family[\"taxa\"])"
   ]
  },
  {
   "cell_type": "code",
   "execution_count": 17,
   "metadata": {},
   "outputs": [],
   "source": [
    "family_intersection = [taxa for taxa in family_amplicon_list.intersection(family_mgx_list) if taxa not in exclude]\n",
    "family_union = [taxa for taxa in family_amplicon_list.union(family_mgx_list) if taxa not in exclude]"
   ]
  },
  {
   "cell_type": "code",
   "execution_count": 18,
   "metadata": {},
   "outputs": [],
   "source": [
    "family_amp_only = [taxa for taxa in family_amplicon_list.difference(family_intersection) if taxa not in exclude]\n",
    "family_mgx_only = [taxa for taxa in family_mgx_list.difference(family_intersection) if taxa not in exclude]"
   ]
  },
  {
   "cell_type": "code",
   "execution_count": 19,
   "metadata": {},
   "outputs": [
    {
     "data": {
      "text/plain": [
       "0"
      ]
     },
     "execution_count": 19,
     "metadata": {},
     "output_type": "execute_result"
    },
    {
     "data": {
      "text/plain": [
       "0"
      ]
     },
     "execution_count": 19,
     "metadata": {},
     "output_type": "execute_result"
    },
    {
     "data": {
      "text/plain": [
       "54"
      ]
     },
     "execution_count": 19,
     "metadata": {},
     "output_type": "execute_result"
    }
   ],
   "source": [
    "len(family_intersection) # genera found in both\n",
    "len(family_amp_only) # genera found in amplicon only\n",
    "len(family_mgx_only) # genera found in mgx only"
   ]
  },
  {
   "cell_type": "code",
   "execution_count": 20,
   "metadata": {},
   "outputs": [],
   "source": [
    "# mgx species\n",
    "\n",
    "df_from_each_file = []\n",
    "unclassified_list = []\n",
    "\n",
    "for f in all_files:\n",
    "    df = pd.read_csv(f, sep = '\\t', skiprows=[0,1,2], usecols = ['#clade_name','relative_abundance']) # read in dataframe \n",
    "    \n",
    "    id_1 = f.split('profiles/')[1] # add sample id from filename \n",
    "    id_2 = id_1.split('_S')[0]\n",
    "    df[\"sampleid\"] = id_2\n",
    "    \n",
    "    df.rename(columns = {'#clade_name':'taxa', 'relative_abundance':'abundance'}, inplace = True) \n",
    "    \n",
    "    df = df[df['taxa'].str.contains(\"\\|s__\")] # keep families genera\n",
    "    df = df[~df['taxa'].str.contains(\"\\|t__\")] # remove genera\n",
    "\n",
    "    df[\"taxa\"] = df['taxa'].str.split(\"\\|s__\").str[-1]\n",
    "#     df[\"taxa\"] = df['taxa'].str.split(\"\\|s__\").str[0]\n",
    "    \n",
    "    # percent unclassified organisms profiled with mgx\n",
    "    unclassified = sum(df.taxa.str.contains(\"_unclassified| noname | Candidatus\"))/df.shape[0]\n",
    "    unclassified_list.append(unclassified)\n",
    "    \n",
    "    # remove unclassified\n",
    "    df = df[~df.taxa.str.contains(\"_unclassified\")]\n",
    "    df = df[~df.taxa.str.contains(\"_noname\")]\n",
    "    df = df[~df.taxa.str.contains(\"Candidatus\")]\n",
    "    \n",
    "    # combine together taxa of the same genera\n",
    "    df = df.groupby(['taxa', 'sampleid'])['abundance'].sum().reset_index()    \n",
    "    \n",
    "    # convert to relative abundance\n",
    "    df[\"abundance\"] = df[\"abundance\"]/100.0\n",
    "    \n",
    "    df_from_each_file.append(df)\n"
   ]
  },
  {
   "cell_type": "code",
   "execution_count": 21,
   "metadata": {},
   "outputs": [],
   "source": [
    "mgx_species = pd.concat(df_from_each_file, ignore_index=True) # concat all dataframes together"
   ]
  },
  {
   "cell_type": "code",
   "execution_count": 22,
   "metadata": {},
   "outputs": [
    {
     "data": {
      "text/html": [
       "<div>\n",
       "<style scoped>\n",
       "    .dataframe tbody tr th:only-of-type {\n",
       "        vertical-align: middle;\n",
       "    }\n",
       "\n",
       "    .dataframe tbody tr th {\n",
       "        vertical-align: top;\n",
       "    }\n",
       "\n",
       "    .dataframe thead th {\n",
       "        text-align: right;\n",
       "    }\n",
       "</style>\n",
       "<table border=\"1\" class=\"dataframe\">\n",
       "  <thead>\n",
       "    <tr style=\"text-align: right;\">\n",
       "      <th></th>\n",
       "      <th>taxa</th>\n",
       "      <th>sampleid</th>\n",
       "      <th>abundance</th>\n",
       "    </tr>\n",
       "  </thead>\n",
       "  <tbody>\n",
       "    <tr>\n",
       "      <th>0</th>\n",
       "      <td>Agathobaculum_butyriciproducens</td>\n",
       "      <td>C0047-7E-1A</td>\n",
       "      <td>0.001349</td>\n",
       "    </tr>\n",
       "    <tr>\n",
       "      <th>1</th>\n",
       "      <td>Alistipes_finegoldii</td>\n",
       "      <td>C0047-7E-1A</td>\n",
       "      <td>0.000892</td>\n",
       "    </tr>\n",
       "    <tr>\n",
       "      <th>2</th>\n",
       "      <td>Alistipes_putredinis</td>\n",
       "      <td>C0047-7E-1A</td>\n",
       "      <td>0.033009</td>\n",
       "    </tr>\n",
       "    <tr>\n",
       "      <th>3</th>\n",
       "      <td>Alistipes_shahii</td>\n",
       "      <td>C0047-7E-1A</td>\n",
       "      <td>0.002187</td>\n",
       "    </tr>\n",
       "    <tr>\n",
       "      <th>4</th>\n",
       "      <td>Anaerostipes_hadrus</td>\n",
       "      <td>C0047-7E-1A</td>\n",
       "      <td>0.010047</td>\n",
       "    </tr>\n",
       "  </tbody>\n",
       "</table>\n",
       "</div>"
      ],
      "text/plain": [
       "                              taxa     sampleid  abundance\n",
       "0  Agathobaculum_butyriciproducens  C0047-7E-1A   0.001349\n",
       "1             Alistipes_finegoldii  C0047-7E-1A   0.000892\n",
       "2             Alistipes_putredinis  C0047-7E-1A   0.033009\n",
       "3                 Alistipes_shahii  C0047-7E-1A   0.002187\n",
       "4              Anaerostipes_hadrus  C0047-7E-1A   0.010047"
      ]
     },
     "execution_count": 22,
     "metadata": {},
     "output_type": "execute_result"
    }
   ],
   "source": [
    "mgx_species.head()"
   ]
  },
  {
   "cell_type": "code",
   "execution_count": 23,
   "metadata": {},
   "outputs": [
    {
     "data": {
      "text/html": [
       "<div>\n",
       "<style scoped>\n",
       "    .dataframe tbody tr th:only-of-type {\n",
       "        vertical-align: middle;\n",
       "    }\n",
       "\n",
       "    .dataframe tbody tr th {\n",
       "        vertical-align: top;\n",
       "    }\n",
       "\n",
       "    .dataframe thead th {\n",
       "        text-align: right;\n",
       "    }\n",
       "</style>\n",
       "<table border=\"1\" class=\"dataframe\">\n",
       "  <thead>\n",
       "    <tr style=\"text-align: right;\">\n",
       "      <th></th>\n",
       "      <th>taxa</th>\n",
       "      <th>C0047-7E-1A</th>\n",
       "      <th>C0052-7E-1A</th>\n",
       "      <th>C0053-8E-1A</th>\n",
       "      <th>C0058-4E-1A</th>\n",
       "      <th>C0059-4E-1A</th>\n",
       "      <th>C0106-6E-1A</th>\n",
       "      <th>C0107-4E-1A</th>\n",
       "      <th>C0123-3E-1A</th>\n",
       "      <th>C0126-9E-1A</th>\n",
       "      <th>...</th>\n",
       "      <th>C1102-1F-1A</th>\n",
       "      <th>C1109-4F-1A</th>\n",
       "      <th>C1115-4F-1A</th>\n",
       "      <th>C1135-4F-1A</th>\n",
       "      <th>C1160-3F-1A</th>\n",
       "      <th>C1177-4F-1A</th>\n",
       "      <th>C1219-3F-1A</th>\n",
       "      <th>C2002-3E-1A</th>\n",
       "      <th>C2014-2E-1A</th>\n",
       "      <th>C2018-3E-1A</th>\n",
       "    </tr>\n",
       "  </thead>\n",
       "  <tbody>\n",
       "    <tr>\n",
       "      <th>0</th>\n",
       "      <td>D_0__Bacteria; D_1__Bacteroidetes; D_2__Bacter...</td>\n",
       "      <td>0.0</td>\n",
       "      <td>1163.0</td>\n",
       "      <td>0.0</td>\n",
       "      <td>0.0</td>\n",
       "      <td>0.0</td>\n",
       "      <td>0.0</td>\n",
       "      <td>0.0</td>\n",
       "      <td>214.0</td>\n",
       "      <td>1476.0</td>\n",
       "      <td>...</td>\n",
       "      <td>369.0</td>\n",
       "      <td>0.0</td>\n",
       "      <td>0.0</td>\n",
       "      <td>0.0</td>\n",
       "      <td>9.0</td>\n",
       "      <td>336.0</td>\n",
       "      <td>0.0</td>\n",
       "      <td>577.0</td>\n",
       "      <td>0.0</td>\n",
       "      <td>376.0</td>\n",
       "    </tr>\n",
       "    <tr>\n",
       "      <th>1</th>\n",
       "      <td>D_0__Bacteria; D_1__Proteobacteria; D_2__Gamma...</td>\n",
       "      <td>0.0</td>\n",
       "      <td>5.0</td>\n",
       "      <td>42.0</td>\n",
       "      <td>0.0</td>\n",
       "      <td>0.0</td>\n",
       "      <td>7.0</td>\n",
       "      <td>0.0</td>\n",
       "      <td>0.0</td>\n",
       "      <td>0.0</td>\n",
       "      <td>...</td>\n",
       "      <td>4.0</td>\n",
       "      <td>0.0</td>\n",
       "      <td>637.0</td>\n",
       "      <td>593.0</td>\n",
       "      <td>1559.0</td>\n",
       "      <td>0.0</td>\n",
       "      <td>14633.0</td>\n",
       "      <td>18.0</td>\n",
       "      <td>1574.0</td>\n",
       "      <td>13.0</td>\n",
       "    </tr>\n",
       "    <tr>\n",
       "      <th>2</th>\n",
       "      <td>D_0__Bacteria; D_1__Bacteroidetes; D_2__Bacter...</td>\n",
       "      <td>0.0</td>\n",
       "      <td>1595.0</td>\n",
       "      <td>0.0</td>\n",
       "      <td>0.0</td>\n",
       "      <td>0.0</td>\n",
       "      <td>0.0</td>\n",
       "      <td>7.0</td>\n",
       "      <td>0.0</td>\n",
       "      <td>0.0</td>\n",
       "      <td>...</td>\n",
       "      <td>826.0</td>\n",
       "      <td>0.0</td>\n",
       "      <td>0.0</td>\n",
       "      <td>0.0</td>\n",
       "      <td>0.0</td>\n",
       "      <td>0.0</td>\n",
       "      <td>0.0</td>\n",
       "      <td>0.0</td>\n",
       "      <td>0.0</td>\n",
       "      <td>8823.0</td>\n",
       "    </tr>\n",
       "    <tr>\n",
       "      <th>3</th>\n",
       "      <td>D_0__Bacteria; D_1__Bacteroidetes; D_2__Bacter...</td>\n",
       "      <td>0.0</td>\n",
       "      <td>114.0</td>\n",
       "      <td>0.0</td>\n",
       "      <td>0.0</td>\n",
       "      <td>0.0</td>\n",
       "      <td>0.0</td>\n",
       "      <td>0.0</td>\n",
       "      <td>79.0</td>\n",
       "      <td>533.0</td>\n",
       "      <td>...</td>\n",
       "      <td>420.0</td>\n",
       "      <td>19.0</td>\n",
       "      <td>0.0</td>\n",
       "      <td>32.0</td>\n",
       "      <td>0.0</td>\n",
       "      <td>0.0</td>\n",
       "      <td>1801.0</td>\n",
       "      <td>889.0</td>\n",
       "      <td>0.0</td>\n",
       "      <td>0.0</td>\n",
       "    </tr>\n",
       "    <tr>\n",
       "      <th>4</th>\n",
       "      <td>D_0__Bacteria; D_1__Bacteroidetes; D_2__Bacter...</td>\n",
       "      <td>1289.0</td>\n",
       "      <td>0.0</td>\n",
       "      <td>0.0</td>\n",
       "      <td>2493.0</td>\n",
       "      <td>5670.0</td>\n",
       "      <td>4056.0</td>\n",
       "      <td>1143.0</td>\n",
       "      <td>0.0</td>\n",
       "      <td>0.0</td>\n",
       "      <td>...</td>\n",
       "      <td>831.0</td>\n",
       "      <td>0.0</td>\n",
       "      <td>0.0</td>\n",
       "      <td>0.0</td>\n",
       "      <td>0.0</td>\n",
       "      <td>13995.0</td>\n",
       "      <td>0.0</td>\n",
       "      <td>198.0</td>\n",
       "      <td>0.0</td>\n",
       "      <td>0.0</td>\n",
       "    </tr>\n",
       "  </tbody>\n",
       "</table>\n",
       "<p>5 rows × 131 columns</p>\n",
       "</div>"
      ],
      "text/plain": [
       "                                                taxa  C0047-7E-1A  \\\n",
       "0  D_0__Bacteria; D_1__Bacteroidetes; D_2__Bacter...          0.0   \n",
       "1  D_0__Bacteria; D_1__Proteobacteria; D_2__Gamma...          0.0   \n",
       "2  D_0__Bacteria; D_1__Bacteroidetes; D_2__Bacter...          0.0   \n",
       "3  D_0__Bacteria; D_1__Bacteroidetes; D_2__Bacter...          0.0   \n",
       "4  D_0__Bacteria; D_1__Bacteroidetes; D_2__Bacter...       1289.0   \n",
       "\n",
       "   C0052-7E-1A  C0053-8E-1A  C0058-4E-1A  C0059-4E-1A  C0106-6E-1A  \\\n",
       "0       1163.0          0.0          0.0          0.0          0.0   \n",
       "1          5.0         42.0          0.0          0.0          7.0   \n",
       "2       1595.0          0.0          0.0          0.0          0.0   \n",
       "3        114.0          0.0          0.0          0.0          0.0   \n",
       "4          0.0          0.0       2493.0       5670.0       4056.0   \n",
       "\n",
       "   C0107-4E-1A  C0123-3E-1A  C0126-9E-1A  ...  C1102-1F-1A  C1109-4F-1A  \\\n",
       "0          0.0        214.0       1476.0  ...        369.0          0.0   \n",
       "1          0.0          0.0          0.0  ...          4.0          0.0   \n",
       "2          7.0          0.0          0.0  ...        826.0          0.0   \n",
       "3          0.0         79.0        533.0  ...        420.0         19.0   \n",
       "4       1143.0          0.0          0.0  ...        831.0          0.0   \n",
       "\n",
       "   C1115-4F-1A  C1135-4F-1A  C1160-3F-1A  C1177-4F-1A  C1219-3F-1A  \\\n",
       "0          0.0          0.0          9.0        336.0          0.0   \n",
       "1        637.0        593.0       1559.0          0.0      14633.0   \n",
       "2          0.0          0.0          0.0          0.0          0.0   \n",
       "3          0.0         32.0          0.0          0.0       1801.0   \n",
       "4          0.0          0.0          0.0      13995.0          0.0   \n",
       "\n",
       "   C2002-3E-1A  C2014-2E-1A  C2018-3E-1A  \n",
       "0        577.0          0.0        376.0  \n",
       "1         18.0       1574.0         13.0  \n",
       "2          0.0          0.0       8823.0  \n",
       "3        889.0          0.0          0.0  \n",
       "4        198.0          0.0          0.0  \n",
       "\n",
       "[5 rows x 131 columns]"
      ]
     },
     "execution_count": 23,
     "metadata": {},
     "output_type": "execute_result"
    }
   ],
   "source": [
    "amplicon.head()"
   ]
  },
  {
   "cell_type": "code",
   "execution_count": 24,
   "metadata": {},
   "outputs": [],
   "source": [
    "# clean taxonomic names\n",
    "# keep only species\n",
    "amplicon_species = amplicon\n",
    "amplicon_species[\"taxa\"] = amplicon_species['taxa'].str.split(\"D_6__\", expand=True)[1]"
   ]
  },
  {
   "cell_type": "code",
   "execution_count": 25,
   "metadata": {},
   "outputs": [],
   "source": [
    "amplicon_species = amplicon.dropna()"
   ]
  },
  {
   "cell_type": "code",
   "execution_count": 26,
   "metadata": {},
   "outputs": [],
   "source": [
    "# remove if genus is less than 5 characters\n",
    "remove = list(set([name for name in amplicon_species[\"taxa\"] if len(name)<5]))"
   ]
  },
  {
   "cell_type": "code",
   "execution_count": 27,
   "metadata": {},
   "outputs": [],
   "source": [
    "# remove if numbers in genus\n",
    "remove2 = list(set([name for name in amplicon_species[\"taxa\"] if not name.isalpha()]))\n",
    "# remove if Candidatus in genus\n",
    "remove3 = list(set([name for name in amplicon_species[\"taxa\"] if \"Candidatus\" in name]))\n",
    "remove_list = remove + remove2 + remove3 + [\"uncultured\", \"Family\", \"None\", \"Clade\", \n",
    "                                            \"Subgroup\", \"Ruminococcaceae\"]\n",
    "amplicon_species = amplicon_species[~amplicon_species.taxa.isin(remove_list)]"
   ]
  },
  {
   "cell_type": "code",
   "execution_count": 28,
   "metadata": {},
   "outputs": [
    {
     "data": {
      "text/html": [
       "<div>\n",
       "<style scoped>\n",
       "    .dataframe tbody tr th:only-of-type {\n",
       "        vertical-align: middle;\n",
       "    }\n",
       "\n",
       "    .dataframe tbody tr th {\n",
       "        vertical-align: top;\n",
       "    }\n",
       "\n",
       "    .dataframe thead th {\n",
       "        text-align: right;\n",
       "    }\n",
       "</style>\n",
       "<table border=\"1\" class=\"dataframe\">\n",
       "  <thead>\n",
       "    <tr style=\"text-align: right;\">\n",
       "      <th></th>\n",
       "      <th>taxa</th>\n",
       "      <th>C0047-7E-1A</th>\n",
       "      <th>C0052-7E-1A</th>\n",
       "      <th>C0053-8E-1A</th>\n",
       "      <th>C0058-4E-1A</th>\n",
       "      <th>C0059-4E-1A</th>\n",
       "      <th>C0106-6E-1A</th>\n",
       "      <th>C0107-4E-1A</th>\n",
       "      <th>C0123-3E-1A</th>\n",
       "      <th>C0126-9E-1A</th>\n",
       "      <th>...</th>\n",
       "      <th>C1102-1F-1A</th>\n",
       "      <th>C1109-4F-1A</th>\n",
       "      <th>C1115-4F-1A</th>\n",
       "      <th>C1135-4F-1A</th>\n",
       "      <th>C1160-3F-1A</th>\n",
       "      <th>C1177-4F-1A</th>\n",
       "      <th>C1219-3F-1A</th>\n",
       "      <th>C2002-3E-1A</th>\n",
       "      <th>C2014-2E-1A</th>\n",
       "      <th>C2018-3E-1A</th>\n",
       "    </tr>\n",
       "  </thead>\n",
       "  <tbody>\n",
       "    <tr>\n",
       "      <th>121</th>\n",
       "      <td>metagenome</td>\n",
       "      <td>50.0</td>\n",
       "      <td>47.0</td>\n",
       "      <td>90.0</td>\n",
       "      <td>247.0</td>\n",
       "      <td>154.0</td>\n",
       "      <td>0.0</td>\n",
       "      <td>0.0</td>\n",
       "      <td>33.0</td>\n",
       "      <td>156.0</td>\n",
       "      <td>...</td>\n",
       "      <td>60.0</td>\n",
       "      <td>0.0</td>\n",
       "      <td>0.0</td>\n",
       "      <td>0.0</td>\n",
       "      <td>0.0</td>\n",
       "      <td>0.0</td>\n",
       "      <td>0.0</td>\n",
       "      <td>0.0</td>\n",
       "      <td>0.0</td>\n",
       "      <td>836.0</td>\n",
       "    </tr>\n",
       "    <tr>\n",
       "      <th>152</th>\n",
       "      <td>metagenome</td>\n",
       "      <td>0.0</td>\n",
       "      <td>0.0</td>\n",
       "      <td>0.0</td>\n",
       "      <td>941.0</td>\n",
       "      <td>72.0</td>\n",
       "      <td>108.0</td>\n",
       "      <td>0.0</td>\n",
       "      <td>15.0</td>\n",
       "      <td>0.0</td>\n",
       "      <td>...</td>\n",
       "      <td>0.0</td>\n",
       "      <td>0.0</td>\n",
       "      <td>0.0</td>\n",
       "      <td>0.0</td>\n",
       "      <td>0.0</td>\n",
       "      <td>0.0</td>\n",
       "      <td>0.0</td>\n",
       "      <td>2281.0</td>\n",
       "      <td>0.0</td>\n",
       "      <td>0.0</td>\n",
       "    </tr>\n",
       "    <tr>\n",
       "      <th>270</th>\n",
       "      <td>unidentified</td>\n",
       "      <td>0.0</td>\n",
       "      <td>0.0</td>\n",
       "      <td>0.0</td>\n",
       "      <td>0.0</td>\n",
       "      <td>0.0</td>\n",
       "      <td>0.0</td>\n",
       "      <td>0.0</td>\n",
       "      <td>0.0</td>\n",
       "      <td>0.0</td>\n",
       "      <td>...</td>\n",
       "      <td>0.0</td>\n",
       "      <td>0.0</td>\n",
       "      <td>0.0</td>\n",
       "      <td>0.0</td>\n",
       "      <td>0.0</td>\n",
       "      <td>0.0</td>\n",
       "      <td>0.0</td>\n",
       "      <td>0.0</td>\n",
       "      <td>0.0</td>\n",
       "      <td>0.0</td>\n",
       "    </tr>\n",
       "    <tr>\n",
       "      <th>447</th>\n",
       "      <td>metagenome</td>\n",
       "      <td>91.0</td>\n",
       "      <td>0.0</td>\n",
       "      <td>10.0</td>\n",
       "      <td>0.0</td>\n",
       "      <td>0.0</td>\n",
       "      <td>95.0</td>\n",
       "      <td>0.0</td>\n",
       "      <td>0.0</td>\n",
       "      <td>0.0</td>\n",
       "      <td>...</td>\n",
       "      <td>0.0</td>\n",
       "      <td>0.0</td>\n",
       "      <td>0.0</td>\n",
       "      <td>0.0</td>\n",
       "      <td>0.0</td>\n",
       "      <td>0.0</td>\n",
       "      <td>0.0</td>\n",
       "      <td>0.0</td>\n",
       "      <td>0.0</td>\n",
       "      <td>0.0</td>\n",
       "    </tr>\n",
       "    <tr>\n",
       "      <th>470</th>\n",
       "      <td>metagenome</td>\n",
       "      <td>0.0</td>\n",
       "      <td>0.0</td>\n",
       "      <td>0.0</td>\n",
       "      <td>0.0</td>\n",
       "      <td>0.0</td>\n",
       "      <td>0.0</td>\n",
       "      <td>0.0</td>\n",
       "      <td>0.0</td>\n",
       "      <td>0.0</td>\n",
       "      <td>...</td>\n",
       "      <td>71.0</td>\n",
       "      <td>0.0</td>\n",
       "      <td>0.0</td>\n",
       "      <td>0.0</td>\n",
       "      <td>0.0</td>\n",
       "      <td>0.0</td>\n",
       "      <td>0.0</td>\n",
       "      <td>0.0</td>\n",
       "      <td>0.0</td>\n",
       "      <td>0.0</td>\n",
       "    </tr>\n",
       "  </tbody>\n",
       "</table>\n",
       "<p>5 rows × 131 columns</p>\n",
       "</div>"
      ],
      "text/plain": [
       "             taxa  C0047-7E-1A  C0052-7E-1A  C0053-8E-1A  C0058-4E-1A  \\\n",
       "121    metagenome         50.0         47.0         90.0        247.0   \n",
       "152    metagenome          0.0          0.0          0.0        941.0   \n",
       "270  unidentified          0.0          0.0          0.0          0.0   \n",
       "447    metagenome         91.0          0.0         10.0          0.0   \n",
       "470    metagenome          0.0          0.0          0.0          0.0   \n",
       "\n",
       "     C0059-4E-1A  C0106-6E-1A  C0107-4E-1A  C0123-3E-1A  C0126-9E-1A  ...  \\\n",
       "121        154.0          0.0          0.0         33.0        156.0  ...   \n",
       "152         72.0        108.0          0.0         15.0          0.0  ...   \n",
       "270          0.0          0.0          0.0          0.0          0.0  ...   \n",
       "447          0.0         95.0          0.0          0.0          0.0  ...   \n",
       "470          0.0          0.0          0.0          0.0          0.0  ...   \n",
       "\n",
       "     C1102-1F-1A  C1109-4F-1A  C1115-4F-1A  C1135-4F-1A  C1160-3F-1A  \\\n",
       "121         60.0          0.0          0.0          0.0          0.0   \n",
       "152          0.0          0.0          0.0          0.0          0.0   \n",
       "270          0.0          0.0          0.0          0.0          0.0   \n",
       "447          0.0          0.0          0.0          0.0          0.0   \n",
       "470         71.0          0.0          0.0          0.0          0.0   \n",
       "\n",
       "     C1177-4F-1A  C1219-3F-1A  C2002-3E-1A  C2014-2E-1A  C2018-3E-1A  \n",
       "121          0.0          0.0          0.0          0.0        836.0  \n",
       "152          0.0          0.0       2281.0          0.0          0.0  \n",
       "270          0.0          0.0          0.0          0.0          0.0  \n",
       "447          0.0          0.0          0.0          0.0          0.0  \n",
       "470          0.0          0.0          0.0          0.0          0.0  \n",
       "\n",
       "[5 rows x 131 columns]"
      ]
     },
     "execution_count": 28,
     "metadata": {},
     "output_type": "execute_result"
    }
   ],
   "source": [
    "amplicon_species.head()"
   ]
  },
  {
   "cell_type": "code",
   "execution_count": 36,
   "metadata": {},
   "outputs": [],
   "source": [
    "species_amplicon_list = set(amplicon_species[\"taxa\"])\n",
    "species_mgx_list = set(mgx_species[\"taxa\"])"
   ]
  },
  {
   "cell_type": "code",
   "execution_count": 37,
   "metadata": {},
   "outputs": [],
   "source": [
    "species_intersection = [taxa for taxa in species_amplicon_list.intersection(species_mgx_list) if taxa not in exclude]\n",
    "species_union = [taxa for taxa in species_amplicon_list.union(species_mgx_list) if taxa not in exclude]"
   ]
  },
  {
   "cell_type": "code",
   "execution_count": 38,
   "metadata": {},
   "outputs": [],
   "source": [
    "species_amp_only = [taxa for taxa in species_amplicon_list.difference(species_intersection) if taxa not in exclude]\n",
    "species_mgx_only = [taxa for taxa in species_mgx_list.difference(species_intersection) if taxa not in exclude]"
   ]
  },
  {
   "cell_type": "code",
   "execution_count": 39,
   "metadata": {},
   "outputs": [
    {
     "data": {
      "text/plain": [
       "0"
      ]
     },
     "execution_count": 39,
     "metadata": {},
     "output_type": "execute_result"
    },
    {
     "data": {
      "text/plain": [
       "2"
      ]
     },
     "execution_count": 39,
     "metadata": {},
     "output_type": "execute_result"
    },
    {
     "data": {
      "text/plain": [
       "385"
      ]
     },
     "execution_count": 39,
     "metadata": {},
     "output_type": "execute_result"
    }
   ],
   "source": [
    "len(species_intersection) # genera found in both\n",
    "len(species_amp_only) # genera found in amplicon only\n",
    "len(species_mgx_only) # genera found in mgx only"
   ]
  },
  {
   "cell_type": "code",
   "execution_count": null,
   "metadata": {},
   "outputs": [],
   "source": []
  }
 ],
 "metadata": {
  "kernelspec": {
   "display_name": "Python 3",
   "language": "python",
   "name": "python3"
  },
  "language_info": {
   "codemirror_mode": {
    "name": "ipython",
    "version": 3
   },
   "file_extension": ".py",
   "mimetype": "text/x-python",
   "name": "python",
   "nbconvert_exporter": "python",
   "pygments_lexer": "ipython3",
   "version": "3.7.4"
  }
 },
 "nbformat": 4,
 "nbformat_minor": 2
}
