{
 "cells": [
  {
   "cell_type": "code",
   "execution_count": null,
   "metadata": {},
   "outputs": [],
   "source": [
    "from IPython.core.interactiveshell import InteractiveShell\n",
    "InteractiveShell.ast_node_interactivity = \"all\"\n",
    "\n",
    "import pandas as pd\n",
    "import csv\n",
    "import janitor\n",
    "import numpy as np\n",
    "import rpy2.robjects as robjects"
   ]
  },
  {
   "cell_type": "code",
   "execution_count": null,
   "metadata": {},
   "outputs": [],
   "source": [
    "metadata = pd.read_csv(\"diabimmune_metadata.csv\")"
   ]
  },
  {
   "cell_type": "code",
   "execution_count": null,
   "metadata": {},
   "outputs": [],
   "source": [
    "metadata = metadata.transpose()"
   ]
  },
  {
   "cell_type": "code",
   "execution_count": null,
   "metadata": {},
   "outputs": [],
   "source": [
    "metadata.columns = metadata.iloc[0]\n",
    "metadata.drop([\"Unnamed: 0\"], inplace=True)"
   ]
  },
  {
   "cell_type": "code",
   "execution_count": null,
   "metadata": {
    "scrolled": true
   },
   "outputs": [],
   "source": [
    "metadata.head()"
   ]
  },
  {
   "cell_type": "code",
   "execution_count": null,
   "metadata": {},
   "outputs": [],
   "source": [
    "# map gid_16s to gid_wgs\n",
    "# keys are 16S ids, values are mgx ids\n",
    "\n",
    "id_mapping = pd.Series(metadata.gid_wgs.values,index=metadata.gid_16s).to_dict()"
   ]
  },
  {
   "cell_type": "markdown",
   "metadata": {},
   "source": [
    "## Importing metagenomics data"
   ]
  },
  {
   "cell_type": "markdown",
   "metadata": {},
   "source": [
    "### Genus "
   ]
  },
  {
   "cell_type": "code",
   "execution_count": null,
   "metadata": {
    "scrolled": true
   },
   "outputs": [],
   "source": [
    "# read in mgx data\n",
    "mgx_genus = pd.read_csv(\"diabimmune_mgx_genus.csv\")\n",
    "mgx_genus.rename(columns={'taxname': 'taxa'}, inplace=True)"
   ]
  },
  {
   "cell_type": "code",
   "execution_count": null,
   "metadata": {},
   "outputs": [],
   "source": [
    "# mgx_genus = mgx[mgx['taxa'].str.contains(\"\\|g__\")] # keep genera\n",
    "# mgx_genus = mgx_genus[~mgx_genus['taxa'].str.contains(\"\\|s__\")] # keep species\n",
    "# mgx_genus[\"taxa\"] = mgx_genus['taxa'].str.split(\"\\|g__\").str[-1]\n",
    "# mgx_genus[\"taxa\"] = mgx_genus['taxa'].str.split(\"\\|s__\").str[0]#"
   ]
  },
  {
   "cell_type": "code",
   "execution_count": null,
   "metadata": {},
   "outputs": [],
   "source": [
    "# remove taxa that are unclassified or have no name\n",
    "# \"_unclassified\"\n",
    "# \"_noname\"\n",
    "mgx_genus = mgx_genus[~mgx_genus.taxa.str.contains(\"_unclassified\")]\n",
    "mgx_genus = mgx_genus[~mgx_genus.taxa.str.contains(\"_noname\")]\n",
    "mgx_genus = mgx_genus[~mgx_genus.taxa.str.contains(\"virus\")]\n",
    "mgx_genus = mgx_genus[~mgx_genus.taxa.str.contains(\"Candidatus\")]\n",
    "mgx_genus = mgx_genus[~mgx_genus.taxa.str.contains(\"candidate\")]"
   ]
  },
  {
   "cell_type": "code",
   "execution_count": null,
   "metadata": {},
   "outputs": [],
   "source": [
    "mgx_genus = mgx_genus.groupby(['taxa']).sum().reset_index() "
   ]
  },
  {
   "cell_type": "code",
   "execution_count": null,
   "metadata": {},
   "outputs": [],
   "source": [
    "mgx_genus.head()"
   ]
  },
  {
   "cell_type": "markdown",
   "metadata": {},
   "source": [
    "### Families"
   ]
  },
  {
   "cell_type": "code",
   "execution_count": null,
   "metadata": {},
   "outputs": [],
   "source": [
    "mgx_family = pd.read_csv(\"diabimmune_mgx_family.csv\")"
   ]
  },
  {
   "cell_type": "code",
   "execution_count": null,
   "metadata": {},
   "outputs": [],
   "source": [
    "mgx_family.head()"
   ]
  },
  {
   "cell_type": "markdown",
   "metadata": {},
   "source": [
    "### Looking at species in metagenomic data"
   ]
  },
  {
   "cell_type": "code",
   "execution_count": null,
   "metadata": {},
   "outputs": [],
   "source": [
    "# mgx_species = mgx[mgx['taxa'].str.contains(\"\\|s__\")] # keep families genera\n",
    "# mgx_species = mgx_species[~mgx_species['taxa'].str.contains(\"\\|t__\")] # remove genera\n",
    "\n",
    "# mgx_species[\"taxa\"] = mgx_species['taxa'].str.split(\"\\|s__\").str[-1]"
   ]
  },
  {
   "cell_type": "code",
   "execution_count": null,
   "metadata": {},
   "outputs": [],
   "source": [
    "# mgx_species = mgx_species[~mgx_species.taxa.str.contains(\"_unclassified\")]\n",
    "# mgx_species = mgx_species[~mgx_species.taxa.str.contains(\"_noname\")]\n",
    "# mgx_species = mgx_species[~mgx_species.taxa.str.contains(\"virus\")]\n",
    "# mgx_species = mgx_species[~mgx_species.taxa.str.contains(\"Candidatus\")]\n",
    "# mgx_species = mgx_species[~mgx_species.taxa.str.contains(\"candidate\")]"
   ]
  },
  {
   "cell_type": "code",
   "execution_count": null,
   "metadata": {},
   "outputs": [],
   "source": [
    "# mgx_species = mgx_species.groupby(['taxa']).sum().reset_index() "
   ]
  },
  {
   "cell_type": "code",
   "execution_count": null,
   "metadata": {},
   "outputs": [],
   "source": [
    "mgx_species = pd.read_csv(\"diabimmune_mgx_species.csv\")\n",
    "# mgx_genus.rename(columns={'taxname': 'taxa'}, inplace=True)"
   ]
  },
  {
   "cell_type": "code",
   "execution_count": null,
   "metadata": {},
   "outputs": [],
   "source": [
    "mgx_species.head()"
   ]
  },
  {
   "cell_type": "code",
   "execution_count": null,
   "metadata": {},
   "outputs": [],
   "source": [
    "len(mgx_species)"
   ]
  },
  {
   "cell_type": "markdown",
   "metadata": {},
   "source": [
    "## Importing amplicon data"
   ]
  },
  {
   "cell_type": "markdown",
   "metadata": {},
   "source": [
    "### Genus"
   ]
  },
  {
   "cell_type": "code",
   "execution_count": null,
   "metadata": {},
   "outputs": [],
   "source": [
    "# read in 16S data\n",
    "\n",
    "amp_genus = pd.read_csv(\"karalia_dada2_genera.csv\")\n",
    "amp_genus.rename(columns={'genus': 'taxa'}, inplace=True)"
   ]
  },
  {
   "cell_type": "code",
   "execution_count": null,
   "metadata": {},
   "outputs": [],
   "source": [
    "amp_genus.head()"
   ]
  },
  {
   "cell_type": "code",
   "execution_count": null,
   "metadata": {},
   "outputs": [],
   "source": [
    "# remove taxa that are unclassified or have no name\n",
    "# \"_unclassified\"\n",
    "# \"_noname\"\n",
    "amp_genus = amp_genus[~amp_genus.taxa.str.contains(\"_unclassified\")]\n",
    "amp_genus = amp_genus[~amp_genus.taxa.str.contains(\"_noname\")]\n",
    "amp_genus = amp_genus[~amp_genus.taxa.str.contains(\"virus\")]\n",
    "amp_genus = amp_genus[~amp_genus.taxa.str.contains(\"Candidatus\")]\n",
    "amp_genus = amp_genus[~amp_genus.taxa.str.contains(r'[0-9]')]\n",
    "amp_genus = amp_genus[~amp_genus.taxa.str.contains(\"group\")]\n",
    "amp_genus['taxa'].replace('', np.nan, inplace=True)\n",
    "amp_genus.dropna(subset=['taxa'], inplace=True)"
   ]
  },
  {
   "cell_type": "code",
   "execution_count": null,
   "metadata": {},
   "outputs": [],
   "source": [
    "amp_genus.taxa = amp_genus.taxa = amp_genus.taxa.str.strip('[]')"
   ]
  },
  {
   "cell_type": "code",
   "execution_count": null,
   "metadata": {},
   "outputs": [],
   "source": [
    "# remove digits\n",
    "amp_genus.taxa = amp_genus[~amp_genus.taxa.str.contains(r'\\d')]"
   ]
  },
  {
   "cell_type": "code",
   "execution_count": null,
   "metadata": {},
   "outputs": [],
   "source": [
    "amp_genus = amp_genus.groupby(['taxa']).sum().reset_index() "
   ]
  },
  {
   "cell_type": "code",
   "execution_count": null,
   "metadata": {},
   "outputs": [],
   "source": [
    "amp_genus = pd.DataFrame(amp_genus).rename(columns=id_mapping)"
   ]
  },
  {
   "cell_type": "code",
   "execution_count": null,
   "metadata": {},
   "outputs": [],
   "source": [
    "amp_genus = amp_genus.loc[:, amp_genus.columns.notnull()]"
   ]
  },
  {
   "cell_type": "code",
   "execution_count": null,
   "metadata": {},
   "outputs": [],
   "source": [
    "amp_genus.head()"
   ]
  },
  {
   "cell_type": "code",
   "execution_count": null,
   "metadata": {},
   "outputs": [],
   "source": [
    "amp_genus.shape"
   ]
  },
  {
   "cell_type": "code",
   "execution_count": null,
   "metadata": {},
   "outputs": [],
   "source": [
    "mgx_genus.shape"
   ]
  },
  {
   "cell_type": "markdown",
   "metadata": {},
   "source": [
    "### amplicon family"
   ]
  },
  {
   "cell_type": "code",
   "execution_count": null,
   "metadata": {},
   "outputs": [],
   "source": [
    "# amp_family = amp[amp['taxa'].str.contains(\"\\|f__\")] # keep families genera\n",
    "# amp_family = amp_family[~amp_family['taxa'].str.contains(\"\\|g__\")] # remove genera\n",
    "\n",
    "# amp_family[\"taxa\"] = amp_family['taxa'].str.split(\"\\|f__\").str[-1]"
   ]
  },
  {
   "cell_type": "code",
   "execution_count": null,
   "metadata": {},
   "outputs": [],
   "source": [
    "# amp_family = amp_family[~amp_family.taxa.str.contains(\"_unclassified\")]\n",
    "# amp_family = amp_family[~amp_family.taxa.str.contains(\"_noname\")]\n",
    "# amp_family = amp_family[~amp_family.taxa.str.contains(\"virus\")]\n",
    "# amp_family = amp_family[~amp_family.taxa.str.contains(\"Candidatus\")]\n",
    "# amp_family = amp_family[~amp_family.taxa.str.contains(r'[0-9]')]\n",
    "# amp_family = amp_family[~amp_family.taxa.str.contains(\"group\")]\n",
    "# amp_family['taxa'].replace('', np.nan, inplace=True)\n",
    "# amp_family.dropna(subset=['taxa'], inplace=True)"
   ]
  },
  {
   "cell_type": "code",
   "execution_count": null,
   "metadata": {},
   "outputs": [],
   "source": [
    "# amp_family = amp_family.groupby(['taxa']).sum().reset_index() "
   ]
  },
  {
   "cell_type": "code",
   "execution_count": null,
   "metadata": {},
   "outputs": [],
   "source": [
    "# amp_family.sort_values(by = \"taxa\", ascending=True, inplace=True)"
   ]
  },
  {
   "cell_type": "code",
   "execution_count": null,
   "metadata": {},
   "outputs": [],
   "source": [
    "amp_family = pd.read_csv(\"karalia_dada2_family.csv\")\n",
    "amp_family.rename(columns={'family': 'taxa'}, inplace=True)"
   ]
  },
  {
   "cell_type": "code",
   "execution_count": null,
   "metadata": {},
   "outputs": [],
   "source": [
    "amp_family.head()"
   ]
  },
  {
   "cell_type": "code",
   "execution_count": null,
   "metadata": {},
   "outputs": [],
   "source": [
    "# ratio of unclassified genera for 16S profiling\n",
    "# sum(amplicon.taxa.str.contains(\"_unclassified| unidentified| uncultured| group\"))/amplicon.shape[0]"
   ]
  },
  {
   "cell_type": "code",
   "execution_count": null,
   "metadata": {},
   "outputs": [],
   "source": [
    "# amplicon.to_csv('16S_abundance.csv')"
   ]
  },
  {
   "cell_type": "markdown",
   "metadata": {},
   "source": [
    "### amplicon species"
   ]
  },
  {
   "cell_type": "code",
   "execution_count": null,
   "metadata": {},
   "outputs": [],
   "source": [
    "amp_species = pd.read_csv(\"karalia_dada2_species.csv\")\n",
    "amp_species.rename(columns={'species': 'taxa'}, inplace=True)"
   ]
  },
  {
   "cell_type": "code",
   "execution_count": null,
   "metadata": {},
   "outputs": [],
   "source": [
    "amp_species[\"taxa\"] = amp_species['taxa'].str.replace('s__', '')"
   ]
  },
  {
   "cell_type": "code",
   "execution_count": null,
   "metadata": {},
   "outputs": [],
   "source": [
    "amp_species.head()"
   ]
  },
  {
   "cell_type": "markdown",
   "metadata": {},
   "source": [
    "### looking for the intersection of taxonomy at genus level\n",
    "#### calculate number of taxa in both vs. either one"
   ]
  },
  {
   "cell_type": "code",
   "execution_count": null,
   "metadata": {},
   "outputs": [],
   "source": [
    "# calculate number of taxa in both vs. either one"
   ]
  },
  {
   "cell_type": "code",
   "execution_count": null,
   "metadata": {},
   "outputs": [],
   "source": [
    "amplicon_genera_list = set(amp_genus[\"taxa\"])\n",
    "mgx_genera_list = set(mgx_genus[\"taxa\"])"
   ]
  },
  {
   "cell_type": "code",
   "execution_count": null,
   "metadata": {},
   "outputs": [],
   "source": [
    "intersection_genera = amplicon_genera_list.intersection(mgx_genera_list)\n",
    "union_genera = amplicon_genera_list.union(mgx_genera_list)"
   ]
  },
  {
   "cell_type": "code",
   "execution_count": null,
   "metadata": {},
   "outputs": [],
   "source": [
    "len(intersection_genera)\n",
    "len(amplicon_genera_list)-len(intersection_genera)\n",
    "len(mgx_genera_list)-len(intersection_genera)"
   ]
  },
  {
   "cell_type": "code",
   "execution_count": null,
   "metadata": {},
   "outputs": [],
   "source": [
    "amplicon_genera = amplicon_genera_list.difference(intersection_genera)\n",
    "mgx_genera = mgx_genera_list.difference(intersection_genera)"
   ]
  },
  {
   "cell_type": "code",
   "execution_count": null,
   "metadata": {},
   "outputs": [],
   "source": [
    "len(amplicon_genera)\n",
    "len(mgx_genera)"
   ]
  },
  {
   "cell_type": "markdown",
   "metadata": {},
   "source": [
    "### looking for the intersection of taxonomy at family level"
   ]
  },
  {
   "cell_type": "code",
   "execution_count": null,
   "metadata": {},
   "outputs": [],
   "source": [
    "amplicon_family_list = set(amp_family[\"taxa\"])\n",
    "mgx_family_list = set(mgx_family[\"taxname\"])\n",
    "\n",
    "intersection_family = amplicon_family_list.intersection(mgx_family_list)\n",
    "union_family = amplicon_family_list.union(mgx_family_list)\n",
    "\n",
    "len(intersection_family)\n",
    "len(amplicon_family_list)-len(intersection_family)\n",
    "len(mgx_family_list)-len(intersection_family)"
   ]
  },
  {
   "cell_type": "code",
   "execution_count": null,
   "metadata": {},
   "outputs": [],
   "source": [
    "amplicon_family = amplicon_family_list.difference(intersection_family)\n",
    "mgx_family = mgx_family_list.difference(intersection_family)\n",
    "\n",
    "len(amplicon_family)\n",
    "len(mgx_family)"
   ]
  },
  {
   "cell_type": "markdown",
   "metadata": {},
   "source": [
    "### looking for the intersection of taxonomy at species level"
   ]
  },
  {
   "cell_type": "code",
   "execution_count": null,
   "metadata": {},
   "outputs": [],
   "source": [
    "mgx_species.head()"
   ]
  },
  {
   "cell_type": "code",
   "execution_count": null,
   "metadata": {},
   "outputs": [],
   "source": [
    "amp_species.head()"
   ]
  },
  {
   "cell_type": "code",
   "execution_count": null,
   "metadata": {},
   "outputs": [],
   "source": [
    "amplicon_species_list = set(amp_species[\"taxa\"])\n",
    "mgx_species_list = set(mgx_species[\"taxname\"])\n",
    "\n",
    "intersection_species = amplicon_species_list.intersection(mgx_species_list)\n",
    "union_species = amplicon_species_list.union(mgx_species_list)\n",
    "\n",
    "len(intersection_species)\n",
    "len(amplicon_species_list)-len(intersection_species)\n",
    "len(mgx_species_list)-len(intersection_species)"
   ]
  },
  {
   "cell_type": "code",
   "execution_count": null,
   "metadata": {},
   "outputs": [],
   "source": [
    "amplicon_species = amplicon_species_list.difference(intersection_species)\n",
    "mgx_species = mgx_species_list.difference(intersection_species)\n",
    "\n",
    "len(amplicon_species)\n",
    "len(mgx_species)"
   ]
  },
  {
   "cell_type": "markdown",
   "metadata": {},
   "source": [
    "### creating long-form dataframe with data from both sequencing methods"
   ]
  },
  {
   "cell_type": "code",
   "execution_count": null,
   "metadata": {},
   "outputs": [],
   "source": [
    "mgx_genus.head()"
   ]
  },
  {
   "cell_type": "code",
   "execution_count": null,
   "metadata": {},
   "outputs": [],
   "source": [
    "amp_genus.head()"
   ]
  },
  {
   "cell_type": "code",
   "execution_count": null,
   "metadata": {},
   "outputs": [],
   "source": [
    "# only keeping samples we have both mgx and 16S profiles for\n",
    "samples_intersect = set(mgx_genus.columns.values).intersection(set(amp_genus.columns.values))"
   ]
  },
  {
   "cell_type": "code",
   "execution_count": null,
   "metadata": {},
   "outputs": [],
   "source": [
    "# remove mothers\n",
    "children_intersect = [id for id in samples_intersect if not id.startswith(\"M\")]"
   ]
  },
  {
   "cell_type": "code",
   "execution_count": null,
   "metadata": {},
   "outputs": [],
   "source": [
    "len(amp_genus.columns.values)"
   ]
  },
  {
   "cell_type": "code",
   "execution_count": null,
   "metadata": {},
   "outputs": [],
   "source": [
    "mgx_genus.columns.values"
   ]
  },
  {
   "cell_type": "code",
   "execution_count": null,
   "metadata": {},
   "outputs": [],
   "source": [
    "samples_intersect"
   ]
  },
  {
   "cell_type": "code",
   "execution_count": null,
   "metadata": {},
   "outputs": [],
   "source": [
    "len(samples_intersect)"
   ]
  },
  {
   "cell_type": "code",
   "execution_count": null,
   "metadata": {},
   "outputs": [],
   "source": [
    "metadata.head()"
   ]
  },
  {
   "cell_type": "code",
   "execution_count": null,
   "metadata": {},
   "outputs": [],
   "source": [
    "mgx = mgx_genus[children_intersect]\n",
    "amplicon = amp_genus[children_intersect]"
   ]
  },
  {
   "cell_type": "code",
   "execution_count": null,
   "metadata": {},
   "outputs": [],
   "source": [
    "# confirm that we now have the same samples\n",
    "(amp_genus.columns.values) == (mgx_genus.columns.values)"
   ]
  },
  {
   "cell_type": "code",
   "execution_count": null,
   "metadata": {},
   "outputs": [],
   "source": [
    "amplicon_melt = pd.melt(amplicon, id_vars=[\"taxa\"], var_name = \"sampleid\", value_name = \"amplicon_abund\")"
   ]
  },
  {
   "cell_type": "code",
   "execution_count": null,
   "metadata": {},
   "outputs": [],
   "source": [
    "mgx_melt = pd.melt(mgx, id_vars=[\"taxa\"], var_name = \"sampleid\", value_name = \"mgx_abund\")"
   ]
  },
  {
   "cell_type": "code",
   "execution_count": null,
   "metadata": {},
   "outputs": [],
   "source": [
    "merged_taxa = pd.merge(amplicon_melt, mgx_melt, on = [\"sampleid\", \"taxa\"], how = \"outer\")"
   ]
  },
  {
   "cell_type": "code",
   "execution_count": null,
   "metadata": {},
   "outputs": [],
   "source": [
    "merged_taxa.to_csv('taxa_abundance_comparison.csv')"
   ]
  },
  {
   "cell_type": "code",
   "execution_count": null,
   "metadata": {},
   "outputs": [],
   "source": [
    "merged_taxa[\"abs_diff\"] = abs(merged_taxa[\"amplicon_abund\"] - merged_taxa[\"mgx_abund\"])\n",
    "merged_taxa[\"tot_diff\"] = (merged_taxa[\"amplicon_abund\"] - merged_taxa[\"mgx_abund\"])"
   ]
  },
  {
   "cell_type": "code",
   "execution_count": null,
   "metadata": {},
   "outputs": [],
   "source": [
    "merged_taxa.sample(10)"
   ]
  },
  {
   "cell_type": "code",
   "execution_count": null,
   "metadata": {},
   "outputs": [],
   "source": [
    "merged_taxa.fillna(0)"
   ]
  },
  {
   "cell_type": "code",
   "execution_count": null,
   "metadata": {},
   "outputs": [],
   "source": [
    "amplicon_avg_abund = merged_taxa.groupby(\"taxa\")[\"amplicon_abund\"].mean()\n",
    "mgx_avg_abund = merged_taxa.groupby(\"taxa\")[\"mgx_abund\"].mean()\n",
    "taxa_list = sorted(set(merged_taxa[\"taxa\"]))"
   ]
  },
  {
   "cell_type": "code",
   "execution_count": null,
   "metadata": {},
   "outputs": [],
   "source": [
    "mean_taxa_abund = pd.DataFrame(\n",
    "    (zip(taxa_list, amplicon_avg_abund, mgx_avg_abund)),  \n",
    "    columns = ['taxa','amp_avg_abund', 'mgx_avg_abund'])"
   ]
  },
  {
   "cell_type": "code",
   "execution_count": null,
   "metadata": {},
   "outputs": [],
   "source": [
    "mean_taxa_abund[\"abs_diff\"] = abs(mean_taxa_abund[\"amp_avg_abund\"] - mean_taxa_abund[\"mgx_avg_abund\"])\n",
    "mean_taxa_abund[\"total_diff\"] = mean_taxa_abund[\"amp_avg_abund\"] - mean_taxa_abund[\"mgx_avg_abund\"]"
   ]
  },
  {
   "cell_type": "code",
   "execution_count": null,
   "metadata": {},
   "outputs": [],
   "source": [
    "mean_taxa_abund.sort_values(\"abs_diff\", axis = 0, ascending = True, \n",
    "                 inplace = True, na_position ='last')"
   ]
  },
  {
   "cell_type": "code",
   "execution_count": null,
   "metadata": {},
   "outputs": [],
   "source": [
    "mean_taxa_abund.sample(10)"
   ]
  },
  {
   "cell_type": "code",
   "execution_count": null,
   "metadata": {},
   "outputs": [],
   "source": [
    "mean_taxa_abund.to_csv('taxa_difference.csv')"
   ]
  },
  {
   "cell_type": "markdown",
   "metadata": {},
   "source": [
    "## making giant dataframe of abundances"
   ]
  },
  {
   "cell_type": "code",
   "execution_count": null,
   "metadata": {},
   "outputs": [],
   "source": [
    "amp_trans = amplicon.set_index(\"taxa\").transpose()"
   ]
  },
  {
   "cell_type": "code",
   "execution_count": null,
   "metadata": {},
   "outputs": [],
   "source": [
    "amp_trans.reset_index(level=0, inplace=True)"
   ]
  },
  {
   "cell_type": "code",
   "execution_count": null,
   "metadata": {},
   "outputs": [],
   "source": [
    "amp_trans.rename(columns = {'index':'sampleid'}, inplace = True) "
   ]
  },
  {
   "cell_type": "code",
   "execution_count": null,
   "metadata": {},
   "outputs": [],
   "source": [
    "amp_trans[\"uid\"] = amp_trans[\"sampleid\"].astype(str)+'-amp'"
   ]
  },
  {
   "cell_type": "code",
   "execution_count": null,
   "metadata": {},
   "outputs": [],
   "source": [
    "amp_trans[\"method\"] = \"amp\""
   ]
  },
  {
   "cell_type": "code",
   "execution_count": null,
   "metadata": {},
   "outputs": [],
   "source": [
    "amp_trans.head()"
   ]
  },
  {
   "cell_type": "code",
   "execution_count": null,
   "metadata": {},
   "outputs": [],
   "source": [
    "mgx_trans = mgx.set_index(\"taxa\").transpose()"
   ]
  },
  {
   "cell_type": "code",
   "execution_count": null,
   "metadata": {},
   "outputs": [],
   "source": [
    "mgx_trans.reset_index(level=0, inplace=True)"
   ]
  },
  {
   "cell_type": "code",
   "execution_count": null,
   "metadata": {},
   "outputs": [],
   "source": [
    "mgx_trans.rename(columns = {'index':'sampleid'}, inplace = True)"
   ]
  },
  {
   "cell_type": "code",
   "execution_count": null,
   "metadata": {},
   "outputs": [],
   "source": [
    "mgx_trans[\"uid\"] = mgx_trans[\"sampleid\"].astype(str)+'-mgx'"
   ]
  },
  {
   "cell_type": "code",
   "execution_count": null,
   "metadata": {},
   "outputs": [],
   "source": [
    "mgx_trans[\"method\"] = \"mgx\""
   ]
  },
  {
   "cell_type": "code",
   "execution_count": null,
   "metadata": {},
   "outputs": [],
   "source": [
    "mgx_trans.head()"
   ]
  },
  {
   "cell_type": "code",
   "execution_count": null,
   "metadata": {},
   "outputs": [],
   "source": [
    "concat_df = pd.concat([mgx_trans,amp_trans], sort=True).reset_index(drop = True)"
   ]
  },
  {
   "cell_type": "code",
   "execution_count": null,
   "metadata": {},
   "outputs": [],
   "source": [
    "len(concat_df)"
   ]
  },
  {
   "cell_type": "code",
   "execution_count": null,
   "metadata": {},
   "outputs": [],
   "source": [
    "age = pd.read_csv(\"~/Documents/thesis/analysis/metadatawide.csv\")"
   ]
  },
  {
   "cell_type": "code",
   "execution_count": null,
   "metadata": {},
   "outputs": [],
   "source": [
    "age = age[['sample','childAgeMonths']]"
   ]
  },
  {
   "cell_type": "code",
   "execution_count": null,
   "metadata": {},
   "outputs": [],
   "source": [
    "age[\"sample\"] = age[\"sample\"].str.replace(\"_\",'-')\n",
    "age.rename(columns = {'sample':'sampleid'}, inplace = True) "
   ]
  },
  {
   "cell_type": "code",
   "execution_count": null,
   "metadata": {},
   "outputs": [],
   "source": [
    "# make age dictionary\n",
    "agedict = {str(s): {} for s in age[\"sampleid\"]}\n",
    "for index, row in age.iterrows():\n",
    "    age_months = row[\"childAgeMonths\"]\n",
    "    agedict[row[\"sampleid\"]]= age_months"
   ]
  },
  {
   "cell_type": "code",
   "execution_count": null,
   "metadata": {},
   "outputs": [],
   "source": [
    "concat_df[\"AgeMonths\"]= concat_df[\"sampleid\"].map(agedict)"
   ]
  },
  {
   "cell_type": "code",
   "execution_count": null,
   "metadata": {},
   "outputs": [],
   "source": [
    "cols_to_order = ['uid', 'sampleid',\"method\", \"AgeMonths\"]\n",
    "new_columns = cols_to_order + (concat_df.columns.drop(cols_to_order).tolist())\n",
    "concat_df = concat_df[new_columns]"
   ]
  },
  {
   "cell_type": "code",
   "execution_count": null,
   "metadata": {},
   "outputs": [],
   "source": [
    "concat_df.sample(15)"
   ]
  },
  {
   "cell_type": "code",
   "execution_count": null,
   "metadata": {},
   "outputs": [],
   "source": [
    "concat_df.to_csv('transposed_mgxamp_df.csv')"
   ]
  },
  {
   "cell_type": "code",
   "execution_count": null,
   "metadata": {},
   "outputs": [],
   "source": [
    "pwd()"
   ]
  },
  {
   "cell_type": "code",
   "execution_count": null,
   "metadata": {},
   "outputs": [],
   "source": []
  }
 ],
 "metadata": {
  "kernelspec": {
   "display_name": "Python 3",
   "language": "python",
   "name": "python3"
  },
  "language_info": {
   "codemirror_mode": {
    "name": "ipython",
    "version": 3
   },
   "file_extension": ".py",
   "mimetype": "text/x-python",
   "name": "python",
   "nbconvert_exporter": "python",
   "pygments_lexer": "ipython3",
   "version": "3.7.4"
  }
 },
 "nbformat": 4,
 "nbformat_minor": 4
}
