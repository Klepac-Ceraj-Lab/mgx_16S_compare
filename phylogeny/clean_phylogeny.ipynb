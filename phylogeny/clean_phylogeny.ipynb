{
 "cells": [
  {
   "cell_type": "code",
   "execution_count": 19,
   "metadata": {},
   "outputs": [],
   "source": [
    "from IPython.core.interactiveshell import InteractiveShell\n",
    "InteractiveShell.ast_node_interactivity = \"all\"\n",
    "\n",
    "import pandas as pd\n",
    "import csv\n",
    "import janitor\n",
    "import numpy as np\n",
    "import matplotlib.pyplot as plt\n",
    "import seaborn as sns"
   ]
  },
  {
   "cell_type": "code",
   "execution_count": 25,
   "metadata": {},
   "outputs": [],
   "source": [
    "otu = pd.read_csv(\"~/Documents/thesis/analysis/taxa_difference.csv\")\n"
   ]
  },
  {
   "cell_type": "code",
   "execution_count": 26,
   "metadata": {},
   "outputs": [
    {
     "data": {
      "text/html": [
       "<div>\n",
       "<style scoped>\n",
       "    .dataframe tbody tr th:only-of-type {\n",
       "        vertical-align: middle;\n",
       "    }\n",
       "\n",
       "    .dataframe tbody tr th {\n",
       "        vertical-align: top;\n",
       "    }\n",
       "\n",
       "    .dataframe thead th {\n",
       "        text-align: right;\n",
       "    }\n",
       "</style>\n",
       "<table border=\"1\" class=\"dataframe\">\n",
       "  <thead>\n",
       "    <tr style=\"text-align: right;\">\n",
       "      <th></th>\n",
       "      <th>Unnamed: 0</th>\n",
       "      <th>taxa</th>\n",
       "      <th>amp_avg_abund</th>\n",
       "      <th>mgx_avg_abund</th>\n",
       "      <th>abs_diff</th>\n",
       "      <th>total_diff</th>\n",
       "    </tr>\n",
       "  </thead>\n",
       "  <tbody>\n",
       "    <tr>\n",
       "      <td>0</td>\n",
       "      <td>116</td>\n",
       "      <td>Finegoldia</td>\n",
       "      <td>0.000009</td>\n",
       "      <td>9.570117e-06</td>\n",
       "      <td>1.143988e-07</td>\n",
       "      <td>-1.143988e-07</td>\n",
       "    </tr>\n",
       "    <tr>\n",
       "      <td>1</td>\n",
       "      <td>95</td>\n",
       "      <td>Dysgonomonas</td>\n",
       "      <td>0.000001</td>\n",
       "      <td>1.620690e-06</td>\n",
       "      <td>3.471133e-07</td>\n",
       "      <td>-3.471133e-07</td>\n",
       "    </tr>\n",
       "    <tr>\n",
       "      <td>2</td>\n",
       "      <td>7</td>\n",
       "      <td>Actinobacillus</td>\n",
       "      <td>0.000005</td>\n",
       "      <td>6.006897e-06</td>\n",
       "      <td>1.477558e-06</td>\n",
       "      <td>-1.477558e-06</td>\n",
       "    </tr>\n",
       "    <tr>\n",
       "      <td>3</td>\n",
       "      <td>46</td>\n",
       "      <td>Brevundimonas</td>\n",
       "      <td>0.000004</td>\n",
       "      <td>6.570882e-07</td>\n",
       "      <td>3.202449e-06</td>\n",
       "      <td>3.202449e-06</td>\n",
       "    </tr>\n",
       "    <tr>\n",
       "      <td>4</td>\n",
       "      <td>234</td>\n",
       "      <td>Proteus</td>\n",
       "      <td>0.000007</td>\n",
       "      <td>1.094176e-05</td>\n",
       "      <td>4.021744e-06</td>\n",
       "      <td>-4.021744e-06</td>\n",
       "    </tr>\n",
       "  </tbody>\n",
       "</table>\n",
       "</div>"
      ],
      "text/plain": [
       "   Unnamed: 0            taxa  amp_avg_abund  mgx_avg_abund      abs_diff  \\\n",
       "0         116      Finegoldia       0.000009   9.570117e-06  1.143988e-07   \n",
       "1          95    Dysgonomonas       0.000001   1.620690e-06  3.471133e-07   \n",
       "2           7  Actinobacillus       0.000005   6.006897e-06  1.477558e-06   \n",
       "3          46   Brevundimonas       0.000004   6.570882e-07  3.202449e-06   \n",
       "4         234         Proteus       0.000007   1.094176e-05  4.021744e-06   \n",
       "\n",
       "     total_diff  \n",
       "0 -1.143988e-07  \n",
       "1 -3.471133e-07  \n",
       "2 -1.477558e-06  \n",
       "3  3.202449e-06  \n",
       "4 -4.021744e-06  "
      ]
     },
     "execution_count": 26,
     "metadata": {},
     "output_type": "execute_result"
    }
   ],
   "source": [
    "otu.head()"
   ]
  },
  {
   "cell_type": "code",
   "execution_count": 27,
   "metadata": {},
   "outputs": [],
   "source": [
    "otu = otu[otu.columns[1:3]]"
   ]
  },
  {
   "cell_type": "code",
   "execution_count": 30,
   "metadata": {},
   "outputs": [],
   "source": [
    "otu = otu.fillna(0) "
   ]
  },
  {
   "cell_type": "code",
   "execution_count": 35,
   "metadata": {},
   "outputs": [],
   "source": [
    "otu_trans = otu.set_index(\"taxa\").transpose()"
   ]
  },
  {
   "cell_type": "code",
   "execution_count": 36,
   "metadata": {},
   "outputs": [
    {
     "data": {
      "text/html": [
       "<div>\n",
       "<style scoped>\n",
       "    .dataframe tbody tr th:only-of-type {\n",
       "        vertical-align: middle;\n",
       "    }\n",
       "\n",
       "    .dataframe tbody tr th {\n",
       "        vertical-align: top;\n",
       "    }\n",
       "\n",
       "    .dataframe thead th {\n",
       "        text-align: right;\n",
       "    }\n",
       "</style>\n",
       "<table border=\"1\" class=\"dataframe\">\n",
       "  <thead>\n",
       "    <tr style=\"text-align: right;\">\n",
       "      <th>taxa</th>\n",
       "      <th>Finegoldia</th>\n",
       "      <th>Dysgonomonas</th>\n",
       "      <th>Actinobacillus</th>\n",
       "      <th>Brevundimonas</th>\n",
       "      <th>Proteus</th>\n",
       "      <th>Pantoea</th>\n",
       "      <th>Morganella</th>\n",
       "      <th>Weissella</th>\n",
       "      <th>Peptostreptococcus</th>\n",
       "      <th>Atopobium</th>\n",
       "      <th>...</th>\n",
       "      <th>Tyzzerella</th>\n",
       "      <th>Ulvibacter</th>\n",
       "      <th>Ureaplasma</th>\n",
       "      <th>Varibaculum</th>\n",
       "      <th>Vibrio</th>\n",
       "      <th>Victivallis</th>\n",
       "      <th>Virgulinella fragilis</th>\n",
       "      <th>Winogradskyella</th>\n",
       "      <th>Woeseia</th>\n",
       "      <th>endosymbionts</th>\n",
       "    </tr>\n",
       "  </thead>\n",
       "  <tbody>\n",
       "    <tr>\n",
       "      <td>amp_avg_abund</td>\n",
       "      <td>0.000009</td>\n",
       "      <td>0.000001</td>\n",
       "      <td>0.000005</td>\n",
       "      <td>0.000004</td>\n",
       "      <td>0.000007</td>\n",
       "      <td>0.000005</td>\n",
       "      <td>0.000007</td>\n",
       "      <td>0.000007</td>\n",
       "      <td>0.000016</td>\n",
       "      <td>0.000005</td>\n",
       "      <td>...</td>\n",
       "      <td>0.000232</td>\n",
       "      <td>0.000032</td>\n",
       "      <td>0.0</td>\n",
       "      <td>0.0</td>\n",
       "      <td>0.000006</td>\n",
       "      <td>0.000015</td>\n",
       "      <td>0.00003</td>\n",
       "      <td>0.000017</td>\n",
       "      <td>0.000023</td>\n",
       "      <td>0.000005</td>\n",
       "    </tr>\n",
       "  </tbody>\n",
       "</table>\n",
       "<p>1 rows × 302 columns</p>\n",
       "</div>"
      ],
      "text/plain": [
       "taxa           Finegoldia  Dysgonomonas  Actinobacillus  Brevundimonas  \\\n",
       "amp_avg_abund    0.000009      0.000001        0.000005       0.000004   \n",
       "\n",
       "taxa            Proteus   Pantoea  Morganella  Weissella  Peptostreptococcus  \\\n",
       "amp_avg_abund  0.000007  0.000005    0.000007   0.000007            0.000016   \n",
       "\n",
       "taxa           Atopobium  ...  Tyzzerella  Ulvibacter  Ureaplasma  \\\n",
       "amp_avg_abund   0.000005  ...    0.000232    0.000032         0.0   \n",
       "\n",
       "taxa           Varibaculum    Vibrio  Victivallis  Virgulinella fragilis  \\\n",
       "amp_avg_abund          0.0  0.000006     0.000015                0.00003   \n",
       "\n",
       "taxa           Winogradskyella   Woeseia  endosymbionts  \n",
       "amp_avg_abund         0.000017  0.000023       0.000005  \n",
       "\n",
       "[1 rows x 302 columns]"
      ]
     },
     "execution_count": 36,
     "metadata": {},
     "output_type": "execute_result"
    }
   ],
   "source": [
    "otu_trans.head()"
   ]
  },
  {
   "cell_type": "code",
   "execution_count": 39,
   "metadata": {},
   "outputs": [],
   "source": [
    "otu_trans.to_csv('otu.csv')"
   ]
  },
  {
   "cell_type": "code",
   "execution_count": null,
   "metadata": {},
   "outputs": [],
   "source": []
  }
 ],
 "metadata": {
  "kernelspec": {
   "display_name": "Python 3",
   "language": "python",
   "name": "python3"
  },
  "language_info": {
   "codemirror_mode": {
    "name": "ipython",
    "version": 3
   },
   "file_extension": ".py",
   "mimetype": "text/x-python",
   "name": "python",
   "nbconvert_exporter": "python",
   "pygments_lexer": "ipython3",
   "version": "3.7.4"
  }
 },
 "nbformat": 4,
 "nbformat_minor": 4
}
