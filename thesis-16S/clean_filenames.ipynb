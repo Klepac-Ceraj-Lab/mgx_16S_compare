{
 "cells": [
  {
   "cell_type": "code",
   "execution_count": 1,
   "metadata": {},
   "outputs": [],
   "source": [
    "from io import StringIO, BytesIO\n",
    "from pathlib import Path\n",
    "import pandas as pd"
   ]
  },
  {
   "cell_type": "code",
   "execution_count": 2,
   "metadata": {},
   "outputs": [],
   "source": [
    "path = Path(\"/Users/danielle/Documents/thesis/16S\")\n",
    "df1 = pd.read_csv(path / \"16S_filenames.csv\")\n",
    "df2 = pd.read_csv(path / \"16S_fastq_filenames.csv\")"
   ]
  },
  {
   "cell_type": "code",
   "execution_count": 3,
   "metadata": {},
   "outputs": [
    {
     "data": {
      "text/html": [
       "<div>\n",
       "<style scoped>\n",
       "    .dataframe tbody tr th:only-of-type {\n",
       "        vertical-align: middle;\n",
       "    }\n",
       "\n",
       "    .dataframe tbody tr th {\n",
       "        vertical-align: top;\n",
       "    }\n",
       "\n",
       "    .dataframe thead th {\n",
       "        text-align: right;\n",
       "    }\n",
       "</style>\n",
       "<table border=\"1\" class=\"dataframe\">\n",
       "  <thead>\n",
       "    <tr style=\"text-align: right;\">\n",
       "      <th></th>\n",
       "      <th>SampleID</th>\n",
       "      <th>Mother_Child</th>\n",
       "      <th>SubjectID</th>\n",
       "      <th>MaternalID</th>\n",
       "      <th>MC_Dyads</th>\n",
       "      <th>TimePoint</th>\n",
       "      <th>Fecal_EtOH</th>\n",
       "      <th>CollectionRep</th>\n",
       "      <th>DOC</th>\n",
       "      <th>RAInitials_DOC</th>\n",
       "      <th>...</th>\n",
       "      <th>16S_processed</th>\n",
       "      <th>Notes</th>\n",
       "      <th>Discrepancies</th>\n",
       "      <th>Batch 1 Mapping</th>\n",
       "      <th>16S_batch</th>\n",
       "      <th>16S_plate</th>\n",
       "      <th>Mgx_batch Mapping</th>\n",
       "      <th>16S_batch Mapping</th>\n",
       "      <th>Date_Brought_In</th>\n",
       "      <th>RAInitials_Brought</th>\n",
       "    </tr>\n",
       "  </thead>\n",
       "  <tbody>\n",
       "    <tr>\n",
       "      <td>0</td>\n",
       "      <td>C0052_5F_1A</td>\n",
       "      <td>C</td>\n",
       "      <td>52</td>\n",
       "      <td>0052_m</td>\n",
       "      <td>NaN</td>\n",
       "      <td>5</td>\n",
       "      <td>F</td>\n",
       "      <td>1</td>\n",
       "      <td>7/25/17</td>\n",
       "      <td>NaN</td>\n",
       "      <td>...</td>\n",
       "      <td>Sequenced</td>\n",
       "      <td>DOC recorded as DOF</td>\n",
       "      <td>Written as 52E but needs to be changed to 52F</td>\n",
       "      <td>052E.7-25-17.F</td>\n",
       "      <td>Batch 1</td>\n",
       "      <td>Plate 4</td>\n",
       "      <td>Mgx_batch001</td>\n",
       "      <td>16S_batch001</td>\n",
       "      <td>NaN</td>\n",
       "      <td>NaN</td>\n",
       "    </tr>\n",
       "    <tr>\n",
       "      <td>1</td>\n",
       "      <td>C0126_8F_1A</td>\n",
       "      <td>C</td>\n",
       "      <td>126</td>\n",
       "      <td>0126_m</td>\n",
       "      <td>NaN</td>\n",
       "      <td>8</td>\n",
       "      <td>F</td>\n",
       "      <td>1</td>\n",
       "      <td>7/25/17</td>\n",
       "      <td>NaN</td>\n",
       "      <td>...</td>\n",
       "      <td>Sequenced</td>\n",
       "      <td>Missing DOF</td>\n",
       "      <td>NaN</td>\n",
       "      <td>126H.7-25-17.F</td>\n",
       "      <td>Batch 1</td>\n",
       "      <td>Plate 4</td>\n",
       "      <td>Mgx_batch001</td>\n",
       "      <td>16S_batch001</td>\n",
       "      <td>NaN</td>\n",
       "      <td>NaN</td>\n",
       "    </tr>\n",
       "    <tr>\n",
       "      <td>2</td>\n",
       "      <td>C0126_8F_1B</td>\n",
       "      <td>C</td>\n",
       "      <td>126</td>\n",
       "      <td>0126_m</td>\n",
       "      <td>NaN</td>\n",
       "      <td>8</td>\n",
       "      <td>F</td>\n",
       "      <td>1</td>\n",
       "      <td>7/25/17</td>\n",
       "      <td>NaN</td>\n",
       "      <td>...</td>\n",
       "      <td>Sequenced</td>\n",
       "      <td>Missing DOF, need to change DOE</td>\n",
       "      <td>NaN</td>\n",
       "      <td>126H-B.7-25-17.F</td>\n",
       "      <td>Batch 1</td>\n",
       "      <td>Plate 4</td>\n",
       "      <td>Mgx_batch001</td>\n",
       "      <td>16S_batch001</td>\n",
       "      <td>NaN</td>\n",
       "      <td>NaN</td>\n",
       "    </tr>\n",
       "    <tr>\n",
       "      <td>3</td>\n",
       "      <td>C0127_6F_1B</td>\n",
       "      <td>C</td>\n",
       "      <td>127</td>\n",
       "      <td>0127_m</td>\n",
       "      <td>NaN</td>\n",
       "      <td>6</td>\n",
       "      <td>F</td>\n",
       "      <td>1</td>\n",
       "      <td>7/25/17</td>\n",
       "      <td>NaN</td>\n",
       "      <td>...</td>\n",
       "      <td>Sequenced</td>\n",
       "      <td>Missing DOF</td>\n",
       "      <td>NaN</td>\n",
       "      <td>127F.7-25-17.F</td>\n",
       "      <td>Batch 1</td>\n",
       "      <td>Plate 4</td>\n",
       "      <td>Mgx_batch001</td>\n",
       "      <td>16S_batch001</td>\n",
       "      <td>NaN</td>\n",
       "      <td>NaN</td>\n",
       "    </tr>\n",
       "    <tr>\n",
       "      <td>4</td>\n",
       "      <td>C0286_5F_1A</td>\n",
       "      <td>C</td>\n",
       "      <td>286</td>\n",
       "      <td>0286_m</td>\n",
       "      <td>NaN</td>\n",
       "      <td>5</td>\n",
       "      <td>F</td>\n",
       "      <td>1</td>\n",
       "      <td>7/25/17</td>\n",
       "      <td>NaN</td>\n",
       "      <td>...</td>\n",
       "      <td>Sequenced</td>\n",
       "      <td>Recorded initially as 2866, DOC recorded as DOF</td>\n",
       "      <td>NaN</td>\n",
       "      <td>286E.7-25-17.F</td>\n",
       "      <td>Batch 1</td>\n",
       "      <td>Plate 4</td>\n",
       "      <td>Mgx_batch001</td>\n",
       "      <td>16S_batch001</td>\n",
       "      <td>NaN</td>\n",
       "      <td>NaN</td>\n",
       "    </tr>\n",
       "  </tbody>\n",
       "</table>\n",
       "<p>5 rows × 39 columns</p>\n",
       "</div>"
      ],
      "text/plain": [
       "      SampleID Mother_Child  SubjectID MaternalID  MC_Dyads  TimePoint  \\\n",
       "0  C0052_5F_1A            C         52     0052_m       NaN          5   \n",
       "1  C0126_8F_1A            C        126     0126_m       NaN          8   \n",
       "2  C0126_8F_1B            C        126     0126_m       NaN          8   \n",
       "3  C0127_6F_1B            C        127     0127_m       NaN          6   \n",
       "4  C0286_5F_1A            C        286     0286_m       NaN          5   \n",
       "\n",
       "  Fecal_EtOH  CollectionRep      DOC RAInitials_DOC  ... 16S_processed  \\\n",
       "0          F              1  7/25/17            NaN  ...     Sequenced   \n",
       "1          F              1  7/25/17            NaN  ...     Sequenced   \n",
       "2          F              1  7/25/17            NaN  ...     Sequenced   \n",
       "3          F              1  7/25/17            NaN  ...     Sequenced   \n",
       "4          F              1  7/25/17            NaN  ...     Sequenced   \n",
       "\n",
       "                                             Notes  \\\n",
       "0                              DOC recorded as DOF   \n",
       "1                                      Missing DOF   \n",
       "2                  Missing DOF, need to change DOE   \n",
       "3                                      Missing DOF   \n",
       "4  Recorded initially as 2866, DOC recorded as DOF   \n",
       "\n",
       "                                   Discrepancies   Batch 1 Mapping 16S_batch  \\\n",
       "0  Written as 52E but needs to be changed to 52F    052E.7-25-17.F   Batch 1   \n",
       "1                                            NaN    126H.7-25-17.F   Batch 1   \n",
       "2                                            NaN  126H-B.7-25-17.F   Batch 1   \n",
       "3                                            NaN    127F.7-25-17.F   Batch 1   \n",
       "4                                            NaN    286E.7-25-17.F   Batch 1   \n",
       "\n",
       "  16S_plate Mgx_batch Mapping 16S_batch Mapping Date_Brought_In  \\\n",
       "0   Plate 4      Mgx_batch001      16S_batch001             NaN   \n",
       "1   Plate 4      Mgx_batch001      16S_batch001             NaN   \n",
       "2   Plate 4      Mgx_batch001      16S_batch001             NaN   \n",
       "3   Plate 4      Mgx_batch001      16S_batch001             NaN   \n",
       "4   Plate 4      Mgx_batch001      16S_batch001             NaN   \n",
       "\n",
       "  RAInitials_Brought  \n",
       "0                NaN  \n",
       "1                NaN  \n",
       "2                NaN  \n",
       "3                NaN  \n",
       "4                NaN  \n",
       "\n",
       "[5 rows x 39 columns]"
      ]
     },
     "execution_count": 3,
     "metadata": {},
     "output_type": "execute_result"
    }
   ],
   "source": [
    "df1.head()"
   ]
  },
  {
   "cell_type": "code",
   "execution_count": 4,
   "metadata": {},
   "outputs": [
    {
     "data": {
      "text/html": [
       "<div>\n",
       "<style scoped>\n",
       "    .dataframe tbody tr th:only-of-type {\n",
       "        vertical-align: middle;\n",
       "    }\n",
       "\n",
       "    .dataframe tbody tr th {\n",
       "        vertical-align: top;\n",
       "    }\n",
       "\n",
       "    .dataframe thead th {\n",
       "        text-align: right;\n",
       "    }\n",
       "</style>\n",
       "<table border=\"1\" class=\"dataframe\">\n",
       "  <thead>\n",
       "    <tr style=\"text-align: right;\">\n",
       "      <th></th>\n",
       "      <th>filename</th>\n",
       "    </tr>\n",
       "  </thead>\n",
       "  <tbody>\n",
       "    <tr>\n",
       "      <td>0</td>\n",
       "      <td>20A_2H_S299_L001_R1_001.fastq.gz</td>\n",
       "    </tr>\n",
       "    <tr>\n",
       "      <td>1</td>\n",
       "      <td>20A_2H_S299_L001_R2_001.fastq.gz</td>\n",
       "    </tr>\n",
       "    <tr>\n",
       "      <td>2</td>\n",
       "      <td>20A_3H_S323_L001_R1_001.fastq.gz</td>\n",
       "    </tr>\n",
       "    <tr>\n",
       "      <td>3</td>\n",
       "      <td>20A_3H_S323_L001_R2_001.fastq.gz</td>\n",
       "    </tr>\n",
       "    <tr>\n",
       "      <td>4</td>\n",
       "      <td>20B_2H_S311_L001_R1_001.fastq.gz</td>\n",
       "    </tr>\n",
       "  </tbody>\n",
       "</table>\n",
       "</div>"
      ],
      "text/plain": [
       "                           filename\n",
       "0  20A_2H_S299_L001_R1_001.fastq.gz\n",
       "1  20A_2H_S299_L001_R2_001.fastq.gz\n",
       "2  20A_3H_S323_L001_R1_001.fastq.gz\n",
       "3  20A_3H_S323_L001_R2_001.fastq.gz\n",
       "4  20B_2H_S311_L001_R1_001.fastq.gz"
      ]
     },
     "execution_count": 4,
     "metadata": {},
     "output_type": "execute_result"
    }
   ],
   "source": [
    "df2.head()"
   ]
  },
  {
   "cell_type": "code",
   "execution_count": 5,
   "metadata": {},
   "outputs": [
    {
     "data": {
      "text/plain": [
       "(558, 1)"
      ]
     },
     "execution_count": 5,
     "metadata": {},
     "output_type": "execute_result"
    }
   ],
   "source": [
    "df2.shape"
   ]
  },
  {
   "cell_type": "code",
   "execution_count": 6,
   "metadata": {},
   "outputs": [],
   "source": [
    "allfiles = list(df2['filename'])"
   ]
  },
  {
   "cell_type": "code",
   "execution_count": 7,
   "metadata": {},
   "outputs": [],
   "source": [
    "wantfiles = list(df1['SampleID'])"
   ]
  },
  {
   "cell_type": "code",
   "execution_count": 8,
   "metadata": {},
   "outputs": [],
   "source": [
    "new_files = list(filter(lambda x: x in wantfiles, allfiles)) \n"
   ]
  },
  {
   "cell_type": "code",
   "execution_count": 31,
   "metadata": {},
   "outputs": [],
   "source": [
    "new_files = []\n",
    "\n",
    "for j in (wantfiles):\n",
    "    #print(j)\n",
    "    for i in allfiles:\n",
    "        if j in i:\n",
    "            new_files.append(i)"
   ]
  },
  {
   "cell_type": "code",
   "execution_count": 35,
   "metadata": {},
   "outputs": [
    {
     "data": {
      "text/plain": [
       "526"
      ]
     },
     "execution_count": 35,
     "metadata": {},
     "output_type": "execute_result"
    }
   ],
   "source": [
    "len(new_files)"
   ]
  },
  {
   "cell_type": "code",
   "execution_count": 36,
   "metadata": {},
   "outputs": [
    {
     "data": {
      "text/plain": [
       "558"
      ]
     },
     "execution_count": 36,
     "metadata": {},
     "output_type": "execute_result"
    }
   ],
   "source": [
    "len(allfiles)"
   ]
  },
  {
   "cell_type": "code",
   "execution_count": 37,
   "metadata": {},
   "outputs": [],
   "source": [
    "with open('keep_fastq.txt', 'w') as f:\n",
    "    for item in new_files:\n",
    "        f.write(\"%s\\n\" % item)"
   ]
  },
  {
   "cell_type": "code",
   "execution_count": null,
   "metadata": {},
   "outputs": [],
   "source": []
  }
 ],
 "metadata": {
  "kernelspec": {
   "display_name": "Python 3",
   "language": "python",
   "name": "python3"
  },
  "language_info": {
   "codemirror_mode": {
    "name": "ipython",
    "version": 3
   },
   "file_extension": ".py",
   "mimetype": "text/x-python",
   "name": "python",
   "nbconvert_exporter": "python",
   "pygments_lexer": "ipython3",
   "version": "3.7.4"
  }
 },
 "nbformat": 4,
 "nbformat_minor": 4
}
