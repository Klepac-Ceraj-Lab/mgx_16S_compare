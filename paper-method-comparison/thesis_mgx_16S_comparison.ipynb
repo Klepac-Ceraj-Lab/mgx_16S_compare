{
 "cells": [
  {
   "cell_type": "code",
   "execution_count": 1,
   "metadata": {},
   "outputs": [],
   "source": [
    "from IPython.core.interactiveshell import InteractiveShell\n",
    "InteractiveShell.ast_node_interactivity = \"all\"\n",
    "\n",
    "import pandas as pd\n",
    "import csv\n",
    "# import janitor\n",
    "import numpy as np"
   ]
  },
  {
   "cell_type": "code",
   "execution_count": 2,
   "metadata": {},
   "outputs": [
    {
     "data": {
      "text/html": [
       "<div>\n",
       "<style scoped>\n",
       "    .dataframe tbody tr th:only-of-type {\n",
       "        vertical-align: middle;\n",
       "    }\n",
       "\n",
       "    .dataframe tbody tr th {\n",
       "        vertical-align: top;\n",
       "    }\n",
       "\n",
       "    .dataframe thead th {\n",
       "        text-align: right;\n",
       "    }\n",
       "</style>\n",
       "<table border=\"1\" class=\"dataframe\">\n",
       "  <thead>\n",
       "    <tr style=\"text-align: right;\">\n",
       "      <th></th>\n",
       "      <th>subjectID</th>\n",
       "      <th>timepoint</th>\n",
       "      <th>ageLabel</th>\n",
       "      <th>ASLProcessed</th>\n",
       "      <th>birthType</th>\n",
       "      <th>breastFedPercent</th>\n",
       "      <th>breastfeeding</th>\n",
       "      <th>childBMI</th>\n",
       "      <th>childGender</th>\n",
       "      <th>cogAssessment</th>\n",
       "      <th>...</th>\n",
       "      <th>WHO_flen</th>\n",
       "      <th>WHO_fwei</th>\n",
       "      <th>WHO_fwfl</th>\n",
       "      <th>WHO_zbmi</th>\n",
       "      <th>WHO_zlen</th>\n",
       "      <th>WHO_zwei</th>\n",
       "      <th>WHO_zwfl</th>\n",
       "      <th>ProcessingComplete</th>\n",
       "      <th>SequenceName</th>\n",
       "      <th>timepoint.1</th>\n",
       "    </tr>\n",
       "  </thead>\n",
       "  <tbody>\n",
       "    <tr>\n",
       "      <th>0</th>\n",
       "      <td>1004.0</td>\n",
       "      <td>6.0</td>\n",
       "      <td>1 and under</td>\n",
       "      <td>0.0</td>\n",
       "      <td>NaN</td>\n",
       "      <td>NaN</td>\n",
       "      <td>NaN</td>\n",
       "      <td>NaN</td>\n",
       "      <td>Male</td>\n",
       "      <td>None</td>\n",
       "      <td>...</td>\n",
       "      <td>NaN</td>\n",
       "      <td>NaN</td>\n",
       "      <td>NaN</td>\n",
       "      <td>NaN</td>\n",
       "      <td>NaN</td>\n",
       "      <td>NaN</td>\n",
       "      <td>NaN</td>\n",
       "      <td>NaN</td>\n",
       "      <td>Mcdespot</td>\n",
       "      <td>6.0</td>\n",
       "    </tr>\n",
       "    <tr>\n",
       "      <th>1</th>\n",
       "      <td>1.0</td>\n",
       "      <td>2.0</td>\n",
       "      <td>1 to 2</td>\n",
       "      <td>0.0</td>\n",
       "      <td>Cesarean</td>\n",
       "      <td>NaN</td>\n",
       "      <td>NaN</td>\n",
       "      <td>NaN</td>\n",
       "      <td>Male</td>\n",
       "      <td>Mullen</td>\n",
       "      <td>...</td>\n",
       "      <td>NaN</td>\n",
       "      <td>NaN</td>\n",
       "      <td>NaN</td>\n",
       "      <td>NaN</td>\n",
       "      <td>NaN</td>\n",
       "      <td>NaN</td>\n",
       "      <td>NaN</td>\n",
       "      <td>NaN</td>\n",
       "      <td>Mcdespot</td>\n",
       "      <td>2.0</td>\n",
       "    </tr>\n",
       "    <tr>\n",
       "      <th>2</th>\n",
       "      <td>1.0</td>\n",
       "      <td>3.0</td>\n",
       "      <td>2 and over</td>\n",
       "      <td>0.0</td>\n",
       "      <td>Cesarean</td>\n",
       "      <td>NaN</td>\n",
       "      <td>NaN</td>\n",
       "      <td>NaN</td>\n",
       "      <td>Male</td>\n",
       "      <td>Mullen</td>\n",
       "      <td>...</td>\n",
       "      <td>NaN</td>\n",
       "      <td>NaN</td>\n",
       "      <td>NaN</td>\n",
       "      <td>NaN</td>\n",
       "      <td>NaN</td>\n",
       "      <td>NaN</td>\n",
       "      <td>NaN</td>\n",
       "      <td>NaN</td>\n",
       "      <td>Mcdespot</td>\n",
       "      <td>3.0</td>\n",
       "    </tr>\n",
       "    <tr>\n",
       "      <th>3</th>\n",
       "      <td>2.0</td>\n",
       "      <td>1.0</td>\n",
       "      <td>1 and under</td>\n",
       "      <td>0.0</td>\n",
       "      <td>Cesarean</td>\n",
       "      <td>NaN</td>\n",
       "      <td>NaN</td>\n",
       "      <td>15.746063</td>\n",
       "      <td>Male</td>\n",
       "      <td>Mullen</td>\n",
       "      <td>...</td>\n",
       "      <td>0.0</td>\n",
       "      <td>0.0</td>\n",
       "      <td>0.0</td>\n",
       "      <td>-1.01</td>\n",
       "      <td>-0.09</td>\n",
       "      <td>-0.79</td>\n",
       "      <td>-1.03</td>\n",
       "      <td>NaN</td>\n",
       "      <td>Mcdespot</td>\n",
       "      <td>1.0</td>\n",
       "    </tr>\n",
       "    <tr>\n",
       "      <th>4</th>\n",
       "      <td>2.0</td>\n",
       "      <td>2.0</td>\n",
       "      <td>1 and under</td>\n",
       "      <td>0.0</td>\n",
       "      <td>Cesarean</td>\n",
       "      <td>NaN</td>\n",
       "      <td>NaN</td>\n",
       "      <td>NaN</td>\n",
       "      <td>Male</td>\n",
       "      <td>Mullen</td>\n",
       "      <td>...</td>\n",
       "      <td>NaN</td>\n",
       "      <td>NaN</td>\n",
       "      <td>NaN</td>\n",
       "      <td>NaN</td>\n",
       "      <td>NaN</td>\n",
       "      <td>NaN</td>\n",
       "      <td>NaN</td>\n",
       "      <td>NaN</td>\n",
       "      <td>Mcdespot</td>\n",
       "      <td>2.0</td>\n",
       "    </tr>\n",
       "  </tbody>\n",
       "</table>\n",
       "<p>5 rows × 45 columns</p>\n",
       "</div>"
      ],
      "text/plain": [
       "   subjectID  timepoint     ageLabel  ASLProcessed birthType  \\\n",
       "0     1004.0        6.0  1 and under           0.0       NaN   \n",
       "1        1.0        2.0       1 to 2           0.0  Cesarean   \n",
       "2        1.0        3.0   2 and over           0.0  Cesarean   \n",
       "3        2.0        1.0  1 and under           0.0  Cesarean   \n",
       "4        2.0        2.0  1 and under           0.0  Cesarean   \n",
       "\n",
       "   breastFedPercent breastfeeding   childBMI childGender cogAssessment  ...  \\\n",
       "0               NaN           NaN        NaN        Male          None  ...   \n",
       "1               NaN           NaN        NaN        Male        Mullen  ...   \n",
       "2               NaN           NaN        NaN        Male        Mullen  ...   \n",
       "3               NaN           NaN  15.746063        Male        Mullen  ...   \n",
       "4               NaN           NaN        NaN        Male        Mullen  ...   \n",
       "\n",
       "   WHO_flen  WHO_fwei  WHO_fwfl  WHO_zbmi  WHO_zlen WHO_zwei  WHO_zwfl  \\\n",
       "0       NaN       NaN       NaN       NaN       NaN      NaN       NaN   \n",
       "1       NaN       NaN       NaN       NaN       NaN      NaN       NaN   \n",
       "2       NaN       NaN       NaN       NaN       NaN      NaN       NaN   \n",
       "3       0.0       0.0       0.0     -1.01     -0.09    -0.79     -1.03   \n",
       "4       NaN       NaN       NaN       NaN       NaN      NaN       NaN   \n",
       "\n",
       "   ProcessingComplete  SequenceName  timepoint.1  \n",
       "0                 NaN      Mcdespot          6.0  \n",
       "1                 NaN      Mcdespot          2.0  \n",
       "2                 NaN      Mcdespot          3.0  \n",
       "3                 NaN      Mcdespot          1.0  \n",
       "4                 NaN      Mcdespot          2.0  \n",
       "\n",
       "[5 rows x 45 columns]"
      ]
     },
     "execution_count": 2,
     "metadata": {},
     "output_type": "execute_result"
    }
   ],
   "source": [
    "# import metadata \n",
    "metadata = pd.read_csv(\"~/Documents/thesis/paper-mapping/clinical_metadata.csv\")\n",
    "metadata.head()"
   ]
  },
  {
   "cell_type": "code",
   "execution_count": 3,
   "metadata": {},
   "outputs": [],
   "source": [
    "# import mapping file \n",
    "mapping = pd.read_csv(\"~/Documents/thesis/paper-mapping/sampleIDmap.csv\")"
   ]
  },
  {
   "cell_type": "code",
   "execution_count": 4,
   "metadata": {},
   "outputs": [
    {
     "data": {
      "text/html": [
       "<div>\n",
       "<style scoped>\n",
       "    .dataframe tbody tr th:only-of-type {\n",
       "        vertical-align: middle;\n",
       "    }\n",
       "\n",
       "    .dataframe tbody tr th {\n",
       "        vertical-align: top;\n",
       "    }\n",
       "\n",
       "    .dataframe thead th {\n",
       "        text-align: right;\n",
       "    }\n",
       "</style>\n",
       "<table border=\"1\" class=\"dataframe\">\n",
       "  <thead>\n",
       "    <tr style=\"text-align: right;\">\n",
       "      <th></th>\n",
       "      <th>sample</th>\n",
       "      <th>subjectID</th>\n",
       "      <th>timepoint</th>\n",
       "    </tr>\n",
       "  </thead>\n",
       "  <tbody>\n",
       "    <tr>\n",
       "      <th>0</th>\n",
       "      <td>C0043-7F-1A</td>\n",
       "      <td>43.0</td>\n",
       "      <td>7.0</td>\n",
       "    </tr>\n",
       "    <tr>\n",
       "      <th>1</th>\n",
       "      <td>C0052-5F-1A</td>\n",
       "      <td>52.0</td>\n",
       "      <td>5.0</td>\n",
       "    </tr>\n",
       "    <tr>\n",
       "      <th>2</th>\n",
       "      <td>C0053-6F-1A</td>\n",
       "      <td>53.0</td>\n",
       "      <td>6.0</td>\n",
       "    </tr>\n",
       "    <tr>\n",
       "      <th>3</th>\n",
       "      <td>C0061-6F-1A</td>\n",
       "      <td>61.0</td>\n",
       "      <td>6.0</td>\n",
       "    </tr>\n",
       "    <tr>\n",
       "      <th>4</th>\n",
       "      <td>C0061-6F-2A</td>\n",
       "      <td>61.0</td>\n",
       "      <td>6.0</td>\n",
       "    </tr>\n",
       "  </tbody>\n",
       "</table>\n",
       "</div>"
      ],
      "text/plain": [
       "        sample  subjectID  timepoint\n",
       "0  C0043-7F-1A       43.0        7.0\n",
       "1  C0052-5F-1A       52.0        5.0\n",
       "2  C0053-6F-1A       53.0        6.0\n",
       "3  C0061-6F-1A       61.0        6.0\n",
       "4  C0061-6F-2A       61.0        6.0"
      ]
     },
     "execution_count": 4,
     "metadata": {},
     "output_type": "execute_result"
    }
   ],
   "source": [
    "mapping.rename(columns={'subject':'subjectID'}, inplace=True)\n",
    "mapping['subjectID'] = mapping['subjectID'].astype(float)\n",
    "mapping['timepoint'] = mapping['timepoint'].astype(float)\n",
    "mapping.head()"
   ]
  },
  {
   "cell_type": "code",
   "execution_count": 5,
   "metadata": {},
   "outputs": [],
   "source": [
    "mapping_16S = pd.merge(metadata, mapping, on=['subjectID','timepoint'])"
   ]
  },
  {
   "cell_type": "code",
   "execution_count": 6,
   "metadata": {},
   "outputs": [
    {
     "data": {
      "text/plain": [
       "(1222, 46)"
      ]
     },
     "execution_count": 6,
     "metadata": {},
     "output_type": "execute_result"
    }
   ],
   "source": [
    "mapping_16S.shape"
   ]
  },
  {
   "cell_type": "code",
   "execution_count": 7,
   "metadata": {},
   "outputs": [],
   "source": [
    "mapping_16S.rename(columns={'sample':\"sampleid\"}, inplace=True)\n",
    "\n",
    "mapping_16S[\"AgeMonths\"] = mapping_16S[\"correctedAgeDays\"]/30"
   ]
  },
  {
   "cell_type": "code",
   "execution_count": 8,
   "metadata": {},
   "outputs": [
    {
     "data": {
      "text/html": [
       "<div>\n",
       "<style scoped>\n",
       "    .dataframe tbody tr th:only-of-type {\n",
       "        vertical-align: middle;\n",
       "    }\n",
       "\n",
       "    .dataframe tbody tr th {\n",
       "        vertical-align: top;\n",
       "    }\n",
       "\n",
       "    .dataframe thead th {\n",
       "        text-align: right;\n",
       "    }\n",
       "</style>\n",
       "<table border=\"1\" class=\"dataframe\">\n",
       "  <thead>\n",
       "    <tr style=\"text-align: right;\">\n",
       "      <th></th>\n",
       "      <th>subjectID</th>\n",
       "      <th>timepoint</th>\n",
       "      <th>ageLabel</th>\n",
       "      <th>ASLProcessed</th>\n",
       "      <th>birthType</th>\n",
       "      <th>breastFedPercent</th>\n",
       "      <th>breastfeeding</th>\n",
       "      <th>childBMI</th>\n",
       "      <th>childGender</th>\n",
       "      <th>cogAssessment</th>\n",
       "      <th>...</th>\n",
       "      <th>WHO_fwfl</th>\n",
       "      <th>WHO_zbmi</th>\n",
       "      <th>WHO_zlen</th>\n",
       "      <th>WHO_zwei</th>\n",
       "      <th>WHO_zwfl</th>\n",
       "      <th>ProcessingComplete</th>\n",
       "      <th>SequenceName</th>\n",
       "      <th>timepoint.1</th>\n",
       "      <th>sampleid</th>\n",
       "      <th>AgeMonths</th>\n",
       "    </tr>\n",
       "  </thead>\n",
       "  <tbody>\n",
       "    <tr>\n",
       "      <th>0</th>\n",
       "      <td>52.0</td>\n",
       "      <td>5.0</td>\n",
       "      <td>2 and over</td>\n",
       "      <td>0.0</td>\n",
       "      <td>Cesarean</td>\n",
       "      <td>NaN</td>\n",
       "      <td>NaN</td>\n",
       "      <td>16.728348</td>\n",
       "      <td>Male</td>\n",
       "      <td>WISC</td>\n",
       "      <td>...</td>\n",
       "      <td>NaN</td>\n",
       "      <td>NaN</td>\n",
       "      <td>NaN</td>\n",
       "      <td>NaN</td>\n",
       "      <td>NaN</td>\n",
       "      <td>Yes</td>\n",
       "      <td>Mcdespot</td>\n",
       "      <td>5.0</td>\n",
       "      <td>C0052-5F-1A</td>\n",
       "      <td>94.133333</td>\n",
       "    </tr>\n",
       "    <tr>\n",
       "      <th>1</th>\n",
       "      <td>53.0</td>\n",
       "      <td>6.0</td>\n",
       "      <td>2 and over</td>\n",
       "      <td>0.0</td>\n",
       "      <td>Cesarean</td>\n",
       "      <td>NaN</td>\n",
       "      <td>NaN</td>\n",
       "      <td>16.008798</td>\n",
       "      <td>Female</td>\n",
       "      <td>WPPSI</td>\n",
       "      <td>...</td>\n",
       "      <td>NaN</td>\n",
       "      <td>NaN</td>\n",
       "      <td>NaN</td>\n",
       "      <td>NaN</td>\n",
       "      <td>NaN</td>\n",
       "      <td>Yes</td>\n",
       "      <td>Mcdespot</td>\n",
       "      <td>6.0</td>\n",
       "      <td>C0053-6F-1A</td>\n",
       "      <td>72.500000</td>\n",
       "    </tr>\n",
       "    <tr>\n",
       "      <th>2</th>\n",
       "      <td>202.0</td>\n",
       "      <td>4.0</td>\n",
       "      <td>2 and over</td>\n",
       "      <td>0.0</td>\n",
       "      <td>Vaginal</td>\n",
       "      <td>NaN</td>\n",
       "      <td>NaN</td>\n",
       "      <td>15.285845</td>\n",
       "      <td>Female</td>\n",
       "      <td>WPPSI</td>\n",
       "      <td>...</td>\n",
       "      <td>0.0</td>\n",
       "      <td>0.03</td>\n",
       "      <td>-1.26</td>\n",
       "      <td>-0.75</td>\n",
       "      <td>0.04</td>\n",
       "      <td>Yes</td>\n",
       "      <td>Mcdespot</td>\n",
       "      <td>4.0</td>\n",
       "      <td>C0202-4F-1A</td>\n",
       "      <td>53.366667</td>\n",
       "    </tr>\n",
       "    <tr>\n",
       "      <th>3</th>\n",
       "      <td>202.0</td>\n",
       "      <td>4.0</td>\n",
       "      <td>2 and over</td>\n",
       "      <td>0.0</td>\n",
       "      <td>Vaginal</td>\n",
       "      <td>NaN</td>\n",
       "      <td>NaN</td>\n",
       "      <td>15.285845</td>\n",
       "      <td>Female</td>\n",
       "      <td>WPPSI</td>\n",
       "      <td>...</td>\n",
       "      <td>0.0</td>\n",
       "      <td>0.03</td>\n",
       "      <td>-1.26</td>\n",
       "      <td>-0.75</td>\n",
       "      <td>0.04</td>\n",
       "      <td>Yes</td>\n",
       "      <td>Mcdespot</td>\n",
       "      <td>4.0</td>\n",
       "      <td>C0202-4F-2A</td>\n",
       "      <td>53.366667</td>\n",
       "    </tr>\n",
       "    <tr>\n",
       "      <th>4</th>\n",
       "      <td>420.0</td>\n",
       "      <td>4.0</td>\n",
       "      <td>2 and over</td>\n",
       "      <td>0.0</td>\n",
       "      <td>Vaginal</td>\n",
       "      <td>NaN</td>\n",
       "      <td>NaN</td>\n",
       "      <td>18.979630</td>\n",
       "      <td>Female</td>\n",
       "      <td>Mullen</td>\n",
       "      <td>...</td>\n",
       "      <td>0.0</td>\n",
       "      <td>2.19</td>\n",
       "      <td>-3.46</td>\n",
       "      <td>-0.68</td>\n",
       "      <td>1.61</td>\n",
       "      <td>NaN</td>\n",
       "      <td>Mcdespot</td>\n",
       "      <td>4.0</td>\n",
       "      <td>C0420-4F-1A</td>\n",
       "      <td>26.600000</td>\n",
       "    </tr>\n",
       "    <tr>\n",
       "      <th>5</th>\n",
       "      <td>420.0</td>\n",
       "      <td>4.0</td>\n",
       "      <td>2 and over</td>\n",
       "      <td>0.0</td>\n",
       "      <td>Vaginal</td>\n",
       "      <td>NaN</td>\n",
       "      <td>NaN</td>\n",
       "      <td>18.979630</td>\n",
       "      <td>Female</td>\n",
       "      <td>Mullen</td>\n",
       "      <td>...</td>\n",
       "      <td>0.0</td>\n",
       "      <td>2.19</td>\n",
       "      <td>-3.46</td>\n",
       "      <td>-0.68</td>\n",
       "      <td>1.61</td>\n",
       "      <td>NaN</td>\n",
       "      <td>Mcdespot</td>\n",
       "      <td>4.0</td>\n",
       "      <td>C0420-4F-2A</td>\n",
       "      <td>26.600000</td>\n",
       "    </tr>\n",
       "    <tr>\n",
       "      <th>6</th>\n",
       "      <td>108.0</td>\n",
       "      <td>4.0</td>\n",
       "      <td>2 and over</td>\n",
       "      <td>0.0</td>\n",
       "      <td>Cesarean</td>\n",
       "      <td>NaN</td>\n",
       "      <td>NaN</td>\n",
       "      <td>17.834450</td>\n",
       "      <td>Male</td>\n",
       "      <td>WISC</td>\n",
       "      <td>...</td>\n",
       "      <td>NaN</td>\n",
       "      <td>NaN</td>\n",
       "      <td>NaN</td>\n",
       "      <td>NaN</td>\n",
       "      <td>NaN</td>\n",
       "      <td>Yes</td>\n",
       "      <td>Mcdespot</td>\n",
       "      <td>4.0</td>\n",
       "      <td>C0108-4F-1A</td>\n",
       "      <td>137.466667</td>\n",
       "    </tr>\n",
       "    <tr>\n",
       "      <th>7</th>\n",
       "      <td>126.0</td>\n",
       "      <td>8.0</td>\n",
       "      <td>2 and over</td>\n",
       "      <td>0.0</td>\n",
       "      <td>Vaginal</td>\n",
       "      <td>NaN</td>\n",
       "      <td>NaN</td>\n",
       "      <td>NaN</td>\n",
       "      <td>Male</td>\n",
       "      <td>WISC</td>\n",
       "      <td>...</td>\n",
       "      <td>NaN</td>\n",
       "      <td>NaN</td>\n",
       "      <td>NaN</td>\n",
       "      <td>NaN</td>\n",
       "      <td>NaN</td>\n",
       "      <td>NaN</td>\n",
       "      <td>Mcdespot</td>\n",
       "      <td>8.0</td>\n",
       "      <td>C0126-8F-1A</td>\n",
       "      <td>75.366667</td>\n",
       "    </tr>\n",
       "    <tr>\n",
       "      <th>8</th>\n",
       "      <td>126.0</td>\n",
       "      <td>8.0</td>\n",
       "      <td>2 and over</td>\n",
       "      <td>0.0</td>\n",
       "      <td>Vaginal</td>\n",
       "      <td>NaN</td>\n",
       "      <td>NaN</td>\n",
       "      <td>NaN</td>\n",
       "      <td>Male</td>\n",
       "      <td>WISC</td>\n",
       "      <td>...</td>\n",
       "      <td>NaN</td>\n",
       "      <td>NaN</td>\n",
       "      <td>NaN</td>\n",
       "      <td>NaN</td>\n",
       "      <td>NaN</td>\n",
       "      <td>NaN</td>\n",
       "      <td>Mcdespot</td>\n",
       "      <td>8.0</td>\n",
       "      <td>C0126-8F-1B</td>\n",
       "      <td>75.366667</td>\n",
       "    </tr>\n",
       "    <tr>\n",
       "      <th>9</th>\n",
       "      <td>127.0</td>\n",
       "      <td>6.0</td>\n",
       "      <td>2 and over</td>\n",
       "      <td>0.0</td>\n",
       "      <td>Vaginal</td>\n",
       "      <td>NaN</td>\n",
       "      <td>NaN</td>\n",
       "      <td>NaN</td>\n",
       "      <td>Female</td>\n",
       "      <td>WISC</td>\n",
       "      <td>...</td>\n",
       "      <td>NaN</td>\n",
       "      <td>NaN</td>\n",
       "      <td>NaN</td>\n",
       "      <td>NaN</td>\n",
       "      <td>NaN</td>\n",
       "      <td>Yes</td>\n",
       "      <td>Mcdespot</td>\n",
       "      <td>6.0</td>\n",
       "      <td>C0127-6F-1B</td>\n",
       "      <td>112.233333</td>\n",
       "    </tr>\n",
       "    <tr>\n",
       "      <th>10</th>\n",
       "      <td>82.0</td>\n",
       "      <td>4.0</td>\n",
       "      <td>2 and over</td>\n",
       "      <td>0.0</td>\n",
       "      <td>Cesarean</td>\n",
       "      <td>NaN</td>\n",
       "      <td>NaN</td>\n",
       "      <td>13.321486</td>\n",
       "      <td>Female</td>\n",
       "      <td>WISC</td>\n",
       "      <td>...</td>\n",
       "      <td>NaN</td>\n",
       "      <td>NaN</td>\n",
       "      <td>NaN</td>\n",
       "      <td>NaN</td>\n",
       "      <td>NaN</td>\n",
       "      <td>NaN</td>\n",
       "      <td>Mcdespot</td>\n",
       "      <td>4.0</td>\n",
       "      <td>C0082-4F-1A</td>\n",
       "      <td>99.466667</td>\n",
       "    </tr>\n",
       "    <tr>\n",
       "      <th>11</th>\n",
       "      <td>507.0</td>\n",
       "      <td>1.0</td>\n",
       "      <td>2 and over</td>\n",
       "      <td>0.0</td>\n",
       "      <td>Vaginal</td>\n",
       "      <td>NaN</td>\n",
       "      <td>NaN</td>\n",
       "      <td>NaN</td>\n",
       "      <td>Male</td>\n",
       "      <td>WISC</td>\n",
       "      <td>...</td>\n",
       "      <td>NaN</td>\n",
       "      <td>NaN</td>\n",
       "      <td>NaN</td>\n",
       "      <td>NaN</td>\n",
       "      <td>NaN</td>\n",
       "      <td>Yes</td>\n",
       "      <td>Mcdespot</td>\n",
       "      <td>1.0</td>\n",
       "      <td>C0507-1F-1A</td>\n",
       "      <td>83.433333</td>\n",
       "    </tr>\n",
       "    <tr>\n",
       "      <th>12</th>\n",
       "      <td>507.0</td>\n",
       "      <td>1.0</td>\n",
       "      <td>2 and over</td>\n",
       "      <td>0.0</td>\n",
       "      <td>Vaginal</td>\n",
       "      <td>NaN</td>\n",
       "      <td>NaN</td>\n",
       "      <td>NaN</td>\n",
       "      <td>Male</td>\n",
       "      <td>WISC</td>\n",
       "      <td>...</td>\n",
       "      <td>NaN</td>\n",
       "      <td>NaN</td>\n",
       "      <td>NaN</td>\n",
       "      <td>NaN</td>\n",
       "      <td>NaN</td>\n",
       "      <td>Yes</td>\n",
       "      <td>Mcdespot</td>\n",
       "      <td>1.0</td>\n",
       "      <td>C0507-1F-2A</td>\n",
       "      <td>83.433333</td>\n",
       "    </tr>\n",
       "    <tr>\n",
       "      <th>13</th>\n",
       "      <td>240.0</td>\n",
       "      <td>3.0</td>\n",
       "      <td>2 and over</td>\n",
       "      <td>0.0</td>\n",
       "      <td>Vaginal</td>\n",
       "      <td>NaN</td>\n",
       "      <td>NaN</td>\n",
       "      <td>NaN</td>\n",
       "      <td>Female</td>\n",
       "      <td>WISC</td>\n",
       "      <td>...</td>\n",
       "      <td>NaN</td>\n",
       "      <td>NaN</td>\n",
       "      <td>NaN</td>\n",
       "      <td>NaN</td>\n",
       "      <td>NaN</td>\n",
       "      <td>Yes</td>\n",
       "      <td>Mcdespot</td>\n",
       "      <td>3.0</td>\n",
       "      <td>C0240-3F-1A</td>\n",
       "      <td>73.400000</td>\n",
       "    </tr>\n",
       "    <tr>\n",
       "      <th>14</th>\n",
       "      <td>240.0</td>\n",
       "      <td>3.0</td>\n",
       "      <td>2 and over</td>\n",
       "      <td>0.0</td>\n",
       "      <td>Vaginal</td>\n",
       "      <td>NaN</td>\n",
       "      <td>NaN</td>\n",
       "      <td>NaN</td>\n",
       "      <td>Female</td>\n",
       "      <td>WISC</td>\n",
       "      <td>...</td>\n",
       "      <td>NaN</td>\n",
       "      <td>NaN</td>\n",
       "      <td>NaN</td>\n",
       "      <td>NaN</td>\n",
       "      <td>NaN</td>\n",
       "      <td>Yes</td>\n",
       "      <td>Mcdespot</td>\n",
       "      <td>3.0</td>\n",
       "      <td>C0240-3F-2A</td>\n",
       "      <td>73.400000</td>\n",
       "    </tr>\n",
       "    <tr>\n",
       "      <th>15</th>\n",
       "      <td>61.0</td>\n",
       "      <td>6.0</td>\n",
       "      <td>2 and over</td>\n",
       "      <td>0.0</td>\n",
       "      <td>Vaginal</td>\n",
       "      <td>NaN</td>\n",
       "      <td>NaN</td>\n",
       "      <td>17.859429</td>\n",
       "      <td>Male</td>\n",
       "      <td>WISC</td>\n",
       "      <td>...</td>\n",
       "      <td>NaN</td>\n",
       "      <td>NaN</td>\n",
       "      <td>NaN</td>\n",
       "      <td>NaN</td>\n",
       "      <td>NaN</td>\n",
       "      <td>NaN</td>\n",
       "      <td>Mcdespot</td>\n",
       "      <td>6.0</td>\n",
       "      <td>C0061-6F-1A</td>\n",
       "      <td>130.733333</td>\n",
       "    </tr>\n",
       "    <tr>\n",
       "      <th>16</th>\n",
       "      <td>61.0</td>\n",
       "      <td>6.0</td>\n",
       "      <td>2 and over</td>\n",
       "      <td>0.0</td>\n",
       "      <td>Vaginal</td>\n",
       "      <td>NaN</td>\n",
       "      <td>NaN</td>\n",
       "      <td>17.859429</td>\n",
       "      <td>Male</td>\n",
       "      <td>WISC</td>\n",
       "      <td>...</td>\n",
       "      <td>NaN</td>\n",
       "      <td>NaN</td>\n",
       "      <td>NaN</td>\n",
       "      <td>NaN</td>\n",
       "      <td>NaN</td>\n",
       "      <td>NaN</td>\n",
       "      <td>Mcdespot</td>\n",
       "      <td>6.0</td>\n",
       "      <td>C0061-6F-2A</td>\n",
       "      <td>130.733333</td>\n",
       "    </tr>\n",
       "    <tr>\n",
       "      <th>17</th>\n",
       "      <td>43.0</td>\n",
       "      <td>7.0</td>\n",
       "      <td>2 and over</td>\n",
       "      <td>0.0</td>\n",
       "      <td>Vaginal</td>\n",
       "      <td>NaN</td>\n",
       "      <td>NaN</td>\n",
       "      <td>19.594504</td>\n",
       "      <td>Male</td>\n",
       "      <td>WISC</td>\n",
       "      <td>...</td>\n",
       "      <td>NaN</td>\n",
       "      <td>NaN</td>\n",
       "      <td>NaN</td>\n",
       "      <td>NaN</td>\n",
       "      <td>NaN</td>\n",
       "      <td>NaN</td>\n",
       "      <td>Mcdespot</td>\n",
       "      <td>7.0</td>\n",
       "      <td>C0043-7F-1A</td>\n",
       "      <td>86.600000</td>\n",
       "    </tr>\n",
       "    <tr>\n",
       "      <th>18</th>\n",
       "      <td>66.0</td>\n",
       "      <td>6.0</td>\n",
       "      <td>2 and over</td>\n",
       "      <td>0.0</td>\n",
       "      <td>Vaginal</td>\n",
       "      <td>NaN</td>\n",
       "      <td>NaN</td>\n",
       "      <td>13.764884</td>\n",
       "      <td>Male</td>\n",
       "      <td>WISC</td>\n",
       "      <td>...</td>\n",
       "      <td>NaN</td>\n",
       "      <td>NaN</td>\n",
       "      <td>NaN</td>\n",
       "      <td>NaN</td>\n",
       "      <td>NaN</td>\n",
       "      <td>NaN</td>\n",
       "      <td>Mcdespot</td>\n",
       "      <td>6.0</td>\n",
       "      <td>C0066-6F-1A</td>\n",
       "      <td>124.866667</td>\n",
       "    </tr>\n",
       "    <tr>\n",
       "      <th>19</th>\n",
       "      <td>66.0</td>\n",
       "      <td>6.0</td>\n",
       "      <td>2 and over</td>\n",
       "      <td>0.0</td>\n",
       "      <td>Vaginal</td>\n",
       "      <td>NaN</td>\n",
       "      <td>NaN</td>\n",
       "      <td>13.764884</td>\n",
       "      <td>Male</td>\n",
       "      <td>WISC</td>\n",
       "      <td>...</td>\n",
       "      <td>NaN</td>\n",
       "      <td>NaN</td>\n",
       "      <td>NaN</td>\n",
       "      <td>NaN</td>\n",
       "      <td>NaN</td>\n",
       "      <td>NaN</td>\n",
       "      <td>Mcdespot</td>\n",
       "      <td>6.0</td>\n",
       "      <td>C0066-6F-1B</td>\n",
       "      <td>124.866667</td>\n",
       "    </tr>\n",
       "    <tr>\n",
       "      <th>20</th>\n",
       "      <td>66.0</td>\n",
       "      <td>6.0</td>\n",
       "      <td>2 and over</td>\n",
       "      <td>0.0</td>\n",
       "      <td>Vaginal</td>\n",
       "      <td>NaN</td>\n",
       "      <td>NaN</td>\n",
       "      <td>13.764884</td>\n",
       "      <td>Male</td>\n",
       "      <td>WISC</td>\n",
       "      <td>...</td>\n",
       "      <td>NaN</td>\n",
       "      <td>NaN</td>\n",
       "      <td>NaN</td>\n",
       "      <td>NaN</td>\n",
       "      <td>NaN</td>\n",
       "      <td>NaN</td>\n",
       "      <td>Mcdespot</td>\n",
       "      <td>6.0</td>\n",
       "      <td>C0066-6F-2A</td>\n",
       "      <td>124.866667</td>\n",
       "    </tr>\n",
       "    <tr>\n",
       "      <th>21</th>\n",
       "      <td>229.0</td>\n",
       "      <td>4.0</td>\n",
       "      <td>2 and over</td>\n",
       "      <td>0.0</td>\n",
       "      <td>Vaginal</td>\n",
       "      <td>NaN</td>\n",
       "      <td>NaN</td>\n",
       "      <td>15.042535</td>\n",
       "      <td>Male</td>\n",
       "      <td>WISC</td>\n",
       "      <td>...</td>\n",
       "      <td>NaN</td>\n",
       "      <td>NaN</td>\n",
       "      <td>NaN</td>\n",
       "      <td>NaN</td>\n",
       "      <td>NaN</td>\n",
       "      <td>NaN</td>\n",
       "      <td>Mcdespot</td>\n",
       "      <td>4.0</td>\n",
       "      <td>C0229-4F-1A</td>\n",
       "      <td>110.300000</td>\n",
       "    </tr>\n",
       "    <tr>\n",
       "      <th>22</th>\n",
       "      <td>229.0</td>\n",
       "      <td>4.0</td>\n",
       "      <td>2 and over</td>\n",
       "      <td>0.0</td>\n",
       "      <td>Vaginal</td>\n",
       "      <td>NaN</td>\n",
       "      <td>NaN</td>\n",
       "      <td>15.042535</td>\n",
       "      <td>Male</td>\n",
       "      <td>WISC</td>\n",
       "      <td>...</td>\n",
       "      <td>NaN</td>\n",
       "      <td>NaN</td>\n",
       "      <td>NaN</td>\n",
       "      <td>NaN</td>\n",
       "      <td>NaN</td>\n",
       "      <td>NaN</td>\n",
       "      <td>Mcdespot</td>\n",
       "      <td>4.0</td>\n",
       "      <td>C0229-4F-2A</td>\n",
       "      <td>110.300000</td>\n",
       "    </tr>\n",
       "    <tr>\n",
       "      <th>23</th>\n",
       "      <td>117.0</td>\n",
       "      <td>4.0</td>\n",
       "      <td>2 and over</td>\n",
       "      <td>0.0</td>\n",
       "      <td>Cesarean</td>\n",
       "      <td>NaN</td>\n",
       "      <td>NaN</td>\n",
       "      <td>12.641523</td>\n",
       "      <td>Female</td>\n",
       "      <td>WISC</td>\n",
       "      <td>...</td>\n",
       "      <td>NaN</td>\n",
       "      <td>NaN</td>\n",
       "      <td>NaN</td>\n",
       "      <td>NaN</td>\n",
       "      <td>NaN</td>\n",
       "      <td>Yes</td>\n",
       "      <td>Mcdespot</td>\n",
       "      <td>4.0</td>\n",
       "      <td>C0117-4F-1A</td>\n",
       "      <td>105.800000</td>\n",
       "    </tr>\n",
       "    <tr>\n",
       "      <th>24</th>\n",
       "      <td>117.0</td>\n",
       "      <td>4.0</td>\n",
       "      <td>2 and over</td>\n",
       "      <td>0.0</td>\n",
       "      <td>Cesarean</td>\n",
       "      <td>NaN</td>\n",
       "      <td>NaN</td>\n",
       "      <td>12.641523</td>\n",
       "      <td>Female</td>\n",
       "      <td>WISC</td>\n",
       "      <td>...</td>\n",
       "      <td>NaN</td>\n",
       "      <td>NaN</td>\n",
       "      <td>NaN</td>\n",
       "      <td>NaN</td>\n",
       "      <td>NaN</td>\n",
       "      <td>Yes</td>\n",
       "      <td>Mcdespot</td>\n",
       "      <td>4.0</td>\n",
       "      <td>C0117-4F-1B</td>\n",
       "      <td>105.800000</td>\n",
       "    </tr>\n",
       "    <tr>\n",
       "      <th>25</th>\n",
       "      <td>117.0</td>\n",
       "      <td>4.0</td>\n",
       "      <td>2 and over</td>\n",
       "      <td>0.0</td>\n",
       "      <td>Cesarean</td>\n",
       "      <td>NaN</td>\n",
       "      <td>NaN</td>\n",
       "      <td>12.641523</td>\n",
       "      <td>Female</td>\n",
       "      <td>WISC</td>\n",
       "      <td>...</td>\n",
       "      <td>NaN</td>\n",
       "      <td>NaN</td>\n",
       "      <td>NaN</td>\n",
       "      <td>NaN</td>\n",
       "      <td>NaN</td>\n",
       "      <td>Yes</td>\n",
       "      <td>Mcdespot</td>\n",
       "      <td>4.0</td>\n",
       "      <td>C0117-4F-2A</td>\n",
       "      <td>105.800000</td>\n",
       "    </tr>\n",
       "    <tr>\n",
       "      <th>26</th>\n",
       "      <td>476.0</td>\n",
       "      <td>3.0</td>\n",
       "      <td>1 to 2</td>\n",
       "      <td>0.0</td>\n",
       "      <td>Vaginal</td>\n",
       "      <td>NaN</td>\n",
       "      <td>NaN</td>\n",
       "      <td>14.617694</td>\n",
       "      <td>Female</td>\n",
       "      <td>Mullen</td>\n",
       "      <td>...</td>\n",
       "      <td>0.0</td>\n",
       "      <td>-0.85</td>\n",
       "      <td>1.81</td>\n",
       "      <td>0.53</td>\n",
       "      <td>-0.69</td>\n",
       "      <td>Yes</td>\n",
       "      <td>Mcdespot</td>\n",
       "      <td>3.0</td>\n",
       "      <td>C0476-3F-1A</td>\n",
       "      <td>24.166667</td>\n",
       "    </tr>\n",
       "    <tr>\n",
       "      <th>27</th>\n",
       "      <td>476.0</td>\n",
       "      <td>3.0</td>\n",
       "      <td>1 to 2</td>\n",
       "      <td>0.0</td>\n",
       "      <td>Vaginal</td>\n",
       "      <td>NaN</td>\n",
       "      <td>NaN</td>\n",
       "      <td>14.617694</td>\n",
       "      <td>Female</td>\n",
       "      <td>Mullen</td>\n",
       "      <td>...</td>\n",
       "      <td>0.0</td>\n",
       "      <td>-0.85</td>\n",
       "      <td>1.81</td>\n",
       "      <td>0.53</td>\n",
       "      <td>-0.69</td>\n",
       "      <td>Yes</td>\n",
       "      <td>Mcdespot</td>\n",
       "      <td>3.0</td>\n",
       "      <td>C0476-3F-2A</td>\n",
       "      <td>24.166667</td>\n",
       "    </tr>\n",
       "    <tr>\n",
       "      <th>28</th>\n",
       "      <td>479.0</td>\n",
       "      <td>3.0</td>\n",
       "      <td>2 and over</td>\n",
       "      <td>0.0</td>\n",
       "      <td>Vaginal</td>\n",
       "      <td>NaN</td>\n",
       "      <td>NaN</td>\n",
       "      <td>14.717395</td>\n",
       "      <td>Female</td>\n",
       "      <td>Mullen</td>\n",
       "      <td>...</td>\n",
       "      <td>0.0</td>\n",
       "      <td>-0.76</td>\n",
       "      <td>-0.68</td>\n",
       "      <td>-0.91</td>\n",
       "      <td>-0.81</td>\n",
       "      <td>NaN</td>\n",
       "      <td>Mcdespot</td>\n",
       "      <td>3.0</td>\n",
       "      <td>C0479-3F-1A</td>\n",
       "      <td>24.766667</td>\n",
       "    </tr>\n",
       "    <tr>\n",
       "      <th>29</th>\n",
       "      <td>479.0</td>\n",
       "      <td>3.0</td>\n",
       "      <td>2 and over</td>\n",
       "      <td>0.0</td>\n",
       "      <td>Vaginal</td>\n",
       "      <td>NaN</td>\n",
       "      <td>NaN</td>\n",
       "      <td>14.717395</td>\n",
       "      <td>Female</td>\n",
       "      <td>Mullen</td>\n",
       "      <td>...</td>\n",
       "      <td>0.0</td>\n",
       "      <td>-0.76</td>\n",
       "      <td>-0.68</td>\n",
       "      <td>-0.91</td>\n",
       "      <td>-0.81</td>\n",
       "      <td>NaN</td>\n",
       "      <td>Mcdespot</td>\n",
       "      <td>3.0</td>\n",
       "      <td>C0479-3F-2A</td>\n",
       "      <td>24.766667</td>\n",
       "    </tr>\n",
       "    <tr>\n",
       "      <th>...</th>\n",
       "      <td>...</td>\n",
       "      <td>...</td>\n",
       "      <td>...</td>\n",
       "      <td>...</td>\n",
       "      <td>...</td>\n",
       "      <td>...</td>\n",
       "      <td>...</td>\n",
       "      <td>...</td>\n",
       "      <td>...</td>\n",
       "      <td>...</td>\n",
       "      <td>...</td>\n",
       "      <td>...</td>\n",
       "      <td>...</td>\n",
       "      <td>...</td>\n",
       "      <td>...</td>\n",
       "      <td>...</td>\n",
       "      <td>...</td>\n",
       "      <td>...</td>\n",
       "      <td>...</td>\n",
       "      <td>...</td>\n",
       "      <td>...</td>\n",
       "    </tr>\n",
       "    <tr>\n",
       "      <th>1192</th>\n",
       "      <td>1273.0</td>\n",
       "      <td>4.0</td>\n",
       "      <td>1 and under</td>\n",
       "      <td>0.0</td>\n",
       "      <td>Cesarean</td>\n",
       "      <td>NaN</td>\n",
       "      <td>NaN</td>\n",
       "      <td>15.939892</td>\n",
       "      <td>Male</td>\n",
       "      <td>None</td>\n",
       "      <td>...</td>\n",
       "      <td>0.0</td>\n",
       "      <td>0.02</td>\n",
       "      <td>-1.89</td>\n",
       "      <td>-1.03</td>\n",
       "      <td>1.16</td>\n",
       "      <td>NaN</td>\n",
       "      <td>Mcdespot</td>\n",
       "      <td>4.0</td>\n",
       "      <td>C1273-4F-1A</td>\n",
       "      <td>0.933333</td>\n",
       "    </tr>\n",
       "    <tr>\n",
       "      <th>1193</th>\n",
       "      <td>1371.0</td>\n",
       "      <td>1.0</td>\n",
       "      <td>Prenatal</td>\n",
       "      <td>0.0</td>\n",
       "      <td>NaN</td>\n",
       "      <td>NaN</td>\n",
       "      <td>NaN</td>\n",
       "      <td>NaN</td>\n",
       "      <td>Male</td>\n",
       "      <td>None</td>\n",
       "      <td>...</td>\n",
       "      <td>NaN</td>\n",
       "      <td>NaN</td>\n",
       "      <td>NaN</td>\n",
       "      <td>NaN</td>\n",
       "      <td>NaN</td>\n",
       "      <td>NaN</td>\n",
       "      <td>NaN</td>\n",
       "      <td>NaN</td>\n",
       "      <td>M1371-1F-1A</td>\n",
       "      <td>NaN</td>\n",
       "    </tr>\n",
       "    <tr>\n",
       "      <th>1194</th>\n",
       "      <td>1316.0</td>\n",
       "      <td>3.0</td>\n",
       "      <td>Prenatal</td>\n",
       "      <td>0.0</td>\n",
       "      <td>NaN</td>\n",
       "      <td>NaN</td>\n",
       "      <td>NaN</td>\n",
       "      <td>NaN</td>\n",
       "      <td>Male</td>\n",
       "      <td>None</td>\n",
       "      <td>...</td>\n",
       "      <td>NaN</td>\n",
       "      <td>NaN</td>\n",
       "      <td>NaN</td>\n",
       "      <td>NaN</td>\n",
       "      <td>NaN</td>\n",
       "      <td>NaN</td>\n",
       "      <td>NaN</td>\n",
       "      <td>NaN</td>\n",
       "      <td>M1316-3F-1A</td>\n",
       "      <td>NaN</td>\n",
       "    </tr>\n",
       "    <tr>\n",
       "      <th>1195</th>\n",
       "      <td>1342.0</td>\n",
       "      <td>2.0</td>\n",
       "      <td>Prenatal</td>\n",
       "      <td>0.0</td>\n",
       "      <td>NaN</td>\n",
       "      <td>NaN</td>\n",
       "      <td>NaN</td>\n",
       "      <td>NaN</td>\n",
       "      <td>Female</td>\n",
       "      <td>None</td>\n",
       "      <td>...</td>\n",
       "      <td>NaN</td>\n",
       "      <td>NaN</td>\n",
       "      <td>NaN</td>\n",
       "      <td>NaN</td>\n",
       "      <td>NaN</td>\n",
       "      <td>NaN</td>\n",
       "      <td>NaN</td>\n",
       "      <td>NaN</td>\n",
       "      <td>M1342-2F-1A</td>\n",
       "      <td>NaN</td>\n",
       "    </tr>\n",
       "    <tr>\n",
       "      <th>1196</th>\n",
       "      <td>635.0</td>\n",
       "      <td>3.0</td>\n",
       "      <td>2 and over</td>\n",
       "      <td>0.0</td>\n",
       "      <td>Vaginal</td>\n",
       "      <td>NaN</td>\n",
       "      <td>NaN</td>\n",
       "      <td>14.673942</td>\n",
       "      <td>Female</td>\n",
       "      <td>None</td>\n",
       "      <td>...</td>\n",
       "      <td>NaN</td>\n",
       "      <td>NaN</td>\n",
       "      <td>NaN</td>\n",
       "      <td>NaN</td>\n",
       "      <td>NaN</td>\n",
       "      <td>NaN</td>\n",
       "      <td>Mcdespot</td>\n",
       "      <td>3.0</td>\n",
       "      <td>C0635-3F-1A</td>\n",
       "      <td>67.866667</td>\n",
       "    </tr>\n",
       "    <tr>\n",
       "      <th>1197</th>\n",
       "      <td>1352.0</td>\n",
       "      <td>2.0</td>\n",
       "      <td>Prenatal</td>\n",
       "      <td>0.0</td>\n",
       "      <td>NaN</td>\n",
       "      <td>NaN</td>\n",
       "      <td>NaN</td>\n",
       "      <td>NaN</td>\n",
       "      <td>Male</td>\n",
       "      <td>None</td>\n",
       "      <td>...</td>\n",
       "      <td>NaN</td>\n",
       "      <td>NaN</td>\n",
       "      <td>NaN</td>\n",
       "      <td>NaN</td>\n",
       "      <td>NaN</td>\n",
       "      <td>NaN</td>\n",
       "      <td>NaN</td>\n",
       "      <td>NaN</td>\n",
       "      <td>M1352-2F-1A</td>\n",
       "      <td>NaN</td>\n",
       "    </tr>\n",
       "    <tr>\n",
       "      <th>1198</th>\n",
       "      <td>1324.0</td>\n",
       "      <td>3.0</td>\n",
       "      <td>Prenatal</td>\n",
       "      <td>0.0</td>\n",
       "      <td>NaN</td>\n",
       "      <td>NaN</td>\n",
       "      <td>NaN</td>\n",
       "      <td>NaN</td>\n",
       "      <td>Female</td>\n",
       "      <td>None</td>\n",
       "      <td>...</td>\n",
       "      <td>NaN</td>\n",
       "      <td>NaN</td>\n",
       "      <td>NaN</td>\n",
       "      <td>NaN</td>\n",
       "      <td>NaN</td>\n",
       "      <td>NaN</td>\n",
       "      <td>NaN</td>\n",
       "      <td>NaN</td>\n",
       "      <td>M1324-3F-1A</td>\n",
       "      <td>NaN</td>\n",
       "    </tr>\n",
       "    <tr>\n",
       "      <th>1199</th>\n",
       "      <td>1305.0</td>\n",
       "      <td>3.0</td>\n",
       "      <td>Prenatal</td>\n",
       "      <td>0.0</td>\n",
       "      <td>NaN</td>\n",
       "      <td>NaN</td>\n",
       "      <td>NaN</td>\n",
       "      <td>NaN</td>\n",
       "      <td>Male</td>\n",
       "      <td>None</td>\n",
       "      <td>...</td>\n",
       "      <td>NaN</td>\n",
       "      <td>NaN</td>\n",
       "      <td>NaN</td>\n",
       "      <td>NaN</td>\n",
       "      <td>NaN</td>\n",
       "      <td>NaN</td>\n",
       "      <td>NaN</td>\n",
       "      <td>NaN</td>\n",
       "      <td>M1305-3F-1A</td>\n",
       "      <td>NaN</td>\n",
       "    </tr>\n",
       "    <tr>\n",
       "      <th>1200</th>\n",
       "      <td>1318.0</td>\n",
       "      <td>3.0</td>\n",
       "      <td>Prenatal</td>\n",
       "      <td>0.0</td>\n",
       "      <td>NaN</td>\n",
       "      <td>NaN</td>\n",
       "      <td>NaN</td>\n",
       "      <td>NaN</td>\n",
       "      <td>Male</td>\n",
       "      <td>None</td>\n",
       "      <td>...</td>\n",
       "      <td>NaN</td>\n",
       "      <td>NaN</td>\n",
       "      <td>NaN</td>\n",
       "      <td>NaN</td>\n",
       "      <td>NaN</td>\n",
       "      <td>NaN</td>\n",
       "      <td>NaN</td>\n",
       "      <td>NaN</td>\n",
       "      <td>M1318-3F-1A</td>\n",
       "      <td>NaN</td>\n",
       "    </tr>\n",
       "    <tr>\n",
       "      <th>1201</th>\n",
       "      <td>1322.0</td>\n",
       "      <td>3.0</td>\n",
       "      <td>Prenatal</td>\n",
       "      <td>0.0</td>\n",
       "      <td>Vaginal</td>\n",
       "      <td>NaN</td>\n",
       "      <td>NaN</td>\n",
       "      <td>NaN</td>\n",
       "      <td>Female</td>\n",
       "      <td>None</td>\n",
       "      <td>...</td>\n",
       "      <td>NaN</td>\n",
       "      <td>NaN</td>\n",
       "      <td>NaN</td>\n",
       "      <td>NaN</td>\n",
       "      <td>NaN</td>\n",
       "      <td>NaN</td>\n",
       "      <td>NaN</td>\n",
       "      <td>NaN</td>\n",
       "      <td>M1322-3F-1A</td>\n",
       "      <td>NaN</td>\n",
       "    </tr>\n",
       "    <tr>\n",
       "      <th>1202</th>\n",
       "      <td>571.0</td>\n",
       "      <td>3.0</td>\n",
       "      <td>2 and over</td>\n",
       "      <td>0.0</td>\n",
       "      <td>Vaginal</td>\n",
       "      <td>NaN</td>\n",
       "      <td>NaN</td>\n",
       "      <td>14.270571</td>\n",
       "      <td>Male</td>\n",
       "      <td>WISC</td>\n",
       "      <td>...</td>\n",
       "      <td>NaN</td>\n",
       "      <td>NaN</td>\n",
       "      <td>NaN</td>\n",
       "      <td>NaN</td>\n",
       "      <td>NaN</td>\n",
       "      <td>NaN</td>\n",
       "      <td>Mcdespot</td>\n",
       "      <td>3.0</td>\n",
       "      <td>C0571-3F-1A</td>\n",
       "      <td>72.900000</td>\n",
       "    </tr>\n",
       "    <tr>\n",
       "      <th>1203</th>\n",
       "      <td>1353.0</td>\n",
       "      <td>2.0</td>\n",
       "      <td>Prenatal</td>\n",
       "      <td>0.0</td>\n",
       "      <td>NaN</td>\n",
       "      <td>NaN</td>\n",
       "      <td>NaN</td>\n",
       "      <td>NaN</td>\n",
       "      <td>Male</td>\n",
       "      <td>None</td>\n",
       "      <td>...</td>\n",
       "      <td>NaN</td>\n",
       "      <td>NaN</td>\n",
       "      <td>NaN</td>\n",
       "      <td>NaN</td>\n",
       "      <td>NaN</td>\n",
       "      <td>NaN</td>\n",
       "      <td>NaN</td>\n",
       "      <td>NaN</td>\n",
       "      <td>M1353-2F-1A</td>\n",
       "      <td>NaN</td>\n",
       "    </tr>\n",
       "    <tr>\n",
       "      <th>1204</th>\n",
       "      <td>1376.0</td>\n",
       "      <td>1.0</td>\n",
       "      <td>2 and over</td>\n",
       "      <td>0.0</td>\n",
       "      <td>Vaginal</td>\n",
       "      <td>NaN</td>\n",
       "      <td>NaN</td>\n",
       "      <td>18.803472</td>\n",
       "      <td>Female</td>\n",
       "      <td>WPPSI</td>\n",
       "      <td>...</td>\n",
       "      <td>NaN</td>\n",
       "      <td>NaN</td>\n",
       "      <td>NaN</td>\n",
       "      <td>NaN</td>\n",
       "      <td>NaN</td>\n",
       "      <td>NaN</td>\n",
       "      <td>Mcdespot</td>\n",
       "      <td>1.0</td>\n",
       "      <td>M1376-1F-1A</td>\n",
       "      <td>73.166667</td>\n",
       "    </tr>\n",
       "    <tr>\n",
       "      <th>1205</th>\n",
       "      <td>1347.0</td>\n",
       "      <td>2.0</td>\n",
       "      <td>Prenatal</td>\n",
       "      <td>0.0</td>\n",
       "      <td>NaN</td>\n",
       "      <td>NaN</td>\n",
       "      <td>NaN</td>\n",
       "      <td>NaN</td>\n",
       "      <td>Female</td>\n",
       "      <td>None</td>\n",
       "      <td>...</td>\n",
       "      <td>NaN</td>\n",
       "      <td>NaN</td>\n",
       "      <td>NaN</td>\n",
       "      <td>NaN</td>\n",
       "      <td>NaN</td>\n",
       "      <td>NaN</td>\n",
       "      <td>NaN</td>\n",
       "      <td>NaN</td>\n",
       "      <td>M1347-2F-1A</td>\n",
       "      <td>NaN</td>\n",
       "    </tr>\n",
       "    <tr>\n",
       "      <th>1206</th>\n",
       "      <td>1345.0</td>\n",
       "      <td>2.0</td>\n",
       "      <td>Prenatal</td>\n",
       "      <td>0.0</td>\n",
       "      <td>NaN</td>\n",
       "      <td>NaN</td>\n",
       "      <td>NaN</td>\n",
       "      <td>NaN</td>\n",
       "      <td>Female</td>\n",
       "      <td>None</td>\n",
       "      <td>...</td>\n",
       "      <td>NaN</td>\n",
       "      <td>NaN</td>\n",
       "      <td>NaN</td>\n",
       "      <td>NaN</td>\n",
       "      <td>NaN</td>\n",
       "      <td>NaN</td>\n",
       "      <td>NaN</td>\n",
       "      <td>NaN</td>\n",
       "      <td>M1345-2F-1A</td>\n",
       "      <td>NaN</td>\n",
       "    </tr>\n",
       "    <tr>\n",
       "      <th>1207</th>\n",
       "      <td>123.0</td>\n",
       "      <td>5.0</td>\n",
       "      <td>2 and over</td>\n",
       "      <td>0.0</td>\n",
       "      <td>Vaginal</td>\n",
       "      <td>NaN</td>\n",
       "      <td>NaN</td>\n",
       "      <td>NaN</td>\n",
       "      <td>Female</td>\n",
       "      <td>WISC</td>\n",
       "      <td>...</td>\n",
       "      <td>NaN</td>\n",
       "      <td>NaN</td>\n",
       "      <td>NaN</td>\n",
       "      <td>NaN</td>\n",
       "      <td>NaN</td>\n",
       "      <td>NaN</td>\n",
       "      <td>Mcdespot</td>\n",
       "      <td>5.0</td>\n",
       "      <td>C0123-5F-1A</td>\n",
       "      <td>116.033333</td>\n",
       "    </tr>\n",
       "    <tr>\n",
       "      <th>1208</th>\n",
       "      <td>623.0</td>\n",
       "      <td>3.0</td>\n",
       "      <td>2 and over</td>\n",
       "      <td>0.0</td>\n",
       "      <td>Cesarean</td>\n",
       "      <td>NaN</td>\n",
       "      <td>NaN</td>\n",
       "      <td>13.531110</td>\n",
       "      <td>Male</td>\n",
       "      <td>None</td>\n",
       "      <td>...</td>\n",
       "      <td>NaN</td>\n",
       "      <td>NaN</td>\n",
       "      <td>NaN</td>\n",
       "      <td>NaN</td>\n",
       "      <td>NaN</td>\n",
       "      <td>NaN</td>\n",
       "      <td>Mcdespot</td>\n",
       "      <td>3.0</td>\n",
       "      <td>C0623-3F-1A</td>\n",
       "      <td>93.233333</td>\n",
       "    </tr>\n",
       "    <tr>\n",
       "      <th>1209</th>\n",
       "      <td>1359.0</td>\n",
       "      <td>2.0</td>\n",
       "      <td>Prenatal</td>\n",
       "      <td>0.0</td>\n",
       "      <td>NaN</td>\n",
       "      <td>NaN</td>\n",
       "      <td>NaN</td>\n",
       "      <td>NaN</td>\n",
       "      <td>Female</td>\n",
       "      <td>None</td>\n",
       "      <td>...</td>\n",
       "      <td>NaN</td>\n",
       "      <td>NaN</td>\n",
       "      <td>NaN</td>\n",
       "      <td>NaN</td>\n",
       "      <td>NaN</td>\n",
       "      <td>NaN</td>\n",
       "      <td>NaN</td>\n",
       "      <td>NaN</td>\n",
       "      <td>M1359-2F-1A</td>\n",
       "      <td>NaN</td>\n",
       "    </tr>\n",
       "    <tr>\n",
       "      <th>1210</th>\n",
       "      <td>1050.0</td>\n",
       "      <td>9.0</td>\n",
       "      <td>1 and under</td>\n",
       "      <td>0.0</td>\n",
       "      <td>Vaginal</td>\n",
       "      <td>NaN</td>\n",
       "      <td>NaN</td>\n",
       "      <td>NaN</td>\n",
       "      <td>Female</td>\n",
       "      <td>None</td>\n",
       "      <td>...</td>\n",
       "      <td>NaN</td>\n",
       "      <td>NaN</td>\n",
       "      <td>NaN</td>\n",
       "      <td>NaN</td>\n",
       "      <td>NaN</td>\n",
       "      <td>NaN</td>\n",
       "      <td>NaN</td>\n",
       "      <td>NaN</td>\n",
       "      <td>C1050-9F-1A</td>\n",
       "      <td>7.333333</td>\n",
       "    </tr>\n",
       "    <tr>\n",
       "      <th>1211</th>\n",
       "      <td>1220.0</td>\n",
       "      <td>4.0</td>\n",
       "      <td>1 and under</td>\n",
       "      <td>0.0</td>\n",
       "      <td>Vaginal</td>\n",
       "      <td>NaN</td>\n",
       "      <td>NaN</td>\n",
       "      <td>18.925557</td>\n",
       "      <td>Male</td>\n",
       "      <td>Mullen</td>\n",
       "      <td>...</td>\n",
       "      <td>0.0</td>\n",
       "      <td>1.24</td>\n",
       "      <td>1.63</td>\n",
       "      <td>1.85</td>\n",
       "      <td>1.13</td>\n",
       "      <td>NaN</td>\n",
       "      <td>NaN</td>\n",
       "      <td>NaN</td>\n",
       "      <td>C1220-4F-1A</td>\n",
       "      <td>3.533333</td>\n",
       "    </tr>\n",
       "    <tr>\n",
       "      <th>1212</th>\n",
       "      <td>1362.0</td>\n",
       "      <td>2.0</td>\n",
       "      <td>Prenatal</td>\n",
       "      <td>0.0</td>\n",
       "      <td>NaN</td>\n",
       "      <td>NaN</td>\n",
       "      <td>NaN</td>\n",
       "      <td>NaN</td>\n",
       "      <td>Female</td>\n",
       "      <td>None</td>\n",
       "      <td>...</td>\n",
       "      <td>NaN</td>\n",
       "      <td>NaN</td>\n",
       "      <td>NaN</td>\n",
       "      <td>NaN</td>\n",
       "      <td>NaN</td>\n",
       "      <td>NaN</td>\n",
       "      <td>NaN</td>\n",
       "      <td>NaN</td>\n",
       "      <td>M1362-2F-1A</td>\n",
       "      <td>NaN</td>\n",
       "    </tr>\n",
       "    <tr>\n",
       "      <th>1213</th>\n",
       "      <td>1215.0</td>\n",
       "      <td>4.0</td>\n",
       "      <td>1 and under</td>\n",
       "      <td>0.0</td>\n",
       "      <td>Cesarean</td>\n",
       "      <td>NaN</td>\n",
       "      <td>NaN</td>\n",
       "      <td>19.160249</td>\n",
       "      <td>Female</td>\n",
       "      <td>Mullen</td>\n",
       "      <td>...</td>\n",
       "      <td>0.0</td>\n",
       "      <td>1.57</td>\n",
       "      <td>-0.20</td>\n",
       "      <td>1.05</td>\n",
       "      <td>1.62</td>\n",
       "      <td>NaN</td>\n",
       "      <td>NaN</td>\n",
       "      <td>NaN</td>\n",
       "      <td>C1215-4F-1A</td>\n",
       "      <td>3.733333</td>\n",
       "    </tr>\n",
       "    <tr>\n",
       "      <th>1214</th>\n",
       "      <td>1336.0</td>\n",
       "      <td>3.0</td>\n",
       "      <td>Prenatal</td>\n",
       "      <td>0.0</td>\n",
       "      <td>NaN</td>\n",
       "      <td>NaN</td>\n",
       "      <td>NaN</td>\n",
       "      <td>NaN</td>\n",
       "      <td>Female</td>\n",
       "      <td>None</td>\n",
       "      <td>...</td>\n",
       "      <td>NaN</td>\n",
       "      <td>NaN</td>\n",
       "      <td>NaN</td>\n",
       "      <td>NaN</td>\n",
       "      <td>NaN</td>\n",
       "      <td>NaN</td>\n",
       "      <td>NaN</td>\n",
       "      <td>NaN</td>\n",
       "      <td>M1336-3F-1A</td>\n",
       "      <td>NaN</td>\n",
       "    </tr>\n",
       "    <tr>\n",
       "      <th>1215</th>\n",
       "      <td>1271.0</td>\n",
       "      <td>4.0</td>\n",
       "      <td>1 and under</td>\n",
       "      <td>0.0</td>\n",
       "      <td>Cesarean</td>\n",
       "      <td>NaN</td>\n",
       "      <td>NaN</td>\n",
       "      <td>NaN</td>\n",
       "      <td>Female</td>\n",
       "      <td>None</td>\n",
       "      <td>...</td>\n",
       "      <td>NaN</td>\n",
       "      <td>NaN</td>\n",
       "      <td>NaN</td>\n",
       "      <td>NaN</td>\n",
       "      <td>NaN</td>\n",
       "      <td>NaN</td>\n",
       "      <td>Mcdespot</td>\n",
       "      <td>4.0</td>\n",
       "      <td>C1271-4F-1A</td>\n",
       "      <td>1.466667</td>\n",
       "    </tr>\n",
       "    <tr>\n",
       "      <th>1216</th>\n",
       "      <td>1244.0</td>\n",
       "      <td>4.0</td>\n",
       "      <td>1 and under</td>\n",
       "      <td>0.0</td>\n",
       "      <td>Vaginal</td>\n",
       "      <td>NaN</td>\n",
       "      <td>NaN</td>\n",
       "      <td>17.141863</td>\n",
       "      <td>Female</td>\n",
       "      <td>Mullen</td>\n",
       "      <td>...</td>\n",
       "      <td>0.0</td>\n",
       "      <td>0.32</td>\n",
       "      <td>-1.58</td>\n",
       "      <td>-0.67</td>\n",
       "      <td>0.74</td>\n",
       "      <td>NaN</td>\n",
       "      <td>Mcdespot</td>\n",
       "      <td>4.0</td>\n",
       "      <td>C1244-4F-1A</td>\n",
       "      <td>3.933333</td>\n",
       "    </tr>\n",
       "    <tr>\n",
       "      <th>1217</th>\n",
       "      <td>1234.0</td>\n",
       "      <td>4.0</td>\n",
       "      <td>1 and under</td>\n",
       "      <td>0.0</td>\n",
       "      <td>Vaginal</td>\n",
       "      <td>NaN</td>\n",
       "      <td>NaN</td>\n",
       "      <td>16.537532</td>\n",
       "      <td>Female</td>\n",
       "      <td>Mullen</td>\n",
       "      <td>...</td>\n",
       "      <td>0.0</td>\n",
       "      <td>-0.07</td>\n",
       "      <td>-2.17</td>\n",
       "      <td>-1.31</td>\n",
       "      <td>0.57</td>\n",
       "      <td>NaN</td>\n",
       "      <td>Mcdespot</td>\n",
       "      <td>4.0</td>\n",
       "      <td>C1234-4F-1A</td>\n",
       "      <td>3.233333</td>\n",
       "    </tr>\n",
       "    <tr>\n",
       "      <th>1218</th>\n",
       "      <td>1333.0</td>\n",
       "      <td>3.0</td>\n",
       "      <td>Prenatal</td>\n",
       "      <td>0.0</td>\n",
       "      <td>NaN</td>\n",
       "      <td>NaN</td>\n",
       "      <td>NaN</td>\n",
       "      <td>NaN</td>\n",
       "      <td>Male</td>\n",
       "      <td>None</td>\n",
       "      <td>...</td>\n",
       "      <td>NaN</td>\n",
       "      <td>NaN</td>\n",
       "      <td>NaN</td>\n",
       "      <td>NaN</td>\n",
       "      <td>NaN</td>\n",
       "      <td>NaN</td>\n",
       "      <td>NaN</td>\n",
       "      <td>NaN</td>\n",
       "      <td>M1333-3F-1A</td>\n",
       "      <td>NaN</td>\n",
       "    </tr>\n",
       "    <tr>\n",
       "      <th>1219</th>\n",
       "      <td>1135.0</td>\n",
       "      <td>5.0</td>\n",
       "      <td>1 and under</td>\n",
       "      <td>0.0</td>\n",
       "      <td>Cesarean</td>\n",
       "      <td>NaN</td>\n",
       "      <td>NaN</td>\n",
       "      <td>19.675012</td>\n",
       "      <td>Female</td>\n",
       "      <td>Mullen</td>\n",
       "      <td>...</td>\n",
       "      <td>0.0</td>\n",
       "      <td>1.66</td>\n",
       "      <td>-0.50</td>\n",
       "      <td>0.96</td>\n",
       "      <td>1.71</td>\n",
       "      <td>NaN</td>\n",
       "      <td>NaN</td>\n",
       "      <td>NaN</td>\n",
       "      <td>C1135-5F-1A</td>\n",
       "      <td>6.000000</td>\n",
       "    </tr>\n",
       "    <tr>\n",
       "      <th>1220</th>\n",
       "      <td>492.0</td>\n",
       "      <td>7.0</td>\n",
       "      <td>1 to 2</td>\n",
       "      <td>0.0</td>\n",
       "      <td>Vaginal</td>\n",
       "      <td>NaN</td>\n",
       "      <td>NaN</td>\n",
       "      <td>16.206351</td>\n",
       "      <td>Male</td>\n",
       "      <td>Mullen</td>\n",
       "      <td>...</td>\n",
       "      <td>0.0</td>\n",
       "      <td>0.05</td>\n",
       "      <td>-0.69</td>\n",
       "      <td>-0.39</td>\n",
       "      <td>-0.06</td>\n",
       "      <td>NaN</td>\n",
       "      <td>Mcdespot</td>\n",
       "      <td>7.0</td>\n",
       "      <td>C0492-7F-1A</td>\n",
       "      <td>18.400000</td>\n",
       "    </tr>\n",
       "    <tr>\n",
       "      <th>1221</th>\n",
       "      <td>194.0</td>\n",
       "      <td>5.0</td>\n",
       "      <td>2 and over</td>\n",
       "      <td>0.0</td>\n",
       "      <td>Cesarean</td>\n",
       "      <td>NaN</td>\n",
       "      <td>NaN</td>\n",
       "      <td>19.445971</td>\n",
       "      <td>Female</td>\n",
       "      <td>None</td>\n",
       "      <td>...</td>\n",
       "      <td>NaN</td>\n",
       "      <td>NaN</td>\n",
       "      <td>NaN</td>\n",
       "      <td>NaN</td>\n",
       "      <td>NaN</td>\n",
       "      <td>NaN</td>\n",
       "      <td>Mcdespot</td>\n",
       "      <td>5.0</td>\n",
       "      <td>C0194-5F-1A</td>\n",
       "      <td>117.700000</td>\n",
       "    </tr>\n",
       "  </tbody>\n",
       "</table>\n",
       "<p>1222 rows × 47 columns</p>\n",
       "</div>"
      ],
      "text/plain": [
       "      subjectID  timepoint     ageLabel  ASLProcessed birthType  \\\n",
       "0          52.0        5.0   2 and over           0.0  Cesarean   \n",
       "1          53.0        6.0   2 and over           0.0  Cesarean   \n",
       "2         202.0        4.0   2 and over           0.0   Vaginal   \n",
       "3         202.0        4.0   2 and over           0.0   Vaginal   \n",
       "4         420.0        4.0   2 and over           0.0   Vaginal   \n",
       "5         420.0        4.0   2 and over           0.0   Vaginal   \n",
       "6         108.0        4.0   2 and over           0.0  Cesarean   \n",
       "7         126.0        8.0   2 and over           0.0   Vaginal   \n",
       "8         126.0        8.0   2 and over           0.0   Vaginal   \n",
       "9         127.0        6.0   2 and over           0.0   Vaginal   \n",
       "10         82.0        4.0   2 and over           0.0  Cesarean   \n",
       "11        507.0        1.0   2 and over           0.0   Vaginal   \n",
       "12        507.0        1.0   2 and over           0.0   Vaginal   \n",
       "13        240.0        3.0   2 and over           0.0   Vaginal   \n",
       "14        240.0        3.0   2 and over           0.0   Vaginal   \n",
       "15         61.0        6.0   2 and over           0.0   Vaginal   \n",
       "16         61.0        6.0   2 and over           0.0   Vaginal   \n",
       "17         43.0        7.0   2 and over           0.0   Vaginal   \n",
       "18         66.0        6.0   2 and over           0.0   Vaginal   \n",
       "19         66.0        6.0   2 and over           0.0   Vaginal   \n",
       "20         66.0        6.0   2 and over           0.0   Vaginal   \n",
       "21        229.0        4.0   2 and over           0.0   Vaginal   \n",
       "22        229.0        4.0   2 and over           0.0   Vaginal   \n",
       "23        117.0        4.0   2 and over           0.0  Cesarean   \n",
       "24        117.0        4.0   2 and over           0.0  Cesarean   \n",
       "25        117.0        4.0   2 and over           0.0  Cesarean   \n",
       "26        476.0        3.0       1 to 2           0.0   Vaginal   \n",
       "27        476.0        3.0       1 to 2           0.0   Vaginal   \n",
       "28        479.0        3.0   2 and over           0.0   Vaginal   \n",
       "29        479.0        3.0   2 and over           0.0   Vaginal   \n",
       "...         ...        ...          ...           ...       ...   \n",
       "1192     1273.0        4.0  1 and under           0.0  Cesarean   \n",
       "1193     1371.0        1.0     Prenatal           0.0       NaN   \n",
       "1194     1316.0        3.0     Prenatal           0.0       NaN   \n",
       "1195     1342.0        2.0     Prenatal           0.0       NaN   \n",
       "1196      635.0        3.0   2 and over           0.0   Vaginal   \n",
       "1197     1352.0        2.0     Prenatal           0.0       NaN   \n",
       "1198     1324.0        3.0     Prenatal           0.0       NaN   \n",
       "1199     1305.0        3.0     Prenatal           0.0       NaN   \n",
       "1200     1318.0        3.0     Prenatal           0.0       NaN   \n",
       "1201     1322.0        3.0     Prenatal           0.0   Vaginal   \n",
       "1202      571.0        3.0   2 and over           0.0   Vaginal   \n",
       "1203     1353.0        2.0     Prenatal           0.0       NaN   \n",
       "1204     1376.0        1.0   2 and over           0.0   Vaginal   \n",
       "1205     1347.0        2.0     Prenatal           0.0       NaN   \n",
       "1206     1345.0        2.0     Prenatal           0.0       NaN   \n",
       "1207      123.0        5.0   2 and over           0.0   Vaginal   \n",
       "1208      623.0        3.0   2 and over           0.0  Cesarean   \n",
       "1209     1359.0        2.0     Prenatal           0.0       NaN   \n",
       "1210     1050.0        9.0  1 and under           0.0   Vaginal   \n",
       "1211     1220.0        4.0  1 and under           0.0   Vaginal   \n",
       "1212     1362.0        2.0     Prenatal           0.0       NaN   \n",
       "1213     1215.0        4.0  1 and under           0.0  Cesarean   \n",
       "1214     1336.0        3.0     Prenatal           0.0       NaN   \n",
       "1215     1271.0        4.0  1 and under           0.0  Cesarean   \n",
       "1216     1244.0        4.0  1 and under           0.0   Vaginal   \n",
       "1217     1234.0        4.0  1 and under           0.0   Vaginal   \n",
       "1218     1333.0        3.0     Prenatal           0.0       NaN   \n",
       "1219     1135.0        5.0  1 and under           0.0  Cesarean   \n",
       "1220      492.0        7.0       1 to 2           0.0   Vaginal   \n",
       "1221      194.0        5.0   2 and over           0.0  Cesarean   \n",
       "\n",
       "      breastFedPercent breastfeeding   childBMI childGender cogAssessment  \\\n",
       "0                  NaN           NaN  16.728348        Male          WISC   \n",
       "1                  NaN           NaN  16.008798      Female         WPPSI   \n",
       "2                  NaN           NaN  15.285845      Female         WPPSI   \n",
       "3                  NaN           NaN  15.285845      Female         WPPSI   \n",
       "4                  NaN           NaN  18.979630      Female        Mullen   \n",
       "5                  NaN           NaN  18.979630      Female        Mullen   \n",
       "6                  NaN           NaN  17.834450        Male          WISC   \n",
       "7                  NaN           NaN        NaN        Male          WISC   \n",
       "8                  NaN           NaN        NaN        Male          WISC   \n",
       "9                  NaN           NaN        NaN      Female          WISC   \n",
       "10                 NaN           NaN  13.321486      Female          WISC   \n",
       "11                 NaN           NaN        NaN        Male          WISC   \n",
       "12                 NaN           NaN        NaN        Male          WISC   \n",
       "13                 NaN           NaN        NaN      Female          WISC   \n",
       "14                 NaN           NaN        NaN      Female          WISC   \n",
       "15                 NaN           NaN  17.859429        Male          WISC   \n",
       "16                 NaN           NaN  17.859429        Male          WISC   \n",
       "17                 NaN           NaN  19.594504        Male          WISC   \n",
       "18                 NaN           NaN  13.764884        Male          WISC   \n",
       "19                 NaN           NaN  13.764884        Male          WISC   \n",
       "20                 NaN           NaN  13.764884        Male          WISC   \n",
       "21                 NaN           NaN  15.042535        Male          WISC   \n",
       "22                 NaN           NaN  15.042535        Male          WISC   \n",
       "23                 NaN           NaN  12.641523      Female          WISC   \n",
       "24                 NaN           NaN  12.641523      Female          WISC   \n",
       "25                 NaN           NaN  12.641523      Female          WISC   \n",
       "26                 NaN           NaN  14.617694      Female        Mullen   \n",
       "27                 NaN           NaN  14.617694      Female        Mullen   \n",
       "28                 NaN           NaN  14.717395      Female        Mullen   \n",
       "29                 NaN           NaN  14.717395      Female        Mullen   \n",
       "...                ...           ...        ...         ...           ...   \n",
       "1192               NaN           NaN  15.939892        Male          None   \n",
       "1193               NaN           NaN        NaN        Male          None   \n",
       "1194               NaN           NaN        NaN        Male          None   \n",
       "1195               NaN           NaN        NaN      Female          None   \n",
       "1196               NaN           NaN  14.673942      Female          None   \n",
       "1197               NaN           NaN        NaN        Male          None   \n",
       "1198               NaN           NaN        NaN      Female          None   \n",
       "1199               NaN           NaN        NaN        Male          None   \n",
       "1200               NaN           NaN        NaN        Male          None   \n",
       "1201               NaN           NaN        NaN      Female          None   \n",
       "1202               NaN           NaN  14.270571        Male          WISC   \n",
       "1203               NaN           NaN        NaN        Male          None   \n",
       "1204               NaN           NaN  18.803472      Female         WPPSI   \n",
       "1205               NaN           NaN        NaN      Female          None   \n",
       "1206               NaN           NaN        NaN      Female          None   \n",
       "1207               NaN           NaN        NaN      Female          WISC   \n",
       "1208               NaN           NaN  13.531110        Male          None   \n",
       "1209               NaN           NaN        NaN      Female          None   \n",
       "1210               NaN           NaN        NaN      Female          None   \n",
       "1211               NaN           NaN  18.925557        Male        Mullen   \n",
       "1212               NaN           NaN        NaN      Female          None   \n",
       "1213               NaN           NaN  19.160249      Female        Mullen   \n",
       "1214               NaN           NaN        NaN      Female          None   \n",
       "1215               NaN           NaN        NaN      Female          None   \n",
       "1216               NaN           NaN  17.141863      Female        Mullen   \n",
       "1217               NaN           NaN  16.537532      Female        Mullen   \n",
       "1218               NaN           NaN        NaN        Male          None   \n",
       "1219               NaN           NaN  19.675012      Female        Mullen   \n",
       "1220               NaN           NaN  16.206351        Male        Mullen   \n",
       "1221               NaN           NaN  19.445971      Female          None   \n",
       "\n",
       "      ...  WHO_fwfl  WHO_zbmi  WHO_zlen  WHO_zwei  WHO_zwfl  \\\n",
       "0     ...       NaN       NaN       NaN       NaN       NaN   \n",
       "1     ...       NaN       NaN       NaN       NaN       NaN   \n",
       "2     ...       0.0      0.03     -1.26     -0.75      0.04   \n",
       "3     ...       0.0      0.03     -1.26     -0.75      0.04   \n",
       "4     ...       0.0      2.19     -3.46     -0.68      1.61   \n",
       "5     ...       0.0      2.19     -3.46     -0.68      1.61   \n",
       "6     ...       NaN       NaN       NaN       NaN       NaN   \n",
       "7     ...       NaN       NaN       NaN       NaN       NaN   \n",
       "8     ...       NaN       NaN       NaN       NaN       NaN   \n",
       "9     ...       NaN       NaN       NaN       NaN       NaN   \n",
       "10    ...       NaN       NaN       NaN       NaN       NaN   \n",
       "11    ...       NaN       NaN       NaN       NaN       NaN   \n",
       "12    ...       NaN       NaN       NaN       NaN       NaN   \n",
       "13    ...       NaN       NaN       NaN       NaN       NaN   \n",
       "14    ...       NaN       NaN       NaN       NaN       NaN   \n",
       "15    ...       NaN       NaN       NaN       NaN       NaN   \n",
       "16    ...       NaN       NaN       NaN       NaN       NaN   \n",
       "17    ...       NaN       NaN       NaN       NaN       NaN   \n",
       "18    ...       NaN       NaN       NaN       NaN       NaN   \n",
       "19    ...       NaN       NaN       NaN       NaN       NaN   \n",
       "20    ...       NaN       NaN       NaN       NaN       NaN   \n",
       "21    ...       NaN       NaN       NaN       NaN       NaN   \n",
       "22    ...       NaN       NaN       NaN       NaN       NaN   \n",
       "23    ...       NaN       NaN       NaN       NaN       NaN   \n",
       "24    ...       NaN       NaN       NaN       NaN       NaN   \n",
       "25    ...       NaN       NaN       NaN       NaN       NaN   \n",
       "26    ...       0.0     -0.85      1.81      0.53     -0.69   \n",
       "27    ...       0.0     -0.85      1.81      0.53     -0.69   \n",
       "28    ...       0.0     -0.76     -0.68     -0.91     -0.81   \n",
       "29    ...       0.0     -0.76     -0.68     -0.91     -0.81   \n",
       "...   ...       ...       ...       ...       ...       ...   \n",
       "1192  ...       0.0      0.02     -1.89     -1.03      1.16   \n",
       "1193  ...       NaN       NaN       NaN       NaN       NaN   \n",
       "1194  ...       NaN       NaN       NaN       NaN       NaN   \n",
       "1195  ...       NaN       NaN       NaN       NaN       NaN   \n",
       "1196  ...       NaN       NaN       NaN       NaN       NaN   \n",
       "1197  ...       NaN       NaN       NaN       NaN       NaN   \n",
       "1198  ...       NaN       NaN       NaN       NaN       NaN   \n",
       "1199  ...       NaN       NaN       NaN       NaN       NaN   \n",
       "1200  ...       NaN       NaN       NaN       NaN       NaN   \n",
       "1201  ...       NaN       NaN       NaN       NaN       NaN   \n",
       "1202  ...       NaN       NaN       NaN       NaN       NaN   \n",
       "1203  ...       NaN       NaN       NaN       NaN       NaN   \n",
       "1204  ...       NaN       NaN       NaN       NaN       NaN   \n",
       "1205  ...       NaN       NaN       NaN       NaN       NaN   \n",
       "1206  ...       NaN       NaN       NaN       NaN       NaN   \n",
       "1207  ...       NaN       NaN       NaN       NaN       NaN   \n",
       "1208  ...       NaN       NaN       NaN       NaN       NaN   \n",
       "1209  ...       NaN       NaN       NaN       NaN       NaN   \n",
       "1210  ...       NaN       NaN       NaN       NaN       NaN   \n",
       "1211  ...       0.0      1.24      1.63      1.85      1.13   \n",
       "1212  ...       NaN       NaN       NaN       NaN       NaN   \n",
       "1213  ...       0.0      1.57     -0.20      1.05      1.62   \n",
       "1214  ...       NaN       NaN       NaN       NaN       NaN   \n",
       "1215  ...       NaN       NaN       NaN       NaN       NaN   \n",
       "1216  ...       0.0      0.32     -1.58     -0.67      0.74   \n",
       "1217  ...       0.0     -0.07     -2.17     -1.31      0.57   \n",
       "1218  ...       NaN       NaN       NaN       NaN       NaN   \n",
       "1219  ...       0.0      1.66     -0.50      0.96      1.71   \n",
       "1220  ...       0.0      0.05     -0.69     -0.39     -0.06   \n",
       "1221  ...       NaN       NaN       NaN       NaN       NaN   \n",
       "\n",
       "     ProcessingComplete  SequenceName  timepoint.1     sampleid   AgeMonths  \n",
       "0                   Yes      Mcdespot          5.0  C0052-5F-1A   94.133333  \n",
       "1                   Yes      Mcdespot          6.0  C0053-6F-1A   72.500000  \n",
       "2                   Yes      Mcdespot          4.0  C0202-4F-1A   53.366667  \n",
       "3                   Yes      Mcdespot          4.0  C0202-4F-2A   53.366667  \n",
       "4                   NaN      Mcdespot          4.0  C0420-4F-1A   26.600000  \n",
       "5                   NaN      Mcdespot          4.0  C0420-4F-2A   26.600000  \n",
       "6                   Yes      Mcdespot          4.0  C0108-4F-1A  137.466667  \n",
       "7                   NaN      Mcdespot          8.0  C0126-8F-1A   75.366667  \n",
       "8                   NaN      Mcdespot          8.0  C0126-8F-1B   75.366667  \n",
       "9                   Yes      Mcdespot          6.0  C0127-6F-1B  112.233333  \n",
       "10                  NaN      Mcdespot          4.0  C0082-4F-1A   99.466667  \n",
       "11                  Yes      Mcdespot          1.0  C0507-1F-1A   83.433333  \n",
       "12                  Yes      Mcdespot          1.0  C0507-1F-2A   83.433333  \n",
       "13                  Yes      Mcdespot          3.0  C0240-3F-1A   73.400000  \n",
       "14                  Yes      Mcdespot          3.0  C0240-3F-2A   73.400000  \n",
       "15                  NaN      Mcdespot          6.0  C0061-6F-1A  130.733333  \n",
       "16                  NaN      Mcdespot          6.0  C0061-6F-2A  130.733333  \n",
       "17                  NaN      Mcdespot          7.0  C0043-7F-1A   86.600000  \n",
       "18                  NaN      Mcdespot          6.0  C0066-6F-1A  124.866667  \n",
       "19                  NaN      Mcdespot          6.0  C0066-6F-1B  124.866667  \n",
       "20                  NaN      Mcdespot          6.0  C0066-6F-2A  124.866667  \n",
       "21                  NaN      Mcdespot          4.0  C0229-4F-1A  110.300000  \n",
       "22                  NaN      Mcdespot          4.0  C0229-4F-2A  110.300000  \n",
       "23                  Yes      Mcdespot          4.0  C0117-4F-1A  105.800000  \n",
       "24                  Yes      Mcdespot          4.0  C0117-4F-1B  105.800000  \n",
       "25                  Yes      Mcdespot          4.0  C0117-4F-2A  105.800000  \n",
       "26                  Yes      Mcdespot          3.0  C0476-3F-1A   24.166667  \n",
       "27                  Yes      Mcdespot          3.0  C0476-3F-2A   24.166667  \n",
       "28                  NaN      Mcdespot          3.0  C0479-3F-1A   24.766667  \n",
       "29                  NaN      Mcdespot          3.0  C0479-3F-2A   24.766667  \n",
       "...                 ...           ...          ...          ...         ...  \n",
       "1192                NaN      Mcdespot          4.0  C1273-4F-1A    0.933333  \n",
       "1193                NaN           NaN          NaN  M1371-1F-1A         NaN  \n",
       "1194                NaN           NaN          NaN  M1316-3F-1A         NaN  \n",
       "1195                NaN           NaN          NaN  M1342-2F-1A         NaN  \n",
       "1196                NaN      Mcdespot          3.0  C0635-3F-1A   67.866667  \n",
       "1197                NaN           NaN          NaN  M1352-2F-1A         NaN  \n",
       "1198                NaN           NaN          NaN  M1324-3F-1A         NaN  \n",
       "1199                NaN           NaN          NaN  M1305-3F-1A         NaN  \n",
       "1200                NaN           NaN          NaN  M1318-3F-1A         NaN  \n",
       "1201                NaN           NaN          NaN  M1322-3F-1A         NaN  \n",
       "1202                NaN      Mcdespot          3.0  C0571-3F-1A   72.900000  \n",
       "1203                NaN           NaN          NaN  M1353-2F-1A         NaN  \n",
       "1204                NaN      Mcdespot          1.0  M1376-1F-1A   73.166667  \n",
       "1205                NaN           NaN          NaN  M1347-2F-1A         NaN  \n",
       "1206                NaN           NaN          NaN  M1345-2F-1A         NaN  \n",
       "1207                NaN      Mcdespot          5.0  C0123-5F-1A  116.033333  \n",
       "1208                NaN      Mcdespot          3.0  C0623-3F-1A   93.233333  \n",
       "1209                NaN           NaN          NaN  M1359-2F-1A         NaN  \n",
       "1210                NaN           NaN          NaN  C1050-9F-1A    7.333333  \n",
       "1211                NaN           NaN          NaN  C1220-4F-1A    3.533333  \n",
       "1212                NaN           NaN          NaN  M1362-2F-1A         NaN  \n",
       "1213                NaN           NaN          NaN  C1215-4F-1A    3.733333  \n",
       "1214                NaN           NaN          NaN  M1336-3F-1A         NaN  \n",
       "1215                NaN      Mcdespot          4.0  C1271-4F-1A    1.466667  \n",
       "1216                NaN      Mcdespot          4.0  C1244-4F-1A    3.933333  \n",
       "1217                NaN      Mcdespot          4.0  C1234-4F-1A    3.233333  \n",
       "1218                NaN           NaN          NaN  M1333-3F-1A         NaN  \n",
       "1219                NaN           NaN          NaN  C1135-5F-1A    6.000000  \n",
       "1220                NaN      Mcdespot          7.0  C0492-7F-1A   18.400000  \n",
       "1221                NaN      Mcdespot          5.0  C0194-5F-1A  117.700000  \n",
       "\n",
       "[1222 rows x 47 columns]"
      ]
     },
     "execution_count": 8,
     "metadata": {},
     "output_type": "execute_result"
    }
   ],
   "source": [
    "mapping_16S"
   ]
  },
  {
   "cell_type": "code",
   "execution_count": 9,
   "metadata": {},
   "outputs": [
    {
     "data": {
      "text/plain": [
       "560"
      ]
     },
     "execution_count": 9,
     "metadata": {},
     "output_type": "execute_result"
    }
   ],
   "source": [
    "mapping_16S[\"AgeMonths\"].isna().sum()"
   ]
  },
  {
   "cell_type": "code",
   "execution_count": 10,
   "metadata": {},
   "outputs": [],
   "source": [
    "samplenames = list(mapping_16S[\"sampleid\"])"
   ]
  },
  {
   "cell_type": "code",
   "execution_count": 11,
   "metadata": {},
   "outputs": [
    {
     "data": {
      "text/plain": [
       "1222"
      ]
     },
     "execution_count": 11,
     "metadata": {},
     "output_type": "execute_result"
    }
   ],
   "source": [
    "len(samplenames)"
   ]
  },
  {
   "cell_type": "code",
   "execution_count": 12,
   "metadata": {
    "scrolled": true
   },
   "outputs": [
    {
     "data": {
      "text/html": [
       "<div>\n",
       "<style scoped>\n",
       "    .dataframe tbody tr th:only-of-type {\n",
       "        vertical-align: middle;\n",
       "    }\n",
       "\n",
       "    .dataframe tbody tr th {\n",
       "        vertical-align: top;\n",
       "    }\n",
       "\n",
       "    .dataframe thead th {\n",
       "        text-align: right;\n",
       "    }\n",
       "</style>\n",
       "<table border=\"1\" class=\"dataframe\">\n",
       "  <thead>\n",
       "    <tr style=\"text-align: right;\">\n",
       "      <th></th>\n",
       "      <th>taxa</th>\n",
       "      <th>C0043-7F-1A</th>\n",
       "      <th>C0052-5F-1A</th>\n",
       "      <th>C0053-6F-1A</th>\n",
       "      <th>C0061-6F-1A</th>\n",
       "      <th>C0061-6F-2A</th>\n",
       "      <th>C0062-6F-1A</th>\n",
       "      <th>C0062-6F-2A</th>\n",
       "      <th>C0066-6F-1A</th>\n",
       "      <th>C0066-6F-1B</th>\n",
       "      <th>...</th>\n",
       "      <th>M1352-2F-1A</th>\n",
       "      <th>M1353-2F-1A</th>\n",
       "      <th>M1354-2F-1A</th>\n",
       "      <th>M1359-2F-1A</th>\n",
       "      <th>M1362-1F-1A</th>\n",
       "      <th>M1362-2F-1A</th>\n",
       "      <th>M1363-1F-1A</th>\n",
       "      <th>M1369-1F-1A</th>\n",
       "      <th>M1371-1F-1A</th>\n",
       "      <th>M1376-1F-1A</th>\n",
       "    </tr>\n",
       "  </thead>\n",
       "  <tbody>\n",
       "    <tr>\n",
       "      <th>0</th>\n",
       "      <td>Bacteroides</td>\n",
       "      <td>0.220534</td>\n",
       "      <td>0.049557</td>\n",
       "      <td>0.249557</td>\n",
       "      <td>0.188099</td>\n",
       "      <td>0.202038</td>\n",
       "      <td>0.243704</td>\n",
       "      <td>0.168791</td>\n",
       "      <td>0.306281</td>\n",
       "      <td>0.278229</td>\n",
       "      <td>...</td>\n",
       "      <td>0.313886</td>\n",
       "      <td>0.489291</td>\n",
       "      <td>0.108143</td>\n",
       "      <td>0.472348</td>\n",
       "      <td>0.587975</td>\n",
       "      <td>0.802606</td>\n",
       "      <td>0.246047</td>\n",
       "      <td>0.800586</td>\n",
       "      <td>0.344581</td>\n",
       "      <td>0.059591</td>\n",
       "    </tr>\n",
       "    <tr>\n",
       "      <th>1</th>\n",
       "      <td>Roseburia</td>\n",
       "      <td>0.178150</td>\n",
       "      <td>0.147682</td>\n",
       "      <td>0.293033</td>\n",
       "      <td>0.002322</td>\n",
       "      <td>0.002565</td>\n",
       "      <td>0.000633</td>\n",
       "      <td>0.003506</td>\n",
       "      <td>0.011749</td>\n",
       "      <td>0.006659</td>\n",
       "      <td>...</td>\n",
       "      <td>0.013120</td>\n",
       "      <td>0.037736</td>\n",
       "      <td>0.003987</td>\n",
       "      <td>0.017202</td>\n",
       "      <td>0.070773</td>\n",
       "      <td>0.008952</td>\n",
       "      <td>0.013549</td>\n",
       "      <td>0.031900</td>\n",
       "      <td>0.122280</td>\n",
       "      <td>0.029523</td>\n",
       "    </tr>\n",
       "    <tr>\n",
       "      <th>2</th>\n",
       "      <td>Faecalibacterium</td>\n",
       "      <td>0.121341</td>\n",
       "      <td>0.075395</td>\n",
       "      <td>0.152343</td>\n",
       "      <td>0.158600</td>\n",
       "      <td>0.153825</td>\n",
       "      <td>0.072689</td>\n",
       "      <td>0.103090</td>\n",
       "      <td>0.131796</td>\n",
       "      <td>0.074755</td>\n",
       "      <td>...</td>\n",
       "      <td>0.029405</td>\n",
       "      <td>0.033942</td>\n",
       "      <td>0.000000</td>\n",
       "      <td>0.040200</td>\n",
       "      <td>0.018693</td>\n",
       "      <td>0.013066</td>\n",
       "      <td>0.045493</td>\n",
       "      <td>0.005203</td>\n",
       "      <td>0.047817</td>\n",
       "      <td>0.036044</td>\n",
       "    </tr>\n",
       "    <tr>\n",
       "      <th>3</th>\n",
       "      <td>Ruminococcus</td>\n",
       "      <td>0.111843</td>\n",
       "      <td>0.068592</td>\n",
       "      <td>0.004751</td>\n",
       "      <td>0.002863</td>\n",
       "      <td>0.003611</td>\n",
       "      <td>0.075904</td>\n",
       "      <td>0.109735</td>\n",
       "      <td>0.119510</td>\n",
       "      <td>0.044296</td>\n",
       "      <td>...</td>\n",
       "      <td>0.117077</td>\n",
       "      <td>0.007890</td>\n",
       "      <td>0.000000</td>\n",
       "      <td>0.036236</td>\n",
       "      <td>0.003532</td>\n",
       "      <td>0.000663</td>\n",
       "      <td>0.043016</td>\n",
       "      <td>0.000000</td>\n",
       "      <td>0.042159</td>\n",
       "      <td>0.020180</td>\n",
       "    </tr>\n",
       "    <tr>\n",
       "      <th>4</th>\n",
       "      <td>Bifidobacterium</td>\n",
       "      <td>0.108422</td>\n",
       "      <td>0.014670</td>\n",
       "      <td>0.018842</td>\n",
       "      <td>0.010010</td>\n",
       "      <td>0.008334</td>\n",
       "      <td>0.018943</td>\n",
       "      <td>0.020716</td>\n",
       "      <td>0.107187</td>\n",
       "      <td>0.243990</td>\n",
       "      <td>...</td>\n",
       "      <td>0.033602</td>\n",
       "      <td>0.153803</td>\n",
       "      <td>0.001165</td>\n",
       "      <td>0.000000</td>\n",
       "      <td>0.000000</td>\n",
       "      <td>0.001779</td>\n",
       "      <td>0.060396</td>\n",
       "      <td>0.007716</td>\n",
       "      <td>0.051781</td>\n",
       "      <td>0.041439</td>\n",
       "    </tr>\n",
       "  </tbody>\n",
       "</table>\n",
       "<p>5 rows × 1224 columns</p>\n",
       "</div>"
      ],
      "text/plain": [
       "               taxa  C0043-7F-1A  C0052-5F-1A  C0053-6F-1A  C0061-6F-1A  \\\n",
       "0       Bacteroides     0.220534     0.049557     0.249557     0.188099   \n",
       "1         Roseburia     0.178150     0.147682     0.293033     0.002322   \n",
       "2  Faecalibacterium     0.121341     0.075395     0.152343     0.158600   \n",
       "3      Ruminococcus     0.111843     0.068592     0.004751     0.002863   \n",
       "4   Bifidobacterium     0.108422     0.014670     0.018842     0.010010   \n",
       "\n",
       "   C0061-6F-2A  C0062-6F-1A  C0062-6F-2A  C0066-6F-1A  C0066-6F-1B  ...  \\\n",
       "0     0.202038     0.243704     0.168791     0.306281     0.278229  ...   \n",
       "1     0.002565     0.000633     0.003506     0.011749     0.006659  ...   \n",
       "2     0.153825     0.072689     0.103090     0.131796     0.074755  ...   \n",
       "3     0.003611     0.075904     0.109735     0.119510     0.044296  ...   \n",
       "4     0.008334     0.018943     0.020716     0.107187     0.243990  ...   \n",
       "\n",
       "   M1352-2F-1A  M1353-2F-1A  M1354-2F-1A  M1359-2F-1A  M1362-1F-1A  \\\n",
       "0     0.313886     0.489291     0.108143     0.472348     0.587975   \n",
       "1     0.013120     0.037736     0.003987     0.017202     0.070773   \n",
       "2     0.029405     0.033942     0.000000     0.040200     0.018693   \n",
       "3     0.117077     0.007890     0.000000     0.036236     0.003532   \n",
       "4     0.033602     0.153803     0.001165     0.000000     0.000000   \n",
       "\n",
       "   M1362-2F-1A  M1363-1F-1A  M1369-1F-1A  M1371-1F-1A  M1376-1F-1A  \n",
       "0     0.802606     0.246047     0.800586     0.344581     0.059591  \n",
       "1     0.008952     0.013549     0.031900     0.122280     0.029523  \n",
       "2     0.013066     0.045493     0.005203     0.047817     0.036044  \n",
       "3     0.000663     0.043016     0.000000     0.042159     0.020180  \n",
       "4     0.001779     0.060396     0.007716     0.051781     0.041439  \n",
       "\n",
       "[5 rows x 1224 columns]"
      ]
     },
     "execution_count": 12,
     "metadata": {},
     "output_type": "execute_result"
    }
   ],
   "source": [
    "# read in mgx data\n",
    "mgx = pd.read_csv(\"resonance_mgx_genus.csv\")\n",
    "mgx.rename(columns={'taxname':'taxa'}, inplace=True)\n",
    "mgx.head()"
   ]
  },
  {
   "cell_type": "code",
   "execution_count": 13,
   "metadata": {},
   "outputs": [],
   "source": [
    "# remove taxa that are unclassified or have no name\n",
    "# \"_unclassified\"\n",
    "# \"_noname\"\n",
    "mgx = mgx[~mgx.taxa.str.contains(\"_unclassified\")]\n",
    "mgx = mgx[~mgx.taxa.str.contains(\"_noname\")]"
   ]
  },
  {
   "cell_type": "code",
   "execution_count": 14,
   "metadata": {},
   "outputs": [
    {
     "name": "stdout",
     "output_type": "stream",
     "text": [
      "0.9999999989370402\n",
      "1.687263789771248e-07\n"
     ]
    }
   ],
   "source": [
    "# avg relative abundance of mgx samples\n",
    "\n",
    "print(mgx.loc[:, mgx.columns != 'taxa'].sum().mean())\n",
    "print(mgx.loc[:, mgx.columns != 'taxa'].sum().std())"
   ]
  },
  {
   "cell_type": "code",
   "execution_count": 15,
   "metadata": {},
   "outputs": [
    {
     "data": {
      "text/html": [
       "<div>\n",
       "<style scoped>\n",
       "    .dataframe tbody tr th:only-of-type {\n",
       "        vertical-align: middle;\n",
       "    }\n",
       "\n",
       "    .dataframe tbody tr th {\n",
       "        vertical-align: top;\n",
       "    }\n",
       "\n",
       "    .dataframe thead th {\n",
       "        text-align: right;\n",
       "    }\n",
       "</style>\n",
       "<table border=\"1\" class=\"dataframe\">\n",
       "  <thead>\n",
       "    <tr style=\"text-align: right;\">\n",
       "      <th></th>\n",
       "      <th>taxa</th>\n",
       "      <th>C0043-7F-1A</th>\n",
       "      <th>C0052-5F-1A</th>\n",
       "      <th>C0053-6F-1A</th>\n",
       "      <th>C0061-6F-1A</th>\n",
       "      <th>C0061-6F-2A</th>\n",
       "      <th>C0062-6F-1A</th>\n",
       "      <th>C0062-6F-2A</th>\n",
       "      <th>C0066-6F-1A</th>\n",
       "      <th>C0066-6F-1B</th>\n",
       "      <th>...</th>\n",
       "      <th>M1352-2F-1A</th>\n",
       "      <th>M1353-2F-1A</th>\n",
       "      <th>M1354-2F-1A</th>\n",
       "      <th>M1359-2F-1A</th>\n",
       "      <th>M1362-1F-1A</th>\n",
       "      <th>M1362-2F-1A</th>\n",
       "      <th>M1363-1F-1A</th>\n",
       "      <th>M1369-1F-1A</th>\n",
       "      <th>M1371-1F-1A</th>\n",
       "      <th>M1376-1F-1A</th>\n",
       "    </tr>\n",
       "  </thead>\n",
       "  <tbody>\n",
       "    <tr>\n",
       "      <th>16</th>\n",
       "      <td>Akkermansia</td>\n",
       "      <td>0.001482</td>\n",
       "      <td>0.000000</td>\n",
       "      <td>0.000000</td>\n",
       "      <td>0.000000</td>\n",
       "      <td>0.000000</td>\n",
       "      <td>0.012473</td>\n",
       "      <td>0.011132</td>\n",
       "      <td>0.009279</td>\n",
       "      <td>0.004761</td>\n",
       "      <td>...</td>\n",
       "      <td>0.000000</td>\n",
       "      <td>0.000000</td>\n",
       "      <td>0.000000</td>\n",
       "      <td>0.000679</td>\n",
       "      <td>0.008153</td>\n",
       "      <td>0.021749</td>\n",
       "      <td>0.007666</td>\n",
       "      <td>0.000000</td>\n",
       "      <td>0.005520</td>\n",
       "      <td>0.000000</td>\n",
       "    </tr>\n",
       "    <tr>\n",
       "      <th>25</th>\n",
       "      <td>Oscillibacter</td>\n",
       "      <td>0.000175</td>\n",
       "      <td>0.006565</td>\n",
       "      <td>0.000554</td>\n",
       "      <td>0.033559</td>\n",
       "      <td>0.034850</td>\n",
       "      <td>0.027856</td>\n",
       "      <td>0.032145</td>\n",
       "      <td>0.000000</td>\n",
       "      <td>0.000000</td>\n",
       "      <td>...</td>\n",
       "      <td>0.000000</td>\n",
       "      <td>0.000000</td>\n",
       "      <td>0.000000</td>\n",
       "      <td>0.000000</td>\n",
       "      <td>0.000000</td>\n",
       "      <td>0.000000</td>\n",
       "      <td>0.024739</td>\n",
       "      <td>0.000000</td>\n",
       "      <td>0.004989</td>\n",
       "      <td>0.002583</td>\n",
       "    </tr>\n",
       "    <tr>\n",
       "      <th>13</th>\n",
       "      <td>Dorea</td>\n",
       "      <td>0.002556</td>\n",
       "      <td>0.014735</td>\n",
       "      <td>0.014325</td>\n",
       "      <td>0.040473</td>\n",
       "      <td>0.043281</td>\n",
       "      <td>0.008214</td>\n",
       "      <td>0.014702</td>\n",
       "      <td>0.012987</td>\n",
       "      <td>0.019059</td>\n",
       "      <td>...</td>\n",
       "      <td>0.041381</td>\n",
       "      <td>0.014170</td>\n",
       "      <td>0.000130</td>\n",
       "      <td>0.001550</td>\n",
       "      <td>0.000000</td>\n",
       "      <td>0.000000</td>\n",
       "      <td>0.027611</td>\n",
       "      <td>0.003294</td>\n",
       "      <td>0.015079</td>\n",
       "      <td>0.008233</td>\n",
       "    </tr>\n",
       "    <tr>\n",
       "      <th>74</th>\n",
       "      <td>Acidaminococcus</td>\n",
       "      <td>0.000000</td>\n",
       "      <td>0.000000</td>\n",
       "      <td>0.000000</td>\n",
       "      <td>0.000000</td>\n",
       "      <td>0.000000</td>\n",
       "      <td>0.000000</td>\n",
       "      <td>0.000000</td>\n",
       "      <td>0.000000</td>\n",
       "      <td>0.000000</td>\n",
       "      <td>...</td>\n",
       "      <td>0.020403</td>\n",
       "      <td>0.031213</td>\n",
       "      <td>0.000000</td>\n",
       "      <td>0.000000</td>\n",
       "      <td>0.000000</td>\n",
       "      <td>0.000000</td>\n",
       "      <td>0.008049</td>\n",
       "      <td>0.000000</td>\n",
       "      <td>0.033847</td>\n",
       "      <td>0.000000</td>\n",
       "    </tr>\n",
       "    <tr>\n",
       "      <th>162</th>\n",
       "      <td>Ureaplasma</td>\n",
       "      <td>0.000000</td>\n",
       "      <td>0.000000</td>\n",
       "      <td>0.000000</td>\n",
       "      <td>0.000000</td>\n",
       "      <td>0.000000</td>\n",
       "      <td>0.000000</td>\n",
       "      <td>0.000000</td>\n",
       "      <td>0.000000</td>\n",
       "      <td>0.000000</td>\n",
       "      <td>...</td>\n",
       "      <td>0.000000</td>\n",
       "      <td>0.000000</td>\n",
       "      <td>0.000000</td>\n",
       "      <td>0.000000</td>\n",
       "      <td>0.000000</td>\n",
       "      <td>0.000000</td>\n",
       "      <td>0.000000</td>\n",
       "      <td>0.000000</td>\n",
       "      <td>0.000000</td>\n",
       "      <td>0.000000</td>\n",
       "    </tr>\n",
       "    <tr>\n",
       "      <th>183</th>\n",
       "      <td>Delftia</td>\n",
       "      <td>0.000000</td>\n",
       "      <td>0.000000</td>\n",
       "      <td>0.000000</td>\n",
       "      <td>0.000000</td>\n",
       "      <td>0.000000</td>\n",
       "      <td>0.000000</td>\n",
       "      <td>0.000000</td>\n",
       "      <td>0.000000</td>\n",
       "      <td>0.000000</td>\n",
       "      <td>...</td>\n",
       "      <td>0.000000</td>\n",
       "      <td>0.000000</td>\n",
       "      <td>0.000000</td>\n",
       "      <td>0.000000</td>\n",
       "      <td>0.000000</td>\n",
       "      <td>0.000000</td>\n",
       "      <td>0.000000</td>\n",
       "      <td>0.000000</td>\n",
       "      <td>0.000000</td>\n",
       "      <td>0.000000</td>\n",
       "    </tr>\n",
       "    <tr>\n",
       "      <th>68</th>\n",
       "      <td>Coprobacillus</td>\n",
       "      <td>0.000000</td>\n",
       "      <td>0.000000</td>\n",
       "      <td>0.000000</td>\n",
       "      <td>0.000000</td>\n",
       "      <td>0.000000</td>\n",
       "      <td>0.000000</td>\n",
       "      <td>0.000000</td>\n",
       "      <td>0.000000</td>\n",
       "      <td>0.000000</td>\n",
       "      <td>...</td>\n",
       "      <td>0.000268</td>\n",
       "      <td>0.000000</td>\n",
       "      <td>0.000000</td>\n",
       "      <td>0.000000</td>\n",
       "      <td>0.000000</td>\n",
       "      <td>0.000000</td>\n",
       "      <td>0.000979</td>\n",
       "      <td>0.000000</td>\n",
       "      <td>0.000000</td>\n",
       "      <td>0.000000</td>\n",
       "    </tr>\n",
       "    <tr>\n",
       "      <th>10</th>\n",
       "      <td>Parabacteroides</td>\n",
       "      <td>0.014289</td>\n",
       "      <td>0.013500</td>\n",
       "      <td>0.030840</td>\n",
       "      <td>0.033845</td>\n",
       "      <td>0.033402</td>\n",
       "      <td>0.101327</td>\n",
       "      <td>0.068504</td>\n",
       "      <td>0.018985</td>\n",
       "      <td>0.019086</td>\n",
       "      <td>...</td>\n",
       "      <td>0.011068</td>\n",
       "      <td>0.020218</td>\n",
       "      <td>0.013498</td>\n",
       "      <td>0.060825</td>\n",
       "      <td>0.084323</td>\n",
       "      <td>0.099188</td>\n",
       "      <td>0.026493</td>\n",
       "      <td>0.020843</td>\n",
       "      <td>0.071068</td>\n",
       "      <td>0.006430</td>\n",
       "    </tr>\n",
       "    <tr>\n",
       "      <th>12</th>\n",
       "      <td>Lachnospira</td>\n",
       "      <td>0.008777</td>\n",
       "      <td>0.007766</td>\n",
       "      <td>0.042533</td>\n",
       "      <td>0.008053</td>\n",
       "      <td>0.008883</td>\n",
       "      <td>0.008079</td>\n",
       "      <td>0.014629</td>\n",
       "      <td>0.040536</td>\n",
       "      <td>0.013756</td>\n",
       "      <td>...</td>\n",
       "      <td>0.000000</td>\n",
       "      <td>0.021085</td>\n",
       "      <td>0.000000</td>\n",
       "      <td>0.017106</td>\n",
       "      <td>0.000000</td>\n",
       "      <td>0.000000</td>\n",
       "      <td>0.000000</td>\n",
       "      <td>0.008189</td>\n",
       "      <td>0.011617</td>\n",
       "      <td>0.000816</td>\n",
       "    </tr>\n",
       "    <tr>\n",
       "      <th>101</th>\n",
       "      <td>Helicobacter</td>\n",
       "      <td>0.000000</td>\n",
       "      <td>0.000000</td>\n",
       "      <td>0.000000</td>\n",
       "      <td>0.000000</td>\n",
       "      <td>0.000000</td>\n",
       "      <td>0.000000</td>\n",
       "      <td>0.000000</td>\n",
       "      <td>0.000000</td>\n",
       "      <td>0.000000</td>\n",
       "      <td>...</td>\n",
       "      <td>0.000000</td>\n",
       "      <td>0.000000</td>\n",
       "      <td>0.000000</td>\n",
       "      <td>0.000000</td>\n",
       "      <td>0.000000</td>\n",
       "      <td>0.000000</td>\n",
       "      <td>0.000000</td>\n",
       "      <td>0.000000</td>\n",
       "      <td>0.000000</td>\n",
       "      <td>0.000000</td>\n",
       "    </tr>\n",
       "    <tr>\n",
       "      <th>91</th>\n",
       "      <td>Harryflintia</td>\n",
       "      <td>0.000000</td>\n",
       "      <td>0.000000</td>\n",
       "      <td>0.000000</td>\n",
       "      <td>0.000000</td>\n",
       "      <td>0.000000</td>\n",
       "      <td>0.000000</td>\n",
       "      <td>0.000000</td>\n",
       "      <td>0.000000</td>\n",
       "      <td>0.000000</td>\n",
       "      <td>...</td>\n",
       "      <td>0.000000</td>\n",
       "      <td>0.000000</td>\n",
       "      <td>0.000000</td>\n",
       "      <td>0.000000</td>\n",
       "      <td>0.000000</td>\n",
       "      <td>0.000000</td>\n",
       "      <td>0.000000</td>\n",
       "      <td>0.000000</td>\n",
       "      <td>0.000000</td>\n",
       "      <td>0.000000</td>\n",
       "    </tr>\n",
       "    <tr>\n",
       "      <th>159</th>\n",
       "      <td>Neisseria</td>\n",
       "      <td>0.000000</td>\n",
       "      <td>0.000000</td>\n",
       "      <td>0.000000</td>\n",
       "      <td>0.000000</td>\n",
       "      <td>0.000000</td>\n",
       "      <td>0.000000</td>\n",
       "      <td>0.000000</td>\n",
       "      <td>0.000000</td>\n",
       "      <td>0.000000</td>\n",
       "      <td>...</td>\n",
       "      <td>0.000000</td>\n",
       "      <td>0.000000</td>\n",
       "      <td>0.000000</td>\n",
       "      <td>0.000000</td>\n",
       "      <td>0.000000</td>\n",
       "      <td>0.000000</td>\n",
       "      <td>0.000000</td>\n",
       "      <td>0.000000</td>\n",
       "      <td>0.000000</td>\n",
       "      <td>0.000000</td>\n",
       "    </tr>\n",
       "    <tr>\n",
       "      <th>145</th>\n",
       "      <td>Plesiomonas</td>\n",
       "      <td>0.000000</td>\n",
       "      <td>0.000000</td>\n",
       "      <td>0.000000</td>\n",
       "      <td>0.000000</td>\n",
       "      <td>0.000000</td>\n",
       "      <td>0.000000</td>\n",
       "      <td>0.000000</td>\n",
       "      <td>0.000000</td>\n",
       "      <td>0.000000</td>\n",
       "      <td>...</td>\n",
       "      <td>0.000000</td>\n",
       "      <td>0.000000</td>\n",
       "      <td>0.000000</td>\n",
       "      <td>0.000000</td>\n",
       "      <td>0.000000</td>\n",
       "      <td>0.000000</td>\n",
       "      <td>0.000000</td>\n",
       "      <td>0.000000</td>\n",
       "      <td>0.000000</td>\n",
       "      <td>0.000000</td>\n",
       "    </tr>\n",
       "    <tr>\n",
       "      <th>139</th>\n",
       "      <td>Sanguibacteroides</td>\n",
       "      <td>0.000000</td>\n",
       "      <td>0.000000</td>\n",
       "      <td>0.000000</td>\n",
       "      <td>0.000000</td>\n",
       "      <td>0.000000</td>\n",
       "      <td>0.000000</td>\n",
       "      <td>0.000000</td>\n",
       "      <td>0.000000</td>\n",
       "      <td>0.000000</td>\n",
       "      <td>...</td>\n",
       "      <td>0.000000</td>\n",
       "      <td>0.000000</td>\n",
       "      <td>0.000000</td>\n",
       "      <td>0.000000</td>\n",
       "      <td>0.000000</td>\n",
       "      <td>0.000000</td>\n",
       "      <td>0.000000</td>\n",
       "      <td>0.000000</td>\n",
       "      <td>0.000000</td>\n",
       "      <td>0.000000</td>\n",
       "    </tr>\n",
       "    <tr>\n",
       "      <th>70</th>\n",
       "      <td>Campylobacter</td>\n",
       "      <td>0.000000</td>\n",
       "      <td>0.000000</td>\n",
       "      <td>0.000000</td>\n",
       "      <td>0.000000</td>\n",
       "      <td>0.000000</td>\n",
       "      <td>0.000000</td>\n",
       "      <td>0.000000</td>\n",
       "      <td>0.000000</td>\n",
       "      <td>0.000000</td>\n",
       "      <td>...</td>\n",
       "      <td>0.000000</td>\n",
       "      <td>0.000000</td>\n",
       "      <td>0.000000</td>\n",
       "      <td>0.000000</td>\n",
       "      <td>0.000379</td>\n",
       "      <td>0.000030</td>\n",
       "      <td>0.000000</td>\n",
       "      <td>0.000000</td>\n",
       "      <td>0.000000</td>\n",
       "      <td>0.000000</td>\n",
       "    </tr>\n",
       "  </tbody>\n",
       "</table>\n",
       "<p>15 rows × 1224 columns</p>\n",
       "</div>"
      ],
      "text/plain": [
       "                  taxa  C0043-7F-1A  C0052-5F-1A  C0053-6F-1A  C0061-6F-1A  \\\n",
       "16         Akkermansia     0.001482     0.000000     0.000000     0.000000   \n",
       "25       Oscillibacter     0.000175     0.006565     0.000554     0.033559   \n",
       "13               Dorea     0.002556     0.014735     0.014325     0.040473   \n",
       "74     Acidaminococcus     0.000000     0.000000     0.000000     0.000000   \n",
       "162         Ureaplasma     0.000000     0.000000     0.000000     0.000000   \n",
       "183            Delftia     0.000000     0.000000     0.000000     0.000000   \n",
       "68       Coprobacillus     0.000000     0.000000     0.000000     0.000000   \n",
       "10     Parabacteroides     0.014289     0.013500     0.030840     0.033845   \n",
       "12         Lachnospira     0.008777     0.007766     0.042533     0.008053   \n",
       "101       Helicobacter     0.000000     0.000000     0.000000     0.000000   \n",
       "91        Harryflintia     0.000000     0.000000     0.000000     0.000000   \n",
       "159          Neisseria     0.000000     0.000000     0.000000     0.000000   \n",
       "145        Plesiomonas     0.000000     0.000000     0.000000     0.000000   \n",
       "139  Sanguibacteroides     0.000000     0.000000     0.000000     0.000000   \n",
       "70       Campylobacter     0.000000     0.000000     0.000000     0.000000   \n",
       "\n",
       "     C0061-6F-2A  C0062-6F-1A  C0062-6F-2A  C0066-6F-1A  C0066-6F-1B  ...  \\\n",
       "16      0.000000     0.012473     0.011132     0.009279     0.004761  ...   \n",
       "25      0.034850     0.027856     0.032145     0.000000     0.000000  ...   \n",
       "13      0.043281     0.008214     0.014702     0.012987     0.019059  ...   \n",
       "74      0.000000     0.000000     0.000000     0.000000     0.000000  ...   \n",
       "162     0.000000     0.000000     0.000000     0.000000     0.000000  ...   \n",
       "183     0.000000     0.000000     0.000000     0.000000     0.000000  ...   \n",
       "68      0.000000     0.000000     0.000000     0.000000     0.000000  ...   \n",
       "10      0.033402     0.101327     0.068504     0.018985     0.019086  ...   \n",
       "12      0.008883     0.008079     0.014629     0.040536     0.013756  ...   \n",
       "101     0.000000     0.000000     0.000000     0.000000     0.000000  ...   \n",
       "91      0.000000     0.000000     0.000000     0.000000     0.000000  ...   \n",
       "159     0.000000     0.000000     0.000000     0.000000     0.000000  ...   \n",
       "145     0.000000     0.000000     0.000000     0.000000     0.000000  ...   \n",
       "139     0.000000     0.000000     0.000000     0.000000     0.000000  ...   \n",
       "70      0.000000     0.000000     0.000000     0.000000     0.000000  ...   \n",
       "\n",
       "     M1352-2F-1A  M1353-2F-1A  M1354-2F-1A  M1359-2F-1A  M1362-1F-1A  \\\n",
       "16      0.000000     0.000000     0.000000     0.000679     0.008153   \n",
       "25      0.000000     0.000000     0.000000     0.000000     0.000000   \n",
       "13      0.041381     0.014170     0.000130     0.001550     0.000000   \n",
       "74      0.020403     0.031213     0.000000     0.000000     0.000000   \n",
       "162     0.000000     0.000000     0.000000     0.000000     0.000000   \n",
       "183     0.000000     0.000000     0.000000     0.000000     0.000000   \n",
       "68      0.000268     0.000000     0.000000     0.000000     0.000000   \n",
       "10      0.011068     0.020218     0.013498     0.060825     0.084323   \n",
       "12      0.000000     0.021085     0.000000     0.017106     0.000000   \n",
       "101     0.000000     0.000000     0.000000     0.000000     0.000000   \n",
       "91      0.000000     0.000000     0.000000     0.000000     0.000000   \n",
       "159     0.000000     0.000000     0.000000     0.000000     0.000000   \n",
       "145     0.000000     0.000000     0.000000     0.000000     0.000000   \n",
       "139     0.000000     0.000000     0.000000     0.000000     0.000000   \n",
       "70      0.000000     0.000000     0.000000     0.000000     0.000379   \n",
       "\n",
       "     M1362-2F-1A  M1363-1F-1A  M1369-1F-1A  M1371-1F-1A  M1376-1F-1A  \n",
       "16      0.021749     0.007666     0.000000     0.005520     0.000000  \n",
       "25      0.000000     0.024739     0.000000     0.004989     0.002583  \n",
       "13      0.000000     0.027611     0.003294     0.015079     0.008233  \n",
       "74      0.000000     0.008049     0.000000     0.033847     0.000000  \n",
       "162     0.000000     0.000000     0.000000     0.000000     0.000000  \n",
       "183     0.000000     0.000000     0.000000     0.000000     0.000000  \n",
       "68      0.000000     0.000979     0.000000     0.000000     0.000000  \n",
       "10      0.099188     0.026493     0.020843     0.071068     0.006430  \n",
       "12      0.000000     0.000000     0.008189     0.011617     0.000816  \n",
       "101     0.000000     0.000000     0.000000     0.000000     0.000000  \n",
       "91      0.000000     0.000000     0.000000     0.000000     0.000000  \n",
       "159     0.000000     0.000000     0.000000     0.000000     0.000000  \n",
       "145     0.000000     0.000000     0.000000     0.000000     0.000000  \n",
       "139     0.000000     0.000000     0.000000     0.000000     0.000000  \n",
       "70      0.000030     0.000000     0.000000     0.000000     0.000000  \n",
       "\n",
       "[15 rows x 1224 columns]"
      ]
     },
     "execution_count": 15,
     "metadata": {},
     "output_type": "execute_result"
    }
   ],
   "source": [
    "mgx.sample(15)"
   ]
  },
  {
   "cell_type": "code",
   "execution_count": 16,
   "metadata": {},
   "outputs": [],
   "source": [
    "mgx.to_csv('mgx_abundance.csv', index=False)"
   ]
  },
  {
   "cell_type": "code",
   "execution_count": 17,
   "metadata": {},
   "outputs": [],
   "source": [
    "# read in 16S data\n",
    "amplicon = pd.read_csv(\"resonance_dada2_genera.csv\")\n",
    "amplicon.rename(columns={'genus':'taxa'}, inplace=True)"
   ]
  },
  {
   "cell_type": "code",
   "execution_count": 18,
   "metadata": {},
   "outputs": [],
   "source": [
    "# clean taxonomic names\n",
    "# keep only genera\n",
    "# amplicon[\"taxa\"] = amplicon['taxa'].str.split(\"D_5__\", expand=True)[1]\n",
    "# amplicon.dropna(inplace=True)"
   ]
  },
  {
   "cell_type": "code",
   "execution_count": 19,
   "metadata": {},
   "outputs": [
    {
     "data": {
      "text/html": [
       "<div>\n",
       "<style scoped>\n",
       "    .dataframe tbody tr th:only-of-type {\n",
       "        vertical-align: middle;\n",
       "    }\n",
       "\n",
       "    .dataframe tbody tr th {\n",
       "        vertical-align: top;\n",
       "    }\n",
       "\n",
       "    .dataframe thead th {\n",
       "        text-align: right;\n",
       "    }\n",
       "</style>\n",
       "<table border=\"1\" class=\"dataframe\">\n",
       "  <thead>\n",
       "    <tr style=\"text-align: right;\">\n",
       "      <th></th>\n",
       "      <th>taxa</th>\n",
       "      <th>C0005-3F-1A</th>\n",
       "      <th>C0016-3F-1A</th>\n",
       "      <th>C0016-4F-1A</th>\n",
       "      <th>C0017-2F-1A</th>\n",
       "      <th>C0017-3F-1A</th>\n",
       "      <th>C0029-6F-1A</th>\n",
       "      <th>C0032-9F-1A</th>\n",
       "      <th>C0043-7F-1A</th>\n",
       "      <th>C0043-8F-1A</th>\n",
       "      <th>...</th>\n",
       "      <th>M1401-2F-1A</th>\n",
       "      <th>M1409-1F-1A</th>\n",
       "      <th>M1411-1F-1A</th>\n",
       "      <th>M1413-1F-1A</th>\n",
       "      <th>M1413-2F-1A</th>\n",
       "      <th>M1414-1F-1A</th>\n",
       "      <th>M1415-1F-1A</th>\n",
       "      <th>M1419-2F-1A</th>\n",
       "      <th>M1420-2F-1A</th>\n",
       "      <th>M1429-1F-1A</th>\n",
       "    </tr>\n",
       "  </thead>\n",
       "  <tbody>\n",
       "    <tr>\n",
       "      <th>0</th>\n",
       "      <td>Bacteroides</td>\n",
       "      <td>0.348707</td>\n",
       "      <td>0.107979</td>\n",
       "      <td>0.096940</td>\n",
       "      <td>0.150972</td>\n",
       "      <td>0.126965</td>\n",
       "      <td>0.351047</td>\n",
       "      <td>0.081313</td>\n",
       "      <td>0.207188</td>\n",
       "      <td>0.408414</td>\n",
       "      <td>...</td>\n",
       "      <td>0.329573</td>\n",
       "      <td>0.337646</td>\n",
       "      <td>0.144138</td>\n",
       "      <td>0.107218</td>\n",
       "      <td>0.063164</td>\n",
       "      <td>0.170763</td>\n",
       "      <td>0.294110</td>\n",
       "      <td>0.270815</td>\n",
       "      <td>0.120084</td>\n",
       "      <td>0.547073</td>\n",
       "    </tr>\n",
       "    <tr>\n",
       "      <th>1</th>\n",
       "      <td>Prevotella</td>\n",
       "      <td>0.000675</td>\n",
       "      <td>0.000000</td>\n",
       "      <td>0.000606</td>\n",
       "      <td>0.000000</td>\n",
       "      <td>0.000000</td>\n",
       "      <td>0.000393</td>\n",
       "      <td>0.000000</td>\n",
       "      <td>0.000181</td>\n",
       "      <td>0.000000</td>\n",
       "      <td>...</td>\n",
       "      <td>0.002065</td>\n",
       "      <td>0.000754</td>\n",
       "      <td>0.308576</td>\n",
       "      <td>0.031552</td>\n",
       "      <td>0.013485</td>\n",
       "      <td>0.060379</td>\n",
       "      <td>0.011199</td>\n",
       "      <td>0.002772</td>\n",
       "      <td>0.068828</td>\n",
       "      <td>0.002487</td>\n",
       "    </tr>\n",
       "    <tr>\n",
       "      <th>2</th>\n",
       "      <td>Faecalibacterium</td>\n",
       "      <td>0.035163</td>\n",
       "      <td>0.081749</td>\n",
       "      <td>0.090222</td>\n",
       "      <td>0.100365</td>\n",
       "      <td>0.065664</td>\n",
       "      <td>0.089725</td>\n",
       "      <td>0.052333</td>\n",
       "      <td>0.168897</td>\n",
       "      <td>0.138899</td>\n",
       "      <td>...</td>\n",
       "      <td>0.000277</td>\n",
       "      <td>0.013056</td>\n",
       "      <td>0.011697</td>\n",
       "      <td>0.058145</td>\n",
       "      <td>0.067594</td>\n",
       "      <td>0.123218</td>\n",
       "      <td>0.051604</td>\n",
       "      <td>0.092725</td>\n",
       "      <td>0.113730</td>\n",
       "      <td>0.018068</td>\n",
       "    </tr>\n",
       "    <tr>\n",
       "      <th>3</th>\n",
       "      <td>Escherichia-Shigella</td>\n",
       "      <td>0.005066</td>\n",
       "      <td>0.000173</td>\n",
       "      <td>0.000000</td>\n",
       "      <td>0.000000</td>\n",
       "      <td>0.000170</td>\n",
       "      <td>0.000000</td>\n",
       "      <td>0.000548</td>\n",
       "      <td>0.000226</td>\n",
       "      <td>0.000000</td>\n",
       "      <td>...</td>\n",
       "      <td>0.002468</td>\n",
       "      <td>0.000000</td>\n",
       "      <td>0.000577</td>\n",
       "      <td>0.000000</td>\n",
       "      <td>0.000000</td>\n",
       "      <td>0.000222</td>\n",
       "      <td>0.000000</td>\n",
       "      <td>0.000000</td>\n",
       "      <td>0.000551</td>\n",
       "      <td>0.006803</td>\n",
       "    </tr>\n",
       "    <tr>\n",
       "      <th>4</th>\n",
       "      <td>Parabacteroides</td>\n",
       "      <td>0.008969</td>\n",
       "      <td>0.013403</td>\n",
       "      <td>0.015861</td>\n",
       "      <td>0.018511</td>\n",
       "      <td>0.019229</td>\n",
       "      <td>0.000000</td>\n",
       "      <td>0.015187</td>\n",
       "      <td>0.009675</td>\n",
       "      <td>0.025535</td>\n",
       "      <td>...</td>\n",
       "      <td>0.074819</td>\n",
       "      <td>0.020715</td>\n",
       "      <td>0.028534</td>\n",
       "      <td>0.031351</td>\n",
       "      <td>0.038717</td>\n",
       "      <td>0.025806</td>\n",
       "      <td>0.043425</td>\n",
       "      <td>0.027913</td>\n",
       "      <td>0.019582</td>\n",
       "      <td>0.077199</td>\n",
       "    </tr>\n",
       "  </tbody>\n",
       "</table>\n",
       "<p>5 rows × 837 columns</p>\n",
       "</div>"
      ],
      "text/plain": [
       "                   taxa  C0005-3F-1A  C0016-3F-1A  C0016-4F-1A  C0017-2F-1A  \\\n",
       "0           Bacteroides     0.348707     0.107979     0.096940     0.150972   \n",
       "1            Prevotella     0.000675     0.000000     0.000606     0.000000   \n",
       "2      Faecalibacterium     0.035163     0.081749     0.090222     0.100365   \n",
       "3  Escherichia-Shigella     0.005066     0.000173     0.000000     0.000000   \n",
       "4       Parabacteroides     0.008969     0.013403     0.015861     0.018511   \n",
       "\n",
       "   C0017-3F-1A  C0029-6F-1A  C0032-9F-1A  C0043-7F-1A  C0043-8F-1A  ...  \\\n",
       "0     0.126965     0.351047     0.081313     0.207188     0.408414  ...   \n",
       "1     0.000000     0.000393     0.000000     0.000181     0.000000  ...   \n",
       "2     0.065664     0.089725     0.052333     0.168897     0.138899  ...   \n",
       "3     0.000170     0.000000     0.000548     0.000226     0.000000  ...   \n",
       "4     0.019229     0.000000     0.015187     0.009675     0.025535  ...   \n",
       "\n",
       "   M1401-2F-1A  M1409-1F-1A  M1411-1F-1A  M1413-1F-1A  M1413-2F-1A  \\\n",
       "0     0.329573     0.337646     0.144138     0.107218     0.063164   \n",
       "1     0.002065     0.000754     0.308576     0.031552     0.013485   \n",
       "2     0.000277     0.013056     0.011697     0.058145     0.067594   \n",
       "3     0.002468     0.000000     0.000577     0.000000     0.000000   \n",
       "4     0.074819     0.020715     0.028534     0.031351     0.038717   \n",
       "\n",
       "   M1414-1F-1A  M1415-1F-1A  M1419-2F-1A  M1420-2F-1A  M1429-1F-1A  \n",
       "0     0.170763     0.294110     0.270815     0.120084     0.547073  \n",
       "1     0.060379     0.011199     0.002772     0.068828     0.002487  \n",
       "2     0.123218     0.051604     0.092725     0.113730     0.018068  \n",
       "3     0.000222     0.000000     0.000000     0.000551     0.006803  \n",
       "4     0.025806     0.043425     0.027913     0.019582     0.077199  \n",
       "\n",
       "[5 rows x 837 columns]"
      ]
     },
     "execution_count": 19,
     "metadata": {},
     "output_type": "execute_result"
    }
   ],
   "source": [
    "amplicon.head()"
   ]
  },
  {
   "cell_type": "code",
   "execution_count": 20,
   "metadata": {},
   "outputs": [
    {
     "data": {
      "text/plain": [
       "837"
      ]
     },
     "execution_count": 20,
     "metadata": {},
     "output_type": "execute_result"
    }
   ],
   "source": [
    "len(amplicon.columns.values)"
   ]
  },
  {
   "cell_type": "code",
   "execution_count": 21,
   "metadata": {},
   "outputs": [],
   "source": [
    "amplicon.sort_values(by = \"taxa\", ascending=True, inplace=True)"
   ]
  },
  {
   "cell_type": "code",
   "execution_count": 22,
   "metadata": {},
   "outputs": [],
   "source": [
    "amplicon[\"taxa\"] = amplicon[\"taxa\"].astype(str)"
   ]
  },
  {
   "cell_type": "code",
   "execution_count": 23,
   "metadata": {},
   "outputs": [],
   "source": [
    "# calculate relative abundances\n",
    "bug_sum = amplicon.sum(axis = 0, skipna = True)\n",
    "amplicon.iloc[:, 1:] = amplicon.iloc[:, 1:]/bug_sum"
   ]
  },
  {
   "cell_type": "code",
   "execution_count": 24,
   "metadata": {},
   "outputs": [],
   "source": [
    "# remove any Nones, uncultured organisms\n",
    "amplicon = amplicon[~amplicon.taxa.str.contains(\"uncultured\")]\n",
    "amplicon = amplicon[~amplicon.taxa.str.contains(\"metagenome\")]\n",
    "amplicon = amplicon[~amplicon.taxa.str.contains(\"unidentified\")]\n",
    "amplicon = amplicon[~amplicon.taxa.str.contains(r'[0-9]')]\n",
    "amplicon = amplicon[~amplicon.taxa.str.contains(\"group\")]"
   ]
  },
  {
   "cell_type": "code",
   "execution_count": 25,
   "metadata": {},
   "outputs": [
    {
     "name": "stdout",
     "output_type": "stream",
     "text": [
      "1.0\n",
      "1.3578387901567507e-16\n"
     ]
    }
   ],
   "source": [
    "# avg relative abundance of mgx samples\n",
    "\n",
    "print(amplicon.loc[:, amplicon.columns != 'taxa'].sum().mean())\n",
    "print(amplicon.loc[:, amplicon.columns != 'taxa'].sum().std())"
   ]
  },
  {
   "cell_type": "code",
   "execution_count": 26,
   "metadata": {},
   "outputs": [],
   "source": [
    "amplicon.to_csv('16S_abundance.csv')"
   ]
  },
  {
   "cell_type": "markdown",
   "metadata": {},
   "source": [
    "### looking for the intersection of taxonomy"
   ]
  },
  {
   "cell_type": "code",
   "execution_count": 27,
   "metadata": {},
   "outputs": [],
   "source": [
    "# calculate number of taxa in both vs. either one"
   ]
  },
  {
   "cell_type": "code",
   "execution_count": 28,
   "metadata": {},
   "outputs": [],
   "source": [
    "amplicon_taxa_list = set(amplicon[\"taxa\"])\n",
    "mgx_taxa_list = set(mgx[\"taxa\"])"
   ]
  },
  {
   "cell_type": "code",
   "execution_count": 29,
   "metadata": {},
   "outputs": [],
   "source": [
    "intersection = amplicon_taxa_list.intersection(mgx_taxa_list)\n",
    "union = amplicon_taxa_list.union(mgx_taxa_list)"
   ]
  },
  {
   "cell_type": "code",
   "execution_count": 30,
   "metadata": {},
   "outputs": [],
   "source": [
    "union_df = pd.DataFrame(union)\n",
    "union_df.to_csv('taxalist.csv', index=False)"
   ]
  },
  {
   "cell_type": "code",
   "execution_count": 31,
   "metadata": {},
   "outputs": [
    {
     "data": {
      "text/plain": [
       "154"
      ]
     },
     "execution_count": 31,
     "metadata": {},
     "output_type": "execute_result"
    },
    {
     "data": {
      "text/plain": [
       "471"
      ]
     },
     "execution_count": 31,
     "metadata": {},
     "output_type": "execute_result"
    },
    {
     "data": {
      "text/plain": [
       "31"
      ]
     },
     "execution_count": 31,
     "metadata": {},
     "output_type": "execute_result"
    }
   ],
   "source": [
    "len(intersection)\n",
    "len(amplicon_taxa_list)-len(intersection)\n",
    "len(mgx_taxa_list)-len(intersection)"
   ]
  },
  {
   "cell_type": "code",
   "execution_count": 32,
   "metadata": {},
   "outputs": [],
   "source": [
    "amplicon_only = amplicon_taxa_list.difference(intersection)\n",
    "mgx_only = mgx_taxa_list.difference(intersection)"
   ]
  },
  {
   "cell_type": "code",
   "execution_count": 33,
   "metadata": {},
   "outputs": [
    {
     "data": {
      "text/plain": [
       "471"
      ]
     },
     "execution_count": 33,
     "metadata": {},
     "output_type": "execute_result"
    },
    {
     "data": {
      "text/plain": [
       "31"
      ]
     },
     "execution_count": 33,
     "metadata": {},
     "output_type": "execute_result"
    }
   ],
   "source": [
    "len(amplicon_only)\n",
    "len(mgx_only)"
   ]
  },
  {
   "cell_type": "code",
   "execution_count": 34,
   "metadata": {},
   "outputs": [],
   "source": [
    "union_df.rename(columns={0: \"taxa\"}, inplace=True)"
   ]
  },
  {
   "cell_type": "code",
   "execution_count": 35,
   "metadata": {},
   "outputs": [],
   "source": [
    "union_df[\"both\"] = np.where(union_df[\"taxa\"].isin(intersection), 1, 0)"
   ]
  },
  {
   "cell_type": "code",
   "execution_count": 36,
   "metadata": {},
   "outputs": [],
   "source": [
    "union_df[\"amp\"] = np.where(union_df[\"taxa\"].isin(amplicon_only), 1, 0)"
   ]
  },
  {
   "cell_type": "code",
   "execution_count": 37,
   "metadata": {},
   "outputs": [],
   "source": [
    "union_df[\"mgx\"] = np.where(union_df[\"taxa\"].isin(mgx_only), 1, 0)"
   ]
  },
  {
   "cell_type": "code",
   "execution_count": 38,
   "metadata": {},
   "outputs": [
    {
     "data": {
      "text/html": [
       "<div>\n",
       "<style scoped>\n",
       "    .dataframe tbody tr th:only-of-type {\n",
       "        vertical-align: middle;\n",
       "    }\n",
       "\n",
       "    .dataframe tbody tr th {\n",
       "        vertical-align: top;\n",
       "    }\n",
       "\n",
       "    .dataframe thead th {\n",
       "        text-align: right;\n",
       "    }\n",
       "</style>\n",
       "<table border=\"1\" class=\"dataframe\">\n",
       "  <thead>\n",
       "    <tr style=\"text-align: right;\">\n",
       "      <th></th>\n",
       "      <th>taxa</th>\n",
       "      <th>both</th>\n",
       "      <th>amp</th>\n",
       "      <th>mgx</th>\n",
       "    </tr>\n",
       "  </thead>\n",
       "  <tbody>\n",
       "    <tr>\n",
       "      <th>651</th>\n",
       "      <td>UNCLASSIFIED</td>\n",
       "      <td>1</td>\n",
       "      <td>0</td>\n",
       "      <td>0</td>\n",
       "    </tr>\n",
       "    <tr>\n",
       "      <th>652</th>\n",
       "      <td>Sutturella</td>\n",
       "      <td>0</td>\n",
       "      <td>1</td>\n",
       "      <td>0</td>\n",
       "    </tr>\n",
       "    <tr>\n",
       "      <th>653</th>\n",
       "      <td>Fretibacterium</td>\n",
       "      <td>0</td>\n",
       "      <td>1</td>\n",
       "      <td>0</td>\n",
       "    </tr>\n",
       "    <tr>\n",
       "      <th>654</th>\n",
       "      <td>Phoma</td>\n",
       "      <td>0</td>\n",
       "      <td>1</td>\n",
       "      <td>0</td>\n",
       "    </tr>\n",
       "    <tr>\n",
       "      <th>655</th>\n",
       "      <td>Peptoniphilus</td>\n",
       "      <td>1</td>\n",
       "      <td>0</td>\n",
       "      <td>0</td>\n",
       "    </tr>\n",
       "  </tbody>\n",
       "</table>\n",
       "</div>"
      ],
      "text/plain": [
       "               taxa  both  amp  mgx\n",
       "651    UNCLASSIFIED     1    0    0\n",
       "652      Sutturella     0    1    0\n",
       "653  Fretibacterium     0    1    0\n",
       "654           Phoma     0    1    0\n",
       "655   Peptoniphilus     1    0    0"
      ]
     },
     "execution_count": 38,
     "metadata": {},
     "output_type": "execute_result"
    }
   ],
   "source": [
    "union_df.tail()"
   ]
  },
  {
   "cell_type": "code",
   "execution_count": 39,
   "metadata": {},
   "outputs": [],
   "source": [
    "union_df.to_csv('taxa_presence_compare_methods.csv', index=False)"
   ]
  },
  {
   "cell_type": "code",
   "execution_count": 40,
   "metadata": {},
   "outputs": [
    {
     "data": {
      "text/plain": [
       "10"
      ]
     },
     "execution_count": 40,
     "metadata": {},
     "output_type": "execute_result"
    },
    {
     "data": {
      "text/plain": [
       "15"
      ]
     },
     "execution_count": 40,
     "metadata": {},
     "output_type": "execute_result"
    },
    {
     "data": {
      "text/plain": [
       "12"
      ]
     },
     "execution_count": 40,
     "metadata": {},
     "output_type": "execute_result"
    },
    {
     "data": {
      "text/plain": [
       "16"
      ]
     },
     "execution_count": 40,
     "metadata": {},
     "output_type": "execute_result"
    },
    {
     "data": {
      "text/plain": [
       "19"
      ]
     },
     "execution_count": 40,
     "metadata": {},
     "output_type": "execute_result"
    },
    {
     "data": {
      "text/plain": [
       "11"
      ]
     },
     "execution_count": 40,
     "metadata": {},
     "output_type": "execute_result"
    },
    {
     "data": {
      "text/plain": [
       "18"
      ]
     },
     "execution_count": 40,
     "metadata": {},
     "output_type": "execute_result"
    },
    {
     "data": {
      "text/plain": [
       "11"
      ]
     },
     "execution_count": 40,
     "metadata": {},
     "output_type": "execute_result"
    },
    {
     "data": {
      "text/plain": [
       "13"
      ]
     },
     "execution_count": 40,
     "metadata": {},
     "output_type": "execute_result"
    },
    {
     "data": {
      "text/plain": [
       "8"
      ]
     },
     "execution_count": 40,
     "metadata": {},
     "output_type": "execute_result"
    },
    {
     "data": {
      "text/plain": [
       "14"
      ]
     },
     "execution_count": 40,
     "metadata": {},
     "output_type": "execute_result"
    },
    {
     "data": {
      "text/plain": [
       "7"
      ]
     },
     "execution_count": 40,
     "metadata": {},
     "output_type": "execute_result"
    },
    {
     "data": {
      "text/plain": [
       "10"
      ]
     },
     "execution_count": 40,
     "metadata": {},
     "output_type": "execute_result"
    },
    {
     "data": {
      "text/plain": [
       "12"
      ]
     },
     "execution_count": 40,
     "metadata": {},
     "output_type": "execute_result"
    },
    {
     "data": {
      "text/plain": [
       "13"
      ]
     },
     "execution_count": 40,
     "metadata": {},
     "output_type": "execute_result"
    },
    {
     "data": {
      "text/plain": [
       "18"
      ]
     },
     "execution_count": 40,
     "metadata": {},
     "output_type": "execute_result"
    },
    {
     "data": {
      "text/plain": [
       "16"
      ]
     },
     "execution_count": 40,
     "metadata": {},
     "output_type": "execute_result"
    },
    {
     "data": {
      "text/plain": [
       "15"
      ]
     },
     "execution_count": 40,
     "metadata": {},
     "output_type": "execute_result"
    },
    {
     "data": {
      "text/plain": [
       "19"
      ]
     },
     "execution_count": 40,
     "metadata": {},
     "output_type": "execute_result"
    },
    {
     "data": {
      "text/plain": [
       "16"
      ]
     },
     "execution_count": 40,
     "metadata": {},
     "output_type": "execute_result"
    },
    {
     "data": {
      "text/plain": [
       "10"
      ]
     },
     "execution_count": 40,
     "metadata": {},
     "output_type": "execute_result"
    },
    {
     "data": {
      "text/plain": [
       "14"
      ]
     },
     "execution_count": 40,
     "metadata": {},
     "output_type": "execute_result"
    },
    {
     "data": {
      "text/plain": [
       "11"
      ]
     },
     "execution_count": 40,
     "metadata": {},
     "output_type": "execute_result"
    },
    {
     "data": {
      "text/plain": [
       "15"
      ]
     },
     "execution_count": 40,
     "metadata": {},
     "output_type": "execute_result"
    },
    {
     "data": {
      "text/plain": [
       "10"
      ]
     },
     "execution_count": 40,
     "metadata": {},
     "output_type": "execute_result"
    },
    {
     "data": {
      "text/plain": [
       "12"
      ]
     },
     "execution_count": 40,
     "metadata": {},
     "output_type": "execute_result"
    },
    {
     "data": {
      "text/plain": [
       "14"
      ]
     },
     "execution_count": 40,
     "metadata": {},
     "output_type": "execute_result"
    },
    {
     "data": {
      "text/plain": [
       "10"
      ]
     },
     "execution_count": 40,
     "metadata": {},
     "output_type": "execute_result"
    },
    {
     "data": {
      "text/plain": [
       "12"
      ]
     },
     "execution_count": 40,
     "metadata": {},
     "output_type": "execute_result"
    },
    {
     "data": {
      "text/plain": [
       "12"
      ]
     },
     "execution_count": 40,
     "metadata": {},
     "output_type": "execute_result"
    },
    {
     "data": {
      "text/plain": [
       "10"
      ]
     },
     "execution_count": 40,
     "metadata": {},
     "output_type": "execute_result"
    },
    {
     "data": {
      "text/plain": [
       "15"
      ]
     },
     "execution_count": 40,
     "metadata": {},
     "output_type": "execute_result"
    },
    {
     "data": {
      "text/plain": [
       "17"
      ]
     },
     "execution_count": 40,
     "metadata": {},
     "output_type": "execute_result"
    },
    {
     "data": {
      "text/plain": [
       "12"
      ]
     },
     "execution_count": 40,
     "metadata": {},
     "output_type": "execute_result"
    },
    {
     "data": {
      "text/plain": [
       "11"
      ]
     },
     "execution_count": 40,
     "metadata": {},
     "output_type": "execute_result"
    },
    {
     "data": {
      "text/plain": [
       "7"
      ]
     },
     "execution_count": 40,
     "metadata": {},
     "output_type": "execute_result"
    },
    {
     "data": {
      "text/plain": [
       "10"
      ]
     },
     "execution_count": 40,
     "metadata": {},
     "output_type": "execute_result"
    },
    {
     "data": {
      "text/plain": [
       "10"
      ]
     },
     "execution_count": 40,
     "metadata": {},
     "output_type": "execute_result"
    },
    {
     "data": {
      "text/plain": [
       "14"
      ]
     },
     "execution_count": 40,
     "metadata": {},
     "output_type": "execute_result"
    },
    {
     "data": {
      "text/plain": [
       "17"
      ]
     },
     "execution_count": 40,
     "metadata": {},
     "output_type": "execute_result"
    },
    {
     "data": {
      "text/plain": [
       "15"
      ]
     },
     "execution_count": 40,
     "metadata": {},
     "output_type": "execute_result"
    },
    {
     "data": {
      "text/plain": [
       "14"
      ]
     },
     "execution_count": 40,
     "metadata": {},
     "output_type": "execute_result"
    },
    {
     "data": {
      "text/plain": [
       "12"
      ]
     },
     "execution_count": 40,
     "metadata": {},
     "output_type": "execute_result"
    },
    {
     "data": {
      "text/plain": [
       "11"
      ]
     },
     "execution_count": 40,
     "metadata": {},
     "output_type": "execute_result"
    },
    {
     "data": {
      "text/plain": [
       "10"
      ]
     },
     "execution_count": 40,
     "metadata": {},
     "output_type": "execute_result"
    },
    {
     "data": {
      "text/plain": [
       "12"
      ]
     },
     "execution_count": 40,
     "metadata": {},
     "output_type": "execute_result"
    },
    {
     "data": {
      "text/plain": [
       "23"
      ]
     },
     "execution_count": 40,
     "metadata": {},
     "output_type": "execute_result"
    },
    {
     "data": {
      "text/plain": [
       "16"
      ]
     },
     "execution_count": 40,
     "metadata": {},
     "output_type": "execute_result"
    },
    {
     "data": {
      "text/plain": [
       "8"
      ]
     },
     "execution_count": 40,
     "metadata": {},
     "output_type": "execute_result"
    },
    {
     "data": {
      "text/plain": [
       "6"
      ]
     },
     "execution_count": 40,
     "metadata": {},
     "output_type": "execute_result"
    },
    {
     "data": {
      "text/plain": [
       "12"
      ]
     },
     "execution_count": 40,
     "metadata": {},
     "output_type": "execute_result"
    },
    {
     "data": {
      "text/plain": [
       "10"
      ]
     },
     "execution_count": 40,
     "metadata": {},
     "output_type": "execute_result"
    },
    {
     "data": {
      "text/plain": [
       "15"
      ]
     },
     "execution_count": 40,
     "metadata": {},
     "output_type": "execute_result"
    },
    {
     "data": {
      "text/plain": [
       "15"
      ]
     },
     "execution_count": 40,
     "metadata": {},
     "output_type": "execute_result"
    },
    {
     "data": {
      "text/plain": [
       "12"
      ]
     },
     "execution_count": 40,
     "metadata": {},
     "output_type": "execute_result"
    },
    {
     "data": {
      "text/plain": [
       "11"
      ]
     },
     "execution_count": 40,
     "metadata": {},
     "output_type": "execute_result"
    },
    {
     "data": {
      "text/plain": [
       "17"
      ]
     },
     "execution_count": 40,
     "metadata": {},
     "output_type": "execute_result"
    },
    {
     "data": {
      "text/plain": [
       "10"
      ]
     },
     "execution_count": 40,
     "metadata": {},
     "output_type": "execute_result"
    },
    {
     "data": {
      "text/plain": [
       "12"
      ]
     },
     "execution_count": 40,
     "metadata": {},
     "output_type": "execute_result"
    },
    {
     "data": {
      "text/plain": [
       "12"
      ]
     },
     "execution_count": 40,
     "metadata": {},
     "output_type": "execute_result"
    },
    {
     "data": {
      "text/plain": [
       "12"
      ]
     },
     "execution_count": 40,
     "metadata": {},
     "output_type": "execute_result"
    },
    {
     "data": {
      "text/plain": [
       "17"
      ]
     },
     "execution_count": 40,
     "metadata": {},
     "output_type": "execute_result"
    },
    {
     "data": {
      "text/plain": [
       "15"
      ]
     },
     "execution_count": 40,
     "metadata": {},
     "output_type": "execute_result"
    },
    {
     "data": {
      "text/plain": [
       "8"
      ]
     },
     "execution_count": 40,
     "metadata": {},
     "output_type": "execute_result"
    },
    {
     "data": {
      "text/plain": [
       "14"
      ]
     },
     "execution_count": 40,
     "metadata": {},
     "output_type": "execute_result"
    },
    {
     "data": {
      "text/plain": [
       "19"
      ]
     },
     "execution_count": 40,
     "metadata": {},
     "output_type": "execute_result"
    },
    {
     "data": {
      "text/plain": [
       "12"
      ]
     },
     "execution_count": 40,
     "metadata": {},
     "output_type": "execute_result"
    },
    {
     "data": {
      "text/plain": [
       "15"
      ]
     },
     "execution_count": 40,
     "metadata": {},
     "output_type": "execute_result"
    },
    {
     "data": {
      "text/plain": [
       "12"
      ]
     },
     "execution_count": 40,
     "metadata": {},
     "output_type": "execute_result"
    },
    {
     "data": {
      "text/plain": [
       "13"
      ]
     },
     "execution_count": 40,
     "metadata": {},
     "output_type": "execute_result"
    },
    {
     "data": {
      "text/plain": [
       "11"
      ]
     },
     "execution_count": 40,
     "metadata": {},
     "output_type": "execute_result"
    },
    {
     "data": {
      "text/plain": [
       "15"
      ]
     },
     "execution_count": 40,
     "metadata": {},
     "output_type": "execute_result"
    },
    {
     "data": {
      "text/plain": [
       "14"
      ]
     },
     "execution_count": 40,
     "metadata": {},
     "output_type": "execute_result"
    },
    {
     "data": {
      "text/plain": [
       "12"
      ]
     },
     "execution_count": 40,
     "metadata": {},
     "output_type": "execute_result"
    },
    {
     "data": {
      "text/plain": [
       "11"
      ]
     },
     "execution_count": 40,
     "metadata": {},
     "output_type": "execute_result"
    },
    {
     "data": {
      "text/plain": [
       "9"
      ]
     },
     "execution_count": 40,
     "metadata": {},
     "output_type": "execute_result"
    },
    {
     "data": {
      "text/plain": [
       "9"
      ]
     },
     "execution_count": 40,
     "metadata": {},
     "output_type": "execute_result"
    },
    {
     "data": {
      "text/plain": [
       "13"
      ]
     },
     "execution_count": 40,
     "metadata": {},
     "output_type": "execute_result"
    },
    {
     "data": {
      "text/plain": [
       "12"
      ]
     },
     "execution_count": 40,
     "metadata": {},
     "output_type": "execute_result"
    },
    {
     "data": {
      "text/plain": [
       "10"
      ]
     },
     "execution_count": 40,
     "metadata": {},
     "output_type": "execute_result"
    },
    {
     "data": {
      "text/plain": [
       "9"
      ]
     },
     "execution_count": 40,
     "metadata": {},
     "output_type": "execute_result"
    },
    {
     "data": {
      "text/plain": [
       "14"
      ]
     },
     "execution_count": 40,
     "metadata": {},
     "output_type": "execute_result"
    },
    {
     "data": {
      "text/plain": [
       "12"
      ]
     },
     "execution_count": 40,
     "metadata": {},
     "output_type": "execute_result"
    },
    {
     "data": {
      "text/plain": [
       "14"
      ]
     },
     "execution_count": 40,
     "metadata": {},
     "output_type": "execute_result"
    },
    {
     "data": {
      "text/plain": [
       "12"
      ]
     },
     "execution_count": 40,
     "metadata": {},
     "output_type": "execute_result"
    },
    {
     "data": {
      "text/plain": [
       "11"
      ]
     },
     "execution_count": 40,
     "metadata": {},
     "output_type": "execute_result"
    },
    {
     "data": {
      "text/plain": [
       "14"
      ]
     },
     "execution_count": 40,
     "metadata": {},
     "output_type": "execute_result"
    },
    {
     "data": {
      "text/plain": [
       "10"
      ]
     },
     "execution_count": 40,
     "metadata": {},
     "output_type": "execute_result"
    },
    {
     "data": {
      "text/plain": [
       "11"
      ]
     },
     "execution_count": 40,
     "metadata": {},
     "output_type": "execute_result"
    },
    {
     "data": {
      "text/plain": [
       "13"
      ]
     },
     "execution_count": 40,
     "metadata": {},
     "output_type": "execute_result"
    },
    {
     "data": {
      "text/plain": [
       "17"
      ]
     },
     "execution_count": 40,
     "metadata": {},
     "output_type": "execute_result"
    },
    {
     "data": {
      "text/plain": [
       "19"
      ]
     },
     "execution_count": 40,
     "metadata": {},
     "output_type": "execute_result"
    },
    {
     "data": {
      "text/plain": [
       "12"
      ]
     },
     "execution_count": 40,
     "metadata": {},
     "output_type": "execute_result"
    },
    {
     "data": {
      "text/plain": [
       "14"
      ]
     },
     "execution_count": 40,
     "metadata": {},
     "output_type": "execute_result"
    },
    {
     "data": {
      "text/plain": [
       "14"
      ]
     },
     "execution_count": 40,
     "metadata": {},
     "output_type": "execute_result"
    },
    {
     "data": {
      "text/plain": [
       "11"
      ]
     },
     "execution_count": 40,
     "metadata": {},
     "output_type": "execute_result"
    },
    {
     "data": {
      "text/plain": [
       "16"
      ]
     },
     "execution_count": 40,
     "metadata": {},
     "output_type": "execute_result"
    },
    {
     "data": {
      "text/plain": [
       "17"
      ]
     },
     "execution_count": 40,
     "metadata": {},
     "output_type": "execute_result"
    },
    {
     "data": {
      "text/plain": [
       "13"
      ]
     },
     "execution_count": 40,
     "metadata": {},
     "output_type": "execute_result"
    },
    {
     "data": {
      "text/plain": [
       "15"
      ]
     },
     "execution_count": 40,
     "metadata": {},
     "output_type": "execute_result"
    },
    {
     "data": {
      "text/plain": [
       "7"
      ]
     },
     "execution_count": 40,
     "metadata": {},
     "output_type": "execute_result"
    },
    {
     "data": {
      "text/plain": [
       "11"
      ]
     },
     "execution_count": 40,
     "metadata": {},
     "output_type": "execute_result"
    },
    {
     "data": {
      "text/plain": [
       "14"
      ]
     },
     "execution_count": 40,
     "metadata": {},
     "output_type": "execute_result"
    },
    {
     "data": {
      "text/plain": [
       "12"
      ]
     },
     "execution_count": 40,
     "metadata": {},
     "output_type": "execute_result"
    },
    {
     "data": {
      "text/plain": [
       "12"
      ]
     },
     "execution_count": 40,
     "metadata": {},
     "output_type": "execute_result"
    },
    {
     "data": {
      "text/plain": [
       "13"
      ]
     },
     "execution_count": 40,
     "metadata": {},
     "output_type": "execute_result"
    },
    {
     "data": {
      "text/plain": [
       "11"
      ]
     },
     "execution_count": 40,
     "metadata": {},
     "output_type": "execute_result"
    },
    {
     "data": {
      "text/plain": [
       "14"
      ]
     },
     "execution_count": 40,
     "metadata": {},
     "output_type": "execute_result"
    },
    {
     "data": {
      "text/plain": [
       "13"
      ]
     },
     "execution_count": 40,
     "metadata": {},
     "output_type": "execute_result"
    },
    {
     "data": {
      "text/plain": [
       "22"
      ]
     },
     "execution_count": 40,
     "metadata": {},
     "output_type": "execute_result"
    },
    {
     "data": {
      "text/plain": [
       "11"
      ]
     },
     "execution_count": 40,
     "metadata": {},
     "output_type": "execute_result"
    },
    {
     "data": {
      "text/plain": [
       "16"
      ]
     },
     "execution_count": 40,
     "metadata": {},
     "output_type": "execute_result"
    },
    {
     "data": {
      "text/plain": [
       "18"
      ]
     },
     "execution_count": 40,
     "metadata": {},
     "output_type": "execute_result"
    },
    {
     "data": {
      "text/plain": [
       "15"
      ]
     },
     "execution_count": 40,
     "metadata": {},
     "output_type": "execute_result"
    },
    {
     "data": {
      "text/plain": [
       "12"
      ]
     },
     "execution_count": 40,
     "metadata": {},
     "output_type": "execute_result"
    },
    {
     "data": {
      "text/plain": [
       "11"
      ]
     },
     "execution_count": 40,
     "metadata": {},
     "output_type": "execute_result"
    },
    {
     "data": {
      "text/plain": [
       "14"
      ]
     },
     "execution_count": 40,
     "metadata": {},
     "output_type": "execute_result"
    },
    {
     "data": {
      "text/plain": [
       "14"
      ]
     },
     "execution_count": 40,
     "metadata": {},
     "output_type": "execute_result"
    },
    {
     "data": {
      "text/plain": [
       "12"
      ]
     },
     "execution_count": 40,
     "metadata": {},
     "output_type": "execute_result"
    },
    {
     "data": {
      "text/plain": [
       "13"
      ]
     },
     "execution_count": 40,
     "metadata": {},
     "output_type": "execute_result"
    },
    {
     "data": {
      "text/plain": [
       "14"
      ]
     },
     "execution_count": 40,
     "metadata": {},
     "output_type": "execute_result"
    },
    {
     "data": {
      "text/plain": [
       "13"
      ]
     },
     "execution_count": 40,
     "metadata": {},
     "output_type": "execute_result"
    },
    {
     "data": {
      "text/plain": [
       "15"
      ]
     },
     "execution_count": 40,
     "metadata": {},
     "output_type": "execute_result"
    },
    {
     "data": {
      "text/plain": [
       "9"
      ]
     },
     "execution_count": 40,
     "metadata": {},
     "output_type": "execute_result"
    },
    {
     "data": {
      "text/plain": [
       "22"
      ]
     },
     "execution_count": 40,
     "metadata": {},
     "output_type": "execute_result"
    },
    {
     "data": {
      "text/plain": [
       "9"
      ]
     },
     "execution_count": 40,
     "metadata": {},
     "output_type": "execute_result"
    },
    {
     "data": {
      "text/plain": [
       "11"
      ]
     },
     "execution_count": 40,
     "metadata": {},
     "output_type": "execute_result"
    },
    {
     "data": {
      "text/plain": [
       "15"
      ]
     },
     "execution_count": 40,
     "metadata": {},
     "output_type": "execute_result"
    },
    {
     "data": {
      "text/plain": [
       "14"
      ]
     },
     "execution_count": 40,
     "metadata": {},
     "output_type": "execute_result"
    },
    {
     "data": {
      "text/plain": [
       "12"
      ]
     },
     "execution_count": 40,
     "metadata": {},
     "output_type": "execute_result"
    },
    {
     "data": {
      "text/plain": [
       "16"
      ]
     },
     "execution_count": 40,
     "metadata": {},
     "output_type": "execute_result"
    },
    {
     "data": {
      "text/plain": [
       "10"
      ]
     },
     "execution_count": 40,
     "metadata": {},
     "output_type": "execute_result"
    },
    {
     "data": {
      "text/plain": [
       "14"
      ]
     },
     "execution_count": 40,
     "metadata": {},
     "output_type": "execute_result"
    },
    {
     "data": {
      "text/plain": [
       "13"
      ]
     },
     "execution_count": 40,
     "metadata": {},
     "output_type": "execute_result"
    },
    {
     "data": {
      "text/plain": [
       "12"
      ]
     },
     "execution_count": 40,
     "metadata": {},
     "output_type": "execute_result"
    },
    {
     "data": {
      "text/plain": [
       "16"
      ]
     },
     "execution_count": 40,
     "metadata": {},
     "output_type": "execute_result"
    },
    {
     "data": {
      "text/plain": [
       "11"
      ]
     },
     "execution_count": 40,
     "metadata": {},
     "output_type": "execute_result"
    },
    {
     "data": {
      "text/plain": [
       "21"
      ]
     },
     "execution_count": 40,
     "metadata": {},
     "output_type": "execute_result"
    },
    {
     "data": {
      "text/plain": [
       "8"
      ]
     },
     "execution_count": 40,
     "metadata": {},
     "output_type": "execute_result"
    },
    {
     "data": {
      "text/plain": [
       "14"
      ]
     },
     "execution_count": 40,
     "metadata": {},
     "output_type": "execute_result"
    },
    {
     "data": {
      "text/plain": [
       "13"
      ]
     },
     "execution_count": 40,
     "metadata": {},
     "output_type": "execute_result"
    },
    {
     "data": {
      "text/plain": [
       "10"
      ]
     },
     "execution_count": 40,
     "metadata": {},
     "output_type": "execute_result"
    },
    {
     "data": {
      "text/plain": [
       "12"
      ]
     },
     "execution_count": 40,
     "metadata": {},
     "output_type": "execute_result"
    },
    {
     "data": {
      "text/plain": [
       "13"
      ]
     },
     "execution_count": 40,
     "metadata": {},
     "output_type": "execute_result"
    },
    {
     "data": {
      "text/plain": [
       "12"
      ]
     },
     "execution_count": 40,
     "metadata": {},
     "output_type": "execute_result"
    },
    {
     "data": {
      "text/plain": [
       "13"
      ]
     },
     "execution_count": 40,
     "metadata": {},
     "output_type": "execute_result"
    },
    {
     "data": {
      "text/plain": [
       "12"
      ]
     },
     "execution_count": 40,
     "metadata": {},
     "output_type": "execute_result"
    },
    {
     "data": {
      "text/plain": [
       "13"
      ]
     },
     "execution_count": 40,
     "metadata": {},
     "output_type": "execute_result"
    },
    {
     "data": {
      "text/plain": [
       "8"
      ]
     },
     "execution_count": 40,
     "metadata": {},
     "output_type": "execute_result"
    },
    {
     "data": {
      "text/plain": [
       "10"
      ]
     },
     "execution_count": 40,
     "metadata": {},
     "output_type": "execute_result"
    },
    {
     "data": {
      "text/plain": [
       "17"
      ]
     },
     "execution_count": 40,
     "metadata": {},
     "output_type": "execute_result"
    },
    {
     "data": {
      "text/plain": [
       "16"
      ]
     },
     "execution_count": 40,
     "metadata": {},
     "output_type": "execute_result"
    },
    {
     "data": {
      "text/plain": [
       "15"
      ]
     },
     "execution_count": 40,
     "metadata": {},
     "output_type": "execute_result"
    },
    {
     "data": {
      "text/plain": [
       "14"
      ]
     },
     "execution_count": 40,
     "metadata": {},
     "output_type": "execute_result"
    }
   ],
   "source": [
    "with open('intersection.txt', 'w') as f:\n",
    "    for item in intersection:\n",
    "        f.write(\"%s\\n\" % item)"
   ]
  },
  {
   "cell_type": "code",
   "execution_count": 41,
   "metadata": {},
   "outputs": [
    {
     "data": {
      "text/plain": [
       "16"
      ]
     },
     "execution_count": 41,
     "metadata": {},
     "output_type": "execute_result"
    },
    {
     "data": {
      "text/plain": [
       "15"
      ]
     },
     "execution_count": 41,
     "metadata": {},
     "output_type": "execute_result"
    },
    {
     "data": {
      "text/plain": [
       "18"
      ]
     },
     "execution_count": 41,
     "metadata": {},
     "output_type": "execute_result"
    },
    {
     "data": {
      "text/plain": [
       "14"
      ]
     },
     "execution_count": 41,
     "metadata": {},
     "output_type": "execute_result"
    },
    {
     "data": {
      "text/plain": [
       "15"
      ]
     },
     "execution_count": 41,
     "metadata": {},
     "output_type": "execute_result"
    },
    {
     "data": {
      "text/plain": [
       "11"
      ]
     },
     "execution_count": 41,
     "metadata": {},
     "output_type": "execute_result"
    },
    {
     "data": {
      "text/plain": [
       "16"
      ]
     },
     "execution_count": 41,
     "metadata": {},
     "output_type": "execute_result"
    },
    {
     "data": {
      "text/plain": [
       "18"
      ]
     },
     "execution_count": 41,
     "metadata": {},
     "output_type": "execute_result"
    },
    {
     "data": {
      "text/plain": [
       "7"
      ]
     },
     "execution_count": 41,
     "metadata": {},
     "output_type": "execute_result"
    },
    {
     "data": {
      "text/plain": [
       "18"
      ]
     },
     "execution_count": 41,
     "metadata": {},
     "output_type": "execute_result"
    },
    {
     "data": {
      "text/plain": [
       "11"
      ]
     },
     "execution_count": 41,
     "metadata": {},
     "output_type": "execute_result"
    },
    {
     "data": {
      "text/plain": [
       "12"
      ]
     },
     "execution_count": 41,
     "metadata": {},
     "output_type": "execute_result"
    },
    {
     "data": {
      "text/plain": [
       "9"
      ]
     },
     "execution_count": 41,
     "metadata": {},
     "output_type": "execute_result"
    },
    {
     "data": {
      "text/plain": [
       "13"
      ]
     },
     "execution_count": 41,
     "metadata": {},
     "output_type": "execute_result"
    },
    {
     "data": {
      "text/plain": [
       "11"
      ]
     },
     "execution_count": 41,
     "metadata": {},
     "output_type": "execute_result"
    },
    {
     "data": {
      "text/plain": [
       "11"
      ]
     },
     "execution_count": 41,
     "metadata": {},
     "output_type": "execute_result"
    },
    {
     "data": {
      "text/plain": [
       "11"
      ]
     },
     "execution_count": 41,
     "metadata": {},
     "output_type": "execute_result"
    },
    {
     "data": {
      "text/plain": [
       "11"
      ]
     },
     "execution_count": 41,
     "metadata": {},
     "output_type": "execute_result"
    },
    {
     "data": {
      "text/plain": [
       "12"
      ]
     },
     "execution_count": 41,
     "metadata": {},
     "output_type": "execute_result"
    },
    {
     "data": {
      "text/plain": [
       "16"
      ]
     },
     "execution_count": 41,
     "metadata": {},
     "output_type": "execute_result"
    },
    {
     "data": {
      "text/plain": [
       "13"
      ]
     },
     "execution_count": 41,
     "metadata": {},
     "output_type": "execute_result"
    },
    {
     "data": {
      "text/plain": [
       "12"
      ]
     },
     "execution_count": 41,
     "metadata": {},
     "output_type": "execute_result"
    },
    {
     "data": {
      "text/plain": [
       "16"
      ]
     },
     "execution_count": 41,
     "metadata": {},
     "output_type": "execute_result"
    },
    {
     "data": {
      "text/plain": [
       "18"
      ]
     },
     "execution_count": 41,
     "metadata": {},
     "output_type": "execute_result"
    },
    {
     "data": {
      "text/plain": [
       "10"
      ]
     },
     "execution_count": 41,
     "metadata": {},
     "output_type": "execute_result"
    },
    {
     "data": {
      "text/plain": [
       "16"
      ]
     },
     "execution_count": 41,
     "metadata": {},
     "output_type": "execute_result"
    },
    {
     "data": {
      "text/plain": [
       "16"
      ]
     },
     "execution_count": 41,
     "metadata": {},
     "output_type": "execute_result"
    },
    {
     "data": {
      "text/plain": [
       "18"
      ]
     },
     "execution_count": 41,
     "metadata": {},
     "output_type": "execute_result"
    },
    {
     "data": {
      "text/plain": [
       "14"
      ]
     },
     "execution_count": 41,
     "metadata": {},
     "output_type": "execute_result"
    },
    {
     "data": {
      "text/plain": [
       "19"
      ]
     },
     "execution_count": 41,
     "metadata": {},
     "output_type": "execute_result"
    },
    {
     "data": {
      "text/plain": [
       "14"
      ]
     },
     "execution_count": 41,
     "metadata": {},
     "output_type": "execute_result"
    },
    {
     "data": {
      "text/plain": [
       "15"
      ]
     },
     "execution_count": 41,
     "metadata": {},
     "output_type": "execute_result"
    },
    {
     "data": {
      "text/plain": [
       "13"
      ]
     },
     "execution_count": 41,
     "metadata": {},
     "output_type": "execute_result"
    },
    {
     "data": {
      "text/plain": [
       "10"
      ]
     },
     "execution_count": 41,
     "metadata": {},
     "output_type": "execute_result"
    },
    {
     "data": {
      "text/plain": [
       "12"
      ]
     },
     "execution_count": 41,
     "metadata": {},
     "output_type": "execute_result"
    },
    {
     "data": {
      "text/plain": [
       "11"
      ]
     },
     "execution_count": 41,
     "metadata": {},
     "output_type": "execute_result"
    },
    {
     "data": {
      "text/plain": [
       "17"
      ]
     },
     "execution_count": 41,
     "metadata": {},
     "output_type": "execute_result"
    },
    {
     "data": {
      "text/plain": [
       "16"
      ]
     },
     "execution_count": 41,
     "metadata": {},
     "output_type": "execute_result"
    },
    {
     "data": {
      "text/plain": [
       "15"
      ]
     },
     "execution_count": 41,
     "metadata": {},
     "output_type": "execute_result"
    },
    {
     "data": {
      "text/plain": [
       "9"
      ]
     },
     "execution_count": 41,
     "metadata": {},
     "output_type": "execute_result"
    },
    {
     "data": {
      "text/plain": [
       "12"
      ]
     },
     "execution_count": 41,
     "metadata": {},
     "output_type": "execute_result"
    },
    {
     "data": {
      "text/plain": [
       "12"
      ]
     },
     "execution_count": 41,
     "metadata": {},
     "output_type": "execute_result"
    },
    {
     "data": {
      "text/plain": [
       "11"
      ]
     },
     "execution_count": 41,
     "metadata": {},
     "output_type": "execute_result"
    },
    {
     "data": {
      "text/plain": [
       "18"
      ]
     },
     "execution_count": 41,
     "metadata": {},
     "output_type": "execute_result"
    },
    {
     "data": {
      "text/plain": [
       "13"
      ]
     },
     "execution_count": 41,
     "metadata": {},
     "output_type": "execute_result"
    },
    {
     "data": {
      "text/plain": [
       "15"
      ]
     },
     "execution_count": 41,
     "metadata": {},
     "output_type": "execute_result"
    },
    {
     "data": {
      "text/plain": [
       "13"
      ]
     },
     "execution_count": 41,
     "metadata": {},
     "output_type": "execute_result"
    },
    {
     "data": {
      "text/plain": [
       "14"
      ]
     },
     "execution_count": 41,
     "metadata": {},
     "output_type": "execute_result"
    },
    {
     "data": {
      "text/plain": [
       "15"
      ]
     },
     "execution_count": 41,
     "metadata": {},
     "output_type": "execute_result"
    },
    {
     "data": {
      "text/plain": [
       "18"
      ]
     },
     "execution_count": 41,
     "metadata": {},
     "output_type": "execute_result"
    },
    {
     "data": {
      "text/plain": [
       "14"
      ]
     },
     "execution_count": 41,
     "metadata": {},
     "output_type": "execute_result"
    },
    {
     "data": {
      "text/plain": [
       "19"
      ]
     },
     "execution_count": 41,
     "metadata": {},
     "output_type": "execute_result"
    },
    {
     "data": {
      "text/plain": [
       "13"
      ]
     },
     "execution_count": 41,
     "metadata": {},
     "output_type": "execute_result"
    },
    {
     "data": {
      "text/plain": [
       "16"
      ]
     },
     "execution_count": 41,
     "metadata": {},
     "output_type": "execute_result"
    },
    {
     "data": {
      "text/plain": [
       "14"
      ]
     },
     "execution_count": 41,
     "metadata": {},
     "output_type": "execute_result"
    },
    {
     "data": {
      "text/plain": [
       "10"
      ]
     },
     "execution_count": 41,
     "metadata": {},
     "output_type": "execute_result"
    },
    {
     "data": {
      "text/plain": [
       "12"
      ]
     },
     "execution_count": 41,
     "metadata": {},
     "output_type": "execute_result"
    },
    {
     "data": {
      "text/plain": [
       "20"
      ]
     },
     "execution_count": 41,
     "metadata": {},
     "output_type": "execute_result"
    },
    {
     "data": {
      "text/plain": [
       "7"
      ]
     },
     "execution_count": 41,
     "metadata": {},
     "output_type": "execute_result"
    },
    {
     "data": {
      "text/plain": [
       "10"
      ]
     },
     "execution_count": 41,
     "metadata": {},
     "output_type": "execute_result"
    },
    {
     "data": {
      "text/plain": [
       "14"
      ]
     },
     "execution_count": 41,
     "metadata": {},
     "output_type": "execute_result"
    },
    {
     "data": {
      "text/plain": [
       "13"
      ]
     },
     "execution_count": 41,
     "metadata": {},
     "output_type": "execute_result"
    },
    {
     "data": {
      "text/plain": [
       "11"
      ]
     },
     "execution_count": 41,
     "metadata": {},
     "output_type": "execute_result"
    },
    {
     "data": {
      "text/plain": [
       "17"
      ]
     },
     "execution_count": 41,
     "metadata": {},
     "output_type": "execute_result"
    },
    {
     "data": {
      "text/plain": [
       "14"
      ]
     },
     "execution_count": 41,
     "metadata": {},
     "output_type": "execute_result"
    },
    {
     "data": {
      "text/plain": [
       "16"
      ]
     },
     "execution_count": 41,
     "metadata": {},
     "output_type": "execute_result"
    },
    {
     "data": {
      "text/plain": [
       "17"
      ]
     },
     "execution_count": 41,
     "metadata": {},
     "output_type": "execute_result"
    },
    {
     "data": {
      "text/plain": [
       "14"
      ]
     },
     "execution_count": 41,
     "metadata": {},
     "output_type": "execute_result"
    },
    {
     "data": {
      "text/plain": [
       "19"
      ]
     },
     "execution_count": 41,
     "metadata": {},
     "output_type": "execute_result"
    },
    {
     "data": {
      "text/plain": [
       "15"
      ]
     },
     "execution_count": 41,
     "metadata": {},
     "output_type": "execute_result"
    },
    {
     "data": {
      "text/plain": [
       "8"
      ]
     },
     "execution_count": 41,
     "metadata": {},
     "output_type": "execute_result"
    },
    {
     "data": {
      "text/plain": [
       "14"
      ]
     },
     "execution_count": 41,
     "metadata": {},
     "output_type": "execute_result"
    },
    {
     "data": {
      "text/plain": [
       "16"
      ]
     },
     "execution_count": 41,
     "metadata": {},
     "output_type": "execute_result"
    },
    {
     "data": {
      "text/plain": [
       "8"
      ]
     },
     "execution_count": 41,
     "metadata": {},
     "output_type": "execute_result"
    },
    {
     "data": {
      "text/plain": [
       "12"
      ]
     },
     "execution_count": 41,
     "metadata": {},
     "output_type": "execute_result"
    },
    {
     "data": {
      "text/plain": [
       "12"
      ]
     },
     "execution_count": 41,
     "metadata": {},
     "output_type": "execute_result"
    },
    {
     "data": {
      "text/plain": [
       "8"
      ]
     },
     "execution_count": 41,
     "metadata": {},
     "output_type": "execute_result"
    },
    {
     "data": {
      "text/plain": [
       "12"
      ]
     },
     "execution_count": 41,
     "metadata": {},
     "output_type": "execute_result"
    },
    {
     "data": {
      "text/plain": [
       "17"
      ]
     },
     "execution_count": 41,
     "metadata": {},
     "output_type": "execute_result"
    },
    {
     "data": {
      "text/plain": [
       "14"
      ]
     },
     "execution_count": 41,
     "metadata": {},
     "output_type": "execute_result"
    },
    {
     "data": {
      "text/plain": [
       "12"
      ]
     },
     "execution_count": 41,
     "metadata": {},
     "output_type": "execute_result"
    },
    {
     "data": {
      "text/plain": [
       "12"
      ]
     },
     "execution_count": 41,
     "metadata": {},
     "output_type": "execute_result"
    },
    {
     "data": {
      "text/plain": [
       "16"
      ]
     },
     "execution_count": 41,
     "metadata": {},
     "output_type": "execute_result"
    },
    {
     "data": {
      "text/plain": [
       "11"
      ]
     },
     "execution_count": 41,
     "metadata": {},
     "output_type": "execute_result"
    },
    {
     "data": {
      "text/plain": [
       "14"
      ]
     },
     "execution_count": 41,
     "metadata": {},
     "output_type": "execute_result"
    },
    {
     "data": {
      "text/plain": [
       "12"
      ]
     },
     "execution_count": 41,
     "metadata": {},
     "output_type": "execute_result"
    },
    {
     "data": {
      "text/plain": [
       "13"
      ]
     },
     "execution_count": 41,
     "metadata": {},
     "output_type": "execute_result"
    },
    {
     "data": {
      "text/plain": [
       "8"
      ]
     },
     "execution_count": 41,
     "metadata": {},
     "output_type": "execute_result"
    },
    {
     "data": {
      "text/plain": [
       "15"
      ]
     },
     "execution_count": 41,
     "metadata": {},
     "output_type": "execute_result"
    },
    {
     "data": {
      "text/plain": [
       "12"
      ]
     },
     "execution_count": 41,
     "metadata": {},
     "output_type": "execute_result"
    },
    {
     "data": {
      "text/plain": [
       "18"
      ]
     },
     "execution_count": 41,
     "metadata": {},
     "output_type": "execute_result"
    },
    {
     "data": {
      "text/plain": [
       "8"
      ]
     },
     "execution_count": 41,
     "metadata": {},
     "output_type": "execute_result"
    },
    {
     "data": {
      "text/plain": [
       "13"
      ]
     },
     "execution_count": 41,
     "metadata": {},
     "output_type": "execute_result"
    },
    {
     "data": {
      "text/plain": [
       "18"
      ]
     },
     "execution_count": 41,
     "metadata": {},
     "output_type": "execute_result"
    },
    {
     "data": {
      "text/plain": [
       "14"
      ]
     },
     "execution_count": 41,
     "metadata": {},
     "output_type": "execute_result"
    },
    {
     "data": {
      "text/plain": [
       "18"
      ]
     },
     "execution_count": 41,
     "metadata": {},
     "output_type": "execute_result"
    },
    {
     "data": {
      "text/plain": [
       "11"
      ]
     },
     "execution_count": 41,
     "metadata": {},
     "output_type": "execute_result"
    },
    {
     "data": {
      "text/plain": [
       "6"
      ]
     },
     "execution_count": 41,
     "metadata": {},
     "output_type": "execute_result"
    },
    {
     "data": {
      "text/plain": [
       "13"
      ]
     },
     "execution_count": 41,
     "metadata": {},
     "output_type": "execute_result"
    },
    {
     "data": {
      "text/plain": [
       "12"
      ]
     },
     "execution_count": 41,
     "metadata": {},
     "output_type": "execute_result"
    },
    {
     "data": {
      "text/plain": [
       "12"
      ]
     },
     "execution_count": 41,
     "metadata": {},
     "output_type": "execute_result"
    },
    {
     "data": {
      "text/plain": [
       "12"
      ]
     },
     "execution_count": 41,
     "metadata": {},
     "output_type": "execute_result"
    },
    {
     "data": {
      "text/plain": [
       "15"
      ]
     },
     "execution_count": 41,
     "metadata": {},
     "output_type": "execute_result"
    },
    {
     "data": {
      "text/plain": [
       "12"
      ]
     },
     "execution_count": 41,
     "metadata": {},
     "output_type": "execute_result"
    },
    {
     "data": {
      "text/plain": [
       "17"
      ]
     },
     "execution_count": 41,
     "metadata": {},
     "output_type": "execute_result"
    },
    {
     "data": {
      "text/plain": [
       "14"
      ]
     },
     "execution_count": 41,
     "metadata": {},
     "output_type": "execute_result"
    },
    {
     "data": {
      "text/plain": [
       "13"
      ]
     },
     "execution_count": 41,
     "metadata": {},
     "output_type": "execute_result"
    },
    {
     "data": {
      "text/plain": [
       "13"
      ]
     },
     "execution_count": 41,
     "metadata": {},
     "output_type": "execute_result"
    },
    {
     "data": {
      "text/plain": [
       "17"
      ]
     },
     "execution_count": 41,
     "metadata": {},
     "output_type": "execute_result"
    },
    {
     "data": {
      "text/plain": [
       "9"
      ]
     },
     "execution_count": 41,
     "metadata": {},
     "output_type": "execute_result"
    },
    {
     "data": {
      "text/plain": [
       "13"
      ]
     },
     "execution_count": 41,
     "metadata": {},
     "output_type": "execute_result"
    },
    {
     "data": {
      "text/plain": [
       "15"
      ]
     },
     "execution_count": 41,
     "metadata": {},
     "output_type": "execute_result"
    },
    {
     "data": {
      "text/plain": [
       "15"
      ]
     },
     "execution_count": 41,
     "metadata": {},
     "output_type": "execute_result"
    },
    {
     "data": {
      "text/plain": [
       "12"
      ]
     },
     "execution_count": 41,
     "metadata": {},
     "output_type": "execute_result"
    },
    {
     "data": {
      "text/plain": [
       "11"
      ]
     },
     "execution_count": 41,
     "metadata": {},
     "output_type": "execute_result"
    },
    {
     "data": {
      "text/plain": [
       "11"
      ]
     },
     "execution_count": 41,
     "metadata": {},
     "output_type": "execute_result"
    },
    {
     "data": {
      "text/plain": [
       "12"
      ]
     },
     "execution_count": 41,
     "metadata": {},
     "output_type": "execute_result"
    },
    {
     "data": {
      "text/plain": [
       "9"
      ]
     },
     "execution_count": 41,
     "metadata": {},
     "output_type": "execute_result"
    },
    {
     "data": {
      "text/plain": [
       "8"
      ]
     },
     "execution_count": 41,
     "metadata": {},
     "output_type": "execute_result"
    },
    {
     "data": {
      "text/plain": [
       "11"
      ]
     },
     "execution_count": 41,
     "metadata": {},
     "output_type": "execute_result"
    },
    {
     "data": {
      "text/plain": [
       "14"
      ]
     },
     "execution_count": 41,
     "metadata": {},
     "output_type": "execute_result"
    },
    {
     "data": {
      "text/plain": [
       "13"
      ]
     },
     "execution_count": 41,
     "metadata": {},
     "output_type": "execute_result"
    },
    {
     "data": {
      "text/plain": [
       "8"
      ]
     },
     "execution_count": 41,
     "metadata": {},
     "output_type": "execute_result"
    },
    {
     "data": {
      "text/plain": [
       "17"
      ]
     },
     "execution_count": 41,
     "metadata": {},
     "output_type": "execute_result"
    },
    {
     "data": {
      "text/plain": [
       "12"
      ]
     },
     "execution_count": 41,
     "metadata": {},
     "output_type": "execute_result"
    },
    {
     "data": {
      "text/plain": [
       "15"
      ]
     },
     "execution_count": 41,
     "metadata": {},
     "output_type": "execute_result"
    },
    {
     "data": {
      "text/plain": [
       "13"
      ]
     },
     "execution_count": 41,
     "metadata": {},
     "output_type": "execute_result"
    },
    {
     "data": {
      "text/plain": [
       "10"
      ]
     },
     "execution_count": 41,
     "metadata": {},
     "output_type": "execute_result"
    },
    {
     "data": {
      "text/plain": [
       "14"
      ]
     },
     "execution_count": 41,
     "metadata": {},
     "output_type": "execute_result"
    },
    {
     "data": {
      "text/plain": [
       "13"
      ]
     },
     "execution_count": 41,
     "metadata": {},
     "output_type": "execute_result"
    },
    {
     "data": {
      "text/plain": [
       "11"
      ]
     },
     "execution_count": 41,
     "metadata": {},
     "output_type": "execute_result"
    },
    {
     "data": {
      "text/plain": [
       "10"
      ]
     },
     "execution_count": 41,
     "metadata": {},
     "output_type": "execute_result"
    },
    {
     "data": {
      "text/plain": [
       "11"
      ]
     },
     "execution_count": 41,
     "metadata": {},
     "output_type": "execute_result"
    },
    {
     "data": {
      "text/plain": [
       "17"
      ]
     },
     "execution_count": 41,
     "metadata": {},
     "output_type": "execute_result"
    },
    {
     "data": {
      "text/plain": [
       "13"
      ]
     },
     "execution_count": 41,
     "metadata": {},
     "output_type": "execute_result"
    },
    {
     "data": {
      "text/plain": [
       "15"
      ]
     },
     "execution_count": 41,
     "metadata": {},
     "output_type": "execute_result"
    },
    {
     "data": {
      "text/plain": [
       "17"
      ]
     },
     "execution_count": 41,
     "metadata": {},
     "output_type": "execute_result"
    },
    {
     "data": {
      "text/plain": [
       "15"
      ]
     },
     "execution_count": 41,
     "metadata": {},
     "output_type": "execute_result"
    },
    {
     "data": {
      "text/plain": [
       "12"
      ]
     },
     "execution_count": 41,
     "metadata": {},
     "output_type": "execute_result"
    },
    {
     "data": {
      "text/plain": [
       "11"
      ]
     },
     "execution_count": 41,
     "metadata": {},
     "output_type": "execute_result"
    },
    {
     "data": {
      "text/plain": [
       "11"
      ]
     },
     "execution_count": 41,
     "metadata": {},
     "output_type": "execute_result"
    },
    {
     "data": {
      "text/plain": [
       "13"
      ]
     },
     "execution_count": 41,
     "metadata": {},
     "output_type": "execute_result"
    },
    {
     "data": {
      "text/plain": [
       "13"
      ]
     },
     "execution_count": 41,
     "metadata": {},
     "output_type": "execute_result"
    },
    {
     "data": {
      "text/plain": [
       "13"
      ]
     },
     "execution_count": 41,
     "metadata": {},
     "output_type": "execute_result"
    },
    {
     "data": {
      "text/plain": [
       "16"
      ]
     },
     "execution_count": 41,
     "metadata": {},
     "output_type": "execute_result"
    },
    {
     "data": {
      "text/plain": [
       "9"
      ]
     },
     "execution_count": 41,
     "metadata": {},
     "output_type": "execute_result"
    },
    {
     "data": {
      "text/plain": [
       "12"
      ]
     },
     "execution_count": 41,
     "metadata": {},
     "output_type": "execute_result"
    },
    {
     "data": {
      "text/plain": [
       "12"
      ]
     },
     "execution_count": 41,
     "metadata": {},
     "output_type": "execute_result"
    },
    {
     "data": {
      "text/plain": [
       "12"
      ]
     },
     "execution_count": 41,
     "metadata": {},
     "output_type": "execute_result"
    },
    {
     "data": {
      "text/plain": [
       "10"
      ]
     },
     "execution_count": 41,
     "metadata": {},
     "output_type": "execute_result"
    },
    {
     "data": {
      "text/plain": [
       "16"
      ]
     },
     "execution_count": 41,
     "metadata": {},
     "output_type": "execute_result"
    },
    {
     "data": {
      "text/plain": [
       "11"
      ]
     },
     "execution_count": 41,
     "metadata": {},
     "output_type": "execute_result"
    },
    {
     "data": {
      "text/plain": [
       "15"
      ]
     },
     "execution_count": 41,
     "metadata": {},
     "output_type": "execute_result"
    },
    {
     "data": {
      "text/plain": [
       "11"
      ]
     },
     "execution_count": 41,
     "metadata": {},
     "output_type": "execute_result"
    },
    {
     "data": {
      "text/plain": [
       "15"
      ]
     },
     "execution_count": 41,
     "metadata": {},
     "output_type": "execute_result"
    },
    {
     "data": {
      "text/plain": [
       "11"
      ]
     },
     "execution_count": 41,
     "metadata": {},
     "output_type": "execute_result"
    },
    {
     "data": {
      "text/plain": [
       "14"
      ]
     },
     "execution_count": 41,
     "metadata": {},
     "output_type": "execute_result"
    },
    {
     "data": {
      "text/plain": [
       "7"
      ]
     },
     "execution_count": 41,
     "metadata": {},
     "output_type": "execute_result"
    },
    {
     "data": {
      "text/plain": [
       "14"
      ]
     },
     "execution_count": 41,
     "metadata": {},
     "output_type": "execute_result"
    },
    {
     "data": {
      "text/plain": [
       "8"
      ]
     },
     "execution_count": 41,
     "metadata": {},
     "output_type": "execute_result"
    },
    {
     "data": {
      "text/plain": [
       "11"
      ]
     },
     "execution_count": 41,
     "metadata": {},
     "output_type": "execute_result"
    },
    {
     "data": {
      "text/plain": [
       "12"
      ]
     },
     "execution_count": 41,
     "metadata": {},
     "output_type": "execute_result"
    },
    {
     "data": {
      "text/plain": [
       "13"
      ]
     },
     "execution_count": 41,
     "metadata": {},
     "output_type": "execute_result"
    },
    {
     "data": {
      "text/plain": [
       "14"
      ]
     },
     "execution_count": 41,
     "metadata": {},
     "output_type": "execute_result"
    },
    {
     "data": {
      "text/plain": [
       "14"
      ]
     },
     "execution_count": 41,
     "metadata": {},
     "output_type": "execute_result"
    },
    {
     "data": {
      "text/plain": [
       "7"
      ]
     },
     "execution_count": 41,
     "metadata": {},
     "output_type": "execute_result"
    },
    {
     "data": {
      "text/plain": [
       "17"
      ]
     },
     "execution_count": 41,
     "metadata": {},
     "output_type": "execute_result"
    },
    {
     "data": {
      "text/plain": [
       "11"
      ]
     },
     "execution_count": 41,
     "metadata": {},
     "output_type": "execute_result"
    },
    {
     "data": {
      "text/plain": [
       "5"
      ]
     },
     "execution_count": 41,
     "metadata": {},
     "output_type": "execute_result"
    },
    {
     "data": {
      "text/plain": [
       "13"
      ]
     },
     "execution_count": 41,
     "metadata": {},
     "output_type": "execute_result"
    },
    {
     "data": {
      "text/plain": [
       "13"
      ]
     },
     "execution_count": 41,
     "metadata": {},
     "output_type": "execute_result"
    },
    {
     "data": {
      "text/plain": [
       "9"
      ]
     },
     "execution_count": 41,
     "metadata": {},
     "output_type": "execute_result"
    },
    {
     "data": {
      "text/plain": [
       "25"
      ]
     },
     "execution_count": 41,
     "metadata": {},
     "output_type": "execute_result"
    },
    {
     "data": {
      "text/plain": [
       "20"
      ]
     },
     "execution_count": 41,
     "metadata": {},
     "output_type": "execute_result"
    },
    {
     "data": {
      "text/plain": [
       "12"
      ]
     },
     "execution_count": 41,
     "metadata": {},
     "output_type": "execute_result"
    },
    {
     "data": {
      "text/plain": [
       "8"
      ]
     },
     "execution_count": 41,
     "metadata": {},
     "output_type": "execute_result"
    },
    {
     "data": {
      "text/plain": [
       "12"
      ]
     },
     "execution_count": 41,
     "metadata": {},
     "output_type": "execute_result"
    },
    {
     "data": {
      "text/plain": [
       "14"
      ]
     },
     "execution_count": 41,
     "metadata": {},
     "output_type": "execute_result"
    },
    {
     "data": {
      "text/plain": [
       "12"
      ]
     },
     "execution_count": 41,
     "metadata": {},
     "output_type": "execute_result"
    },
    {
     "data": {
      "text/plain": [
       "10"
      ]
     },
     "execution_count": 41,
     "metadata": {},
     "output_type": "execute_result"
    },
    {
     "data": {
      "text/plain": [
       "14"
      ]
     },
     "execution_count": 41,
     "metadata": {},
     "output_type": "execute_result"
    },
    {
     "data": {
      "text/plain": [
       "6"
      ]
     },
     "execution_count": 41,
     "metadata": {},
     "output_type": "execute_result"
    },
    {
     "data": {
      "text/plain": [
       "13"
      ]
     },
     "execution_count": 41,
     "metadata": {},
     "output_type": "execute_result"
    },
    {
     "data": {
      "text/plain": [
       "12"
      ]
     },
     "execution_count": 41,
     "metadata": {},
     "output_type": "execute_result"
    },
    {
     "data": {
      "text/plain": [
       "12"
      ]
     },
     "execution_count": 41,
     "metadata": {},
     "output_type": "execute_result"
    },
    {
     "data": {
      "text/plain": [
       "14"
      ]
     },
     "execution_count": 41,
     "metadata": {},
     "output_type": "execute_result"
    },
    {
     "data": {
      "text/plain": [
       "8"
      ]
     },
     "execution_count": 41,
     "metadata": {},
     "output_type": "execute_result"
    },
    {
     "data": {
      "text/plain": [
       "12"
      ]
     },
     "execution_count": 41,
     "metadata": {},
     "output_type": "execute_result"
    },
    {
     "data": {
      "text/plain": [
       "14"
      ]
     },
     "execution_count": 41,
     "metadata": {},
     "output_type": "execute_result"
    },
    {
     "data": {
      "text/plain": [
       "16"
      ]
     },
     "execution_count": 41,
     "metadata": {},
     "output_type": "execute_result"
    },
    {
     "data": {
      "text/plain": [
       "14"
      ]
     },
     "execution_count": 41,
     "metadata": {},
     "output_type": "execute_result"
    },
    {
     "data": {
      "text/plain": [
       "14"
      ]
     },
     "execution_count": 41,
     "metadata": {},
     "output_type": "execute_result"
    },
    {
     "data": {
      "text/plain": [
       "15"
      ]
     },
     "execution_count": 41,
     "metadata": {},
     "output_type": "execute_result"
    },
    {
     "data": {
      "text/plain": [
       "22"
      ]
     },
     "execution_count": 41,
     "metadata": {},
     "output_type": "execute_result"
    },
    {
     "data": {
      "text/plain": [
       "17"
      ]
     },
     "execution_count": 41,
     "metadata": {},
     "output_type": "execute_result"
    },
    {
     "data": {
      "text/plain": [
       "10"
      ]
     },
     "execution_count": 41,
     "metadata": {},
     "output_type": "execute_result"
    },
    {
     "data": {
      "text/plain": [
       "14"
      ]
     },
     "execution_count": 41,
     "metadata": {},
     "output_type": "execute_result"
    },
    {
     "data": {
      "text/plain": [
       "14"
      ]
     },
     "execution_count": 41,
     "metadata": {},
     "output_type": "execute_result"
    },
    {
     "data": {
      "text/plain": [
       "9"
      ]
     },
     "execution_count": 41,
     "metadata": {},
     "output_type": "execute_result"
    },
    {
     "data": {
      "text/plain": [
       "15"
      ]
     },
     "execution_count": 41,
     "metadata": {},
     "output_type": "execute_result"
    },
    {
     "data": {
      "text/plain": [
       "12"
      ]
     },
     "execution_count": 41,
     "metadata": {},
     "output_type": "execute_result"
    },
    {
     "data": {
      "text/plain": [
       "14"
      ]
     },
     "execution_count": 41,
     "metadata": {},
     "output_type": "execute_result"
    },
    {
     "data": {
      "text/plain": [
       "15"
      ]
     },
     "execution_count": 41,
     "metadata": {},
     "output_type": "execute_result"
    },
    {
     "data": {
      "text/plain": [
       "13"
      ]
     },
     "execution_count": 41,
     "metadata": {},
     "output_type": "execute_result"
    },
    {
     "data": {
      "text/plain": [
       "15"
      ]
     },
     "execution_count": 41,
     "metadata": {},
     "output_type": "execute_result"
    },
    {
     "data": {
      "text/plain": [
       "17"
      ]
     },
     "execution_count": 41,
     "metadata": {},
     "output_type": "execute_result"
    },
    {
     "data": {
      "text/plain": [
       "8"
      ]
     },
     "execution_count": 41,
     "metadata": {},
     "output_type": "execute_result"
    },
    {
     "data": {
      "text/plain": [
       "20"
      ]
     },
     "execution_count": 41,
     "metadata": {},
     "output_type": "execute_result"
    },
    {
     "data": {
      "text/plain": [
       "16"
      ]
     },
     "execution_count": 41,
     "metadata": {},
     "output_type": "execute_result"
    },
    {
     "data": {
      "text/plain": [
       "15"
      ]
     },
     "execution_count": 41,
     "metadata": {},
     "output_type": "execute_result"
    },
    {
     "data": {
      "text/plain": [
       "16"
      ]
     },
     "execution_count": 41,
     "metadata": {},
     "output_type": "execute_result"
    },
    {
     "data": {
      "text/plain": [
       "13"
      ]
     },
     "execution_count": 41,
     "metadata": {},
     "output_type": "execute_result"
    },
    {
     "data": {
      "text/plain": [
       "17"
      ]
     },
     "execution_count": 41,
     "metadata": {},
     "output_type": "execute_result"
    },
    {
     "data": {
      "text/plain": [
       "11"
      ]
     },
     "execution_count": 41,
     "metadata": {},
     "output_type": "execute_result"
    },
    {
     "data": {
      "text/plain": [
       "11"
      ]
     },
     "execution_count": 41,
     "metadata": {},
     "output_type": "execute_result"
    },
    {
     "data": {
      "text/plain": [
       "12"
      ]
     },
     "execution_count": 41,
     "metadata": {},
     "output_type": "execute_result"
    },
    {
     "data": {
      "text/plain": [
       "16"
      ]
     },
     "execution_count": 41,
     "metadata": {},
     "output_type": "execute_result"
    },
    {
     "data": {
      "text/plain": [
       "16"
      ]
     },
     "execution_count": 41,
     "metadata": {},
     "output_type": "execute_result"
    },
    {
     "data": {
      "text/plain": [
       "14"
      ]
     },
     "execution_count": 41,
     "metadata": {},
     "output_type": "execute_result"
    },
    {
     "data": {
      "text/plain": [
       "13"
      ]
     },
     "execution_count": 41,
     "metadata": {},
     "output_type": "execute_result"
    },
    {
     "data": {
      "text/plain": [
       "13"
      ]
     },
     "execution_count": 41,
     "metadata": {},
     "output_type": "execute_result"
    },
    {
     "data": {
      "text/plain": [
       "14"
      ]
     },
     "execution_count": 41,
     "metadata": {},
     "output_type": "execute_result"
    },
    {
     "data": {
      "text/plain": [
       "17"
      ]
     },
     "execution_count": 41,
     "metadata": {},
     "output_type": "execute_result"
    },
    {
     "data": {
      "text/plain": [
       "13"
      ]
     },
     "execution_count": 41,
     "metadata": {},
     "output_type": "execute_result"
    },
    {
     "data": {
      "text/plain": [
       "14"
      ]
     },
     "execution_count": 41,
     "metadata": {},
     "output_type": "execute_result"
    },
    {
     "data": {
      "text/plain": [
       "15"
      ]
     },
     "execution_count": 41,
     "metadata": {},
     "output_type": "execute_result"
    },
    {
     "data": {
      "text/plain": [
       "12"
      ]
     },
     "execution_count": 41,
     "metadata": {},
     "output_type": "execute_result"
    },
    {
     "data": {
      "text/plain": [
       "17"
      ]
     },
     "execution_count": 41,
     "metadata": {},
     "output_type": "execute_result"
    },
    {
     "data": {
      "text/plain": [
       "10"
      ]
     },
     "execution_count": 41,
     "metadata": {},
     "output_type": "execute_result"
    },
    {
     "data": {
      "text/plain": [
       "13"
      ]
     },
     "execution_count": 41,
     "metadata": {},
     "output_type": "execute_result"
    },
    {
     "data": {
      "text/plain": [
       "10"
      ]
     },
     "execution_count": 41,
     "metadata": {},
     "output_type": "execute_result"
    },
    {
     "data": {
      "text/plain": [
       "13"
      ]
     },
     "execution_count": 41,
     "metadata": {},
     "output_type": "execute_result"
    },
    {
     "data": {
      "text/plain": [
       "11"
      ]
     },
     "execution_count": 41,
     "metadata": {},
     "output_type": "execute_result"
    },
    {
     "data": {
      "text/plain": [
       "13"
      ]
     },
     "execution_count": 41,
     "metadata": {},
     "output_type": "execute_result"
    },
    {
     "data": {
      "text/plain": [
       "15"
      ]
     },
     "execution_count": 41,
     "metadata": {},
     "output_type": "execute_result"
    },
    {
     "data": {
      "text/plain": [
       "13"
      ]
     },
     "execution_count": 41,
     "metadata": {},
     "output_type": "execute_result"
    },
    {
     "data": {
      "text/plain": [
       "11"
      ]
     },
     "execution_count": 41,
     "metadata": {},
     "output_type": "execute_result"
    },
    {
     "data": {
      "text/plain": [
       "5"
      ]
     },
     "execution_count": 41,
     "metadata": {},
     "output_type": "execute_result"
    },
    {
     "data": {
      "text/plain": [
       "13"
      ]
     },
     "execution_count": 41,
     "metadata": {},
     "output_type": "execute_result"
    },
    {
     "data": {
      "text/plain": [
       "14"
      ]
     },
     "execution_count": 41,
     "metadata": {},
     "output_type": "execute_result"
    },
    {
     "data": {
      "text/plain": [
       "11"
      ]
     },
     "execution_count": 41,
     "metadata": {},
     "output_type": "execute_result"
    },
    {
     "data": {
      "text/plain": [
       "9"
      ]
     },
     "execution_count": 41,
     "metadata": {},
     "output_type": "execute_result"
    },
    {
     "data": {
      "text/plain": [
       "15"
      ]
     },
     "execution_count": 41,
     "metadata": {},
     "output_type": "execute_result"
    },
    {
     "data": {
      "text/plain": [
       "18"
      ]
     },
     "execution_count": 41,
     "metadata": {},
     "output_type": "execute_result"
    },
    {
     "data": {
      "text/plain": [
       "12"
      ]
     },
     "execution_count": 41,
     "metadata": {},
     "output_type": "execute_result"
    },
    {
     "data": {
      "text/plain": [
       "16"
      ]
     },
     "execution_count": 41,
     "metadata": {},
     "output_type": "execute_result"
    },
    {
     "data": {
      "text/plain": [
       "17"
      ]
     },
     "execution_count": 41,
     "metadata": {},
     "output_type": "execute_result"
    },
    {
     "data": {
      "text/plain": [
       "14"
      ]
     },
     "execution_count": 41,
     "metadata": {},
     "output_type": "execute_result"
    },
    {
     "data": {
      "text/plain": [
       "14"
      ]
     },
     "execution_count": 41,
     "metadata": {},
     "output_type": "execute_result"
    },
    {
     "data": {
      "text/plain": [
       "11"
      ]
     },
     "execution_count": 41,
     "metadata": {},
     "output_type": "execute_result"
    },
    {
     "data": {
      "text/plain": [
       "10"
      ]
     },
     "execution_count": 41,
     "metadata": {},
     "output_type": "execute_result"
    },
    {
     "data": {
      "text/plain": [
       "16"
      ]
     },
     "execution_count": 41,
     "metadata": {},
     "output_type": "execute_result"
    },
    {
     "data": {
      "text/plain": [
       "14"
      ]
     },
     "execution_count": 41,
     "metadata": {},
     "output_type": "execute_result"
    },
    {
     "data": {
      "text/plain": [
       "11"
      ]
     },
     "execution_count": 41,
     "metadata": {},
     "output_type": "execute_result"
    },
    {
     "data": {
      "text/plain": [
       "14"
      ]
     },
     "execution_count": 41,
     "metadata": {},
     "output_type": "execute_result"
    },
    {
     "data": {
      "text/plain": [
       "13"
      ]
     },
     "execution_count": 41,
     "metadata": {},
     "output_type": "execute_result"
    },
    {
     "data": {
      "text/plain": [
       "10"
      ]
     },
     "execution_count": 41,
     "metadata": {},
     "output_type": "execute_result"
    },
    {
     "data": {
      "text/plain": [
       "18"
      ]
     },
     "execution_count": 41,
     "metadata": {},
     "output_type": "execute_result"
    },
    {
     "data": {
      "text/plain": [
       "16"
      ]
     },
     "execution_count": 41,
     "metadata": {},
     "output_type": "execute_result"
    },
    {
     "data": {
      "text/plain": [
       "11"
      ]
     },
     "execution_count": 41,
     "metadata": {},
     "output_type": "execute_result"
    },
    {
     "data": {
      "text/plain": [
       "12"
      ]
     },
     "execution_count": 41,
     "metadata": {},
     "output_type": "execute_result"
    },
    {
     "data": {
      "text/plain": [
       "10"
      ]
     },
     "execution_count": 41,
     "metadata": {},
     "output_type": "execute_result"
    },
    {
     "data": {
      "text/plain": [
       "11"
      ]
     },
     "execution_count": 41,
     "metadata": {},
     "output_type": "execute_result"
    },
    {
     "data": {
      "text/plain": [
       "14"
      ]
     },
     "execution_count": 41,
     "metadata": {},
     "output_type": "execute_result"
    },
    {
     "data": {
      "text/plain": [
       "11"
      ]
     },
     "execution_count": 41,
     "metadata": {},
     "output_type": "execute_result"
    },
    {
     "data": {
      "text/plain": [
       "13"
      ]
     },
     "execution_count": 41,
     "metadata": {},
     "output_type": "execute_result"
    },
    {
     "data": {
      "text/plain": [
       "14"
      ]
     },
     "execution_count": 41,
     "metadata": {},
     "output_type": "execute_result"
    },
    {
     "data": {
      "text/plain": [
       "21"
      ]
     },
     "execution_count": 41,
     "metadata": {},
     "output_type": "execute_result"
    },
    {
     "data": {
      "text/plain": [
       "16"
      ]
     },
     "execution_count": 41,
     "metadata": {},
     "output_type": "execute_result"
    },
    {
     "data": {
      "text/plain": [
       "19"
      ]
     },
     "execution_count": 41,
     "metadata": {},
     "output_type": "execute_result"
    },
    {
     "data": {
      "text/plain": [
       "13"
      ]
     },
     "execution_count": 41,
     "metadata": {},
     "output_type": "execute_result"
    },
    {
     "data": {
      "text/plain": [
       "12"
      ]
     },
     "execution_count": 41,
     "metadata": {},
     "output_type": "execute_result"
    },
    {
     "data": {
      "text/plain": [
       "10"
      ]
     },
     "execution_count": 41,
     "metadata": {},
     "output_type": "execute_result"
    },
    {
     "data": {
      "text/plain": [
       "19"
      ]
     },
     "execution_count": 41,
     "metadata": {},
     "output_type": "execute_result"
    },
    {
     "data": {
      "text/plain": [
       "13"
      ]
     },
     "execution_count": 41,
     "metadata": {},
     "output_type": "execute_result"
    },
    {
     "data": {
      "text/plain": [
       "10"
      ]
     },
     "execution_count": 41,
     "metadata": {},
     "output_type": "execute_result"
    },
    {
     "data": {
      "text/plain": [
       "13"
      ]
     },
     "execution_count": 41,
     "metadata": {},
     "output_type": "execute_result"
    },
    {
     "data": {
      "text/plain": [
       "12"
      ]
     },
     "execution_count": 41,
     "metadata": {},
     "output_type": "execute_result"
    },
    {
     "data": {
      "text/plain": [
       "13"
      ]
     },
     "execution_count": 41,
     "metadata": {},
     "output_type": "execute_result"
    },
    {
     "data": {
      "text/plain": [
       "6"
      ]
     },
     "execution_count": 41,
     "metadata": {},
     "output_type": "execute_result"
    },
    {
     "data": {
      "text/plain": [
       "13"
      ]
     },
     "execution_count": 41,
     "metadata": {},
     "output_type": "execute_result"
    },
    {
     "data": {
      "text/plain": [
       "10"
      ]
     },
     "execution_count": 41,
     "metadata": {},
     "output_type": "execute_result"
    },
    {
     "data": {
      "text/plain": [
       "13"
      ]
     },
     "execution_count": 41,
     "metadata": {},
     "output_type": "execute_result"
    },
    {
     "data": {
      "text/plain": [
       "15"
      ]
     },
     "execution_count": 41,
     "metadata": {},
     "output_type": "execute_result"
    },
    {
     "data": {
      "text/plain": [
       "11"
      ]
     },
     "execution_count": 41,
     "metadata": {},
     "output_type": "execute_result"
    },
    {
     "data": {
      "text/plain": [
       "11"
      ]
     },
     "execution_count": 41,
     "metadata": {},
     "output_type": "execute_result"
    },
    {
     "data": {
      "text/plain": [
       "9"
      ]
     },
     "execution_count": 41,
     "metadata": {},
     "output_type": "execute_result"
    },
    {
     "data": {
      "text/plain": [
       "10"
      ]
     },
     "execution_count": 41,
     "metadata": {},
     "output_type": "execute_result"
    },
    {
     "data": {
      "text/plain": [
       "11"
      ]
     },
     "execution_count": 41,
     "metadata": {},
     "output_type": "execute_result"
    },
    {
     "data": {
      "text/plain": [
       "15"
      ]
     },
     "execution_count": 41,
     "metadata": {},
     "output_type": "execute_result"
    },
    {
     "data": {
      "text/plain": [
       "11"
      ]
     },
     "execution_count": 41,
     "metadata": {},
     "output_type": "execute_result"
    },
    {
     "data": {
      "text/plain": [
       "13"
      ]
     },
     "execution_count": 41,
     "metadata": {},
     "output_type": "execute_result"
    },
    {
     "data": {
      "text/plain": [
       "16"
      ]
     },
     "execution_count": 41,
     "metadata": {},
     "output_type": "execute_result"
    },
    {
     "data": {
      "text/plain": [
       "18"
      ]
     },
     "execution_count": 41,
     "metadata": {},
     "output_type": "execute_result"
    },
    {
     "data": {
      "text/plain": [
       "12"
      ]
     },
     "execution_count": 41,
     "metadata": {},
     "output_type": "execute_result"
    },
    {
     "data": {
      "text/plain": [
       "14"
      ]
     },
     "execution_count": 41,
     "metadata": {},
     "output_type": "execute_result"
    },
    {
     "data": {
      "text/plain": [
       "14"
      ]
     },
     "execution_count": 41,
     "metadata": {},
     "output_type": "execute_result"
    },
    {
     "data": {
      "text/plain": [
       "17"
      ]
     },
     "execution_count": 41,
     "metadata": {},
     "output_type": "execute_result"
    },
    {
     "data": {
      "text/plain": [
       "10"
      ]
     },
     "execution_count": 41,
     "metadata": {},
     "output_type": "execute_result"
    },
    {
     "data": {
      "text/plain": [
       "14"
      ]
     },
     "execution_count": 41,
     "metadata": {},
     "output_type": "execute_result"
    },
    {
     "data": {
      "text/plain": [
       "11"
      ]
     },
     "execution_count": 41,
     "metadata": {},
     "output_type": "execute_result"
    },
    {
     "data": {
      "text/plain": [
       "16"
      ]
     },
     "execution_count": 41,
     "metadata": {},
     "output_type": "execute_result"
    },
    {
     "data": {
      "text/plain": [
       "17"
      ]
     },
     "execution_count": 41,
     "metadata": {},
     "output_type": "execute_result"
    },
    {
     "data": {
      "text/plain": [
       "14"
      ]
     },
     "execution_count": 41,
     "metadata": {},
     "output_type": "execute_result"
    },
    {
     "data": {
      "text/plain": [
       "13"
      ]
     },
     "execution_count": 41,
     "metadata": {},
     "output_type": "execute_result"
    },
    {
     "data": {
      "text/plain": [
       "14"
      ]
     },
     "execution_count": 41,
     "metadata": {},
     "output_type": "execute_result"
    },
    {
     "data": {
      "text/plain": [
       "7"
      ]
     },
     "execution_count": 41,
     "metadata": {},
     "output_type": "execute_result"
    },
    {
     "data": {
      "text/plain": [
       "11"
      ]
     },
     "execution_count": 41,
     "metadata": {},
     "output_type": "execute_result"
    },
    {
     "data": {
      "text/plain": [
       "11"
      ]
     },
     "execution_count": 41,
     "metadata": {},
     "output_type": "execute_result"
    },
    {
     "data": {
      "text/plain": [
       "10"
      ]
     },
     "execution_count": 41,
     "metadata": {},
     "output_type": "execute_result"
    },
    {
     "data": {
      "text/plain": [
       "13"
      ]
     },
     "execution_count": 41,
     "metadata": {},
     "output_type": "execute_result"
    },
    {
     "data": {
      "text/plain": [
       "10"
      ]
     },
     "execution_count": 41,
     "metadata": {},
     "output_type": "execute_result"
    },
    {
     "data": {
      "text/plain": [
       "51"
      ]
     },
     "execution_count": 41,
     "metadata": {},
     "output_type": "execute_result"
    },
    {
     "data": {
      "text/plain": [
       "20"
      ]
     },
     "execution_count": 41,
     "metadata": {},
     "output_type": "execute_result"
    },
    {
     "data": {
      "text/plain": [
       "10"
      ]
     },
     "execution_count": 41,
     "metadata": {},
     "output_type": "execute_result"
    },
    {
     "data": {
      "text/plain": [
       "9"
      ]
     },
     "execution_count": 41,
     "metadata": {},
     "output_type": "execute_result"
    },
    {
     "data": {
      "text/plain": [
       "14"
      ]
     },
     "execution_count": 41,
     "metadata": {},
     "output_type": "execute_result"
    },
    {
     "data": {
      "text/plain": [
       "14"
      ]
     },
     "execution_count": 41,
     "metadata": {},
     "output_type": "execute_result"
    },
    {
     "data": {
      "text/plain": [
       "15"
      ]
     },
     "execution_count": 41,
     "metadata": {},
     "output_type": "execute_result"
    },
    {
     "data": {
      "text/plain": [
       "12"
      ]
     },
     "execution_count": 41,
     "metadata": {},
     "output_type": "execute_result"
    },
    {
     "data": {
      "text/plain": [
       "9"
      ]
     },
     "execution_count": 41,
     "metadata": {},
     "output_type": "execute_result"
    },
    {
     "data": {
      "text/plain": [
       "9"
      ]
     },
     "execution_count": 41,
     "metadata": {},
     "output_type": "execute_result"
    },
    {
     "data": {
      "text/plain": [
       "20"
      ]
     },
     "execution_count": 41,
     "metadata": {},
     "output_type": "execute_result"
    },
    {
     "data": {
      "text/plain": [
       "20"
      ]
     },
     "execution_count": 41,
     "metadata": {},
     "output_type": "execute_result"
    },
    {
     "data": {
      "text/plain": [
       "12"
      ]
     },
     "execution_count": 41,
     "metadata": {},
     "output_type": "execute_result"
    },
    {
     "data": {
      "text/plain": [
       "17"
      ]
     },
     "execution_count": 41,
     "metadata": {},
     "output_type": "execute_result"
    },
    {
     "data": {
      "text/plain": [
       "9"
      ]
     },
     "execution_count": 41,
     "metadata": {},
     "output_type": "execute_result"
    },
    {
     "data": {
      "text/plain": [
       "14"
      ]
     },
     "execution_count": 41,
     "metadata": {},
     "output_type": "execute_result"
    },
    {
     "data": {
      "text/plain": [
       "16"
      ]
     },
     "execution_count": 41,
     "metadata": {},
     "output_type": "execute_result"
    },
    {
     "data": {
      "text/plain": [
       "13"
      ]
     },
     "execution_count": 41,
     "metadata": {},
     "output_type": "execute_result"
    },
    {
     "data": {
      "text/plain": [
       "13"
      ]
     },
     "execution_count": 41,
     "metadata": {},
     "output_type": "execute_result"
    },
    {
     "data": {
      "text/plain": [
       "11"
      ]
     },
     "execution_count": 41,
     "metadata": {},
     "output_type": "execute_result"
    },
    {
     "data": {
      "text/plain": [
       "13"
      ]
     },
     "execution_count": 41,
     "metadata": {},
     "output_type": "execute_result"
    },
    {
     "data": {
      "text/plain": [
       "11"
      ]
     },
     "execution_count": 41,
     "metadata": {},
     "output_type": "execute_result"
    },
    {
     "data": {
      "text/plain": [
       "18"
      ]
     },
     "execution_count": 41,
     "metadata": {},
     "output_type": "execute_result"
    },
    {
     "data": {
      "text/plain": [
       "15"
      ]
     },
     "execution_count": 41,
     "metadata": {},
     "output_type": "execute_result"
    },
    {
     "data": {
      "text/plain": [
       "14"
      ]
     },
     "execution_count": 41,
     "metadata": {},
     "output_type": "execute_result"
    },
    {
     "data": {
      "text/plain": [
       "13"
      ]
     },
     "execution_count": 41,
     "metadata": {},
     "output_type": "execute_result"
    },
    {
     "data": {
      "text/plain": [
       "11"
      ]
     },
     "execution_count": 41,
     "metadata": {},
     "output_type": "execute_result"
    },
    {
     "data": {
      "text/plain": [
       "15"
      ]
     },
     "execution_count": 41,
     "metadata": {},
     "output_type": "execute_result"
    },
    {
     "data": {
      "text/plain": [
       "9"
      ]
     },
     "execution_count": 41,
     "metadata": {},
     "output_type": "execute_result"
    },
    {
     "data": {
      "text/plain": [
       "7"
      ]
     },
     "execution_count": 41,
     "metadata": {},
     "output_type": "execute_result"
    },
    {
     "data": {
      "text/plain": [
       "10"
      ]
     },
     "execution_count": 41,
     "metadata": {},
     "output_type": "execute_result"
    },
    {
     "data": {
      "text/plain": [
       "15"
      ]
     },
     "execution_count": 41,
     "metadata": {},
     "output_type": "execute_result"
    },
    {
     "data": {
      "text/plain": [
       "10"
      ]
     },
     "execution_count": 41,
     "metadata": {},
     "output_type": "execute_result"
    },
    {
     "data": {
      "text/plain": [
       "12"
      ]
     },
     "execution_count": 41,
     "metadata": {},
     "output_type": "execute_result"
    },
    {
     "data": {
      "text/plain": [
       "11"
      ]
     },
     "execution_count": 41,
     "metadata": {},
     "output_type": "execute_result"
    },
    {
     "data": {
      "text/plain": [
       "11"
      ]
     },
     "execution_count": 41,
     "metadata": {},
     "output_type": "execute_result"
    },
    {
     "data": {
      "text/plain": [
       "13"
      ]
     },
     "execution_count": 41,
     "metadata": {},
     "output_type": "execute_result"
    },
    {
     "data": {
      "text/plain": [
       "13"
      ]
     },
     "execution_count": 41,
     "metadata": {},
     "output_type": "execute_result"
    },
    {
     "data": {
      "text/plain": [
       "20"
      ]
     },
     "execution_count": 41,
     "metadata": {},
     "output_type": "execute_result"
    },
    {
     "data": {
      "text/plain": [
       "15"
      ]
     },
     "execution_count": 41,
     "metadata": {},
     "output_type": "execute_result"
    },
    {
     "data": {
      "text/plain": [
       "12"
      ]
     },
     "execution_count": 41,
     "metadata": {},
     "output_type": "execute_result"
    },
    {
     "data": {
      "text/plain": [
       "13"
      ]
     },
     "execution_count": 41,
     "metadata": {},
     "output_type": "execute_result"
    },
    {
     "data": {
      "text/plain": [
       "12"
      ]
     },
     "execution_count": 41,
     "metadata": {},
     "output_type": "execute_result"
    },
    {
     "data": {
      "text/plain": [
       "12"
      ]
     },
     "execution_count": 41,
     "metadata": {},
     "output_type": "execute_result"
    },
    {
     "data": {
      "text/plain": [
       "8"
      ]
     },
     "execution_count": 41,
     "metadata": {},
     "output_type": "execute_result"
    },
    {
     "data": {
      "text/plain": [
       "11"
      ]
     },
     "execution_count": 41,
     "metadata": {},
     "output_type": "execute_result"
    },
    {
     "data": {
      "text/plain": [
       "15"
      ]
     },
     "execution_count": 41,
     "metadata": {},
     "output_type": "execute_result"
    },
    {
     "data": {
      "text/plain": [
       "10"
      ]
     },
     "execution_count": 41,
     "metadata": {},
     "output_type": "execute_result"
    },
    {
     "data": {
      "text/plain": [
       "7"
      ]
     },
     "execution_count": 41,
     "metadata": {},
     "output_type": "execute_result"
    },
    {
     "data": {
      "text/plain": [
       "10"
      ]
     },
     "execution_count": 41,
     "metadata": {},
     "output_type": "execute_result"
    },
    {
     "data": {
      "text/plain": [
       "13"
      ]
     },
     "execution_count": 41,
     "metadata": {},
     "output_type": "execute_result"
    },
    {
     "data": {
      "text/plain": [
       "11"
      ]
     },
     "execution_count": 41,
     "metadata": {},
     "output_type": "execute_result"
    },
    {
     "data": {
      "text/plain": [
       "16"
      ]
     },
     "execution_count": 41,
     "metadata": {},
     "output_type": "execute_result"
    },
    {
     "data": {
      "text/plain": [
       "17"
      ]
     },
     "execution_count": 41,
     "metadata": {},
     "output_type": "execute_result"
    },
    {
     "data": {
      "text/plain": [
       "15"
      ]
     },
     "execution_count": 41,
     "metadata": {},
     "output_type": "execute_result"
    },
    {
     "data": {
      "text/plain": [
       "13"
      ]
     },
     "execution_count": 41,
     "metadata": {},
     "output_type": "execute_result"
    },
    {
     "data": {
      "text/plain": [
       "13"
      ]
     },
     "execution_count": 41,
     "metadata": {},
     "output_type": "execute_result"
    },
    {
     "data": {
      "text/plain": [
       "12"
      ]
     },
     "execution_count": 41,
     "metadata": {},
     "output_type": "execute_result"
    },
    {
     "data": {
      "text/plain": [
       "20"
      ]
     },
     "execution_count": 41,
     "metadata": {},
     "output_type": "execute_result"
    },
    {
     "data": {
      "text/plain": [
       "10"
      ]
     },
     "execution_count": 41,
     "metadata": {},
     "output_type": "execute_result"
    },
    {
     "data": {
      "text/plain": [
       "11"
      ]
     },
     "execution_count": 41,
     "metadata": {},
     "output_type": "execute_result"
    },
    {
     "data": {
      "text/plain": [
       "13"
      ]
     },
     "execution_count": 41,
     "metadata": {},
     "output_type": "execute_result"
    },
    {
     "data": {
      "text/plain": [
       "17"
      ]
     },
     "execution_count": 41,
     "metadata": {},
     "output_type": "execute_result"
    },
    {
     "data": {
      "text/plain": [
       "15"
      ]
     },
     "execution_count": 41,
     "metadata": {},
     "output_type": "execute_result"
    },
    {
     "data": {
      "text/plain": [
       "15"
      ]
     },
     "execution_count": 41,
     "metadata": {},
     "output_type": "execute_result"
    },
    {
     "data": {
      "text/plain": [
       "13"
      ]
     },
     "execution_count": 41,
     "metadata": {},
     "output_type": "execute_result"
    },
    {
     "data": {
      "text/plain": [
       "23"
      ]
     },
     "execution_count": 41,
     "metadata": {},
     "output_type": "execute_result"
    },
    {
     "data": {
      "text/plain": [
       "13"
      ]
     },
     "execution_count": 41,
     "metadata": {},
     "output_type": "execute_result"
    },
    {
     "data": {
      "text/plain": [
       "19"
      ]
     },
     "execution_count": 41,
     "metadata": {},
     "output_type": "execute_result"
    },
    {
     "data": {
      "text/plain": [
       "16"
      ]
     },
     "execution_count": 41,
     "metadata": {},
     "output_type": "execute_result"
    },
    {
     "data": {
      "text/plain": [
       "14"
      ]
     },
     "execution_count": 41,
     "metadata": {},
     "output_type": "execute_result"
    },
    {
     "data": {
      "text/plain": [
       "15"
      ]
     },
     "execution_count": 41,
     "metadata": {},
     "output_type": "execute_result"
    },
    {
     "data": {
      "text/plain": [
       "16"
      ]
     },
     "execution_count": 41,
     "metadata": {},
     "output_type": "execute_result"
    },
    {
     "data": {
      "text/plain": [
       "15"
      ]
     },
     "execution_count": 41,
     "metadata": {},
     "output_type": "execute_result"
    },
    {
     "data": {
      "text/plain": [
       "19"
      ]
     },
     "execution_count": 41,
     "metadata": {},
     "output_type": "execute_result"
    },
    {
     "data": {
      "text/plain": [
       "18"
      ]
     },
     "execution_count": 41,
     "metadata": {},
     "output_type": "execute_result"
    },
    {
     "data": {
      "text/plain": [
       "11"
      ]
     },
     "execution_count": 41,
     "metadata": {},
     "output_type": "execute_result"
    },
    {
     "data": {
      "text/plain": [
       "13"
      ]
     },
     "execution_count": 41,
     "metadata": {},
     "output_type": "execute_result"
    },
    {
     "data": {
      "text/plain": [
       "18"
      ]
     },
     "execution_count": 41,
     "metadata": {},
     "output_type": "execute_result"
    },
    {
     "data": {
      "text/plain": [
       "11"
      ]
     },
     "execution_count": 41,
     "metadata": {},
     "output_type": "execute_result"
    },
    {
     "data": {
      "text/plain": [
       "9"
      ]
     },
     "execution_count": 41,
     "metadata": {},
     "output_type": "execute_result"
    },
    {
     "data": {
      "text/plain": [
       "12"
      ]
     },
     "execution_count": 41,
     "metadata": {},
     "output_type": "execute_result"
    },
    {
     "data": {
      "text/plain": [
       "10"
      ]
     },
     "execution_count": 41,
     "metadata": {},
     "output_type": "execute_result"
    },
    {
     "data": {
      "text/plain": [
       "10"
      ]
     },
     "execution_count": 41,
     "metadata": {},
     "output_type": "execute_result"
    },
    {
     "data": {
      "text/plain": [
       "17"
      ]
     },
     "execution_count": 41,
     "metadata": {},
     "output_type": "execute_result"
    },
    {
     "data": {
      "text/plain": [
       "13"
      ]
     },
     "execution_count": 41,
     "metadata": {},
     "output_type": "execute_result"
    },
    {
     "data": {
      "text/plain": [
       "13"
      ]
     },
     "execution_count": 41,
     "metadata": {},
     "output_type": "execute_result"
    },
    {
     "data": {
      "text/plain": [
       "11"
      ]
     },
     "execution_count": 41,
     "metadata": {},
     "output_type": "execute_result"
    },
    {
     "data": {
      "text/plain": [
       "14"
      ]
     },
     "execution_count": 41,
     "metadata": {},
     "output_type": "execute_result"
    },
    {
     "data": {
      "text/plain": [
       "16"
      ]
     },
     "execution_count": 41,
     "metadata": {},
     "output_type": "execute_result"
    },
    {
     "data": {
      "text/plain": [
       "6"
      ]
     },
     "execution_count": 41,
     "metadata": {},
     "output_type": "execute_result"
    },
    {
     "data": {
      "text/plain": [
       "14"
      ]
     },
     "execution_count": 41,
     "metadata": {},
     "output_type": "execute_result"
    },
    {
     "data": {
      "text/plain": [
       "14"
      ]
     },
     "execution_count": 41,
     "metadata": {},
     "output_type": "execute_result"
    },
    {
     "data": {
      "text/plain": [
       "16"
      ]
     },
     "execution_count": 41,
     "metadata": {},
     "output_type": "execute_result"
    },
    {
     "data": {
      "text/plain": [
       "14"
      ]
     },
     "execution_count": 41,
     "metadata": {},
     "output_type": "execute_result"
    },
    {
     "data": {
      "text/plain": [
       "12"
      ]
     },
     "execution_count": 41,
     "metadata": {},
     "output_type": "execute_result"
    },
    {
     "data": {
      "text/plain": [
       "12"
      ]
     },
     "execution_count": 41,
     "metadata": {},
     "output_type": "execute_result"
    },
    {
     "data": {
      "text/plain": [
       "15"
      ]
     },
     "execution_count": 41,
     "metadata": {},
     "output_type": "execute_result"
    },
    {
     "data": {
      "text/plain": [
       "11"
      ]
     },
     "execution_count": 41,
     "metadata": {},
     "output_type": "execute_result"
    },
    {
     "data": {
      "text/plain": [
       "16"
      ]
     },
     "execution_count": 41,
     "metadata": {},
     "output_type": "execute_result"
    },
    {
     "data": {
      "text/plain": [
       "9"
      ]
     },
     "execution_count": 41,
     "metadata": {},
     "output_type": "execute_result"
    },
    {
     "data": {
      "text/plain": [
       "13"
      ]
     },
     "execution_count": 41,
     "metadata": {},
     "output_type": "execute_result"
    },
    {
     "data": {
      "text/plain": [
       "12"
      ]
     },
     "execution_count": 41,
     "metadata": {},
     "output_type": "execute_result"
    },
    {
     "data": {
      "text/plain": [
       "7"
      ]
     },
     "execution_count": 41,
     "metadata": {},
     "output_type": "execute_result"
    },
    {
     "data": {
      "text/plain": [
       "10"
      ]
     },
     "execution_count": 41,
     "metadata": {},
     "output_type": "execute_result"
    },
    {
     "data": {
      "text/plain": [
       "15"
      ]
     },
     "execution_count": 41,
     "metadata": {},
     "output_type": "execute_result"
    },
    {
     "data": {
      "text/plain": [
       "8"
      ]
     },
     "execution_count": 41,
     "metadata": {},
     "output_type": "execute_result"
    },
    {
     "data": {
      "text/plain": [
       "17"
      ]
     },
     "execution_count": 41,
     "metadata": {},
     "output_type": "execute_result"
    },
    {
     "data": {
      "text/plain": [
       "15"
      ]
     },
     "execution_count": 41,
     "metadata": {},
     "output_type": "execute_result"
    },
    {
     "data": {
      "text/plain": [
       "9"
      ]
     },
     "execution_count": 41,
     "metadata": {},
     "output_type": "execute_result"
    },
    {
     "data": {
      "text/plain": [
       "8"
      ]
     },
     "execution_count": 41,
     "metadata": {},
     "output_type": "execute_result"
    },
    {
     "data": {
      "text/plain": [
       "16"
      ]
     },
     "execution_count": 41,
     "metadata": {},
     "output_type": "execute_result"
    },
    {
     "data": {
      "text/plain": [
       "19"
      ]
     },
     "execution_count": 41,
     "metadata": {},
     "output_type": "execute_result"
    },
    {
     "data": {
      "text/plain": [
       "14"
      ]
     },
     "execution_count": 41,
     "metadata": {},
     "output_type": "execute_result"
    },
    {
     "data": {
      "text/plain": [
       "11"
      ]
     },
     "execution_count": 41,
     "metadata": {},
     "output_type": "execute_result"
    },
    {
     "data": {
      "text/plain": [
       "11"
      ]
     },
     "execution_count": 41,
     "metadata": {},
     "output_type": "execute_result"
    },
    {
     "data": {
      "text/plain": [
       "7"
      ]
     },
     "execution_count": 41,
     "metadata": {},
     "output_type": "execute_result"
    },
    {
     "data": {
      "text/plain": [
       "14"
      ]
     },
     "execution_count": 41,
     "metadata": {},
     "output_type": "execute_result"
    },
    {
     "data": {
      "text/plain": [
       "15"
      ]
     },
     "execution_count": 41,
     "metadata": {},
     "output_type": "execute_result"
    },
    {
     "data": {
      "text/plain": [
       "16"
      ]
     },
     "execution_count": 41,
     "metadata": {},
     "output_type": "execute_result"
    },
    {
     "data": {
      "text/plain": [
       "11"
      ]
     },
     "execution_count": 41,
     "metadata": {},
     "output_type": "execute_result"
    },
    {
     "data": {
      "text/plain": [
       "11"
      ]
     },
     "execution_count": 41,
     "metadata": {},
     "output_type": "execute_result"
    },
    {
     "data": {
      "text/plain": [
       "15"
      ]
     },
     "execution_count": 41,
     "metadata": {},
     "output_type": "execute_result"
    },
    {
     "data": {
      "text/plain": [
       "14"
      ]
     },
     "execution_count": 41,
     "metadata": {},
     "output_type": "execute_result"
    },
    {
     "data": {
      "text/plain": [
       "43"
      ]
     },
     "execution_count": 41,
     "metadata": {},
     "output_type": "execute_result"
    },
    {
     "data": {
      "text/plain": [
       "18"
      ]
     },
     "execution_count": 41,
     "metadata": {},
     "output_type": "execute_result"
    },
    {
     "data": {
      "text/plain": [
       "12"
      ]
     },
     "execution_count": 41,
     "metadata": {},
     "output_type": "execute_result"
    },
    {
     "data": {
      "text/plain": [
       "14"
      ]
     },
     "execution_count": 41,
     "metadata": {},
     "output_type": "execute_result"
    },
    {
     "data": {
      "text/plain": [
       "11"
      ]
     },
     "execution_count": 41,
     "metadata": {},
     "output_type": "execute_result"
    },
    {
     "data": {
      "text/plain": [
       "17"
      ]
     },
     "execution_count": 41,
     "metadata": {},
     "output_type": "execute_result"
    },
    {
     "data": {
      "text/plain": [
       "14"
      ]
     },
     "execution_count": 41,
     "metadata": {},
     "output_type": "execute_result"
    },
    {
     "data": {
      "text/plain": [
       "11"
      ]
     },
     "execution_count": 41,
     "metadata": {},
     "output_type": "execute_result"
    },
    {
     "data": {
      "text/plain": [
       "16"
      ]
     },
     "execution_count": 41,
     "metadata": {},
     "output_type": "execute_result"
    },
    {
     "data": {
      "text/plain": [
       "13"
      ]
     },
     "execution_count": 41,
     "metadata": {},
     "output_type": "execute_result"
    },
    {
     "data": {
      "text/plain": [
       "17"
      ]
     },
     "execution_count": 41,
     "metadata": {},
     "output_type": "execute_result"
    },
    {
     "data": {
      "text/plain": [
       "9"
      ]
     },
     "execution_count": 41,
     "metadata": {},
     "output_type": "execute_result"
    },
    {
     "data": {
      "text/plain": [
       "12"
      ]
     },
     "execution_count": 41,
     "metadata": {},
     "output_type": "execute_result"
    },
    {
     "data": {
      "text/plain": [
       "18"
      ]
     },
     "execution_count": 41,
     "metadata": {},
     "output_type": "execute_result"
    },
    {
     "data": {
      "text/plain": [
       "16"
      ]
     },
     "execution_count": 41,
     "metadata": {},
     "output_type": "execute_result"
    },
    {
     "data": {
      "text/plain": [
       "11"
      ]
     },
     "execution_count": 41,
     "metadata": {},
     "output_type": "execute_result"
    },
    {
     "data": {
      "text/plain": [
       "26"
      ]
     },
     "execution_count": 41,
     "metadata": {},
     "output_type": "execute_result"
    },
    {
     "data": {
      "text/plain": [
       "10"
      ]
     },
     "execution_count": 41,
     "metadata": {},
     "output_type": "execute_result"
    },
    {
     "data": {
      "text/plain": [
       "8"
      ]
     },
     "execution_count": 41,
     "metadata": {},
     "output_type": "execute_result"
    },
    {
     "data": {
      "text/plain": [
       "10"
      ]
     },
     "execution_count": 41,
     "metadata": {},
     "output_type": "execute_result"
    },
    {
     "data": {
      "text/plain": [
       "16"
      ]
     },
     "execution_count": 41,
     "metadata": {},
     "output_type": "execute_result"
    },
    {
     "data": {
      "text/plain": [
       "15"
      ]
     },
     "execution_count": 41,
     "metadata": {},
     "output_type": "execute_result"
    },
    {
     "data": {
      "text/plain": [
       "12"
      ]
     },
     "execution_count": 41,
     "metadata": {},
     "output_type": "execute_result"
    },
    {
     "data": {
      "text/plain": [
       "11"
      ]
     },
     "execution_count": 41,
     "metadata": {},
     "output_type": "execute_result"
    },
    {
     "data": {
      "text/plain": [
       "13"
      ]
     },
     "execution_count": 41,
     "metadata": {},
     "output_type": "execute_result"
    },
    {
     "data": {
      "text/plain": [
       "10"
      ]
     },
     "execution_count": 41,
     "metadata": {},
     "output_type": "execute_result"
    },
    {
     "data": {
      "text/plain": [
       "12"
      ]
     },
     "execution_count": 41,
     "metadata": {},
     "output_type": "execute_result"
    },
    {
     "data": {
      "text/plain": [
       "14"
      ]
     },
     "execution_count": 41,
     "metadata": {},
     "output_type": "execute_result"
    },
    {
     "data": {
      "text/plain": [
       "13"
      ]
     },
     "execution_count": 41,
     "metadata": {},
     "output_type": "execute_result"
    },
    {
     "data": {
      "text/plain": [
       "17"
      ]
     },
     "execution_count": 41,
     "metadata": {},
     "output_type": "execute_result"
    },
    {
     "data": {
      "text/plain": [
       "8"
      ]
     },
     "execution_count": 41,
     "metadata": {},
     "output_type": "execute_result"
    },
    {
     "data": {
      "text/plain": [
       "14"
      ]
     },
     "execution_count": 41,
     "metadata": {},
     "output_type": "execute_result"
    },
    {
     "data": {
      "text/plain": [
       "11"
      ]
     },
     "execution_count": 41,
     "metadata": {},
     "output_type": "execute_result"
    },
    {
     "data": {
      "text/plain": [
       "15"
      ]
     },
     "execution_count": 41,
     "metadata": {},
     "output_type": "execute_result"
    },
    {
     "data": {
      "text/plain": [
       "6"
      ]
     },
     "execution_count": 41,
     "metadata": {},
     "output_type": "execute_result"
    }
   ],
   "source": [
    "with open('amplicon_only.txt', 'w') as f:\n",
    "    for item in amplicon_only:\n",
    "        f.write(\"%s\\n\" % item)"
   ]
  },
  {
   "cell_type": "code",
   "execution_count": 42,
   "metadata": {},
   "outputs": [
    {
     "data": {
      "text/plain": [
       "12"
      ]
     },
     "execution_count": 42,
     "metadata": {},
     "output_type": "execute_result"
    },
    {
     "data": {
      "text/plain": [
       "10"
      ]
     },
     "execution_count": 42,
     "metadata": {},
     "output_type": "execute_result"
    },
    {
     "data": {
      "text/plain": [
       "11"
      ]
     },
     "execution_count": 42,
     "metadata": {},
     "output_type": "execute_result"
    },
    {
     "data": {
      "text/plain": [
       "18"
      ]
     },
     "execution_count": 42,
     "metadata": {},
     "output_type": "execute_result"
    },
    {
     "data": {
      "text/plain": [
       "13"
      ]
     },
     "execution_count": 42,
     "metadata": {},
     "output_type": "execute_result"
    },
    {
     "data": {
      "text/plain": [
       "10"
      ]
     },
     "execution_count": 42,
     "metadata": {},
     "output_type": "execute_result"
    },
    {
     "data": {
      "text/plain": [
       "13"
      ]
     },
     "execution_count": 42,
     "metadata": {},
     "output_type": "execute_result"
    },
    {
     "data": {
      "text/plain": [
       "14"
      ]
     },
     "execution_count": 42,
     "metadata": {},
     "output_type": "execute_result"
    },
    {
     "data": {
      "text/plain": [
       "14"
      ]
     },
     "execution_count": 42,
     "metadata": {},
     "output_type": "execute_result"
    },
    {
     "data": {
      "text/plain": [
       "14"
      ]
     },
     "execution_count": 42,
     "metadata": {},
     "output_type": "execute_result"
    },
    {
     "data": {
      "text/plain": [
       "17"
      ]
     },
     "execution_count": 42,
     "metadata": {},
     "output_type": "execute_result"
    },
    {
     "data": {
      "text/plain": [
       "14"
      ]
     },
     "execution_count": 42,
     "metadata": {},
     "output_type": "execute_result"
    },
    {
     "data": {
      "text/plain": [
       "22"
      ]
     },
     "execution_count": 42,
     "metadata": {},
     "output_type": "execute_result"
    },
    {
     "data": {
      "text/plain": [
       "9"
      ]
     },
     "execution_count": 42,
     "metadata": {},
     "output_type": "execute_result"
    },
    {
     "data": {
      "text/plain": [
       "10"
      ]
     },
     "execution_count": 42,
     "metadata": {},
     "output_type": "execute_result"
    },
    {
     "data": {
      "text/plain": [
       "14"
      ]
     },
     "execution_count": 42,
     "metadata": {},
     "output_type": "execute_result"
    },
    {
     "data": {
      "text/plain": [
       "11"
      ]
     },
     "execution_count": 42,
     "metadata": {},
     "output_type": "execute_result"
    },
    {
     "data": {
      "text/plain": [
       "14"
      ]
     },
     "execution_count": 42,
     "metadata": {},
     "output_type": "execute_result"
    },
    {
     "data": {
      "text/plain": [
       "15"
      ]
     },
     "execution_count": 42,
     "metadata": {},
     "output_type": "execute_result"
    },
    {
     "data": {
      "text/plain": [
       "8"
      ]
     },
     "execution_count": 42,
     "metadata": {},
     "output_type": "execute_result"
    },
    {
     "data": {
      "text/plain": [
       "14"
      ]
     },
     "execution_count": 42,
     "metadata": {},
     "output_type": "execute_result"
    },
    {
     "data": {
      "text/plain": [
       "14"
      ]
     },
     "execution_count": 42,
     "metadata": {},
     "output_type": "execute_result"
    },
    {
     "data": {
      "text/plain": [
       "14"
      ]
     },
     "execution_count": 42,
     "metadata": {},
     "output_type": "execute_result"
    },
    {
     "data": {
      "text/plain": [
       "7"
      ]
     },
     "execution_count": 42,
     "metadata": {},
     "output_type": "execute_result"
    },
    {
     "data": {
      "text/plain": [
       "12"
      ]
     },
     "execution_count": 42,
     "metadata": {},
     "output_type": "execute_result"
    },
    {
     "data": {
      "text/plain": [
       "12"
      ]
     },
     "execution_count": 42,
     "metadata": {},
     "output_type": "execute_result"
    },
    {
     "data": {
      "text/plain": [
       "12"
      ]
     },
     "execution_count": 42,
     "metadata": {},
     "output_type": "execute_result"
    },
    {
     "data": {
      "text/plain": [
       "12"
      ]
     },
     "execution_count": 42,
     "metadata": {},
     "output_type": "execute_result"
    },
    {
     "data": {
      "text/plain": [
       "15"
      ]
     },
     "execution_count": 42,
     "metadata": {},
     "output_type": "execute_result"
    },
    {
     "data": {
      "text/plain": [
       "16"
      ]
     },
     "execution_count": 42,
     "metadata": {},
     "output_type": "execute_result"
    },
    {
     "data": {
      "text/plain": [
       "11"
      ]
     },
     "execution_count": 42,
     "metadata": {},
     "output_type": "execute_result"
    }
   ],
   "source": [
    "with open('mgx_only.txt', 'w') as f:\n",
    "    for item in mgx_only:\n",
    "        f.write(\"%s\\n\" % item)"
   ]
  },
  {
   "cell_type": "markdown",
   "metadata": {},
   "source": [
    "### creating long-form dataframe with data from both sequencing methods"
   ]
  },
  {
   "cell_type": "code",
   "execution_count": 43,
   "metadata": {},
   "outputs": [],
   "source": [
    "# only keeping samples we have both mgx and 16S profiles for\n",
    "samples_intersect = set(mgx.columns.values).intersection(set(amplicon.columns.values))"
   ]
  },
  {
   "cell_type": "code",
   "execution_count": 44,
   "metadata": {},
   "outputs": [],
   "source": [
    "# remove mothers\n",
    "children_intersect = [id for id in samples_intersect if not id.startswith(\"M\")]"
   ]
  },
  {
   "cell_type": "code",
   "execution_count": 45,
   "metadata": {},
   "outputs": [
    {
     "data": {
      "text/plain": [
       "'C0202'"
      ]
     },
     "execution_count": 45,
     "metadata": {},
     "output_type": "execute_result"
    }
   ],
   "source": [
    "string = 'C0202-6F-1A'\n",
    "keep = string.split('-')[0]\n",
    "keep"
   ]
  },
  {
   "cell_type": "code",
   "execution_count": 46,
   "metadata": {},
   "outputs": [],
   "source": [
    "# only keep one sample per child\n",
    "\n",
    "subjectIDs = []\n",
    "keep = []\n",
    "\n",
    "for child in children_intersect:\n",
    "    subjectID = child.split('-')[0]\n",
    "    if subjectID not in subjectIDs:\n",
    "        subjectIDs.append(subjectID)\n",
    "        keep.append(child)\n",
    "        "
   ]
  },
  {
   "cell_type": "code",
   "execution_count": 47,
   "metadata": {},
   "outputs": [
    {
     "data": {
      "text/plain": [
       "344"
      ]
     },
     "execution_count": 47,
     "metadata": {},
     "output_type": "execute_result"
    }
   ],
   "source": [
    "# number of unique children (and samples that we will be analyzing)\n",
    "len(keep)"
   ]
  },
  {
   "cell_type": "code",
   "execution_count": 48,
   "metadata": {},
   "outputs": [],
   "source": [
    "mgx = mgx[keep]\n",
    "amplicon = amplicon[keep]"
   ]
  },
  {
   "cell_type": "code",
   "execution_count": 49,
   "metadata": {},
   "outputs": [
    {
     "data": {
      "text/plain": [
       "array([ True,  True,  True,  True,  True,  True,  True,  True,  True,\n",
       "        True,  True,  True,  True,  True,  True,  True,  True,  True,\n",
       "        True,  True,  True,  True,  True,  True,  True,  True,  True,\n",
       "        True,  True,  True,  True,  True,  True,  True,  True,  True,\n",
       "        True,  True,  True,  True,  True,  True,  True,  True,  True,\n",
       "        True,  True,  True,  True,  True,  True,  True,  True,  True,\n",
       "        True,  True,  True,  True,  True,  True,  True,  True,  True,\n",
       "        True,  True,  True,  True,  True,  True,  True,  True,  True,\n",
       "        True,  True,  True,  True,  True,  True,  True,  True,  True,\n",
       "        True,  True,  True,  True,  True,  True,  True,  True,  True,\n",
       "        True,  True,  True,  True,  True,  True,  True,  True,  True,\n",
       "        True,  True,  True,  True,  True,  True,  True,  True,  True,\n",
       "        True,  True,  True,  True,  True,  True,  True,  True,  True,\n",
       "        True,  True,  True,  True,  True,  True,  True,  True,  True,\n",
       "        True,  True,  True,  True,  True,  True,  True,  True,  True,\n",
       "        True,  True,  True,  True,  True,  True,  True,  True,  True,\n",
       "        True,  True,  True,  True,  True,  True,  True,  True,  True,\n",
       "        True,  True,  True,  True,  True,  True,  True,  True,  True,\n",
       "        True,  True,  True,  True,  True,  True,  True,  True,  True,\n",
       "        True,  True,  True,  True,  True,  True,  True,  True,  True,\n",
       "        True,  True,  True,  True,  True,  True,  True,  True,  True,\n",
       "        True,  True,  True,  True,  True,  True,  True,  True,  True,\n",
       "        True,  True,  True,  True,  True,  True,  True,  True,  True,\n",
       "        True,  True,  True,  True,  True,  True,  True,  True,  True,\n",
       "        True,  True,  True,  True,  True,  True,  True,  True,  True,\n",
       "        True,  True,  True,  True,  True,  True,  True,  True,  True,\n",
       "        True,  True,  True,  True,  True,  True,  True,  True,  True,\n",
       "        True,  True,  True,  True,  True,  True,  True,  True,  True,\n",
       "        True,  True,  True,  True,  True,  True,  True,  True,  True,\n",
       "        True,  True,  True,  True,  True,  True,  True,  True,  True,\n",
       "        True,  True,  True,  True,  True,  True,  True,  True,  True,\n",
       "        True,  True,  True,  True,  True,  True,  True,  True,  True,\n",
       "        True,  True,  True,  True,  True,  True,  True,  True,  True,\n",
       "        True,  True,  True,  True,  True,  True,  True,  True,  True,\n",
       "        True,  True,  True,  True,  True,  True,  True,  True,  True,\n",
       "        True,  True,  True,  True,  True,  True,  True,  True,  True,\n",
       "        True,  True,  True,  True,  True,  True,  True,  True,  True,\n",
       "        True,  True,  True,  True,  True,  True,  True,  True,  True,\n",
       "        True,  True])"
      ]
     },
     "execution_count": 49,
     "metadata": {},
     "output_type": "execute_result"
    }
   ],
   "source": [
    "# confirm that we now have the same samples\n",
    "(amplicon.columns.values) == (mgx.columns.values)"
   ]
  },
  {
   "cell_type": "code",
   "execution_count": 50,
   "metadata": {},
   "outputs": [],
   "source": [
    "amplicon_melt = pd.melt(amplicon, id_vars=[\"taxa\"], var_name = \"sampleid\", value_name = \"amplicon_abund\")"
   ]
  },
  {
   "cell_type": "code",
   "execution_count": 51,
   "metadata": {},
   "outputs": [],
   "source": [
    "mgx_melt = pd.melt(mgx, id_vars=[\"taxa\"], var_name = \"sampleid\", value_name = \"mgx_abund\")"
   ]
  },
  {
   "cell_type": "code",
   "execution_count": 52,
   "metadata": {},
   "outputs": [],
   "source": [
    "merged_taxa = pd.merge(amplicon_melt, mgx_melt, on = [\"sampleid\", \"taxa\"], how = \"outer\")"
   ]
  },
  {
   "cell_type": "code",
   "execution_count": 53,
   "metadata": {},
   "outputs": [],
   "source": [
    "merged_taxa.to_csv('taxa_abundance_comparison.csv')"
   ]
  },
  {
   "cell_type": "code",
   "execution_count": 54,
   "metadata": {},
   "outputs": [],
   "source": [
    "merged_taxa[\"abs_diff\"] = abs(merged_taxa[\"amplicon_abund\"] - merged_taxa[\"mgx_abund\"])\n",
    "merged_taxa[\"tot_diff\"] = (merged_taxa[\"amplicon_abund\"] - merged_taxa[\"mgx_abund\"])"
   ]
  },
  {
   "cell_type": "code",
   "execution_count": 55,
   "metadata": {},
   "outputs": [
    {
     "data": {
      "text/html": [
       "<div>\n",
       "<style scoped>\n",
       "    .dataframe tbody tr th:only-of-type {\n",
       "        vertical-align: middle;\n",
       "    }\n",
       "\n",
       "    .dataframe tbody tr th {\n",
       "        vertical-align: top;\n",
       "    }\n",
       "\n",
       "    .dataframe thead th {\n",
       "        text-align: right;\n",
       "    }\n",
       "</style>\n",
       "<table border=\"1\" class=\"dataframe\">\n",
       "  <thead>\n",
       "    <tr style=\"text-align: right;\">\n",
       "      <th></th>\n",
       "      <th>taxa</th>\n",
       "      <th>sampleid</th>\n",
       "      <th>amplicon_abund</th>\n",
       "      <th>mgx_abund</th>\n",
       "      <th>abs_diff</th>\n",
       "      <th>tot_diff</th>\n",
       "    </tr>\n",
       "  </thead>\n",
       "  <tbody>\n",
       "    <tr>\n",
       "      <th>4243</th>\n",
       "      <td>Pyramidobacter</td>\n",
       "      <td>C0189-5F-1A</td>\n",
       "      <td>0.0</td>\n",
       "      <td>0.0</td>\n",
       "      <td>0.0</td>\n",
       "      <td>0.0</td>\n",
       "    </tr>\n",
       "    <tr>\n",
       "      <th>186859</th>\n",
       "      <td>Verrucomicrobia</td>\n",
       "      <td>C0456-4F-1A</td>\n",
       "      <td>0.0</td>\n",
       "      <td>NaN</td>\n",
       "      <td>NaN</td>\n",
       "      <td>NaN</td>\n",
       "    </tr>\n",
       "    <tr>\n",
       "      <th>184128</th>\n",
       "      <td>Mitochondria</td>\n",
       "      <td>C0744-6F-1A</td>\n",
       "      <td>0.0</td>\n",
       "      <td>NaN</td>\n",
       "      <td>NaN</td>\n",
       "      <td>NaN</td>\n",
       "    </tr>\n",
       "    <tr>\n",
       "      <th>222089</th>\n",
       "      <td>Salmonella</td>\n",
       "      <td>C0837-1E-1A</td>\n",
       "      <td>NaN</td>\n",
       "      <td>0.0</td>\n",
       "      <td>NaN</td>\n",
       "      <td>NaN</td>\n",
       "    </tr>\n",
       "    <tr>\n",
       "      <th>121056</th>\n",
       "      <td>Paraeggerthella</td>\n",
       "      <td>C0157-6F-1A</td>\n",
       "      <td>0.0</td>\n",
       "      <td>NaN</td>\n",
       "      <td>NaN</td>\n",
       "      <td>NaN</td>\n",
       "    </tr>\n",
       "    <tr>\n",
       "      <th>100003</th>\n",
       "      <td>Acanthis</td>\n",
       "      <td>C0325-6F-1A</td>\n",
       "      <td>0.0</td>\n",
       "      <td>NaN</td>\n",
       "      <td>NaN</td>\n",
       "      <td>NaN</td>\n",
       "    </tr>\n",
       "    <tr>\n",
       "      <th>26592</th>\n",
       "      <td>Longimicrobium</td>\n",
       "      <td>C0607-1F-1A</td>\n",
       "      <td>0.0</td>\n",
       "      <td>NaN</td>\n",
       "      <td>NaN</td>\n",
       "      <td>NaN</td>\n",
       "    </tr>\n",
       "    <tr>\n",
       "      <th>199211</th>\n",
       "      <td>Polaribacter</td>\n",
       "      <td>C0802-1F-1A</td>\n",
       "      <td>0.0</td>\n",
       "      <td>NaN</td>\n",
       "      <td>NaN</td>\n",
       "      <td>NaN</td>\n",
       "    </tr>\n",
       "    <tr>\n",
       "      <th>36262</th>\n",
       "      <td>Actinobacillus</td>\n",
       "      <td>C0111-7F-1A</td>\n",
       "      <td>0.0</td>\n",
       "      <td>NaN</td>\n",
       "      <td>NaN</td>\n",
       "      <td>NaN</td>\n",
       "    </tr>\n",
       "    <tr>\n",
       "      <th>90098</th>\n",
       "      <td>Burkholderiales</td>\n",
       "      <td>C0861-1F-1A</td>\n",
       "      <td>0.0</td>\n",
       "      <td>NaN</td>\n",
       "      <td>NaN</td>\n",
       "      <td>NaN</td>\n",
       "    </tr>\n",
       "  </tbody>\n",
       "</table>\n",
       "</div>"
      ],
      "text/plain": [
       "                   taxa     sampleid  amplicon_abund  mgx_abund  abs_diff  \\\n",
       "4243     Pyramidobacter  C0189-5F-1A             0.0        0.0       0.0   \n",
       "186859  Verrucomicrobia  C0456-4F-1A             0.0        NaN       NaN   \n",
       "184128     Mitochondria  C0744-6F-1A             0.0        NaN       NaN   \n",
       "222089       Salmonella  C0837-1E-1A             NaN        0.0       NaN   \n",
       "121056  Paraeggerthella  C0157-6F-1A             0.0        NaN       NaN   \n",
       "100003         Acanthis  C0325-6F-1A             0.0        NaN       NaN   \n",
       "26592    Longimicrobium  C0607-1F-1A             0.0        NaN       NaN   \n",
       "199211     Polaribacter  C0802-1F-1A             0.0        NaN       NaN   \n",
       "36262    Actinobacillus  C0111-7F-1A             0.0        NaN       NaN   \n",
       "90098   Burkholderiales  C0861-1F-1A             0.0        NaN       NaN   \n",
       "\n",
       "        tot_diff  \n",
       "4243         0.0  \n",
       "186859       NaN  \n",
       "184128       NaN  \n",
       "222089       NaN  \n",
       "121056       NaN  \n",
       "100003       NaN  \n",
       "26592        NaN  \n",
       "199211       NaN  \n",
       "36262        NaN  \n",
       "90098        NaN  "
      ]
     },
     "execution_count": 55,
     "metadata": {},
     "output_type": "execute_result"
    }
   ],
   "source": [
    "merged_taxa.sample(10)"
   ]
  },
  {
   "cell_type": "code",
   "execution_count": 56,
   "metadata": {},
   "outputs": [],
   "source": [
    "merged_taxa.fillna(0, inplace=True)"
   ]
  },
  {
   "cell_type": "code",
   "execution_count": 57,
   "metadata": {},
   "outputs": [],
   "source": [
    "amplicon_avg_abund = merged_taxa.groupby(\"taxa\")[\"amplicon_abund\"].mean()\n",
    "mgx_avg_abund = merged_taxa.groupby(\"taxa\")[\"mgx_abund\"].mean()\n",
    "taxa_list = sorted(set(merged_taxa[\"taxa\"]))"
   ]
  },
  {
   "cell_type": "code",
   "execution_count": 58,
   "metadata": {},
   "outputs": [],
   "source": [
    "mean_taxa_abund = pd.DataFrame(\n",
    "    (zip(taxa_list, amplicon_avg_abund, mgx_avg_abund)),  \n",
    "    columns = ['taxa','amp_avg_abund', 'mgx_avg_abund'])"
   ]
  },
  {
   "cell_type": "code",
   "execution_count": 59,
   "metadata": {},
   "outputs": [],
   "source": [
    "mean_taxa_abund[\"abs_diff\"] = abs(mean_taxa_abund[\"amp_avg_abund\"] - mean_taxa_abund[\"mgx_avg_abund\"])\n",
    "mean_taxa_abund[\"total_diff\"] = mean_taxa_abund[\"amp_avg_abund\"] - mean_taxa_abund[\"mgx_avg_abund\"]"
   ]
  },
  {
   "cell_type": "code",
   "execution_count": 60,
   "metadata": {},
   "outputs": [],
   "source": [
    "mean_taxa_abund.sort_values(\"abs_diff\", axis = 0, ascending = True, \n",
    "                 inplace = True, na_position ='last')"
   ]
  },
  {
   "cell_type": "code",
   "execution_count": 61,
   "metadata": {},
   "outputs": [
    {
     "data": {
      "text/html": [
       "<div>\n",
       "<style scoped>\n",
       "    .dataframe tbody tr th:only-of-type {\n",
       "        vertical-align: middle;\n",
       "    }\n",
       "\n",
       "    .dataframe tbody tr th {\n",
       "        vertical-align: top;\n",
       "    }\n",
       "\n",
       "    .dataframe thead th {\n",
       "        text-align: right;\n",
       "    }\n",
       "</style>\n",
       "<table border=\"1\" class=\"dataframe\">\n",
       "  <thead>\n",
       "    <tr style=\"text-align: right;\">\n",
       "      <th></th>\n",
       "      <th>taxa</th>\n",
       "      <th>amp_avg_abund</th>\n",
       "      <th>mgx_avg_abund</th>\n",
       "      <th>abs_diff</th>\n",
       "      <th>total_diff</th>\n",
       "    </tr>\n",
       "  </thead>\n",
       "  <tbody>\n",
       "    <tr>\n",
       "      <th>494</th>\n",
       "      <td>Prevotella</td>\n",
       "      <td>7.394894e-02</td>\n",
       "      <td>0.066348</td>\n",
       "      <td>7.600524e-03</td>\n",
       "      <td>7.600524e-03</td>\n",
       "    </tr>\n",
       "    <tr>\n",
       "      <th>413</th>\n",
       "      <td>Mycobacterium</td>\n",
       "      <td>1.353075e-06</td>\n",
       "      <td>0.000000</td>\n",
       "      <td>1.353075e-06</td>\n",
       "      <td>1.353075e-06</td>\n",
       "    </tr>\n",
       "    <tr>\n",
       "      <th>103</th>\n",
       "      <td>Bryobacter</td>\n",
       "      <td>2.868316e-06</td>\n",
       "      <td>0.000000</td>\n",
       "      <td>2.868316e-06</td>\n",
       "      <td>2.868316e-06</td>\n",
       "    </tr>\n",
       "    <tr>\n",
       "      <th>134</th>\n",
       "      <td>Chloroplast</td>\n",
       "      <td>3.124824e-04</td>\n",
       "      <td>0.000000</td>\n",
       "      <td>3.124824e-04</td>\n",
       "      <td>3.124824e-04</td>\n",
       "    </tr>\n",
       "    <tr>\n",
       "      <th>364</th>\n",
       "      <td>Lutibacter</td>\n",
       "      <td>0.000000e+00</td>\n",
       "      <td>0.000000</td>\n",
       "      <td>0.000000e+00</td>\n",
       "      <td>0.000000e+00</td>\n",
       "    </tr>\n",
       "    <tr>\n",
       "      <th>264</th>\n",
       "      <td>Gallicola</td>\n",
       "      <td>2.734196e-06</td>\n",
       "      <td>0.000000</td>\n",
       "      <td>2.734196e-06</td>\n",
       "      <td>2.734196e-06</td>\n",
       "    </tr>\n",
       "    <tr>\n",
       "      <th>558</th>\n",
       "      <td>Salinimicrobium</td>\n",
       "      <td>3.158584e-07</td>\n",
       "      <td>0.000000</td>\n",
       "      <td>3.158584e-07</td>\n",
       "      <td>3.158584e-07</td>\n",
       "    </tr>\n",
       "    <tr>\n",
       "      <th>265</th>\n",
       "      <td>Gallionella</td>\n",
       "      <td>0.000000e+00</td>\n",
       "      <td>0.000000</td>\n",
       "      <td>0.000000e+00</td>\n",
       "      <td>0.000000e+00</td>\n",
       "    </tr>\n",
       "    <tr>\n",
       "      <th>398</th>\n",
       "      <td>Mitochondria</td>\n",
       "      <td>1.595685e-05</td>\n",
       "      <td>0.000000</td>\n",
       "      <td>1.595685e-05</td>\n",
       "      <td>1.595685e-05</td>\n",
       "    </tr>\n",
       "    <tr>\n",
       "      <th>130</th>\n",
       "      <td>Chaetoceros</td>\n",
       "      <td>0.000000e+00</td>\n",
       "      <td>0.000000</td>\n",
       "      <td>0.000000e+00</td>\n",
       "      <td>0.000000e+00</td>\n",
       "    </tr>\n",
       "  </tbody>\n",
       "</table>\n",
       "</div>"
      ],
      "text/plain": [
       "                taxa  amp_avg_abund  mgx_avg_abund      abs_diff    total_diff\n",
       "494       Prevotella   7.394894e-02       0.066348  7.600524e-03  7.600524e-03\n",
       "413    Mycobacterium   1.353075e-06       0.000000  1.353075e-06  1.353075e-06\n",
       "103       Bryobacter   2.868316e-06       0.000000  2.868316e-06  2.868316e-06\n",
       "134      Chloroplast   3.124824e-04       0.000000  3.124824e-04  3.124824e-04\n",
       "364       Lutibacter   0.000000e+00       0.000000  0.000000e+00  0.000000e+00\n",
       "264        Gallicola   2.734196e-06       0.000000  2.734196e-06  2.734196e-06\n",
       "558  Salinimicrobium   3.158584e-07       0.000000  3.158584e-07  3.158584e-07\n",
       "265      Gallionella   0.000000e+00       0.000000  0.000000e+00  0.000000e+00\n",
       "398     Mitochondria   1.595685e-05       0.000000  1.595685e-05  1.595685e-05\n",
       "130      Chaetoceros   0.000000e+00       0.000000  0.000000e+00  0.000000e+00"
      ]
     },
     "execution_count": 61,
     "metadata": {},
     "output_type": "execute_result"
    }
   ],
   "source": [
    "mean_taxa_abund.sample(10)"
   ]
  },
  {
   "cell_type": "code",
   "execution_count": 62,
   "metadata": {},
   "outputs": [],
   "source": [
    "mean_taxa_abund.to_csv('taxa_difference.csv')"
   ]
  },
  {
   "cell_type": "markdown",
   "metadata": {},
   "source": [
    "## making giant dataframe of abundances"
   ]
  },
  {
   "cell_type": "code",
   "execution_count": 63,
   "metadata": {},
   "outputs": [],
   "source": [
    "amp_trans = amplicon.set_index(\"taxa\").transpose()"
   ]
  },
  {
   "cell_type": "code",
   "execution_count": 64,
   "metadata": {},
   "outputs": [],
   "source": [
    "amp_trans.reset_index(level=0, inplace=True)"
   ]
  },
  {
   "cell_type": "code",
   "execution_count": 65,
   "metadata": {},
   "outputs": [],
   "source": [
    "amp_trans.rename(columns = {'index':'sampleid'}, inplace = True) "
   ]
  },
  {
   "cell_type": "code",
   "execution_count": 66,
   "metadata": {},
   "outputs": [],
   "source": [
    "amp_trans[\"uid\"] = amp_trans[\"sampleid\"].astype(str)+'-amp'"
   ]
  },
  {
   "cell_type": "code",
   "execution_count": 67,
   "metadata": {},
   "outputs": [],
   "source": [
    "amp_trans[\"method\"] = \"amp\""
   ]
  },
  {
   "cell_type": "code",
   "execution_count": 68,
   "metadata": {},
   "outputs": [
    {
     "data": {
      "text/html": [
       "<div>\n",
       "<style scoped>\n",
       "    .dataframe tbody tr th:only-of-type {\n",
       "        vertical-align: middle;\n",
       "    }\n",
       "\n",
       "    .dataframe tbody tr th {\n",
       "        vertical-align: top;\n",
       "    }\n",
       "\n",
       "    .dataframe thead th {\n",
       "        text-align: right;\n",
       "    }\n",
       "</style>\n",
       "<table border=\"1\" class=\"dataframe\">\n",
       "  <thead>\n",
       "    <tr style=\"text-align: right;\">\n",
       "      <th>taxa</th>\n",
       "      <th>sampleid</th>\n",
       "      <th>Abditibacterium</th>\n",
       "      <th>Abiotrophia</th>\n",
       "      <th>Absiella</th>\n",
       "      <th>Acanthis</th>\n",
       "      <th>Acetanaerobacterium</th>\n",
       "      <th>Acetobacter</th>\n",
       "      <th>Achromobacter</th>\n",
       "      <th>Acidaminococcus</th>\n",
       "      <th>Acidibacter</th>\n",
       "      <th>...</th>\n",
       "      <th>Winkia</th>\n",
       "      <th>Winogradskyella</th>\n",
       "      <th>Woesearchaeales</th>\n",
       "      <th>Woeseia</th>\n",
       "      <th>Yoonia-Loktanella</th>\n",
       "      <th>Yueomyces</th>\n",
       "      <th>Zavarzinella</th>\n",
       "      <th>Zixibacteria</th>\n",
       "      <th>uid</th>\n",
       "      <th>method</th>\n",
       "    </tr>\n",
       "  </thead>\n",
       "  <tbody>\n",
       "    <tr>\n",
       "      <th>0</th>\n",
       "      <td>C0348-3F-1A</td>\n",
       "      <td>0.0</td>\n",
       "      <td>0.0</td>\n",
       "      <td>0.0</td>\n",
       "      <td>0.0</td>\n",
       "      <td>0.0</td>\n",
       "      <td>0.0</td>\n",
       "      <td>0.0</td>\n",
       "      <td>0.0</td>\n",
       "      <td>0.0</td>\n",
       "      <td>...</td>\n",
       "      <td>0.0</td>\n",
       "      <td>0.0</td>\n",
       "      <td>0.0</td>\n",
       "      <td>0.0</td>\n",
       "      <td>0.0</td>\n",
       "      <td>0.0</td>\n",
       "      <td>0.0</td>\n",
       "      <td>0.0</td>\n",
       "      <td>C0348-3F-1A-amp</td>\n",
       "      <td>amp</td>\n",
       "    </tr>\n",
       "    <tr>\n",
       "      <th>1</th>\n",
       "      <td>C0623-1F-1A</td>\n",
       "      <td>0.0</td>\n",
       "      <td>0.0</td>\n",
       "      <td>0.0</td>\n",
       "      <td>0.0</td>\n",
       "      <td>0.0</td>\n",
       "      <td>0.0</td>\n",
       "      <td>0.0</td>\n",
       "      <td>0.0</td>\n",
       "      <td>0.0</td>\n",
       "      <td>...</td>\n",
       "      <td>0.0</td>\n",
       "      <td>0.0</td>\n",
       "      <td>0.0</td>\n",
       "      <td>0.0</td>\n",
       "      <td>0.0</td>\n",
       "      <td>0.0</td>\n",
       "      <td>0.0</td>\n",
       "      <td>0.0</td>\n",
       "      <td>C0623-1F-1A-amp</td>\n",
       "      <td>amp</td>\n",
       "    </tr>\n",
       "    <tr>\n",
       "      <th>2</th>\n",
       "      <td>C0259-3F-1A</td>\n",
       "      <td>0.0</td>\n",
       "      <td>0.0</td>\n",
       "      <td>0.0</td>\n",
       "      <td>0.0</td>\n",
       "      <td>0.0</td>\n",
       "      <td>0.0</td>\n",
       "      <td>0.0</td>\n",
       "      <td>0.0</td>\n",
       "      <td>0.0</td>\n",
       "      <td>...</td>\n",
       "      <td>0.0</td>\n",
       "      <td>0.0</td>\n",
       "      <td>0.0</td>\n",
       "      <td>0.0</td>\n",
       "      <td>0.0</td>\n",
       "      <td>0.0</td>\n",
       "      <td>0.0</td>\n",
       "      <td>0.0</td>\n",
       "      <td>C0259-3F-1A-amp</td>\n",
       "      <td>amp</td>\n",
       "    </tr>\n",
       "    <tr>\n",
       "      <th>3</th>\n",
       "      <td>C0055-3F-1A</td>\n",
       "      <td>0.0</td>\n",
       "      <td>0.0</td>\n",
       "      <td>0.0</td>\n",
       "      <td>0.0</td>\n",
       "      <td>0.0</td>\n",
       "      <td>0.0</td>\n",
       "      <td>0.0</td>\n",
       "      <td>0.0</td>\n",
       "      <td>0.0</td>\n",
       "      <td>...</td>\n",
       "      <td>0.0</td>\n",
       "      <td>0.0</td>\n",
       "      <td>0.0</td>\n",
       "      <td>0.0</td>\n",
       "      <td>0.0</td>\n",
       "      <td>0.0</td>\n",
       "      <td>0.0</td>\n",
       "      <td>0.0</td>\n",
       "      <td>C0055-3F-1A-amp</td>\n",
       "      <td>amp</td>\n",
       "    </tr>\n",
       "    <tr>\n",
       "      <th>4</th>\n",
       "      <td>C0126-8F-1B</td>\n",
       "      <td>0.0</td>\n",
       "      <td>0.0</td>\n",
       "      <td>0.0</td>\n",
       "      <td>0.0</td>\n",
       "      <td>0.0</td>\n",
       "      <td>0.0</td>\n",
       "      <td>0.0</td>\n",
       "      <td>0.0</td>\n",
       "      <td>0.0</td>\n",
       "      <td>...</td>\n",
       "      <td>0.0</td>\n",
       "      <td>0.0</td>\n",
       "      <td>0.0</td>\n",
       "      <td>0.0</td>\n",
       "      <td>0.0</td>\n",
       "      <td>0.0</td>\n",
       "      <td>0.0</td>\n",
       "      <td>0.0</td>\n",
       "      <td>C0126-8F-1B-amp</td>\n",
       "      <td>amp</td>\n",
       "    </tr>\n",
       "  </tbody>\n",
       "</table>\n",
       "<p>5 rows × 628 columns</p>\n",
       "</div>"
      ],
      "text/plain": [
       "taxa     sampleid  Abditibacterium  Abiotrophia  Absiella  Acanthis  \\\n",
       "0     C0348-3F-1A              0.0          0.0       0.0       0.0   \n",
       "1     C0623-1F-1A              0.0          0.0       0.0       0.0   \n",
       "2     C0259-3F-1A              0.0          0.0       0.0       0.0   \n",
       "3     C0055-3F-1A              0.0          0.0       0.0       0.0   \n",
       "4     C0126-8F-1B              0.0          0.0       0.0       0.0   \n",
       "\n",
       "taxa  Acetanaerobacterium  Acetobacter  Achromobacter  Acidaminococcus  \\\n",
       "0                     0.0          0.0            0.0              0.0   \n",
       "1                     0.0          0.0            0.0              0.0   \n",
       "2                     0.0          0.0            0.0              0.0   \n",
       "3                     0.0          0.0            0.0              0.0   \n",
       "4                     0.0          0.0            0.0              0.0   \n",
       "\n",
       "taxa  Acidibacter  ...  Winkia  Winogradskyella  Woesearchaeales  Woeseia  \\\n",
       "0             0.0  ...     0.0              0.0              0.0      0.0   \n",
       "1             0.0  ...     0.0              0.0              0.0      0.0   \n",
       "2             0.0  ...     0.0              0.0              0.0      0.0   \n",
       "3             0.0  ...     0.0              0.0              0.0      0.0   \n",
       "4             0.0  ...     0.0              0.0              0.0      0.0   \n",
       "\n",
       "taxa  Yoonia-Loktanella  Yueomyces  Zavarzinella  Zixibacteria  \\\n",
       "0                   0.0        0.0           0.0           0.0   \n",
       "1                   0.0        0.0           0.0           0.0   \n",
       "2                   0.0        0.0           0.0           0.0   \n",
       "3                   0.0        0.0           0.0           0.0   \n",
       "4                   0.0        0.0           0.0           0.0   \n",
       "\n",
       "taxa              uid  method  \n",
       "0     C0348-3F-1A-amp     amp  \n",
       "1     C0623-1F-1A-amp     amp  \n",
       "2     C0259-3F-1A-amp     amp  \n",
       "3     C0055-3F-1A-amp     amp  \n",
       "4     C0126-8F-1B-amp     amp  \n",
       "\n",
       "[5 rows x 628 columns]"
      ]
     },
     "execution_count": 68,
     "metadata": {},
     "output_type": "execute_result"
    }
   ],
   "source": [
    "amp_trans.head()"
   ]
  },
  {
   "cell_type": "code",
   "execution_count": 69,
   "metadata": {},
   "outputs": [],
   "source": [
    "mgx_trans = mgx.set_index(\"taxa\").transpose()"
   ]
  },
  {
   "cell_type": "code",
   "execution_count": 70,
   "metadata": {},
   "outputs": [],
   "source": [
    "mgx_trans.reset_index(level=0, inplace=True)"
   ]
  },
  {
   "cell_type": "code",
   "execution_count": 71,
   "metadata": {},
   "outputs": [],
   "source": [
    "mgx_trans.rename(columns = {'index':'sampleid'}, inplace = True)"
   ]
  },
  {
   "cell_type": "code",
   "execution_count": 72,
   "metadata": {},
   "outputs": [],
   "source": [
    "mgx_trans[\"uid\"] = mgx_trans[\"sampleid\"].astype(str)+'-mgx'"
   ]
  },
  {
   "cell_type": "code",
   "execution_count": 73,
   "metadata": {},
   "outputs": [],
   "source": [
    "mgx_trans[\"method\"] = \"mgx\""
   ]
  },
  {
   "cell_type": "code",
   "execution_count": 74,
   "metadata": {},
   "outputs": [
    {
     "data": {
      "text/html": [
       "<div>\n",
       "<style scoped>\n",
       "    .dataframe tbody tr th:only-of-type {\n",
       "        vertical-align: middle;\n",
       "    }\n",
       "\n",
       "    .dataframe tbody tr th {\n",
       "        vertical-align: top;\n",
       "    }\n",
       "\n",
       "    .dataframe thead th {\n",
       "        text-align: right;\n",
       "    }\n",
       "</style>\n",
       "<table border=\"1\" class=\"dataframe\">\n",
       "  <thead>\n",
       "    <tr style=\"text-align: right;\">\n",
       "      <th>taxa</th>\n",
       "      <th>sampleid</th>\n",
       "      <th>Bacteroides</th>\n",
       "      <th>Roseburia</th>\n",
       "      <th>Faecalibacterium</th>\n",
       "      <th>Ruminococcus</th>\n",
       "      <th>Bifidobacterium</th>\n",
       "      <th>Blautia</th>\n",
       "      <th>Fusicatenibacter</th>\n",
       "      <th>Eubacterium</th>\n",
       "      <th>Streptococcus</th>\n",
       "      <th>...</th>\n",
       "      <th>Kosakonia</th>\n",
       "      <th>Paeniclostridium</th>\n",
       "      <th>Eikenella</th>\n",
       "      <th>Actinotignum</th>\n",
       "      <th>Muribaculum</th>\n",
       "      <th>Cellulosilyticum</th>\n",
       "      <th>Delftia</th>\n",
       "      <th>UNCLASSIFIED</th>\n",
       "      <th>uid</th>\n",
       "      <th>method</th>\n",
       "    </tr>\n",
       "  </thead>\n",
       "  <tbody>\n",
       "    <tr>\n",
       "      <th>0</th>\n",
       "      <td>C0348-3F-1A</td>\n",
       "      <td>0.734554</td>\n",
       "      <td>0.083097</td>\n",
       "      <td>0.024676</td>\n",
       "      <td>0.032479</td>\n",
       "      <td>0.003458</td>\n",
       "      <td>0.012251</td>\n",
       "      <td>0.003926</td>\n",
       "      <td>0.010205</td>\n",
       "      <td>0.002213</td>\n",
       "      <td>...</td>\n",
       "      <td>0.0</td>\n",
       "      <td>0.0</td>\n",
       "      <td>0.0</td>\n",
       "      <td>0.0</td>\n",
       "      <td>0.0</td>\n",
       "      <td>0.0</td>\n",
       "      <td>0.0</td>\n",
       "      <td>0.025643</td>\n",
       "      <td>C0348-3F-1A-mgx</td>\n",
       "      <td>mgx</td>\n",
       "    </tr>\n",
       "    <tr>\n",
       "      <th>1</th>\n",
       "      <td>C0623-1F-1A</td>\n",
       "      <td>0.486201</td>\n",
       "      <td>0.007228</td>\n",
       "      <td>0.071943</td>\n",
       "      <td>0.037209</td>\n",
       "      <td>0.013538</td>\n",
       "      <td>0.065136</td>\n",
       "      <td>0.013155</td>\n",
       "      <td>0.022842</td>\n",
       "      <td>0.002657</td>\n",
       "      <td>...</td>\n",
       "      <td>0.0</td>\n",
       "      <td>0.0</td>\n",
       "      <td>0.0</td>\n",
       "      <td>0.0</td>\n",
       "      <td>0.0</td>\n",
       "      <td>0.0</td>\n",
       "      <td>0.0</td>\n",
       "      <td>0.041141</td>\n",
       "      <td>C0623-1F-1A-mgx</td>\n",
       "      <td>mgx</td>\n",
       "    </tr>\n",
       "    <tr>\n",
       "      <th>2</th>\n",
       "      <td>C0259-3F-1A</td>\n",
       "      <td>0.344329</td>\n",
       "      <td>0.000000</td>\n",
       "      <td>0.000165</td>\n",
       "      <td>0.049978</td>\n",
       "      <td>0.035044</td>\n",
       "      <td>0.005262</td>\n",
       "      <td>0.000000</td>\n",
       "      <td>0.000982</td>\n",
       "      <td>0.001553</td>\n",
       "      <td>...</td>\n",
       "      <td>0.0</td>\n",
       "      <td>0.0</td>\n",
       "      <td>0.0</td>\n",
       "      <td>0.0</td>\n",
       "      <td>0.0</td>\n",
       "      <td>0.0</td>\n",
       "      <td>0.0</td>\n",
       "      <td>0.006700</td>\n",
       "      <td>C0259-3F-1A-mgx</td>\n",
       "      <td>mgx</td>\n",
       "    </tr>\n",
       "    <tr>\n",
       "      <th>3</th>\n",
       "      <td>C0055-3F-1A</td>\n",
       "      <td>0.117601</td>\n",
       "      <td>0.002894</td>\n",
       "      <td>0.106140</td>\n",
       "      <td>0.046725</td>\n",
       "      <td>0.021353</td>\n",
       "      <td>0.054338</td>\n",
       "      <td>0.058830</td>\n",
       "      <td>0.011397</td>\n",
       "      <td>0.000315</td>\n",
       "      <td>...</td>\n",
       "      <td>0.0</td>\n",
       "      <td>0.0</td>\n",
       "      <td>0.0</td>\n",
       "      <td>0.0</td>\n",
       "      <td>0.0</td>\n",
       "      <td>0.0</td>\n",
       "      <td>0.0</td>\n",
       "      <td>0.024064</td>\n",
       "      <td>C0055-3F-1A-mgx</td>\n",
       "      <td>mgx</td>\n",
       "    </tr>\n",
       "    <tr>\n",
       "      <th>4</th>\n",
       "      <td>C0126-8F-1B</td>\n",
       "      <td>0.364960</td>\n",
       "      <td>0.027320</td>\n",
       "      <td>0.113885</td>\n",
       "      <td>0.000000</td>\n",
       "      <td>0.059164</td>\n",
       "      <td>0.035767</td>\n",
       "      <td>0.018563</td>\n",
       "      <td>0.030226</td>\n",
       "      <td>0.001682</td>\n",
       "      <td>...</td>\n",
       "      <td>0.0</td>\n",
       "      <td>0.0</td>\n",
       "      <td>0.0</td>\n",
       "      <td>0.0</td>\n",
       "      <td>0.0</td>\n",
       "      <td>0.0</td>\n",
       "      <td>0.0</td>\n",
       "      <td>0.189524</td>\n",
       "      <td>C0126-8F-1B-mgx</td>\n",
       "      <td>mgx</td>\n",
       "    </tr>\n",
       "  </tbody>\n",
       "</table>\n",
       "<p>5 rows × 188 columns</p>\n",
       "</div>"
      ],
      "text/plain": [
       "taxa     sampleid  Bacteroides  Roseburia  Faecalibacterium  Ruminococcus  \\\n",
       "0     C0348-3F-1A     0.734554   0.083097          0.024676      0.032479   \n",
       "1     C0623-1F-1A     0.486201   0.007228          0.071943      0.037209   \n",
       "2     C0259-3F-1A     0.344329   0.000000          0.000165      0.049978   \n",
       "3     C0055-3F-1A     0.117601   0.002894          0.106140      0.046725   \n",
       "4     C0126-8F-1B     0.364960   0.027320          0.113885      0.000000   \n",
       "\n",
       "taxa  Bifidobacterium   Blautia  Fusicatenibacter  Eubacterium  Streptococcus  \\\n",
       "0            0.003458  0.012251          0.003926     0.010205       0.002213   \n",
       "1            0.013538  0.065136          0.013155     0.022842       0.002657   \n",
       "2            0.035044  0.005262          0.000000     0.000982       0.001553   \n",
       "3            0.021353  0.054338          0.058830     0.011397       0.000315   \n",
       "4            0.059164  0.035767          0.018563     0.030226       0.001682   \n",
       "\n",
       "taxa  ...  Kosakonia  Paeniclostridium  Eikenella  Actinotignum  Muribaculum  \\\n",
       "0     ...        0.0               0.0        0.0           0.0          0.0   \n",
       "1     ...        0.0               0.0        0.0           0.0          0.0   \n",
       "2     ...        0.0               0.0        0.0           0.0          0.0   \n",
       "3     ...        0.0               0.0        0.0           0.0          0.0   \n",
       "4     ...        0.0               0.0        0.0           0.0          0.0   \n",
       "\n",
       "taxa  Cellulosilyticum  Delftia  UNCLASSIFIED              uid  method  \n",
       "0                  0.0      0.0      0.025643  C0348-3F-1A-mgx     mgx  \n",
       "1                  0.0      0.0      0.041141  C0623-1F-1A-mgx     mgx  \n",
       "2                  0.0      0.0      0.006700  C0259-3F-1A-mgx     mgx  \n",
       "3                  0.0      0.0      0.024064  C0055-3F-1A-mgx     mgx  \n",
       "4                  0.0      0.0      0.189524  C0126-8F-1B-mgx     mgx  \n",
       "\n",
       "[5 rows x 188 columns]"
      ]
     },
     "execution_count": 74,
     "metadata": {},
     "output_type": "execute_result"
    }
   ],
   "source": [
    "mgx_trans.head()"
   ]
  },
  {
   "cell_type": "code",
   "execution_count": 75,
   "metadata": {},
   "outputs": [],
   "source": [
    "concat_df = pd.concat([mgx_trans,amp_trans], sort=True).reset_index(drop = True)"
   ]
  },
  {
   "cell_type": "code",
   "execution_count": 76,
   "metadata": {},
   "outputs": [],
   "source": [
    "concat_df.fillna(0, inplace=True)"
   ]
  },
  {
   "cell_type": "code",
   "execution_count": 77,
   "metadata": {},
   "outputs": [
    {
     "data": {
      "text/html": [
       "<div>\n",
       "<style scoped>\n",
       "    .dataframe tbody tr th:only-of-type {\n",
       "        vertical-align: middle;\n",
       "    }\n",
       "\n",
       "    .dataframe tbody tr th {\n",
       "        vertical-align: top;\n",
       "    }\n",
       "\n",
       "    .dataframe thead th {\n",
       "        text-align: right;\n",
       "    }\n",
       "</style>\n",
       "<table border=\"1\" class=\"dataframe\">\n",
       "  <thead>\n",
       "    <tr style=\"text-align: right;\">\n",
       "      <th></th>\n",
       "      <th>Abditibacterium</th>\n",
       "      <th>Abiotrophia</th>\n",
       "      <th>Absiella</th>\n",
       "      <th>Acanthis</th>\n",
       "      <th>Acetanaerobacterium</th>\n",
       "      <th>Acetobacter</th>\n",
       "      <th>Achromobacter</th>\n",
       "      <th>Acidaminococcus</th>\n",
       "      <th>Acidibacter</th>\n",
       "      <th>Acidipila</th>\n",
       "      <th>...</th>\n",
       "      <th>Winogradskyella</th>\n",
       "      <th>Woesearchaeales</th>\n",
       "      <th>Woeseia</th>\n",
       "      <th>Yoonia-Loktanella</th>\n",
       "      <th>Yueomyces</th>\n",
       "      <th>Zavarzinella</th>\n",
       "      <th>Zixibacteria</th>\n",
       "      <th>method</th>\n",
       "      <th>sampleid</th>\n",
       "      <th>uid</th>\n",
       "    </tr>\n",
       "  </thead>\n",
       "  <tbody>\n",
       "    <tr>\n",
       "      <th>0</th>\n",
       "      <td>0.0</td>\n",
       "      <td>0.0</td>\n",
       "      <td>0.000000</td>\n",
       "      <td>0.0</td>\n",
       "      <td>0.000000</td>\n",
       "      <td>0.0</td>\n",
       "      <td>0.0</td>\n",
       "      <td>0.000000</td>\n",
       "      <td>0.0</td>\n",
       "      <td>0.0</td>\n",
       "      <td>...</td>\n",
       "      <td>0.00000</td>\n",
       "      <td>0.0</td>\n",
       "      <td>0.0</td>\n",
       "      <td>0.0</td>\n",
       "      <td>0.0</td>\n",
       "      <td>0.0</td>\n",
       "      <td>0.0</td>\n",
       "      <td>mgx</td>\n",
       "      <td>C0348-3F-1A</td>\n",
       "      <td>C0348-3F-1A-mgx</td>\n",
       "    </tr>\n",
       "    <tr>\n",
       "      <th>1</th>\n",
       "      <td>0.0</td>\n",
       "      <td>0.0</td>\n",
       "      <td>0.000000</td>\n",
       "      <td>0.0</td>\n",
       "      <td>0.000000</td>\n",
       "      <td>0.0</td>\n",
       "      <td>0.0</td>\n",
       "      <td>0.000000</td>\n",
       "      <td>0.0</td>\n",
       "      <td>0.0</td>\n",
       "      <td>...</td>\n",
       "      <td>0.00000</td>\n",
       "      <td>0.0</td>\n",
       "      <td>0.0</td>\n",
       "      <td>0.0</td>\n",
       "      <td>0.0</td>\n",
       "      <td>0.0</td>\n",
       "      <td>0.0</td>\n",
       "      <td>mgx</td>\n",
       "      <td>C0623-1F-1A</td>\n",
       "      <td>C0623-1F-1A-mgx</td>\n",
       "    </tr>\n",
       "    <tr>\n",
       "      <th>2</th>\n",
       "      <td>0.0</td>\n",
       "      <td>0.0</td>\n",
       "      <td>0.000000</td>\n",
       "      <td>0.0</td>\n",
       "      <td>0.000000</td>\n",
       "      <td>0.0</td>\n",
       "      <td>0.0</td>\n",
       "      <td>0.000000</td>\n",
       "      <td>0.0</td>\n",
       "      <td>0.0</td>\n",
       "      <td>...</td>\n",
       "      <td>0.00000</td>\n",
       "      <td>0.0</td>\n",
       "      <td>0.0</td>\n",
       "      <td>0.0</td>\n",
       "      <td>0.0</td>\n",
       "      <td>0.0</td>\n",
       "      <td>0.0</td>\n",
       "      <td>mgx</td>\n",
       "      <td>C0259-3F-1A</td>\n",
       "      <td>C0259-3F-1A-mgx</td>\n",
       "    </tr>\n",
       "    <tr>\n",
       "      <th>3</th>\n",
       "      <td>0.0</td>\n",
       "      <td>0.0</td>\n",
       "      <td>0.000000</td>\n",
       "      <td>0.0</td>\n",
       "      <td>0.000000</td>\n",
       "      <td>0.0</td>\n",
       "      <td>0.0</td>\n",
       "      <td>0.000000</td>\n",
       "      <td>0.0</td>\n",
       "      <td>0.0</td>\n",
       "      <td>...</td>\n",
       "      <td>0.00000</td>\n",
       "      <td>0.0</td>\n",
       "      <td>0.0</td>\n",
       "      <td>0.0</td>\n",
       "      <td>0.0</td>\n",
       "      <td>0.0</td>\n",
       "      <td>0.0</td>\n",
       "      <td>mgx</td>\n",
       "      <td>C0055-3F-1A</td>\n",
       "      <td>C0055-3F-1A-mgx</td>\n",
       "    </tr>\n",
       "    <tr>\n",
       "      <th>4</th>\n",
       "      <td>0.0</td>\n",
       "      <td>0.0</td>\n",
       "      <td>0.000000</td>\n",
       "      <td>0.0</td>\n",
       "      <td>0.000000</td>\n",
       "      <td>0.0</td>\n",
       "      <td>0.0</td>\n",
       "      <td>0.000000</td>\n",
       "      <td>0.0</td>\n",
       "      <td>0.0</td>\n",
       "      <td>...</td>\n",
       "      <td>0.00000</td>\n",
       "      <td>0.0</td>\n",
       "      <td>0.0</td>\n",
       "      <td>0.0</td>\n",
       "      <td>0.0</td>\n",
       "      <td>0.0</td>\n",
       "      <td>0.0</td>\n",
       "      <td>mgx</td>\n",
       "      <td>C0126-8F-1B</td>\n",
       "      <td>C0126-8F-1B-mgx</td>\n",
       "    </tr>\n",
       "    <tr>\n",
       "      <th>5</th>\n",
       "      <td>0.0</td>\n",
       "      <td>0.0</td>\n",
       "      <td>0.000000</td>\n",
       "      <td>0.0</td>\n",
       "      <td>0.000000</td>\n",
       "      <td>0.0</td>\n",
       "      <td>0.0</td>\n",
       "      <td>0.000000</td>\n",
       "      <td>0.0</td>\n",
       "      <td>0.0</td>\n",
       "      <td>...</td>\n",
       "      <td>0.00000</td>\n",
       "      <td>0.0</td>\n",
       "      <td>0.0</td>\n",
       "      <td>0.0</td>\n",
       "      <td>0.0</td>\n",
       "      <td>0.0</td>\n",
       "      <td>0.0</td>\n",
       "      <td>mgx</td>\n",
       "      <td>C2018-4F-1A</td>\n",
       "      <td>C2018-4F-1A-mgx</td>\n",
       "    </tr>\n",
       "    <tr>\n",
       "      <th>6</th>\n",
       "      <td>0.0</td>\n",
       "      <td>0.0</td>\n",
       "      <td>0.000000</td>\n",
       "      <td>0.0</td>\n",
       "      <td>0.000000</td>\n",
       "      <td>0.0</td>\n",
       "      <td>0.0</td>\n",
       "      <td>0.000000</td>\n",
       "      <td>0.0</td>\n",
       "      <td>0.0</td>\n",
       "      <td>...</td>\n",
       "      <td>0.00000</td>\n",
       "      <td>0.0</td>\n",
       "      <td>0.0</td>\n",
       "      <td>0.0</td>\n",
       "      <td>0.0</td>\n",
       "      <td>0.0</td>\n",
       "      <td>0.0</td>\n",
       "      <td>mgx</td>\n",
       "      <td>C0189-5F-1A</td>\n",
       "      <td>C0189-5F-1A-mgx</td>\n",
       "    </tr>\n",
       "    <tr>\n",
       "      <th>7</th>\n",
       "      <td>0.0</td>\n",
       "      <td>0.0</td>\n",
       "      <td>0.000000</td>\n",
       "      <td>0.0</td>\n",
       "      <td>0.000000</td>\n",
       "      <td>0.0</td>\n",
       "      <td>0.0</td>\n",
       "      <td>0.000000</td>\n",
       "      <td>0.0</td>\n",
       "      <td>0.0</td>\n",
       "      <td>...</td>\n",
       "      <td>0.00000</td>\n",
       "      <td>0.0</td>\n",
       "      <td>0.0</td>\n",
       "      <td>0.0</td>\n",
       "      <td>0.0</td>\n",
       "      <td>0.0</td>\n",
       "      <td>0.0</td>\n",
       "      <td>mgx</td>\n",
       "      <td>C1243-1F-1A</td>\n",
       "      <td>C1243-1F-1A-mgx</td>\n",
       "    </tr>\n",
       "    <tr>\n",
       "      <th>8</th>\n",
       "      <td>0.0</td>\n",
       "      <td>0.0</td>\n",
       "      <td>0.000000</td>\n",
       "      <td>0.0</td>\n",
       "      <td>0.000000</td>\n",
       "      <td>0.0</td>\n",
       "      <td>0.0</td>\n",
       "      <td>0.000000</td>\n",
       "      <td>0.0</td>\n",
       "      <td>0.0</td>\n",
       "      <td>...</td>\n",
       "      <td>0.00000</td>\n",
       "      <td>0.0</td>\n",
       "      <td>0.0</td>\n",
       "      <td>0.0</td>\n",
       "      <td>0.0</td>\n",
       "      <td>0.0</td>\n",
       "      <td>0.0</td>\n",
       "      <td>mgx</td>\n",
       "      <td>C0627-1F-1A</td>\n",
       "      <td>C0627-1F-1A-mgx</td>\n",
       "    </tr>\n",
       "    <tr>\n",
       "      <th>9</th>\n",
       "      <td>0.0</td>\n",
       "      <td>0.0</td>\n",
       "      <td>0.000000</td>\n",
       "      <td>0.0</td>\n",
       "      <td>0.000000</td>\n",
       "      <td>0.0</td>\n",
       "      <td>0.0</td>\n",
       "      <td>0.000000</td>\n",
       "      <td>0.0</td>\n",
       "      <td>0.0</td>\n",
       "      <td>...</td>\n",
       "      <td>0.00000</td>\n",
       "      <td>0.0</td>\n",
       "      <td>0.0</td>\n",
       "      <td>0.0</td>\n",
       "      <td>0.0</td>\n",
       "      <td>0.0</td>\n",
       "      <td>0.0</td>\n",
       "      <td>mgx</td>\n",
       "      <td>C0863-4F-1A</td>\n",
       "      <td>C0863-4F-1A-mgx</td>\n",
       "    </tr>\n",
       "    <tr>\n",
       "      <th>10</th>\n",
       "      <td>0.0</td>\n",
       "      <td>0.0</td>\n",
       "      <td>0.000000</td>\n",
       "      <td>0.0</td>\n",
       "      <td>0.000000</td>\n",
       "      <td>0.0</td>\n",
       "      <td>0.0</td>\n",
       "      <td>0.000000</td>\n",
       "      <td>0.0</td>\n",
       "      <td>0.0</td>\n",
       "      <td>...</td>\n",
       "      <td>0.00000</td>\n",
       "      <td>0.0</td>\n",
       "      <td>0.0</td>\n",
       "      <td>0.0</td>\n",
       "      <td>0.0</td>\n",
       "      <td>0.0</td>\n",
       "      <td>0.0</td>\n",
       "      <td>mgx</td>\n",
       "      <td>C0754-4F-1A</td>\n",
       "      <td>C0754-4F-1A-mgx</td>\n",
       "    </tr>\n",
       "    <tr>\n",
       "      <th>11</th>\n",
       "      <td>0.0</td>\n",
       "      <td>0.0</td>\n",
       "      <td>0.000000</td>\n",
       "      <td>0.0</td>\n",
       "      <td>0.000000</td>\n",
       "      <td>0.0</td>\n",
       "      <td>0.0</td>\n",
       "      <td>0.000000</td>\n",
       "      <td>0.0</td>\n",
       "      <td>0.0</td>\n",
       "      <td>...</td>\n",
       "      <td>0.00000</td>\n",
       "      <td>0.0</td>\n",
       "      <td>0.0</td>\n",
       "      <td>0.0</td>\n",
       "      <td>0.0</td>\n",
       "      <td>0.0</td>\n",
       "      <td>0.0</td>\n",
       "      <td>mgx</td>\n",
       "      <td>C0159-5F-1A</td>\n",
       "      <td>C0159-5F-1A-mgx</td>\n",
       "    </tr>\n",
       "    <tr>\n",
       "      <th>12</th>\n",
       "      <td>0.0</td>\n",
       "      <td>0.0</td>\n",
       "      <td>0.000000</td>\n",
       "      <td>0.0</td>\n",
       "      <td>0.000000</td>\n",
       "      <td>0.0</td>\n",
       "      <td>0.0</td>\n",
       "      <td>0.000000</td>\n",
       "      <td>0.0</td>\n",
       "      <td>0.0</td>\n",
       "      <td>...</td>\n",
       "      <td>0.00000</td>\n",
       "      <td>0.0</td>\n",
       "      <td>0.0</td>\n",
       "      <td>0.0</td>\n",
       "      <td>0.0</td>\n",
       "      <td>0.0</td>\n",
       "      <td>0.0</td>\n",
       "      <td>mgx</td>\n",
       "      <td>C0530-3F-1A</td>\n",
       "      <td>C0530-3F-1A-mgx</td>\n",
       "    </tr>\n",
       "    <tr>\n",
       "      <th>13</th>\n",
       "      <td>0.0</td>\n",
       "      <td>0.0</td>\n",
       "      <td>0.000000</td>\n",
       "      <td>0.0</td>\n",
       "      <td>0.000000</td>\n",
       "      <td>0.0</td>\n",
       "      <td>0.0</td>\n",
       "      <td>0.000000</td>\n",
       "      <td>0.0</td>\n",
       "      <td>0.0</td>\n",
       "      <td>...</td>\n",
       "      <td>0.00000</td>\n",
       "      <td>0.0</td>\n",
       "      <td>0.0</td>\n",
       "      <td>0.0</td>\n",
       "      <td>0.0</td>\n",
       "      <td>0.0</td>\n",
       "      <td>0.0</td>\n",
       "      <td>mgx</td>\n",
       "      <td>C1271-4F-1A</td>\n",
       "      <td>C1271-4F-1A-mgx</td>\n",
       "    </tr>\n",
       "    <tr>\n",
       "      <th>14</th>\n",
       "      <td>0.0</td>\n",
       "      <td>0.0</td>\n",
       "      <td>0.000000</td>\n",
       "      <td>0.0</td>\n",
       "      <td>0.000000</td>\n",
       "      <td>0.0</td>\n",
       "      <td>0.0</td>\n",
       "      <td>0.000000</td>\n",
       "      <td>0.0</td>\n",
       "      <td>0.0</td>\n",
       "      <td>...</td>\n",
       "      <td>0.00000</td>\n",
       "      <td>0.0</td>\n",
       "      <td>0.0</td>\n",
       "      <td>0.0</td>\n",
       "      <td>0.0</td>\n",
       "      <td>0.0</td>\n",
       "      <td>0.0</td>\n",
       "      <td>mgx</td>\n",
       "      <td>C1015-3F-1A</td>\n",
       "      <td>C1015-3F-1A-mgx</td>\n",
       "    </tr>\n",
       "    <tr>\n",
       "      <th>15</th>\n",
       "      <td>0.0</td>\n",
       "      <td>0.0</td>\n",
       "      <td>0.000000</td>\n",
       "      <td>0.0</td>\n",
       "      <td>0.000000</td>\n",
       "      <td>0.0</td>\n",
       "      <td>0.0</td>\n",
       "      <td>0.000000</td>\n",
       "      <td>0.0</td>\n",
       "      <td>0.0</td>\n",
       "      <td>...</td>\n",
       "      <td>0.00000</td>\n",
       "      <td>0.0</td>\n",
       "      <td>0.0</td>\n",
       "      <td>0.0</td>\n",
       "      <td>0.0</td>\n",
       "      <td>0.0</td>\n",
       "      <td>0.0</td>\n",
       "      <td>mgx</td>\n",
       "      <td>C1089-1F-1A</td>\n",
       "      <td>C1089-1F-1A-mgx</td>\n",
       "    </tr>\n",
       "    <tr>\n",
       "      <th>16</th>\n",
       "      <td>0.0</td>\n",
       "      <td>0.0</td>\n",
       "      <td>0.000000</td>\n",
       "      <td>0.0</td>\n",
       "      <td>0.000000</td>\n",
       "      <td>0.0</td>\n",
       "      <td>0.0</td>\n",
       "      <td>0.000000</td>\n",
       "      <td>0.0</td>\n",
       "      <td>0.0</td>\n",
       "      <td>...</td>\n",
       "      <td>0.00000</td>\n",
       "      <td>0.0</td>\n",
       "      <td>0.0</td>\n",
       "      <td>0.0</td>\n",
       "      <td>0.0</td>\n",
       "      <td>0.0</td>\n",
       "      <td>0.0</td>\n",
       "      <td>mgx</td>\n",
       "      <td>C0788-2F-1A</td>\n",
       "      <td>C0788-2F-1A-mgx</td>\n",
       "    </tr>\n",
       "    <tr>\n",
       "      <th>17</th>\n",
       "      <td>0.0</td>\n",
       "      <td>0.0</td>\n",
       "      <td>0.000000</td>\n",
       "      <td>0.0</td>\n",
       "      <td>0.000000</td>\n",
       "      <td>0.0</td>\n",
       "      <td>0.0</td>\n",
       "      <td>0.000000</td>\n",
       "      <td>0.0</td>\n",
       "      <td>0.0</td>\n",
       "      <td>...</td>\n",
       "      <td>0.00000</td>\n",
       "      <td>0.0</td>\n",
       "      <td>0.0</td>\n",
       "      <td>0.0</td>\n",
       "      <td>0.0</td>\n",
       "      <td>0.0</td>\n",
       "      <td>0.0</td>\n",
       "      <td>mgx</td>\n",
       "      <td>C0660-1E-1A</td>\n",
       "      <td>C0660-1E-1A-mgx</td>\n",
       "    </tr>\n",
       "    <tr>\n",
       "      <th>18</th>\n",
       "      <td>0.0</td>\n",
       "      <td>0.0</td>\n",
       "      <td>0.000000</td>\n",
       "      <td>0.0</td>\n",
       "      <td>0.000000</td>\n",
       "      <td>0.0</td>\n",
       "      <td>0.0</td>\n",
       "      <td>0.000000</td>\n",
       "      <td>0.0</td>\n",
       "      <td>0.0</td>\n",
       "      <td>...</td>\n",
       "      <td>0.00000</td>\n",
       "      <td>0.0</td>\n",
       "      <td>0.0</td>\n",
       "      <td>0.0</td>\n",
       "      <td>0.0</td>\n",
       "      <td>0.0</td>\n",
       "      <td>0.0</td>\n",
       "      <td>mgx</td>\n",
       "      <td>C0403-3F-1A</td>\n",
       "      <td>C0403-3F-1A-mgx</td>\n",
       "    </tr>\n",
       "    <tr>\n",
       "      <th>19</th>\n",
       "      <td>0.0</td>\n",
       "      <td>0.0</td>\n",
       "      <td>0.000000</td>\n",
       "      <td>0.0</td>\n",
       "      <td>0.000000</td>\n",
       "      <td>0.0</td>\n",
       "      <td>0.0</td>\n",
       "      <td>0.000000</td>\n",
       "      <td>0.0</td>\n",
       "      <td>0.0</td>\n",
       "      <td>...</td>\n",
       "      <td>0.00000</td>\n",
       "      <td>0.0</td>\n",
       "      <td>0.0</td>\n",
       "      <td>0.0</td>\n",
       "      <td>0.0</td>\n",
       "      <td>0.0</td>\n",
       "      <td>0.0</td>\n",
       "      <td>mgx</td>\n",
       "      <td>C0082-5F-1A</td>\n",
       "      <td>C0082-5F-1A-mgx</td>\n",
       "    </tr>\n",
       "    <tr>\n",
       "      <th>20</th>\n",
       "      <td>0.0</td>\n",
       "      <td>0.0</td>\n",
       "      <td>0.000000</td>\n",
       "      <td>0.0</td>\n",
       "      <td>0.000000</td>\n",
       "      <td>0.0</td>\n",
       "      <td>0.0</td>\n",
       "      <td>0.000000</td>\n",
       "      <td>0.0</td>\n",
       "      <td>0.0</td>\n",
       "      <td>...</td>\n",
       "      <td>0.00000</td>\n",
       "      <td>0.0</td>\n",
       "      <td>0.0</td>\n",
       "      <td>0.0</td>\n",
       "      <td>0.0</td>\n",
       "      <td>0.0</td>\n",
       "      <td>0.0</td>\n",
       "      <td>mgx</td>\n",
       "      <td>C0067-6F-1A</td>\n",
       "      <td>C0067-6F-1A-mgx</td>\n",
       "    </tr>\n",
       "    <tr>\n",
       "      <th>21</th>\n",
       "      <td>0.0</td>\n",
       "      <td>0.0</td>\n",
       "      <td>0.000000</td>\n",
       "      <td>0.0</td>\n",
       "      <td>0.000000</td>\n",
       "      <td>0.0</td>\n",
       "      <td>0.0</td>\n",
       "      <td>0.000000</td>\n",
       "      <td>0.0</td>\n",
       "      <td>0.0</td>\n",
       "      <td>...</td>\n",
       "      <td>0.00000</td>\n",
       "      <td>0.0</td>\n",
       "      <td>0.0</td>\n",
       "      <td>0.0</td>\n",
       "      <td>0.0</td>\n",
       "      <td>0.0</td>\n",
       "      <td>0.0</td>\n",
       "      <td>mgx</td>\n",
       "      <td>C0603-1F-1A</td>\n",
       "      <td>C0603-1F-1A-mgx</td>\n",
       "    </tr>\n",
       "    <tr>\n",
       "      <th>22</th>\n",
       "      <td>0.0</td>\n",
       "      <td>0.0</td>\n",
       "      <td>0.000000</td>\n",
       "      <td>0.0</td>\n",
       "      <td>0.000000</td>\n",
       "      <td>0.0</td>\n",
       "      <td>0.0</td>\n",
       "      <td>0.000000</td>\n",
       "      <td>0.0</td>\n",
       "      <td>0.0</td>\n",
       "      <td>...</td>\n",
       "      <td>0.00000</td>\n",
       "      <td>0.0</td>\n",
       "      <td>0.0</td>\n",
       "      <td>0.0</td>\n",
       "      <td>0.0</td>\n",
       "      <td>0.0</td>\n",
       "      <td>0.0</td>\n",
       "      <td>mgx</td>\n",
       "      <td>C0511-2F-1A</td>\n",
       "      <td>C0511-2F-1A-mgx</td>\n",
       "    </tr>\n",
       "    <tr>\n",
       "      <th>23</th>\n",
       "      <td>0.0</td>\n",
       "      <td>0.0</td>\n",
       "      <td>0.000000</td>\n",
       "      <td>0.0</td>\n",
       "      <td>0.000000</td>\n",
       "      <td>0.0</td>\n",
       "      <td>0.0</td>\n",
       "      <td>0.000000</td>\n",
       "      <td>0.0</td>\n",
       "      <td>0.0</td>\n",
       "      <td>...</td>\n",
       "      <td>0.00000</td>\n",
       "      <td>0.0</td>\n",
       "      <td>0.0</td>\n",
       "      <td>0.0</td>\n",
       "      <td>0.0</td>\n",
       "      <td>0.0</td>\n",
       "      <td>0.0</td>\n",
       "      <td>mgx</td>\n",
       "      <td>C0470-3F-1A</td>\n",
       "      <td>C0470-3F-1A-mgx</td>\n",
       "    </tr>\n",
       "    <tr>\n",
       "      <th>24</th>\n",
       "      <td>0.0</td>\n",
       "      <td>0.0</td>\n",
       "      <td>0.000000</td>\n",
       "      <td>0.0</td>\n",
       "      <td>0.000000</td>\n",
       "      <td>0.0</td>\n",
       "      <td>0.0</td>\n",
       "      <td>0.000000</td>\n",
       "      <td>0.0</td>\n",
       "      <td>0.0</td>\n",
       "      <td>...</td>\n",
       "      <td>0.00000</td>\n",
       "      <td>0.0</td>\n",
       "      <td>0.0</td>\n",
       "      <td>0.0</td>\n",
       "      <td>0.0</td>\n",
       "      <td>0.0</td>\n",
       "      <td>0.0</td>\n",
       "      <td>mgx</td>\n",
       "      <td>C0752-4F-1A</td>\n",
       "      <td>C0752-4F-1A-mgx</td>\n",
       "    </tr>\n",
       "    <tr>\n",
       "      <th>25</th>\n",
       "      <td>0.0</td>\n",
       "      <td>0.0</td>\n",
       "      <td>0.000000</td>\n",
       "      <td>0.0</td>\n",
       "      <td>0.000000</td>\n",
       "      <td>0.0</td>\n",
       "      <td>0.0</td>\n",
       "      <td>0.000000</td>\n",
       "      <td>0.0</td>\n",
       "      <td>0.0</td>\n",
       "      <td>...</td>\n",
       "      <td>0.00000</td>\n",
       "      <td>0.0</td>\n",
       "      <td>0.0</td>\n",
       "      <td>0.0</td>\n",
       "      <td>0.0</td>\n",
       "      <td>0.0</td>\n",
       "      <td>0.0</td>\n",
       "      <td>mgx</td>\n",
       "      <td>C0821-5F-1A</td>\n",
       "      <td>C0821-5F-1A-mgx</td>\n",
       "    </tr>\n",
       "    <tr>\n",
       "      <th>26</th>\n",
       "      <td>0.0</td>\n",
       "      <td>0.0</td>\n",
       "      <td>0.000000</td>\n",
       "      <td>0.0</td>\n",
       "      <td>0.000000</td>\n",
       "      <td>0.0</td>\n",
       "      <td>0.0</td>\n",
       "      <td>0.000000</td>\n",
       "      <td>0.0</td>\n",
       "      <td>0.0</td>\n",
       "      <td>...</td>\n",
       "      <td>0.00000</td>\n",
       "      <td>0.0</td>\n",
       "      <td>0.0</td>\n",
       "      <td>0.0</td>\n",
       "      <td>0.0</td>\n",
       "      <td>0.0</td>\n",
       "      <td>0.0</td>\n",
       "      <td>mgx</td>\n",
       "      <td>C0461-4F-1A</td>\n",
       "      <td>C0461-4F-1A-mgx</td>\n",
       "    </tr>\n",
       "    <tr>\n",
       "      <th>27</th>\n",
       "      <td>0.0</td>\n",
       "      <td>0.0</td>\n",
       "      <td>0.000000</td>\n",
       "      <td>0.0</td>\n",
       "      <td>0.000000</td>\n",
       "      <td>0.0</td>\n",
       "      <td>0.0</td>\n",
       "      <td>0.000000</td>\n",
       "      <td>0.0</td>\n",
       "      <td>0.0</td>\n",
       "      <td>...</td>\n",
       "      <td>0.00000</td>\n",
       "      <td>0.0</td>\n",
       "      <td>0.0</td>\n",
       "      <td>0.0</td>\n",
       "      <td>0.0</td>\n",
       "      <td>0.0</td>\n",
       "      <td>0.0</td>\n",
       "      <td>mgx</td>\n",
       "      <td>C0827-1F-1A</td>\n",
       "      <td>C0827-1F-1A-mgx</td>\n",
       "    </tr>\n",
       "    <tr>\n",
       "      <th>28</th>\n",
       "      <td>0.0</td>\n",
       "      <td>0.0</td>\n",
       "      <td>0.000000</td>\n",
       "      <td>0.0</td>\n",
       "      <td>0.000000</td>\n",
       "      <td>0.0</td>\n",
       "      <td>0.0</td>\n",
       "      <td>0.000000</td>\n",
       "      <td>0.0</td>\n",
       "      <td>0.0</td>\n",
       "      <td>...</td>\n",
       "      <td>0.00000</td>\n",
       "      <td>0.0</td>\n",
       "      <td>0.0</td>\n",
       "      <td>0.0</td>\n",
       "      <td>0.0</td>\n",
       "      <td>0.0</td>\n",
       "      <td>0.0</td>\n",
       "      <td>mgx</td>\n",
       "      <td>C0860-1F-1A</td>\n",
       "      <td>C0860-1F-1A-mgx</td>\n",
       "    </tr>\n",
       "    <tr>\n",
       "      <th>29</th>\n",
       "      <td>0.0</td>\n",
       "      <td>0.0</td>\n",
       "      <td>0.000000</td>\n",
       "      <td>0.0</td>\n",
       "      <td>0.000000</td>\n",
       "      <td>0.0</td>\n",
       "      <td>0.0</td>\n",
       "      <td>0.000000</td>\n",
       "      <td>0.0</td>\n",
       "      <td>0.0</td>\n",
       "      <td>...</td>\n",
       "      <td>0.00000</td>\n",
       "      <td>0.0</td>\n",
       "      <td>0.0</td>\n",
       "      <td>0.0</td>\n",
       "      <td>0.0</td>\n",
       "      <td>0.0</td>\n",
       "      <td>0.0</td>\n",
       "      <td>mgx</td>\n",
       "      <td>C0369-4F-1A</td>\n",
       "      <td>C0369-4F-1A-mgx</td>\n",
       "    </tr>\n",
       "    <tr>\n",
       "      <th>...</th>\n",
       "      <td>...</td>\n",
       "      <td>...</td>\n",
       "      <td>...</td>\n",
       "      <td>...</td>\n",
       "      <td>...</td>\n",
       "      <td>...</td>\n",
       "      <td>...</td>\n",
       "      <td>...</td>\n",
       "      <td>...</td>\n",
       "      <td>...</td>\n",
       "      <td>...</td>\n",
       "      <td>...</td>\n",
       "      <td>...</td>\n",
       "      <td>...</td>\n",
       "      <td>...</td>\n",
       "      <td>...</td>\n",
       "      <td>...</td>\n",
       "      <td>...</td>\n",
       "      <td>...</td>\n",
       "      <td>...</td>\n",
       "      <td>...</td>\n",
       "    </tr>\n",
       "    <tr>\n",
       "      <th>656</th>\n",
       "      <td>0.0</td>\n",
       "      <td>0.0</td>\n",
       "      <td>0.000000</td>\n",
       "      <td>0.0</td>\n",
       "      <td>0.000000</td>\n",
       "      <td>0.0</td>\n",
       "      <td>0.0</td>\n",
       "      <td>0.000000</td>\n",
       "      <td>0.0</td>\n",
       "      <td>0.0</td>\n",
       "      <td>...</td>\n",
       "      <td>0.00000</td>\n",
       "      <td>0.0</td>\n",
       "      <td>0.0</td>\n",
       "      <td>0.0</td>\n",
       "      <td>0.0</td>\n",
       "      <td>0.0</td>\n",
       "      <td>0.0</td>\n",
       "      <td>amp</td>\n",
       "      <td>C0611-1F-1A</td>\n",
       "      <td>C0611-1F-1A-amp</td>\n",
       "    </tr>\n",
       "    <tr>\n",
       "      <th>657</th>\n",
       "      <td>0.0</td>\n",
       "      <td>0.0</td>\n",
       "      <td>0.000000</td>\n",
       "      <td>0.0</td>\n",
       "      <td>0.000000</td>\n",
       "      <td>0.0</td>\n",
       "      <td>0.0</td>\n",
       "      <td>0.000000</td>\n",
       "      <td>0.0</td>\n",
       "      <td>0.0</td>\n",
       "      <td>...</td>\n",
       "      <td>0.00000</td>\n",
       "      <td>0.0</td>\n",
       "      <td>0.0</td>\n",
       "      <td>0.0</td>\n",
       "      <td>0.0</td>\n",
       "      <td>0.0</td>\n",
       "      <td>0.0</td>\n",
       "      <td>amp</td>\n",
       "      <td>C0620-1F-1A</td>\n",
       "      <td>C0620-1F-1A-amp</td>\n",
       "    </tr>\n",
       "    <tr>\n",
       "      <th>658</th>\n",
       "      <td>0.0</td>\n",
       "      <td>0.0</td>\n",
       "      <td>0.000000</td>\n",
       "      <td>0.0</td>\n",
       "      <td>0.000000</td>\n",
       "      <td>0.0</td>\n",
       "      <td>0.0</td>\n",
       "      <td>0.000000</td>\n",
       "      <td>0.0</td>\n",
       "      <td>0.0</td>\n",
       "      <td>...</td>\n",
       "      <td>0.00000</td>\n",
       "      <td>0.0</td>\n",
       "      <td>0.0</td>\n",
       "      <td>0.0</td>\n",
       "      <td>0.0</td>\n",
       "      <td>0.0</td>\n",
       "      <td>0.0</td>\n",
       "      <td>amp</td>\n",
       "      <td>C0612-2F-1A</td>\n",
       "      <td>C0612-2F-1A-amp</td>\n",
       "    </tr>\n",
       "    <tr>\n",
       "      <th>659</th>\n",
       "      <td>0.0</td>\n",
       "      <td>0.0</td>\n",
       "      <td>0.000000</td>\n",
       "      <td>0.0</td>\n",
       "      <td>0.000000</td>\n",
       "      <td>0.0</td>\n",
       "      <td>0.0</td>\n",
       "      <td>0.000000</td>\n",
       "      <td>0.0</td>\n",
       "      <td>0.0</td>\n",
       "      <td>...</td>\n",
       "      <td>0.00000</td>\n",
       "      <td>0.0</td>\n",
       "      <td>0.0</td>\n",
       "      <td>0.0</td>\n",
       "      <td>0.0</td>\n",
       "      <td>0.0</td>\n",
       "      <td>0.0</td>\n",
       "      <td>amp</td>\n",
       "      <td>C0592-1F-1A</td>\n",
       "      <td>C0592-1F-1A-amp</td>\n",
       "    </tr>\n",
       "    <tr>\n",
       "      <th>660</th>\n",
       "      <td>0.0</td>\n",
       "      <td>0.0</td>\n",
       "      <td>0.000000</td>\n",
       "      <td>0.0</td>\n",
       "      <td>0.000000</td>\n",
       "      <td>0.0</td>\n",
       "      <td>0.0</td>\n",
       "      <td>0.000000</td>\n",
       "      <td>0.0</td>\n",
       "      <td>0.0</td>\n",
       "      <td>...</td>\n",
       "      <td>0.00000</td>\n",
       "      <td>0.0</td>\n",
       "      <td>0.0</td>\n",
       "      <td>0.0</td>\n",
       "      <td>0.0</td>\n",
       "      <td>0.0</td>\n",
       "      <td>0.0</td>\n",
       "      <td>amp</td>\n",
       "      <td>C0404-3F-1A</td>\n",
       "      <td>C0404-3F-1A-amp</td>\n",
       "    </tr>\n",
       "    <tr>\n",
       "      <th>661</th>\n",
       "      <td>0.0</td>\n",
       "      <td>0.0</td>\n",
       "      <td>0.000000</td>\n",
       "      <td>0.0</td>\n",
       "      <td>0.000000</td>\n",
       "      <td>0.0</td>\n",
       "      <td>0.0</td>\n",
       "      <td>0.001325</td>\n",
       "      <td>0.0</td>\n",
       "      <td>0.0</td>\n",
       "      <td>...</td>\n",
       "      <td>0.00000</td>\n",
       "      <td>0.0</td>\n",
       "      <td>0.0</td>\n",
       "      <td>0.0</td>\n",
       "      <td>0.0</td>\n",
       "      <td>0.0</td>\n",
       "      <td>0.0</td>\n",
       "      <td>amp</td>\n",
       "      <td>C0802-1F-1A</td>\n",
       "      <td>C0802-1F-1A-amp</td>\n",
       "    </tr>\n",
       "    <tr>\n",
       "      <th>662</th>\n",
       "      <td>0.0</td>\n",
       "      <td>0.0</td>\n",
       "      <td>0.000000</td>\n",
       "      <td>0.0</td>\n",
       "      <td>0.000000</td>\n",
       "      <td>0.0</td>\n",
       "      <td>0.0</td>\n",
       "      <td>0.000000</td>\n",
       "      <td>0.0</td>\n",
       "      <td>0.0</td>\n",
       "      <td>...</td>\n",
       "      <td>0.00000</td>\n",
       "      <td>0.0</td>\n",
       "      <td>0.0</td>\n",
       "      <td>0.0</td>\n",
       "      <td>0.0</td>\n",
       "      <td>0.0</td>\n",
       "      <td>0.0</td>\n",
       "      <td>amp</td>\n",
       "      <td>C0132-4F-1A</td>\n",
       "      <td>C0132-4F-1A-amp</td>\n",
       "    </tr>\n",
       "    <tr>\n",
       "      <th>663</th>\n",
       "      <td>0.0</td>\n",
       "      <td>0.0</td>\n",
       "      <td>0.000000</td>\n",
       "      <td>0.0</td>\n",
       "      <td>0.000000</td>\n",
       "      <td>0.0</td>\n",
       "      <td>0.0</td>\n",
       "      <td>0.000000</td>\n",
       "      <td>0.0</td>\n",
       "      <td>0.0</td>\n",
       "      <td>...</td>\n",
       "      <td>0.00000</td>\n",
       "      <td>0.0</td>\n",
       "      <td>0.0</td>\n",
       "      <td>0.0</td>\n",
       "      <td>0.0</td>\n",
       "      <td>0.0</td>\n",
       "      <td>0.0</td>\n",
       "      <td>amp</td>\n",
       "      <td>C1135-4F-1A</td>\n",
       "      <td>C1135-4F-1A-amp</td>\n",
       "    </tr>\n",
       "    <tr>\n",
       "      <th>664</th>\n",
       "      <td>0.0</td>\n",
       "      <td>0.0</td>\n",
       "      <td>0.000000</td>\n",
       "      <td>0.0</td>\n",
       "      <td>0.000000</td>\n",
       "      <td>0.0</td>\n",
       "      <td>0.0</td>\n",
       "      <td>0.000000</td>\n",
       "      <td>0.0</td>\n",
       "      <td>0.0</td>\n",
       "      <td>...</td>\n",
       "      <td>0.00000</td>\n",
       "      <td>0.0</td>\n",
       "      <td>0.0</td>\n",
       "      <td>0.0</td>\n",
       "      <td>0.0</td>\n",
       "      <td>0.0</td>\n",
       "      <td>0.0</td>\n",
       "      <td>amp</td>\n",
       "      <td>C0158-6F-1A</td>\n",
       "      <td>C0158-6F-1A-amp</td>\n",
       "    </tr>\n",
       "    <tr>\n",
       "      <th>665</th>\n",
       "      <td>0.0</td>\n",
       "      <td>0.0</td>\n",
       "      <td>0.000000</td>\n",
       "      <td>0.0</td>\n",
       "      <td>0.000000</td>\n",
       "      <td>0.0</td>\n",
       "      <td>0.0</td>\n",
       "      <td>0.000000</td>\n",
       "      <td>0.0</td>\n",
       "      <td>0.0</td>\n",
       "      <td>...</td>\n",
       "      <td>0.00000</td>\n",
       "      <td>0.0</td>\n",
       "      <td>0.0</td>\n",
       "      <td>0.0</td>\n",
       "      <td>0.0</td>\n",
       "      <td>0.0</td>\n",
       "      <td>0.0</td>\n",
       "      <td>amp</td>\n",
       "      <td>C1062-3F-1A</td>\n",
       "      <td>C1062-3F-1A-amp</td>\n",
       "    </tr>\n",
       "    <tr>\n",
       "      <th>666</th>\n",
       "      <td>0.0</td>\n",
       "      <td>0.0</td>\n",
       "      <td>0.000000</td>\n",
       "      <td>0.0</td>\n",
       "      <td>0.000000</td>\n",
       "      <td>0.0</td>\n",
       "      <td>0.0</td>\n",
       "      <td>0.003834</td>\n",
       "      <td>0.0</td>\n",
       "      <td>0.0</td>\n",
       "      <td>...</td>\n",
       "      <td>0.00000</td>\n",
       "      <td>0.0</td>\n",
       "      <td>0.0</td>\n",
       "      <td>0.0</td>\n",
       "      <td>0.0</td>\n",
       "      <td>0.0</td>\n",
       "      <td>0.0</td>\n",
       "      <td>amp</td>\n",
       "      <td>C1195-4F-1A</td>\n",
       "      <td>C1195-4F-1A-amp</td>\n",
       "    </tr>\n",
       "    <tr>\n",
       "      <th>667</th>\n",
       "      <td>0.0</td>\n",
       "      <td>0.0</td>\n",
       "      <td>0.000000</td>\n",
       "      <td>0.0</td>\n",
       "      <td>0.000000</td>\n",
       "      <td>0.0</td>\n",
       "      <td>0.0</td>\n",
       "      <td>0.000000</td>\n",
       "      <td>0.0</td>\n",
       "      <td>0.0</td>\n",
       "      <td>...</td>\n",
       "      <td>0.00000</td>\n",
       "      <td>0.0</td>\n",
       "      <td>0.0</td>\n",
       "      <td>0.0</td>\n",
       "      <td>0.0</td>\n",
       "      <td>0.0</td>\n",
       "      <td>0.0</td>\n",
       "      <td>amp</td>\n",
       "      <td>C0679-1F-1A</td>\n",
       "      <td>C0679-1F-1A-amp</td>\n",
       "    </tr>\n",
       "    <tr>\n",
       "      <th>668</th>\n",
       "      <td>0.0</td>\n",
       "      <td>0.0</td>\n",
       "      <td>0.000000</td>\n",
       "      <td>0.0</td>\n",
       "      <td>0.000000</td>\n",
       "      <td>0.0</td>\n",
       "      <td>0.0</td>\n",
       "      <td>0.000000</td>\n",
       "      <td>0.0</td>\n",
       "      <td>0.0</td>\n",
       "      <td>...</td>\n",
       "      <td>0.00000</td>\n",
       "      <td>0.0</td>\n",
       "      <td>0.0</td>\n",
       "      <td>0.0</td>\n",
       "      <td>0.0</td>\n",
       "      <td>0.0</td>\n",
       "      <td>0.0</td>\n",
       "      <td>amp</td>\n",
       "      <td>C0693-1F-1A</td>\n",
       "      <td>C0693-1F-1A-amp</td>\n",
       "    </tr>\n",
       "    <tr>\n",
       "      <th>669</th>\n",
       "      <td>0.0</td>\n",
       "      <td>0.0</td>\n",
       "      <td>0.000000</td>\n",
       "      <td>0.0</td>\n",
       "      <td>0.000000</td>\n",
       "      <td>0.0</td>\n",
       "      <td>0.0</td>\n",
       "      <td>0.000000</td>\n",
       "      <td>0.0</td>\n",
       "      <td>0.0</td>\n",
       "      <td>...</td>\n",
       "      <td>0.00000</td>\n",
       "      <td>0.0</td>\n",
       "      <td>0.0</td>\n",
       "      <td>0.0</td>\n",
       "      <td>0.0</td>\n",
       "      <td>0.0</td>\n",
       "      <td>0.0</td>\n",
       "      <td>amp</td>\n",
       "      <td>C0704-1F-1A</td>\n",
       "      <td>C0704-1F-1A-amp</td>\n",
       "    </tr>\n",
       "    <tr>\n",
       "      <th>670</th>\n",
       "      <td>0.0</td>\n",
       "      <td>0.0</td>\n",
       "      <td>0.000000</td>\n",
       "      <td>0.0</td>\n",
       "      <td>0.000000</td>\n",
       "      <td>0.0</td>\n",
       "      <td>0.0</td>\n",
       "      <td>0.000000</td>\n",
       "      <td>0.0</td>\n",
       "      <td>0.0</td>\n",
       "      <td>...</td>\n",
       "      <td>0.00000</td>\n",
       "      <td>0.0</td>\n",
       "      <td>0.0</td>\n",
       "      <td>0.0</td>\n",
       "      <td>0.0</td>\n",
       "      <td>0.0</td>\n",
       "      <td>0.0</td>\n",
       "      <td>amp</td>\n",
       "      <td>C0961-4F-1A</td>\n",
       "      <td>C0961-4F-1A-amp</td>\n",
       "    </tr>\n",
       "    <tr>\n",
       "      <th>671</th>\n",
       "      <td>0.0</td>\n",
       "      <td>0.0</td>\n",
       "      <td>0.000000</td>\n",
       "      <td>0.0</td>\n",
       "      <td>0.000000</td>\n",
       "      <td>0.0</td>\n",
       "      <td>0.0</td>\n",
       "      <td>0.000000</td>\n",
       "      <td>0.0</td>\n",
       "      <td>0.0</td>\n",
       "      <td>...</td>\n",
       "      <td>0.00000</td>\n",
       "      <td>0.0</td>\n",
       "      <td>0.0</td>\n",
       "      <td>0.0</td>\n",
       "      <td>0.0</td>\n",
       "      <td>0.0</td>\n",
       "      <td>0.0</td>\n",
       "      <td>amp</td>\n",
       "      <td>C0615-1F-1A</td>\n",
       "      <td>C0615-1F-1A-amp</td>\n",
       "    </tr>\n",
       "    <tr>\n",
       "      <th>672</th>\n",
       "      <td>0.0</td>\n",
       "      <td>0.0</td>\n",
       "      <td>0.000000</td>\n",
       "      <td>0.0</td>\n",
       "      <td>0.000000</td>\n",
       "      <td>0.0</td>\n",
       "      <td>0.0</td>\n",
       "      <td>0.000000</td>\n",
       "      <td>0.0</td>\n",
       "      <td>0.0</td>\n",
       "      <td>...</td>\n",
       "      <td>0.00000</td>\n",
       "      <td>0.0</td>\n",
       "      <td>0.0</td>\n",
       "      <td>0.0</td>\n",
       "      <td>0.0</td>\n",
       "      <td>0.0</td>\n",
       "      <td>0.0</td>\n",
       "      <td>amp</td>\n",
       "      <td>C0191-3F-1A</td>\n",
       "      <td>C0191-3F-1A-amp</td>\n",
       "    </tr>\n",
       "    <tr>\n",
       "      <th>673</th>\n",
       "      <td>0.0</td>\n",
       "      <td>0.0</td>\n",
       "      <td>0.000274</td>\n",
       "      <td>0.0</td>\n",
       "      <td>0.000000</td>\n",
       "      <td>0.0</td>\n",
       "      <td>0.0</td>\n",
       "      <td>0.005842</td>\n",
       "      <td>0.0</td>\n",
       "      <td>0.0</td>\n",
       "      <td>...</td>\n",
       "      <td>0.00000</td>\n",
       "      <td>0.0</td>\n",
       "      <td>0.0</td>\n",
       "      <td>0.0</td>\n",
       "      <td>0.0</td>\n",
       "      <td>0.0</td>\n",
       "      <td>0.0</td>\n",
       "      <td>amp</td>\n",
       "      <td>C0190-3F-1A</td>\n",
       "      <td>C0190-3F-1A-amp</td>\n",
       "    </tr>\n",
       "    <tr>\n",
       "      <th>674</th>\n",
       "      <td>0.0</td>\n",
       "      <td>0.0</td>\n",
       "      <td>0.000000</td>\n",
       "      <td>0.0</td>\n",
       "      <td>0.000000</td>\n",
       "      <td>0.0</td>\n",
       "      <td>0.0</td>\n",
       "      <td>0.000000</td>\n",
       "      <td>0.0</td>\n",
       "      <td>0.0</td>\n",
       "      <td>...</td>\n",
       "      <td>0.00000</td>\n",
       "      <td>0.0</td>\n",
       "      <td>0.0</td>\n",
       "      <td>0.0</td>\n",
       "      <td>0.0</td>\n",
       "      <td>0.0</td>\n",
       "      <td>0.0</td>\n",
       "      <td>amp</td>\n",
       "      <td>C0146-7F-1A</td>\n",
       "      <td>C0146-7F-1A-amp</td>\n",
       "    </tr>\n",
       "    <tr>\n",
       "      <th>675</th>\n",
       "      <td>0.0</td>\n",
       "      <td>0.0</td>\n",
       "      <td>0.000000</td>\n",
       "      <td>0.0</td>\n",
       "      <td>0.000000</td>\n",
       "      <td>0.0</td>\n",
       "      <td>0.0</td>\n",
       "      <td>0.000000</td>\n",
       "      <td>0.0</td>\n",
       "      <td>0.0</td>\n",
       "      <td>...</td>\n",
       "      <td>0.00000</td>\n",
       "      <td>0.0</td>\n",
       "      <td>0.0</td>\n",
       "      <td>0.0</td>\n",
       "      <td>0.0</td>\n",
       "      <td>0.0</td>\n",
       "      <td>0.0</td>\n",
       "      <td>amp</td>\n",
       "      <td>C1075-1F-1A</td>\n",
       "      <td>C1075-1F-1A-amp</td>\n",
       "    </tr>\n",
       "    <tr>\n",
       "      <th>676</th>\n",
       "      <td>0.0</td>\n",
       "      <td>0.0</td>\n",
       "      <td>0.000000</td>\n",
       "      <td>0.0</td>\n",
       "      <td>0.000263</td>\n",
       "      <td>0.0</td>\n",
       "      <td>0.0</td>\n",
       "      <td>0.000000</td>\n",
       "      <td>0.0</td>\n",
       "      <td>0.0</td>\n",
       "      <td>...</td>\n",
       "      <td>0.00000</td>\n",
       "      <td>0.0</td>\n",
       "      <td>0.0</td>\n",
       "      <td>0.0</td>\n",
       "      <td>0.0</td>\n",
       "      <td>0.0</td>\n",
       "      <td>0.0</td>\n",
       "      <td>amp</td>\n",
       "      <td>C0591-1F-1A</td>\n",
       "      <td>C0591-1F-1A-amp</td>\n",
       "    </tr>\n",
       "    <tr>\n",
       "      <th>677</th>\n",
       "      <td>0.0</td>\n",
       "      <td>0.0</td>\n",
       "      <td>0.000389</td>\n",
       "      <td>0.0</td>\n",
       "      <td>0.000000</td>\n",
       "      <td>0.0</td>\n",
       "      <td>0.0</td>\n",
       "      <td>0.000000</td>\n",
       "      <td>0.0</td>\n",
       "      <td>0.0</td>\n",
       "      <td>...</td>\n",
       "      <td>0.00000</td>\n",
       "      <td>0.0</td>\n",
       "      <td>0.0</td>\n",
       "      <td>0.0</td>\n",
       "      <td>0.0</td>\n",
       "      <td>0.0</td>\n",
       "      <td>0.0</td>\n",
       "      <td>amp</td>\n",
       "      <td>C0402-3F-1A</td>\n",
       "      <td>C0402-3F-1A-amp</td>\n",
       "    </tr>\n",
       "    <tr>\n",
       "      <th>678</th>\n",
       "      <td>0.0</td>\n",
       "      <td>0.0</td>\n",
       "      <td>0.000000</td>\n",
       "      <td>0.0</td>\n",
       "      <td>0.000000</td>\n",
       "      <td>0.0</td>\n",
       "      <td>0.0</td>\n",
       "      <td>0.000000</td>\n",
       "      <td>0.0</td>\n",
       "      <td>0.0</td>\n",
       "      <td>...</td>\n",
       "      <td>0.00000</td>\n",
       "      <td>0.0</td>\n",
       "      <td>0.0</td>\n",
       "      <td>0.0</td>\n",
       "      <td>0.0</td>\n",
       "      <td>0.0</td>\n",
       "      <td>0.0</td>\n",
       "      <td>amp</td>\n",
       "      <td>C1007-3F-1A</td>\n",
       "      <td>C1007-3F-1A-amp</td>\n",
       "    </tr>\n",
       "    <tr>\n",
       "      <th>679</th>\n",
       "      <td>0.0</td>\n",
       "      <td>0.0</td>\n",
       "      <td>0.000168</td>\n",
       "      <td>0.0</td>\n",
       "      <td>0.000000</td>\n",
       "      <td>0.0</td>\n",
       "      <td>0.0</td>\n",
       "      <td>0.000000</td>\n",
       "      <td>0.0</td>\n",
       "      <td>0.0</td>\n",
       "      <td>...</td>\n",
       "      <td>0.00021</td>\n",
       "      <td>0.0</td>\n",
       "      <td>0.0</td>\n",
       "      <td>0.0</td>\n",
       "      <td>0.0</td>\n",
       "      <td>0.0</td>\n",
       "      <td>0.0</td>\n",
       "      <td>amp</td>\n",
       "      <td>C0469-2E-1A</td>\n",
       "      <td>C0469-2E-1A-amp</td>\n",
       "    </tr>\n",
       "    <tr>\n",
       "      <th>680</th>\n",
       "      <td>0.0</td>\n",
       "      <td>0.0</td>\n",
       "      <td>0.000000</td>\n",
       "      <td>0.0</td>\n",
       "      <td>0.000000</td>\n",
       "      <td>0.0</td>\n",
       "      <td>0.0</td>\n",
       "      <td>0.000000</td>\n",
       "      <td>0.0</td>\n",
       "      <td>0.0</td>\n",
       "      <td>...</td>\n",
       "      <td>0.00000</td>\n",
       "      <td>0.0</td>\n",
       "      <td>0.0</td>\n",
       "      <td>0.0</td>\n",
       "      <td>0.0</td>\n",
       "      <td>0.0</td>\n",
       "      <td>0.0</td>\n",
       "      <td>amp</td>\n",
       "      <td>C0142-6F-1A</td>\n",
       "      <td>C0142-6F-1A-amp</td>\n",
       "    </tr>\n",
       "    <tr>\n",
       "      <th>681</th>\n",
       "      <td>0.0</td>\n",
       "      <td>0.0</td>\n",
       "      <td>0.000000</td>\n",
       "      <td>0.0</td>\n",
       "      <td>0.000000</td>\n",
       "      <td>0.0</td>\n",
       "      <td>0.0</td>\n",
       "      <td>0.000000</td>\n",
       "      <td>0.0</td>\n",
       "      <td>0.0</td>\n",
       "      <td>...</td>\n",
       "      <td>0.00000</td>\n",
       "      <td>0.0</td>\n",
       "      <td>0.0</td>\n",
       "      <td>0.0</td>\n",
       "      <td>0.0</td>\n",
       "      <td>0.0</td>\n",
       "      <td>0.0</td>\n",
       "      <td>amp</td>\n",
       "      <td>C0421-6F-1A</td>\n",
       "      <td>C0421-6F-1A-amp</td>\n",
       "    </tr>\n",
       "    <tr>\n",
       "      <th>682</th>\n",
       "      <td>0.0</td>\n",
       "      <td>0.0</td>\n",
       "      <td>0.000000</td>\n",
       "      <td>0.0</td>\n",
       "      <td>0.000000</td>\n",
       "      <td>0.0</td>\n",
       "      <td>0.0</td>\n",
       "      <td>0.001925</td>\n",
       "      <td>0.0</td>\n",
       "      <td>0.0</td>\n",
       "      <td>...</td>\n",
       "      <td>0.00000</td>\n",
       "      <td>0.0</td>\n",
       "      <td>0.0</td>\n",
       "      <td>0.0</td>\n",
       "      <td>0.0</td>\n",
       "      <td>0.0</td>\n",
       "      <td>0.0</td>\n",
       "      <td>amp</td>\n",
       "      <td>C1238-1F-1A</td>\n",
       "      <td>C1238-1F-1A-amp</td>\n",
       "    </tr>\n",
       "    <tr>\n",
       "      <th>683</th>\n",
       "      <td>0.0</td>\n",
       "      <td>0.0</td>\n",
       "      <td>0.000000</td>\n",
       "      <td>0.0</td>\n",
       "      <td>0.000000</td>\n",
       "      <td>0.0</td>\n",
       "      <td>0.0</td>\n",
       "      <td>0.000000</td>\n",
       "      <td>0.0</td>\n",
       "      <td>0.0</td>\n",
       "      <td>...</td>\n",
       "      <td>0.00000</td>\n",
       "      <td>0.0</td>\n",
       "      <td>0.0</td>\n",
       "      <td>0.0</td>\n",
       "      <td>0.0</td>\n",
       "      <td>0.0</td>\n",
       "      <td>0.0</td>\n",
       "      <td>amp</td>\n",
       "      <td>C1222-1F-1A</td>\n",
       "      <td>C1222-1F-1A-amp</td>\n",
       "    </tr>\n",
       "    <tr>\n",
       "      <th>684</th>\n",
       "      <td>0.0</td>\n",
       "      <td>0.0</td>\n",
       "      <td>0.000000</td>\n",
       "      <td>0.0</td>\n",
       "      <td>0.000000</td>\n",
       "      <td>0.0</td>\n",
       "      <td>0.0</td>\n",
       "      <td>0.000000</td>\n",
       "      <td>0.0</td>\n",
       "      <td>0.0</td>\n",
       "      <td>...</td>\n",
       "      <td>0.00000</td>\n",
       "      <td>0.0</td>\n",
       "      <td>0.0</td>\n",
       "      <td>0.0</td>\n",
       "      <td>0.0</td>\n",
       "      <td>0.0</td>\n",
       "      <td>0.0</td>\n",
       "      <td>amp</td>\n",
       "      <td>C0897-2F-1A</td>\n",
       "      <td>C0897-2F-1A-amp</td>\n",
       "    </tr>\n",
       "    <tr>\n",
       "      <th>685</th>\n",
       "      <td>0.0</td>\n",
       "      <td>0.0</td>\n",
       "      <td>0.000000</td>\n",
       "      <td>0.0</td>\n",
       "      <td>0.000000</td>\n",
       "      <td>0.0</td>\n",
       "      <td>0.0</td>\n",
       "      <td>0.000000</td>\n",
       "      <td>0.0</td>\n",
       "      <td>0.0</td>\n",
       "      <td>...</td>\n",
       "      <td>0.00000</td>\n",
       "      <td>0.0</td>\n",
       "      <td>0.0</td>\n",
       "      <td>0.0</td>\n",
       "      <td>0.0</td>\n",
       "      <td>0.0</td>\n",
       "      <td>0.0</td>\n",
       "      <td>amp</td>\n",
       "      <td>C0426-5F-1A</td>\n",
       "      <td>C0426-5F-1A-amp</td>\n",
       "    </tr>\n",
       "  </tbody>\n",
       "</table>\n",
       "<p>686 rows × 659 columns</p>\n",
       "</div>"
      ],
      "text/plain": [
       "     Abditibacterium  Abiotrophia  Absiella  Acanthis  Acetanaerobacterium  \\\n",
       "0                0.0          0.0  0.000000       0.0             0.000000   \n",
       "1                0.0          0.0  0.000000       0.0             0.000000   \n",
       "2                0.0          0.0  0.000000       0.0             0.000000   \n",
       "3                0.0          0.0  0.000000       0.0             0.000000   \n",
       "4                0.0          0.0  0.000000       0.0             0.000000   \n",
       "5                0.0          0.0  0.000000       0.0             0.000000   \n",
       "6                0.0          0.0  0.000000       0.0             0.000000   \n",
       "7                0.0          0.0  0.000000       0.0             0.000000   \n",
       "8                0.0          0.0  0.000000       0.0             0.000000   \n",
       "9                0.0          0.0  0.000000       0.0             0.000000   \n",
       "10               0.0          0.0  0.000000       0.0             0.000000   \n",
       "11               0.0          0.0  0.000000       0.0             0.000000   \n",
       "12               0.0          0.0  0.000000       0.0             0.000000   \n",
       "13               0.0          0.0  0.000000       0.0             0.000000   \n",
       "14               0.0          0.0  0.000000       0.0             0.000000   \n",
       "15               0.0          0.0  0.000000       0.0             0.000000   \n",
       "16               0.0          0.0  0.000000       0.0             0.000000   \n",
       "17               0.0          0.0  0.000000       0.0             0.000000   \n",
       "18               0.0          0.0  0.000000       0.0             0.000000   \n",
       "19               0.0          0.0  0.000000       0.0             0.000000   \n",
       "20               0.0          0.0  0.000000       0.0             0.000000   \n",
       "21               0.0          0.0  0.000000       0.0             0.000000   \n",
       "22               0.0          0.0  0.000000       0.0             0.000000   \n",
       "23               0.0          0.0  0.000000       0.0             0.000000   \n",
       "24               0.0          0.0  0.000000       0.0             0.000000   \n",
       "25               0.0          0.0  0.000000       0.0             0.000000   \n",
       "26               0.0          0.0  0.000000       0.0             0.000000   \n",
       "27               0.0          0.0  0.000000       0.0             0.000000   \n",
       "28               0.0          0.0  0.000000       0.0             0.000000   \n",
       "29               0.0          0.0  0.000000       0.0             0.000000   \n",
       "..               ...          ...       ...       ...                  ...   \n",
       "656              0.0          0.0  0.000000       0.0             0.000000   \n",
       "657              0.0          0.0  0.000000       0.0             0.000000   \n",
       "658              0.0          0.0  0.000000       0.0             0.000000   \n",
       "659              0.0          0.0  0.000000       0.0             0.000000   \n",
       "660              0.0          0.0  0.000000       0.0             0.000000   \n",
       "661              0.0          0.0  0.000000       0.0             0.000000   \n",
       "662              0.0          0.0  0.000000       0.0             0.000000   \n",
       "663              0.0          0.0  0.000000       0.0             0.000000   \n",
       "664              0.0          0.0  0.000000       0.0             0.000000   \n",
       "665              0.0          0.0  0.000000       0.0             0.000000   \n",
       "666              0.0          0.0  0.000000       0.0             0.000000   \n",
       "667              0.0          0.0  0.000000       0.0             0.000000   \n",
       "668              0.0          0.0  0.000000       0.0             0.000000   \n",
       "669              0.0          0.0  0.000000       0.0             0.000000   \n",
       "670              0.0          0.0  0.000000       0.0             0.000000   \n",
       "671              0.0          0.0  0.000000       0.0             0.000000   \n",
       "672              0.0          0.0  0.000000       0.0             0.000000   \n",
       "673              0.0          0.0  0.000274       0.0             0.000000   \n",
       "674              0.0          0.0  0.000000       0.0             0.000000   \n",
       "675              0.0          0.0  0.000000       0.0             0.000000   \n",
       "676              0.0          0.0  0.000000       0.0             0.000263   \n",
       "677              0.0          0.0  0.000389       0.0             0.000000   \n",
       "678              0.0          0.0  0.000000       0.0             0.000000   \n",
       "679              0.0          0.0  0.000168       0.0             0.000000   \n",
       "680              0.0          0.0  0.000000       0.0             0.000000   \n",
       "681              0.0          0.0  0.000000       0.0             0.000000   \n",
       "682              0.0          0.0  0.000000       0.0             0.000000   \n",
       "683              0.0          0.0  0.000000       0.0             0.000000   \n",
       "684              0.0          0.0  0.000000       0.0             0.000000   \n",
       "685              0.0          0.0  0.000000       0.0             0.000000   \n",
       "\n",
       "     Acetobacter  Achromobacter  Acidaminococcus  Acidibacter  Acidipila  ...  \\\n",
       "0            0.0            0.0         0.000000          0.0        0.0  ...   \n",
       "1            0.0            0.0         0.000000          0.0        0.0  ...   \n",
       "2            0.0            0.0         0.000000          0.0        0.0  ...   \n",
       "3            0.0            0.0         0.000000          0.0        0.0  ...   \n",
       "4            0.0            0.0         0.000000          0.0        0.0  ...   \n",
       "5            0.0            0.0         0.000000          0.0        0.0  ...   \n",
       "6            0.0            0.0         0.000000          0.0        0.0  ...   \n",
       "7            0.0            0.0         0.000000          0.0        0.0  ...   \n",
       "8            0.0            0.0         0.000000          0.0        0.0  ...   \n",
       "9            0.0            0.0         0.000000          0.0        0.0  ...   \n",
       "10           0.0            0.0         0.000000          0.0        0.0  ...   \n",
       "11           0.0            0.0         0.000000          0.0        0.0  ...   \n",
       "12           0.0            0.0         0.000000          0.0        0.0  ...   \n",
       "13           0.0            0.0         0.000000          0.0        0.0  ...   \n",
       "14           0.0            0.0         0.000000          0.0        0.0  ...   \n",
       "15           0.0            0.0         0.000000          0.0        0.0  ...   \n",
       "16           0.0            0.0         0.000000          0.0        0.0  ...   \n",
       "17           0.0            0.0         0.000000          0.0        0.0  ...   \n",
       "18           0.0            0.0         0.000000          0.0        0.0  ...   \n",
       "19           0.0            0.0         0.000000          0.0        0.0  ...   \n",
       "20           0.0            0.0         0.000000          0.0        0.0  ...   \n",
       "21           0.0            0.0         0.000000          0.0        0.0  ...   \n",
       "22           0.0            0.0         0.000000          0.0        0.0  ...   \n",
       "23           0.0            0.0         0.000000          0.0        0.0  ...   \n",
       "24           0.0            0.0         0.000000          0.0        0.0  ...   \n",
       "25           0.0            0.0         0.000000          0.0        0.0  ...   \n",
       "26           0.0            0.0         0.000000          0.0        0.0  ...   \n",
       "27           0.0            0.0         0.000000          0.0        0.0  ...   \n",
       "28           0.0            0.0         0.000000          0.0        0.0  ...   \n",
       "29           0.0            0.0         0.000000          0.0        0.0  ...   \n",
       "..           ...            ...              ...          ...        ...  ...   \n",
       "656          0.0            0.0         0.000000          0.0        0.0  ...   \n",
       "657          0.0            0.0         0.000000          0.0        0.0  ...   \n",
       "658          0.0            0.0         0.000000          0.0        0.0  ...   \n",
       "659          0.0            0.0         0.000000          0.0        0.0  ...   \n",
       "660          0.0            0.0         0.000000          0.0        0.0  ...   \n",
       "661          0.0            0.0         0.001325          0.0        0.0  ...   \n",
       "662          0.0            0.0         0.000000          0.0        0.0  ...   \n",
       "663          0.0            0.0         0.000000          0.0        0.0  ...   \n",
       "664          0.0            0.0         0.000000          0.0        0.0  ...   \n",
       "665          0.0            0.0         0.000000          0.0        0.0  ...   \n",
       "666          0.0            0.0         0.003834          0.0        0.0  ...   \n",
       "667          0.0            0.0         0.000000          0.0        0.0  ...   \n",
       "668          0.0            0.0         0.000000          0.0        0.0  ...   \n",
       "669          0.0            0.0         0.000000          0.0        0.0  ...   \n",
       "670          0.0            0.0         0.000000          0.0        0.0  ...   \n",
       "671          0.0            0.0         0.000000          0.0        0.0  ...   \n",
       "672          0.0            0.0         0.000000          0.0        0.0  ...   \n",
       "673          0.0            0.0         0.005842          0.0        0.0  ...   \n",
       "674          0.0            0.0         0.000000          0.0        0.0  ...   \n",
       "675          0.0            0.0         0.000000          0.0        0.0  ...   \n",
       "676          0.0            0.0         0.000000          0.0        0.0  ...   \n",
       "677          0.0            0.0         0.000000          0.0        0.0  ...   \n",
       "678          0.0            0.0         0.000000          0.0        0.0  ...   \n",
       "679          0.0            0.0         0.000000          0.0        0.0  ...   \n",
       "680          0.0            0.0         0.000000          0.0        0.0  ...   \n",
       "681          0.0            0.0         0.000000          0.0        0.0  ...   \n",
       "682          0.0            0.0         0.001925          0.0        0.0  ...   \n",
       "683          0.0            0.0         0.000000          0.0        0.0  ...   \n",
       "684          0.0            0.0         0.000000          0.0        0.0  ...   \n",
       "685          0.0            0.0         0.000000          0.0        0.0  ...   \n",
       "\n",
       "     Winogradskyella  Woesearchaeales  Woeseia  Yoonia-Loktanella  Yueomyces  \\\n",
       "0            0.00000              0.0      0.0                0.0        0.0   \n",
       "1            0.00000              0.0      0.0                0.0        0.0   \n",
       "2            0.00000              0.0      0.0                0.0        0.0   \n",
       "3            0.00000              0.0      0.0                0.0        0.0   \n",
       "4            0.00000              0.0      0.0                0.0        0.0   \n",
       "5            0.00000              0.0      0.0                0.0        0.0   \n",
       "6            0.00000              0.0      0.0                0.0        0.0   \n",
       "7            0.00000              0.0      0.0                0.0        0.0   \n",
       "8            0.00000              0.0      0.0                0.0        0.0   \n",
       "9            0.00000              0.0      0.0                0.0        0.0   \n",
       "10           0.00000              0.0      0.0                0.0        0.0   \n",
       "11           0.00000              0.0      0.0                0.0        0.0   \n",
       "12           0.00000              0.0      0.0                0.0        0.0   \n",
       "13           0.00000              0.0      0.0                0.0        0.0   \n",
       "14           0.00000              0.0      0.0                0.0        0.0   \n",
       "15           0.00000              0.0      0.0                0.0        0.0   \n",
       "16           0.00000              0.0      0.0                0.0        0.0   \n",
       "17           0.00000              0.0      0.0                0.0        0.0   \n",
       "18           0.00000              0.0      0.0                0.0        0.0   \n",
       "19           0.00000              0.0      0.0                0.0        0.0   \n",
       "20           0.00000              0.0      0.0                0.0        0.0   \n",
       "21           0.00000              0.0      0.0                0.0        0.0   \n",
       "22           0.00000              0.0      0.0                0.0        0.0   \n",
       "23           0.00000              0.0      0.0                0.0        0.0   \n",
       "24           0.00000              0.0      0.0                0.0        0.0   \n",
       "25           0.00000              0.0      0.0                0.0        0.0   \n",
       "26           0.00000              0.0      0.0                0.0        0.0   \n",
       "27           0.00000              0.0      0.0                0.0        0.0   \n",
       "28           0.00000              0.0      0.0                0.0        0.0   \n",
       "29           0.00000              0.0      0.0                0.0        0.0   \n",
       "..               ...              ...      ...                ...        ...   \n",
       "656          0.00000              0.0      0.0                0.0        0.0   \n",
       "657          0.00000              0.0      0.0                0.0        0.0   \n",
       "658          0.00000              0.0      0.0                0.0        0.0   \n",
       "659          0.00000              0.0      0.0                0.0        0.0   \n",
       "660          0.00000              0.0      0.0                0.0        0.0   \n",
       "661          0.00000              0.0      0.0                0.0        0.0   \n",
       "662          0.00000              0.0      0.0                0.0        0.0   \n",
       "663          0.00000              0.0      0.0                0.0        0.0   \n",
       "664          0.00000              0.0      0.0                0.0        0.0   \n",
       "665          0.00000              0.0      0.0                0.0        0.0   \n",
       "666          0.00000              0.0      0.0                0.0        0.0   \n",
       "667          0.00000              0.0      0.0                0.0        0.0   \n",
       "668          0.00000              0.0      0.0                0.0        0.0   \n",
       "669          0.00000              0.0      0.0                0.0        0.0   \n",
       "670          0.00000              0.0      0.0                0.0        0.0   \n",
       "671          0.00000              0.0      0.0                0.0        0.0   \n",
       "672          0.00000              0.0      0.0                0.0        0.0   \n",
       "673          0.00000              0.0      0.0                0.0        0.0   \n",
       "674          0.00000              0.0      0.0                0.0        0.0   \n",
       "675          0.00000              0.0      0.0                0.0        0.0   \n",
       "676          0.00000              0.0      0.0                0.0        0.0   \n",
       "677          0.00000              0.0      0.0                0.0        0.0   \n",
       "678          0.00000              0.0      0.0                0.0        0.0   \n",
       "679          0.00021              0.0      0.0                0.0        0.0   \n",
       "680          0.00000              0.0      0.0                0.0        0.0   \n",
       "681          0.00000              0.0      0.0                0.0        0.0   \n",
       "682          0.00000              0.0      0.0                0.0        0.0   \n",
       "683          0.00000              0.0      0.0                0.0        0.0   \n",
       "684          0.00000              0.0      0.0                0.0        0.0   \n",
       "685          0.00000              0.0      0.0                0.0        0.0   \n",
       "\n",
       "     Zavarzinella  Zixibacteria  method     sampleid              uid  \n",
       "0             0.0           0.0     mgx  C0348-3F-1A  C0348-3F-1A-mgx  \n",
       "1             0.0           0.0     mgx  C0623-1F-1A  C0623-1F-1A-mgx  \n",
       "2             0.0           0.0     mgx  C0259-3F-1A  C0259-3F-1A-mgx  \n",
       "3             0.0           0.0     mgx  C0055-3F-1A  C0055-3F-1A-mgx  \n",
       "4             0.0           0.0     mgx  C0126-8F-1B  C0126-8F-1B-mgx  \n",
       "5             0.0           0.0     mgx  C2018-4F-1A  C2018-4F-1A-mgx  \n",
       "6             0.0           0.0     mgx  C0189-5F-1A  C0189-5F-1A-mgx  \n",
       "7             0.0           0.0     mgx  C1243-1F-1A  C1243-1F-1A-mgx  \n",
       "8             0.0           0.0     mgx  C0627-1F-1A  C0627-1F-1A-mgx  \n",
       "9             0.0           0.0     mgx  C0863-4F-1A  C0863-4F-1A-mgx  \n",
       "10            0.0           0.0     mgx  C0754-4F-1A  C0754-4F-1A-mgx  \n",
       "11            0.0           0.0     mgx  C0159-5F-1A  C0159-5F-1A-mgx  \n",
       "12            0.0           0.0     mgx  C0530-3F-1A  C0530-3F-1A-mgx  \n",
       "13            0.0           0.0     mgx  C1271-4F-1A  C1271-4F-1A-mgx  \n",
       "14            0.0           0.0     mgx  C1015-3F-1A  C1015-3F-1A-mgx  \n",
       "15            0.0           0.0     mgx  C1089-1F-1A  C1089-1F-1A-mgx  \n",
       "16            0.0           0.0     mgx  C0788-2F-1A  C0788-2F-1A-mgx  \n",
       "17            0.0           0.0     mgx  C0660-1E-1A  C0660-1E-1A-mgx  \n",
       "18            0.0           0.0     mgx  C0403-3F-1A  C0403-3F-1A-mgx  \n",
       "19            0.0           0.0     mgx  C0082-5F-1A  C0082-5F-1A-mgx  \n",
       "20            0.0           0.0     mgx  C0067-6F-1A  C0067-6F-1A-mgx  \n",
       "21            0.0           0.0     mgx  C0603-1F-1A  C0603-1F-1A-mgx  \n",
       "22            0.0           0.0     mgx  C0511-2F-1A  C0511-2F-1A-mgx  \n",
       "23            0.0           0.0     mgx  C0470-3F-1A  C0470-3F-1A-mgx  \n",
       "24            0.0           0.0     mgx  C0752-4F-1A  C0752-4F-1A-mgx  \n",
       "25            0.0           0.0     mgx  C0821-5F-1A  C0821-5F-1A-mgx  \n",
       "26            0.0           0.0     mgx  C0461-4F-1A  C0461-4F-1A-mgx  \n",
       "27            0.0           0.0     mgx  C0827-1F-1A  C0827-1F-1A-mgx  \n",
       "28            0.0           0.0     mgx  C0860-1F-1A  C0860-1F-1A-mgx  \n",
       "29            0.0           0.0     mgx  C0369-4F-1A  C0369-4F-1A-mgx  \n",
       "..            ...           ...     ...          ...              ...  \n",
       "656           0.0           0.0     amp  C0611-1F-1A  C0611-1F-1A-amp  \n",
       "657           0.0           0.0     amp  C0620-1F-1A  C0620-1F-1A-amp  \n",
       "658           0.0           0.0     amp  C0612-2F-1A  C0612-2F-1A-amp  \n",
       "659           0.0           0.0     amp  C0592-1F-1A  C0592-1F-1A-amp  \n",
       "660           0.0           0.0     amp  C0404-3F-1A  C0404-3F-1A-amp  \n",
       "661           0.0           0.0     amp  C0802-1F-1A  C0802-1F-1A-amp  \n",
       "662           0.0           0.0     amp  C0132-4F-1A  C0132-4F-1A-amp  \n",
       "663           0.0           0.0     amp  C1135-4F-1A  C1135-4F-1A-amp  \n",
       "664           0.0           0.0     amp  C0158-6F-1A  C0158-6F-1A-amp  \n",
       "665           0.0           0.0     amp  C1062-3F-1A  C1062-3F-1A-amp  \n",
       "666           0.0           0.0     amp  C1195-4F-1A  C1195-4F-1A-amp  \n",
       "667           0.0           0.0     amp  C0679-1F-1A  C0679-1F-1A-amp  \n",
       "668           0.0           0.0     amp  C0693-1F-1A  C0693-1F-1A-amp  \n",
       "669           0.0           0.0     amp  C0704-1F-1A  C0704-1F-1A-amp  \n",
       "670           0.0           0.0     amp  C0961-4F-1A  C0961-4F-1A-amp  \n",
       "671           0.0           0.0     amp  C0615-1F-1A  C0615-1F-1A-amp  \n",
       "672           0.0           0.0     amp  C0191-3F-1A  C0191-3F-1A-amp  \n",
       "673           0.0           0.0     amp  C0190-3F-1A  C0190-3F-1A-amp  \n",
       "674           0.0           0.0     amp  C0146-7F-1A  C0146-7F-1A-amp  \n",
       "675           0.0           0.0     amp  C1075-1F-1A  C1075-1F-1A-amp  \n",
       "676           0.0           0.0     amp  C0591-1F-1A  C0591-1F-1A-amp  \n",
       "677           0.0           0.0     amp  C0402-3F-1A  C0402-3F-1A-amp  \n",
       "678           0.0           0.0     amp  C1007-3F-1A  C1007-3F-1A-amp  \n",
       "679           0.0           0.0     amp  C0469-2E-1A  C0469-2E-1A-amp  \n",
       "680           0.0           0.0     amp  C0142-6F-1A  C0142-6F-1A-amp  \n",
       "681           0.0           0.0     amp  C0421-6F-1A  C0421-6F-1A-amp  \n",
       "682           0.0           0.0     amp  C1238-1F-1A  C1238-1F-1A-amp  \n",
       "683           0.0           0.0     amp  C1222-1F-1A  C1222-1F-1A-amp  \n",
       "684           0.0           0.0     amp  C0897-2F-1A  C0897-2F-1A-amp  \n",
       "685           0.0           0.0     amp  C0426-5F-1A  C0426-5F-1A-amp  \n",
       "\n",
       "[686 rows x 659 columns]"
      ]
     },
     "execution_count": 77,
     "metadata": {},
     "output_type": "execute_result"
    }
   ],
   "source": [
    "concat_df"
   ]
  },
  {
   "cell_type": "code",
   "execution_count": 78,
   "metadata": {},
   "outputs": [
    {
     "data": {
      "text/plain": [
       "343"
      ]
     },
     "execution_count": 78,
     "metadata": {},
     "output_type": "execute_result"
    }
   ],
   "source": [
    "len(concat_df[\"sampleid\"].unique())"
   ]
  },
  {
   "cell_type": "code",
   "execution_count": 79,
   "metadata": {},
   "outputs": [
    {
     "data": {
      "text/plain": [
       "686"
      ]
     },
     "execution_count": 79,
     "metadata": {},
     "output_type": "execute_result"
    }
   ],
   "source": [
    "len(concat_df)"
   ]
  },
  {
   "cell_type": "code",
   "execution_count": 80,
   "metadata": {},
   "outputs": [
    {
     "data": {
      "text/html": [
       "<div>\n",
       "<style scoped>\n",
       "    .dataframe tbody tr th:only-of-type {\n",
       "        vertical-align: middle;\n",
       "    }\n",
       "\n",
       "    .dataframe tbody tr th {\n",
       "        vertical-align: top;\n",
       "    }\n",
       "\n",
       "    .dataframe thead th {\n",
       "        text-align: right;\n",
       "    }\n",
       "</style>\n",
       "<table border=\"1\" class=\"dataframe\">\n",
       "  <thead>\n",
       "    <tr style=\"text-align: right;\">\n",
       "      <th></th>\n",
       "      <th>subjectID</th>\n",
       "      <th>timepoint</th>\n",
       "      <th>ageLabel</th>\n",
       "      <th>ASLProcessed</th>\n",
       "      <th>birthType</th>\n",
       "      <th>breastFedPercent</th>\n",
       "      <th>breastfeeding</th>\n",
       "      <th>childBMI</th>\n",
       "      <th>childGender</th>\n",
       "      <th>cogAssessment</th>\n",
       "      <th>...</th>\n",
       "      <th>WHO_fwfl</th>\n",
       "      <th>WHO_zbmi</th>\n",
       "      <th>WHO_zlen</th>\n",
       "      <th>WHO_zwei</th>\n",
       "      <th>WHO_zwfl</th>\n",
       "      <th>ProcessingComplete</th>\n",
       "      <th>SequenceName</th>\n",
       "      <th>timepoint.1</th>\n",
       "      <th>sampleid</th>\n",
       "      <th>AgeMonths</th>\n",
       "    </tr>\n",
       "  </thead>\n",
       "  <tbody>\n",
       "    <tr>\n",
       "      <th>0</th>\n",
       "      <td>52.0</td>\n",
       "      <td>5.0</td>\n",
       "      <td>2 and over</td>\n",
       "      <td>0.0</td>\n",
       "      <td>Cesarean</td>\n",
       "      <td>NaN</td>\n",
       "      <td>NaN</td>\n",
       "      <td>16.728348</td>\n",
       "      <td>Male</td>\n",
       "      <td>WISC</td>\n",
       "      <td>...</td>\n",
       "      <td>NaN</td>\n",
       "      <td>NaN</td>\n",
       "      <td>NaN</td>\n",
       "      <td>NaN</td>\n",
       "      <td>NaN</td>\n",
       "      <td>Yes</td>\n",
       "      <td>Mcdespot</td>\n",
       "      <td>5.0</td>\n",
       "      <td>C0052-5F-1A</td>\n",
       "      <td>94.133333</td>\n",
       "    </tr>\n",
       "    <tr>\n",
       "      <th>1</th>\n",
       "      <td>53.0</td>\n",
       "      <td>6.0</td>\n",
       "      <td>2 and over</td>\n",
       "      <td>0.0</td>\n",
       "      <td>Cesarean</td>\n",
       "      <td>NaN</td>\n",
       "      <td>NaN</td>\n",
       "      <td>16.008798</td>\n",
       "      <td>Female</td>\n",
       "      <td>WPPSI</td>\n",
       "      <td>...</td>\n",
       "      <td>NaN</td>\n",
       "      <td>NaN</td>\n",
       "      <td>NaN</td>\n",
       "      <td>NaN</td>\n",
       "      <td>NaN</td>\n",
       "      <td>Yes</td>\n",
       "      <td>Mcdespot</td>\n",
       "      <td>6.0</td>\n",
       "      <td>C0053-6F-1A</td>\n",
       "      <td>72.500000</td>\n",
       "    </tr>\n",
       "    <tr>\n",
       "      <th>2</th>\n",
       "      <td>202.0</td>\n",
       "      <td>4.0</td>\n",
       "      <td>2 and over</td>\n",
       "      <td>0.0</td>\n",
       "      <td>Vaginal</td>\n",
       "      <td>NaN</td>\n",
       "      <td>NaN</td>\n",
       "      <td>15.285845</td>\n",
       "      <td>Female</td>\n",
       "      <td>WPPSI</td>\n",
       "      <td>...</td>\n",
       "      <td>0.0</td>\n",
       "      <td>0.03</td>\n",
       "      <td>-1.26</td>\n",
       "      <td>-0.75</td>\n",
       "      <td>0.04</td>\n",
       "      <td>Yes</td>\n",
       "      <td>Mcdespot</td>\n",
       "      <td>4.0</td>\n",
       "      <td>C0202-4F-1A</td>\n",
       "      <td>53.366667</td>\n",
       "    </tr>\n",
       "    <tr>\n",
       "      <th>3</th>\n",
       "      <td>202.0</td>\n",
       "      <td>4.0</td>\n",
       "      <td>2 and over</td>\n",
       "      <td>0.0</td>\n",
       "      <td>Vaginal</td>\n",
       "      <td>NaN</td>\n",
       "      <td>NaN</td>\n",
       "      <td>15.285845</td>\n",
       "      <td>Female</td>\n",
       "      <td>WPPSI</td>\n",
       "      <td>...</td>\n",
       "      <td>0.0</td>\n",
       "      <td>0.03</td>\n",
       "      <td>-1.26</td>\n",
       "      <td>-0.75</td>\n",
       "      <td>0.04</td>\n",
       "      <td>Yes</td>\n",
       "      <td>Mcdespot</td>\n",
       "      <td>4.0</td>\n",
       "      <td>C0202-4F-2A</td>\n",
       "      <td>53.366667</td>\n",
       "    </tr>\n",
       "    <tr>\n",
       "      <th>4</th>\n",
       "      <td>420.0</td>\n",
       "      <td>4.0</td>\n",
       "      <td>2 and over</td>\n",
       "      <td>0.0</td>\n",
       "      <td>Vaginal</td>\n",
       "      <td>NaN</td>\n",
       "      <td>NaN</td>\n",
       "      <td>18.979630</td>\n",
       "      <td>Female</td>\n",
       "      <td>Mullen</td>\n",
       "      <td>...</td>\n",
       "      <td>0.0</td>\n",
       "      <td>2.19</td>\n",
       "      <td>-3.46</td>\n",
       "      <td>-0.68</td>\n",
       "      <td>1.61</td>\n",
       "      <td>NaN</td>\n",
       "      <td>Mcdespot</td>\n",
       "      <td>4.0</td>\n",
       "      <td>C0420-4F-1A</td>\n",
       "      <td>26.600000</td>\n",
       "    </tr>\n",
       "    <tr>\n",
       "      <th>5</th>\n",
       "      <td>420.0</td>\n",
       "      <td>4.0</td>\n",
       "      <td>2 and over</td>\n",
       "      <td>0.0</td>\n",
       "      <td>Vaginal</td>\n",
       "      <td>NaN</td>\n",
       "      <td>NaN</td>\n",
       "      <td>18.979630</td>\n",
       "      <td>Female</td>\n",
       "      <td>Mullen</td>\n",
       "      <td>...</td>\n",
       "      <td>0.0</td>\n",
       "      <td>2.19</td>\n",
       "      <td>-3.46</td>\n",
       "      <td>-0.68</td>\n",
       "      <td>1.61</td>\n",
       "      <td>NaN</td>\n",
       "      <td>Mcdespot</td>\n",
       "      <td>4.0</td>\n",
       "      <td>C0420-4F-2A</td>\n",
       "      <td>26.600000</td>\n",
       "    </tr>\n",
       "    <tr>\n",
       "      <th>6</th>\n",
       "      <td>108.0</td>\n",
       "      <td>4.0</td>\n",
       "      <td>2 and over</td>\n",
       "      <td>0.0</td>\n",
       "      <td>Cesarean</td>\n",
       "      <td>NaN</td>\n",
       "      <td>NaN</td>\n",
       "      <td>17.834450</td>\n",
       "      <td>Male</td>\n",
       "      <td>WISC</td>\n",
       "      <td>...</td>\n",
       "      <td>NaN</td>\n",
       "      <td>NaN</td>\n",
       "      <td>NaN</td>\n",
       "      <td>NaN</td>\n",
       "      <td>NaN</td>\n",
       "      <td>Yes</td>\n",
       "      <td>Mcdespot</td>\n",
       "      <td>4.0</td>\n",
       "      <td>C0108-4F-1A</td>\n",
       "      <td>137.466667</td>\n",
       "    </tr>\n",
       "    <tr>\n",
       "      <th>7</th>\n",
       "      <td>126.0</td>\n",
       "      <td>8.0</td>\n",
       "      <td>2 and over</td>\n",
       "      <td>0.0</td>\n",
       "      <td>Vaginal</td>\n",
       "      <td>NaN</td>\n",
       "      <td>NaN</td>\n",
       "      <td>NaN</td>\n",
       "      <td>Male</td>\n",
       "      <td>WISC</td>\n",
       "      <td>...</td>\n",
       "      <td>NaN</td>\n",
       "      <td>NaN</td>\n",
       "      <td>NaN</td>\n",
       "      <td>NaN</td>\n",
       "      <td>NaN</td>\n",
       "      <td>NaN</td>\n",
       "      <td>Mcdespot</td>\n",
       "      <td>8.0</td>\n",
       "      <td>C0126-8F-1A</td>\n",
       "      <td>75.366667</td>\n",
       "    </tr>\n",
       "    <tr>\n",
       "      <th>8</th>\n",
       "      <td>126.0</td>\n",
       "      <td>8.0</td>\n",
       "      <td>2 and over</td>\n",
       "      <td>0.0</td>\n",
       "      <td>Vaginal</td>\n",
       "      <td>NaN</td>\n",
       "      <td>NaN</td>\n",
       "      <td>NaN</td>\n",
       "      <td>Male</td>\n",
       "      <td>WISC</td>\n",
       "      <td>...</td>\n",
       "      <td>NaN</td>\n",
       "      <td>NaN</td>\n",
       "      <td>NaN</td>\n",
       "      <td>NaN</td>\n",
       "      <td>NaN</td>\n",
       "      <td>NaN</td>\n",
       "      <td>Mcdespot</td>\n",
       "      <td>8.0</td>\n",
       "      <td>C0126-8F-1B</td>\n",
       "      <td>75.366667</td>\n",
       "    </tr>\n",
       "    <tr>\n",
       "      <th>9</th>\n",
       "      <td>127.0</td>\n",
       "      <td>6.0</td>\n",
       "      <td>2 and over</td>\n",
       "      <td>0.0</td>\n",
       "      <td>Vaginal</td>\n",
       "      <td>NaN</td>\n",
       "      <td>NaN</td>\n",
       "      <td>NaN</td>\n",
       "      <td>Female</td>\n",
       "      <td>WISC</td>\n",
       "      <td>...</td>\n",
       "      <td>NaN</td>\n",
       "      <td>NaN</td>\n",
       "      <td>NaN</td>\n",
       "      <td>NaN</td>\n",
       "      <td>NaN</td>\n",
       "      <td>Yes</td>\n",
       "      <td>Mcdespot</td>\n",
       "      <td>6.0</td>\n",
       "      <td>C0127-6F-1B</td>\n",
       "      <td>112.233333</td>\n",
       "    </tr>\n",
       "    <tr>\n",
       "      <th>10</th>\n",
       "      <td>82.0</td>\n",
       "      <td>4.0</td>\n",
       "      <td>2 and over</td>\n",
       "      <td>0.0</td>\n",
       "      <td>Cesarean</td>\n",
       "      <td>NaN</td>\n",
       "      <td>NaN</td>\n",
       "      <td>13.321486</td>\n",
       "      <td>Female</td>\n",
       "      <td>WISC</td>\n",
       "      <td>...</td>\n",
       "      <td>NaN</td>\n",
       "      <td>NaN</td>\n",
       "      <td>NaN</td>\n",
       "      <td>NaN</td>\n",
       "      <td>NaN</td>\n",
       "      <td>NaN</td>\n",
       "      <td>Mcdespot</td>\n",
       "      <td>4.0</td>\n",
       "      <td>C0082-4F-1A</td>\n",
       "      <td>99.466667</td>\n",
       "    </tr>\n",
       "    <tr>\n",
       "      <th>11</th>\n",
       "      <td>507.0</td>\n",
       "      <td>1.0</td>\n",
       "      <td>2 and over</td>\n",
       "      <td>0.0</td>\n",
       "      <td>Vaginal</td>\n",
       "      <td>NaN</td>\n",
       "      <td>NaN</td>\n",
       "      <td>NaN</td>\n",
       "      <td>Male</td>\n",
       "      <td>WISC</td>\n",
       "      <td>...</td>\n",
       "      <td>NaN</td>\n",
       "      <td>NaN</td>\n",
       "      <td>NaN</td>\n",
       "      <td>NaN</td>\n",
       "      <td>NaN</td>\n",
       "      <td>Yes</td>\n",
       "      <td>Mcdespot</td>\n",
       "      <td>1.0</td>\n",
       "      <td>C0507-1F-1A</td>\n",
       "      <td>83.433333</td>\n",
       "    </tr>\n",
       "    <tr>\n",
       "      <th>12</th>\n",
       "      <td>507.0</td>\n",
       "      <td>1.0</td>\n",
       "      <td>2 and over</td>\n",
       "      <td>0.0</td>\n",
       "      <td>Vaginal</td>\n",
       "      <td>NaN</td>\n",
       "      <td>NaN</td>\n",
       "      <td>NaN</td>\n",
       "      <td>Male</td>\n",
       "      <td>WISC</td>\n",
       "      <td>...</td>\n",
       "      <td>NaN</td>\n",
       "      <td>NaN</td>\n",
       "      <td>NaN</td>\n",
       "      <td>NaN</td>\n",
       "      <td>NaN</td>\n",
       "      <td>Yes</td>\n",
       "      <td>Mcdespot</td>\n",
       "      <td>1.0</td>\n",
       "      <td>C0507-1F-2A</td>\n",
       "      <td>83.433333</td>\n",
       "    </tr>\n",
       "    <tr>\n",
       "      <th>13</th>\n",
       "      <td>240.0</td>\n",
       "      <td>3.0</td>\n",
       "      <td>2 and over</td>\n",
       "      <td>0.0</td>\n",
       "      <td>Vaginal</td>\n",
       "      <td>NaN</td>\n",
       "      <td>NaN</td>\n",
       "      <td>NaN</td>\n",
       "      <td>Female</td>\n",
       "      <td>WISC</td>\n",
       "      <td>...</td>\n",
       "      <td>NaN</td>\n",
       "      <td>NaN</td>\n",
       "      <td>NaN</td>\n",
       "      <td>NaN</td>\n",
       "      <td>NaN</td>\n",
       "      <td>Yes</td>\n",
       "      <td>Mcdespot</td>\n",
       "      <td>3.0</td>\n",
       "      <td>C0240-3F-1A</td>\n",
       "      <td>73.400000</td>\n",
       "    </tr>\n",
       "    <tr>\n",
       "      <th>14</th>\n",
       "      <td>240.0</td>\n",
       "      <td>3.0</td>\n",
       "      <td>2 and over</td>\n",
       "      <td>0.0</td>\n",
       "      <td>Vaginal</td>\n",
       "      <td>NaN</td>\n",
       "      <td>NaN</td>\n",
       "      <td>NaN</td>\n",
       "      <td>Female</td>\n",
       "      <td>WISC</td>\n",
       "      <td>...</td>\n",
       "      <td>NaN</td>\n",
       "      <td>NaN</td>\n",
       "      <td>NaN</td>\n",
       "      <td>NaN</td>\n",
       "      <td>NaN</td>\n",
       "      <td>Yes</td>\n",
       "      <td>Mcdespot</td>\n",
       "      <td>3.0</td>\n",
       "      <td>C0240-3F-2A</td>\n",
       "      <td>73.400000</td>\n",
       "    </tr>\n",
       "    <tr>\n",
       "      <th>15</th>\n",
       "      <td>61.0</td>\n",
       "      <td>6.0</td>\n",
       "      <td>2 and over</td>\n",
       "      <td>0.0</td>\n",
       "      <td>Vaginal</td>\n",
       "      <td>NaN</td>\n",
       "      <td>NaN</td>\n",
       "      <td>17.859429</td>\n",
       "      <td>Male</td>\n",
       "      <td>WISC</td>\n",
       "      <td>...</td>\n",
       "      <td>NaN</td>\n",
       "      <td>NaN</td>\n",
       "      <td>NaN</td>\n",
       "      <td>NaN</td>\n",
       "      <td>NaN</td>\n",
       "      <td>NaN</td>\n",
       "      <td>Mcdespot</td>\n",
       "      <td>6.0</td>\n",
       "      <td>C0061-6F-1A</td>\n",
       "      <td>130.733333</td>\n",
       "    </tr>\n",
       "    <tr>\n",
       "      <th>16</th>\n",
       "      <td>61.0</td>\n",
       "      <td>6.0</td>\n",
       "      <td>2 and over</td>\n",
       "      <td>0.0</td>\n",
       "      <td>Vaginal</td>\n",
       "      <td>NaN</td>\n",
       "      <td>NaN</td>\n",
       "      <td>17.859429</td>\n",
       "      <td>Male</td>\n",
       "      <td>WISC</td>\n",
       "      <td>...</td>\n",
       "      <td>NaN</td>\n",
       "      <td>NaN</td>\n",
       "      <td>NaN</td>\n",
       "      <td>NaN</td>\n",
       "      <td>NaN</td>\n",
       "      <td>NaN</td>\n",
       "      <td>Mcdespot</td>\n",
       "      <td>6.0</td>\n",
       "      <td>C0061-6F-2A</td>\n",
       "      <td>130.733333</td>\n",
       "    </tr>\n",
       "    <tr>\n",
       "      <th>17</th>\n",
       "      <td>43.0</td>\n",
       "      <td>7.0</td>\n",
       "      <td>2 and over</td>\n",
       "      <td>0.0</td>\n",
       "      <td>Vaginal</td>\n",
       "      <td>NaN</td>\n",
       "      <td>NaN</td>\n",
       "      <td>19.594504</td>\n",
       "      <td>Male</td>\n",
       "      <td>WISC</td>\n",
       "      <td>...</td>\n",
       "      <td>NaN</td>\n",
       "      <td>NaN</td>\n",
       "      <td>NaN</td>\n",
       "      <td>NaN</td>\n",
       "      <td>NaN</td>\n",
       "      <td>NaN</td>\n",
       "      <td>Mcdespot</td>\n",
       "      <td>7.0</td>\n",
       "      <td>C0043-7F-1A</td>\n",
       "      <td>86.600000</td>\n",
       "    </tr>\n",
       "    <tr>\n",
       "      <th>18</th>\n",
       "      <td>66.0</td>\n",
       "      <td>6.0</td>\n",
       "      <td>2 and over</td>\n",
       "      <td>0.0</td>\n",
       "      <td>Vaginal</td>\n",
       "      <td>NaN</td>\n",
       "      <td>NaN</td>\n",
       "      <td>13.764884</td>\n",
       "      <td>Male</td>\n",
       "      <td>WISC</td>\n",
       "      <td>...</td>\n",
       "      <td>NaN</td>\n",
       "      <td>NaN</td>\n",
       "      <td>NaN</td>\n",
       "      <td>NaN</td>\n",
       "      <td>NaN</td>\n",
       "      <td>NaN</td>\n",
       "      <td>Mcdespot</td>\n",
       "      <td>6.0</td>\n",
       "      <td>C0066-6F-1A</td>\n",
       "      <td>124.866667</td>\n",
       "    </tr>\n",
       "    <tr>\n",
       "      <th>19</th>\n",
       "      <td>66.0</td>\n",
       "      <td>6.0</td>\n",
       "      <td>2 and over</td>\n",
       "      <td>0.0</td>\n",
       "      <td>Vaginal</td>\n",
       "      <td>NaN</td>\n",
       "      <td>NaN</td>\n",
       "      <td>13.764884</td>\n",
       "      <td>Male</td>\n",
       "      <td>WISC</td>\n",
       "      <td>...</td>\n",
       "      <td>NaN</td>\n",
       "      <td>NaN</td>\n",
       "      <td>NaN</td>\n",
       "      <td>NaN</td>\n",
       "      <td>NaN</td>\n",
       "      <td>NaN</td>\n",
       "      <td>Mcdespot</td>\n",
       "      <td>6.0</td>\n",
       "      <td>C0066-6F-1B</td>\n",
       "      <td>124.866667</td>\n",
       "    </tr>\n",
       "    <tr>\n",
       "      <th>20</th>\n",
       "      <td>66.0</td>\n",
       "      <td>6.0</td>\n",
       "      <td>2 and over</td>\n",
       "      <td>0.0</td>\n",
       "      <td>Vaginal</td>\n",
       "      <td>NaN</td>\n",
       "      <td>NaN</td>\n",
       "      <td>13.764884</td>\n",
       "      <td>Male</td>\n",
       "      <td>WISC</td>\n",
       "      <td>...</td>\n",
       "      <td>NaN</td>\n",
       "      <td>NaN</td>\n",
       "      <td>NaN</td>\n",
       "      <td>NaN</td>\n",
       "      <td>NaN</td>\n",
       "      <td>NaN</td>\n",
       "      <td>Mcdespot</td>\n",
       "      <td>6.0</td>\n",
       "      <td>C0066-6F-2A</td>\n",
       "      <td>124.866667</td>\n",
       "    </tr>\n",
       "    <tr>\n",
       "      <th>21</th>\n",
       "      <td>229.0</td>\n",
       "      <td>4.0</td>\n",
       "      <td>2 and over</td>\n",
       "      <td>0.0</td>\n",
       "      <td>Vaginal</td>\n",
       "      <td>NaN</td>\n",
       "      <td>NaN</td>\n",
       "      <td>15.042535</td>\n",
       "      <td>Male</td>\n",
       "      <td>WISC</td>\n",
       "      <td>...</td>\n",
       "      <td>NaN</td>\n",
       "      <td>NaN</td>\n",
       "      <td>NaN</td>\n",
       "      <td>NaN</td>\n",
       "      <td>NaN</td>\n",
       "      <td>NaN</td>\n",
       "      <td>Mcdespot</td>\n",
       "      <td>4.0</td>\n",
       "      <td>C0229-4F-1A</td>\n",
       "      <td>110.300000</td>\n",
       "    </tr>\n",
       "    <tr>\n",
       "      <th>22</th>\n",
       "      <td>229.0</td>\n",
       "      <td>4.0</td>\n",
       "      <td>2 and over</td>\n",
       "      <td>0.0</td>\n",
       "      <td>Vaginal</td>\n",
       "      <td>NaN</td>\n",
       "      <td>NaN</td>\n",
       "      <td>15.042535</td>\n",
       "      <td>Male</td>\n",
       "      <td>WISC</td>\n",
       "      <td>...</td>\n",
       "      <td>NaN</td>\n",
       "      <td>NaN</td>\n",
       "      <td>NaN</td>\n",
       "      <td>NaN</td>\n",
       "      <td>NaN</td>\n",
       "      <td>NaN</td>\n",
       "      <td>Mcdespot</td>\n",
       "      <td>4.0</td>\n",
       "      <td>C0229-4F-2A</td>\n",
       "      <td>110.300000</td>\n",
       "    </tr>\n",
       "    <tr>\n",
       "      <th>23</th>\n",
       "      <td>117.0</td>\n",
       "      <td>4.0</td>\n",
       "      <td>2 and over</td>\n",
       "      <td>0.0</td>\n",
       "      <td>Cesarean</td>\n",
       "      <td>NaN</td>\n",
       "      <td>NaN</td>\n",
       "      <td>12.641523</td>\n",
       "      <td>Female</td>\n",
       "      <td>WISC</td>\n",
       "      <td>...</td>\n",
       "      <td>NaN</td>\n",
       "      <td>NaN</td>\n",
       "      <td>NaN</td>\n",
       "      <td>NaN</td>\n",
       "      <td>NaN</td>\n",
       "      <td>Yes</td>\n",
       "      <td>Mcdespot</td>\n",
       "      <td>4.0</td>\n",
       "      <td>C0117-4F-1A</td>\n",
       "      <td>105.800000</td>\n",
       "    </tr>\n",
       "    <tr>\n",
       "      <th>24</th>\n",
       "      <td>117.0</td>\n",
       "      <td>4.0</td>\n",
       "      <td>2 and over</td>\n",
       "      <td>0.0</td>\n",
       "      <td>Cesarean</td>\n",
       "      <td>NaN</td>\n",
       "      <td>NaN</td>\n",
       "      <td>12.641523</td>\n",
       "      <td>Female</td>\n",
       "      <td>WISC</td>\n",
       "      <td>...</td>\n",
       "      <td>NaN</td>\n",
       "      <td>NaN</td>\n",
       "      <td>NaN</td>\n",
       "      <td>NaN</td>\n",
       "      <td>NaN</td>\n",
       "      <td>Yes</td>\n",
       "      <td>Mcdespot</td>\n",
       "      <td>4.0</td>\n",
       "      <td>C0117-4F-1B</td>\n",
       "      <td>105.800000</td>\n",
       "    </tr>\n",
       "    <tr>\n",
       "      <th>25</th>\n",
       "      <td>117.0</td>\n",
       "      <td>4.0</td>\n",
       "      <td>2 and over</td>\n",
       "      <td>0.0</td>\n",
       "      <td>Cesarean</td>\n",
       "      <td>NaN</td>\n",
       "      <td>NaN</td>\n",
       "      <td>12.641523</td>\n",
       "      <td>Female</td>\n",
       "      <td>WISC</td>\n",
       "      <td>...</td>\n",
       "      <td>NaN</td>\n",
       "      <td>NaN</td>\n",
       "      <td>NaN</td>\n",
       "      <td>NaN</td>\n",
       "      <td>NaN</td>\n",
       "      <td>Yes</td>\n",
       "      <td>Mcdespot</td>\n",
       "      <td>4.0</td>\n",
       "      <td>C0117-4F-2A</td>\n",
       "      <td>105.800000</td>\n",
       "    </tr>\n",
       "    <tr>\n",
       "      <th>26</th>\n",
       "      <td>476.0</td>\n",
       "      <td>3.0</td>\n",
       "      <td>1 to 2</td>\n",
       "      <td>0.0</td>\n",
       "      <td>Vaginal</td>\n",
       "      <td>NaN</td>\n",
       "      <td>NaN</td>\n",
       "      <td>14.617694</td>\n",
       "      <td>Female</td>\n",
       "      <td>Mullen</td>\n",
       "      <td>...</td>\n",
       "      <td>0.0</td>\n",
       "      <td>-0.85</td>\n",
       "      <td>1.81</td>\n",
       "      <td>0.53</td>\n",
       "      <td>-0.69</td>\n",
       "      <td>Yes</td>\n",
       "      <td>Mcdespot</td>\n",
       "      <td>3.0</td>\n",
       "      <td>C0476-3F-1A</td>\n",
       "      <td>24.166667</td>\n",
       "    </tr>\n",
       "    <tr>\n",
       "      <th>27</th>\n",
       "      <td>476.0</td>\n",
       "      <td>3.0</td>\n",
       "      <td>1 to 2</td>\n",
       "      <td>0.0</td>\n",
       "      <td>Vaginal</td>\n",
       "      <td>NaN</td>\n",
       "      <td>NaN</td>\n",
       "      <td>14.617694</td>\n",
       "      <td>Female</td>\n",
       "      <td>Mullen</td>\n",
       "      <td>...</td>\n",
       "      <td>0.0</td>\n",
       "      <td>-0.85</td>\n",
       "      <td>1.81</td>\n",
       "      <td>0.53</td>\n",
       "      <td>-0.69</td>\n",
       "      <td>Yes</td>\n",
       "      <td>Mcdespot</td>\n",
       "      <td>3.0</td>\n",
       "      <td>C0476-3F-2A</td>\n",
       "      <td>24.166667</td>\n",
       "    </tr>\n",
       "    <tr>\n",
       "      <th>28</th>\n",
       "      <td>479.0</td>\n",
       "      <td>3.0</td>\n",
       "      <td>2 and over</td>\n",
       "      <td>0.0</td>\n",
       "      <td>Vaginal</td>\n",
       "      <td>NaN</td>\n",
       "      <td>NaN</td>\n",
       "      <td>14.717395</td>\n",
       "      <td>Female</td>\n",
       "      <td>Mullen</td>\n",
       "      <td>...</td>\n",
       "      <td>0.0</td>\n",
       "      <td>-0.76</td>\n",
       "      <td>-0.68</td>\n",
       "      <td>-0.91</td>\n",
       "      <td>-0.81</td>\n",
       "      <td>NaN</td>\n",
       "      <td>Mcdespot</td>\n",
       "      <td>3.0</td>\n",
       "      <td>C0479-3F-1A</td>\n",
       "      <td>24.766667</td>\n",
       "    </tr>\n",
       "    <tr>\n",
       "      <th>29</th>\n",
       "      <td>479.0</td>\n",
       "      <td>3.0</td>\n",
       "      <td>2 and over</td>\n",
       "      <td>0.0</td>\n",
       "      <td>Vaginal</td>\n",
       "      <td>NaN</td>\n",
       "      <td>NaN</td>\n",
       "      <td>14.717395</td>\n",
       "      <td>Female</td>\n",
       "      <td>Mullen</td>\n",
       "      <td>...</td>\n",
       "      <td>0.0</td>\n",
       "      <td>-0.76</td>\n",
       "      <td>-0.68</td>\n",
       "      <td>-0.91</td>\n",
       "      <td>-0.81</td>\n",
       "      <td>NaN</td>\n",
       "      <td>Mcdespot</td>\n",
       "      <td>3.0</td>\n",
       "      <td>C0479-3F-2A</td>\n",
       "      <td>24.766667</td>\n",
       "    </tr>\n",
       "    <tr>\n",
       "      <th>...</th>\n",
       "      <td>...</td>\n",
       "      <td>...</td>\n",
       "      <td>...</td>\n",
       "      <td>...</td>\n",
       "      <td>...</td>\n",
       "      <td>...</td>\n",
       "      <td>...</td>\n",
       "      <td>...</td>\n",
       "      <td>...</td>\n",
       "      <td>...</td>\n",
       "      <td>...</td>\n",
       "      <td>...</td>\n",
       "      <td>...</td>\n",
       "      <td>...</td>\n",
       "      <td>...</td>\n",
       "      <td>...</td>\n",
       "      <td>...</td>\n",
       "      <td>...</td>\n",
       "      <td>...</td>\n",
       "      <td>...</td>\n",
       "      <td>...</td>\n",
       "    </tr>\n",
       "    <tr>\n",
       "      <th>1192</th>\n",
       "      <td>1273.0</td>\n",
       "      <td>4.0</td>\n",
       "      <td>1 and under</td>\n",
       "      <td>0.0</td>\n",
       "      <td>Cesarean</td>\n",
       "      <td>NaN</td>\n",
       "      <td>NaN</td>\n",
       "      <td>15.939892</td>\n",
       "      <td>Male</td>\n",
       "      <td>None</td>\n",
       "      <td>...</td>\n",
       "      <td>0.0</td>\n",
       "      <td>0.02</td>\n",
       "      <td>-1.89</td>\n",
       "      <td>-1.03</td>\n",
       "      <td>1.16</td>\n",
       "      <td>NaN</td>\n",
       "      <td>Mcdespot</td>\n",
       "      <td>4.0</td>\n",
       "      <td>C1273-4F-1A</td>\n",
       "      <td>0.933333</td>\n",
       "    </tr>\n",
       "    <tr>\n",
       "      <th>1193</th>\n",
       "      <td>1371.0</td>\n",
       "      <td>1.0</td>\n",
       "      <td>Prenatal</td>\n",
       "      <td>0.0</td>\n",
       "      <td>NaN</td>\n",
       "      <td>NaN</td>\n",
       "      <td>NaN</td>\n",
       "      <td>NaN</td>\n",
       "      <td>Male</td>\n",
       "      <td>None</td>\n",
       "      <td>...</td>\n",
       "      <td>NaN</td>\n",
       "      <td>NaN</td>\n",
       "      <td>NaN</td>\n",
       "      <td>NaN</td>\n",
       "      <td>NaN</td>\n",
       "      <td>NaN</td>\n",
       "      <td>NaN</td>\n",
       "      <td>NaN</td>\n",
       "      <td>M1371-1F-1A</td>\n",
       "      <td>NaN</td>\n",
       "    </tr>\n",
       "    <tr>\n",
       "      <th>1194</th>\n",
       "      <td>1316.0</td>\n",
       "      <td>3.0</td>\n",
       "      <td>Prenatal</td>\n",
       "      <td>0.0</td>\n",
       "      <td>NaN</td>\n",
       "      <td>NaN</td>\n",
       "      <td>NaN</td>\n",
       "      <td>NaN</td>\n",
       "      <td>Male</td>\n",
       "      <td>None</td>\n",
       "      <td>...</td>\n",
       "      <td>NaN</td>\n",
       "      <td>NaN</td>\n",
       "      <td>NaN</td>\n",
       "      <td>NaN</td>\n",
       "      <td>NaN</td>\n",
       "      <td>NaN</td>\n",
       "      <td>NaN</td>\n",
       "      <td>NaN</td>\n",
       "      <td>M1316-3F-1A</td>\n",
       "      <td>NaN</td>\n",
       "    </tr>\n",
       "    <tr>\n",
       "      <th>1195</th>\n",
       "      <td>1342.0</td>\n",
       "      <td>2.0</td>\n",
       "      <td>Prenatal</td>\n",
       "      <td>0.0</td>\n",
       "      <td>NaN</td>\n",
       "      <td>NaN</td>\n",
       "      <td>NaN</td>\n",
       "      <td>NaN</td>\n",
       "      <td>Female</td>\n",
       "      <td>None</td>\n",
       "      <td>...</td>\n",
       "      <td>NaN</td>\n",
       "      <td>NaN</td>\n",
       "      <td>NaN</td>\n",
       "      <td>NaN</td>\n",
       "      <td>NaN</td>\n",
       "      <td>NaN</td>\n",
       "      <td>NaN</td>\n",
       "      <td>NaN</td>\n",
       "      <td>M1342-2F-1A</td>\n",
       "      <td>NaN</td>\n",
       "    </tr>\n",
       "    <tr>\n",
       "      <th>1196</th>\n",
       "      <td>635.0</td>\n",
       "      <td>3.0</td>\n",
       "      <td>2 and over</td>\n",
       "      <td>0.0</td>\n",
       "      <td>Vaginal</td>\n",
       "      <td>NaN</td>\n",
       "      <td>NaN</td>\n",
       "      <td>14.673942</td>\n",
       "      <td>Female</td>\n",
       "      <td>None</td>\n",
       "      <td>...</td>\n",
       "      <td>NaN</td>\n",
       "      <td>NaN</td>\n",
       "      <td>NaN</td>\n",
       "      <td>NaN</td>\n",
       "      <td>NaN</td>\n",
       "      <td>NaN</td>\n",
       "      <td>Mcdespot</td>\n",
       "      <td>3.0</td>\n",
       "      <td>C0635-3F-1A</td>\n",
       "      <td>67.866667</td>\n",
       "    </tr>\n",
       "    <tr>\n",
       "      <th>1197</th>\n",
       "      <td>1352.0</td>\n",
       "      <td>2.0</td>\n",
       "      <td>Prenatal</td>\n",
       "      <td>0.0</td>\n",
       "      <td>NaN</td>\n",
       "      <td>NaN</td>\n",
       "      <td>NaN</td>\n",
       "      <td>NaN</td>\n",
       "      <td>Male</td>\n",
       "      <td>None</td>\n",
       "      <td>...</td>\n",
       "      <td>NaN</td>\n",
       "      <td>NaN</td>\n",
       "      <td>NaN</td>\n",
       "      <td>NaN</td>\n",
       "      <td>NaN</td>\n",
       "      <td>NaN</td>\n",
       "      <td>NaN</td>\n",
       "      <td>NaN</td>\n",
       "      <td>M1352-2F-1A</td>\n",
       "      <td>NaN</td>\n",
       "    </tr>\n",
       "    <tr>\n",
       "      <th>1198</th>\n",
       "      <td>1324.0</td>\n",
       "      <td>3.0</td>\n",
       "      <td>Prenatal</td>\n",
       "      <td>0.0</td>\n",
       "      <td>NaN</td>\n",
       "      <td>NaN</td>\n",
       "      <td>NaN</td>\n",
       "      <td>NaN</td>\n",
       "      <td>Female</td>\n",
       "      <td>None</td>\n",
       "      <td>...</td>\n",
       "      <td>NaN</td>\n",
       "      <td>NaN</td>\n",
       "      <td>NaN</td>\n",
       "      <td>NaN</td>\n",
       "      <td>NaN</td>\n",
       "      <td>NaN</td>\n",
       "      <td>NaN</td>\n",
       "      <td>NaN</td>\n",
       "      <td>M1324-3F-1A</td>\n",
       "      <td>NaN</td>\n",
       "    </tr>\n",
       "    <tr>\n",
       "      <th>1199</th>\n",
       "      <td>1305.0</td>\n",
       "      <td>3.0</td>\n",
       "      <td>Prenatal</td>\n",
       "      <td>0.0</td>\n",
       "      <td>NaN</td>\n",
       "      <td>NaN</td>\n",
       "      <td>NaN</td>\n",
       "      <td>NaN</td>\n",
       "      <td>Male</td>\n",
       "      <td>None</td>\n",
       "      <td>...</td>\n",
       "      <td>NaN</td>\n",
       "      <td>NaN</td>\n",
       "      <td>NaN</td>\n",
       "      <td>NaN</td>\n",
       "      <td>NaN</td>\n",
       "      <td>NaN</td>\n",
       "      <td>NaN</td>\n",
       "      <td>NaN</td>\n",
       "      <td>M1305-3F-1A</td>\n",
       "      <td>NaN</td>\n",
       "    </tr>\n",
       "    <tr>\n",
       "      <th>1200</th>\n",
       "      <td>1318.0</td>\n",
       "      <td>3.0</td>\n",
       "      <td>Prenatal</td>\n",
       "      <td>0.0</td>\n",
       "      <td>NaN</td>\n",
       "      <td>NaN</td>\n",
       "      <td>NaN</td>\n",
       "      <td>NaN</td>\n",
       "      <td>Male</td>\n",
       "      <td>None</td>\n",
       "      <td>...</td>\n",
       "      <td>NaN</td>\n",
       "      <td>NaN</td>\n",
       "      <td>NaN</td>\n",
       "      <td>NaN</td>\n",
       "      <td>NaN</td>\n",
       "      <td>NaN</td>\n",
       "      <td>NaN</td>\n",
       "      <td>NaN</td>\n",
       "      <td>M1318-3F-1A</td>\n",
       "      <td>NaN</td>\n",
       "    </tr>\n",
       "    <tr>\n",
       "      <th>1201</th>\n",
       "      <td>1322.0</td>\n",
       "      <td>3.0</td>\n",
       "      <td>Prenatal</td>\n",
       "      <td>0.0</td>\n",
       "      <td>Vaginal</td>\n",
       "      <td>NaN</td>\n",
       "      <td>NaN</td>\n",
       "      <td>NaN</td>\n",
       "      <td>Female</td>\n",
       "      <td>None</td>\n",
       "      <td>...</td>\n",
       "      <td>NaN</td>\n",
       "      <td>NaN</td>\n",
       "      <td>NaN</td>\n",
       "      <td>NaN</td>\n",
       "      <td>NaN</td>\n",
       "      <td>NaN</td>\n",
       "      <td>NaN</td>\n",
       "      <td>NaN</td>\n",
       "      <td>M1322-3F-1A</td>\n",
       "      <td>NaN</td>\n",
       "    </tr>\n",
       "    <tr>\n",
       "      <th>1202</th>\n",
       "      <td>571.0</td>\n",
       "      <td>3.0</td>\n",
       "      <td>2 and over</td>\n",
       "      <td>0.0</td>\n",
       "      <td>Vaginal</td>\n",
       "      <td>NaN</td>\n",
       "      <td>NaN</td>\n",
       "      <td>14.270571</td>\n",
       "      <td>Male</td>\n",
       "      <td>WISC</td>\n",
       "      <td>...</td>\n",
       "      <td>NaN</td>\n",
       "      <td>NaN</td>\n",
       "      <td>NaN</td>\n",
       "      <td>NaN</td>\n",
       "      <td>NaN</td>\n",
       "      <td>NaN</td>\n",
       "      <td>Mcdespot</td>\n",
       "      <td>3.0</td>\n",
       "      <td>C0571-3F-1A</td>\n",
       "      <td>72.900000</td>\n",
       "    </tr>\n",
       "    <tr>\n",
       "      <th>1203</th>\n",
       "      <td>1353.0</td>\n",
       "      <td>2.0</td>\n",
       "      <td>Prenatal</td>\n",
       "      <td>0.0</td>\n",
       "      <td>NaN</td>\n",
       "      <td>NaN</td>\n",
       "      <td>NaN</td>\n",
       "      <td>NaN</td>\n",
       "      <td>Male</td>\n",
       "      <td>None</td>\n",
       "      <td>...</td>\n",
       "      <td>NaN</td>\n",
       "      <td>NaN</td>\n",
       "      <td>NaN</td>\n",
       "      <td>NaN</td>\n",
       "      <td>NaN</td>\n",
       "      <td>NaN</td>\n",
       "      <td>NaN</td>\n",
       "      <td>NaN</td>\n",
       "      <td>M1353-2F-1A</td>\n",
       "      <td>NaN</td>\n",
       "    </tr>\n",
       "    <tr>\n",
       "      <th>1204</th>\n",
       "      <td>1376.0</td>\n",
       "      <td>1.0</td>\n",
       "      <td>2 and over</td>\n",
       "      <td>0.0</td>\n",
       "      <td>Vaginal</td>\n",
       "      <td>NaN</td>\n",
       "      <td>NaN</td>\n",
       "      <td>18.803472</td>\n",
       "      <td>Female</td>\n",
       "      <td>WPPSI</td>\n",
       "      <td>...</td>\n",
       "      <td>NaN</td>\n",
       "      <td>NaN</td>\n",
       "      <td>NaN</td>\n",
       "      <td>NaN</td>\n",
       "      <td>NaN</td>\n",
       "      <td>NaN</td>\n",
       "      <td>Mcdespot</td>\n",
       "      <td>1.0</td>\n",
       "      <td>M1376-1F-1A</td>\n",
       "      <td>73.166667</td>\n",
       "    </tr>\n",
       "    <tr>\n",
       "      <th>1205</th>\n",
       "      <td>1347.0</td>\n",
       "      <td>2.0</td>\n",
       "      <td>Prenatal</td>\n",
       "      <td>0.0</td>\n",
       "      <td>NaN</td>\n",
       "      <td>NaN</td>\n",
       "      <td>NaN</td>\n",
       "      <td>NaN</td>\n",
       "      <td>Female</td>\n",
       "      <td>None</td>\n",
       "      <td>...</td>\n",
       "      <td>NaN</td>\n",
       "      <td>NaN</td>\n",
       "      <td>NaN</td>\n",
       "      <td>NaN</td>\n",
       "      <td>NaN</td>\n",
       "      <td>NaN</td>\n",
       "      <td>NaN</td>\n",
       "      <td>NaN</td>\n",
       "      <td>M1347-2F-1A</td>\n",
       "      <td>NaN</td>\n",
       "    </tr>\n",
       "    <tr>\n",
       "      <th>1206</th>\n",
       "      <td>1345.0</td>\n",
       "      <td>2.0</td>\n",
       "      <td>Prenatal</td>\n",
       "      <td>0.0</td>\n",
       "      <td>NaN</td>\n",
       "      <td>NaN</td>\n",
       "      <td>NaN</td>\n",
       "      <td>NaN</td>\n",
       "      <td>Female</td>\n",
       "      <td>None</td>\n",
       "      <td>...</td>\n",
       "      <td>NaN</td>\n",
       "      <td>NaN</td>\n",
       "      <td>NaN</td>\n",
       "      <td>NaN</td>\n",
       "      <td>NaN</td>\n",
       "      <td>NaN</td>\n",
       "      <td>NaN</td>\n",
       "      <td>NaN</td>\n",
       "      <td>M1345-2F-1A</td>\n",
       "      <td>NaN</td>\n",
       "    </tr>\n",
       "    <tr>\n",
       "      <th>1207</th>\n",
       "      <td>123.0</td>\n",
       "      <td>5.0</td>\n",
       "      <td>2 and over</td>\n",
       "      <td>0.0</td>\n",
       "      <td>Vaginal</td>\n",
       "      <td>NaN</td>\n",
       "      <td>NaN</td>\n",
       "      <td>NaN</td>\n",
       "      <td>Female</td>\n",
       "      <td>WISC</td>\n",
       "      <td>...</td>\n",
       "      <td>NaN</td>\n",
       "      <td>NaN</td>\n",
       "      <td>NaN</td>\n",
       "      <td>NaN</td>\n",
       "      <td>NaN</td>\n",
       "      <td>NaN</td>\n",
       "      <td>Mcdespot</td>\n",
       "      <td>5.0</td>\n",
       "      <td>C0123-5F-1A</td>\n",
       "      <td>116.033333</td>\n",
       "    </tr>\n",
       "    <tr>\n",
       "      <th>1208</th>\n",
       "      <td>623.0</td>\n",
       "      <td>3.0</td>\n",
       "      <td>2 and over</td>\n",
       "      <td>0.0</td>\n",
       "      <td>Cesarean</td>\n",
       "      <td>NaN</td>\n",
       "      <td>NaN</td>\n",
       "      <td>13.531110</td>\n",
       "      <td>Male</td>\n",
       "      <td>None</td>\n",
       "      <td>...</td>\n",
       "      <td>NaN</td>\n",
       "      <td>NaN</td>\n",
       "      <td>NaN</td>\n",
       "      <td>NaN</td>\n",
       "      <td>NaN</td>\n",
       "      <td>NaN</td>\n",
       "      <td>Mcdespot</td>\n",
       "      <td>3.0</td>\n",
       "      <td>C0623-3F-1A</td>\n",
       "      <td>93.233333</td>\n",
       "    </tr>\n",
       "    <tr>\n",
       "      <th>1209</th>\n",
       "      <td>1359.0</td>\n",
       "      <td>2.0</td>\n",
       "      <td>Prenatal</td>\n",
       "      <td>0.0</td>\n",
       "      <td>NaN</td>\n",
       "      <td>NaN</td>\n",
       "      <td>NaN</td>\n",
       "      <td>NaN</td>\n",
       "      <td>Female</td>\n",
       "      <td>None</td>\n",
       "      <td>...</td>\n",
       "      <td>NaN</td>\n",
       "      <td>NaN</td>\n",
       "      <td>NaN</td>\n",
       "      <td>NaN</td>\n",
       "      <td>NaN</td>\n",
       "      <td>NaN</td>\n",
       "      <td>NaN</td>\n",
       "      <td>NaN</td>\n",
       "      <td>M1359-2F-1A</td>\n",
       "      <td>NaN</td>\n",
       "    </tr>\n",
       "    <tr>\n",
       "      <th>1210</th>\n",
       "      <td>1050.0</td>\n",
       "      <td>9.0</td>\n",
       "      <td>1 and under</td>\n",
       "      <td>0.0</td>\n",
       "      <td>Vaginal</td>\n",
       "      <td>NaN</td>\n",
       "      <td>NaN</td>\n",
       "      <td>NaN</td>\n",
       "      <td>Female</td>\n",
       "      <td>None</td>\n",
       "      <td>...</td>\n",
       "      <td>NaN</td>\n",
       "      <td>NaN</td>\n",
       "      <td>NaN</td>\n",
       "      <td>NaN</td>\n",
       "      <td>NaN</td>\n",
       "      <td>NaN</td>\n",
       "      <td>NaN</td>\n",
       "      <td>NaN</td>\n",
       "      <td>C1050-9F-1A</td>\n",
       "      <td>7.333333</td>\n",
       "    </tr>\n",
       "    <tr>\n",
       "      <th>1211</th>\n",
       "      <td>1220.0</td>\n",
       "      <td>4.0</td>\n",
       "      <td>1 and under</td>\n",
       "      <td>0.0</td>\n",
       "      <td>Vaginal</td>\n",
       "      <td>NaN</td>\n",
       "      <td>NaN</td>\n",
       "      <td>18.925557</td>\n",
       "      <td>Male</td>\n",
       "      <td>Mullen</td>\n",
       "      <td>...</td>\n",
       "      <td>0.0</td>\n",
       "      <td>1.24</td>\n",
       "      <td>1.63</td>\n",
       "      <td>1.85</td>\n",
       "      <td>1.13</td>\n",
       "      <td>NaN</td>\n",
       "      <td>NaN</td>\n",
       "      <td>NaN</td>\n",
       "      <td>C1220-4F-1A</td>\n",
       "      <td>3.533333</td>\n",
       "    </tr>\n",
       "    <tr>\n",
       "      <th>1212</th>\n",
       "      <td>1362.0</td>\n",
       "      <td>2.0</td>\n",
       "      <td>Prenatal</td>\n",
       "      <td>0.0</td>\n",
       "      <td>NaN</td>\n",
       "      <td>NaN</td>\n",
       "      <td>NaN</td>\n",
       "      <td>NaN</td>\n",
       "      <td>Female</td>\n",
       "      <td>None</td>\n",
       "      <td>...</td>\n",
       "      <td>NaN</td>\n",
       "      <td>NaN</td>\n",
       "      <td>NaN</td>\n",
       "      <td>NaN</td>\n",
       "      <td>NaN</td>\n",
       "      <td>NaN</td>\n",
       "      <td>NaN</td>\n",
       "      <td>NaN</td>\n",
       "      <td>M1362-2F-1A</td>\n",
       "      <td>NaN</td>\n",
       "    </tr>\n",
       "    <tr>\n",
       "      <th>1213</th>\n",
       "      <td>1215.0</td>\n",
       "      <td>4.0</td>\n",
       "      <td>1 and under</td>\n",
       "      <td>0.0</td>\n",
       "      <td>Cesarean</td>\n",
       "      <td>NaN</td>\n",
       "      <td>NaN</td>\n",
       "      <td>19.160249</td>\n",
       "      <td>Female</td>\n",
       "      <td>Mullen</td>\n",
       "      <td>...</td>\n",
       "      <td>0.0</td>\n",
       "      <td>1.57</td>\n",
       "      <td>-0.20</td>\n",
       "      <td>1.05</td>\n",
       "      <td>1.62</td>\n",
       "      <td>NaN</td>\n",
       "      <td>NaN</td>\n",
       "      <td>NaN</td>\n",
       "      <td>C1215-4F-1A</td>\n",
       "      <td>3.733333</td>\n",
       "    </tr>\n",
       "    <tr>\n",
       "      <th>1214</th>\n",
       "      <td>1336.0</td>\n",
       "      <td>3.0</td>\n",
       "      <td>Prenatal</td>\n",
       "      <td>0.0</td>\n",
       "      <td>NaN</td>\n",
       "      <td>NaN</td>\n",
       "      <td>NaN</td>\n",
       "      <td>NaN</td>\n",
       "      <td>Female</td>\n",
       "      <td>None</td>\n",
       "      <td>...</td>\n",
       "      <td>NaN</td>\n",
       "      <td>NaN</td>\n",
       "      <td>NaN</td>\n",
       "      <td>NaN</td>\n",
       "      <td>NaN</td>\n",
       "      <td>NaN</td>\n",
       "      <td>NaN</td>\n",
       "      <td>NaN</td>\n",
       "      <td>M1336-3F-1A</td>\n",
       "      <td>NaN</td>\n",
       "    </tr>\n",
       "    <tr>\n",
       "      <th>1215</th>\n",
       "      <td>1271.0</td>\n",
       "      <td>4.0</td>\n",
       "      <td>1 and under</td>\n",
       "      <td>0.0</td>\n",
       "      <td>Cesarean</td>\n",
       "      <td>NaN</td>\n",
       "      <td>NaN</td>\n",
       "      <td>NaN</td>\n",
       "      <td>Female</td>\n",
       "      <td>None</td>\n",
       "      <td>...</td>\n",
       "      <td>NaN</td>\n",
       "      <td>NaN</td>\n",
       "      <td>NaN</td>\n",
       "      <td>NaN</td>\n",
       "      <td>NaN</td>\n",
       "      <td>NaN</td>\n",
       "      <td>Mcdespot</td>\n",
       "      <td>4.0</td>\n",
       "      <td>C1271-4F-1A</td>\n",
       "      <td>1.466667</td>\n",
       "    </tr>\n",
       "    <tr>\n",
       "      <th>1216</th>\n",
       "      <td>1244.0</td>\n",
       "      <td>4.0</td>\n",
       "      <td>1 and under</td>\n",
       "      <td>0.0</td>\n",
       "      <td>Vaginal</td>\n",
       "      <td>NaN</td>\n",
       "      <td>NaN</td>\n",
       "      <td>17.141863</td>\n",
       "      <td>Female</td>\n",
       "      <td>Mullen</td>\n",
       "      <td>...</td>\n",
       "      <td>0.0</td>\n",
       "      <td>0.32</td>\n",
       "      <td>-1.58</td>\n",
       "      <td>-0.67</td>\n",
       "      <td>0.74</td>\n",
       "      <td>NaN</td>\n",
       "      <td>Mcdespot</td>\n",
       "      <td>4.0</td>\n",
       "      <td>C1244-4F-1A</td>\n",
       "      <td>3.933333</td>\n",
       "    </tr>\n",
       "    <tr>\n",
       "      <th>1217</th>\n",
       "      <td>1234.0</td>\n",
       "      <td>4.0</td>\n",
       "      <td>1 and under</td>\n",
       "      <td>0.0</td>\n",
       "      <td>Vaginal</td>\n",
       "      <td>NaN</td>\n",
       "      <td>NaN</td>\n",
       "      <td>16.537532</td>\n",
       "      <td>Female</td>\n",
       "      <td>Mullen</td>\n",
       "      <td>...</td>\n",
       "      <td>0.0</td>\n",
       "      <td>-0.07</td>\n",
       "      <td>-2.17</td>\n",
       "      <td>-1.31</td>\n",
       "      <td>0.57</td>\n",
       "      <td>NaN</td>\n",
       "      <td>Mcdespot</td>\n",
       "      <td>4.0</td>\n",
       "      <td>C1234-4F-1A</td>\n",
       "      <td>3.233333</td>\n",
       "    </tr>\n",
       "    <tr>\n",
       "      <th>1218</th>\n",
       "      <td>1333.0</td>\n",
       "      <td>3.0</td>\n",
       "      <td>Prenatal</td>\n",
       "      <td>0.0</td>\n",
       "      <td>NaN</td>\n",
       "      <td>NaN</td>\n",
       "      <td>NaN</td>\n",
       "      <td>NaN</td>\n",
       "      <td>Male</td>\n",
       "      <td>None</td>\n",
       "      <td>...</td>\n",
       "      <td>NaN</td>\n",
       "      <td>NaN</td>\n",
       "      <td>NaN</td>\n",
       "      <td>NaN</td>\n",
       "      <td>NaN</td>\n",
       "      <td>NaN</td>\n",
       "      <td>NaN</td>\n",
       "      <td>NaN</td>\n",
       "      <td>M1333-3F-1A</td>\n",
       "      <td>NaN</td>\n",
       "    </tr>\n",
       "    <tr>\n",
       "      <th>1219</th>\n",
       "      <td>1135.0</td>\n",
       "      <td>5.0</td>\n",
       "      <td>1 and under</td>\n",
       "      <td>0.0</td>\n",
       "      <td>Cesarean</td>\n",
       "      <td>NaN</td>\n",
       "      <td>NaN</td>\n",
       "      <td>19.675012</td>\n",
       "      <td>Female</td>\n",
       "      <td>Mullen</td>\n",
       "      <td>...</td>\n",
       "      <td>0.0</td>\n",
       "      <td>1.66</td>\n",
       "      <td>-0.50</td>\n",
       "      <td>0.96</td>\n",
       "      <td>1.71</td>\n",
       "      <td>NaN</td>\n",
       "      <td>NaN</td>\n",
       "      <td>NaN</td>\n",
       "      <td>C1135-5F-1A</td>\n",
       "      <td>6.000000</td>\n",
       "    </tr>\n",
       "    <tr>\n",
       "      <th>1220</th>\n",
       "      <td>492.0</td>\n",
       "      <td>7.0</td>\n",
       "      <td>1 to 2</td>\n",
       "      <td>0.0</td>\n",
       "      <td>Vaginal</td>\n",
       "      <td>NaN</td>\n",
       "      <td>NaN</td>\n",
       "      <td>16.206351</td>\n",
       "      <td>Male</td>\n",
       "      <td>Mullen</td>\n",
       "      <td>...</td>\n",
       "      <td>0.0</td>\n",
       "      <td>0.05</td>\n",
       "      <td>-0.69</td>\n",
       "      <td>-0.39</td>\n",
       "      <td>-0.06</td>\n",
       "      <td>NaN</td>\n",
       "      <td>Mcdespot</td>\n",
       "      <td>7.0</td>\n",
       "      <td>C0492-7F-1A</td>\n",
       "      <td>18.400000</td>\n",
       "    </tr>\n",
       "    <tr>\n",
       "      <th>1221</th>\n",
       "      <td>194.0</td>\n",
       "      <td>5.0</td>\n",
       "      <td>2 and over</td>\n",
       "      <td>0.0</td>\n",
       "      <td>Cesarean</td>\n",
       "      <td>NaN</td>\n",
       "      <td>NaN</td>\n",
       "      <td>19.445971</td>\n",
       "      <td>Female</td>\n",
       "      <td>None</td>\n",
       "      <td>...</td>\n",
       "      <td>NaN</td>\n",
       "      <td>NaN</td>\n",
       "      <td>NaN</td>\n",
       "      <td>NaN</td>\n",
       "      <td>NaN</td>\n",
       "      <td>NaN</td>\n",
       "      <td>Mcdespot</td>\n",
       "      <td>5.0</td>\n",
       "      <td>C0194-5F-1A</td>\n",
       "      <td>117.700000</td>\n",
       "    </tr>\n",
       "  </tbody>\n",
       "</table>\n",
       "<p>1222 rows × 47 columns</p>\n",
       "</div>"
      ],
      "text/plain": [
       "      subjectID  timepoint     ageLabel  ASLProcessed birthType  \\\n",
       "0          52.0        5.0   2 and over           0.0  Cesarean   \n",
       "1          53.0        6.0   2 and over           0.0  Cesarean   \n",
       "2         202.0        4.0   2 and over           0.0   Vaginal   \n",
       "3         202.0        4.0   2 and over           0.0   Vaginal   \n",
       "4         420.0        4.0   2 and over           0.0   Vaginal   \n",
       "5         420.0        4.0   2 and over           0.0   Vaginal   \n",
       "6         108.0        4.0   2 and over           0.0  Cesarean   \n",
       "7         126.0        8.0   2 and over           0.0   Vaginal   \n",
       "8         126.0        8.0   2 and over           0.0   Vaginal   \n",
       "9         127.0        6.0   2 and over           0.0   Vaginal   \n",
       "10         82.0        4.0   2 and over           0.0  Cesarean   \n",
       "11        507.0        1.0   2 and over           0.0   Vaginal   \n",
       "12        507.0        1.0   2 and over           0.0   Vaginal   \n",
       "13        240.0        3.0   2 and over           0.0   Vaginal   \n",
       "14        240.0        3.0   2 and over           0.0   Vaginal   \n",
       "15         61.0        6.0   2 and over           0.0   Vaginal   \n",
       "16         61.0        6.0   2 and over           0.0   Vaginal   \n",
       "17         43.0        7.0   2 and over           0.0   Vaginal   \n",
       "18         66.0        6.0   2 and over           0.0   Vaginal   \n",
       "19         66.0        6.0   2 and over           0.0   Vaginal   \n",
       "20         66.0        6.0   2 and over           0.0   Vaginal   \n",
       "21        229.0        4.0   2 and over           0.0   Vaginal   \n",
       "22        229.0        4.0   2 and over           0.0   Vaginal   \n",
       "23        117.0        4.0   2 and over           0.0  Cesarean   \n",
       "24        117.0        4.0   2 and over           0.0  Cesarean   \n",
       "25        117.0        4.0   2 and over           0.0  Cesarean   \n",
       "26        476.0        3.0       1 to 2           0.0   Vaginal   \n",
       "27        476.0        3.0       1 to 2           0.0   Vaginal   \n",
       "28        479.0        3.0   2 and over           0.0   Vaginal   \n",
       "29        479.0        3.0   2 and over           0.0   Vaginal   \n",
       "...         ...        ...          ...           ...       ...   \n",
       "1192     1273.0        4.0  1 and under           0.0  Cesarean   \n",
       "1193     1371.0        1.0     Prenatal           0.0       NaN   \n",
       "1194     1316.0        3.0     Prenatal           0.0       NaN   \n",
       "1195     1342.0        2.0     Prenatal           0.0       NaN   \n",
       "1196      635.0        3.0   2 and over           0.0   Vaginal   \n",
       "1197     1352.0        2.0     Prenatal           0.0       NaN   \n",
       "1198     1324.0        3.0     Prenatal           0.0       NaN   \n",
       "1199     1305.0        3.0     Prenatal           0.0       NaN   \n",
       "1200     1318.0        3.0     Prenatal           0.0       NaN   \n",
       "1201     1322.0        3.0     Prenatal           0.0   Vaginal   \n",
       "1202      571.0        3.0   2 and over           0.0   Vaginal   \n",
       "1203     1353.0        2.0     Prenatal           0.0       NaN   \n",
       "1204     1376.0        1.0   2 and over           0.0   Vaginal   \n",
       "1205     1347.0        2.0     Prenatal           0.0       NaN   \n",
       "1206     1345.0        2.0     Prenatal           0.0       NaN   \n",
       "1207      123.0        5.0   2 and over           0.0   Vaginal   \n",
       "1208      623.0        3.0   2 and over           0.0  Cesarean   \n",
       "1209     1359.0        2.0     Prenatal           0.0       NaN   \n",
       "1210     1050.0        9.0  1 and under           0.0   Vaginal   \n",
       "1211     1220.0        4.0  1 and under           0.0   Vaginal   \n",
       "1212     1362.0        2.0     Prenatal           0.0       NaN   \n",
       "1213     1215.0        4.0  1 and under           0.0  Cesarean   \n",
       "1214     1336.0        3.0     Prenatal           0.0       NaN   \n",
       "1215     1271.0        4.0  1 and under           0.0  Cesarean   \n",
       "1216     1244.0        4.0  1 and under           0.0   Vaginal   \n",
       "1217     1234.0        4.0  1 and under           0.0   Vaginal   \n",
       "1218     1333.0        3.0     Prenatal           0.0       NaN   \n",
       "1219     1135.0        5.0  1 and under           0.0  Cesarean   \n",
       "1220      492.0        7.0       1 to 2           0.0   Vaginal   \n",
       "1221      194.0        5.0   2 and over           0.0  Cesarean   \n",
       "\n",
       "      breastFedPercent breastfeeding   childBMI childGender cogAssessment  \\\n",
       "0                  NaN           NaN  16.728348        Male          WISC   \n",
       "1                  NaN           NaN  16.008798      Female         WPPSI   \n",
       "2                  NaN           NaN  15.285845      Female         WPPSI   \n",
       "3                  NaN           NaN  15.285845      Female         WPPSI   \n",
       "4                  NaN           NaN  18.979630      Female        Mullen   \n",
       "5                  NaN           NaN  18.979630      Female        Mullen   \n",
       "6                  NaN           NaN  17.834450        Male          WISC   \n",
       "7                  NaN           NaN        NaN        Male          WISC   \n",
       "8                  NaN           NaN        NaN        Male          WISC   \n",
       "9                  NaN           NaN        NaN      Female          WISC   \n",
       "10                 NaN           NaN  13.321486      Female          WISC   \n",
       "11                 NaN           NaN        NaN        Male          WISC   \n",
       "12                 NaN           NaN        NaN        Male          WISC   \n",
       "13                 NaN           NaN        NaN      Female          WISC   \n",
       "14                 NaN           NaN        NaN      Female          WISC   \n",
       "15                 NaN           NaN  17.859429        Male          WISC   \n",
       "16                 NaN           NaN  17.859429        Male          WISC   \n",
       "17                 NaN           NaN  19.594504        Male          WISC   \n",
       "18                 NaN           NaN  13.764884        Male          WISC   \n",
       "19                 NaN           NaN  13.764884        Male          WISC   \n",
       "20                 NaN           NaN  13.764884        Male          WISC   \n",
       "21                 NaN           NaN  15.042535        Male          WISC   \n",
       "22                 NaN           NaN  15.042535        Male          WISC   \n",
       "23                 NaN           NaN  12.641523      Female          WISC   \n",
       "24                 NaN           NaN  12.641523      Female          WISC   \n",
       "25                 NaN           NaN  12.641523      Female          WISC   \n",
       "26                 NaN           NaN  14.617694      Female        Mullen   \n",
       "27                 NaN           NaN  14.617694      Female        Mullen   \n",
       "28                 NaN           NaN  14.717395      Female        Mullen   \n",
       "29                 NaN           NaN  14.717395      Female        Mullen   \n",
       "...                ...           ...        ...         ...           ...   \n",
       "1192               NaN           NaN  15.939892        Male          None   \n",
       "1193               NaN           NaN        NaN        Male          None   \n",
       "1194               NaN           NaN        NaN        Male          None   \n",
       "1195               NaN           NaN        NaN      Female          None   \n",
       "1196               NaN           NaN  14.673942      Female          None   \n",
       "1197               NaN           NaN        NaN        Male          None   \n",
       "1198               NaN           NaN        NaN      Female          None   \n",
       "1199               NaN           NaN        NaN        Male          None   \n",
       "1200               NaN           NaN        NaN        Male          None   \n",
       "1201               NaN           NaN        NaN      Female          None   \n",
       "1202               NaN           NaN  14.270571        Male          WISC   \n",
       "1203               NaN           NaN        NaN        Male          None   \n",
       "1204               NaN           NaN  18.803472      Female         WPPSI   \n",
       "1205               NaN           NaN        NaN      Female          None   \n",
       "1206               NaN           NaN        NaN      Female          None   \n",
       "1207               NaN           NaN        NaN      Female          WISC   \n",
       "1208               NaN           NaN  13.531110        Male          None   \n",
       "1209               NaN           NaN        NaN      Female          None   \n",
       "1210               NaN           NaN        NaN      Female          None   \n",
       "1211               NaN           NaN  18.925557        Male        Mullen   \n",
       "1212               NaN           NaN        NaN      Female          None   \n",
       "1213               NaN           NaN  19.160249      Female        Mullen   \n",
       "1214               NaN           NaN        NaN      Female          None   \n",
       "1215               NaN           NaN        NaN      Female          None   \n",
       "1216               NaN           NaN  17.141863      Female        Mullen   \n",
       "1217               NaN           NaN  16.537532      Female        Mullen   \n",
       "1218               NaN           NaN        NaN        Male          None   \n",
       "1219               NaN           NaN  19.675012      Female        Mullen   \n",
       "1220               NaN           NaN  16.206351        Male        Mullen   \n",
       "1221               NaN           NaN  19.445971      Female          None   \n",
       "\n",
       "      ...  WHO_fwfl  WHO_zbmi  WHO_zlen  WHO_zwei  WHO_zwfl  \\\n",
       "0     ...       NaN       NaN       NaN       NaN       NaN   \n",
       "1     ...       NaN       NaN       NaN       NaN       NaN   \n",
       "2     ...       0.0      0.03     -1.26     -0.75      0.04   \n",
       "3     ...       0.0      0.03     -1.26     -0.75      0.04   \n",
       "4     ...       0.0      2.19     -3.46     -0.68      1.61   \n",
       "5     ...       0.0      2.19     -3.46     -0.68      1.61   \n",
       "6     ...       NaN       NaN       NaN       NaN       NaN   \n",
       "7     ...       NaN       NaN       NaN       NaN       NaN   \n",
       "8     ...       NaN       NaN       NaN       NaN       NaN   \n",
       "9     ...       NaN       NaN       NaN       NaN       NaN   \n",
       "10    ...       NaN       NaN       NaN       NaN       NaN   \n",
       "11    ...       NaN       NaN       NaN       NaN       NaN   \n",
       "12    ...       NaN       NaN       NaN       NaN       NaN   \n",
       "13    ...       NaN       NaN       NaN       NaN       NaN   \n",
       "14    ...       NaN       NaN       NaN       NaN       NaN   \n",
       "15    ...       NaN       NaN       NaN       NaN       NaN   \n",
       "16    ...       NaN       NaN       NaN       NaN       NaN   \n",
       "17    ...       NaN       NaN       NaN       NaN       NaN   \n",
       "18    ...       NaN       NaN       NaN       NaN       NaN   \n",
       "19    ...       NaN       NaN       NaN       NaN       NaN   \n",
       "20    ...       NaN       NaN       NaN       NaN       NaN   \n",
       "21    ...       NaN       NaN       NaN       NaN       NaN   \n",
       "22    ...       NaN       NaN       NaN       NaN       NaN   \n",
       "23    ...       NaN       NaN       NaN       NaN       NaN   \n",
       "24    ...       NaN       NaN       NaN       NaN       NaN   \n",
       "25    ...       NaN       NaN       NaN       NaN       NaN   \n",
       "26    ...       0.0     -0.85      1.81      0.53     -0.69   \n",
       "27    ...       0.0     -0.85      1.81      0.53     -0.69   \n",
       "28    ...       0.0     -0.76     -0.68     -0.91     -0.81   \n",
       "29    ...       0.0     -0.76     -0.68     -0.91     -0.81   \n",
       "...   ...       ...       ...       ...       ...       ...   \n",
       "1192  ...       0.0      0.02     -1.89     -1.03      1.16   \n",
       "1193  ...       NaN       NaN       NaN       NaN       NaN   \n",
       "1194  ...       NaN       NaN       NaN       NaN       NaN   \n",
       "1195  ...       NaN       NaN       NaN       NaN       NaN   \n",
       "1196  ...       NaN       NaN       NaN       NaN       NaN   \n",
       "1197  ...       NaN       NaN       NaN       NaN       NaN   \n",
       "1198  ...       NaN       NaN       NaN       NaN       NaN   \n",
       "1199  ...       NaN       NaN       NaN       NaN       NaN   \n",
       "1200  ...       NaN       NaN       NaN       NaN       NaN   \n",
       "1201  ...       NaN       NaN       NaN       NaN       NaN   \n",
       "1202  ...       NaN       NaN       NaN       NaN       NaN   \n",
       "1203  ...       NaN       NaN       NaN       NaN       NaN   \n",
       "1204  ...       NaN       NaN       NaN       NaN       NaN   \n",
       "1205  ...       NaN       NaN       NaN       NaN       NaN   \n",
       "1206  ...       NaN       NaN       NaN       NaN       NaN   \n",
       "1207  ...       NaN       NaN       NaN       NaN       NaN   \n",
       "1208  ...       NaN       NaN       NaN       NaN       NaN   \n",
       "1209  ...       NaN       NaN       NaN       NaN       NaN   \n",
       "1210  ...       NaN       NaN       NaN       NaN       NaN   \n",
       "1211  ...       0.0      1.24      1.63      1.85      1.13   \n",
       "1212  ...       NaN       NaN       NaN       NaN       NaN   \n",
       "1213  ...       0.0      1.57     -0.20      1.05      1.62   \n",
       "1214  ...       NaN       NaN       NaN       NaN       NaN   \n",
       "1215  ...       NaN       NaN       NaN       NaN       NaN   \n",
       "1216  ...       0.0      0.32     -1.58     -0.67      0.74   \n",
       "1217  ...       0.0     -0.07     -2.17     -1.31      0.57   \n",
       "1218  ...       NaN       NaN       NaN       NaN       NaN   \n",
       "1219  ...       0.0      1.66     -0.50      0.96      1.71   \n",
       "1220  ...       0.0      0.05     -0.69     -0.39     -0.06   \n",
       "1221  ...       NaN       NaN       NaN       NaN       NaN   \n",
       "\n",
       "     ProcessingComplete  SequenceName  timepoint.1     sampleid   AgeMonths  \n",
       "0                   Yes      Mcdespot          5.0  C0052-5F-1A   94.133333  \n",
       "1                   Yes      Mcdespot          6.0  C0053-6F-1A   72.500000  \n",
       "2                   Yes      Mcdespot          4.0  C0202-4F-1A   53.366667  \n",
       "3                   Yes      Mcdespot          4.0  C0202-4F-2A   53.366667  \n",
       "4                   NaN      Mcdespot          4.0  C0420-4F-1A   26.600000  \n",
       "5                   NaN      Mcdespot          4.0  C0420-4F-2A   26.600000  \n",
       "6                   Yes      Mcdespot          4.0  C0108-4F-1A  137.466667  \n",
       "7                   NaN      Mcdespot          8.0  C0126-8F-1A   75.366667  \n",
       "8                   NaN      Mcdespot          8.0  C0126-8F-1B   75.366667  \n",
       "9                   Yes      Mcdespot          6.0  C0127-6F-1B  112.233333  \n",
       "10                  NaN      Mcdespot          4.0  C0082-4F-1A   99.466667  \n",
       "11                  Yes      Mcdespot          1.0  C0507-1F-1A   83.433333  \n",
       "12                  Yes      Mcdespot          1.0  C0507-1F-2A   83.433333  \n",
       "13                  Yes      Mcdespot          3.0  C0240-3F-1A   73.400000  \n",
       "14                  Yes      Mcdespot          3.0  C0240-3F-2A   73.400000  \n",
       "15                  NaN      Mcdespot          6.0  C0061-6F-1A  130.733333  \n",
       "16                  NaN      Mcdespot          6.0  C0061-6F-2A  130.733333  \n",
       "17                  NaN      Mcdespot          7.0  C0043-7F-1A   86.600000  \n",
       "18                  NaN      Mcdespot          6.0  C0066-6F-1A  124.866667  \n",
       "19                  NaN      Mcdespot          6.0  C0066-6F-1B  124.866667  \n",
       "20                  NaN      Mcdespot          6.0  C0066-6F-2A  124.866667  \n",
       "21                  NaN      Mcdespot          4.0  C0229-4F-1A  110.300000  \n",
       "22                  NaN      Mcdespot          4.0  C0229-4F-2A  110.300000  \n",
       "23                  Yes      Mcdespot          4.0  C0117-4F-1A  105.800000  \n",
       "24                  Yes      Mcdespot          4.0  C0117-4F-1B  105.800000  \n",
       "25                  Yes      Mcdespot          4.0  C0117-4F-2A  105.800000  \n",
       "26                  Yes      Mcdespot          3.0  C0476-3F-1A   24.166667  \n",
       "27                  Yes      Mcdespot          3.0  C0476-3F-2A   24.166667  \n",
       "28                  NaN      Mcdespot          3.0  C0479-3F-1A   24.766667  \n",
       "29                  NaN      Mcdespot          3.0  C0479-3F-2A   24.766667  \n",
       "...                 ...           ...          ...          ...         ...  \n",
       "1192                NaN      Mcdespot          4.0  C1273-4F-1A    0.933333  \n",
       "1193                NaN           NaN          NaN  M1371-1F-1A         NaN  \n",
       "1194                NaN           NaN          NaN  M1316-3F-1A         NaN  \n",
       "1195                NaN           NaN          NaN  M1342-2F-1A         NaN  \n",
       "1196                NaN      Mcdespot          3.0  C0635-3F-1A   67.866667  \n",
       "1197                NaN           NaN          NaN  M1352-2F-1A         NaN  \n",
       "1198                NaN           NaN          NaN  M1324-3F-1A         NaN  \n",
       "1199                NaN           NaN          NaN  M1305-3F-1A         NaN  \n",
       "1200                NaN           NaN          NaN  M1318-3F-1A         NaN  \n",
       "1201                NaN           NaN          NaN  M1322-3F-1A         NaN  \n",
       "1202                NaN      Mcdespot          3.0  C0571-3F-1A   72.900000  \n",
       "1203                NaN           NaN          NaN  M1353-2F-1A         NaN  \n",
       "1204                NaN      Mcdespot          1.0  M1376-1F-1A   73.166667  \n",
       "1205                NaN           NaN          NaN  M1347-2F-1A         NaN  \n",
       "1206                NaN           NaN          NaN  M1345-2F-1A         NaN  \n",
       "1207                NaN      Mcdespot          5.0  C0123-5F-1A  116.033333  \n",
       "1208                NaN      Mcdespot          3.0  C0623-3F-1A   93.233333  \n",
       "1209                NaN           NaN          NaN  M1359-2F-1A         NaN  \n",
       "1210                NaN           NaN          NaN  C1050-9F-1A    7.333333  \n",
       "1211                NaN           NaN          NaN  C1220-4F-1A    3.533333  \n",
       "1212                NaN           NaN          NaN  M1362-2F-1A         NaN  \n",
       "1213                NaN           NaN          NaN  C1215-4F-1A    3.733333  \n",
       "1214                NaN           NaN          NaN  M1336-3F-1A         NaN  \n",
       "1215                NaN      Mcdespot          4.0  C1271-4F-1A    1.466667  \n",
       "1216                NaN      Mcdespot          4.0  C1244-4F-1A    3.933333  \n",
       "1217                NaN      Mcdespot          4.0  C1234-4F-1A    3.233333  \n",
       "1218                NaN           NaN          NaN  M1333-3F-1A         NaN  \n",
       "1219                NaN           NaN          NaN  C1135-5F-1A    6.000000  \n",
       "1220                NaN      Mcdespot          7.0  C0492-7F-1A   18.400000  \n",
       "1221                NaN      Mcdespot          5.0  C0194-5F-1A  117.700000  \n",
       "\n",
       "[1222 rows x 47 columns]"
      ]
     },
     "execution_count": 80,
     "metadata": {},
     "output_type": "execute_result"
    }
   ],
   "source": [
    "mapping_16S"
   ]
  },
  {
   "cell_type": "code",
   "execution_count": 81,
   "metadata": {},
   "outputs": [],
   "source": [
    "# make age dictionary\n",
    "agedict = {str(s): {} for s in mapping_16S[\"sampleid\"]}\n",
    "for index, row in mapping_16S.iterrows():\n",
    "    age_months = row[\"AgeMonths\"]\n",
    "    agedict[row[\"sampleid\"]]= age_months"
   ]
  },
  {
   "cell_type": "code",
   "execution_count": 82,
   "metadata": {},
   "outputs": [],
   "source": [
    "concat_df[\"AgeMonths\"]= concat_df[\"sampleid\"].map(agedict)"
   ]
  },
  {
   "cell_type": "code",
   "execution_count": 83,
   "metadata": {},
   "outputs": [],
   "source": [
    "cols_to_order = ['uid', 'sampleid',\"method\", \"AgeMonths\"]\n",
    "new_columns = cols_to_order + (concat_df.columns.drop(cols_to_order).tolist())\n",
    "concat_df = concat_df[new_columns]"
   ]
  },
  {
   "cell_type": "code",
   "execution_count": 84,
   "metadata": {},
   "outputs": [],
   "source": [
    "concat_df = concat_df[concat_df['AgeMonths'].notna()]"
   ]
  },
  {
   "cell_type": "code",
   "execution_count": 85,
   "metadata": {},
   "outputs": [
    {
     "data": {
      "text/plain": [
       "0"
      ]
     },
     "execution_count": 85,
     "metadata": {},
     "output_type": "execute_result"
    }
   ],
   "source": [
    "concat_df[\"AgeMonths\"].isna().sum()"
   ]
  },
  {
   "cell_type": "code",
   "execution_count": 86,
   "metadata": {},
   "outputs": [
    {
     "data": {
      "text/plain": [
       "(676, 660)"
      ]
     },
     "execution_count": 86,
     "metadata": {},
     "output_type": "execute_result"
    }
   ],
   "source": [
    "concat_df.shape"
   ]
  },
  {
   "cell_type": "code",
   "execution_count": 87,
   "metadata": {},
   "outputs": [
    {
     "data": {
      "text/html": [
       "<div>\n",
       "<style scoped>\n",
       "    .dataframe tbody tr th:only-of-type {\n",
       "        vertical-align: middle;\n",
       "    }\n",
       "\n",
       "    .dataframe tbody tr th {\n",
       "        vertical-align: top;\n",
       "    }\n",
       "\n",
       "    .dataframe thead th {\n",
       "        text-align: right;\n",
       "    }\n",
       "</style>\n",
       "<table border=\"1\" class=\"dataframe\">\n",
       "  <thead>\n",
       "    <tr style=\"text-align: right;\">\n",
       "      <th></th>\n",
       "      <th>uid</th>\n",
       "      <th>sampleid</th>\n",
       "      <th>method</th>\n",
       "      <th>AgeMonths</th>\n",
       "      <th>Abditibacterium</th>\n",
       "      <th>Abiotrophia</th>\n",
       "      <th>Absiella</th>\n",
       "      <th>Acanthis</th>\n",
       "      <th>Acetanaerobacterium</th>\n",
       "      <th>Acetobacter</th>\n",
       "      <th>...</th>\n",
       "      <th>Virgulinella</th>\n",
       "      <th>Weissella</th>\n",
       "      <th>Winkia</th>\n",
       "      <th>Winogradskyella</th>\n",
       "      <th>Woesearchaeales</th>\n",
       "      <th>Woeseia</th>\n",
       "      <th>Yoonia-Loktanella</th>\n",
       "      <th>Yueomyces</th>\n",
       "      <th>Zavarzinella</th>\n",
       "      <th>Zixibacteria</th>\n",
       "    </tr>\n",
       "  </thead>\n",
       "  <tbody>\n",
       "    <tr>\n",
       "      <th>141</th>\n",
       "      <td>C1136-1F-1A-mgx</td>\n",
       "      <td>C1136-1F-1A</td>\n",
       "      <td>mgx</td>\n",
       "      <td>7.066667</td>\n",
       "      <td>0.0</td>\n",
       "      <td>0.0</td>\n",
       "      <td>0.000000</td>\n",
       "      <td>0.0</td>\n",
       "      <td>0.0</td>\n",
       "      <td>0.0</td>\n",
       "      <td>...</td>\n",
       "      <td>0.0</td>\n",
       "      <td>0.000000</td>\n",
       "      <td>0.0</td>\n",
       "      <td>0.0</td>\n",
       "      <td>0.0</td>\n",
       "      <td>0.0</td>\n",
       "      <td>0.0</td>\n",
       "      <td>0.0</td>\n",
       "      <td>0.0</td>\n",
       "      <td>0.0</td>\n",
       "    </tr>\n",
       "    <tr>\n",
       "      <th>382</th>\n",
       "      <td>C0495-2F-1A-amp</td>\n",
       "      <td>C0495-2F-1A</td>\n",
       "      <td>amp</td>\n",
       "      <td>61.300000</td>\n",
       "      <td>0.0</td>\n",
       "      <td>0.0</td>\n",
       "      <td>0.000000</td>\n",
       "      <td>0.0</td>\n",
       "      <td>0.0</td>\n",
       "      <td>0.0</td>\n",
       "      <td>...</td>\n",
       "      <td>0.0</td>\n",
       "      <td>0.000000</td>\n",
       "      <td>0.0</td>\n",
       "      <td>0.0</td>\n",
       "      <td>0.0</td>\n",
       "      <td>0.0</td>\n",
       "      <td>0.0</td>\n",
       "      <td>0.0</td>\n",
       "      <td>0.0</td>\n",
       "      <td>0.0</td>\n",
       "    </tr>\n",
       "    <tr>\n",
       "      <th>353</th>\n",
       "      <td>C0754-4F-1A-amp</td>\n",
       "      <td>C0754-4F-1A</td>\n",
       "      <td>amp</td>\n",
       "      <td>11.200000</td>\n",
       "      <td>0.0</td>\n",
       "      <td>0.0</td>\n",
       "      <td>0.000000</td>\n",
       "      <td>0.0</td>\n",
       "      <td>0.0</td>\n",
       "      <td>0.0</td>\n",
       "      <td>...</td>\n",
       "      <td>0.0</td>\n",
       "      <td>0.000000</td>\n",
       "      <td>0.0</td>\n",
       "      <td>0.0</td>\n",
       "      <td>0.0</td>\n",
       "      <td>0.0</td>\n",
       "      <td>0.0</td>\n",
       "      <td>0.0</td>\n",
       "      <td>0.0</td>\n",
       "      <td>0.0</td>\n",
       "    </tr>\n",
       "    <tr>\n",
       "      <th>508</th>\n",
       "      <td>C0364-2F-1A-amp</td>\n",
       "      <td>C0364-2F-1A</td>\n",
       "      <td>amp</td>\n",
       "      <td>127.633333</td>\n",
       "      <td>0.0</td>\n",
       "      <td>0.0</td>\n",
       "      <td>0.000000</td>\n",
       "      <td>0.0</td>\n",
       "      <td>0.0</td>\n",
       "      <td>0.0</td>\n",
       "      <td>...</td>\n",
       "      <td>0.0</td>\n",
       "      <td>0.000312</td>\n",
       "      <td>0.0</td>\n",
       "      <td>0.0</td>\n",
       "      <td>0.0</td>\n",
       "      <td>0.0</td>\n",
       "      <td>0.0</td>\n",
       "      <td>0.0</td>\n",
       "      <td>0.0</td>\n",
       "      <td>0.0</td>\n",
       "    </tr>\n",
       "    <tr>\n",
       "      <th>314</th>\n",
       "      <td>C0620-1F-1A-mgx</td>\n",
       "      <td>C0620-1F-1A</td>\n",
       "      <td>mgx</td>\n",
       "      <td>21.733333</td>\n",
       "      <td>0.0</td>\n",
       "      <td>0.0</td>\n",
       "      <td>0.000000</td>\n",
       "      <td>0.0</td>\n",
       "      <td>0.0</td>\n",
       "      <td>0.0</td>\n",
       "      <td>...</td>\n",
       "      <td>0.0</td>\n",
       "      <td>0.000000</td>\n",
       "      <td>0.0</td>\n",
       "      <td>0.0</td>\n",
       "      <td>0.0</td>\n",
       "      <td>0.0</td>\n",
       "      <td>0.0</td>\n",
       "      <td>0.0</td>\n",
       "      <td>0.0</td>\n",
       "      <td>0.0</td>\n",
       "    </tr>\n",
       "    <tr>\n",
       "      <th>159</th>\n",
       "      <td>C0902-1F-1A-mgx</td>\n",
       "      <td>C0902-1F-1A</td>\n",
       "      <td>mgx</td>\n",
       "      <td>25.133333</td>\n",
       "      <td>0.0</td>\n",
       "      <td>0.0</td>\n",
       "      <td>0.000000</td>\n",
       "      <td>0.0</td>\n",
       "      <td>0.0</td>\n",
       "      <td>0.0</td>\n",
       "      <td>...</td>\n",
       "      <td>0.0</td>\n",
       "      <td>0.000000</td>\n",
       "      <td>0.0</td>\n",
       "      <td>0.0</td>\n",
       "      <td>0.0</td>\n",
       "      <td>0.0</td>\n",
       "      <td>0.0</td>\n",
       "      <td>0.0</td>\n",
       "      <td>0.0</td>\n",
       "      <td>0.0</td>\n",
       "    </tr>\n",
       "    <tr>\n",
       "      <th>324</th>\n",
       "      <td>C0679-1F-1A-mgx</td>\n",
       "      <td>C0679-1F-1A</td>\n",
       "      <td>mgx</td>\n",
       "      <td>20.833333</td>\n",
       "      <td>0.0</td>\n",
       "      <td>0.0</td>\n",
       "      <td>0.000000</td>\n",
       "      <td>0.0</td>\n",
       "      <td>0.0</td>\n",
       "      <td>0.0</td>\n",
       "      <td>...</td>\n",
       "      <td>0.0</td>\n",
       "      <td>0.000000</td>\n",
       "      <td>0.0</td>\n",
       "      <td>0.0</td>\n",
       "      <td>0.0</td>\n",
       "      <td>0.0</td>\n",
       "      <td>0.0</td>\n",
       "      <td>0.0</td>\n",
       "      <td>0.0</td>\n",
       "      <td>0.0</td>\n",
       "    </tr>\n",
       "    <tr>\n",
       "      <th>92</th>\n",
       "      <td>C0332-4F-1A-mgx</td>\n",
       "      <td>C0332-4F-1A</td>\n",
       "      <td>mgx</td>\n",
       "      <td>163.100000</td>\n",
       "      <td>0.0</td>\n",
       "      <td>0.0</td>\n",
       "      <td>0.000000</td>\n",
       "      <td>0.0</td>\n",
       "      <td>0.0</td>\n",
       "      <td>0.0</td>\n",
       "      <td>...</td>\n",
       "      <td>0.0</td>\n",
       "      <td>0.000000</td>\n",
       "      <td>0.0</td>\n",
       "      <td>0.0</td>\n",
       "      <td>0.0</td>\n",
       "      <td>0.0</td>\n",
       "      <td>0.0</td>\n",
       "      <td>0.0</td>\n",
       "      <td>0.0</td>\n",
       "      <td>0.0</td>\n",
       "    </tr>\n",
       "    <tr>\n",
       "      <th>181</th>\n",
       "      <td>C1159-4F-1A-mgx</td>\n",
       "      <td>C1159-4F-1A</td>\n",
       "      <td>mgx</td>\n",
       "      <td>3.066667</td>\n",
       "      <td>0.0</td>\n",
       "      <td>0.0</td>\n",
       "      <td>0.000000</td>\n",
       "      <td>0.0</td>\n",
       "      <td>0.0</td>\n",
       "      <td>0.0</td>\n",
       "      <td>...</td>\n",
       "      <td>0.0</td>\n",
       "      <td>0.000000</td>\n",
       "      <td>0.0</td>\n",
       "      <td>0.0</td>\n",
       "      <td>0.0</td>\n",
       "      <td>0.0</td>\n",
       "      <td>0.0</td>\n",
       "      <td>0.0</td>\n",
       "      <td>0.0</td>\n",
       "      <td>0.0</td>\n",
       "    </tr>\n",
       "    <tr>\n",
       "      <th>520</th>\n",
       "      <td>C0661-1F-1A-amp</td>\n",
       "      <td>C0661-1F-1A</td>\n",
       "      <td>amp</td>\n",
       "      <td>13.833333</td>\n",
       "      <td>0.0</td>\n",
       "      <td>0.0</td>\n",
       "      <td>0.000000</td>\n",
       "      <td>0.0</td>\n",
       "      <td>0.0</td>\n",
       "      <td>0.0</td>\n",
       "      <td>...</td>\n",
       "      <td>0.0</td>\n",
       "      <td>0.000000</td>\n",
       "      <td>0.0</td>\n",
       "      <td>0.0</td>\n",
       "      <td>0.0</td>\n",
       "      <td>0.0</td>\n",
       "      <td>0.0</td>\n",
       "      <td>0.0</td>\n",
       "      <td>0.0</td>\n",
       "      <td>0.0</td>\n",
       "    </tr>\n",
       "    <tr>\n",
       "      <th>537</th>\n",
       "      <td>C1009-1F-1A-amp</td>\n",
       "      <td>C1009-1F-1A</td>\n",
       "      <td>amp</td>\n",
       "      <td>38.966667</td>\n",
       "      <td>0.0</td>\n",
       "      <td>0.0</td>\n",
       "      <td>0.000000</td>\n",
       "      <td>0.0</td>\n",
       "      <td>0.0</td>\n",
       "      <td>0.0</td>\n",
       "      <td>...</td>\n",
       "      <td>0.0</td>\n",
       "      <td>0.000000</td>\n",
       "      <td>0.0</td>\n",
       "      <td>0.0</td>\n",
       "      <td>0.0</td>\n",
       "      <td>0.0</td>\n",
       "      <td>0.0</td>\n",
       "      <td>0.0</td>\n",
       "      <td>0.0</td>\n",
       "      <td>0.0</td>\n",
       "    </tr>\n",
       "    <tr>\n",
       "      <th>383</th>\n",
       "      <td>C0052-7F-1A-amp</td>\n",
       "      <td>C0052-7F-1A</td>\n",
       "      <td>amp</td>\n",
       "      <td>127.333333</td>\n",
       "      <td>0.0</td>\n",
       "      <td>0.0</td>\n",
       "      <td>0.000000</td>\n",
       "      <td>0.0</td>\n",
       "      <td>0.0</td>\n",
       "      <td>0.0</td>\n",
       "      <td>...</td>\n",
       "      <td>0.0</td>\n",
       "      <td>0.000000</td>\n",
       "      <td>0.0</td>\n",
       "      <td>0.0</td>\n",
       "      <td>0.0</td>\n",
       "      <td>0.0</td>\n",
       "      <td>0.0</td>\n",
       "      <td>0.0</td>\n",
       "      <td>0.0</td>\n",
       "      <td>0.0</td>\n",
       "    </tr>\n",
       "    <tr>\n",
       "      <th>192</th>\n",
       "      <td>C0686-1E-1A-mgx</td>\n",
       "      <td>C0686-1E-1A</td>\n",
       "      <td>mgx</td>\n",
       "      <td>9.700000</td>\n",
       "      <td>0.0</td>\n",
       "      <td>0.0</td>\n",
       "      <td>0.000000</td>\n",
       "      <td>0.0</td>\n",
       "      <td>0.0</td>\n",
       "      <td>0.0</td>\n",
       "      <td>...</td>\n",
       "      <td>0.0</td>\n",
       "      <td>0.000000</td>\n",
       "      <td>0.0</td>\n",
       "      <td>0.0</td>\n",
       "      <td>0.0</td>\n",
       "      <td>0.0</td>\n",
       "      <td>0.0</td>\n",
       "      <td>0.0</td>\n",
       "      <td>0.0</td>\n",
       "      <td>0.0</td>\n",
       "    </tr>\n",
       "    <tr>\n",
       "      <th>254</th>\n",
       "      <td>C0676-3F-1A-mgx</td>\n",
       "      <td>C0676-3F-1A</td>\n",
       "      <td>mgx</td>\n",
       "      <td>13.933333</td>\n",
       "      <td>0.0</td>\n",
       "      <td>0.0</td>\n",
       "      <td>0.000931</td>\n",
       "      <td>0.0</td>\n",
       "      <td>0.0</td>\n",
       "      <td>0.0</td>\n",
       "      <td>...</td>\n",
       "      <td>0.0</td>\n",
       "      <td>0.000000</td>\n",
       "      <td>0.0</td>\n",
       "      <td>0.0</td>\n",
       "      <td>0.0</td>\n",
       "      <td>0.0</td>\n",
       "      <td>0.0</td>\n",
       "      <td>0.0</td>\n",
       "      <td>0.0</td>\n",
       "      <td>0.0</td>\n",
       "    </tr>\n",
       "    <tr>\n",
       "      <th>395</th>\n",
       "      <td>C0789-1E-1A-amp</td>\n",
       "      <td>C0789-1E-1A</td>\n",
       "      <td>amp</td>\n",
       "      <td>151.400000</td>\n",
       "      <td>0.0</td>\n",
       "      <td>0.0</td>\n",
       "      <td>0.000000</td>\n",
       "      <td>0.0</td>\n",
       "      <td>0.0</td>\n",
       "      <td>0.0</td>\n",
       "      <td>...</td>\n",
       "      <td>0.0</td>\n",
       "      <td>0.000000</td>\n",
       "      <td>0.0</td>\n",
       "      <td>0.0</td>\n",
       "      <td>0.0</td>\n",
       "      <td>0.0</td>\n",
       "      <td>0.0</td>\n",
       "      <td>0.0</td>\n",
       "      <td>0.0</td>\n",
       "      <td>0.0</td>\n",
       "    </tr>\n",
       "  </tbody>\n",
       "</table>\n",
       "<p>15 rows × 660 columns</p>\n",
       "</div>"
      ],
      "text/plain": [
       "                 uid     sampleid method   AgeMonths  Abditibacterium  \\\n",
       "141  C1136-1F-1A-mgx  C1136-1F-1A    mgx    7.066667              0.0   \n",
       "382  C0495-2F-1A-amp  C0495-2F-1A    amp   61.300000              0.0   \n",
       "353  C0754-4F-1A-amp  C0754-4F-1A    amp   11.200000              0.0   \n",
       "508  C0364-2F-1A-amp  C0364-2F-1A    amp  127.633333              0.0   \n",
       "314  C0620-1F-1A-mgx  C0620-1F-1A    mgx   21.733333              0.0   \n",
       "159  C0902-1F-1A-mgx  C0902-1F-1A    mgx   25.133333              0.0   \n",
       "324  C0679-1F-1A-mgx  C0679-1F-1A    mgx   20.833333              0.0   \n",
       "92   C0332-4F-1A-mgx  C0332-4F-1A    mgx  163.100000              0.0   \n",
       "181  C1159-4F-1A-mgx  C1159-4F-1A    mgx    3.066667              0.0   \n",
       "520  C0661-1F-1A-amp  C0661-1F-1A    amp   13.833333              0.0   \n",
       "537  C1009-1F-1A-amp  C1009-1F-1A    amp   38.966667              0.0   \n",
       "383  C0052-7F-1A-amp  C0052-7F-1A    amp  127.333333              0.0   \n",
       "192  C0686-1E-1A-mgx  C0686-1E-1A    mgx    9.700000              0.0   \n",
       "254  C0676-3F-1A-mgx  C0676-3F-1A    mgx   13.933333              0.0   \n",
       "395  C0789-1E-1A-amp  C0789-1E-1A    amp  151.400000              0.0   \n",
       "\n",
       "     Abiotrophia  Absiella  Acanthis  Acetanaerobacterium  Acetobacter  ...  \\\n",
       "141          0.0  0.000000       0.0                  0.0          0.0  ...   \n",
       "382          0.0  0.000000       0.0                  0.0          0.0  ...   \n",
       "353          0.0  0.000000       0.0                  0.0          0.0  ...   \n",
       "508          0.0  0.000000       0.0                  0.0          0.0  ...   \n",
       "314          0.0  0.000000       0.0                  0.0          0.0  ...   \n",
       "159          0.0  0.000000       0.0                  0.0          0.0  ...   \n",
       "324          0.0  0.000000       0.0                  0.0          0.0  ...   \n",
       "92           0.0  0.000000       0.0                  0.0          0.0  ...   \n",
       "181          0.0  0.000000       0.0                  0.0          0.0  ...   \n",
       "520          0.0  0.000000       0.0                  0.0          0.0  ...   \n",
       "537          0.0  0.000000       0.0                  0.0          0.0  ...   \n",
       "383          0.0  0.000000       0.0                  0.0          0.0  ...   \n",
       "192          0.0  0.000000       0.0                  0.0          0.0  ...   \n",
       "254          0.0  0.000931       0.0                  0.0          0.0  ...   \n",
       "395          0.0  0.000000       0.0                  0.0          0.0  ...   \n",
       "\n",
       "     Virgulinella  Weissella  Winkia  Winogradskyella  Woesearchaeales  \\\n",
       "141           0.0   0.000000     0.0              0.0              0.0   \n",
       "382           0.0   0.000000     0.0              0.0              0.0   \n",
       "353           0.0   0.000000     0.0              0.0              0.0   \n",
       "508           0.0   0.000312     0.0              0.0              0.0   \n",
       "314           0.0   0.000000     0.0              0.0              0.0   \n",
       "159           0.0   0.000000     0.0              0.0              0.0   \n",
       "324           0.0   0.000000     0.0              0.0              0.0   \n",
       "92            0.0   0.000000     0.0              0.0              0.0   \n",
       "181           0.0   0.000000     0.0              0.0              0.0   \n",
       "520           0.0   0.000000     0.0              0.0              0.0   \n",
       "537           0.0   0.000000     0.0              0.0              0.0   \n",
       "383           0.0   0.000000     0.0              0.0              0.0   \n",
       "192           0.0   0.000000     0.0              0.0              0.0   \n",
       "254           0.0   0.000000     0.0              0.0              0.0   \n",
       "395           0.0   0.000000     0.0              0.0              0.0   \n",
       "\n",
       "     Woeseia  Yoonia-Loktanella  Yueomyces  Zavarzinella  Zixibacteria  \n",
       "141      0.0                0.0        0.0           0.0           0.0  \n",
       "382      0.0                0.0        0.0           0.0           0.0  \n",
       "353      0.0                0.0        0.0           0.0           0.0  \n",
       "508      0.0                0.0        0.0           0.0           0.0  \n",
       "314      0.0                0.0        0.0           0.0           0.0  \n",
       "159      0.0                0.0        0.0           0.0           0.0  \n",
       "324      0.0                0.0        0.0           0.0           0.0  \n",
       "92       0.0                0.0        0.0           0.0           0.0  \n",
       "181      0.0                0.0        0.0           0.0           0.0  \n",
       "520      0.0                0.0        0.0           0.0           0.0  \n",
       "537      0.0                0.0        0.0           0.0           0.0  \n",
       "383      0.0                0.0        0.0           0.0           0.0  \n",
       "192      0.0                0.0        0.0           0.0           0.0  \n",
       "254      0.0                0.0        0.0           0.0           0.0  \n",
       "395      0.0                0.0        0.0           0.0           0.0  \n",
       "\n",
       "[15 rows x 660 columns]"
      ]
     },
     "execution_count": 87,
     "metadata": {},
     "output_type": "execute_result"
    }
   ],
   "source": [
    "concat_df.sample(15)"
   ]
  },
  {
   "cell_type": "code",
   "execution_count": 88,
   "metadata": {},
   "outputs": [],
   "source": [
    "concat_df.to_csv('transposed_mgxamp_df.csv', index=False)"
   ]
  },
  {
   "cell_type": "code",
   "execution_count": null,
   "metadata": {},
   "outputs": [],
   "source": []
  }
 ],
 "metadata": {
  "kernelspec": {
   "display_name": "Python 3",
   "language": "python",
   "name": "python3"
  },
  "language_info": {
   "codemirror_mode": {
    "name": "ipython",
    "version": 3
   },
   "file_extension": ".py",
   "mimetype": "text/x-python",
   "name": "python",
   "nbconvert_exporter": "python",
   "pygments_lexer": "ipython3",
   "version": "3.7.4"
  }
 },
 "nbformat": 4,
 "nbformat_minor": 4
}
