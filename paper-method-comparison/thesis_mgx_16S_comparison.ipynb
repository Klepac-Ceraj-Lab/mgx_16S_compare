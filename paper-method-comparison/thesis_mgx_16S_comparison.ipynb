{
 "cells": [
  {
   "cell_type": "code",
   "execution_count": 1,
   "metadata": {},
   "outputs": [],
   "source": [
    "from IPython.core.interactiveshell import InteractiveShell\n",
    "InteractiveShell.ast_node_interactivity = \"all\"\n",
    "\n",
    "import pandas as pd\n",
    "import csv\n",
    "# import janitor\n",
    "import numpy as np"
   ]
  },
  {
   "cell_type": "code",
   "execution_count": 2,
   "metadata": {},
   "outputs": [
    {
     "data": {
      "text/html": [
       "<div>\n",
       "<style scoped>\n",
       "    .dataframe tbody tr th:only-of-type {\n",
       "        vertical-align: middle;\n",
       "    }\n",
       "\n",
       "    .dataframe tbody tr th {\n",
       "        vertical-align: top;\n",
       "    }\n",
       "\n",
       "    .dataframe thead th {\n",
       "        text-align: right;\n",
       "    }\n",
       "</style>\n",
       "<table border=\"1\" class=\"dataframe\">\n",
       "  <thead>\n",
       "    <tr style=\"text-align: right;\">\n",
       "      <th></th>\n",
       "      <th>subjectID</th>\n",
       "      <th>timepoint</th>\n",
       "      <th>ageLabel</th>\n",
       "      <th>ASLProcessed</th>\n",
       "      <th>birthType</th>\n",
       "      <th>breastFedPercent</th>\n",
       "      <th>breastfeeding</th>\n",
       "      <th>childBMI</th>\n",
       "      <th>childGender</th>\n",
       "      <th>cogAssessment</th>\n",
       "      <th>...</th>\n",
       "      <th>WHO_flen</th>\n",
       "      <th>WHO_fwei</th>\n",
       "      <th>WHO_fwfl</th>\n",
       "      <th>WHO_zbmi</th>\n",
       "      <th>WHO_zlen</th>\n",
       "      <th>WHO_zwei</th>\n",
       "      <th>WHO_zwfl</th>\n",
       "      <th>ProcessingComplete</th>\n",
       "      <th>SequenceName</th>\n",
       "      <th>timepoint.1</th>\n",
       "    </tr>\n",
       "  </thead>\n",
       "  <tbody>\n",
       "    <tr>\n",
       "      <th>0</th>\n",
       "      <td>1004.0</td>\n",
       "      <td>6.0</td>\n",
       "      <td>1 and under</td>\n",
       "      <td>0.0</td>\n",
       "      <td>NaN</td>\n",
       "      <td>NaN</td>\n",
       "      <td>NaN</td>\n",
       "      <td>NaN</td>\n",
       "      <td>Male</td>\n",
       "      <td>None</td>\n",
       "      <td>...</td>\n",
       "      <td>NaN</td>\n",
       "      <td>NaN</td>\n",
       "      <td>NaN</td>\n",
       "      <td>NaN</td>\n",
       "      <td>NaN</td>\n",
       "      <td>NaN</td>\n",
       "      <td>NaN</td>\n",
       "      <td>NaN</td>\n",
       "      <td>Mcdespot</td>\n",
       "      <td>6.0</td>\n",
       "    </tr>\n",
       "    <tr>\n",
       "      <th>1</th>\n",
       "      <td>1.0</td>\n",
       "      <td>2.0</td>\n",
       "      <td>1 to 2</td>\n",
       "      <td>0.0</td>\n",
       "      <td>Cesarean</td>\n",
       "      <td>NaN</td>\n",
       "      <td>NaN</td>\n",
       "      <td>NaN</td>\n",
       "      <td>Male</td>\n",
       "      <td>Mullen</td>\n",
       "      <td>...</td>\n",
       "      <td>NaN</td>\n",
       "      <td>NaN</td>\n",
       "      <td>NaN</td>\n",
       "      <td>NaN</td>\n",
       "      <td>NaN</td>\n",
       "      <td>NaN</td>\n",
       "      <td>NaN</td>\n",
       "      <td>NaN</td>\n",
       "      <td>Mcdespot</td>\n",
       "      <td>2.0</td>\n",
       "    </tr>\n",
       "    <tr>\n",
       "      <th>2</th>\n",
       "      <td>1.0</td>\n",
       "      <td>3.0</td>\n",
       "      <td>2 and over</td>\n",
       "      <td>0.0</td>\n",
       "      <td>Cesarean</td>\n",
       "      <td>NaN</td>\n",
       "      <td>NaN</td>\n",
       "      <td>NaN</td>\n",
       "      <td>Male</td>\n",
       "      <td>Mullen</td>\n",
       "      <td>...</td>\n",
       "      <td>NaN</td>\n",
       "      <td>NaN</td>\n",
       "      <td>NaN</td>\n",
       "      <td>NaN</td>\n",
       "      <td>NaN</td>\n",
       "      <td>NaN</td>\n",
       "      <td>NaN</td>\n",
       "      <td>NaN</td>\n",
       "      <td>Mcdespot</td>\n",
       "      <td>3.0</td>\n",
       "    </tr>\n",
       "    <tr>\n",
       "      <th>3</th>\n",
       "      <td>2.0</td>\n",
       "      <td>1.0</td>\n",
       "      <td>1 and under</td>\n",
       "      <td>0.0</td>\n",
       "      <td>Cesarean</td>\n",
       "      <td>NaN</td>\n",
       "      <td>NaN</td>\n",
       "      <td>15.746063</td>\n",
       "      <td>Male</td>\n",
       "      <td>Mullen</td>\n",
       "      <td>...</td>\n",
       "      <td>0.0</td>\n",
       "      <td>0.0</td>\n",
       "      <td>0.0</td>\n",
       "      <td>-1.01</td>\n",
       "      <td>-0.09</td>\n",
       "      <td>-0.79</td>\n",
       "      <td>-1.03</td>\n",
       "      <td>NaN</td>\n",
       "      <td>Mcdespot</td>\n",
       "      <td>1.0</td>\n",
       "    </tr>\n",
       "    <tr>\n",
       "      <th>4</th>\n",
       "      <td>2.0</td>\n",
       "      <td>2.0</td>\n",
       "      <td>1 and under</td>\n",
       "      <td>0.0</td>\n",
       "      <td>Cesarean</td>\n",
       "      <td>NaN</td>\n",
       "      <td>NaN</td>\n",
       "      <td>NaN</td>\n",
       "      <td>Male</td>\n",
       "      <td>Mullen</td>\n",
       "      <td>...</td>\n",
       "      <td>NaN</td>\n",
       "      <td>NaN</td>\n",
       "      <td>NaN</td>\n",
       "      <td>NaN</td>\n",
       "      <td>NaN</td>\n",
       "      <td>NaN</td>\n",
       "      <td>NaN</td>\n",
       "      <td>NaN</td>\n",
       "      <td>Mcdespot</td>\n",
       "      <td>2.0</td>\n",
       "    </tr>\n",
       "  </tbody>\n",
       "</table>\n",
       "<p>5 rows × 45 columns</p>\n",
       "</div>"
      ],
      "text/plain": [
       "   subjectID  timepoint     ageLabel  ASLProcessed birthType  \\\n",
       "0     1004.0        6.0  1 and under           0.0       NaN   \n",
       "1        1.0        2.0       1 to 2           0.0  Cesarean   \n",
       "2        1.0        3.0   2 and over           0.0  Cesarean   \n",
       "3        2.0        1.0  1 and under           0.0  Cesarean   \n",
       "4        2.0        2.0  1 and under           0.0  Cesarean   \n",
       "\n",
       "   breastFedPercent breastfeeding   childBMI childGender cogAssessment  ...  \\\n",
       "0               NaN           NaN        NaN        Male          None  ...   \n",
       "1               NaN           NaN        NaN        Male        Mullen  ...   \n",
       "2               NaN           NaN        NaN        Male        Mullen  ...   \n",
       "3               NaN           NaN  15.746063        Male        Mullen  ...   \n",
       "4               NaN           NaN        NaN        Male        Mullen  ...   \n",
       "\n",
       "   WHO_flen  WHO_fwei  WHO_fwfl  WHO_zbmi  WHO_zlen WHO_zwei  WHO_zwfl  \\\n",
       "0       NaN       NaN       NaN       NaN       NaN      NaN       NaN   \n",
       "1       NaN       NaN       NaN       NaN       NaN      NaN       NaN   \n",
       "2       NaN       NaN       NaN       NaN       NaN      NaN       NaN   \n",
       "3       0.0       0.0       0.0     -1.01     -0.09    -0.79     -1.03   \n",
       "4       NaN       NaN       NaN       NaN       NaN      NaN       NaN   \n",
       "\n",
       "   ProcessingComplete  SequenceName  timepoint.1  \n",
       "0                 NaN      Mcdespot          6.0  \n",
       "1                 NaN      Mcdespot          2.0  \n",
       "2                 NaN      Mcdespot          3.0  \n",
       "3                 NaN      Mcdespot          1.0  \n",
       "4                 NaN      Mcdespot          2.0  \n",
       "\n",
       "[5 rows x 45 columns]"
      ]
     },
     "execution_count": 2,
     "metadata": {},
     "output_type": "execute_result"
    }
   ],
   "source": [
    "# import metadata \n",
    "metadata = pd.read_csv(\"~/Documents/thesis/paper-mapping/clinical_metadata.csv\")\n",
    "metadata.head()"
   ]
  },
  {
   "cell_type": "code",
   "execution_count": 3,
   "metadata": {},
   "outputs": [],
   "source": [
    "# import mapping file \n",
    "mapping = pd.read_csv(\"~/Documents/thesis/paper-mapping/sampleIDmap.csv\")"
   ]
  },
  {
   "cell_type": "code",
   "execution_count": 4,
   "metadata": {},
   "outputs": [
    {
     "data": {
      "text/html": [
       "<div>\n",
       "<style scoped>\n",
       "    .dataframe tbody tr th:only-of-type {\n",
       "        vertical-align: middle;\n",
       "    }\n",
       "\n",
       "    .dataframe tbody tr th {\n",
       "        vertical-align: top;\n",
       "    }\n",
       "\n",
       "    .dataframe thead th {\n",
       "        text-align: right;\n",
       "    }\n",
       "</style>\n",
       "<table border=\"1\" class=\"dataframe\">\n",
       "  <thead>\n",
       "    <tr style=\"text-align: right;\">\n",
       "      <th></th>\n",
       "      <th>sample</th>\n",
       "      <th>subjectID</th>\n",
       "      <th>timepoint</th>\n",
       "    </tr>\n",
       "  </thead>\n",
       "  <tbody>\n",
       "    <tr>\n",
       "      <th>0</th>\n",
       "      <td>C0043-7F-1A</td>\n",
       "      <td>43.0</td>\n",
       "      <td>7.0</td>\n",
       "    </tr>\n",
       "    <tr>\n",
       "      <th>1</th>\n",
       "      <td>C0052-5F-1A</td>\n",
       "      <td>52.0</td>\n",
       "      <td>5.0</td>\n",
       "    </tr>\n",
       "    <tr>\n",
       "      <th>2</th>\n",
       "      <td>C0053-6F-1A</td>\n",
       "      <td>53.0</td>\n",
       "      <td>6.0</td>\n",
       "    </tr>\n",
       "    <tr>\n",
       "      <th>3</th>\n",
       "      <td>C0061-6F-1A</td>\n",
       "      <td>61.0</td>\n",
       "      <td>6.0</td>\n",
       "    </tr>\n",
       "    <tr>\n",
       "      <th>4</th>\n",
       "      <td>C0061-6F-2A</td>\n",
       "      <td>61.0</td>\n",
       "      <td>6.0</td>\n",
       "    </tr>\n",
       "  </tbody>\n",
       "</table>\n",
       "</div>"
      ],
      "text/plain": [
       "        sample  subjectID  timepoint\n",
       "0  C0043-7F-1A       43.0        7.0\n",
       "1  C0052-5F-1A       52.0        5.0\n",
       "2  C0053-6F-1A       53.0        6.0\n",
       "3  C0061-6F-1A       61.0        6.0\n",
       "4  C0061-6F-2A       61.0        6.0"
      ]
     },
     "execution_count": 4,
     "metadata": {},
     "output_type": "execute_result"
    }
   ],
   "source": [
    "mapping.rename(columns={'subject':'subjectID'}, inplace=True)\n",
    "mapping['subjectID'] = mapping['subjectID'].astype(float)\n",
    "mapping['timepoint'] = mapping['timepoint'].astype(float)\n",
    "mapping.head()"
   ]
  },
  {
   "cell_type": "code",
   "execution_count": 5,
   "metadata": {},
   "outputs": [],
   "source": [
    "mapping_16S = pd.merge(metadata, mapping, on=['subjectID','timepoint'])"
   ]
  },
  {
   "cell_type": "code",
   "execution_count": 6,
   "metadata": {},
   "outputs": [
    {
     "data": {
      "text/plain": [
       "(1222, 46)"
      ]
     },
     "execution_count": 6,
     "metadata": {},
     "output_type": "execute_result"
    }
   ],
   "source": [
    "mapping_16S.shape"
   ]
  },
  {
   "cell_type": "code",
   "execution_count": 7,
   "metadata": {},
   "outputs": [],
   "source": [
    "mapping_16S.rename(columns={'sample':\"sampleid\"}, inplace=True)\n",
    "\n",
    "mapping_16S[\"AgeMonths\"] = mapping_16S[\"correctedAgeDays\"]/30"
   ]
  },
  {
   "cell_type": "code",
   "execution_count": 8,
   "metadata": {},
   "outputs": [
    {
     "data": {
      "text/html": [
       "<div>\n",
       "<style scoped>\n",
       "    .dataframe tbody tr th:only-of-type {\n",
       "        vertical-align: middle;\n",
       "    }\n",
       "\n",
       "    .dataframe tbody tr th {\n",
       "        vertical-align: top;\n",
       "    }\n",
       "\n",
       "    .dataframe thead th {\n",
       "        text-align: right;\n",
       "    }\n",
       "</style>\n",
       "<table border=\"1\" class=\"dataframe\">\n",
       "  <thead>\n",
       "    <tr style=\"text-align: right;\">\n",
       "      <th></th>\n",
       "      <th>subjectID</th>\n",
       "      <th>timepoint</th>\n",
       "      <th>ageLabel</th>\n",
       "      <th>ASLProcessed</th>\n",
       "      <th>birthType</th>\n",
       "      <th>breastFedPercent</th>\n",
       "      <th>breastfeeding</th>\n",
       "      <th>childBMI</th>\n",
       "      <th>childGender</th>\n",
       "      <th>cogAssessment</th>\n",
       "      <th>...</th>\n",
       "      <th>WHO_fwfl</th>\n",
       "      <th>WHO_zbmi</th>\n",
       "      <th>WHO_zlen</th>\n",
       "      <th>WHO_zwei</th>\n",
       "      <th>WHO_zwfl</th>\n",
       "      <th>ProcessingComplete</th>\n",
       "      <th>SequenceName</th>\n",
       "      <th>timepoint.1</th>\n",
       "      <th>sampleid</th>\n",
       "      <th>AgeMonths</th>\n",
       "    </tr>\n",
       "  </thead>\n",
       "  <tbody>\n",
       "    <tr>\n",
       "      <th>0</th>\n",
       "      <td>52.0</td>\n",
       "      <td>5.0</td>\n",
       "      <td>2 and over</td>\n",
       "      <td>0.0</td>\n",
       "      <td>Cesarean</td>\n",
       "      <td>NaN</td>\n",
       "      <td>NaN</td>\n",
       "      <td>16.728348</td>\n",
       "      <td>Male</td>\n",
       "      <td>WISC</td>\n",
       "      <td>...</td>\n",
       "      <td>NaN</td>\n",
       "      <td>NaN</td>\n",
       "      <td>NaN</td>\n",
       "      <td>NaN</td>\n",
       "      <td>NaN</td>\n",
       "      <td>Yes</td>\n",
       "      <td>Mcdespot</td>\n",
       "      <td>5.0</td>\n",
       "      <td>C0052-5F-1A</td>\n",
       "      <td>94.133333</td>\n",
       "    </tr>\n",
       "    <tr>\n",
       "      <th>1</th>\n",
       "      <td>53.0</td>\n",
       "      <td>6.0</td>\n",
       "      <td>2 and over</td>\n",
       "      <td>0.0</td>\n",
       "      <td>Cesarean</td>\n",
       "      <td>NaN</td>\n",
       "      <td>NaN</td>\n",
       "      <td>16.008798</td>\n",
       "      <td>Female</td>\n",
       "      <td>WPPSI</td>\n",
       "      <td>...</td>\n",
       "      <td>NaN</td>\n",
       "      <td>NaN</td>\n",
       "      <td>NaN</td>\n",
       "      <td>NaN</td>\n",
       "      <td>NaN</td>\n",
       "      <td>Yes</td>\n",
       "      <td>Mcdespot</td>\n",
       "      <td>6.0</td>\n",
       "      <td>C0053-6F-1A</td>\n",
       "      <td>72.500000</td>\n",
       "    </tr>\n",
       "    <tr>\n",
       "      <th>2</th>\n",
       "      <td>202.0</td>\n",
       "      <td>4.0</td>\n",
       "      <td>2 and over</td>\n",
       "      <td>0.0</td>\n",
       "      <td>Vaginal</td>\n",
       "      <td>NaN</td>\n",
       "      <td>NaN</td>\n",
       "      <td>15.285845</td>\n",
       "      <td>Female</td>\n",
       "      <td>WPPSI</td>\n",
       "      <td>...</td>\n",
       "      <td>0.0</td>\n",
       "      <td>0.03</td>\n",
       "      <td>-1.26</td>\n",
       "      <td>-0.75</td>\n",
       "      <td>0.04</td>\n",
       "      <td>Yes</td>\n",
       "      <td>Mcdespot</td>\n",
       "      <td>4.0</td>\n",
       "      <td>C0202-4F-1A</td>\n",
       "      <td>53.366667</td>\n",
       "    </tr>\n",
       "    <tr>\n",
       "      <th>3</th>\n",
       "      <td>202.0</td>\n",
       "      <td>4.0</td>\n",
       "      <td>2 and over</td>\n",
       "      <td>0.0</td>\n",
       "      <td>Vaginal</td>\n",
       "      <td>NaN</td>\n",
       "      <td>NaN</td>\n",
       "      <td>15.285845</td>\n",
       "      <td>Female</td>\n",
       "      <td>WPPSI</td>\n",
       "      <td>...</td>\n",
       "      <td>0.0</td>\n",
       "      <td>0.03</td>\n",
       "      <td>-1.26</td>\n",
       "      <td>-0.75</td>\n",
       "      <td>0.04</td>\n",
       "      <td>Yes</td>\n",
       "      <td>Mcdespot</td>\n",
       "      <td>4.0</td>\n",
       "      <td>C0202-4F-2A</td>\n",
       "      <td>53.366667</td>\n",
       "    </tr>\n",
       "    <tr>\n",
       "      <th>4</th>\n",
       "      <td>420.0</td>\n",
       "      <td>4.0</td>\n",
       "      <td>2 and over</td>\n",
       "      <td>0.0</td>\n",
       "      <td>Vaginal</td>\n",
       "      <td>NaN</td>\n",
       "      <td>NaN</td>\n",
       "      <td>18.979630</td>\n",
       "      <td>Female</td>\n",
       "      <td>Mullen</td>\n",
       "      <td>...</td>\n",
       "      <td>0.0</td>\n",
       "      <td>2.19</td>\n",
       "      <td>-3.46</td>\n",
       "      <td>-0.68</td>\n",
       "      <td>1.61</td>\n",
       "      <td>NaN</td>\n",
       "      <td>Mcdespot</td>\n",
       "      <td>4.0</td>\n",
       "      <td>C0420-4F-1A</td>\n",
       "      <td>26.600000</td>\n",
       "    </tr>\n",
       "    <tr>\n",
       "      <th>5</th>\n",
       "      <td>420.0</td>\n",
       "      <td>4.0</td>\n",
       "      <td>2 and over</td>\n",
       "      <td>0.0</td>\n",
       "      <td>Vaginal</td>\n",
       "      <td>NaN</td>\n",
       "      <td>NaN</td>\n",
       "      <td>18.979630</td>\n",
       "      <td>Female</td>\n",
       "      <td>Mullen</td>\n",
       "      <td>...</td>\n",
       "      <td>0.0</td>\n",
       "      <td>2.19</td>\n",
       "      <td>-3.46</td>\n",
       "      <td>-0.68</td>\n",
       "      <td>1.61</td>\n",
       "      <td>NaN</td>\n",
       "      <td>Mcdespot</td>\n",
       "      <td>4.0</td>\n",
       "      <td>C0420-4F-2A</td>\n",
       "      <td>26.600000</td>\n",
       "    </tr>\n",
       "    <tr>\n",
       "      <th>6</th>\n",
       "      <td>108.0</td>\n",
       "      <td>4.0</td>\n",
       "      <td>2 and over</td>\n",
       "      <td>0.0</td>\n",
       "      <td>Cesarean</td>\n",
       "      <td>NaN</td>\n",
       "      <td>NaN</td>\n",
       "      <td>17.834450</td>\n",
       "      <td>Male</td>\n",
       "      <td>WISC</td>\n",
       "      <td>...</td>\n",
       "      <td>NaN</td>\n",
       "      <td>NaN</td>\n",
       "      <td>NaN</td>\n",
       "      <td>NaN</td>\n",
       "      <td>NaN</td>\n",
       "      <td>Yes</td>\n",
       "      <td>Mcdespot</td>\n",
       "      <td>4.0</td>\n",
       "      <td>C0108-4F-1A</td>\n",
       "      <td>137.466667</td>\n",
       "    </tr>\n",
       "    <tr>\n",
       "      <th>7</th>\n",
       "      <td>126.0</td>\n",
       "      <td>8.0</td>\n",
       "      <td>2 and over</td>\n",
       "      <td>0.0</td>\n",
       "      <td>Vaginal</td>\n",
       "      <td>NaN</td>\n",
       "      <td>NaN</td>\n",
       "      <td>NaN</td>\n",
       "      <td>Male</td>\n",
       "      <td>WISC</td>\n",
       "      <td>...</td>\n",
       "      <td>NaN</td>\n",
       "      <td>NaN</td>\n",
       "      <td>NaN</td>\n",
       "      <td>NaN</td>\n",
       "      <td>NaN</td>\n",
       "      <td>NaN</td>\n",
       "      <td>Mcdespot</td>\n",
       "      <td>8.0</td>\n",
       "      <td>C0126-8F-1A</td>\n",
       "      <td>75.366667</td>\n",
       "    </tr>\n",
       "    <tr>\n",
       "      <th>8</th>\n",
       "      <td>126.0</td>\n",
       "      <td>8.0</td>\n",
       "      <td>2 and over</td>\n",
       "      <td>0.0</td>\n",
       "      <td>Vaginal</td>\n",
       "      <td>NaN</td>\n",
       "      <td>NaN</td>\n",
       "      <td>NaN</td>\n",
       "      <td>Male</td>\n",
       "      <td>WISC</td>\n",
       "      <td>...</td>\n",
       "      <td>NaN</td>\n",
       "      <td>NaN</td>\n",
       "      <td>NaN</td>\n",
       "      <td>NaN</td>\n",
       "      <td>NaN</td>\n",
       "      <td>NaN</td>\n",
       "      <td>Mcdespot</td>\n",
       "      <td>8.0</td>\n",
       "      <td>C0126-8F-1B</td>\n",
       "      <td>75.366667</td>\n",
       "    </tr>\n",
       "    <tr>\n",
       "      <th>9</th>\n",
       "      <td>127.0</td>\n",
       "      <td>6.0</td>\n",
       "      <td>2 and over</td>\n",
       "      <td>0.0</td>\n",
       "      <td>Vaginal</td>\n",
       "      <td>NaN</td>\n",
       "      <td>NaN</td>\n",
       "      <td>NaN</td>\n",
       "      <td>Female</td>\n",
       "      <td>WISC</td>\n",
       "      <td>...</td>\n",
       "      <td>NaN</td>\n",
       "      <td>NaN</td>\n",
       "      <td>NaN</td>\n",
       "      <td>NaN</td>\n",
       "      <td>NaN</td>\n",
       "      <td>Yes</td>\n",
       "      <td>Mcdespot</td>\n",
       "      <td>6.0</td>\n",
       "      <td>C0127-6F-1B</td>\n",
       "      <td>112.233333</td>\n",
       "    </tr>\n",
       "    <tr>\n",
       "      <th>10</th>\n",
       "      <td>82.0</td>\n",
       "      <td>4.0</td>\n",
       "      <td>2 and over</td>\n",
       "      <td>0.0</td>\n",
       "      <td>Cesarean</td>\n",
       "      <td>NaN</td>\n",
       "      <td>NaN</td>\n",
       "      <td>13.321486</td>\n",
       "      <td>Female</td>\n",
       "      <td>WISC</td>\n",
       "      <td>...</td>\n",
       "      <td>NaN</td>\n",
       "      <td>NaN</td>\n",
       "      <td>NaN</td>\n",
       "      <td>NaN</td>\n",
       "      <td>NaN</td>\n",
       "      <td>NaN</td>\n",
       "      <td>Mcdespot</td>\n",
       "      <td>4.0</td>\n",
       "      <td>C0082-4F-1A</td>\n",
       "      <td>99.466667</td>\n",
       "    </tr>\n",
       "    <tr>\n",
       "      <th>11</th>\n",
       "      <td>507.0</td>\n",
       "      <td>1.0</td>\n",
       "      <td>2 and over</td>\n",
       "      <td>0.0</td>\n",
       "      <td>Vaginal</td>\n",
       "      <td>NaN</td>\n",
       "      <td>NaN</td>\n",
       "      <td>NaN</td>\n",
       "      <td>Male</td>\n",
       "      <td>WISC</td>\n",
       "      <td>...</td>\n",
       "      <td>NaN</td>\n",
       "      <td>NaN</td>\n",
       "      <td>NaN</td>\n",
       "      <td>NaN</td>\n",
       "      <td>NaN</td>\n",
       "      <td>Yes</td>\n",
       "      <td>Mcdespot</td>\n",
       "      <td>1.0</td>\n",
       "      <td>C0507-1F-1A</td>\n",
       "      <td>83.433333</td>\n",
       "    </tr>\n",
       "    <tr>\n",
       "      <th>12</th>\n",
       "      <td>507.0</td>\n",
       "      <td>1.0</td>\n",
       "      <td>2 and over</td>\n",
       "      <td>0.0</td>\n",
       "      <td>Vaginal</td>\n",
       "      <td>NaN</td>\n",
       "      <td>NaN</td>\n",
       "      <td>NaN</td>\n",
       "      <td>Male</td>\n",
       "      <td>WISC</td>\n",
       "      <td>...</td>\n",
       "      <td>NaN</td>\n",
       "      <td>NaN</td>\n",
       "      <td>NaN</td>\n",
       "      <td>NaN</td>\n",
       "      <td>NaN</td>\n",
       "      <td>Yes</td>\n",
       "      <td>Mcdespot</td>\n",
       "      <td>1.0</td>\n",
       "      <td>C0507-1F-2A</td>\n",
       "      <td>83.433333</td>\n",
       "    </tr>\n",
       "    <tr>\n",
       "      <th>13</th>\n",
       "      <td>240.0</td>\n",
       "      <td>3.0</td>\n",
       "      <td>2 and over</td>\n",
       "      <td>0.0</td>\n",
       "      <td>Vaginal</td>\n",
       "      <td>NaN</td>\n",
       "      <td>NaN</td>\n",
       "      <td>NaN</td>\n",
       "      <td>Female</td>\n",
       "      <td>WISC</td>\n",
       "      <td>...</td>\n",
       "      <td>NaN</td>\n",
       "      <td>NaN</td>\n",
       "      <td>NaN</td>\n",
       "      <td>NaN</td>\n",
       "      <td>NaN</td>\n",
       "      <td>Yes</td>\n",
       "      <td>Mcdespot</td>\n",
       "      <td>3.0</td>\n",
       "      <td>C0240-3F-1A</td>\n",
       "      <td>73.400000</td>\n",
       "    </tr>\n",
       "    <tr>\n",
       "      <th>14</th>\n",
       "      <td>240.0</td>\n",
       "      <td>3.0</td>\n",
       "      <td>2 and over</td>\n",
       "      <td>0.0</td>\n",
       "      <td>Vaginal</td>\n",
       "      <td>NaN</td>\n",
       "      <td>NaN</td>\n",
       "      <td>NaN</td>\n",
       "      <td>Female</td>\n",
       "      <td>WISC</td>\n",
       "      <td>...</td>\n",
       "      <td>NaN</td>\n",
       "      <td>NaN</td>\n",
       "      <td>NaN</td>\n",
       "      <td>NaN</td>\n",
       "      <td>NaN</td>\n",
       "      <td>Yes</td>\n",
       "      <td>Mcdespot</td>\n",
       "      <td>3.0</td>\n",
       "      <td>C0240-3F-2A</td>\n",
       "      <td>73.400000</td>\n",
       "    </tr>\n",
       "    <tr>\n",
       "      <th>15</th>\n",
       "      <td>61.0</td>\n",
       "      <td>6.0</td>\n",
       "      <td>2 and over</td>\n",
       "      <td>0.0</td>\n",
       "      <td>Vaginal</td>\n",
       "      <td>NaN</td>\n",
       "      <td>NaN</td>\n",
       "      <td>17.859429</td>\n",
       "      <td>Male</td>\n",
       "      <td>WISC</td>\n",
       "      <td>...</td>\n",
       "      <td>NaN</td>\n",
       "      <td>NaN</td>\n",
       "      <td>NaN</td>\n",
       "      <td>NaN</td>\n",
       "      <td>NaN</td>\n",
       "      <td>NaN</td>\n",
       "      <td>Mcdespot</td>\n",
       "      <td>6.0</td>\n",
       "      <td>C0061-6F-1A</td>\n",
       "      <td>130.733333</td>\n",
       "    </tr>\n",
       "    <tr>\n",
       "      <th>16</th>\n",
       "      <td>61.0</td>\n",
       "      <td>6.0</td>\n",
       "      <td>2 and over</td>\n",
       "      <td>0.0</td>\n",
       "      <td>Vaginal</td>\n",
       "      <td>NaN</td>\n",
       "      <td>NaN</td>\n",
       "      <td>17.859429</td>\n",
       "      <td>Male</td>\n",
       "      <td>WISC</td>\n",
       "      <td>...</td>\n",
       "      <td>NaN</td>\n",
       "      <td>NaN</td>\n",
       "      <td>NaN</td>\n",
       "      <td>NaN</td>\n",
       "      <td>NaN</td>\n",
       "      <td>NaN</td>\n",
       "      <td>Mcdespot</td>\n",
       "      <td>6.0</td>\n",
       "      <td>C0061-6F-2A</td>\n",
       "      <td>130.733333</td>\n",
       "    </tr>\n",
       "    <tr>\n",
       "      <th>17</th>\n",
       "      <td>43.0</td>\n",
       "      <td>7.0</td>\n",
       "      <td>2 and over</td>\n",
       "      <td>0.0</td>\n",
       "      <td>Vaginal</td>\n",
       "      <td>NaN</td>\n",
       "      <td>NaN</td>\n",
       "      <td>19.594504</td>\n",
       "      <td>Male</td>\n",
       "      <td>WISC</td>\n",
       "      <td>...</td>\n",
       "      <td>NaN</td>\n",
       "      <td>NaN</td>\n",
       "      <td>NaN</td>\n",
       "      <td>NaN</td>\n",
       "      <td>NaN</td>\n",
       "      <td>NaN</td>\n",
       "      <td>Mcdespot</td>\n",
       "      <td>7.0</td>\n",
       "      <td>C0043-7F-1A</td>\n",
       "      <td>86.600000</td>\n",
       "    </tr>\n",
       "    <tr>\n",
       "      <th>18</th>\n",
       "      <td>66.0</td>\n",
       "      <td>6.0</td>\n",
       "      <td>2 and over</td>\n",
       "      <td>0.0</td>\n",
       "      <td>Vaginal</td>\n",
       "      <td>NaN</td>\n",
       "      <td>NaN</td>\n",
       "      <td>13.764884</td>\n",
       "      <td>Male</td>\n",
       "      <td>WISC</td>\n",
       "      <td>...</td>\n",
       "      <td>NaN</td>\n",
       "      <td>NaN</td>\n",
       "      <td>NaN</td>\n",
       "      <td>NaN</td>\n",
       "      <td>NaN</td>\n",
       "      <td>NaN</td>\n",
       "      <td>Mcdespot</td>\n",
       "      <td>6.0</td>\n",
       "      <td>C0066-6F-1A</td>\n",
       "      <td>124.866667</td>\n",
       "    </tr>\n",
       "    <tr>\n",
       "      <th>19</th>\n",
       "      <td>66.0</td>\n",
       "      <td>6.0</td>\n",
       "      <td>2 and over</td>\n",
       "      <td>0.0</td>\n",
       "      <td>Vaginal</td>\n",
       "      <td>NaN</td>\n",
       "      <td>NaN</td>\n",
       "      <td>13.764884</td>\n",
       "      <td>Male</td>\n",
       "      <td>WISC</td>\n",
       "      <td>...</td>\n",
       "      <td>NaN</td>\n",
       "      <td>NaN</td>\n",
       "      <td>NaN</td>\n",
       "      <td>NaN</td>\n",
       "      <td>NaN</td>\n",
       "      <td>NaN</td>\n",
       "      <td>Mcdespot</td>\n",
       "      <td>6.0</td>\n",
       "      <td>C0066-6F-1B</td>\n",
       "      <td>124.866667</td>\n",
       "    </tr>\n",
       "    <tr>\n",
       "      <th>20</th>\n",
       "      <td>66.0</td>\n",
       "      <td>6.0</td>\n",
       "      <td>2 and over</td>\n",
       "      <td>0.0</td>\n",
       "      <td>Vaginal</td>\n",
       "      <td>NaN</td>\n",
       "      <td>NaN</td>\n",
       "      <td>13.764884</td>\n",
       "      <td>Male</td>\n",
       "      <td>WISC</td>\n",
       "      <td>...</td>\n",
       "      <td>NaN</td>\n",
       "      <td>NaN</td>\n",
       "      <td>NaN</td>\n",
       "      <td>NaN</td>\n",
       "      <td>NaN</td>\n",
       "      <td>NaN</td>\n",
       "      <td>Mcdespot</td>\n",
       "      <td>6.0</td>\n",
       "      <td>C0066-6F-2A</td>\n",
       "      <td>124.866667</td>\n",
       "    </tr>\n",
       "    <tr>\n",
       "      <th>21</th>\n",
       "      <td>229.0</td>\n",
       "      <td>4.0</td>\n",
       "      <td>2 and over</td>\n",
       "      <td>0.0</td>\n",
       "      <td>Vaginal</td>\n",
       "      <td>NaN</td>\n",
       "      <td>NaN</td>\n",
       "      <td>15.042535</td>\n",
       "      <td>Male</td>\n",
       "      <td>WISC</td>\n",
       "      <td>...</td>\n",
       "      <td>NaN</td>\n",
       "      <td>NaN</td>\n",
       "      <td>NaN</td>\n",
       "      <td>NaN</td>\n",
       "      <td>NaN</td>\n",
       "      <td>NaN</td>\n",
       "      <td>Mcdespot</td>\n",
       "      <td>4.0</td>\n",
       "      <td>C0229-4F-1A</td>\n",
       "      <td>110.300000</td>\n",
       "    </tr>\n",
       "    <tr>\n",
       "      <th>22</th>\n",
       "      <td>229.0</td>\n",
       "      <td>4.0</td>\n",
       "      <td>2 and over</td>\n",
       "      <td>0.0</td>\n",
       "      <td>Vaginal</td>\n",
       "      <td>NaN</td>\n",
       "      <td>NaN</td>\n",
       "      <td>15.042535</td>\n",
       "      <td>Male</td>\n",
       "      <td>WISC</td>\n",
       "      <td>...</td>\n",
       "      <td>NaN</td>\n",
       "      <td>NaN</td>\n",
       "      <td>NaN</td>\n",
       "      <td>NaN</td>\n",
       "      <td>NaN</td>\n",
       "      <td>NaN</td>\n",
       "      <td>Mcdespot</td>\n",
       "      <td>4.0</td>\n",
       "      <td>C0229-4F-2A</td>\n",
       "      <td>110.300000</td>\n",
       "    </tr>\n",
       "    <tr>\n",
       "      <th>23</th>\n",
       "      <td>117.0</td>\n",
       "      <td>4.0</td>\n",
       "      <td>2 and over</td>\n",
       "      <td>0.0</td>\n",
       "      <td>Cesarean</td>\n",
       "      <td>NaN</td>\n",
       "      <td>NaN</td>\n",
       "      <td>12.641523</td>\n",
       "      <td>Female</td>\n",
       "      <td>WISC</td>\n",
       "      <td>...</td>\n",
       "      <td>NaN</td>\n",
       "      <td>NaN</td>\n",
       "      <td>NaN</td>\n",
       "      <td>NaN</td>\n",
       "      <td>NaN</td>\n",
       "      <td>Yes</td>\n",
       "      <td>Mcdespot</td>\n",
       "      <td>4.0</td>\n",
       "      <td>C0117-4F-1A</td>\n",
       "      <td>105.800000</td>\n",
       "    </tr>\n",
       "    <tr>\n",
       "      <th>24</th>\n",
       "      <td>117.0</td>\n",
       "      <td>4.0</td>\n",
       "      <td>2 and over</td>\n",
       "      <td>0.0</td>\n",
       "      <td>Cesarean</td>\n",
       "      <td>NaN</td>\n",
       "      <td>NaN</td>\n",
       "      <td>12.641523</td>\n",
       "      <td>Female</td>\n",
       "      <td>WISC</td>\n",
       "      <td>...</td>\n",
       "      <td>NaN</td>\n",
       "      <td>NaN</td>\n",
       "      <td>NaN</td>\n",
       "      <td>NaN</td>\n",
       "      <td>NaN</td>\n",
       "      <td>Yes</td>\n",
       "      <td>Mcdespot</td>\n",
       "      <td>4.0</td>\n",
       "      <td>C0117-4F-1B</td>\n",
       "      <td>105.800000</td>\n",
       "    </tr>\n",
       "    <tr>\n",
       "      <th>25</th>\n",
       "      <td>117.0</td>\n",
       "      <td>4.0</td>\n",
       "      <td>2 and over</td>\n",
       "      <td>0.0</td>\n",
       "      <td>Cesarean</td>\n",
       "      <td>NaN</td>\n",
       "      <td>NaN</td>\n",
       "      <td>12.641523</td>\n",
       "      <td>Female</td>\n",
       "      <td>WISC</td>\n",
       "      <td>...</td>\n",
       "      <td>NaN</td>\n",
       "      <td>NaN</td>\n",
       "      <td>NaN</td>\n",
       "      <td>NaN</td>\n",
       "      <td>NaN</td>\n",
       "      <td>Yes</td>\n",
       "      <td>Mcdespot</td>\n",
       "      <td>4.0</td>\n",
       "      <td>C0117-4F-2A</td>\n",
       "      <td>105.800000</td>\n",
       "    </tr>\n",
       "    <tr>\n",
       "      <th>26</th>\n",
       "      <td>476.0</td>\n",
       "      <td>3.0</td>\n",
       "      <td>1 to 2</td>\n",
       "      <td>0.0</td>\n",
       "      <td>Vaginal</td>\n",
       "      <td>NaN</td>\n",
       "      <td>NaN</td>\n",
       "      <td>14.617694</td>\n",
       "      <td>Female</td>\n",
       "      <td>Mullen</td>\n",
       "      <td>...</td>\n",
       "      <td>0.0</td>\n",
       "      <td>-0.85</td>\n",
       "      <td>1.81</td>\n",
       "      <td>0.53</td>\n",
       "      <td>-0.69</td>\n",
       "      <td>Yes</td>\n",
       "      <td>Mcdespot</td>\n",
       "      <td>3.0</td>\n",
       "      <td>C0476-3F-1A</td>\n",
       "      <td>24.166667</td>\n",
       "    </tr>\n",
       "    <tr>\n",
       "      <th>27</th>\n",
       "      <td>476.0</td>\n",
       "      <td>3.0</td>\n",
       "      <td>1 to 2</td>\n",
       "      <td>0.0</td>\n",
       "      <td>Vaginal</td>\n",
       "      <td>NaN</td>\n",
       "      <td>NaN</td>\n",
       "      <td>14.617694</td>\n",
       "      <td>Female</td>\n",
       "      <td>Mullen</td>\n",
       "      <td>...</td>\n",
       "      <td>0.0</td>\n",
       "      <td>-0.85</td>\n",
       "      <td>1.81</td>\n",
       "      <td>0.53</td>\n",
       "      <td>-0.69</td>\n",
       "      <td>Yes</td>\n",
       "      <td>Mcdespot</td>\n",
       "      <td>3.0</td>\n",
       "      <td>C0476-3F-2A</td>\n",
       "      <td>24.166667</td>\n",
       "    </tr>\n",
       "    <tr>\n",
       "      <th>28</th>\n",
       "      <td>479.0</td>\n",
       "      <td>3.0</td>\n",
       "      <td>2 and over</td>\n",
       "      <td>0.0</td>\n",
       "      <td>Vaginal</td>\n",
       "      <td>NaN</td>\n",
       "      <td>NaN</td>\n",
       "      <td>14.717395</td>\n",
       "      <td>Female</td>\n",
       "      <td>Mullen</td>\n",
       "      <td>...</td>\n",
       "      <td>0.0</td>\n",
       "      <td>-0.76</td>\n",
       "      <td>-0.68</td>\n",
       "      <td>-0.91</td>\n",
       "      <td>-0.81</td>\n",
       "      <td>NaN</td>\n",
       "      <td>Mcdespot</td>\n",
       "      <td>3.0</td>\n",
       "      <td>C0479-3F-1A</td>\n",
       "      <td>24.766667</td>\n",
       "    </tr>\n",
       "    <tr>\n",
       "      <th>29</th>\n",
       "      <td>479.0</td>\n",
       "      <td>3.0</td>\n",
       "      <td>2 and over</td>\n",
       "      <td>0.0</td>\n",
       "      <td>Vaginal</td>\n",
       "      <td>NaN</td>\n",
       "      <td>NaN</td>\n",
       "      <td>14.717395</td>\n",
       "      <td>Female</td>\n",
       "      <td>Mullen</td>\n",
       "      <td>...</td>\n",
       "      <td>0.0</td>\n",
       "      <td>-0.76</td>\n",
       "      <td>-0.68</td>\n",
       "      <td>-0.91</td>\n",
       "      <td>-0.81</td>\n",
       "      <td>NaN</td>\n",
       "      <td>Mcdespot</td>\n",
       "      <td>3.0</td>\n",
       "      <td>C0479-3F-2A</td>\n",
       "      <td>24.766667</td>\n",
       "    </tr>\n",
       "    <tr>\n",
       "      <th>...</th>\n",
       "      <td>...</td>\n",
       "      <td>...</td>\n",
       "      <td>...</td>\n",
       "      <td>...</td>\n",
       "      <td>...</td>\n",
       "      <td>...</td>\n",
       "      <td>...</td>\n",
       "      <td>...</td>\n",
       "      <td>...</td>\n",
       "      <td>...</td>\n",
       "      <td>...</td>\n",
       "      <td>...</td>\n",
       "      <td>...</td>\n",
       "      <td>...</td>\n",
       "      <td>...</td>\n",
       "      <td>...</td>\n",
       "      <td>...</td>\n",
       "      <td>...</td>\n",
       "      <td>...</td>\n",
       "      <td>...</td>\n",
       "      <td>...</td>\n",
       "    </tr>\n",
       "    <tr>\n",
       "      <th>1192</th>\n",
       "      <td>1273.0</td>\n",
       "      <td>4.0</td>\n",
       "      <td>1 and under</td>\n",
       "      <td>0.0</td>\n",
       "      <td>Cesarean</td>\n",
       "      <td>NaN</td>\n",
       "      <td>NaN</td>\n",
       "      <td>15.939892</td>\n",
       "      <td>Male</td>\n",
       "      <td>None</td>\n",
       "      <td>...</td>\n",
       "      <td>0.0</td>\n",
       "      <td>0.02</td>\n",
       "      <td>-1.89</td>\n",
       "      <td>-1.03</td>\n",
       "      <td>1.16</td>\n",
       "      <td>NaN</td>\n",
       "      <td>Mcdespot</td>\n",
       "      <td>4.0</td>\n",
       "      <td>C1273-4F-1A</td>\n",
       "      <td>0.933333</td>\n",
       "    </tr>\n",
       "    <tr>\n",
       "      <th>1193</th>\n",
       "      <td>1371.0</td>\n",
       "      <td>1.0</td>\n",
       "      <td>Prenatal</td>\n",
       "      <td>0.0</td>\n",
       "      <td>NaN</td>\n",
       "      <td>NaN</td>\n",
       "      <td>NaN</td>\n",
       "      <td>NaN</td>\n",
       "      <td>Male</td>\n",
       "      <td>None</td>\n",
       "      <td>...</td>\n",
       "      <td>NaN</td>\n",
       "      <td>NaN</td>\n",
       "      <td>NaN</td>\n",
       "      <td>NaN</td>\n",
       "      <td>NaN</td>\n",
       "      <td>NaN</td>\n",
       "      <td>NaN</td>\n",
       "      <td>NaN</td>\n",
       "      <td>M1371-1F-1A</td>\n",
       "      <td>NaN</td>\n",
       "    </tr>\n",
       "    <tr>\n",
       "      <th>1194</th>\n",
       "      <td>1316.0</td>\n",
       "      <td>3.0</td>\n",
       "      <td>Prenatal</td>\n",
       "      <td>0.0</td>\n",
       "      <td>NaN</td>\n",
       "      <td>NaN</td>\n",
       "      <td>NaN</td>\n",
       "      <td>NaN</td>\n",
       "      <td>Male</td>\n",
       "      <td>None</td>\n",
       "      <td>...</td>\n",
       "      <td>NaN</td>\n",
       "      <td>NaN</td>\n",
       "      <td>NaN</td>\n",
       "      <td>NaN</td>\n",
       "      <td>NaN</td>\n",
       "      <td>NaN</td>\n",
       "      <td>NaN</td>\n",
       "      <td>NaN</td>\n",
       "      <td>M1316-3F-1A</td>\n",
       "      <td>NaN</td>\n",
       "    </tr>\n",
       "    <tr>\n",
       "      <th>1195</th>\n",
       "      <td>1342.0</td>\n",
       "      <td>2.0</td>\n",
       "      <td>Prenatal</td>\n",
       "      <td>0.0</td>\n",
       "      <td>NaN</td>\n",
       "      <td>NaN</td>\n",
       "      <td>NaN</td>\n",
       "      <td>NaN</td>\n",
       "      <td>Female</td>\n",
       "      <td>None</td>\n",
       "      <td>...</td>\n",
       "      <td>NaN</td>\n",
       "      <td>NaN</td>\n",
       "      <td>NaN</td>\n",
       "      <td>NaN</td>\n",
       "      <td>NaN</td>\n",
       "      <td>NaN</td>\n",
       "      <td>NaN</td>\n",
       "      <td>NaN</td>\n",
       "      <td>M1342-2F-1A</td>\n",
       "      <td>NaN</td>\n",
       "    </tr>\n",
       "    <tr>\n",
       "      <th>1196</th>\n",
       "      <td>635.0</td>\n",
       "      <td>3.0</td>\n",
       "      <td>2 and over</td>\n",
       "      <td>0.0</td>\n",
       "      <td>Vaginal</td>\n",
       "      <td>NaN</td>\n",
       "      <td>NaN</td>\n",
       "      <td>14.673942</td>\n",
       "      <td>Female</td>\n",
       "      <td>None</td>\n",
       "      <td>...</td>\n",
       "      <td>NaN</td>\n",
       "      <td>NaN</td>\n",
       "      <td>NaN</td>\n",
       "      <td>NaN</td>\n",
       "      <td>NaN</td>\n",
       "      <td>NaN</td>\n",
       "      <td>Mcdespot</td>\n",
       "      <td>3.0</td>\n",
       "      <td>C0635-3F-1A</td>\n",
       "      <td>67.866667</td>\n",
       "    </tr>\n",
       "    <tr>\n",
       "      <th>1197</th>\n",
       "      <td>1352.0</td>\n",
       "      <td>2.0</td>\n",
       "      <td>Prenatal</td>\n",
       "      <td>0.0</td>\n",
       "      <td>NaN</td>\n",
       "      <td>NaN</td>\n",
       "      <td>NaN</td>\n",
       "      <td>NaN</td>\n",
       "      <td>Male</td>\n",
       "      <td>None</td>\n",
       "      <td>...</td>\n",
       "      <td>NaN</td>\n",
       "      <td>NaN</td>\n",
       "      <td>NaN</td>\n",
       "      <td>NaN</td>\n",
       "      <td>NaN</td>\n",
       "      <td>NaN</td>\n",
       "      <td>NaN</td>\n",
       "      <td>NaN</td>\n",
       "      <td>M1352-2F-1A</td>\n",
       "      <td>NaN</td>\n",
       "    </tr>\n",
       "    <tr>\n",
       "      <th>1198</th>\n",
       "      <td>1324.0</td>\n",
       "      <td>3.0</td>\n",
       "      <td>Prenatal</td>\n",
       "      <td>0.0</td>\n",
       "      <td>NaN</td>\n",
       "      <td>NaN</td>\n",
       "      <td>NaN</td>\n",
       "      <td>NaN</td>\n",
       "      <td>Female</td>\n",
       "      <td>None</td>\n",
       "      <td>...</td>\n",
       "      <td>NaN</td>\n",
       "      <td>NaN</td>\n",
       "      <td>NaN</td>\n",
       "      <td>NaN</td>\n",
       "      <td>NaN</td>\n",
       "      <td>NaN</td>\n",
       "      <td>NaN</td>\n",
       "      <td>NaN</td>\n",
       "      <td>M1324-3F-1A</td>\n",
       "      <td>NaN</td>\n",
       "    </tr>\n",
       "    <tr>\n",
       "      <th>1199</th>\n",
       "      <td>1305.0</td>\n",
       "      <td>3.0</td>\n",
       "      <td>Prenatal</td>\n",
       "      <td>0.0</td>\n",
       "      <td>NaN</td>\n",
       "      <td>NaN</td>\n",
       "      <td>NaN</td>\n",
       "      <td>NaN</td>\n",
       "      <td>Male</td>\n",
       "      <td>None</td>\n",
       "      <td>...</td>\n",
       "      <td>NaN</td>\n",
       "      <td>NaN</td>\n",
       "      <td>NaN</td>\n",
       "      <td>NaN</td>\n",
       "      <td>NaN</td>\n",
       "      <td>NaN</td>\n",
       "      <td>NaN</td>\n",
       "      <td>NaN</td>\n",
       "      <td>M1305-3F-1A</td>\n",
       "      <td>NaN</td>\n",
       "    </tr>\n",
       "    <tr>\n",
       "      <th>1200</th>\n",
       "      <td>1318.0</td>\n",
       "      <td>3.0</td>\n",
       "      <td>Prenatal</td>\n",
       "      <td>0.0</td>\n",
       "      <td>NaN</td>\n",
       "      <td>NaN</td>\n",
       "      <td>NaN</td>\n",
       "      <td>NaN</td>\n",
       "      <td>Male</td>\n",
       "      <td>None</td>\n",
       "      <td>...</td>\n",
       "      <td>NaN</td>\n",
       "      <td>NaN</td>\n",
       "      <td>NaN</td>\n",
       "      <td>NaN</td>\n",
       "      <td>NaN</td>\n",
       "      <td>NaN</td>\n",
       "      <td>NaN</td>\n",
       "      <td>NaN</td>\n",
       "      <td>M1318-3F-1A</td>\n",
       "      <td>NaN</td>\n",
       "    </tr>\n",
       "    <tr>\n",
       "      <th>1201</th>\n",
       "      <td>1322.0</td>\n",
       "      <td>3.0</td>\n",
       "      <td>Prenatal</td>\n",
       "      <td>0.0</td>\n",
       "      <td>Vaginal</td>\n",
       "      <td>NaN</td>\n",
       "      <td>NaN</td>\n",
       "      <td>NaN</td>\n",
       "      <td>Female</td>\n",
       "      <td>None</td>\n",
       "      <td>...</td>\n",
       "      <td>NaN</td>\n",
       "      <td>NaN</td>\n",
       "      <td>NaN</td>\n",
       "      <td>NaN</td>\n",
       "      <td>NaN</td>\n",
       "      <td>NaN</td>\n",
       "      <td>NaN</td>\n",
       "      <td>NaN</td>\n",
       "      <td>M1322-3F-1A</td>\n",
       "      <td>NaN</td>\n",
       "    </tr>\n",
       "    <tr>\n",
       "      <th>1202</th>\n",
       "      <td>571.0</td>\n",
       "      <td>3.0</td>\n",
       "      <td>2 and over</td>\n",
       "      <td>0.0</td>\n",
       "      <td>Vaginal</td>\n",
       "      <td>NaN</td>\n",
       "      <td>NaN</td>\n",
       "      <td>14.270571</td>\n",
       "      <td>Male</td>\n",
       "      <td>WISC</td>\n",
       "      <td>...</td>\n",
       "      <td>NaN</td>\n",
       "      <td>NaN</td>\n",
       "      <td>NaN</td>\n",
       "      <td>NaN</td>\n",
       "      <td>NaN</td>\n",
       "      <td>NaN</td>\n",
       "      <td>Mcdespot</td>\n",
       "      <td>3.0</td>\n",
       "      <td>C0571-3F-1A</td>\n",
       "      <td>72.900000</td>\n",
       "    </tr>\n",
       "    <tr>\n",
       "      <th>1203</th>\n",
       "      <td>1353.0</td>\n",
       "      <td>2.0</td>\n",
       "      <td>Prenatal</td>\n",
       "      <td>0.0</td>\n",
       "      <td>NaN</td>\n",
       "      <td>NaN</td>\n",
       "      <td>NaN</td>\n",
       "      <td>NaN</td>\n",
       "      <td>Male</td>\n",
       "      <td>None</td>\n",
       "      <td>...</td>\n",
       "      <td>NaN</td>\n",
       "      <td>NaN</td>\n",
       "      <td>NaN</td>\n",
       "      <td>NaN</td>\n",
       "      <td>NaN</td>\n",
       "      <td>NaN</td>\n",
       "      <td>NaN</td>\n",
       "      <td>NaN</td>\n",
       "      <td>M1353-2F-1A</td>\n",
       "      <td>NaN</td>\n",
       "    </tr>\n",
       "    <tr>\n",
       "      <th>1204</th>\n",
       "      <td>1376.0</td>\n",
       "      <td>1.0</td>\n",
       "      <td>2 and over</td>\n",
       "      <td>0.0</td>\n",
       "      <td>Vaginal</td>\n",
       "      <td>NaN</td>\n",
       "      <td>NaN</td>\n",
       "      <td>18.803472</td>\n",
       "      <td>Female</td>\n",
       "      <td>WPPSI</td>\n",
       "      <td>...</td>\n",
       "      <td>NaN</td>\n",
       "      <td>NaN</td>\n",
       "      <td>NaN</td>\n",
       "      <td>NaN</td>\n",
       "      <td>NaN</td>\n",
       "      <td>NaN</td>\n",
       "      <td>Mcdespot</td>\n",
       "      <td>1.0</td>\n",
       "      <td>M1376-1F-1A</td>\n",
       "      <td>73.166667</td>\n",
       "    </tr>\n",
       "    <tr>\n",
       "      <th>1205</th>\n",
       "      <td>1347.0</td>\n",
       "      <td>2.0</td>\n",
       "      <td>Prenatal</td>\n",
       "      <td>0.0</td>\n",
       "      <td>NaN</td>\n",
       "      <td>NaN</td>\n",
       "      <td>NaN</td>\n",
       "      <td>NaN</td>\n",
       "      <td>Female</td>\n",
       "      <td>None</td>\n",
       "      <td>...</td>\n",
       "      <td>NaN</td>\n",
       "      <td>NaN</td>\n",
       "      <td>NaN</td>\n",
       "      <td>NaN</td>\n",
       "      <td>NaN</td>\n",
       "      <td>NaN</td>\n",
       "      <td>NaN</td>\n",
       "      <td>NaN</td>\n",
       "      <td>M1347-2F-1A</td>\n",
       "      <td>NaN</td>\n",
       "    </tr>\n",
       "    <tr>\n",
       "      <th>1206</th>\n",
       "      <td>1345.0</td>\n",
       "      <td>2.0</td>\n",
       "      <td>Prenatal</td>\n",
       "      <td>0.0</td>\n",
       "      <td>NaN</td>\n",
       "      <td>NaN</td>\n",
       "      <td>NaN</td>\n",
       "      <td>NaN</td>\n",
       "      <td>Female</td>\n",
       "      <td>None</td>\n",
       "      <td>...</td>\n",
       "      <td>NaN</td>\n",
       "      <td>NaN</td>\n",
       "      <td>NaN</td>\n",
       "      <td>NaN</td>\n",
       "      <td>NaN</td>\n",
       "      <td>NaN</td>\n",
       "      <td>NaN</td>\n",
       "      <td>NaN</td>\n",
       "      <td>M1345-2F-1A</td>\n",
       "      <td>NaN</td>\n",
       "    </tr>\n",
       "    <tr>\n",
       "      <th>1207</th>\n",
       "      <td>123.0</td>\n",
       "      <td>5.0</td>\n",
       "      <td>2 and over</td>\n",
       "      <td>0.0</td>\n",
       "      <td>Vaginal</td>\n",
       "      <td>NaN</td>\n",
       "      <td>NaN</td>\n",
       "      <td>NaN</td>\n",
       "      <td>Female</td>\n",
       "      <td>WISC</td>\n",
       "      <td>...</td>\n",
       "      <td>NaN</td>\n",
       "      <td>NaN</td>\n",
       "      <td>NaN</td>\n",
       "      <td>NaN</td>\n",
       "      <td>NaN</td>\n",
       "      <td>NaN</td>\n",
       "      <td>Mcdespot</td>\n",
       "      <td>5.0</td>\n",
       "      <td>C0123-5F-1A</td>\n",
       "      <td>116.033333</td>\n",
       "    </tr>\n",
       "    <tr>\n",
       "      <th>1208</th>\n",
       "      <td>623.0</td>\n",
       "      <td>3.0</td>\n",
       "      <td>2 and over</td>\n",
       "      <td>0.0</td>\n",
       "      <td>Cesarean</td>\n",
       "      <td>NaN</td>\n",
       "      <td>NaN</td>\n",
       "      <td>13.531110</td>\n",
       "      <td>Male</td>\n",
       "      <td>None</td>\n",
       "      <td>...</td>\n",
       "      <td>NaN</td>\n",
       "      <td>NaN</td>\n",
       "      <td>NaN</td>\n",
       "      <td>NaN</td>\n",
       "      <td>NaN</td>\n",
       "      <td>NaN</td>\n",
       "      <td>Mcdespot</td>\n",
       "      <td>3.0</td>\n",
       "      <td>C0623-3F-1A</td>\n",
       "      <td>93.233333</td>\n",
       "    </tr>\n",
       "    <tr>\n",
       "      <th>1209</th>\n",
       "      <td>1359.0</td>\n",
       "      <td>2.0</td>\n",
       "      <td>Prenatal</td>\n",
       "      <td>0.0</td>\n",
       "      <td>NaN</td>\n",
       "      <td>NaN</td>\n",
       "      <td>NaN</td>\n",
       "      <td>NaN</td>\n",
       "      <td>Female</td>\n",
       "      <td>None</td>\n",
       "      <td>...</td>\n",
       "      <td>NaN</td>\n",
       "      <td>NaN</td>\n",
       "      <td>NaN</td>\n",
       "      <td>NaN</td>\n",
       "      <td>NaN</td>\n",
       "      <td>NaN</td>\n",
       "      <td>NaN</td>\n",
       "      <td>NaN</td>\n",
       "      <td>M1359-2F-1A</td>\n",
       "      <td>NaN</td>\n",
       "    </tr>\n",
       "    <tr>\n",
       "      <th>1210</th>\n",
       "      <td>1050.0</td>\n",
       "      <td>9.0</td>\n",
       "      <td>1 and under</td>\n",
       "      <td>0.0</td>\n",
       "      <td>Vaginal</td>\n",
       "      <td>NaN</td>\n",
       "      <td>NaN</td>\n",
       "      <td>NaN</td>\n",
       "      <td>Female</td>\n",
       "      <td>None</td>\n",
       "      <td>...</td>\n",
       "      <td>NaN</td>\n",
       "      <td>NaN</td>\n",
       "      <td>NaN</td>\n",
       "      <td>NaN</td>\n",
       "      <td>NaN</td>\n",
       "      <td>NaN</td>\n",
       "      <td>NaN</td>\n",
       "      <td>NaN</td>\n",
       "      <td>C1050-9F-1A</td>\n",
       "      <td>7.333333</td>\n",
       "    </tr>\n",
       "    <tr>\n",
       "      <th>1211</th>\n",
       "      <td>1220.0</td>\n",
       "      <td>4.0</td>\n",
       "      <td>1 and under</td>\n",
       "      <td>0.0</td>\n",
       "      <td>Vaginal</td>\n",
       "      <td>NaN</td>\n",
       "      <td>NaN</td>\n",
       "      <td>18.925557</td>\n",
       "      <td>Male</td>\n",
       "      <td>Mullen</td>\n",
       "      <td>...</td>\n",
       "      <td>0.0</td>\n",
       "      <td>1.24</td>\n",
       "      <td>1.63</td>\n",
       "      <td>1.85</td>\n",
       "      <td>1.13</td>\n",
       "      <td>NaN</td>\n",
       "      <td>NaN</td>\n",
       "      <td>NaN</td>\n",
       "      <td>C1220-4F-1A</td>\n",
       "      <td>3.533333</td>\n",
       "    </tr>\n",
       "    <tr>\n",
       "      <th>1212</th>\n",
       "      <td>1362.0</td>\n",
       "      <td>2.0</td>\n",
       "      <td>Prenatal</td>\n",
       "      <td>0.0</td>\n",
       "      <td>NaN</td>\n",
       "      <td>NaN</td>\n",
       "      <td>NaN</td>\n",
       "      <td>NaN</td>\n",
       "      <td>Female</td>\n",
       "      <td>None</td>\n",
       "      <td>...</td>\n",
       "      <td>NaN</td>\n",
       "      <td>NaN</td>\n",
       "      <td>NaN</td>\n",
       "      <td>NaN</td>\n",
       "      <td>NaN</td>\n",
       "      <td>NaN</td>\n",
       "      <td>NaN</td>\n",
       "      <td>NaN</td>\n",
       "      <td>M1362-2F-1A</td>\n",
       "      <td>NaN</td>\n",
       "    </tr>\n",
       "    <tr>\n",
       "      <th>1213</th>\n",
       "      <td>1215.0</td>\n",
       "      <td>4.0</td>\n",
       "      <td>1 and under</td>\n",
       "      <td>0.0</td>\n",
       "      <td>Cesarean</td>\n",
       "      <td>NaN</td>\n",
       "      <td>NaN</td>\n",
       "      <td>19.160249</td>\n",
       "      <td>Female</td>\n",
       "      <td>Mullen</td>\n",
       "      <td>...</td>\n",
       "      <td>0.0</td>\n",
       "      <td>1.57</td>\n",
       "      <td>-0.20</td>\n",
       "      <td>1.05</td>\n",
       "      <td>1.62</td>\n",
       "      <td>NaN</td>\n",
       "      <td>NaN</td>\n",
       "      <td>NaN</td>\n",
       "      <td>C1215-4F-1A</td>\n",
       "      <td>3.733333</td>\n",
       "    </tr>\n",
       "    <tr>\n",
       "      <th>1214</th>\n",
       "      <td>1336.0</td>\n",
       "      <td>3.0</td>\n",
       "      <td>Prenatal</td>\n",
       "      <td>0.0</td>\n",
       "      <td>NaN</td>\n",
       "      <td>NaN</td>\n",
       "      <td>NaN</td>\n",
       "      <td>NaN</td>\n",
       "      <td>Female</td>\n",
       "      <td>None</td>\n",
       "      <td>...</td>\n",
       "      <td>NaN</td>\n",
       "      <td>NaN</td>\n",
       "      <td>NaN</td>\n",
       "      <td>NaN</td>\n",
       "      <td>NaN</td>\n",
       "      <td>NaN</td>\n",
       "      <td>NaN</td>\n",
       "      <td>NaN</td>\n",
       "      <td>M1336-3F-1A</td>\n",
       "      <td>NaN</td>\n",
       "    </tr>\n",
       "    <tr>\n",
       "      <th>1215</th>\n",
       "      <td>1271.0</td>\n",
       "      <td>4.0</td>\n",
       "      <td>1 and under</td>\n",
       "      <td>0.0</td>\n",
       "      <td>Cesarean</td>\n",
       "      <td>NaN</td>\n",
       "      <td>NaN</td>\n",
       "      <td>NaN</td>\n",
       "      <td>Female</td>\n",
       "      <td>None</td>\n",
       "      <td>...</td>\n",
       "      <td>NaN</td>\n",
       "      <td>NaN</td>\n",
       "      <td>NaN</td>\n",
       "      <td>NaN</td>\n",
       "      <td>NaN</td>\n",
       "      <td>NaN</td>\n",
       "      <td>Mcdespot</td>\n",
       "      <td>4.0</td>\n",
       "      <td>C1271-4F-1A</td>\n",
       "      <td>1.466667</td>\n",
       "    </tr>\n",
       "    <tr>\n",
       "      <th>1216</th>\n",
       "      <td>1244.0</td>\n",
       "      <td>4.0</td>\n",
       "      <td>1 and under</td>\n",
       "      <td>0.0</td>\n",
       "      <td>Vaginal</td>\n",
       "      <td>NaN</td>\n",
       "      <td>NaN</td>\n",
       "      <td>17.141863</td>\n",
       "      <td>Female</td>\n",
       "      <td>Mullen</td>\n",
       "      <td>...</td>\n",
       "      <td>0.0</td>\n",
       "      <td>0.32</td>\n",
       "      <td>-1.58</td>\n",
       "      <td>-0.67</td>\n",
       "      <td>0.74</td>\n",
       "      <td>NaN</td>\n",
       "      <td>Mcdespot</td>\n",
       "      <td>4.0</td>\n",
       "      <td>C1244-4F-1A</td>\n",
       "      <td>3.933333</td>\n",
       "    </tr>\n",
       "    <tr>\n",
       "      <th>1217</th>\n",
       "      <td>1234.0</td>\n",
       "      <td>4.0</td>\n",
       "      <td>1 and under</td>\n",
       "      <td>0.0</td>\n",
       "      <td>Vaginal</td>\n",
       "      <td>NaN</td>\n",
       "      <td>NaN</td>\n",
       "      <td>16.537532</td>\n",
       "      <td>Female</td>\n",
       "      <td>Mullen</td>\n",
       "      <td>...</td>\n",
       "      <td>0.0</td>\n",
       "      <td>-0.07</td>\n",
       "      <td>-2.17</td>\n",
       "      <td>-1.31</td>\n",
       "      <td>0.57</td>\n",
       "      <td>NaN</td>\n",
       "      <td>Mcdespot</td>\n",
       "      <td>4.0</td>\n",
       "      <td>C1234-4F-1A</td>\n",
       "      <td>3.233333</td>\n",
       "    </tr>\n",
       "    <tr>\n",
       "      <th>1218</th>\n",
       "      <td>1333.0</td>\n",
       "      <td>3.0</td>\n",
       "      <td>Prenatal</td>\n",
       "      <td>0.0</td>\n",
       "      <td>NaN</td>\n",
       "      <td>NaN</td>\n",
       "      <td>NaN</td>\n",
       "      <td>NaN</td>\n",
       "      <td>Male</td>\n",
       "      <td>None</td>\n",
       "      <td>...</td>\n",
       "      <td>NaN</td>\n",
       "      <td>NaN</td>\n",
       "      <td>NaN</td>\n",
       "      <td>NaN</td>\n",
       "      <td>NaN</td>\n",
       "      <td>NaN</td>\n",
       "      <td>NaN</td>\n",
       "      <td>NaN</td>\n",
       "      <td>M1333-3F-1A</td>\n",
       "      <td>NaN</td>\n",
       "    </tr>\n",
       "    <tr>\n",
       "      <th>1219</th>\n",
       "      <td>1135.0</td>\n",
       "      <td>5.0</td>\n",
       "      <td>1 and under</td>\n",
       "      <td>0.0</td>\n",
       "      <td>Cesarean</td>\n",
       "      <td>NaN</td>\n",
       "      <td>NaN</td>\n",
       "      <td>19.675012</td>\n",
       "      <td>Female</td>\n",
       "      <td>Mullen</td>\n",
       "      <td>...</td>\n",
       "      <td>0.0</td>\n",
       "      <td>1.66</td>\n",
       "      <td>-0.50</td>\n",
       "      <td>0.96</td>\n",
       "      <td>1.71</td>\n",
       "      <td>NaN</td>\n",
       "      <td>NaN</td>\n",
       "      <td>NaN</td>\n",
       "      <td>C1135-5F-1A</td>\n",
       "      <td>6.000000</td>\n",
       "    </tr>\n",
       "    <tr>\n",
       "      <th>1220</th>\n",
       "      <td>492.0</td>\n",
       "      <td>7.0</td>\n",
       "      <td>1 to 2</td>\n",
       "      <td>0.0</td>\n",
       "      <td>Vaginal</td>\n",
       "      <td>NaN</td>\n",
       "      <td>NaN</td>\n",
       "      <td>16.206351</td>\n",
       "      <td>Male</td>\n",
       "      <td>Mullen</td>\n",
       "      <td>...</td>\n",
       "      <td>0.0</td>\n",
       "      <td>0.05</td>\n",
       "      <td>-0.69</td>\n",
       "      <td>-0.39</td>\n",
       "      <td>-0.06</td>\n",
       "      <td>NaN</td>\n",
       "      <td>Mcdespot</td>\n",
       "      <td>7.0</td>\n",
       "      <td>C0492-7F-1A</td>\n",
       "      <td>18.400000</td>\n",
       "    </tr>\n",
       "    <tr>\n",
       "      <th>1221</th>\n",
       "      <td>194.0</td>\n",
       "      <td>5.0</td>\n",
       "      <td>2 and over</td>\n",
       "      <td>0.0</td>\n",
       "      <td>Cesarean</td>\n",
       "      <td>NaN</td>\n",
       "      <td>NaN</td>\n",
       "      <td>19.445971</td>\n",
       "      <td>Female</td>\n",
       "      <td>None</td>\n",
       "      <td>...</td>\n",
       "      <td>NaN</td>\n",
       "      <td>NaN</td>\n",
       "      <td>NaN</td>\n",
       "      <td>NaN</td>\n",
       "      <td>NaN</td>\n",
       "      <td>NaN</td>\n",
       "      <td>Mcdespot</td>\n",
       "      <td>5.0</td>\n",
       "      <td>C0194-5F-1A</td>\n",
       "      <td>117.700000</td>\n",
       "    </tr>\n",
       "  </tbody>\n",
       "</table>\n",
       "<p>1222 rows × 47 columns</p>\n",
       "</div>"
      ],
      "text/plain": [
       "      subjectID  timepoint     ageLabel  ASLProcessed birthType  \\\n",
       "0          52.0        5.0   2 and over           0.0  Cesarean   \n",
       "1          53.0        6.0   2 and over           0.0  Cesarean   \n",
       "2         202.0        4.0   2 and over           0.0   Vaginal   \n",
       "3         202.0        4.0   2 and over           0.0   Vaginal   \n",
       "4         420.0        4.0   2 and over           0.0   Vaginal   \n",
       "5         420.0        4.0   2 and over           0.0   Vaginal   \n",
       "6         108.0        4.0   2 and over           0.0  Cesarean   \n",
       "7         126.0        8.0   2 and over           0.0   Vaginal   \n",
       "8         126.0        8.0   2 and over           0.0   Vaginal   \n",
       "9         127.0        6.0   2 and over           0.0   Vaginal   \n",
       "10         82.0        4.0   2 and over           0.0  Cesarean   \n",
       "11        507.0        1.0   2 and over           0.0   Vaginal   \n",
       "12        507.0        1.0   2 and over           0.0   Vaginal   \n",
       "13        240.0        3.0   2 and over           0.0   Vaginal   \n",
       "14        240.0        3.0   2 and over           0.0   Vaginal   \n",
       "15         61.0        6.0   2 and over           0.0   Vaginal   \n",
       "16         61.0        6.0   2 and over           0.0   Vaginal   \n",
       "17         43.0        7.0   2 and over           0.0   Vaginal   \n",
       "18         66.0        6.0   2 and over           0.0   Vaginal   \n",
       "19         66.0        6.0   2 and over           0.0   Vaginal   \n",
       "20         66.0        6.0   2 and over           0.0   Vaginal   \n",
       "21        229.0        4.0   2 and over           0.0   Vaginal   \n",
       "22        229.0        4.0   2 and over           0.0   Vaginal   \n",
       "23        117.0        4.0   2 and over           0.0  Cesarean   \n",
       "24        117.0        4.0   2 and over           0.0  Cesarean   \n",
       "25        117.0        4.0   2 and over           0.0  Cesarean   \n",
       "26        476.0        3.0       1 to 2           0.0   Vaginal   \n",
       "27        476.0        3.0       1 to 2           0.0   Vaginal   \n",
       "28        479.0        3.0   2 and over           0.0   Vaginal   \n",
       "29        479.0        3.0   2 and over           0.0   Vaginal   \n",
       "...         ...        ...          ...           ...       ...   \n",
       "1192     1273.0        4.0  1 and under           0.0  Cesarean   \n",
       "1193     1371.0        1.0     Prenatal           0.0       NaN   \n",
       "1194     1316.0        3.0     Prenatal           0.0       NaN   \n",
       "1195     1342.0        2.0     Prenatal           0.0       NaN   \n",
       "1196      635.0        3.0   2 and over           0.0   Vaginal   \n",
       "1197     1352.0        2.0     Prenatal           0.0       NaN   \n",
       "1198     1324.0        3.0     Prenatal           0.0       NaN   \n",
       "1199     1305.0        3.0     Prenatal           0.0       NaN   \n",
       "1200     1318.0        3.0     Prenatal           0.0       NaN   \n",
       "1201     1322.0        3.0     Prenatal           0.0   Vaginal   \n",
       "1202      571.0        3.0   2 and over           0.0   Vaginal   \n",
       "1203     1353.0        2.0     Prenatal           0.0       NaN   \n",
       "1204     1376.0        1.0   2 and over           0.0   Vaginal   \n",
       "1205     1347.0        2.0     Prenatal           0.0       NaN   \n",
       "1206     1345.0        2.0     Prenatal           0.0       NaN   \n",
       "1207      123.0        5.0   2 and over           0.0   Vaginal   \n",
       "1208      623.0        3.0   2 and over           0.0  Cesarean   \n",
       "1209     1359.0        2.0     Prenatal           0.0       NaN   \n",
       "1210     1050.0        9.0  1 and under           0.0   Vaginal   \n",
       "1211     1220.0        4.0  1 and under           0.0   Vaginal   \n",
       "1212     1362.0        2.0     Prenatal           0.0       NaN   \n",
       "1213     1215.0        4.0  1 and under           0.0  Cesarean   \n",
       "1214     1336.0        3.0     Prenatal           0.0       NaN   \n",
       "1215     1271.0        4.0  1 and under           0.0  Cesarean   \n",
       "1216     1244.0        4.0  1 and under           0.0   Vaginal   \n",
       "1217     1234.0        4.0  1 and under           0.0   Vaginal   \n",
       "1218     1333.0        3.0     Prenatal           0.0       NaN   \n",
       "1219     1135.0        5.0  1 and under           0.0  Cesarean   \n",
       "1220      492.0        7.0       1 to 2           0.0   Vaginal   \n",
       "1221      194.0        5.0   2 and over           0.0  Cesarean   \n",
       "\n",
       "      breastFedPercent breastfeeding   childBMI childGender cogAssessment  \\\n",
       "0                  NaN           NaN  16.728348        Male          WISC   \n",
       "1                  NaN           NaN  16.008798      Female         WPPSI   \n",
       "2                  NaN           NaN  15.285845      Female         WPPSI   \n",
       "3                  NaN           NaN  15.285845      Female         WPPSI   \n",
       "4                  NaN           NaN  18.979630      Female        Mullen   \n",
       "5                  NaN           NaN  18.979630      Female        Mullen   \n",
       "6                  NaN           NaN  17.834450        Male          WISC   \n",
       "7                  NaN           NaN        NaN        Male          WISC   \n",
       "8                  NaN           NaN        NaN        Male          WISC   \n",
       "9                  NaN           NaN        NaN      Female          WISC   \n",
       "10                 NaN           NaN  13.321486      Female          WISC   \n",
       "11                 NaN           NaN        NaN        Male          WISC   \n",
       "12                 NaN           NaN        NaN        Male          WISC   \n",
       "13                 NaN           NaN        NaN      Female          WISC   \n",
       "14                 NaN           NaN        NaN      Female          WISC   \n",
       "15                 NaN           NaN  17.859429        Male          WISC   \n",
       "16                 NaN           NaN  17.859429        Male          WISC   \n",
       "17                 NaN           NaN  19.594504        Male          WISC   \n",
       "18                 NaN           NaN  13.764884        Male          WISC   \n",
       "19                 NaN           NaN  13.764884        Male          WISC   \n",
       "20                 NaN           NaN  13.764884        Male          WISC   \n",
       "21                 NaN           NaN  15.042535        Male          WISC   \n",
       "22                 NaN           NaN  15.042535        Male          WISC   \n",
       "23                 NaN           NaN  12.641523      Female          WISC   \n",
       "24                 NaN           NaN  12.641523      Female          WISC   \n",
       "25                 NaN           NaN  12.641523      Female          WISC   \n",
       "26                 NaN           NaN  14.617694      Female        Mullen   \n",
       "27                 NaN           NaN  14.617694      Female        Mullen   \n",
       "28                 NaN           NaN  14.717395      Female        Mullen   \n",
       "29                 NaN           NaN  14.717395      Female        Mullen   \n",
       "...                ...           ...        ...         ...           ...   \n",
       "1192               NaN           NaN  15.939892        Male          None   \n",
       "1193               NaN           NaN        NaN        Male          None   \n",
       "1194               NaN           NaN        NaN        Male          None   \n",
       "1195               NaN           NaN        NaN      Female          None   \n",
       "1196               NaN           NaN  14.673942      Female          None   \n",
       "1197               NaN           NaN        NaN        Male          None   \n",
       "1198               NaN           NaN        NaN      Female          None   \n",
       "1199               NaN           NaN        NaN        Male          None   \n",
       "1200               NaN           NaN        NaN        Male          None   \n",
       "1201               NaN           NaN        NaN      Female          None   \n",
       "1202               NaN           NaN  14.270571        Male          WISC   \n",
       "1203               NaN           NaN        NaN        Male          None   \n",
       "1204               NaN           NaN  18.803472      Female         WPPSI   \n",
       "1205               NaN           NaN        NaN      Female          None   \n",
       "1206               NaN           NaN        NaN      Female          None   \n",
       "1207               NaN           NaN        NaN      Female          WISC   \n",
       "1208               NaN           NaN  13.531110        Male          None   \n",
       "1209               NaN           NaN        NaN      Female          None   \n",
       "1210               NaN           NaN        NaN      Female          None   \n",
       "1211               NaN           NaN  18.925557        Male        Mullen   \n",
       "1212               NaN           NaN        NaN      Female          None   \n",
       "1213               NaN           NaN  19.160249      Female        Mullen   \n",
       "1214               NaN           NaN        NaN      Female          None   \n",
       "1215               NaN           NaN        NaN      Female          None   \n",
       "1216               NaN           NaN  17.141863      Female        Mullen   \n",
       "1217               NaN           NaN  16.537532      Female        Mullen   \n",
       "1218               NaN           NaN        NaN        Male          None   \n",
       "1219               NaN           NaN  19.675012      Female        Mullen   \n",
       "1220               NaN           NaN  16.206351        Male        Mullen   \n",
       "1221               NaN           NaN  19.445971      Female          None   \n",
       "\n",
       "      ...  WHO_fwfl  WHO_zbmi  WHO_zlen  WHO_zwei  WHO_zwfl  \\\n",
       "0     ...       NaN       NaN       NaN       NaN       NaN   \n",
       "1     ...       NaN       NaN       NaN       NaN       NaN   \n",
       "2     ...       0.0      0.03     -1.26     -0.75      0.04   \n",
       "3     ...       0.0      0.03     -1.26     -0.75      0.04   \n",
       "4     ...       0.0      2.19     -3.46     -0.68      1.61   \n",
       "5     ...       0.0      2.19     -3.46     -0.68      1.61   \n",
       "6     ...       NaN       NaN       NaN       NaN       NaN   \n",
       "7     ...       NaN       NaN       NaN       NaN       NaN   \n",
       "8     ...       NaN       NaN       NaN       NaN       NaN   \n",
       "9     ...       NaN       NaN       NaN       NaN       NaN   \n",
       "10    ...       NaN       NaN       NaN       NaN       NaN   \n",
       "11    ...       NaN       NaN       NaN       NaN       NaN   \n",
       "12    ...       NaN       NaN       NaN       NaN       NaN   \n",
       "13    ...       NaN       NaN       NaN       NaN       NaN   \n",
       "14    ...       NaN       NaN       NaN       NaN       NaN   \n",
       "15    ...       NaN       NaN       NaN       NaN       NaN   \n",
       "16    ...       NaN       NaN       NaN       NaN       NaN   \n",
       "17    ...       NaN       NaN       NaN       NaN       NaN   \n",
       "18    ...       NaN       NaN       NaN       NaN       NaN   \n",
       "19    ...       NaN       NaN       NaN       NaN       NaN   \n",
       "20    ...       NaN       NaN       NaN       NaN       NaN   \n",
       "21    ...       NaN       NaN       NaN       NaN       NaN   \n",
       "22    ...       NaN       NaN       NaN       NaN       NaN   \n",
       "23    ...       NaN       NaN       NaN       NaN       NaN   \n",
       "24    ...       NaN       NaN       NaN       NaN       NaN   \n",
       "25    ...       NaN       NaN       NaN       NaN       NaN   \n",
       "26    ...       0.0     -0.85      1.81      0.53     -0.69   \n",
       "27    ...       0.0     -0.85      1.81      0.53     -0.69   \n",
       "28    ...       0.0     -0.76     -0.68     -0.91     -0.81   \n",
       "29    ...       0.0     -0.76     -0.68     -0.91     -0.81   \n",
       "...   ...       ...       ...       ...       ...       ...   \n",
       "1192  ...       0.0      0.02     -1.89     -1.03      1.16   \n",
       "1193  ...       NaN       NaN       NaN       NaN       NaN   \n",
       "1194  ...       NaN       NaN       NaN       NaN       NaN   \n",
       "1195  ...       NaN       NaN       NaN       NaN       NaN   \n",
       "1196  ...       NaN       NaN       NaN       NaN       NaN   \n",
       "1197  ...       NaN       NaN       NaN       NaN       NaN   \n",
       "1198  ...       NaN       NaN       NaN       NaN       NaN   \n",
       "1199  ...       NaN       NaN       NaN       NaN       NaN   \n",
       "1200  ...       NaN       NaN       NaN       NaN       NaN   \n",
       "1201  ...       NaN       NaN       NaN       NaN       NaN   \n",
       "1202  ...       NaN       NaN       NaN       NaN       NaN   \n",
       "1203  ...       NaN       NaN       NaN       NaN       NaN   \n",
       "1204  ...       NaN       NaN       NaN       NaN       NaN   \n",
       "1205  ...       NaN       NaN       NaN       NaN       NaN   \n",
       "1206  ...       NaN       NaN       NaN       NaN       NaN   \n",
       "1207  ...       NaN       NaN       NaN       NaN       NaN   \n",
       "1208  ...       NaN       NaN       NaN       NaN       NaN   \n",
       "1209  ...       NaN       NaN       NaN       NaN       NaN   \n",
       "1210  ...       NaN       NaN       NaN       NaN       NaN   \n",
       "1211  ...       0.0      1.24      1.63      1.85      1.13   \n",
       "1212  ...       NaN       NaN       NaN       NaN       NaN   \n",
       "1213  ...       0.0      1.57     -0.20      1.05      1.62   \n",
       "1214  ...       NaN       NaN       NaN       NaN       NaN   \n",
       "1215  ...       NaN       NaN       NaN       NaN       NaN   \n",
       "1216  ...       0.0      0.32     -1.58     -0.67      0.74   \n",
       "1217  ...       0.0     -0.07     -2.17     -1.31      0.57   \n",
       "1218  ...       NaN       NaN       NaN       NaN       NaN   \n",
       "1219  ...       0.0      1.66     -0.50      0.96      1.71   \n",
       "1220  ...       0.0      0.05     -0.69     -0.39     -0.06   \n",
       "1221  ...       NaN       NaN       NaN       NaN       NaN   \n",
       "\n",
       "     ProcessingComplete  SequenceName  timepoint.1     sampleid   AgeMonths  \n",
       "0                   Yes      Mcdespot          5.0  C0052-5F-1A   94.133333  \n",
       "1                   Yes      Mcdespot          6.0  C0053-6F-1A   72.500000  \n",
       "2                   Yes      Mcdespot          4.0  C0202-4F-1A   53.366667  \n",
       "3                   Yes      Mcdespot          4.0  C0202-4F-2A   53.366667  \n",
       "4                   NaN      Mcdespot          4.0  C0420-4F-1A   26.600000  \n",
       "5                   NaN      Mcdespot          4.0  C0420-4F-2A   26.600000  \n",
       "6                   Yes      Mcdespot          4.0  C0108-4F-1A  137.466667  \n",
       "7                   NaN      Mcdespot          8.0  C0126-8F-1A   75.366667  \n",
       "8                   NaN      Mcdespot          8.0  C0126-8F-1B   75.366667  \n",
       "9                   Yes      Mcdespot          6.0  C0127-6F-1B  112.233333  \n",
       "10                  NaN      Mcdespot          4.0  C0082-4F-1A   99.466667  \n",
       "11                  Yes      Mcdespot          1.0  C0507-1F-1A   83.433333  \n",
       "12                  Yes      Mcdespot          1.0  C0507-1F-2A   83.433333  \n",
       "13                  Yes      Mcdespot          3.0  C0240-3F-1A   73.400000  \n",
       "14                  Yes      Mcdespot          3.0  C0240-3F-2A   73.400000  \n",
       "15                  NaN      Mcdespot          6.0  C0061-6F-1A  130.733333  \n",
       "16                  NaN      Mcdespot          6.0  C0061-6F-2A  130.733333  \n",
       "17                  NaN      Mcdespot          7.0  C0043-7F-1A   86.600000  \n",
       "18                  NaN      Mcdespot          6.0  C0066-6F-1A  124.866667  \n",
       "19                  NaN      Mcdespot          6.0  C0066-6F-1B  124.866667  \n",
       "20                  NaN      Mcdespot          6.0  C0066-6F-2A  124.866667  \n",
       "21                  NaN      Mcdespot          4.0  C0229-4F-1A  110.300000  \n",
       "22                  NaN      Mcdespot          4.0  C0229-4F-2A  110.300000  \n",
       "23                  Yes      Mcdespot          4.0  C0117-4F-1A  105.800000  \n",
       "24                  Yes      Mcdespot          4.0  C0117-4F-1B  105.800000  \n",
       "25                  Yes      Mcdespot          4.0  C0117-4F-2A  105.800000  \n",
       "26                  Yes      Mcdespot          3.0  C0476-3F-1A   24.166667  \n",
       "27                  Yes      Mcdespot          3.0  C0476-3F-2A   24.166667  \n",
       "28                  NaN      Mcdespot          3.0  C0479-3F-1A   24.766667  \n",
       "29                  NaN      Mcdespot          3.0  C0479-3F-2A   24.766667  \n",
       "...                 ...           ...          ...          ...         ...  \n",
       "1192                NaN      Mcdespot          4.0  C1273-4F-1A    0.933333  \n",
       "1193                NaN           NaN          NaN  M1371-1F-1A         NaN  \n",
       "1194                NaN           NaN          NaN  M1316-3F-1A         NaN  \n",
       "1195                NaN           NaN          NaN  M1342-2F-1A         NaN  \n",
       "1196                NaN      Mcdespot          3.0  C0635-3F-1A   67.866667  \n",
       "1197                NaN           NaN          NaN  M1352-2F-1A         NaN  \n",
       "1198                NaN           NaN          NaN  M1324-3F-1A         NaN  \n",
       "1199                NaN           NaN          NaN  M1305-3F-1A         NaN  \n",
       "1200                NaN           NaN          NaN  M1318-3F-1A         NaN  \n",
       "1201                NaN           NaN          NaN  M1322-3F-1A         NaN  \n",
       "1202                NaN      Mcdespot          3.0  C0571-3F-1A   72.900000  \n",
       "1203                NaN           NaN          NaN  M1353-2F-1A         NaN  \n",
       "1204                NaN      Mcdespot          1.0  M1376-1F-1A   73.166667  \n",
       "1205                NaN           NaN          NaN  M1347-2F-1A         NaN  \n",
       "1206                NaN           NaN          NaN  M1345-2F-1A         NaN  \n",
       "1207                NaN      Mcdespot          5.0  C0123-5F-1A  116.033333  \n",
       "1208                NaN      Mcdespot          3.0  C0623-3F-1A   93.233333  \n",
       "1209                NaN           NaN          NaN  M1359-2F-1A         NaN  \n",
       "1210                NaN           NaN          NaN  C1050-9F-1A    7.333333  \n",
       "1211                NaN           NaN          NaN  C1220-4F-1A    3.533333  \n",
       "1212                NaN           NaN          NaN  M1362-2F-1A         NaN  \n",
       "1213                NaN           NaN          NaN  C1215-4F-1A    3.733333  \n",
       "1214                NaN           NaN          NaN  M1336-3F-1A         NaN  \n",
       "1215                NaN      Mcdespot          4.0  C1271-4F-1A    1.466667  \n",
       "1216                NaN      Mcdespot          4.0  C1244-4F-1A    3.933333  \n",
       "1217                NaN      Mcdespot          4.0  C1234-4F-1A    3.233333  \n",
       "1218                NaN           NaN          NaN  M1333-3F-1A         NaN  \n",
       "1219                NaN           NaN          NaN  C1135-5F-1A    6.000000  \n",
       "1220                NaN      Mcdespot          7.0  C0492-7F-1A   18.400000  \n",
       "1221                NaN      Mcdespot          5.0  C0194-5F-1A  117.700000  \n",
       "\n",
       "[1222 rows x 47 columns]"
      ]
     },
     "execution_count": 8,
     "metadata": {},
     "output_type": "execute_result"
    }
   ],
   "source": [
    "mapping_16S"
   ]
  },
  {
   "cell_type": "code",
   "execution_count": 9,
   "metadata": {},
   "outputs": [
    {
     "data": {
      "text/plain": [
       "560"
      ]
     },
     "execution_count": 9,
     "metadata": {},
     "output_type": "execute_result"
    }
   ],
   "source": [
    "mapping_16S[\"AgeMonths\"].isna().sum()"
   ]
  },
  {
   "cell_type": "code",
   "execution_count": 10,
   "metadata": {},
   "outputs": [],
   "source": [
    "samplenames = list(mapping_16S[\"sampleid\"])"
   ]
  },
  {
   "cell_type": "code",
   "execution_count": 11,
   "metadata": {},
   "outputs": [
    {
     "data": {
      "text/plain": [
       "1222"
      ]
     },
     "execution_count": 11,
     "metadata": {},
     "output_type": "execute_result"
    }
   ],
   "source": [
    "len(samplenames)"
   ]
  },
  {
   "cell_type": "code",
   "execution_count": 12,
   "metadata": {
    "scrolled": true
   },
   "outputs": [
    {
     "data": {
      "text/html": [
       "<div>\n",
       "<style scoped>\n",
       "    .dataframe tbody tr th:only-of-type {\n",
       "        vertical-align: middle;\n",
       "    }\n",
       "\n",
       "    .dataframe tbody tr th {\n",
       "        vertical-align: top;\n",
       "    }\n",
       "\n",
       "    .dataframe thead th {\n",
       "        text-align: right;\n",
       "    }\n",
       "</style>\n",
       "<table border=\"1\" class=\"dataframe\">\n",
       "  <thead>\n",
       "    <tr style=\"text-align: right;\">\n",
       "      <th></th>\n",
       "      <th>taxa</th>\n",
       "      <th>C0043-7F-1A</th>\n",
       "      <th>C0052-5F-1A</th>\n",
       "      <th>C0053-6F-1A</th>\n",
       "      <th>C0061-6F-1A</th>\n",
       "      <th>C0061-6F-2A</th>\n",
       "      <th>C0062-6F-1A</th>\n",
       "      <th>C0062-6F-2A</th>\n",
       "      <th>C0066-6F-1A</th>\n",
       "      <th>C0066-6F-1B</th>\n",
       "      <th>...</th>\n",
       "      <th>M1352-2F-1A</th>\n",
       "      <th>M1353-2F-1A</th>\n",
       "      <th>M1354-2F-1A</th>\n",
       "      <th>M1359-2F-1A</th>\n",
       "      <th>M1362-1F-1A</th>\n",
       "      <th>M1362-2F-1A</th>\n",
       "      <th>M1363-1F-1A</th>\n",
       "      <th>M1369-1F-1A</th>\n",
       "      <th>M1371-1F-1A</th>\n",
       "      <th>M1376-1F-1A</th>\n",
       "    </tr>\n",
       "  </thead>\n",
       "  <tbody>\n",
       "    <tr>\n",
       "      <th>0</th>\n",
       "      <td>Bacteroides</td>\n",
       "      <td>0.220534</td>\n",
       "      <td>0.049557</td>\n",
       "      <td>0.249557</td>\n",
       "      <td>0.188099</td>\n",
       "      <td>0.202038</td>\n",
       "      <td>0.243704</td>\n",
       "      <td>0.168791</td>\n",
       "      <td>0.306281</td>\n",
       "      <td>0.278229</td>\n",
       "      <td>...</td>\n",
       "      <td>0.313886</td>\n",
       "      <td>0.489291</td>\n",
       "      <td>0.108143</td>\n",
       "      <td>0.472348</td>\n",
       "      <td>0.587975</td>\n",
       "      <td>0.802606</td>\n",
       "      <td>0.246047</td>\n",
       "      <td>0.800586</td>\n",
       "      <td>0.344581</td>\n",
       "      <td>0.059591</td>\n",
       "    </tr>\n",
       "    <tr>\n",
       "      <th>1</th>\n",
       "      <td>Roseburia</td>\n",
       "      <td>0.178150</td>\n",
       "      <td>0.147682</td>\n",
       "      <td>0.293033</td>\n",
       "      <td>0.002322</td>\n",
       "      <td>0.002565</td>\n",
       "      <td>0.000633</td>\n",
       "      <td>0.003506</td>\n",
       "      <td>0.011749</td>\n",
       "      <td>0.006659</td>\n",
       "      <td>...</td>\n",
       "      <td>0.013120</td>\n",
       "      <td>0.037736</td>\n",
       "      <td>0.003987</td>\n",
       "      <td>0.017202</td>\n",
       "      <td>0.070773</td>\n",
       "      <td>0.008952</td>\n",
       "      <td>0.013549</td>\n",
       "      <td>0.031900</td>\n",
       "      <td>0.122280</td>\n",
       "      <td>0.029523</td>\n",
       "    </tr>\n",
       "    <tr>\n",
       "      <th>2</th>\n",
       "      <td>Faecalibacterium</td>\n",
       "      <td>0.121341</td>\n",
       "      <td>0.075395</td>\n",
       "      <td>0.152343</td>\n",
       "      <td>0.158600</td>\n",
       "      <td>0.153825</td>\n",
       "      <td>0.072689</td>\n",
       "      <td>0.103090</td>\n",
       "      <td>0.131796</td>\n",
       "      <td>0.074755</td>\n",
       "      <td>...</td>\n",
       "      <td>0.029405</td>\n",
       "      <td>0.033942</td>\n",
       "      <td>0.000000</td>\n",
       "      <td>0.040200</td>\n",
       "      <td>0.018693</td>\n",
       "      <td>0.013066</td>\n",
       "      <td>0.045493</td>\n",
       "      <td>0.005203</td>\n",
       "      <td>0.047817</td>\n",
       "      <td>0.036044</td>\n",
       "    </tr>\n",
       "    <tr>\n",
       "      <th>3</th>\n",
       "      <td>Ruminococcus</td>\n",
       "      <td>0.111843</td>\n",
       "      <td>0.068592</td>\n",
       "      <td>0.004751</td>\n",
       "      <td>0.002863</td>\n",
       "      <td>0.003611</td>\n",
       "      <td>0.075904</td>\n",
       "      <td>0.109735</td>\n",
       "      <td>0.119510</td>\n",
       "      <td>0.044296</td>\n",
       "      <td>...</td>\n",
       "      <td>0.117077</td>\n",
       "      <td>0.007890</td>\n",
       "      <td>0.000000</td>\n",
       "      <td>0.036236</td>\n",
       "      <td>0.003532</td>\n",
       "      <td>0.000663</td>\n",
       "      <td>0.043016</td>\n",
       "      <td>0.000000</td>\n",
       "      <td>0.042159</td>\n",
       "      <td>0.020180</td>\n",
       "    </tr>\n",
       "    <tr>\n",
       "      <th>4</th>\n",
       "      <td>Bifidobacterium</td>\n",
       "      <td>0.108422</td>\n",
       "      <td>0.014670</td>\n",
       "      <td>0.018842</td>\n",
       "      <td>0.010010</td>\n",
       "      <td>0.008334</td>\n",
       "      <td>0.018943</td>\n",
       "      <td>0.020716</td>\n",
       "      <td>0.107187</td>\n",
       "      <td>0.243990</td>\n",
       "      <td>...</td>\n",
       "      <td>0.033602</td>\n",
       "      <td>0.153803</td>\n",
       "      <td>0.001165</td>\n",
       "      <td>0.000000</td>\n",
       "      <td>0.000000</td>\n",
       "      <td>0.001779</td>\n",
       "      <td>0.060396</td>\n",
       "      <td>0.007716</td>\n",
       "      <td>0.051781</td>\n",
       "      <td>0.041439</td>\n",
       "    </tr>\n",
       "  </tbody>\n",
       "</table>\n",
       "<p>5 rows × 1224 columns</p>\n",
       "</div>"
      ],
      "text/plain": [
       "               taxa  C0043-7F-1A  C0052-5F-1A  C0053-6F-1A  C0061-6F-1A  \\\n",
       "0       Bacteroides     0.220534     0.049557     0.249557     0.188099   \n",
       "1         Roseburia     0.178150     0.147682     0.293033     0.002322   \n",
       "2  Faecalibacterium     0.121341     0.075395     0.152343     0.158600   \n",
       "3      Ruminococcus     0.111843     0.068592     0.004751     0.002863   \n",
       "4   Bifidobacterium     0.108422     0.014670     0.018842     0.010010   \n",
       "\n",
       "   C0061-6F-2A  C0062-6F-1A  C0062-6F-2A  C0066-6F-1A  C0066-6F-1B  ...  \\\n",
       "0     0.202038     0.243704     0.168791     0.306281     0.278229  ...   \n",
       "1     0.002565     0.000633     0.003506     0.011749     0.006659  ...   \n",
       "2     0.153825     0.072689     0.103090     0.131796     0.074755  ...   \n",
       "3     0.003611     0.075904     0.109735     0.119510     0.044296  ...   \n",
       "4     0.008334     0.018943     0.020716     0.107187     0.243990  ...   \n",
       "\n",
       "   M1352-2F-1A  M1353-2F-1A  M1354-2F-1A  M1359-2F-1A  M1362-1F-1A  \\\n",
       "0     0.313886     0.489291     0.108143     0.472348     0.587975   \n",
       "1     0.013120     0.037736     0.003987     0.017202     0.070773   \n",
       "2     0.029405     0.033942     0.000000     0.040200     0.018693   \n",
       "3     0.117077     0.007890     0.000000     0.036236     0.003532   \n",
       "4     0.033602     0.153803     0.001165     0.000000     0.000000   \n",
       "\n",
       "   M1362-2F-1A  M1363-1F-1A  M1369-1F-1A  M1371-1F-1A  M1376-1F-1A  \n",
       "0     0.802606     0.246047     0.800586     0.344581     0.059591  \n",
       "1     0.008952     0.013549     0.031900     0.122280     0.029523  \n",
       "2     0.013066     0.045493     0.005203     0.047817     0.036044  \n",
       "3     0.000663     0.043016     0.000000     0.042159     0.020180  \n",
       "4     0.001779     0.060396     0.007716     0.051781     0.041439  \n",
       "\n",
       "[5 rows x 1224 columns]"
      ]
     },
     "execution_count": 12,
     "metadata": {},
     "output_type": "execute_result"
    }
   ],
   "source": [
    "# read in mgx data\n",
    "mgx = pd.read_csv(\"resonance_mgx_genus.csv\")\n",
    "mgx.rename(columns={'taxname':'taxa'}, inplace=True)\n",
    "mgx.head()"
   ]
  },
  {
   "cell_type": "code",
   "execution_count": 13,
   "metadata": {},
   "outputs": [],
   "source": [
    "# remove taxa that are unclassified or have no name\n",
    "# \"_unclassified\"\n",
    "# \"_noname\"\n",
    "mgx = mgx[~mgx.taxa.str.contains(\"_unclassified\")]\n",
    "mgx = mgx[~mgx.taxa.str.contains(\"_noname\")]"
   ]
  },
  {
   "cell_type": "code",
   "execution_count": 14,
   "metadata": {},
   "outputs": [
    {
     "name": "stdout",
     "output_type": "stream",
     "text": [
      "0.9999999989370402\n",
      "1.687263789771248e-07\n"
     ]
    }
   ],
   "source": [
    "# avg relative abundance of mgx samples\n",
    "\n",
    "print(mgx.loc[:, mgx.columns != 'taxa'].sum().mean())\n",
    "print(mgx.loc[:, mgx.columns != 'taxa'].sum().std())"
   ]
  },
  {
   "cell_type": "code",
   "execution_count": 15,
   "metadata": {},
   "outputs": [
    {
     "data": {
      "text/html": [
       "<div>\n",
       "<style scoped>\n",
       "    .dataframe tbody tr th:only-of-type {\n",
       "        vertical-align: middle;\n",
       "    }\n",
       "\n",
       "    .dataframe tbody tr th {\n",
       "        vertical-align: top;\n",
       "    }\n",
       "\n",
       "    .dataframe thead th {\n",
       "        text-align: right;\n",
       "    }\n",
       "</style>\n",
       "<table border=\"1\" class=\"dataframe\">\n",
       "  <thead>\n",
       "    <tr style=\"text-align: right;\">\n",
       "      <th></th>\n",
       "      <th>taxa</th>\n",
       "      <th>C0043-7F-1A</th>\n",
       "      <th>C0052-5F-1A</th>\n",
       "      <th>C0053-6F-1A</th>\n",
       "      <th>C0061-6F-1A</th>\n",
       "      <th>C0061-6F-2A</th>\n",
       "      <th>C0062-6F-1A</th>\n",
       "      <th>C0062-6F-2A</th>\n",
       "      <th>C0066-6F-1A</th>\n",
       "      <th>C0066-6F-1B</th>\n",
       "      <th>...</th>\n",
       "      <th>M1352-2F-1A</th>\n",
       "      <th>M1353-2F-1A</th>\n",
       "      <th>M1354-2F-1A</th>\n",
       "      <th>M1359-2F-1A</th>\n",
       "      <th>M1362-1F-1A</th>\n",
       "      <th>M1362-2F-1A</th>\n",
       "      <th>M1363-1F-1A</th>\n",
       "      <th>M1369-1F-1A</th>\n",
       "      <th>M1371-1F-1A</th>\n",
       "      <th>M1376-1F-1A</th>\n",
       "    </tr>\n",
       "  </thead>\n",
       "  <tbody>\n",
       "    <tr>\n",
       "      <th>64</th>\n",
       "      <td>Faecalicoccus</td>\n",
       "      <td>0.000000</td>\n",
       "      <td>0.000000</td>\n",
       "      <td>0.000000</td>\n",
       "      <td>0.000000</td>\n",
       "      <td>0.000000</td>\n",
       "      <td>0.000000</td>\n",
       "      <td>0.000000</td>\n",
       "      <td>0.000000</td>\n",
       "      <td>0.000000</td>\n",
       "      <td>...</td>\n",
       "      <td>0.000000</td>\n",
       "      <td>0.000000</td>\n",
       "      <td>0.000000</td>\n",
       "      <td>0.000000</td>\n",
       "      <td>0.000000</td>\n",
       "      <td>0.000000</td>\n",
       "      <td>0.000000</td>\n",
       "      <td>0.000000</td>\n",
       "      <td>0.000000</td>\n",
       "      <td>0.000000</td>\n",
       "    </tr>\n",
       "    <tr>\n",
       "      <th>108</th>\n",
       "      <td>Raoultella</td>\n",
       "      <td>0.000000</td>\n",
       "      <td>0.000000</td>\n",
       "      <td>0.000000</td>\n",
       "      <td>0.000000</td>\n",
       "      <td>0.000000</td>\n",
       "      <td>0.000000</td>\n",
       "      <td>0.000000</td>\n",
       "      <td>0.000000</td>\n",
       "      <td>0.000000</td>\n",
       "      <td>...</td>\n",
       "      <td>0.000000</td>\n",
       "      <td>0.000000</td>\n",
       "      <td>0.000000</td>\n",
       "      <td>0.000000</td>\n",
       "      <td>0.000000</td>\n",
       "      <td>0.000000</td>\n",
       "      <td>0.000000</td>\n",
       "      <td>0.000000</td>\n",
       "      <td>0.000000</td>\n",
       "      <td>0.000000</td>\n",
       "    </tr>\n",
       "    <tr>\n",
       "      <th>154</th>\n",
       "      <td>Robinsoniella</td>\n",
       "      <td>0.000000</td>\n",
       "      <td>0.000000</td>\n",
       "      <td>0.000000</td>\n",
       "      <td>0.000000</td>\n",
       "      <td>0.000000</td>\n",
       "      <td>0.000000</td>\n",
       "      <td>0.000000</td>\n",
       "      <td>0.000000</td>\n",
       "      <td>0.000000</td>\n",
       "      <td>...</td>\n",
       "      <td>0.000000</td>\n",
       "      <td>0.000000</td>\n",
       "      <td>0.000000</td>\n",
       "      <td>0.000000</td>\n",
       "      <td>0.000000</td>\n",
       "      <td>0.000000</td>\n",
       "      <td>0.000000</td>\n",
       "      <td>0.000000</td>\n",
       "      <td>0.000000</td>\n",
       "      <td>0.000000</td>\n",
       "    </tr>\n",
       "    <tr>\n",
       "      <th>149</th>\n",
       "      <td>Atlantibacter</td>\n",
       "      <td>0.000000</td>\n",
       "      <td>0.000000</td>\n",
       "      <td>0.000000</td>\n",
       "      <td>0.000000</td>\n",
       "      <td>0.000000</td>\n",
       "      <td>0.000000</td>\n",
       "      <td>0.000000</td>\n",
       "      <td>0.000000</td>\n",
       "      <td>0.000000</td>\n",
       "      <td>...</td>\n",
       "      <td>0.000000</td>\n",
       "      <td>0.000000</td>\n",
       "      <td>0.000000</td>\n",
       "      <td>0.000000</td>\n",
       "      <td>0.000000</td>\n",
       "      <td>0.000000</td>\n",
       "      <td>0.000000</td>\n",
       "      <td>0.000000</td>\n",
       "      <td>0.000000</td>\n",
       "      <td>0.000000</td>\n",
       "    </tr>\n",
       "    <tr>\n",
       "      <th>100</th>\n",
       "      <td>Pediococcus</td>\n",
       "      <td>0.000000</td>\n",
       "      <td>0.000000</td>\n",
       "      <td>0.000000</td>\n",
       "      <td>0.000000</td>\n",
       "      <td>0.000000</td>\n",
       "      <td>0.000000</td>\n",
       "      <td>0.000000</td>\n",
       "      <td>0.000000</td>\n",
       "      <td>0.000000</td>\n",
       "      <td>...</td>\n",
       "      <td>0.000000</td>\n",
       "      <td>0.000000</td>\n",
       "      <td>0.000000</td>\n",
       "      <td>0.000000</td>\n",
       "      <td>0.000000</td>\n",
       "      <td>0.000000</td>\n",
       "      <td>0.000000</td>\n",
       "      <td>0.000000</td>\n",
       "      <td>0.000000</td>\n",
       "      <td>0.000000</td>\n",
       "    </tr>\n",
       "    <tr>\n",
       "      <th>31</th>\n",
       "      <td>Collinsella</td>\n",
       "      <td>0.000000</td>\n",
       "      <td>0.019879</td>\n",
       "      <td>0.014545</td>\n",
       "      <td>0.039429</td>\n",
       "      <td>0.032474</td>\n",
       "      <td>0.030678</td>\n",
       "      <td>0.034411</td>\n",
       "      <td>0.021489</td>\n",
       "      <td>0.039096</td>\n",
       "      <td>...</td>\n",
       "      <td>0.056009</td>\n",
       "      <td>0.033430</td>\n",
       "      <td>0.000049</td>\n",
       "      <td>0.009854</td>\n",
       "      <td>0.000000</td>\n",
       "      <td>0.000000</td>\n",
       "      <td>0.021037</td>\n",
       "      <td>0.001771</td>\n",
       "      <td>0.028691</td>\n",
       "      <td>0.005484</td>\n",
       "    </tr>\n",
       "    <tr>\n",
       "      <th>163</th>\n",
       "      <td>Metakosakonia</td>\n",
       "      <td>0.000000</td>\n",
       "      <td>0.000000</td>\n",
       "      <td>0.000000</td>\n",
       "      <td>0.000000</td>\n",
       "      <td>0.000000</td>\n",
       "      <td>0.000000</td>\n",
       "      <td>0.000000</td>\n",
       "      <td>0.000000</td>\n",
       "      <td>0.000000</td>\n",
       "      <td>...</td>\n",
       "      <td>0.000000</td>\n",
       "      <td>0.000000</td>\n",
       "      <td>0.000000</td>\n",
       "      <td>0.000000</td>\n",
       "      <td>0.000000</td>\n",
       "      <td>0.000000</td>\n",
       "      <td>0.000000</td>\n",
       "      <td>0.000000</td>\n",
       "      <td>0.000000</td>\n",
       "      <td>0.000000</td>\n",
       "    </tr>\n",
       "    <tr>\n",
       "      <th>130</th>\n",
       "      <td>Rothia</td>\n",
       "      <td>0.000000</td>\n",
       "      <td>0.000000</td>\n",
       "      <td>0.000000</td>\n",
       "      <td>0.000000</td>\n",
       "      <td>0.000000</td>\n",
       "      <td>0.000000</td>\n",
       "      <td>0.000000</td>\n",
       "      <td>0.000000</td>\n",
       "      <td>0.000000</td>\n",
       "      <td>...</td>\n",
       "      <td>0.000000</td>\n",
       "      <td>0.000000</td>\n",
       "      <td>0.000000</td>\n",
       "      <td>0.000000</td>\n",
       "      <td>0.000000</td>\n",
       "      <td>0.000000</td>\n",
       "      <td>0.000000</td>\n",
       "      <td>0.000000</td>\n",
       "      <td>0.000000</td>\n",
       "      <td>0.000000</td>\n",
       "    </tr>\n",
       "    <tr>\n",
       "      <th>61</th>\n",
       "      <td>Slackia</td>\n",
       "      <td>0.000000</td>\n",
       "      <td>0.000000</td>\n",
       "      <td>0.000000</td>\n",
       "      <td>0.000000</td>\n",
       "      <td>0.000000</td>\n",
       "      <td>0.000000</td>\n",
       "      <td>0.000000</td>\n",
       "      <td>0.000000</td>\n",
       "      <td>0.000000</td>\n",
       "      <td>...</td>\n",
       "      <td>0.000000</td>\n",
       "      <td>0.000000</td>\n",
       "      <td>0.000000</td>\n",
       "      <td>0.000000</td>\n",
       "      <td>0.000000</td>\n",
       "      <td>0.000000</td>\n",
       "      <td>0.000000</td>\n",
       "      <td>0.000000</td>\n",
       "      <td>0.000929</td>\n",
       "      <td>0.000414</td>\n",
       "    </tr>\n",
       "    <tr>\n",
       "      <th>176</th>\n",
       "      <td>Gordonia</td>\n",
       "      <td>0.000000</td>\n",
       "      <td>0.000000</td>\n",
       "      <td>0.000000</td>\n",
       "      <td>0.000000</td>\n",
       "      <td>0.000000</td>\n",
       "      <td>0.000000</td>\n",
       "      <td>0.000000</td>\n",
       "      <td>0.000000</td>\n",
       "      <td>0.000000</td>\n",
       "      <td>...</td>\n",
       "      <td>0.000000</td>\n",
       "      <td>0.000000</td>\n",
       "      <td>0.000000</td>\n",
       "      <td>0.000000</td>\n",
       "      <td>0.000000</td>\n",
       "      <td>0.000000</td>\n",
       "      <td>0.000000</td>\n",
       "      <td>0.000000</td>\n",
       "      <td>0.000000</td>\n",
       "      <td>0.000000</td>\n",
       "    </tr>\n",
       "    <tr>\n",
       "      <th>28</th>\n",
       "      <td>Turicibacter</td>\n",
       "      <td>0.000024</td>\n",
       "      <td>0.000564</td>\n",
       "      <td>0.000000</td>\n",
       "      <td>0.000000</td>\n",
       "      <td>0.000000</td>\n",
       "      <td>0.000172</td>\n",
       "      <td>0.000317</td>\n",
       "      <td>0.000297</td>\n",
       "      <td>0.000000</td>\n",
       "      <td>...</td>\n",
       "      <td>0.000029</td>\n",
       "      <td>0.000000</td>\n",
       "      <td>0.000000</td>\n",
       "      <td>0.000000</td>\n",
       "      <td>0.000000</td>\n",
       "      <td>0.000000</td>\n",
       "      <td>0.000000</td>\n",
       "      <td>0.000000</td>\n",
       "      <td>0.000986</td>\n",
       "      <td>0.000178</td>\n",
       "    </tr>\n",
       "    <tr>\n",
       "      <th>55</th>\n",
       "      <td>Intestinimonas</td>\n",
       "      <td>0.000000</td>\n",
       "      <td>0.000000</td>\n",
       "      <td>0.000000</td>\n",
       "      <td>0.000000</td>\n",
       "      <td>0.000000</td>\n",
       "      <td>0.000000</td>\n",
       "      <td>0.000000</td>\n",
       "      <td>0.000322</td>\n",
       "      <td>0.000373</td>\n",
       "      <td>...</td>\n",
       "      <td>0.000289</td>\n",
       "      <td>0.000084</td>\n",
       "      <td>0.000000</td>\n",
       "      <td>0.000000</td>\n",
       "      <td>0.003071</td>\n",
       "      <td>0.011813</td>\n",
       "      <td>0.007565</td>\n",
       "      <td>0.000000</td>\n",
       "      <td>0.000000</td>\n",
       "      <td>0.000000</td>\n",
       "    </tr>\n",
       "    <tr>\n",
       "      <th>153</th>\n",
       "      <td>Lactonifactor</td>\n",
       "      <td>0.000000</td>\n",
       "      <td>0.000000</td>\n",
       "      <td>0.000000</td>\n",
       "      <td>0.000000</td>\n",
       "      <td>0.000000</td>\n",
       "      <td>0.000000</td>\n",
       "      <td>0.000000</td>\n",
       "      <td>0.000000</td>\n",
       "      <td>0.000000</td>\n",
       "      <td>...</td>\n",
       "      <td>0.000000</td>\n",
       "      <td>0.000000</td>\n",
       "      <td>0.000000</td>\n",
       "      <td>0.000000</td>\n",
       "      <td>0.000000</td>\n",
       "      <td>0.000000</td>\n",
       "      <td>0.000000</td>\n",
       "      <td>0.000000</td>\n",
       "      <td>0.000000</td>\n",
       "      <td>0.000000</td>\n",
       "    </tr>\n",
       "    <tr>\n",
       "      <th>107</th>\n",
       "      <td>Scardovia</td>\n",
       "      <td>0.000000</td>\n",
       "      <td>0.000000</td>\n",
       "      <td>0.000000</td>\n",
       "      <td>0.000000</td>\n",
       "      <td>0.000000</td>\n",
       "      <td>0.000000</td>\n",
       "      <td>0.000000</td>\n",
       "      <td>0.000000</td>\n",
       "      <td>0.000000</td>\n",
       "      <td>...</td>\n",
       "      <td>0.000000</td>\n",
       "      <td>0.000000</td>\n",
       "      <td>0.000000</td>\n",
       "      <td>0.000000</td>\n",
       "      <td>0.000000</td>\n",
       "      <td>0.000000</td>\n",
       "      <td>0.000000</td>\n",
       "      <td>0.000000</td>\n",
       "      <td>0.000000</td>\n",
       "      <td>0.000000</td>\n",
       "    </tr>\n",
       "    <tr>\n",
       "      <th>138</th>\n",
       "      <td>Cutibacterium</td>\n",
       "      <td>0.000000</td>\n",
       "      <td>0.000000</td>\n",
       "      <td>0.000000</td>\n",
       "      <td>0.000000</td>\n",
       "      <td>0.000000</td>\n",
       "      <td>0.000000</td>\n",
       "      <td>0.000000</td>\n",
       "      <td>0.000000</td>\n",
       "      <td>0.000000</td>\n",
       "      <td>...</td>\n",
       "      <td>0.000000</td>\n",
       "      <td>0.000000</td>\n",
       "      <td>0.000000</td>\n",
       "      <td>0.000000</td>\n",
       "      <td>0.000000</td>\n",
       "      <td>0.000000</td>\n",
       "      <td>0.000000</td>\n",
       "      <td>0.000000</td>\n",
       "      <td>0.000000</td>\n",
       "      <td>0.000000</td>\n",
       "    </tr>\n",
       "  </tbody>\n",
       "</table>\n",
       "<p>15 rows × 1224 columns</p>\n",
       "</div>"
      ],
      "text/plain": [
       "               taxa  C0043-7F-1A  C0052-5F-1A  C0053-6F-1A  C0061-6F-1A  \\\n",
       "64    Faecalicoccus     0.000000     0.000000     0.000000     0.000000   \n",
       "108      Raoultella     0.000000     0.000000     0.000000     0.000000   \n",
       "154   Robinsoniella     0.000000     0.000000     0.000000     0.000000   \n",
       "149   Atlantibacter     0.000000     0.000000     0.000000     0.000000   \n",
       "100     Pediococcus     0.000000     0.000000     0.000000     0.000000   \n",
       "31      Collinsella     0.000000     0.019879     0.014545     0.039429   \n",
       "163   Metakosakonia     0.000000     0.000000     0.000000     0.000000   \n",
       "130          Rothia     0.000000     0.000000     0.000000     0.000000   \n",
       "61          Slackia     0.000000     0.000000     0.000000     0.000000   \n",
       "176        Gordonia     0.000000     0.000000     0.000000     0.000000   \n",
       "28     Turicibacter     0.000024     0.000564     0.000000     0.000000   \n",
       "55   Intestinimonas     0.000000     0.000000     0.000000     0.000000   \n",
       "153   Lactonifactor     0.000000     0.000000     0.000000     0.000000   \n",
       "107       Scardovia     0.000000     0.000000     0.000000     0.000000   \n",
       "138   Cutibacterium     0.000000     0.000000     0.000000     0.000000   \n",
       "\n",
       "     C0061-6F-2A  C0062-6F-1A  C0062-6F-2A  C0066-6F-1A  C0066-6F-1B  ...  \\\n",
       "64      0.000000     0.000000     0.000000     0.000000     0.000000  ...   \n",
       "108     0.000000     0.000000     0.000000     0.000000     0.000000  ...   \n",
       "154     0.000000     0.000000     0.000000     0.000000     0.000000  ...   \n",
       "149     0.000000     0.000000     0.000000     0.000000     0.000000  ...   \n",
       "100     0.000000     0.000000     0.000000     0.000000     0.000000  ...   \n",
       "31      0.032474     0.030678     0.034411     0.021489     0.039096  ...   \n",
       "163     0.000000     0.000000     0.000000     0.000000     0.000000  ...   \n",
       "130     0.000000     0.000000     0.000000     0.000000     0.000000  ...   \n",
       "61      0.000000     0.000000     0.000000     0.000000     0.000000  ...   \n",
       "176     0.000000     0.000000     0.000000     0.000000     0.000000  ...   \n",
       "28      0.000000     0.000172     0.000317     0.000297     0.000000  ...   \n",
       "55      0.000000     0.000000     0.000000     0.000322     0.000373  ...   \n",
       "153     0.000000     0.000000     0.000000     0.000000     0.000000  ...   \n",
       "107     0.000000     0.000000     0.000000     0.000000     0.000000  ...   \n",
       "138     0.000000     0.000000     0.000000     0.000000     0.000000  ...   \n",
       "\n",
       "     M1352-2F-1A  M1353-2F-1A  M1354-2F-1A  M1359-2F-1A  M1362-1F-1A  \\\n",
       "64      0.000000     0.000000     0.000000     0.000000     0.000000   \n",
       "108     0.000000     0.000000     0.000000     0.000000     0.000000   \n",
       "154     0.000000     0.000000     0.000000     0.000000     0.000000   \n",
       "149     0.000000     0.000000     0.000000     0.000000     0.000000   \n",
       "100     0.000000     0.000000     0.000000     0.000000     0.000000   \n",
       "31      0.056009     0.033430     0.000049     0.009854     0.000000   \n",
       "163     0.000000     0.000000     0.000000     0.000000     0.000000   \n",
       "130     0.000000     0.000000     0.000000     0.000000     0.000000   \n",
       "61      0.000000     0.000000     0.000000     0.000000     0.000000   \n",
       "176     0.000000     0.000000     0.000000     0.000000     0.000000   \n",
       "28      0.000029     0.000000     0.000000     0.000000     0.000000   \n",
       "55      0.000289     0.000084     0.000000     0.000000     0.003071   \n",
       "153     0.000000     0.000000     0.000000     0.000000     0.000000   \n",
       "107     0.000000     0.000000     0.000000     0.000000     0.000000   \n",
       "138     0.000000     0.000000     0.000000     0.000000     0.000000   \n",
       "\n",
       "     M1362-2F-1A  M1363-1F-1A  M1369-1F-1A  M1371-1F-1A  M1376-1F-1A  \n",
       "64      0.000000     0.000000     0.000000     0.000000     0.000000  \n",
       "108     0.000000     0.000000     0.000000     0.000000     0.000000  \n",
       "154     0.000000     0.000000     0.000000     0.000000     0.000000  \n",
       "149     0.000000     0.000000     0.000000     0.000000     0.000000  \n",
       "100     0.000000     0.000000     0.000000     0.000000     0.000000  \n",
       "31      0.000000     0.021037     0.001771     0.028691     0.005484  \n",
       "163     0.000000     0.000000     0.000000     0.000000     0.000000  \n",
       "130     0.000000     0.000000     0.000000     0.000000     0.000000  \n",
       "61      0.000000     0.000000     0.000000     0.000929     0.000414  \n",
       "176     0.000000     0.000000     0.000000     0.000000     0.000000  \n",
       "28      0.000000     0.000000     0.000000     0.000986     0.000178  \n",
       "55      0.011813     0.007565     0.000000     0.000000     0.000000  \n",
       "153     0.000000     0.000000     0.000000     0.000000     0.000000  \n",
       "107     0.000000     0.000000     0.000000     0.000000     0.000000  \n",
       "138     0.000000     0.000000     0.000000     0.000000     0.000000  \n",
       "\n",
       "[15 rows x 1224 columns]"
      ]
     },
     "execution_count": 15,
     "metadata": {},
     "output_type": "execute_result"
    }
   ],
   "source": [
    "mgx.sample(15)"
   ]
  },
  {
   "cell_type": "code",
   "execution_count": 16,
   "metadata": {},
   "outputs": [],
   "source": [
    "mgx.to_csv('mgx_abundance.csv', index=False)"
   ]
  },
  {
   "cell_type": "code",
   "execution_count": 17,
   "metadata": {},
   "outputs": [],
   "source": [
    "# read in 16S data\n",
    "amplicon = pd.read_csv(\"resonance_dada2_genera.csv\")\n",
    "amplicon.rename(columns={'genus':'taxa'}, inplace=True)"
   ]
  },
  {
   "cell_type": "code",
   "execution_count": 18,
   "metadata": {},
   "outputs": [],
   "source": [
    "# clean taxonomic names\n",
    "# keep only genera\n",
    "# amplicon[\"taxa\"] = amplicon['taxa'].str.split(\"D_5__\", expand=True)[1]\n",
    "# amplicon.dropna(inplace=True)"
   ]
  },
  {
   "cell_type": "code",
   "execution_count": 19,
   "metadata": {},
   "outputs": [
    {
     "data": {
      "text/html": [
       "<div>\n",
       "<style scoped>\n",
       "    .dataframe tbody tr th:only-of-type {\n",
       "        vertical-align: middle;\n",
       "    }\n",
       "\n",
       "    .dataframe tbody tr th {\n",
       "        vertical-align: top;\n",
       "    }\n",
       "\n",
       "    .dataframe thead th {\n",
       "        text-align: right;\n",
       "    }\n",
       "</style>\n",
       "<table border=\"1\" class=\"dataframe\">\n",
       "  <thead>\n",
       "    <tr style=\"text-align: right;\">\n",
       "      <th></th>\n",
       "      <th>taxa</th>\n",
       "      <th>C0005-3F-1A</th>\n",
       "      <th>C0016-3F-1A</th>\n",
       "      <th>C0016-4F-1A</th>\n",
       "      <th>C0017-2F-1A</th>\n",
       "      <th>C0017-3F-1A</th>\n",
       "      <th>C0029-6F-1A</th>\n",
       "      <th>C0032-9F-1A</th>\n",
       "      <th>C0043-7F-1A</th>\n",
       "      <th>C0043-8F-1A</th>\n",
       "      <th>...</th>\n",
       "      <th>M1401-2F-1A</th>\n",
       "      <th>M1409-1F-1A</th>\n",
       "      <th>M1411-1F-1A</th>\n",
       "      <th>M1413-1F-1A</th>\n",
       "      <th>M1413-2F-1A</th>\n",
       "      <th>M1414-1F-1A</th>\n",
       "      <th>M1415-1F-1A</th>\n",
       "      <th>M1419-2F-1A</th>\n",
       "      <th>M1420-2F-1A</th>\n",
       "      <th>M1429-1F-1A</th>\n",
       "    </tr>\n",
       "  </thead>\n",
       "  <tbody>\n",
       "    <tr>\n",
       "      <th>0</th>\n",
       "      <td>Bacteroides</td>\n",
       "      <td>0.348707</td>\n",
       "      <td>0.107979</td>\n",
       "      <td>0.096940</td>\n",
       "      <td>0.150972</td>\n",
       "      <td>0.126965</td>\n",
       "      <td>0.351047</td>\n",
       "      <td>0.081313</td>\n",
       "      <td>0.207188</td>\n",
       "      <td>0.408414</td>\n",
       "      <td>...</td>\n",
       "      <td>0.329573</td>\n",
       "      <td>0.337646</td>\n",
       "      <td>0.144138</td>\n",
       "      <td>0.107218</td>\n",
       "      <td>0.063164</td>\n",
       "      <td>0.170763</td>\n",
       "      <td>0.294110</td>\n",
       "      <td>0.270815</td>\n",
       "      <td>0.120084</td>\n",
       "      <td>0.547073</td>\n",
       "    </tr>\n",
       "    <tr>\n",
       "      <th>1</th>\n",
       "      <td>Prevotella</td>\n",
       "      <td>0.000675</td>\n",
       "      <td>0.019874</td>\n",
       "      <td>0.074734</td>\n",
       "      <td>0.009892</td>\n",
       "      <td>0.025775</td>\n",
       "      <td>0.000393</td>\n",
       "      <td>0.000000</td>\n",
       "      <td>0.000181</td>\n",
       "      <td>0.000000</td>\n",
       "      <td>...</td>\n",
       "      <td>0.002065</td>\n",
       "      <td>0.000754</td>\n",
       "      <td>0.329347</td>\n",
       "      <td>0.034664</td>\n",
       "      <td>0.015111</td>\n",
       "      <td>0.060379</td>\n",
       "      <td>0.011199</td>\n",
       "      <td>0.002772</td>\n",
       "      <td>0.079818</td>\n",
       "      <td>0.002487</td>\n",
       "    </tr>\n",
       "    <tr>\n",
       "      <th>2</th>\n",
       "      <td>Faecalibacterium</td>\n",
       "      <td>0.035163</td>\n",
       "      <td>0.081749</td>\n",
       "      <td>0.090222</td>\n",
       "      <td>0.100365</td>\n",
       "      <td>0.065664</td>\n",
       "      <td>0.089725</td>\n",
       "      <td>0.052333</td>\n",
       "      <td>0.168897</td>\n",
       "      <td>0.138899</td>\n",
       "      <td>...</td>\n",
       "      <td>0.000277</td>\n",
       "      <td>0.013056</td>\n",
       "      <td>0.011697</td>\n",
       "      <td>0.058145</td>\n",
       "      <td>0.067594</td>\n",
       "      <td>0.123218</td>\n",
       "      <td>0.051604</td>\n",
       "      <td>0.092725</td>\n",
       "      <td>0.113730</td>\n",
       "      <td>0.018068</td>\n",
       "    </tr>\n",
       "    <tr>\n",
       "      <th>3</th>\n",
       "      <td>UNCLASSIFIED</td>\n",
       "      <td>0.110069</td>\n",
       "      <td>0.418511</td>\n",
       "      <td>0.419761</td>\n",
       "      <td>0.456143</td>\n",
       "      <td>0.486567</td>\n",
       "      <td>0.095942</td>\n",
       "      <td>0.249365</td>\n",
       "      <td>0.155470</td>\n",
       "      <td>0.057696</td>\n",
       "      <td>...</td>\n",
       "      <td>0.087789</td>\n",
       "      <td>0.103812</td>\n",
       "      <td>0.058379</td>\n",
       "      <td>0.231978</td>\n",
       "      <td>0.276262</td>\n",
       "      <td>0.225160</td>\n",
       "      <td>0.096305</td>\n",
       "      <td>0.153809</td>\n",
       "      <td>0.102091</td>\n",
       "      <td>0.064397</td>\n",
       "    </tr>\n",
       "    <tr>\n",
       "      <th>4</th>\n",
       "      <td>Parabacteroides</td>\n",
       "      <td>0.008969</td>\n",
       "      <td>0.013403</td>\n",
       "      <td>0.015861</td>\n",
       "      <td>0.018511</td>\n",
       "      <td>0.019229</td>\n",
       "      <td>0.000000</td>\n",
       "      <td>0.015187</td>\n",
       "      <td>0.009675</td>\n",
       "      <td>0.025535</td>\n",
       "      <td>...</td>\n",
       "      <td>0.074819</td>\n",
       "      <td>0.020715</td>\n",
       "      <td>0.028534</td>\n",
       "      <td>0.031351</td>\n",
       "      <td>0.038717</td>\n",
       "      <td>0.025806</td>\n",
       "      <td>0.043425</td>\n",
       "      <td>0.027913</td>\n",
       "      <td>0.019582</td>\n",
       "      <td>0.077199</td>\n",
       "    </tr>\n",
       "  </tbody>\n",
       "</table>\n",
       "<p>5 rows × 837 columns</p>\n",
       "</div>"
      ],
      "text/plain": [
       "               taxa  C0005-3F-1A  C0016-3F-1A  C0016-4F-1A  C0017-2F-1A  \\\n",
       "0       Bacteroides     0.348707     0.107979     0.096940     0.150972   \n",
       "1        Prevotella     0.000675     0.019874     0.074734     0.009892   \n",
       "2  Faecalibacterium     0.035163     0.081749     0.090222     0.100365   \n",
       "3      UNCLASSIFIED     0.110069     0.418511     0.419761     0.456143   \n",
       "4   Parabacteroides     0.008969     0.013403     0.015861     0.018511   \n",
       "\n",
       "   C0017-3F-1A  C0029-6F-1A  C0032-9F-1A  C0043-7F-1A  C0043-8F-1A  ...  \\\n",
       "0     0.126965     0.351047     0.081313     0.207188     0.408414  ...   \n",
       "1     0.025775     0.000393     0.000000     0.000181     0.000000  ...   \n",
       "2     0.065664     0.089725     0.052333     0.168897     0.138899  ...   \n",
       "3     0.486567     0.095942     0.249365     0.155470     0.057696  ...   \n",
       "4     0.019229     0.000000     0.015187     0.009675     0.025535  ...   \n",
       "\n",
       "   M1401-2F-1A  M1409-1F-1A  M1411-1F-1A  M1413-1F-1A  M1413-2F-1A  \\\n",
       "0     0.329573     0.337646     0.144138     0.107218     0.063164   \n",
       "1     0.002065     0.000754     0.329347     0.034664     0.015111   \n",
       "2     0.000277     0.013056     0.011697     0.058145     0.067594   \n",
       "3     0.087789     0.103812     0.058379     0.231978     0.276262   \n",
       "4     0.074819     0.020715     0.028534     0.031351     0.038717   \n",
       "\n",
       "   M1414-1F-1A  M1415-1F-1A  M1419-2F-1A  M1420-2F-1A  M1429-1F-1A  \n",
       "0     0.170763     0.294110     0.270815     0.120084     0.547073  \n",
       "1     0.060379     0.011199     0.002772     0.079818     0.002487  \n",
       "2     0.123218     0.051604     0.092725     0.113730     0.018068  \n",
       "3     0.225160     0.096305     0.153809     0.102091     0.064397  \n",
       "4     0.025806     0.043425     0.027913     0.019582     0.077199  \n",
       "\n",
       "[5 rows x 837 columns]"
      ]
     },
     "execution_count": 19,
     "metadata": {},
     "output_type": "execute_result"
    }
   ],
   "source": [
    "amplicon.head()"
   ]
  },
  {
   "cell_type": "code",
   "execution_count": 20,
   "metadata": {},
   "outputs": [
    {
     "data": {
      "text/plain": [
       "837"
      ]
     },
     "execution_count": 20,
     "metadata": {},
     "output_type": "execute_result"
    }
   ],
   "source": [
    "len(amplicon.columns.values)"
   ]
  },
  {
   "cell_type": "code",
   "execution_count": 21,
   "metadata": {},
   "outputs": [],
   "source": [
    "amplicon.sort_values(by = \"taxa\", ascending=True, inplace=True)"
   ]
  },
  {
   "cell_type": "code",
   "execution_count": 22,
   "metadata": {},
   "outputs": [],
   "source": [
    "amplicon[\"taxa\"] = amplicon[\"taxa\"].astype(str)"
   ]
  },
  {
   "cell_type": "code",
   "execution_count": 23,
   "metadata": {},
   "outputs": [],
   "source": [
    "# calculate relative abundances\n",
    "bug_sum = amplicon.sum(axis = 0, skipna = True)\n",
    "amplicon.iloc[:, 1:] = amplicon.iloc[:, 1:]/bug_sum"
   ]
  },
  {
   "cell_type": "code",
   "execution_count": 24,
   "metadata": {},
   "outputs": [],
   "source": [
    "# remove any Nones, uncultured organisms\n",
    "amplicon = amplicon[~amplicon.taxa.str.contains(\"uncultured\")]\n",
    "amplicon = amplicon[~amplicon.taxa.str.contains(\"metagenome\")]\n",
    "amplicon = amplicon[~amplicon.taxa.str.contains(\"unidentified\")]\n",
    "amplicon = amplicon[~amplicon.taxa.str.contains(r'[0-9]')]\n",
    "amplicon = amplicon[~amplicon.taxa.str.contains(\"group\")]"
   ]
  },
  {
   "cell_type": "code",
   "execution_count": 25,
   "metadata": {},
   "outputs": [
    {
     "name": "stdout",
     "output_type": "stream",
     "text": [
      "0.9999963784619852\n",
      "8.291471524420463e-05\n"
     ]
    }
   ],
   "source": [
    "# avg relative abundance of mgx samples\n",
    "\n",
    "print(amplicon.loc[:, amplicon.columns != 'taxa'].sum().mean())\n",
    "print(amplicon.loc[:, amplicon.columns != 'taxa'].sum().std())"
   ]
  },
  {
   "cell_type": "code",
   "execution_count": 26,
   "metadata": {},
   "outputs": [],
   "source": [
    "amplicon.to_csv('16S_abundance.csv')"
   ]
  },
  {
   "cell_type": "markdown",
   "metadata": {},
   "source": [
    "### looking for the intersection of taxonomy"
   ]
  },
  {
   "cell_type": "code",
   "execution_count": 27,
   "metadata": {},
   "outputs": [],
   "source": [
    "# calculate number of taxa in both vs. either one"
   ]
  },
  {
   "cell_type": "code",
   "execution_count": 28,
   "metadata": {},
   "outputs": [],
   "source": [
    "amplicon_taxa_list = set(amplicon[\"taxa\"])\n",
    "mgx_taxa_list = set(mgx[\"taxa\"])"
   ]
  },
  {
   "cell_type": "code",
   "execution_count": 29,
   "metadata": {},
   "outputs": [],
   "source": [
    "intersection = amplicon_taxa_list.intersection(mgx_taxa_list)\n",
    "union = amplicon_taxa_list.union(mgx_taxa_list)"
   ]
  },
  {
   "cell_type": "code",
   "execution_count": 30,
   "metadata": {},
   "outputs": [],
   "source": [
    "union_df = pd.DataFrame(union)\n",
    "union_df.to_csv('taxalist.csv', index=False)"
   ]
  },
  {
   "cell_type": "code",
   "execution_count": 31,
   "metadata": {},
   "outputs": [
    {
     "data": {
      "text/plain": [
       "145"
      ]
     },
     "execution_count": 31,
     "metadata": {},
     "output_type": "execute_result"
    },
    {
     "data": {
      "text/plain": [
       "373"
      ]
     },
     "execution_count": 31,
     "metadata": {},
     "output_type": "execute_result"
    },
    {
     "data": {
      "text/plain": [
       "40"
      ]
     },
     "execution_count": 31,
     "metadata": {},
     "output_type": "execute_result"
    }
   ],
   "source": [
    "len(intersection)\n",
    "len(amplicon_taxa_list)-len(intersection)\n",
    "len(mgx_taxa_list)-len(intersection)"
   ]
  },
  {
   "cell_type": "code",
   "execution_count": 32,
   "metadata": {},
   "outputs": [],
   "source": [
    "amplicon_only = amplicon_taxa_list.difference(intersection)\n",
    "mgx_only = mgx_taxa_list.difference(intersection)"
   ]
  },
  {
   "cell_type": "code",
   "execution_count": 33,
   "metadata": {},
   "outputs": [
    {
     "data": {
      "text/plain": [
       "373"
      ]
     },
     "execution_count": 33,
     "metadata": {},
     "output_type": "execute_result"
    },
    {
     "data": {
      "text/plain": [
       "40"
      ]
     },
     "execution_count": 33,
     "metadata": {},
     "output_type": "execute_result"
    }
   ],
   "source": [
    "len(amplicon_only)\n",
    "len(mgx_only)"
   ]
  },
  {
   "cell_type": "code",
   "execution_count": 34,
   "metadata": {},
   "outputs": [],
   "source": [
    "union_df.rename(columns={0: \"taxa\"}, inplace=True)"
   ]
  },
  {
   "cell_type": "code",
   "execution_count": 35,
   "metadata": {},
   "outputs": [],
   "source": [
    "phylo_tree_labels = pd.read_csv(\"taxa_presence_compare_methods.csv\")"
   ]
  },
  {
   "cell_type": "code",
   "execution_count": 36,
   "metadata": {},
   "outputs": [],
   "source": [
    "union_df[\"both\"] = np.where(union_df[\"taxa\"].isin(intersection), 1, 0)"
   ]
  },
  {
   "cell_type": "code",
   "execution_count": 37,
   "metadata": {},
   "outputs": [],
   "source": [
    "union_df[\"amp\"] = np.where(union_df[\"taxa\"].isin(amplicon_only), 1, 0)"
   ]
  },
  {
   "cell_type": "code",
   "execution_count": 38,
   "metadata": {},
   "outputs": [],
   "source": [
    "union_df[\"mgx\"] = np.where(union_df[\"taxa\"].isin(mgx_only), 1, 0)"
   ]
  },
  {
   "cell_type": "code",
   "execution_count": 39,
   "metadata": {},
   "outputs": [
    {
     "data": {
      "text/html": [
       "<div>\n",
       "<style scoped>\n",
       "    .dataframe tbody tr th:only-of-type {\n",
       "        vertical-align: middle;\n",
       "    }\n",
       "\n",
       "    .dataframe tbody tr th {\n",
       "        vertical-align: top;\n",
       "    }\n",
       "\n",
       "    .dataframe thead th {\n",
       "        text-align: right;\n",
       "    }\n",
       "</style>\n",
       "<table border=\"1\" class=\"dataframe\">\n",
       "  <thead>\n",
       "    <tr style=\"text-align: right;\">\n",
       "      <th></th>\n",
       "      <th>taxa</th>\n",
       "      <th>both</th>\n",
       "      <th>amp</th>\n",
       "      <th>mgx</th>\n",
       "    </tr>\n",
       "  </thead>\n",
       "  <tbody>\n",
       "    <tr>\n",
       "      <th>553</th>\n",
       "      <td>Terrimonas</td>\n",
       "      <td>0</td>\n",
       "      <td>1</td>\n",
       "      <td>0</td>\n",
       "    </tr>\n",
       "    <tr>\n",
       "      <th>554</th>\n",
       "      <td>Desulfoconvexum</td>\n",
       "      <td>0</td>\n",
       "      <td>1</td>\n",
       "      <td>0</td>\n",
       "    </tr>\n",
       "    <tr>\n",
       "      <th>555</th>\n",
       "      <td>Capnocytophaga</td>\n",
       "      <td>0</td>\n",
       "      <td>1</td>\n",
       "      <td>0</td>\n",
       "    </tr>\n",
       "    <tr>\n",
       "      <th>556</th>\n",
       "      <td>Citrobacter</td>\n",
       "      <td>1</td>\n",
       "      <td>0</td>\n",
       "      <td>0</td>\n",
       "    </tr>\n",
       "    <tr>\n",
       "      <th>557</th>\n",
       "      <td>Oribacterium</td>\n",
       "      <td>0</td>\n",
       "      <td>1</td>\n",
       "      <td>0</td>\n",
       "    </tr>\n",
       "  </tbody>\n",
       "</table>\n",
       "</div>"
      ],
      "text/plain": [
       "                taxa  both  amp  mgx\n",
       "553       Terrimonas     0    1    0\n",
       "554  Desulfoconvexum     0    1    0\n",
       "555   Capnocytophaga     0    1    0\n",
       "556      Citrobacter     1    0    0\n",
       "557     Oribacterium     0    1    0"
      ]
     },
     "execution_count": 39,
     "metadata": {},
     "output_type": "execute_result"
    }
   ],
   "source": [
    "union_df.tail()"
   ]
  },
  {
   "cell_type": "code",
   "execution_count": 40,
   "metadata": {},
   "outputs": [],
   "source": [
    "union_df.to_csv('taxa_presence_compare_methods.csv', index=False)"
   ]
  },
  {
   "cell_type": "code",
   "execution_count": 41,
   "metadata": {},
   "outputs": [
    {
     "data": {
      "text/plain": [
       "14"
      ]
     },
     "execution_count": 41,
     "metadata": {},
     "output_type": "execute_result"
    },
    {
     "data": {
      "text/plain": [
       "16"
      ]
     },
     "execution_count": 41,
     "metadata": {},
     "output_type": "execute_result"
    },
    {
     "data": {
      "text/plain": [
       "15"
      ]
     },
     "execution_count": 41,
     "metadata": {},
     "output_type": "execute_result"
    },
    {
     "data": {
      "text/plain": [
       "10"
      ]
     },
     "execution_count": 41,
     "metadata": {},
     "output_type": "execute_result"
    },
    {
     "data": {
      "text/plain": [
       "19"
      ]
     },
     "execution_count": 41,
     "metadata": {},
     "output_type": "execute_result"
    },
    {
     "data": {
      "text/plain": [
       "15"
      ]
     },
     "execution_count": 41,
     "metadata": {},
     "output_type": "execute_result"
    },
    {
     "data": {
      "text/plain": [
       "19"
      ]
     },
     "execution_count": 41,
     "metadata": {},
     "output_type": "execute_result"
    },
    {
     "data": {
      "text/plain": [
       "15"
      ]
     },
     "execution_count": 41,
     "metadata": {},
     "output_type": "execute_result"
    },
    {
     "data": {
      "text/plain": [
       "12"
      ]
     },
     "execution_count": 41,
     "metadata": {},
     "output_type": "execute_result"
    },
    {
     "data": {
      "text/plain": [
       "14"
      ]
     },
     "execution_count": 41,
     "metadata": {},
     "output_type": "execute_result"
    },
    {
     "data": {
      "text/plain": [
       "12"
      ]
     },
     "execution_count": 41,
     "metadata": {},
     "output_type": "execute_result"
    },
    {
     "data": {
      "text/plain": [
       "13"
      ]
     },
     "execution_count": 41,
     "metadata": {},
     "output_type": "execute_result"
    },
    {
     "data": {
      "text/plain": [
       "13"
      ]
     },
     "execution_count": 41,
     "metadata": {},
     "output_type": "execute_result"
    },
    {
     "data": {
      "text/plain": [
       "12"
      ]
     },
     "execution_count": 41,
     "metadata": {},
     "output_type": "execute_result"
    },
    {
     "data": {
      "text/plain": [
       "11"
      ]
     },
     "execution_count": 41,
     "metadata": {},
     "output_type": "execute_result"
    },
    {
     "data": {
      "text/plain": [
       "16"
      ]
     },
     "execution_count": 41,
     "metadata": {},
     "output_type": "execute_result"
    },
    {
     "data": {
      "text/plain": [
       "9"
      ]
     },
     "execution_count": 41,
     "metadata": {},
     "output_type": "execute_result"
    },
    {
     "data": {
      "text/plain": [
       "11"
      ]
     },
     "execution_count": 41,
     "metadata": {},
     "output_type": "execute_result"
    },
    {
     "data": {
      "text/plain": [
       "14"
      ]
     },
     "execution_count": 41,
     "metadata": {},
     "output_type": "execute_result"
    },
    {
     "data": {
      "text/plain": [
       "14"
      ]
     },
     "execution_count": 41,
     "metadata": {},
     "output_type": "execute_result"
    },
    {
     "data": {
      "text/plain": [
       "21"
      ]
     },
     "execution_count": 41,
     "metadata": {},
     "output_type": "execute_result"
    },
    {
     "data": {
      "text/plain": [
       "13"
      ]
     },
     "execution_count": 41,
     "metadata": {},
     "output_type": "execute_result"
    },
    {
     "data": {
      "text/plain": [
       "9"
      ]
     },
     "execution_count": 41,
     "metadata": {},
     "output_type": "execute_result"
    },
    {
     "data": {
      "text/plain": [
       "13"
      ]
     },
     "execution_count": 41,
     "metadata": {},
     "output_type": "execute_result"
    },
    {
     "data": {
      "text/plain": [
       "12"
      ]
     },
     "execution_count": 41,
     "metadata": {},
     "output_type": "execute_result"
    },
    {
     "data": {
      "text/plain": [
       "14"
      ]
     },
     "execution_count": 41,
     "metadata": {},
     "output_type": "execute_result"
    },
    {
     "data": {
      "text/plain": [
       "17"
      ]
     },
     "execution_count": 41,
     "metadata": {},
     "output_type": "execute_result"
    },
    {
     "data": {
      "text/plain": [
       "15"
      ]
     },
     "execution_count": 41,
     "metadata": {},
     "output_type": "execute_result"
    },
    {
     "data": {
      "text/plain": [
       "13"
      ]
     },
     "execution_count": 41,
     "metadata": {},
     "output_type": "execute_result"
    },
    {
     "data": {
      "text/plain": [
       "11"
      ]
     },
     "execution_count": 41,
     "metadata": {},
     "output_type": "execute_result"
    },
    {
     "data": {
      "text/plain": [
       "10"
      ]
     },
     "execution_count": 41,
     "metadata": {},
     "output_type": "execute_result"
    },
    {
     "data": {
      "text/plain": [
       "8"
      ]
     },
     "execution_count": 41,
     "metadata": {},
     "output_type": "execute_result"
    },
    {
     "data": {
      "text/plain": [
       "13"
      ]
     },
     "execution_count": 41,
     "metadata": {},
     "output_type": "execute_result"
    },
    {
     "data": {
      "text/plain": [
       "12"
      ]
     },
     "execution_count": 41,
     "metadata": {},
     "output_type": "execute_result"
    },
    {
     "data": {
      "text/plain": [
       "12"
      ]
     },
     "execution_count": 41,
     "metadata": {},
     "output_type": "execute_result"
    },
    {
     "data": {
      "text/plain": [
       "12"
      ]
     },
     "execution_count": 41,
     "metadata": {},
     "output_type": "execute_result"
    },
    {
     "data": {
      "text/plain": [
       "14"
      ]
     },
     "execution_count": 41,
     "metadata": {},
     "output_type": "execute_result"
    },
    {
     "data": {
      "text/plain": [
       "14"
      ]
     },
     "execution_count": 41,
     "metadata": {},
     "output_type": "execute_result"
    },
    {
     "data": {
      "text/plain": [
       "12"
      ]
     },
     "execution_count": 41,
     "metadata": {},
     "output_type": "execute_result"
    },
    {
     "data": {
      "text/plain": [
       "12"
      ]
     },
     "execution_count": 41,
     "metadata": {},
     "output_type": "execute_result"
    },
    {
     "data": {
      "text/plain": [
       "12"
      ]
     },
     "execution_count": 41,
     "metadata": {},
     "output_type": "execute_result"
    },
    {
     "data": {
      "text/plain": [
       "10"
      ]
     },
     "execution_count": 41,
     "metadata": {},
     "output_type": "execute_result"
    },
    {
     "data": {
      "text/plain": [
       "18"
      ]
     },
     "execution_count": 41,
     "metadata": {},
     "output_type": "execute_result"
    },
    {
     "data": {
      "text/plain": [
       "15"
      ]
     },
     "execution_count": 41,
     "metadata": {},
     "output_type": "execute_result"
    },
    {
     "data": {
      "text/plain": [
       "11"
      ]
     },
     "execution_count": 41,
     "metadata": {},
     "output_type": "execute_result"
    },
    {
     "data": {
      "text/plain": [
       "22"
      ]
     },
     "execution_count": 41,
     "metadata": {},
     "output_type": "execute_result"
    },
    {
     "data": {
      "text/plain": [
       "10"
      ]
     },
     "execution_count": 41,
     "metadata": {},
     "output_type": "execute_result"
    },
    {
     "data": {
      "text/plain": [
       "17"
      ]
     },
     "execution_count": 41,
     "metadata": {},
     "output_type": "execute_result"
    },
    {
     "data": {
      "text/plain": [
       "12"
      ]
     },
     "execution_count": 41,
     "metadata": {},
     "output_type": "execute_result"
    },
    {
     "data": {
      "text/plain": [
       "18"
      ]
     },
     "execution_count": 41,
     "metadata": {},
     "output_type": "execute_result"
    },
    {
     "data": {
      "text/plain": [
       "15"
      ]
     },
     "execution_count": 41,
     "metadata": {},
     "output_type": "execute_result"
    },
    {
     "data": {
      "text/plain": [
       "17"
      ]
     },
     "execution_count": 41,
     "metadata": {},
     "output_type": "execute_result"
    },
    {
     "data": {
      "text/plain": [
       "18"
      ]
     },
     "execution_count": 41,
     "metadata": {},
     "output_type": "execute_result"
    },
    {
     "data": {
      "text/plain": [
       "15"
      ]
     },
     "execution_count": 41,
     "metadata": {},
     "output_type": "execute_result"
    },
    {
     "data": {
      "text/plain": [
       "12"
      ]
     },
     "execution_count": 41,
     "metadata": {},
     "output_type": "execute_result"
    },
    {
     "data": {
      "text/plain": [
       "14"
      ]
     },
     "execution_count": 41,
     "metadata": {},
     "output_type": "execute_result"
    },
    {
     "data": {
      "text/plain": [
       "15"
      ]
     },
     "execution_count": 41,
     "metadata": {},
     "output_type": "execute_result"
    },
    {
     "data": {
      "text/plain": [
       "14"
      ]
     },
     "execution_count": 41,
     "metadata": {},
     "output_type": "execute_result"
    },
    {
     "data": {
      "text/plain": [
       "13"
      ]
     },
     "execution_count": 41,
     "metadata": {},
     "output_type": "execute_result"
    },
    {
     "data": {
      "text/plain": [
       "11"
      ]
     },
     "execution_count": 41,
     "metadata": {},
     "output_type": "execute_result"
    },
    {
     "data": {
      "text/plain": [
       "6"
      ]
     },
     "execution_count": 41,
     "metadata": {},
     "output_type": "execute_result"
    },
    {
     "data": {
      "text/plain": [
       "14"
      ]
     },
     "execution_count": 41,
     "metadata": {},
     "output_type": "execute_result"
    },
    {
     "data": {
      "text/plain": [
       "14"
      ]
     },
     "execution_count": 41,
     "metadata": {},
     "output_type": "execute_result"
    },
    {
     "data": {
      "text/plain": [
       "12"
      ]
     },
     "execution_count": 41,
     "metadata": {},
     "output_type": "execute_result"
    },
    {
     "data": {
      "text/plain": [
       "12"
      ]
     },
     "execution_count": 41,
     "metadata": {},
     "output_type": "execute_result"
    },
    {
     "data": {
      "text/plain": [
       "12"
      ]
     },
     "execution_count": 41,
     "metadata": {},
     "output_type": "execute_result"
    },
    {
     "data": {
      "text/plain": [
       "13"
      ]
     },
     "execution_count": 41,
     "metadata": {},
     "output_type": "execute_result"
    },
    {
     "data": {
      "text/plain": [
       "10"
      ]
     },
     "execution_count": 41,
     "metadata": {},
     "output_type": "execute_result"
    },
    {
     "data": {
      "text/plain": [
       "15"
      ]
     },
     "execution_count": 41,
     "metadata": {},
     "output_type": "execute_result"
    },
    {
     "data": {
      "text/plain": [
       "17"
      ]
     },
     "execution_count": 41,
     "metadata": {},
     "output_type": "execute_result"
    },
    {
     "data": {
      "text/plain": [
       "13"
      ]
     },
     "execution_count": 41,
     "metadata": {},
     "output_type": "execute_result"
    },
    {
     "data": {
      "text/plain": [
       "13"
      ]
     },
     "execution_count": 41,
     "metadata": {},
     "output_type": "execute_result"
    },
    {
     "data": {
      "text/plain": [
       "10"
      ]
     },
     "execution_count": 41,
     "metadata": {},
     "output_type": "execute_result"
    },
    {
     "data": {
      "text/plain": [
       "12"
      ]
     },
     "execution_count": 41,
     "metadata": {},
     "output_type": "execute_result"
    },
    {
     "data": {
      "text/plain": [
       "14"
      ]
     },
     "execution_count": 41,
     "metadata": {},
     "output_type": "execute_result"
    },
    {
     "data": {
      "text/plain": [
       "7"
      ]
     },
     "execution_count": 41,
     "metadata": {},
     "output_type": "execute_result"
    },
    {
     "data": {
      "text/plain": [
       "7"
      ]
     },
     "execution_count": 41,
     "metadata": {},
     "output_type": "execute_result"
    },
    {
     "data": {
      "text/plain": [
       "10"
      ]
     },
     "execution_count": 41,
     "metadata": {},
     "output_type": "execute_result"
    },
    {
     "data": {
      "text/plain": [
       "23"
      ]
     },
     "execution_count": 41,
     "metadata": {},
     "output_type": "execute_result"
    },
    {
     "data": {
      "text/plain": [
       "15"
      ]
     },
     "execution_count": 41,
     "metadata": {},
     "output_type": "execute_result"
    },
    {
     "data": {
      "text/plain": [
       "14"
      ]
     },
     "execution_count": 41,
     "metadata": {},
     "output_type": "execute_result"
    },
    {
     "data": {
      "text/plain": [
       "12"
      ]
     },
     "execution_count": 41,
     "metadata": {},
     "output_type": "execute_result"
    },
    {
     "data": {
      "text/plain": [
       "11"
      ]
     },
     "execution_count": 41,
     "metadata": {},
     "output_type": "execute_result"
    },
    {
     "data": {
      "text/plain": [
       "16"
      ]
     },
     "execution_count": 41,
     "metadata": {},
     "output_type": "execute_result"
    },
    {
     "data": {
      "text/plain": [
       "16"
      ]
     },
     "execution_count": 41,
     "metadata": {},
     "output_type": "execute_result"
    },
    {
     "data": {
      "text/plain": [
       "8"
      ]
     },
     "execution_count": 41,
     "metadata": {},
     "output_type": "execute_result"
    },
    {
     "data": {
      "text/plain": [
       "7"
      ]
     },
     "execution_count": 41,
     "metadata": {},
     "output_type": "execute_result"
    },
    {
     "data": {
      "text/plain": [
       "14"
      ]
     },
     "execution_count": 41,
     "metadata": {},
     "output_type": "execute_result"
    },
    {
     "data": {
      "text/plain": [
       "8"
      ]
     },
     "execution_count": 41,
     "metadata": {},
     "output_type": "execute_result"
    },
    {
     "data": {
      "text/plain": [
       "8"
      ]
     },
     "execution_count": 41,
     "metadata": {},
     "output_type": "execute_result"
    },
    {
     "data": {
      "text/plain": [
       "10"
      ]
     },
     "execution_count": 41,
     "metadata": {},
     "output_type": "execute_result"
    },
    {
     "data": {
      "text/plain": [
       "11"
      ]
     },
     "execution_count": 41,
     "metadata": {},
     "output_type": "execute_result"
    },
    {
     "data": {
      "text/plain": [
       "11"
      ]
     },
     "execution_count": 41,
     "metadata": {},
     "output_type": "execute_result"
    },
    {
     "data": {
      "text/plain": [
       "12"
      ]
     },
     "execution_count": 41,
     "metadata": {},
     "output_type": "execute_result"
    },
    {
     "data": {
      "text/plain": [
       "16"
      ]
     },
     "execution_count": 41,
     "metadata": {},
     "output_type": "execute_result"
    },
    {
     "data": {
      "text/plain": [
       "11"
      ]
     },
     "execution_count": 41,
     "metadata": {},
     "output_type": "execute_result"
    },
    {
     "data": {
      "text/plain": [
       "11"
      ]
     },
     "execution_count": 41,
     "metadata": {},
     "output_type": "execute_result"
    },
    {
     "data": {
      "text/plain": [
       "10"
      ]
     },
     "execution_count": 41,
     "metadata": {},
     "output_type": "execute_result"
    },
    {
     "data": {
      "text/plain": [
       "16"
      ]
     },
     "execution_count": 41,
     "metadata": {},
     "output_type": "execute_result"
    },
    {
     "data": {
      "text/plain": [
       "12"
      ]
     },
     "execution_count": 41,
     "metadata": {},
     "output_type": "execute_result"
    },
    {
     "data": {
      "text/plain": [
       "17"
      ]
     },
     "execution_count": 41,
     "metadata": {},
     "output_type": "execute_result"
    },
    {
     "data": {
      "text/plain": [
       "12"
      ]
     },
     "execution_count": 41,
     "metadata": {},
     "output_type": "execute_result"
    },
    {
     "data": {
      "text/plain": [
       "15"
      ]
     },
     "execution_count": 41,
     "metadata": {},
     "output_type": "execute_result"
    },
    {
     "data": {
      "text/plain": [
       "14"
      ]
     },
     "execution_count": 41,
     "metadata": {},
     "output_type": "execute_result"
    },
    {
     "data": {
      "text/plain": [
       "16"
      ]
     },
     "execution_count": 41,
     "metadata": {},
     "output_type": "execute_result"
    },
    {
     "data": {
      "text/plain": [
       "12"
      ]
     },
     "execution_count": 41,
     "metadata": {},
     "output_type": "execute_result"
    },
    {
     "data": {
      "text/plain": [
       "16"
      ]
     },
     "execution_count": 41,
     "metadata": {},
     "output_type": "execute_result"
    },
    {
     "data": {
      "text/plain": [
       "11"
      ]
     },
     "execution_count": 41,
     "metadata": {},
     "output_type": "execute_result"
    },
    {
     "data": {
      "text/plain": [
       "12"
      ]
     },
     "execution_count": 41,
     "metadata": {},
     "output_type": "execute_result"
    },
    {
     "data": {
      "text/plain": [
       "11"
      ]
     },
     "execution_count": 41,
     "metadata": {},
     "output_type": "execute_result"
    },
    {
     "data": {
      "text/plain": [
       "13"
      ]
     },
     "execution_count": 41,
     "metadata": {},
     "output_type": "execute_result"
    },
    {
     "data": {
      "text/plain": [
       "14"
      ]
     },
     "execution_count": 41,
     "metadata": {},
     "output_type": "execute_result"
    },
    {
     "data": {
      "text/plain": [
       "10"
      ]
     },
     "execution_count": 41,
     "metadata": {},
     "output_type": "execute_result"
    },
    {
     "data": {
      "text/plain": [
       "15"
      ]
     },
     "execution_count": 41,
     "metadata": {},
     "output_type": "execute_result"
    },
    {
     "data": {
      "text/plain": [
       "12"
      ]
     },
     "execution_count": 41,
     "metadata": {},
     "output_type": "execute_result"
    },
    {
     "data": {
      "text/plain": [
       "14"
      ]
     },
     "execution_count": 41,
     "metadata": {},
     "output_type": "execute_result"
    },
    {
     "data": {
      "text/plain": [
       "17"
      ]
     },
     "execution_count": 41,
     "metadata": {},
     "output_type": "execute_result"
    },
    {
     "data": {
      "text/plain": [
       "16"
      ]
     },
     "execution_count": 41,
     "metadata": {},
     "output_type": "execute_result"
    },
    {
     "data": {
      "text/plain": [
       "10"
      ]
     },
     "execution_count": 41,
     "metadata": {},
     "output_type": "execute_result"
    },
    {
     "data": {
      "text/plain": [
       "13"
      ]
     },
     "execution_count": 41,
     "metadata": {},
     "output_type": "execute_result"
    },
    {
     "data": {
      "text/plain": [
       "10"
      ]
     },
     "execution_count": 41,
     "metadata": {},
     "output_type": "execute_result"
    },
    {
     "data": {
      "text/plain": [
       "22"
      ]
     },
     "execution_count": 41,
     "metadata": {},
     "output_type": "execute_result"
    },
    {
     "data": {
      "text/plain": [
       "17"
      ]
     },
     "execution_count": 41,
     "metadata": {},
     "output_type": "execute_result"
    },
    {
     "data": {
      "text/plain": [
       "9"
      ]
     },
     "execution_count": 41,
     "metadata": {},
     "output_type": "execute_result"
    },
    {
     "data": {
      "text/plain": [
       "12"
      ]
     },
     "execution_count": 41,
     "metadata": {},
     "output_type": "execute_result"
    },
    {
     "data": {
      "text/plain": [
       "12"
      ]
     },
     "execution_count": 41,
     "metadata": {},
     "output_type": "execute_result"
    },
    {
     "data": {
      "text/plain": [
       "14"
      ]
     },
     "execution_count": 41,
     "metadata": {},
     "output_type": "execute_result"
    },
    {
     "data": {
      "text/plain": [
       "10"
      ]
     },
     "execution_count": 41,
     "metadata": {},
     "output_type": "execute_result"
    },
    {
     "data": {
      "text/plain": [
       "15"
      ]
     },
     "execution_count": 41,
     "metadata": {},
     "output_type": "execute_result"
    },
    {
     "data": {
      "text/plain": [
       "11"
      ]
     },
     "execution_count": 41,
     "metadata": {},
     "output_type": "execute_result"
    },
    {
     "data": {
      "text/plain": [
       "9"
      ]
     },
     "execution_count": 41,
     "metadata": {},
     "output_type": "execute_result"
    },
    {
     "data": {
      "text/plain": [
       "15"
      ]
     },
     "execution_count": 41,
     "metadata": {},
     "output_type": "execute_result"
    },
    {
     "data": {
      "text/plain": [
       "12"
      ]
     },
     "execution_count": 41,
     "metadata": {},
     "output_type": "execute_result"
    },
    {
     "data": {
      "text/plain": [
       "12"
      ]
     },
     "execution_count": 41,
     "metadata": {},
     "output_type": "execute_result"
    },
    {
     "data": {
      "text/plain": [
       "10"
      ]
     },
     "execution_count": 41,
     "metadata": {},
     "output_type": "execute_result"
    },
    {
     "data": {
      "text/plain": [
       "19"
      ]
     },
     "execution_count": 41,
     "metadata": {},
     "output_type": "execute_result"
    },
    {
     "data": {
      "text/plain": [
       "14"
      ]
     },
     "execution_count": 41,
     "metadata": {},
     "output_type": "execute_result"
    },
    {
     "data": {
      "text/plain": [
       "11"
      ]
     },
     "execution_count": 41,
     "metadata": {},
     "output_type": "execute_result"
    },
    {
     "data": {
      "text/plain": [
       "8"
      ]
     },
     "execution_count": 41,
     "metadata": {},
     "output_type": "execute_result"
    },
    {
     "data": {
      "text/plain": [
       "15"
      ]
     },
     "execution_count": 41,
     "metadata": {},
     "output_type": "execute_result"
    },
    {
     "data": {
      "text/plain": [
       "10"
      ]
     },
     "execution_count": 41,
     "metadata": {},
     "output_type": "execute_result"
    },
    {
     "data": {
      "text/plain": [
       "11"
      ]
     },
     "execution_count": 41,
     "metadata": {},
     "output_type": "execute_result"
    },
    {
     "data": {
      "text/plain": [
       "13"
      ]
     },
     "execution_count": 41,
     "metadata": {},
     "output_type": "execute_result"
    },
    {
     "data": {
      "text/plain": [
       "12"
      ]
     },
     "execution_count": 41,
     "metadata": {},
     "output_type": "execute_result"
    },
    {
     "data": {
      "text/plain": [
       "10"
      ]
     },
     "execution_count": 41,
     "metadata": {},
     "output_type": "execute_result"
    }
   ],
   "source": [
    "with open('intersection.txt', 'w') as f:\n",
    "    for item in intersection:\n",
    "        f.write(\"%s\\n\" % item)"
   ]
  },
  {
   "cell_type": "code",
   "execution_count": 42,
   "metadata": {},
   "outputs": [
    {
     "data": {
      "text/plain": [
       "{'Acetobacter',\n",
       " 'Acidaminococcus',\n",
       " 'Acinetobacter',\n",
       " 'Actinomyces',\n",
       " 'Actinotignum',\n",
       " 'Adlercreutzia',\n",
       " 'Aerococcus',\n",
       " 'Aeromonas',\n",
       " 'Aggregatibacter',\n",
       " 'Akkermansia',\n",
       " 'Alistipes',\n",
       " 'Allisonella',\n",
       " 'Alloprevotella',\n",
       " 'Anaerobiospirillum',\n",
       " 'Anaerofilum',\n",
       " 'Anaerofustis',\n",
       " 'Anaeroglobus',\n",
       " 'Anaerosporobacter',\n",
       " 'Anaerostipes',\n",
       " 'Anaerotruncus',\n",
       " 'Atopobium',\n",
       " 'Bacteroides',\n",
       " 'Barnesiella',\n",
       " 'Bifidobacterium',\n",
       " 'Bilophila',\n",
       " 'Blautia',\n",
       " 'Brachyspira',\n",
       " 'Butyricicoccus',\n",
       " 'Butyricimonas',\n",
       " 'Butyrivibrio',\n",
       " 'Campylobacter',\n",
       " 'Catabacter',\n",
       " 'Catenibacterium',\n",
       " 'Cellulosilyticum',\n",
       " 'Christensenella',\n",
       " 'Chryseobacterium',\n",
       " 'Citrobacter',\n",
       " 'Cloacibacillus',\n",
       " 'Clostridioides',\n",
       " 'Clostridium',\n",
       " 'Collinsella',\n",
       " 'Comamonas',\n",
       " 'Coprobacillus',\n",
       " 'Coprobacter',\n",
       " 'Coprococcus',\n",
       " 'Corynebacterium',\n",
       " 'Cutibacterium',\n",
       " 'Desulfovibrio',\n",
       " 'Dialister',\n",
       " 'Dielma',\n",
       " 'Dorea',\n",
       " 'Eggerthella',\n",
       " 'Eikenella',\n",
       " 'Eisenbergiella',\n",
       " 'Elizabethkingia',\n",
       " 'Enorma',\n",
       " 'Enterococcus',\n",
       " 'Enterorhabdus',\n",
       " 'Erysipelatoclostridium',\n",
       " 'Eubacterium',\n",
       " 'Faecalibacterium',\n",
       " 'Faecalicoccus',\n",
       " 'Faecalitalea',\n",
       " 'Flavonifractor',\n",
       " 'Fusicatenibacter',\n",
       " 'Fusobacterium',\n",
       " 'Gemella',\n",
       " 'Gordonia',\n",
       " 'Gordonibacter',\n",
       " 'Granulicatella',\n",
       " 'Haemophilus',\n",
       " 'Harryflintia',\n",
       " 'Helicobacter',\n",
       " 'Holdemanella',\n",
       " 'Holdemania',\n",
       " 'Hungatella',\n",
       " 'Intestinibacter',\n",
       " 'Intestinimonas',\n",
       " 'Kluyvera',\n",
       " 'Kosakonia',\n",
       " 'Lachnoclostridium',\n",
       " 'Lachnospira',\n",
       " 'Lactobacillus',\n",
       " 'Lactococcus',\n",
       " 'Lactonifactor',\n",
       " 'Lawsonella',\n",
       " 'Leuconostoc',\n",
       " 'Megamonas',\n",
       " 'Megasphaera',\n",
       " 'Methanobrevibacter',\n",
       " 'Methanomassiliicoccus',\n",
       " 'Methanosphaera',\n",
       " 'Mitsuokella',\n",
       " 'Mogibacterium',\n",
       " 'Monoglobus',\n",
       " 'Morganella',\n",
       " 'Muribaculum',\n",
       " 'Mycoplasma',\n",
       " 'Negativicoccus',\n",
       " 'Neisseria',\n",
       " 'Odoribacter',\n",
       " 'Olsenella',\n",
       " 'Oscillibacter',\n",
       " 'Oxalobacter',\n",
       " 'Paeniclostridium',\n",
       " 'Pantoea',\n",
       " 'Parabacteroides',\n",
       " 'Paraprevotella',\n",
       " 'Parasutterella',\n",
       " 'Peptococcus',\n",
       " 'Peptostreptococcus',\n",
       " 'Phascolarctobacterium',\n",
       " 'Porphyromonas',\n",
       " 'Prevotella',\n",
       " 'Proteus',\n",
       " 'Pseudoflavonifractor',\n",
       " 'Pyramidobacter',\n",
       " 'Raoultella',\n",
       " 'Rikenella',\n",
       " 'Robinsoniella',\n",
       " 'Romboutsia',\n",
       " 'Roseburia',\n",
       " 'Rothia',\n",
       " 'Ruminococcus',\n",
       " 'Sanguibacteroides',\n",
       " 'Scardovia',\n",
       " 'Sellimonas',\n",
       " 'Serratia',\n",
       " 'Slackia',\n",
       " 'Sneathia',\n",
       " 'Staphylococcus',\n",
       " 'Stenotrophomonas',\n",
       " 'Streptococcus',\n",
       " 'Succinatimonas',\n",
       " 'Sutterella',\n",
       " 'Tannerella',\n",
       " 'Terrisporobacter',\n",
       " 'Treponema',\n",
       " 'Turicibacter',\n",
       " 'Tyzzerella',\n",
       " 'UNCLASSIFIED',\n",
       " 'Varibaculum',\n",
       " 'Veillonella',\n",
       " 'Victivallis',\n",
       " 'Weissella'}"
      ]
     },
     "execution_count": 42,
     "metadata": {},
     "output_type": "execute_result"
    }
   ],
   "source": [
    "intersection"
   ]
  },
  {
   "cell_type": "code",
   "execution_count": 43,
   "metadata": {},
   "outputs": [
    {
     "data": {
      "text/plain": [
       "10"
      ]
     },
     "execution_count": 43,
     "metadata": {},
     "output_type": "execute_result"
    },
    {
     "data": {
      "text/plain": [
       "15"
      ]
     },
     "execution_count": 43,
     "metadata": {},
     "output_type": "execute_result"
    },
    {
     "data": {
      "text/plain": [
       "16"
      ]
     },
     "execution_count": 43,
     "metadata": {},
     "output_type": "execute_result"
    },
    {
     "data": {
      "text/plain": [
       "17"
      ]
     },
     "execution_count": 43,
     "metadata": {},
     "output_type": "execute_result"
    },
    {
     "data": {
      "text/plain": [
       "16"
      ]
     },
     "execution_count": 43,
     "metadata": {},
     "output_type": "execute_result"
    },
    {
     "data": {
      "text/plain": [
       "12"
      ]
     },
     "execution_count": 43,
     "metadata": {},
     "output_type": "execute_result"
    },
    {
     "data": {
      "text/plain": [
       "13"
      ]
     },
     "execution_count": 43,
     "metadata": {},
     "output_type": "execute_result"
    },
    {
     "data": {
      "text/plain": [
       "10"
      ]
     },
     "execution_count": 43,
     "metadata": {},
     "output_type": "execute_result"
    },
    {
     "data": {
      "text/plain": [
       "12"
      ]
     },
     "execution_count": 43,
     "metadata": {},
     "output_type": "execute_result"
    },
    {
     "data": {
      "text/plain": [
       "12"
      ]
     },
     "execution_count": 43,
     "metadata": {},
     "output_type": "execute_result"
    },
    {
     "data": {
      "text/plain": [
       "26"
      ]
     },
     "execution_count": 43,
     "metadata": {},
     "output_type": "execute_result"
    },
    {
     "data": {
      "text/plain": [
       "12"
      ]
     },
     "execution_count": 43,
     "metadata": {},
     "output_type": "execute_result"
    },
    {
     "data": {
      "text/plain": [
       "12"
      ]
     },
     "execution_count": 43,
     "metadata": {},
     "output_type": "execute_result"
    },
    {
     "data": {
      "text/plain": [
       "12"
      ]
     },
     "execution_count": 43,
     "metadata": {},
     "output_type": "execute_result"
    },
    {
     "data": {
      "text/plain": [
       "20"
      ]
     },
     "execution_count": 43,
     "metadata": {},
     "output_type": "execute_result"
    },
    {
     "data": {
      "text/plain": [
       "14"
      ]
     },
     "execution_count": 43,
     "metadata": {},
     "output_type": "execute_result"
    },
    {
     "data": {
      "text/plain": [
       "11"
      ]
     },
     "execution_count": 43,
     "metadata": {},
     "output_type": "execute_result"
    },
    {
     "data": {
      "text/plain": [
       "11"
      ]
     },
     "execution_count": 43,
     "metadata": {},
     "output_type": "execute_result"
    },
    {
     "data": {
      "text/plain": [
       "15"
      ]
     },
     "execution_count": 43,
     "metadata": {},
     "output_type": "execute_result"
    },
    {
     "data": {
      "text/plain": [
       "10"
      ]
     },
     "execution_count": 43,
     "metadata": {},
     "output_type": "execute_result"
    },
    {
     "data": {
      "text/plain": [
       "15"
      ]
     },
     "execution_count": 43,
     "metadata": {},
     "output_type": "execute_result"
    },
    {
     "data": {
      "text/plain": [
       "12"
      ]
     },
     "execution_count": 43,
     "metadata": {},
     "output_type": "execute_result"
    },
    {
     "data": {
      "text/plain": [
       "10"
      ]
     },
     "execution_count": 43,
     "metadata": {},
     "output_type": "execute_result"
    },
    {
     "data": {
      "text/plain": [
       "12"
      ]
     },
     "execution_count": 43,
     "metadata": {},
     "output_type": "execute_result"
    },
    {
     "data": {
      "text/plain": [
       "11"
      ]
     },
     "execution_count": 43,
     "metadata": {},
     "output_type": "execute_result"
    },
    {
     "data": {
      "text/plain": [
       "18"
      ]
     },
     "execution_count": 43,
     "metadata": {},
     "output_type": "execute_result"
    },
    {
     "data": {
      "text/plain": [
       "18"
      ]
     },
     "execution_count": 43,
     "metadata": {},
     "output_type": "execute_result"
    },
    {
     "data": {
      "text/plain": [
       "10"
      ]
     },
     "execution_count": 43,
     "metadata": {},
     "output_type": "execute_result"
    },
    {
     "data": {
      "text/plain": [
       "12"
      ]
     },
     "execution_count": 43,
     "metadata": {},
     "output_type": "execute_result"
    },
    {
     "data": {
      "text/plain": [
       "18"
      ]
     },
     "execution_count": 43,
     "metadata": {},
     "output_type": "execute_result"
    },
    {
     "data": {
      "text/plain": [
       "17"
      ]
     },
     "execution_count": 43,
     "metadata": {},
     "output_type": "execute_result"
    },
    {
     "data": {
      "text/plain": [
       "15"
      ]
     },
     "execution_count": 43,
     "metadata": {},
     "output_type": "execute_result"
    },
    {
     "data": {
      "text/plain": [
       "16"
      ]
     },
     "execution_count": 43,
     "metadata": {},
     "output_type": "execute_result"
    },
    {
     "data": {
      "text/plain": [
       "15"
      ]
     },
     "execution_count": 43,
     "metadata": {},
     "output_type": "execute_result"
    },
    {
     "data": {
      "text/plain": [
       "11"
      ]
     },
     "execution_count": 43,
     "metadata": {},
     "output_type": "execute_result"
    },
    {
     "data": {
      "text/plain": [
       "11"
      ]
     },
     "execution_count": 43,
     "metadata": {},
     "output_type": "execute_result"
    },
    {
     "data": {
      "text/plain": [
       "14"
      ]
     },
     "execution_count": 43,
     "metadata": {},
     "output_type": "execute_result"
    },
    {
     "data": {
      "text/plain": [
       "12"
      ]
     },
     "execution_count": 43,
     "metadata": {},
     "output_type": "execute_result"
    },
    {
     "data": {
      "text/plain": [
       "17"
      ]
     },
     "execution_count": 43,
     "metadata": {},
     "output_type": "execute_result"
    },
    {
     "data": {
      "text/plain": [
       "13"
      ]
     },
     "execution_count": 43,
     "metadata": {},
     "output_type": "execute_result"
    },
    {
     "data": {
      "text/plain": [
       "19"
      ]
     },
     "execution_count": 43,
     "metadata": {},
     "output_type": "execute_result"
    },
    {
     "data": {
      "text/plain": [
       "10"
      ]
     },
     "execution_count": 43,
     "metadata": {},
     "output_type": "execute_result"
    },
    {
     "data": {
      "text/plain": [
       "8"
      ]
     },
     "execution_count": 43,
     "metadata": {},
     "output_type": "execute_result"
    },
    {
     "data": {
      "text/plain": [
       "13"
      ]
     },
     "execution_count": 43,
     "metadata": {},
     "output_type": "execute_result"
    },
    {
     "data": {
      "text/plain": [
       "8"
      ]
     },
     "execution_count": 43,
     "metadata": {},
     "output_type": "execute_result"
    },
    {
     "data": {
      "text/plain": [
       "18"
      ]
     },
     "execution_count": 43,
     "metadata": {},
     "output_type": "execute_result"
    },
    {
     "data": {
      "text/plain": [
       "19"
      ]
     },
     "execution_count": 43,
     "metadata": {},
     "output_type": "execute_result"
    },
    {
     "data": {
      "text/plain": [
       "10"
      ]
     },
     "execution_count": 43,
     "metadata": {},
     "output_type": "execute_result"
    },
    {
     "data": {
      "text/plain": [
       "17"
      ]
     },
     "execution_count": 43,
     "metadata": {},
     "output_type": "execute_result"
    },
    {
     "data": {
      "text/plain": [
       "12"
      ]
     },
     "execution_count": 43,
     "metadata": {},
     "output_type": "execute_result"
    },
    {
     "data": {
      "text/plain": [
       "13"
      ]
     },
     "execution_count": 43,
     "metadata": {},
     "output_type": "execute_result"
    },
    {
     "data": {
      "text/plain": [
       "20"
      ]
     },
     "execution_count": 43,
     "metadata": {},
     "output_type": "execute_result"
    },
    {
     "data": {
      "text/plain": [
       "11"
      ]
     },
     "execution_count": 43,
     "metadata": {},
     "output_type": "execute_result"
    },
    {
     "data": {
      "text/plain": [
       "9"
      ]
     },
     "execution_count": 43,
     "metadata": {},
     "output_type": "execute_result"
    },
    {
     "data": {
      "text/plain": [
       "12"
      ]
     },
     "execution_count": 43,
     "metadata": {},
     "output_type": "execute_result"
    },
    {
     "data": {
      "text/plain": [
       "13"
      ]
     },
     "execution_count": 43,
     "metadata": {},
     "output_type": "execute_result"
    },
    {
     "data": {
      "text/plain": [
       "13"
      ]
     },
     "execution_count": 43,
     "metadata": {},
     "output_type": "execute_result"
    },
    {
     "data": {
      "text/plain": [
       "16"
      ]
     },
     "execution_count": 43,
     "metadata": {},
     "output_type": "execute_result"
    },
    {
     "data": {
      "text/plain": [
       "13"
      ]
     },
     "execution_count": 43,
     "metadata": {},
     "output_type": "execute_result"
    },
    {
     "data": {
      "text/plain": [
       "12"
      ]
     },
     "execution_count": 43,
     "metadata": {},
     "output_type": "execute_result"
    },
    {
     "data": {
      "text/plain": [
       "16"
      ]
     },
     "execution_count": 43,
     "metadata": {},
     "output_type": "execute_result"
    },
    {
     "data": {
      "text/plain": [
       "11"
      ]
     },
     "execution_count": 43,
     "metadata": {},
     "output_type": "execute_result"
    },
    {
     "data": {
      "text/plain": [
       "16"
      ]
     },
     "execution_count": 43,
     "metadata": {},
     "output_type": "execute_result"
    },
    {
     "data": {
      "text/plain": [
       "17"
      ]
     },
     "execution_count": 43,
     "metadata": {},
     "output_type": "execute_result"
    },
    {
     "data": {
      "text/plain": [
       "15"
      ]
     },
     "execution_count": 43,
     "metadata": {},
     "output_type": "execute_result"
    },
    {
     "data": {
      "text/plain": [
       "12"
      ]
     },
     "execution_count": 43,
     "metadata": {},
     "output_type": "execute_result"
    },
    {
     "data": {
      "text/plain": [
       "13"
      ]
     },
     "execution_count": 43,
     "metadata": {},
     "output_type": "execute_result"
    },
    {
     "data": {
      "text/plain": [
       "15"
      ]
     },
     "execution_count": 43,
     "metadata": {},
     "output_type": "execute_result"
    },
    {
     "data": {
      "text/plain": [
       "13"
      ]
     },
     "execution_count": 43,
     "metadata": {},
     "output_type": "execute_result"
    },
    {
     "data": {
      "text/plain": [
       "11"
      ]
     },
     "execution_count": 43,
     "metadata": {},
     "output_type": "execute_result"
    },
    {
     "data": {
      "text/plain": [
       "10"
      ]
     },
     "execution_count": 43,
     "metadata": {},
     "output_type": "execute_result"
    },
    {
     "data": {
      "text/plain": [
       "15"
      ]
     },
     "execution_count": 43,
     "metadata": {},
     "output_type": "execute_result"
    },
    {
     "data": {
      "text/plain": [
       "12"
      ]
     },
     "execution_count": 43,
     "metadata": {},
     "output_type": "execute_result"
    },
    {
     "data": {
      "text/plain": [
       "14"
      ]
     },
     "execution_count": 43,
     "metadata": {},
     "output_type": "execute_result"
    },
    {
     "data": {
      "text/plain": [
       "9"
      ]
     },
     "execution_count": 43,
     "metadata": {},
     "output_type": "execute_result"
    },
    {
     "data": {
      "text/plain": [
       "13"
      ]
     },
     "execution_count": 43,
     "metadata": {},
     "output_type": "execute_result"
    },
    {
     "data": {
      "text/plain": [
       "11"
      ]
     },
     "execution_count": 43,
     "metadata": {},
     "output_type": "execute_result"
    },
    {
     "data": {
      "text/plain": [
       "16"
      ]
     },
     "execution_count": 43,
     "metadata": {},
     "output_type": "execute_result"
    },
    {
     "data": {
      "text/plain": [
       "14"
      ]
     },
     "execution_count": 43,
     "metadata": {},
     "output_type": "execute_result"
    },
    {
     "data": {
      "text/plain": [
       "14"
      ]
     },
     "execution_count": 43,
     "metadata": {},
     "output_type": "execute_result"
    },
    {
     "data": {
      "text/plain": [
       "11"
      ]
     },
     "execution_count": 43,
     "metadata": {},
     "output_type": "execute_result"
    },
    {
     "data": {
      "text/plain": [
       "9"
      ]
     },
     "execution_count": 43,
     "metadata": {},
     "output_type": "execute_result"
    },
    {
     "data": {
      "text/plain": [
       "14"
      ]
     },
     "execution_count": 43,
     "metadata": {},
     "output_type": "execute_result"
    },
    {
     "data": {
      "text/plain": [
       "12"
      ]
     },
     "execution_count": 43,
     "metadata": {},
     "output_type": "execute_result"
    },
    {
     "data": {
      "text/plain": [
       "19"
      ]
     },
     "execution_count": 43,
     "metadata": {},
     "output_type": "execute_result"
    },
    {
     "data": {
      "text/plain": [
       "13"
      ]
     },
     "execution_count": 43,
     "metadata": {},
     "output_type": "execute_result"
    },
    {
     "data": {
      "text/plain": [
       "9"
      ]
     },
     "execution_count": 43,
     "metadata": {},
     "output_type": "execute_result"
    },
    {
     "data": {
      "text/plain": [
       "16"
      ]
     },
     "execution_count": 43,
     "metadata": {},
     "output_type": "execute_result"
    },
    {
     "data": {
      "text/plain": [
       "12"
      ]
     },
     "execution_count": 43,
     "metadata": {},
     "output_type": "execute_result"
    },
    {
     "data": {
      "text/plain": [
       "11"
      ]
     },
     "execution_count": 43,
     "metadata": {},
     "output_type": "execute_result"
    },
    {
     "data": {
      "text/plain": [
       "11"
      ]
     },
     "execution_count": 43,
     "metadata": {},
     "output_type": "execute_result"
    },
    {
     "data": {
      "text/plain": [
       "11"
      ]
     },
     "execution_count": 43,
     "metadata": {},
     "output_type": "execute_result"
    },
    {
     "data": {
      "text/plain": [
       "13"
      ]
     },
     "execution_count": 43,
     "metadata": {},
     "output_type": "execute_result"
    },
    {
     "data": {
      "text/plain": [
       "16"
      ]
     },
     "execution_count": 43,
     "metadata": {},
     "output_type": "execute_result"
    },
    {
     "data": {
      "text/plain": [
       "10"
      ]
     },
     "execution_count": 43,
     "metadata": {},
     "output_type": "execute_result"
    },
    {
     "data": {
      "text/plain": [
       "17"
      ]
     },
     "execution_count": 43,
     "metadata": {},
     "output_type": "execute_result"
    },
    {
     "data": {
      "text/plain": [
       "14"
      ]
     },
     "execution_count": 43,
     "metadata": {},
     "output_type": "execute_result"
    },
    {
     "data": {
      "text/plain": [
       "13"
      ]
     },
     "execution_count": 43,
     "metadata": {},
     "output_type": "execute_result"
    },
    {
     "data": {
      "text/plain": [
       "11"
      ]
     },
     "execution_count": 43,
     "metadata": {},
     "output_type": "execute_result"
    },
    {
     "data": {
      "text/plain": [
       "14"
      ]
     },
     "execution_count": 43,
     "metadata": {},
     "output_type": "execute_result"
    },
    {
     "data": {
      "text/plain": [
       "14"
      ]
     },
     "execution_count": 43,
     "metadata": {},
     "output_type": "execute_result"
    },
    {
     "data": {
      "text/plain": [
       "13"
      ]
     },
     "execution_count": 43,
     "metadata": {},
     "output_type": "execute_result"
    },
    {
     "data": {
      "text/plain": [
       "19"
      ]
     },
     "execution_count": 43,
     "metadata": {},
     "output_type": "execute_result"
    },
    {
     "data": {
      "text/plain": [
       "9"
      ]
     },
     "execution_count": 43,
     "metadata": {},
     "output_type": "execute_result"
    },
    {
     "data": {
      "text/plain": [
       "12"
      ]
     },
     "execution_count": 43,
     "metadata": {},
     "output_type": "execute_result"
    },
    {
     "data": {
      "text/plain": [
       "14"
      ]
     },
     "execution_count": 43,
     "metadata": {},
     "output_type": "execute_result"
    },
    {
     "data": {
      "text/plain": [
       "14"
      ]
     },
     "execution_count": 43,
     "metadata": {},
     "output_type": "execute_result"
    },
    {
     "data": {
      "text/plain": [
       "14"
      ]
     },
     "execution_count": 43,
     "metadata": {},
     "output_type": "execute_result"
    },
    {
     "data": {
      "text/plain": [
       "14"
      ]
     },
     "execution_count": 43,
     "metadata": {},
     "output_type": "execute_result"
    },
    {
     "data": {
      "text/plain": [
       "10"
      ]
     },
     "execution_count": 43,
     "metadata": {},
     "output_type": "execute_result"
    },
    {
     "data": {
      "text/plain": [
       "13"
      ]
     },
     "execution_count": 43,
     "metadata": {},
     "output_type": "execute_result"
    },
    {
     "data": {
      "text/plain": [
       "9"
      ]
     },
     "execution_count": 43,
     "metadata": {},
     "output_type": "execute_result"
    },
    {
     "data": {
      "text/plain": [
       "12"
      ]
     },
     "execution_count": 43,
     "metadata": {},
     "output_type": "execute_result"
    },
    {
     "data": {
      "text/plain": [
       "12"
      ]
     },
     "execution_count": 43,
     "metadata": {},
     "output_type": "execute_result"
    },
    {
     "data": {
      "text/plain": [
       "16"
      ]
     },
     "execution_count": 43,
     "metadata": {},
     "output_type": "execute_result"
    },
    {
     "data": {
      "text/plain": [
       "12"
      ]
     },
     "execution_count": 43,
     "metadata": {},
     "output_type": "execute_result"
    },
    {
     "data": {
      "text/plain": [
       "17"
      ]
     },
     "execution_count": 43,
     "metadata": {},
     "output_type": "execute_result"
    },
    {
     "data": {
      "text/plain": [
       "14"
      ]
     },
     "execution_count": 43,
     "metadata": {},
     "output_type": "execute_result"
    },
    {
     "data": {
      "text/plain": [
       "17"
      ]
     },
     "execution_count": 43,
     "metadata": {},
     "output_type": "execute_result"
    },
    {
     "data": {
      "text/plain": [
       "13"
      ]
     },
     "execution_count": 43,
     "metadata": {},
     "output_type": "execute_result"
    },
    {
     "data": {
      "text/plain": [
       "7"
      ]
     },
     "execution_count": 43,
     "metadata": {},
     "output_type": "execute_result"
    },
    {
     "data": {
      "text/plain": [
       "10"
      ]
     },
     "execution_count": 43,
     "metadata": {},
     "output_type": "execute_result"
    },
    {
     "data": {
      "text/plain": [
       "11"
      ]
     },
     "execution_count": 43,
     "metadata": {},
     "output_type": "execute_result"
    },
    {
     "data": {
      "text/plain": [
       "12"
      ]
     },
     "execution_count": 43,
     "metadata": {},
     "output_type": "execute_result"
    },
    {
     "data": {
      "text/plain": [
       "13"
      ]
     },
     "execution_count": 43,
     "metadata": {},
     "output_type": "execute_result"
    },
    {
     "data": {
      "text/plain": [
       "14"
      ]
     },
     "execution_count": 43,
     "metadata": {},
     "output_type": "execute_result"
    },
    {
     "data": {
      "text/plain": [
       "15"
      ]
     },
     "execution_count": 43,
     "metadata": {},
     "output_type": "execute_result"
    },
    {
     "data": {
      "text/plain": [
       "11"
      ]
     },
     "execution_count": 43,
     "metadata": {},
     "output_type": "execute_result"
    },
    {
     "data": {
      "text/plain": [
       "13"
      ]
     },
     "execution_count": 43,
     "metadata": {},
     "output_type": "execute_result"
    },
    {
     "data": {
      "text/plain": [
       "10"
      ]
     },
     "execution_count": 43,
     "metadata": {},
     "output_type": "execute_result"
    },
    {
     "data": {
      "text/plain": [
       "10"
      ]
     },
     "execution_count": 43,
     "metadata": {},
     "output_type": "execute_result"
    },
    {
     "data": {
      "text/plain": [
       "11"
      ]
     },
     "execution_count": 43,
     "metadata": {},
     "output_type": "execute_result"
    },
    {
     "data": {
      "text/plain": [
       "16"
      ]
     },
     "execution_count": 43,
     "metadata": {},
     "output_type": "execute_result"
    },
    {
     "data": {
      "text/plain": [
       "18"
      ]
     },
     "execution_count": 43,
     "metadata": {},
     "output_type": "execute_result"
    },
    {
     "data": {
      "text/plain": [
       "13"
      ]
     },
     "execution_count": 43,
     "metadata": {},
     "output_type": "execute_result"
    },
    {
     "data": {
      "text/plain": [
       "13"
      ]
     },
     "execution_count": 43,
     "metadata": {},
     "output_type": "execute_result"
    },
    {
     "data": {
      "text/plain": [
       "18"
      ]
     },
     "execution_count": 43,
     "metadata": {},
     "output_type": "execute_result"
    },
    {
     "data": {
      "text/plain": [
       "12"
      ]
     },
     "execution_count": 43,
     "metadata": {},
     "output_type": "execute_result"
    },
    {
     "data": {
      "text/plain": [
       "11"
      ]
     },
     "execution_count": 43,
     "metadata": {},
     "output_type": "execute_result"
    },
    {
     "data": {
      "text/plain": [
       "13"
      ]
     },
     "execution_count": 43,
     "metadata": {},
     "output_type": "execute_result"
    },
    {
     "data": {
      "text/plain": [
       "22"
      ]
     },
     "execution_count": 43,
     "metadata": {},
     "output_type": "execute_result"
    },
    {
     "data": {
      "text/plain": [
       "12"
      ]
     },
     "execution_count": 43,
     "metadata": {},
     "output_type": "execute_result"
    },
    {
     "data": {
      "text/plain": [
       "12"
      ]
     },
     "execution_count": 43,
     "metadata": {},
     "output_type": "execute_result"
    },
    {
     "data": {
      "text/plain": [
       "11"
      ]
     },
     "execution_count": 43,
     "metadata": {},
     "output_type": "execute_result"
    },
    {
     "data": {
      "text/plain": [
       "16"
      ]
     },
     "execution_count": 43,
     "metadata": {},
     "output_type": "execute_result"
    },
    {
     "data": {
      "text/plain": [
       "13"
      ]
     },
     "execution_count": 43,
     "metadata": {},
     "output_type": "execute_result"
    },
    {
     "data": {
      "text/plain": [
       "12"
      ]
     },
     "execution_count": 43,
     "metadata": {},
     "output_type": "execute_result"
    },
    {
     "data": {
      "text/plain": [
       "16"
      ]
     },
     "execution_count": 43,
     "metadata": {},
     "output_type": "execute_result"
    },
    {
     "data": {
      "text/plain": [
       "14"
      ]
     },
     "execution_count": 43,
     "metadata": {},
     "output_type": "execute_result"
    },
    {
     "data": {
      "text/plain": [
       "16"
      ]
     },
     "execution_count": 43,
     "metadata": {},
     "output_type": "execute_result"
    },
    {
     "data": {
      "text/plain": [
       "17"
      ]
     },
     "execution_count": 43,
     "metadata": {},
     "output_type": "execute_result"
    },
    {
     "data": {
      "text/plain": [
       "12"
      ]
     },
     "execution_count": 43,
     "metadata": {},
     "output_type": "execute_result"
    },
    {
     "data": {
      "text/plain": [
       "20"
      ]
     },
     "execution_count": 43,
     "metadata": {},
     "output_type": "execute_result"
    },
    {
     "data": {
      "text/plain": [
       "10"
      ]
     },
     "execution_count": 43,
     "metadata": {},
     "output_type": "execute_result"
    },
    {
     "data": {
      "text/plain": [
       "12"
      ]
     },
     "execution_count": 43,
     "metadata": {},
     "output_type": "execute_result"
    },
    {
     "data": {
      "text/plain": [
       "8"
      ]
     },
     "execution_count": 43,
     "metadata": {},
     "output_type": "execute_result"
    },
    {
     "data": {
      "text/plain": [
       "10"
      ]
     },
     "execution_count": 43,
     "metadata": {},
     "output_type": "execute_result"
    },
    {
     "data": {
      "text/plain": [
       "16"
      ]
     },
     "execution_count": 43,
     "metadata": {},
     "output_type": "execute_result"
    },
    {
     "data": {
      "text/plain": [
       "14"
      ]
     },
     "execution_count": 43,
     "metadata": {},
     "output_type": "execute_result"
    },
    {
     "data": {
      "text/plain": [
       "15"
      ]
     },
     "execution_count": 43,
     "metadata": {},
     "output_type": "execute_result"
    },
    {
     "data": {
      "text/plain": [
       "15"
      ]
     },
     "execution_count": 43,
     "metadata": {},
     "output_type": "execute_result"
    },
    {
     "data": {
      "text/plain": [
       "14"
      ]
     },
     "execution_count": 43,
     "metadata": {},
     "output_type": "execute_result"
    },
    {
     "data": {
      "text/plain": [
       "13"
      ]
     },
     "execution_count": 43,
     "metadata": {},
     "output_type": "execute_result"
    },
    {
     "data": {
      "text/plain": [
       "9"
      ]
     },
     "execution_count": 43,
     "metadata": {},
     "output_type": "execute_result"
    },
    {
     "data": {
      "text/plain": [
       "13"
      ]
     },
     "execution_count": 43,
     "metadata": {},
     "output_type": "execute_result"
    },
    {
     "data": {
      "text/plain": [
       "18"
      ]
     },
     "execution_count": 43,
     "metadata": {},
     "output_type": "execute_result"
    },
    {
     "data": {
      "text/plain": [
       "15"
      ]
     },
     "execution_count": 43,
     "metadata": {},
     "output_type": "execute_result"
    },
    {
     "data": {
      "text/plain": [
       "11"
      ]
     },
     "execution_count": 43,
     "metadata": {},
     "output_type": "execute_result"
    },
    {
     "data": {
      "text/plain": [
       "13"
      ]
     },
     "execution_count": 43,
     "metadata": {},
     "output_type": "execute_result"
    },
    {
     "data": {
      "text/plain": [
       "12"
      ]
     },
     "execution_count": 43,
     "metadata": {},
     "output_type": "execute_result"
    },
    {
     "data": {
      "text/plain": [
       "10"
      ]
     },
     "execution_count": 43,
     "metadata": {},
     "output_type": "execute_result"
    },
    {
     "data": {
      "text/plain": [
       "14"
      ]
     },
     "execution_count": 43,
     "metadata": {},
     "output_type": "execute_result"
    },
    {
     "data": {
      "text/plain": [
       "12"
      ]
     },
     "execution_count": 43,
     "metadata": {},
     "output_type": "execute_result"
    },
    {
     "data": {
      "text/plain": [
       "11"
      ]
     },
     "execution_count": 43,
     "metadata": {},
     "output_type": "execute_result"
    },
    {
     "data": {
      "text/plain": [
       "12"
      ]
     },
     "execution_count": 43,
     "metadata": {},
     "output_type": "execute_result"
    },
    {
     "data": {
      "text/plain": [
       "14"
      ]
     },
     "execution_count": 43,
     "metadata": {},
     "output_type": "execute_result"
    },
    {
     "data": {
      "text/plain": [
       "15"
      ]
     },
     "execution_count": 43,
     "metadata": {},
     "output_type": "execute_result"
    },
    {
     "data": {
      "text/plain": [
       "10"
      ]
     },
     "execution_count": 43,
     "metadata": {},
     "output_type": "execute_result"
    },
    {
     "data": {
      "text/plain": [
       "8"
      ]
     },
     "execution_count": 43,
     "metadata": {},
     "output_type": "execute_result"
    },
    {
     "data": {
      "text/plain": [
       "14"
      ]
     },
     "execution_count": 43,
     "metadata": {},
     "output_type": "execute_result"
    },
    {
     "data": {
      "text/plain": [
       "11"
      ]
     },
     "execution_count": 43,
     "metadata": {},
     "output_type": "execute_result"
    },
    {
     "data": {
      "text/plain": [
       "19"
      ]
     },
     "execution_count": 43,
     "metadata": {},
     "output_type": "execute_result"
    },
    {
     "data": {
      "text/plain": [
       "14"
      ]
     },
     "execution_count": 43,
     "metadata": {},
     "output_type": "execute_result"
    },
    {
     "data": {
      "text/plain": [
       "7"
      ]
     },
     "execution_count": 43,
     "metadata": {},
     "output_type": "execute_result"
    },
    {
     "data": {
      "text/plain": [
       "13"
      ]
     },
     "execution_count": 43,
     "metadata": {},
     "output_type": "execute_result"
    },
    {
     "data": {
      "text/plain": [
       "16"
      ]
     },
     "execution_count": 43,
     "metadata": {},
     "output_type": "execute_result"
    },
    {
     "data": {
      "text/plain": [
       "17"
      ]
     },
     "execution_count": 43,
     "metadata": {},
     "output_type": "execute_result"
    },
    {
     "data": {
      "text/plain": [
       "9"
      ]
     },
     "execution_count": 43,
     "metadata": {},
     "output_type": "execute_result"
    },
    {
     "data": {
      "text/plain": [
       "14"
      ]
     },
     "execution_count": 43,
     "metadata": {},
     "output_type": "execute_result"
    },
    {
     "data": {
      "text/plain": [
       "13"
      ]
     },
     "execution_count": 43,
     "metadata": {},
     "output_type": "execute_result"
    },
    {
     "data": {
      "text/plain": [
       "20"
      ]
     },
     "execution_count": 43,
     "metadata": {},
     "output_type": "execute_result"
    },
    {
     "data": {
      "text/plain": [
       "11"
      ]
     },
     "execution_count": 43,
     "metadata": {},
     "output_type": "execute_result"
    },
    {
     "data": {
      "text/plain": [
       "15"
      ]
     },
     "execution_count": 43,
     "metadata": {},
     "output_type": "execute_result"
    },
    {
     "data": {
      "text/plain": [
       "9"
      ]
     },
     "execution_count": 43,
     "metadata": {},
     "output_type": "execute_result"
    },
    {
     "data": {
      "text/plain": [
       "15"
      ]
     },
     "execution_count": 43,
     "metadata": {},
     "output_type": "execute_result"
    },
    {
     "data": {
      "text/plain": [
       "15"
      ]
     },
     "execution_count": 43,
     "metadata": {},
     "output_type": "execute_result"
    },
    {
     "data": {
      "text/plain": [
       "17"
      ]
     },
     "execution_count": 43,
     "metadata": {},
     "output_type": "execute_result"
    },
    {
     "data": {
      "text/plain": [
       "12"
      ]
     },
     "execution_count": 43,
     "metadata": {},
     "output_type": "execute_result"
    },
    {
     "data": {
      "text/plain": [
       "7"
      ]
     },
     "execution_count": 43,
     "metadata": {},
     "output_type": "execute_result"
    },
    {
     "data": {
      "text/plain": [
       "11"
      ]
     },
     "execution_count": 43,
     "metadata": {},
     "output_type": "execute_result"
    },
    {
     "data": {
      "text/plain": [
       "10"
      ]
     },
     "execution_count": 43,
     "metadata": {},
     "output_type": "execute_result"
    },
    {
     "data": {
      "text/plain": [
       "12"
      ]
     },
     "execution_count": 43,
     "metadata": {},
     "output_type": "execute_result"
    },
    {
     "data": {
      "text/plain": [
       "14"
      ]
     },
     "execution_count": 43,
     "metadata": {},
     "output_type": "execute_result"
    },
    {
     "data": {
      "text/plain": [
       "8"
      ]
     },
     "execution_count": 43,
     "metadata": {},
     "output_type": "execute_result"
    },
    {
     "data": {
      "text/plain": [
       "11"
      ]
     },
     "execution_count": 43,
     "metadata": {},
     "output_type": "execute_result"
    },
    {
     "data": {
      "text/plain": [
       "17"
      ]
     },
     "execution_count": 43,
     "metadata": {},
     "output_type": "execute_result"
    },
    {
     "data": {
      "text/plain": [
       "13"
      ]
     },
     "execution_count": 43,
     "metadata": {},
     "output_type": "execute_result"
    },
    {
     "data": {
      "text/plain": [
       "16"
      ]
     },
     "execution_count": 43,
     "metadata": {},
     "output_type": "execute_result"
    },
    {
     "data": {
      "text/plain": [
       "14"
      ]
     },
     "execution_count": 43,
     "metadata": {},
     "output_type": "execute_result"
    },
    {
     "data": {
      "text/plain": [
       "14"
      ]
     },
     "execution_count": 43,
     "metadata": {},
     "output_type": "execute_result"
    },
    {
     "data": {
      "text/plain": [
       "18"
      ]
     },
     "execution_count": 43,
     "metadata": {},
     "output_type": "execute_result"
    },
    {
     "data": {
      "text/plain": [
       "11"
      ]
     },
     "execution_count": 43,
     "metadata": {},
     "output_type": "execute_result"
    },
    {
     "data": {
      "text/plain": [
       "16"
      ]
     },
     "execution_count": 43,
     "metadata": {},
     "output_type": "execute_result"
    },
    {
     "data": {
      "text/plain": [
       "8"
      ]
     },
     "execution_count": 43,
     "metadata": {},
     "output_type": "execute_result"
    },
    {
     "data": {
      "text/plain": [
       "14"
      ]
     },
     "execution_count": 43,
     "metadata": {},
     "output_type": "execute_result"
    },
    {
     "data": {
      "text/plain": [
       "16"
      ]
     },
     "execution_count": 43,
     "metadata": {},
     "output_type": "execute_result"
    },
    {
     "data": {
      "text/plain": [
       "7"
      ]
     },
     "execution_count": 43,
     "metadata": {},
     "output_type": "execute_result"
    },
    {
     "data": {
      "text/plain": [
       "16"
      ]
     },
     "execution_count": 43,
     "metadata": {},
     "output_type": "execute_result"
    },
    {
     "data": {
      "text/plain": [
       "15"
      ]
     },
     "execution_count": 43,
     "metadata": {},
     "output_type": "execute_result"
    },
    {
     "data": {
      "text/plain": [
       "16"
      ]
     },
     "execution_count": 43,
     "metadata": {},
     "output_type": "execute_result"
    },
    {
     "data": {
      "text/plain": [
       "14"
      ]
     },
     "execution_count": 43,
     "metadata": {},
     "output_type": "execute_result"
    },
    {
     "data": {
      "text/plain": [
       "17"
      ]
     },
     "execution_count": 43,
     "metadata": {},
     "output_type": "execute_result"
    },
    {
     "data": {
      "text/plain": [
       "14"
      ]
     },
     "execution_count": 43,
     "metadata": {},
     "output_type": "execute_result"
    },
    {
     "data": {
      "text/plain": [
       "8"
      ]
     },
     "execution_count": 43,
     "metadata": {},
     "output_type": "execute_result"
    },
    {
     "data": {
      "text/plain": [
       "12"
      ]
     },
     "execution_count": 43,
     "metadata": {},
     "output_type": "execute_result"
    },
    {
     "data": {
      "text/plain": [
       "11"
      ]
     },
     "execution_count": 43,
     "metadata": {},
     "output_type": "execute_result"
    },
    {
     "data": {
      "text/plain": [
       "11"
      ]
     },
     "execution_count": 43,
     "metadata": {},
     "output_type": "execute_result"
    },
    {
     "data": {
      "text/plain": [
       "10"
      ]
     },
     "execution_count": 43,
     "metadata": {},
     "output_type": "execute_result"
    },
    {
     "data": {
      "text/plain": [
       "14"
      ]
     },
     "execution_count": 43,
     "metadata": {},
     "output_type": "execute_result"
    },
    {
     "data": {
      "text/plain": [
       "17"
      ]
     },
     "execution_count": 43,
     "metadata": {},
     "output_type": "execute_result"
    },
    {
     "data": {
      "text/plain": [
       "12"
      ]
     },
     "execution_count": 43,
     "metadata": {},
     "output_type": "execute_result"
    },
    {
     "data": {
      "text/plain": [
       "12"
      ]
     },
     "execution_count": 43,
     "metadata": {},
     "output_type": "execute_result"
    },
    {
     "data": {
      "text/plain": [
       "16"
      ]
     },
     "execution_count": 43,
     "metadata": {},
     "output_type": "execute_result"
    },
    {
     "data": {
      "text/plain": [
       "18"
      ]
     },
     "execution_count": 43,
     "metadata": {},
     "output_type": "execute_result"
    },
    {
     "data": {
      "text/plain": [
       "11"
      ]
     },
     "execution_count": 43,
     "metadata": {},
     "output_type": "execute_result"
    },
    {
     "data": {
      "text/plain": [
       "10"
      ]
     },
     "execution_count": 43,
     "metadata": {},
     "output_type": "execute_result"
    },
    {
     "data": {
      "text/plain": [
       "15"
      ]
     },
     "execution_count": 43,
     "metadata": {},
     "output_type": "execute_result"
    },
    {
     "data": {
      "text/plain": [
       "8"
      ]
     },
     "execution_count": 43,
     "metadata": {},
     "output_type": "execute_result"
    },
    {
     "data": {
      "text/plain": [
       "15"
      ]
     },
     "execution_count": 43,
     "metadata": {},
     "output_type": "execute_result"
    },
    {
     "data": {
      "text/plain": [
       "20"
      ]
     },
     "execution_count": 43,
     "metadata": {},
     "output_type": "execute_result"
    },
    {
     "data": {
      "text/plain": [
       "15"
      ]
     },
     "execution_count": 43,
     "metadata": {},
     "output_type": "execute_result"
    },
    {
     "data": {
      "text/plain": [
       "15"
      ]
     },
     "execution_count": 43,
     "metadata": {},
     "output_type": "execute_result"
    },
    {
     "data": {
      "text/plain": [
       "12"
      ]
     },
     "execution_count": 43,
     "metadata": {},
     "output_type": "execute_result"
    },
    {
     "data": {
      "text/plain": [
       "15"
      ]
     },
     "execution_count": 43,
     "metadata": {},
     "output_type": "execute_result"
    },
    {
     "data": {
      "text/plain": [
       "14"
      ]
     },
     "execution_count": 43,
     "metadata": {},
     "output_type": "execute_result"
    },
    {
     "data": {
      "text/plain": [
       "14"
      ]
     },
     "execution_count": 43,
     "metadata": {},
     "output_type": "execute_result"
    },
    {
     "data": {
      "text/plain": [
       "13"
      ]
     },
     "execution_count": 43,
     "metadata": {},
     "output_type": "execute_result"
    },
    {
     "data": {
      "text/plain": [
       "17"
      ]
     },
     "execution_count": 43,
     "metadata": {},
     "output_type": "execute_result"
    },
    {
     "data": {
      "text/plain": [
       "11"
      ]
     },
     "execution_count": 43,
     "metadata": {},
     "output_type": "execute_result"
    },
    {
     "data": {
      "text/plain": [
       "15"
      ]
     },
     "execution_count": 43,
     "metadata": {},
     "output_type": "execute_result"
    },
    {
     "data": {
      "text/plain": [
       "6"
      ]
     },
     "execution_count": 43,
     "metadata": {},
     "output_type": "execute_result"
    },
    {
     "data": {
      "text/plain": [
       "20"
      ]
     },
     "execution_count": 43,
     "metadata": {},
     "output_type": "execute_result"
    },
    {
     "data": {
      "text/plain": [
       "17"
      ]
     },
     "execution_count": 43,
     "metadata": {},
     "output_type": "execute_result"
    },
    {
     "data": {
      "text/plain": [
       "14"
      ]
     },
     "execution_count": 43,
     "metadata": {},
     "output_type": "execute_result"
    },
    {
     "data": {
      "text/plain": [
       "15"
      ]
     },
     "execution_count": 43,
     "metadata": {},
     "output_type": "execute_result"
    },
    {
     "data": {
      "text/plain": [
       "10"
      ]
     },
     "execution_count": 43,
     "metadata": {},
     "output_type": "execute_result"
    },
    {
     "data": {
      "text/plain": [
       "10"
      ]
     },
     "execution_count": 43,
     "metadata": {},
     "output_type": "execute_result"
    },
    {
     "data": {
      "text/plain": [
       "8"
      ]
     },
     "execution_count": 43,
     "metadata": {},
     "output_type": "execute_result"
    },
    {
     "data": {
      "text/plain": [
       "13"
      ]
     },
     "execution_count": 43,
     "metadata": {},
     "output_type": "execute_result"
    },
    {
     "data": {
      "text/plain": [
       "17"
      ]
     },
     "execution_count": 43,
     "metadata": {},
     "output_type": "execute_result"
    },
    {
     "data": {
      "text/plain": [
       "14"
      ]
     },
     "execution_count": 43,
     "metadata": {},
     "output_type": "execute_result"
    },
    {
     "data": {
      "text/plain": [
       "12"
      ]
     },
     "execution_count": 43,
     "metadata": {},
     "output_type": "execute_result"
    },
    {
     "data": {
      "text/plain": [
       "13"
      ]
     },
     "execution_count": 43,
     "metadata": {},
     "output_type": "execute_result"
    },
    {
     "data": {
      "text/plain": [
       "18"
      ]
     },
     "execution_count": 43,
     "metadata": {},
     "output_type": "execute_result"
    },
    {
     "data": {
      "text/plain": [
       "11"
      ]
     },
     "execution_count": 43,
     "metadata": {},
     "output_type": "execute_result"
    },
    {
     "data": {
      "text/plain": [
       "13"
      ]
     },
     "execution_count": 43,
     "metadata": {},
     "output_type": "execute_result"
    },
    {
     "data": {
      "text/plain": [
       "9"
      ]
     },
     "execution_count": 43,
     "metadata": {},
     "output_type": "execute_result"
    },
    {
     "data": {
      "text/plain": [
       "9"
      ]
     },
     "execution_count": 43,
     "metadata": {},
     "output_type": "execute_result"
    },
    {
     "data": {
      "text/plain": [
       "13"
      ]
     },
     "execution_count": 43,
     "metadata": {},
     "output_type": "execute_result"
    },
    {
     "data": {
      "text/plain": [
       "12"
      ]
     },
     "execution_count": 43,
     "metadata": {},
     "output_type": "execute_result"
    },
    {
     "data": {
      "text/plain": [
       "13"
      ]
     },
     "execution_count": 43,
     "metadata": {},
     "output_type": "execute_result"
    },
    {
     "data": {
      "text/plain": [
       "15"
      ]
     },
     "execution_count": 43,
     "metadata": {},
     "output_type": "execute_result"
    },
    {
     "data": {
      "text/plain": [
       "6"
      ]
     },
     "execution_count": 43,
     "metadata": {},
     "output_type": "execute_result"
    },
    {
     "data": {
      "text/plain": [
       "14"
      ]
     },
     "execution_count": 43,
     "metadata": {},
     "output_type": "execute_result"
    },
    {
     "data": {
      "text/plain": [
       "11"
      ]
     },
     "execution_count": 43,
     "metadata": {},
     "output_type": "execute_result"
    },
    {
     "data": {
      "text/plain": [
       "15"
      ]
     },
     "execution_count": 43,
     "metadata": {},
     "output_type": "execute_result"
    },
    {
     "data": {
      "text/plain": [
       "13"
      ]
     },
     "execution_count": 43,
     "metadata": {},
     "output_type": "execute_result"
    },
    {
     "data": {
      "text/plain": [
       "14"
      ]
     },
     "execution_count": 43,
     "metadata": {},
     "output_type": "execute_result"
    },
    {
     "data": {
      "text/plain": [
       "9"
      ]
     },
     "execution_count": 43,
     "metadata": {},
     "output_type": "execute_result"
    },
    {
     "data": {
      "text/plain": [
       "11"
      ]
     },
     "execution_count": 43,
     "metadata": {},
     "output_type": "execute_result"
    },
    {
     "data": {
      "text/plain": [
       "16"
      ]
     },
     "execution_count": 43,
     "metadata": {},
     "output_type": "execute_result"
    },
    {
     "data": {
      "text/plain": [
       "11"
      ]
     },
     "execution_count": 43,
     "metadata": {},
     "output_type": "execute_result"
    },
    {
     "data": {
      "text/plain": [
       "14"
      ]
     },
     "execution_count": 43,
     "metadata": {},
     "output_type": "execute_result"
    },
    {
     "data": {
      "text/plain": [
       "15"
      ]
     },
     "execution_count": 43,
     "metadata": {},
     "output_type": "execute_result"
    },
    {
     "data": {
      "text/plain": [
       "18"
      ]
     },
     "execution_count": 43,
     "metadata": {},
     "output_type": "execute_result"
    },
    {
     "data": {
      "text/plain": [
       "17"
      ]
     },
     "execution_count": 43,
     "metadata": {},
     "output_type": "execute_result"
    },
    {
     "data": {
      "text/plain": [
       "11"
      ]
     },
     "execution_count": 43,
     "metadata": {},
     "output_type": "execute_result"
    },
    {
     "data": {
      "text/plain": [
       "11"
      ]
     },
     "execution_count": 43,
     "metadata": {},
     "output_type": "execute_result"
    },
    {
     "data": {
      "text/plain": [
       "13"
      ]
     },
     "execution_count": 43,
     "metadata": {},
     "output_type": "execute_result"
    },
    {
     "data": {
      "text/plain": [
       "12"
      ]
     },
     "execution_count": 43,
     "metadata": {},
     "output_type": "execute_result"
    },
    {
     "data": {
      "text/plain": [
       "11"
      ]
     },
     "execution_count": 43,
     "metadata": {},
     "output_type": "execute_result"
    },
    {
     "data": {
      "text/plain": [
       "16"
      ]
     },
     "execution_count": 43,
     "metadata": {},
     "output_type": "execute_result"
    },
    {
     "data": {
      "text/plain": [
       "11"
      ]
     },
     "execution_count": 43,
     "metadata": {},
     "output_type": "execute_result"
    },
    {
     "data": {
      "text/plain": [
       "18"
      ]
     },
     "execution_count": 43,
     "metadata": {},
     "output_type": "execute_result"
    },
    {
     "data": {
      "text/plain": [
       "9"
      ]
     },
     "execution_count": 43,
     "metadata": {},
     "output_type": "execute_result"
    },
    {
     "data": {
      "text/plain": [
       "18"
      ]
     },
     "execution_count": 43,
     "metadata": {},
     "output_type": "execute_result"
    },
    {
     "data": {
      "text/plain": [
       "13"
      ]
     },
     "execution_count": 43,
     "metadata": {},
     "output_type": "execute_result"
    },
    {
     "data": {
      "text/plain": [
       "14"
      ]
     },
     "execution_count": 43,
     "metadata": {},
     "output_type": "execute_result"
    },
    {
     "data": {
      "text/plain": [
       "18"
      ]
     },
     "execution_count": 43,
     "metadata": {},
     "output_type": "execute_result"
    },
    {
     "data": {
      "text/plain": [
       "18"
      ]
     },
     "execution_count": 43,
     "metadata": {},
     "output_type": "execute_result"
    },
    {
     "data": {
      "text/plain": [
       "14"
      ]
     },
     "execution_count": 43,
     "metadata": {},
     "output_type": "execute_result"
    },
    {
     "data": {
      "text/plain": [
       "15"
      ]
     },
     "execution_count": 43,
     "metadata": {},
     "output_type": "execute_result"
    },
    {
     "data": {
      "text/plain": [
       "15"
      ]
     },
     "execution_count": 43,
     "metadata": {},
     "output_type": "execute_result"
    },
    {
     "data": {
      "text/plain": [
       "18"
      ]
     },
     "execution_count": 43,
     "metadata": {},
     "output_type": "execute_result"
    },
    {
     "data": {
      "text/plain": [
       "19"
      ]
     },
     "execution_count": 43,
     "metadata": {},
     "output_type": "execute_result"
    },
    {
     "data": {
      "text/plain": [
       "11"
      ]
     },
     "execution_count": 43,
     "metadata": {},
     "output_type": "execute_result"
    },
    {
     "data": {
      "text/plain": [
       "14"
      ]
     },
     "execution_count": 43,
     "metadata": {},
     "output_type": "execute_result"
    },
    {
     "data": {
      "text/plain": [
       "13"
      ]
     },
     "execution_count": 43,
     "metadata": {},
     "output_type": "execute_result"
    },
    {
     "data": {
      "text/plain": [
       "10"
      ]
     },
     "execution_count": 43,
     "metadata": {},
     "output_type": "execute_result"
    },
    {
     "data": {
      "text/plain": [
       "12"
      ]
     },
     "execution_count": 43,
     "metadata": {},
     "output_type": "execute_result"
    },
    {
     "data": {
      "text/plain": [
       "15"
      ]
     },
     "execution_count": 43,
     "metadata": {},
     "output_type": "execute_result"
    },
    {
     "data": {
      "text/plain": [
       "17"
      ]
     },
     "execution_count": 43,
     "metadata": {},
     "output_type": "execute_result"
    },
    {
     "data": {
      "text/plain": [
       "14"
      ]
     },
     "execution_count": 43,
     "metadata": {},
     "output_type": "execute_result"
    },
    {
     "data": {
      "text/plain": [
       "13"
      ]
     },
     "execution_count": 43,
     "metadata": {},
     "output_type": "execute_result"
    },
    {
     "data": {
      "text/plain": [
       "13"
      ]
     },
     "execution_count": 43,
     "metadata": {},
     "output_type": "execute_result"
    },
    {
     "data": {
      "text/plain": [
       "12"
      ]
     },
     "execution_count": 43,
     "metadata": {},
     "output_type": "execute_result"
    },
    {
     "data": {
      "text/plain": [
       "12"
      ]
     },
     "execution_count": 43,
     "metadata": {},
     "output_type": "execute_result"
    },
    {
     "data": {
      "text/plain": [
       "17"
      ]
     },
     "execution_count": 43,
     "metadata": {},
     "output_type": "execute_result"
    },
    {
     "data": {
      "text/plain": [
       "10"
      ]
     },
     "execution_count": 43,
     "metadata": {},
     "output_type": "execute_result"
    },
    {
     "data": {
      "text/plain": [
       "12"
      ]
     },
     "execution_count": 43,
     "metadata": {},
     "output_type": "execute_result"
    },
    {
     "data": {
      "text/plain": [
       "11"
      ]
     },
     "execution_count": 43,
     "metadata": {},
     "output_type": "execute_result"
    },
    {
     "data": {
      "text/plain": [
       "11"
      ]
     },
     "execution_count": 43,
     "metadata": {},
     "output_type": "execute_result"
    },
    {
     "data": {
      "text/plain": [
       "11"
      ]
     },
     "execution_count": 43,
     "metadata": {},
     "output_type": "execute_result"
    },
    {
     "data": {
      "text/plain": [
       "7"
      ]
     },
     "execution_count": 43,
     "metadata": {},
     "output_type": "execute_result"
    },
    {
     "data": {
      "text/plain": [
       "13"
      ]
     },
     "execution_count": 43,
     "metadata": {},
     "output_type": "execute_result"
    },
    {
     "data": {
      "text/plain": [
       "13"
      ]
     },
     "execution_count": 43,
     "metadata": {},
     "output_type": "execute_result"
    },
    {
     "data": {
      "text/plain": [
       "13"
      ]
     },
     "execution_count": 43,
     "metadata": {},
     "output_type": "execute_result"
    },
    {
     "data": {
      "text/plain": [
       "14"
      ]
     },
     "execution_count": 43,
     "metadata": {},
     "output_type": "execute_result"
    },
    {
     "data": {
      "text/plain": [
       "9"
      ]
     },
     "execution_count": 43,
     "metadata": {},
     "output_type": "execute_result"
    },
    {
     "data": {
      "text/plain": [
       "8"
      ]
     },
     "execution_count": 43,
     "metadata": {},
     "output_type": "execute_result"
    },
    {
     "data": {
      "text/plain": [
       "10"
      ]
     },
     "execution_count": 43,
     "metadata": {},
     "output_type": "execute_result"
    },
    {
     "data": {
      "text/plain": [
       "13"
      ]
     },
     "execution_count": 43,
     "metadata": {},
     "output_type": "execute_result"
    },
    {
     "data": {
      "text/plain": [
       "14"
      ]
     },
     "execution_count": 43,
     "metadata": {},
     "output_type": "execute_result"
    },
    {
     "data": {
      "text/plain": [
       "15"
      ]
     },
     "execution_count": 43,
     "metadata": {},
     "output_type": "execute_result"
    },
    {
     "data": {
      "text/plain": [
       "14"
      ]
     },
     "execution_count": 43,
     "metadata": {},
     "output_type": "execute_result"
    },
    {
     "data": {
      "text/plain": [
       "12"
      ]
     },
     "execution_count": 43,
     "metadata": {},
     "output_type": "execute_result"
    },
    {
     "data": {
      "text/plain": [
       "19"
      ]
     },
     "execution_count": 43,
     "metadata": {},
     "output_type": "execute_result"
    },
    {
     "data": {
      "text/plain": [
       "15"
      ]
     },
     "execution_count": 43,
     "metadata": {},
     "output_type": "execute_result"
    },
    {
     "data": {
      "text/plain": [
       "13"
      ]
     },
     "execution_count": 43,
     "metadata": {},
     "output_type": "execute_result"
    },
    {
     "data": {
      "text/plain": [
       "18"
      ]
     },
     "execution_count": 43,
     "metadata": {},
     "output_type": "execute_result"
    },
    {
     "data": {
      "text/plain": [
       "11"
      ]
     },
     "execution_count": 43,
     "metadata": {},
     "output_type": "execute_result"
    },
    {
     "data": {
      "text/plain": [
       "16"
      ]
     },
     "execution_count": 43,
     "metadata": {},
     "output_type": "execute_result"
    },
    {
     "data": {
      "text/plain": [
       "5"
      ]
     },
     "execution_count": 43,
     "metadata": {},
     "output_type": "execute_result"
    },
    {
     "data": {
      "text/plain": [
       "16"
      ]
     },
     "execution_count": 43,
     "metadata": {},
     "output_type": "execute_result"
    },
    {
     "data": {
      "text/plain": [
       "12"
      ]
     },
     "execution_count": 43,
     "metadata": {},
     "output_type": "execute_result"
    },
    {
     "data": {
      "text/plain": [
       "12"
      ]
     },
     "execution_count": 43,
     "metadata": {},
     "output_type": "execute_result"
    },
    {
     "data": {
      "text/plain": [
       "13"
      ]
     },
     "execution_count": 43,
     "metadata": {},
     "output_type": "execute_result"
    },
    {
     "data": {
      "text/plain": [
       "17"
      ]
     },
     "execution_count": 43,
     "metadata": {},
     "output_type": "execute_result"
    },
    {
     "data": {
      "text/plain": [
       "11"
      ]
     },
     "execution_count": 43,
     "metadata": {},
     "output_type": "execute_result"
    },
    {
     "data": {
      "text/plain": [
       "13"
      ]
     },
     "execution_count": 43,
     "metadata": {},
     "output_type": "execute_result"
    },
    {
     "data": {
      "text/plain": [
       "13"
      ]
     },
     "execution_count": 43,
     "metadata": {},
     "output_type": "execute_result"
    },
    {
     "data": {
      "text/plain": [
       "11"
      ]
     },
     "execution_count": 43,
     "metadata": {},
     "output_type": "execute_result"
    },
    {
     "data": {
      "text/plain": [
       "11"
      ]
     },
     "execution_count": 43,
     "metadata": {},
     "output_type": "execute_result"
    },
    {
     "data": {
      "text/plain": [
       "14"
      ]
     },
     "execution_count": 43,
     "metadata": {},
     "output_type": "execute_result"
    },
    {
     "data": {
      "text/plain": [
       "12"
      ]
     },
     "execution_count": 43,
     "metadata": {},
     "output_type": "execute_result"
    },
    {
     "data": {
      "text/plain": [
       "14"
      ]
     },
     "execution_count": 43,
     "metadata": {},
     "output_type": "execute_result"
    },
    {
     "data": {
      "text/plain": [
       "15"
      ]
     },
     "execution_count": 43,
     "metadata": {},
     "output_type": "execute_result"
    },
    {
     "data": {
      "text/plain": [
       "13"
      ]
     },
     "execution_count": 43,
     "metadata": {},
     "output_type": "execute_result"
    },
    {
     "data": {
      "text/plain": [
       "11"
      ]
     },
     "execution_count": 43,
     "metadata": {},
     "output_type": "execute_result"
    },
    {
     "data": {
      "text/plain": [
       "11"
      ]
     },
     "execution_count": 43,
     "metadata": {},
     "output_type": "execute_result"
    },
    {
     "data": {
      "text/plain": [
       "15"
      ]
     },
     "execution_count": 43,
     "metadata": {},
     "output_type": "execute_result"
    },
    {
     "data": {
      "text/plain": [
       "11"
      ]
     },
     "execution_count": 43,
     "metadata": {},
     "output_type": "execute_result"
    },
    {
     "data": {
      "text/plain": [
       "13"
      ]
     },
     "execution_count": 43,
     "metadata": {},
     "output_type": "execute_result"
    },
    {
     "data": {
      "text/plain": [
       "10"
      ]
     },
     "execution_count": 43,
     "metadata": {},
     "output_type": "execute_result"
    },
    {
     "data": {
      "text/plain": [
       "13"
      ]
     },
     "execution_count": 43,
     "metadata": {},
     "output_type": "execute_result"
    },
    {
     "data": {
      "text/plain": [
       "15"
      ]
     },
     "execution_count": 43,
     "metadata": {},
     "output_type": "execute_result"
    },
    {
     "data": {
      "text/plain": [
       "15"
      ]
     },
     "execution_count": 43,
     "metadata": {},
     "output_type": "execute_result"
    },
    {
     "data": {
      "text/plain": [
       "14"
      ]
     },
     "execution_count": 43,
     "metadata": {},
     "output_type": "execute_result"
    },
    {
     "data": {
      "text/plain": [
       "14"
      ]
     },
     "execution_count": 43,
     "metadata": {},
     "output_type": "execute_result"
    },
    {
     "data": {
      "text/plain": [
       "11"
      ]
     },
     "execution_count": 43,
     "metadata": {},
     "output_type": "execute_result"
    },
    {
     "data": {
      "text/plain": [
       "16"
      ]
     },
     "execution_count": 43,
     "metadata": {},
     "output_type": "execute_result"
    },
    {
     "data": {
      "text/plain": [
       "15"
      ]
     },
     "execution_count": 43,
     "metadata": {},
     "output_type": "execute_result"
    },
    {
     "data": {
      "text/plain": [
       "13"
      ]
     },
     "execution_count": 43,
     "metadata": {},
     "output_type": "execute_result"
    }
   ],
   "source": [
    "with open('amplicon_only.txt', 'w') as f:\n",
    "    for item in amplicon_only:\n",
    "        f.write(\"%s\\n\" % item)"
   ]
  },
  {
   "cell_type": "code",
   "execution_count": 44,
   "metadata": {},
   "outputs": [
    {
     "data": {
      "text/plain": [
       "14"
      ]
     },
     "execution_count": 44,
     "metadata": {},
     "output_type": "execute_result"
    },
    {
     "data": {
      "text/plain": [
       "11"
      ]
     },
     "execution_count": 44,
     "metadata": {},
     "output_type": "execute_result"
    },
    {
     "data": {
      "text/plain": [
       "12"
      ]
     },
     "execution_count": 44,
     "metadata": {},
     "output_type": "execute_result"
    },
    {
     "data": {
      "text/plain": [
       "14"
      ]
     },
     "execution_count": 44,
     "metadata": {},
     "output_type": "execute_result"
    },
    {
     "data": {
      "text/plain": [
       "13"
      ]
     },
     "execution_count": 44,
     "metadata": {},
     "output_type": "execute_result"
    },
    {
     "data": {
      "text/plain": [
       "7"
      ]
     },
     "execution_count": 44,
     "metadata": {},
     "output_type": "execute_result"
    },
    {
     "data": {
      "text/plain": [
       "11"
      ]
     },
     "execution_count": 44,
     "metadata": {},
     "output_type": "execute_result"
    },
    {
     "data": {
      "text/plain": [
       "11"
      ]
     },
     "execution_count": 44,
     "metadata": {},
     "output_type": "execute_result"
    },
    {
     "data": {
      "text/plain": [
       "13"
      ]
     },
     "execution_count": 44,
     "metadata": {},
     "output_type": "execute_result"
    },
    {
     "data": {
      "text/plain": [
       "10"
      ]
     },
     "execution_count": 44,
     "metadata": {},
     "output_type": "execute_result"
    },
    {
     "data": {
      "text/plain": [
       "17"
      ]
     },
     "execution_count": 44,
     "metadata": {},
     "output_type": "execute_result"
    },
    {
     "data": {
      "text/plain": [
       "12"
      ]
     },
     "execution_count": 44,
     "metadata": {},
     "output_type": "execute_result"
    },
    {
     "data": {
      "text/plain": [
       "15"
      ]
     },
     "execution_count": 44,
     "metadata": {},
     "output_type": "execute_result"
    },
    {
     "data": {
      "text/plain": [
       "12"
      ]
     },
     "execution_count": 44,
     "metadata": {},
     "output_type": "execute_result"
    },
    {
     "data": {
      "text/plain": [
       "14"
      ]
     },
     "execution_count": 44,
     "metadata": {},
     "output_type": "execute_result"
    },
    {
     "data": {
      "text/plain": [
       "14"
      ]
     },
     "execution_count": 44,
     "metadata": {},
     "output_type": "execute_result"
    },
    {
     "data": {
      "text/plain": [
       "14"
      ]
     },
     "execution_count": 44,
     "metadata": {},
     "output_type": "execute_result"
    },
    {
     "data": {
      "text/plain": [
       "11"
      ]
     },
     "execution_count": 44,
     "metadata": {},
     "output_type": "execute_result"
    },
    {
     "data": {
      "text/plain": [
       "12"
      ]
     },
     "execution_count": 44,
     "metadata": {},
     "output_type": "execute_result"
    },
    {
     "data": {
      "text/plain": [
       "22"
      ]
     },
     "execution_count": 44,
     "metadata": {},
     "output_type": "execute_result"
    },
    {
     "data": {
      "text/plain": [
       "9"
      ]
     },
     "execution_count": 44,
     "metadata": {},
     "output_type": "execute_result"
    },
    {
     "data": {
      "text/plain": [
       "13"
      ]
     },
     "execution_count": 44,
     "metadata": {},
     "output_type": "execute_result"
    },
    {
     "data": {
      "text/plain": [
       "19"
      ]
     },
     "execution_count": 44,
     "metadata": {},
     "output_type": "execute_result"
    },
    {
     "data": {
      "text/plain": [
       "9"
      ]
     },
     "execution_count": 44,
     "metadata": {},
     "output_type": "execute_result"
    },
    {
     "data": {
      "text/plain": [
       "12"
      ]
     },
     "execution_count": 44,
     "metadata": {},
     "output_type": "execute_result"
    },
    {
     "data": {
      "text/plain": [
       "14"
      ]
     },
     "execution_count": 44,
     "metadata": {},
     "output_type": "execute_result"
    },
    {
     "data": {
      "text/plain": [
       "12"
      ]
     },
     "execution_count": 44,
     "metadata": {},
     "output_type": "execute_result"
    },
    {
     "data": {
      "text/plain": [
       "18"
      ]
     },
     "execution_count": 44,
     "metadata": {},
     "output_type": "execute_result"
    },
    {
     "data": {
      "text/plain": [
       "14"
      ]
     },
     "execution_count": 44,
     "metadata": {},
     "output_type": "execute_result"
    },
    {
     "data": {
      "text/plain": [
       "14"
      ]
     },
     "execution_count": 44,
     "metadata": {},
     "output_type": "execute_result"
    },
    {
     "data": {
      "text/plain": [
       "8"
      ]
     },
     "execution_count": 44,
     "metadata": {},
     "output_type": "execute_result"
    },
    {
     "data": {
      "text/plain": [
       "11"
      ]
     },
     "execution_count": 44,
     "metadata": {},
     "output_type": "execute_result"
    },
    {
     "data": {
      "text/plain": [
       "14"
      ]
     },
     "execution_count": 44,
     "metadata": {},
     "output_type": "execute_result"
    },
    {
     "data": {
      "text/plain": [
       "13"
      ]
     },
     "execution_count": 44,
     "metadata": {},
     "output_type": "execute_result"
    },
    {
     "data": {
      "text/plain": [
       "16"
      ]
     },
     "execution_count": 44,
     "metadata": {},
     "output_type": "execute_result"
    },
    {
     "data": {
      "text/plain": [
       "10"
      ]
     },
     "execution_count": 44,
     "metadata": {},
     "output_type": "execute_result"
    },
    {
     "data": {
      "text/plain": [
       "14"
      ]
     },
     "execution_count": 44,
     "metadata": {},
     "output_type": "execute_result"
    },
    {
     "data": {
      "text/plain": [
       "10"
      ]
     },
     "execution_count": 44,
     "metadata": {},
     "output_type": "execute_result"
    },
    {
     "data": {
      "text/plain": [
       "15"
      ]
     },
     "execution_count": 44,
     "metadata": {},
     "output_type": "execute_result"
    },
    {
     "data": {
      "text/plain": [
       "14"
      ]
     },
     "execution_count": 44,
     "metadata": {},
     "output_type": "execute_result"
    }
   ],
   "source": [
    "with open('mgx_only.txt', 'w') as f:\n",
    "    for item in mgx_only:\n",
    "        f.write(\"%s\\n\" % item)"
   ]
  },
  {
   "cell_type": "markdown",
   "metadata": {},
   "source": [
    "### creating long-form dataframe with data from both sequencing methods"
   ]
  },
  {
   "cell_type": "code",
   "execution_count": 45,
   "metadata": {},
   "outputs": [],
   "source": [
    "# only keeping samples we have both mgx and 16S profiles for\n",
    "samples_intersect = set(mgx.columns.values).intersection(set(amplicon.columns.values))"
   ]
  },
  {
   "cell_type": "code",
   "execution_count": 46,
   "metadata": {},
   "outputs": [],
   "source": [
    "# remove mothers\n",
    "children_intersect = [id for id in samples_intersect if not id.startswith(\"M\")]"
   ]
  },
  {
   "cell_type": "code",
   "execution_count": 47,
   "metadata": {},
   "outputs": [
    {
     "data": {
      "text/plain": [
       "'C0202'"
      ]
     },
     "execution_count": 47,
     "metadata": {},
     "output_type": "execute_result"
    }
   ],
   "source": [
    "string = 'C0202-6F-1A'\n",
    "keep = string.split('-')[0]\n",
    "keep"
   ]
  },
  {
   "cell_type": "code",
   "execution_count": 48,
   "metadata": {},
   "outputs": [],
   "source": [
    "# only keep one sample per child\n",
    "\n",
    "subjectIDs = []\n",
    "keep = []\n",
    "\n",
    "for child in children_intersect:\n",
    "    subjectID = child.split('-')[0]\n",
    "    if subjectID not in subjectIDs:\n",
    "        subjectIDs.append(subjectID)\n",
    "        keep.append(child)\n",
    "        "
   ]
  },
  {
   "cell_type": "code",
   "execution_count": 49,
   "metadata": {},
   "outputs": [
    {
     "data": {
      "text/plain": [
       "344"
      ]
     },
     "execution_count": 49,
     "metadata": {},
     "output_type": "execute_result"
    }
   ],
   "source": [
    "# number of unique children (and samples that we will be analyzing)\n",
    "len(keep)"
   ]
  },
  {
   "cell_type": "code",
   "execution_count": 50,
   "metadata": {},
   "outputs": [],
   "source": [
    "mgx = mgx[keep]\n",
    "amplicon = amplicon[keep]"
   ]
  },
  {
   "cell_type": "code",
   "execution_count": 51,
   "metadata": {},
   "outputs": [
    {
     "data": {
      "text/plain": [
       "array([ True,  True,  True,  True,  True,  True,  True,  True,  True,\n",
       "        True,  True,  True,  True,  True,  True,  True,  True,  True,\n",
       "        True,  True,  True,  True,  True,  True,  True,  True,  True,\n",
       "        True,  True,  True,  True,  True,  True,  True,  True,  True,\n",
       "        True,  True,  True,  True,  True,  True,  True,  True,  True,\n",
       "        True,  True,  True,  True,  True,  True,  True,  True,  True,\n",
       "        True,  True,  True,  True,  True,  True,  True,  True,  True,\n",
       "        True,  True,  True,  True,  True,  True,  True,  True,  True,\n",
       "        True,  True,  True,  True,  True,  True,  True,  True,  True,\n",
       "        True,  True,  True,  True,  True,  True,  True,  True,  True,\n",
       "        True,  True,  True,  True,  True,  True,  True,  True,  True,\n",
       "        True,  True,  True,  True,  True,  True,  True,  True,  True,\n",
       "        True,  True,  True,  True,  True,  True,  True,  True,  True,\n",
       "        True,  True,  True,  True,  True,  True,  True,  True,  True,\n",
       "        True,  True,  True,  True,  True,  True,  True,  True,  True,\n",
       "        True,  True,  True,  True,  True,  True,  True,  True,  True,\n",
       "        True,  True,  True,  True,  True,  True,  True,  True,  True,\n",
       "        True,  True,  True,  True,  True,  True,  True,  True,  True,\n",
       "        True,  True,  True,  True,  True,  True,  True,  True,  True,\n",
       "        True,  True,  True,  True,  True,  True,  True,  True,  True,\n",
       "        True,  True,  True,  True,  True,  True,  True,  True,  True,\n",
       "        True,  True,  True,  True,  True,  True,  True,  True,  True,\n",
       "        True,  True,  True,  True,  True,  True,  True,  True,  True,\n",
       "        True,  True,  True,  True,  True,  True,  True,  True,  True,\n",
       "        True,  True,  True,  True,  True,  True,  True,  True,  True,\n",
       "        True,  True,  True,  True,  True,  True,  True,  True,  True,\n",
       "        True,  True,  True,  True,  True,  True,  True,  True,  True,\n",
       "        True,  True,  True,  True,  True,  True,  True,  True,  True,\n",
       "        True,  True,  True,  True,  True,  True,  True,  True,  True,\n",
       "        True,  True,  True,  True,  True,  True,  True,  True,  True,\n",
       "        True,  True,  True,  True,  True,  True,  True,  True,  True,\n",
       "        True,  True,  True,  True,  True,  True,  True,  True,  True,\n",
       "        True,  True,  True,  True,  True,  True,  True,  True,  True,\n",
       "        True,  True,  True,  True,  True,  True,  True,  True,  True,\n",
       "        True,  True,  True,  True,  True,  True,  True,  True,  True,\n",
       "        True,  True,  True,  True,  True,  True,  True,  True,  True,\n",
       "        True,  True,  True,  True,  True,  True,  True,  True,  True,\n",
       "        True,  True,  True,  True,  True,  True,  True,  True,  True,\n",
       "        True,  True])"
      ]
     },
     "execution_count": 51,
     "metadata": {},
     "output_type": "execute_result"
    }
   ],
   "source": [
    "# confirm that we now have the same samples\n",
    "(amplicon.columns.values) == (mgx.columns.values)"
   ]
  },
  {
   "cell_type": "code",
   "execution_count": 52,
   "metadata": {},
   "outputs": [],
   "source": [
    "amplicon_melt = pd.melt(amplicon, id_vars=[\"taxa\"], var_name = \"sampleid\", value_name = \"amplicon_abund\")"
   ]
  },
  {
   "cell_type": "code",
   "execution_count": 53,
   "metadata": {},
   "outputs": [],
   "source": [
    "mgx_melt = pd.melt(mgx, id_vars=[\"taxa\"], var_name = \"sampleid\", value_name = \"mgx_abund\")"
   ]
  },
  {
   "cell_type": "code",
   "execution_count": 54,
   "metadata": {},
   "outputs": [],
   "source": [
    "merged_taxa = pd.merge(amplicon_melt, mgx_melt, on = [\"sampleid\", \"taxa\"], how = \"outer\")"
   ]
  },
  {
   "cell_type": "code",
   "execution_count": 55,
   "metadata": {},
   "outputs": [],
   "source": [
    "merged_taxa.to_csv('taxa_abundance_comparison.csv')"
   ]
  },
  {
   "cell_type": "code",
   "execution_count": 56,
   "metadata": {},
   "outputs": [],
   "source": [
    "merged_taxa[\"abs_diff\"] = abs(merged_taxa[\"amplicon_abund\"] - merged_taxa[\"mgx_abund\"])\n",
    "merged_taxa[\"tot_diff\"] = (merged_taxa[\"amplicon_abund\"] - merged_taxa[\"mgx_abund\"])"
   ]
  },
  {
   "cell_type": "code",
   "execution_count": 57,
   "metadata": {},
   "outputs": [
    {
     "data": {
      "text/html": [
       "<div>\n",
       "<style scoped>\n",
       "    .dataframe tbody tr th:only-of-type {\n",
       "        vertical-align: middle;\n",
       "    }\n",
       "\n",
       "    .dataframe tbody tr th {\n",
       "        vertical-align: top;\n",
       "    }\n",
       "\n",
       "    .dataframe thead th {\n",
       "        text-align: right;\n",
       "    }\n",
       "</style>\n",
       "<table border=\"1\" class=\"dataframe\">\n",
       "  <thead>\n",
       "    <tr style=\"text-align: right;\">\n",
       "      <th></th>\n",
       "      <th>taxa</th>\n",
       "      <th>sampleid</th>\n",
       "      <th>amplicon_abund</th>\n",
       "      <th>mgx_abund</th>\n",
       "      <th>abs_diff</th>\n",
       "      <th>tot_diff</th>\n",
       "    </tr>\n",
       "  </thead>\n",
       "  <tbody>\n",
       "    <tr>\n",
       "      <th>8980</th>\n",
       "      <td>Erythrobacter</td>\n",
       "      <td>C0062-6F-1A</td>\n",
       "      <td>0.0</td>\n",
       "      <td>NaN</td>\n",
       "      <td>NaN</td>\n",
       "      <td>NaN</td>\n",
       "    </tr>\n",
       "    <tr>\n",
       "      <th>76361</th>\n",
       "      <td>Gracilibacteraceae</td>\n",
       "      <td>C0720-1F-1A</td>\n",
       "      <td>0.0</td>\n",
       "      <td>NaN</td>\n",
       "      <td>NaN</td>\n",
       "      <td>NaN</td>\n",
       "    </tr>\n",
       "    <tr>\n",
       "      <th>58517</th>\n",
       "      <td>Tyzzerella</td>\n",
       "      <td>C0495-2F-1A</td>\n",
       "      <td>0.0</td>\n",
       "      <td>0.0</td>\n",
       "      <td>0.0</td>\n",
       "      <td>0.0</td>\n",
       "    </tr>\n",
       "    <tr>\n",
       "      <th>20135</th>\n",
       "      <td>Selenomonas</td>\n",
       "      <td>C0127-8F-1A</td>\n",
       "      <td>0.0</td>\n",
       "      <td>NaN</td>\n",
       "      <td>NaN</td>\n",
       "      <td>NaN</td>\n",
       "    </tr>\n",
       "    <tr>\n",
       "      <th>38321</th>\n",
       "      <td>Vibrio</td>\n",
       "      <td>C0704-1F-1A</td>\n",
       "      <td>0.0</td>\n",
       "      <td>NaN</td>\n",
       "      <td>NaN</td>\n",
       "      <td>NaN</td>\n",
       "    </tr>\n",
       "    <tr>\n",
       "      <th>103596</th>\n",
       "      <td>Woeseia</td>\n",
       "      <td>C0853-1F-1A</td>\n",
       "      <td>0.0</td>\n",
       "      <td>NaN</td>\n",
       "      <td>NaN</td>\n",
       "      <td>NaN</td>\n",
       "    </tr>\n",
       "    <tr>\n",
       "      <th>132217</th>\n",
       "      <td>Crenobacter</td>\n",
       "      <td>C0477-5F-1A</td>\n",
       "      <td>0.0</td>\n",
       "      <td>NaN</td>\n",
       "      <td>NaN</td>\n",
       "      <td>NaN</td>\n",
       "    </tr>\n",
       "    <tr>\n",
       "      <th>68648</th>\n",
       "      <td>Leucothrix</td>\n",
       "      <td>C0864-5F-1A</td>\n",
       "      <td>0.0</td>\n",
       "      <td>NaN</td>\n",
       "      <td>NaN</td>\n",
       "      <td>NaN</td>\n",
       "    </tr>\n",
       "    <tr>\n",
       "      <th>136512</th>\n",
       "      <td>Longimicrobium</td>\n",
       "      <td>C0597-3F-1A</td>\n",
       "      <td>0.0</td>\n",
       "      <td>NaN</td>\n",
       "      <td>NaN</td>\n",
       "      <td>NaN</td>\n",
       "    </tr>\n",
       "    <tr>\n",
       "      <th>148908</th>\n",
       "      <td>Intestinimonas</td>\n",
       "      <td>C0307-4F-1A</td>\n",
       "      <td>0.0</td>\n",
       "      <td>0.0</td>\n",
       "      <td>0.0</td>\n",
       "      <td>0.0</td>\n",
       "    </tr>\n",
       "  </tbody>\n",
       "</table>\n",
       "</div>"
      ],
      "text/plain": [
       "                      taxa     sampleid  amplicon_abund  mgx_abund  abs_diff  \\\n",
       "8980         Erythrobacter  C0062-6F-1A             0.0        NaN       NaN   \n",
       "76361   Gracilibacteraceae  C0720-1F-1A             0.0        NaN       NaN   \n",
       "58517           Tyzzerella  C0495-2F-1A             0.0        0.0       0.0   \n",
       "20135          Selenomonas  C0127-8F-1A             0.0        NaN       NaN   \n",
       "38321               Vibrio  C0704-1F-1A             0.0        NaN       NaN   \n",
       "103596             Woeseia  C0853-1F-1A             0.0        NaN       NaN   \n",
       "132217         Crenobacter  C0477-5F-1A             0.0        NaN       NaN   \n",
       "68648           Leucothrix  C0864-5F-1A             0.0        NaN       NaN   \n",
       "136512      Longimicrobium  C0597-3F-1A             0.0        NaN       NaN   \n",
       "148908      Intestinimonas  C0307-4F-1A             0.0        0.0       0.0   \n",
       "\n",
       "        tot_diff  \n",
       "8980         NaN  \n",
       "76361        NaN  \n",
       "58517        0.0  \n",
       "20135        NaN  \n",
       "38321        NaN  \n",
       "103596       NaN  \n",
       "132217       NaN  \n",
       "68648        NaN  \n",
       "136512       NaN  \n",
       "148908       0.0  "
      ]
     },
     "execution_count": 57,
     "metadata": {},
     "output_type": "execute_result"
    }
   ],
   "source": [
    "merged_taxa.sample(10)"
   ]
  },
  {
   "cell_type": "code",
   "execution_count": 58,
   "metadata": {},
   "outputs": [],
   "source": [
    "merged_taxa.fillna(0, inplace=True)"
   ]
  },
  {
   "cell_type": "code",
   "execution_count": 59,
   "metadata": {},
   "outputs": [],
   "source": [
    "amplicon_avg_abund = merged_taxa.groupby(\"taxa\")[\"amplicon_abund\"].mean()\n",
    "mgx_avg_abund = merged_taxa.groupby(\"taxa\")[\"mgx_abund\"].mean()\n",
    "taxa_list = sorted(set(merged_taxa[\"taxa\"]))"
   ]
  },
  {
   "cell_type": "code",
   "execution_count": 60,
   "metadata": {},
   "outputs": [],
   "source": [
    "mean_taxa_abund = pd.DataFrame(\n",
    "    (zip(taxa_list, amplicon_avg_abund, mgx_avg_abund)),  \n",
    "    columns = ['taxa','amp_avg_abund', 'mgx_avg_abund'])"
   ]
  },
  {
   "cell_type": "code",
   "execution_count": 61,
   "metadata": {},
   "outputs": [],
   "source": [
    "mean_taxa_abund[\"abs_diff\"] = abs(mean_taxa_abund[\"amp_avg_abund\"] - mean_taxa_abund[\"mgx_avg_abund\"])\n",
    "mean_taxa_abund[\"total_diff\"] = mean_taxa_abund[\"amp_avg_abund\"] - mean_taxa_abund[\"mgx_avg_abund\"]"
   ]
  },
  {
   "cell_type": "code",
   "execution_count": 62,
   "metadata": {},
   "outputs": [],
   "source": [
    "mean_taxa_abund.sort_values(\"abs_diff\", axis = 0, ascending = True, \n",
    "                 inplace = True, na_position ='last')"
   ]
  },
  {
   "cell_type": "code",
   "execution_count": 63,
   "metadata": {},
   "outputs": [
    {
     "data": {
      "text/html": [
       "<div>\n",
       "<style scoped>\n",
       "    .dataframe tbody tr th:only-of-type {\n",
       "        vertical-align: middle;\n",
       "    }\n",
       "\n",
       "    .dataframe tbody tr th {\n",
       "        vertical-align: top;\n",
       "    }\n",
       "\n",
       "    .dataframe thead th {\n",
       "        text-align: right;\n",
       "    }\n",
       "</style>\n",
       "<table border=\"1\" class=\"dataframe\">\n",
       "  <thead>\n",
       "    <tr style=\"text-align: right;\">\n",
       "      <th></th>\n",
       "      <th>taxa</th>\n",
       "      <th>amp_avg_abund</th>\n",
       "      <th>mgx_avg_abund</th>\n",
       "      <th>abs_diff</th>\n",
       "      <th>total_diff</th>\n",
       "    </tr>\n",
       "  </thead>\n",
       "  <tbody>\n",
       "    <tr>\n",
       "      <th>403</th>\n",
       "      <td>Phoma</td>\n",
       "      <td>0.000000e+00</td>\n",
       "      <td>0.000000</td>\n",
       "      <td>0.000000e+00</td>\n",
       "      <td>0.000000e+00</td>\n",
       "    </tr>\n",
       "    <tr>\n",
       "      <th>537</th>\n",
       "      <td>Turicimonas</td>\n",
       "      <td>0.000000e+00</td>\n",
       "      <td>0.000122</td>\n",
       "      <td>1.215612e-04</td>\n",
       "      <td>-1.215612e-04</td>\n",
       "    </tr>\n",
       "    <tr>\n",
       "      <th>59</th>\n",
       "      <td>Arenicella</td>\n",
       "      <td>3.058309e-07</td>\n",
       "      <td>0.000000</td>\n",
       "      <td>3.058309e-07</td>\n",
       "      <td>3.058309e-07</td>\n",
       "    </tr>\n",
       "    <tr>\n",
       "      <th>369</th>\n",
       "      <td>Oryzihumus</td>\n",
       "      <td>0.000000e+00</td>\n",
       "      <td>0.000000</td>\n",
       "      <td>0.000000e+00</td>\n",
       "      <td>0.000000e+00</td>\n",
       "    </tr>\n",
       "    <tr>\n",
       "      <th>58</th>\n",
       "      <td>Arcicella</td>\n",
       "      <td>3.564898e-07</td>\n",
       "      <td>0.000000</td>\n",
       "      <td>3.564898e-07</td>\n",
       "      <td>3.564898e-07</td>\n",
       "    </tr>\n",
       "    <tr>\n",
       "      <th>225</th>\n",
       "      <td>Gemmata</td>\n",
       "      <td>5.218659e-08</td>\n",
       "      <td>0.000000</td>\n",
       "      <td>5.218659e-08</td>\n",
       "      <td>5.218659e-08</td>\n",
       "    </tr>\n",
       "    <tr>\n",
       "      <th>524</th>\n",
       "      <td>Terrimonas</td>\n",
       "      <td>4.443295e-07</td>\n",
       "      <td>0.000000</td>\n",
       "      <td>4.443295e-07</td>\n",
       "      <td>4.443295e-07</td>\n",
       "    </tr>\n",
       "    <tr>\n",
       "      <th>472</th>\n",
       "      <td>Ruthenibacterium</td>\n",
       "      <td>0.000000e+00</td>\n",
       "      <td>0.001791</td>\n",
       "      <td>1.790833e-03</td>\n",
       "      <td>-1.790833e-03</td>\n",
       "    </tr>\n",
       "    <tr>\n",
       "      <th>371</th>\n",
       "      <td>Oscillospira</td>\n",
       "      <td>4.568051e-05</td>\n",
       "      <td>0.000000</td>\n",
       "      <td>4.568051e-05</td>\n",
       "      <td>4.568051e-05</td>\n",
       "    </tr>\n",
       "    <tr>\n",
       "      <th>165</th>\n",
       "      <td>Draconibacterium</td>\n",
       "      <td>9.600466e-07</td>\n",
       "      <td>0.000000</td>\n",
       "      <td>9.600466e-07</td>\n",
       "      <td>9.600466e-07</td>\n",
       "    </tr>\n",
       "  </tbody>\n",
       "</table>\n",
       "</div>"
      ],
      "text/plain": [
       "                 taxa  amp_avg_abund  mgx_avg_abund      abs_diff  \\\n",
       "403             Phoma   0.000000e+00       0.000000  0.000000e+00   \n",
       "537       Turicimonas   0.000000e+00       0.000122  1.215612e-04   \n",
       "59         Arenicella   3.058309e-07       0.000000  3.058309e-07   \n",
       "369        Oryzihumus   0.000000e+00       0.000000  0.000000e+00   \n",
       "58          Arcicella   3.564898e-07       0.000000  3.564898e-07   \n",
       "225           Gemmata   5.218659e-08       0.000000  5.218659e-08   \n",
       "524        Terrimonas   4.443295e-07       0.000000  4.443295e-07   \n",
       "472  Ruthenibacterium   0.000000e+00       0.001791  1.790833e-03   \n",
       "371      Oscillospira   4.568051e-05       0.000000  4.568051e-05   \n",
       "165  Draconibacterium   9.600466e-07       0.000000  9.600466e-07   \n",
       "\n",
       "       total_diff  \n",
       "403  0.000000e+00  \n",
       "537 -1.215612e-04  \n",
       "59   3.058309e-07  \n",
       "369  0.000000e+00  \n",
       "58   3.564898e-07  \n",
       "225  5.218659e-08  \n",
       "524  4.443295e-07  \n",
       "472 -1.790833e-03  \n",
       "371  4.568051e-05  \n",
       "165  9.600466e-07  "
      ]
     },
     "execution_count": 63,
     "metadata": {},
     "output_type": "execute_result"
    }
   ],
   "source": [
    "mean_taxa_abund.sample(10)"
   ]
  },
  {
   "cell_type": "code",
   "execution_count": 64,
   "metadata": {},
   "outputs": [],
   "source": [
    "mean_taxa_abund.to_csv('taxa_difference.csv')"
   ]
  },
  {
   "cell_type": "markdown",
   "metadata": {},
   "source": [
    "## making giant dataframe of abundances"
   ]
  },
  {
   "cell_type": "code",
   "execution_count": 65,
   "metadata": {},
   "outputs": [],
   "source": [
    "amp_trans = amplicon.set_index(\"taxa\").transpose()"
   ]
  },
  {
   "cell_type": "code",
   "execution_count": 66,
   "metadata": {},
   "outputs": [],
   "source": [
    "amp_trans.reset_index(level=0, inplace=True)"
   ]
  },
  {
   "cell_type": "code",
   "execution_count": 67,
   "metadata": {},
   "outputs": [],
   "source": [
    "amp_trans.rename(columns = {'index':'sampleid'}, inplace = True) "
   ]
  },
  {
   "cell_type": "code",
   "execution_count": 68,
   "metadata": {},
   "outputs": [],
   "source": [
    "amp_trans[\"uid\"] = amp_trans[\"sampleid\"].astype(str)+'-amp'"
   ]
  },
  {
   "cell_type": "code",
   "execution_count": 69,
   "metadata": {},
   "outputs": [],
   "source": [
    "amp_trans[\"method\"] = \"amp\""
   ]
  },
  {
   "cell_type": "code",
   "execution_count": 70,
   "metadata": {},
   "outputs": [
    {
     "data": {
      "text/html": [
       "<div>\n",
       "<style scoped>\n",
       "    .dataframe tbody tr th:only-of-type {\n",
       "        vertical-align: middle;\n",
       "    }\n",
       "\n",
       "    .dataframe tbody tr th {\n",
       "        vertical-align: top;\n",
       "    }\n",
       "\n",
       "    .dataframe thead th {\n",
       "        text-align: right;\n",
       "    }\n",
       "</style>\n",
       "<table border=\"1\" class=\"dataframe\">\n",
       "  <thead>\n",
       "    <tr style=\"text-align: right;\">\n",
       "      <th>taxa</th>\n",
       "      <th>sampleid</th>\n",
       "      <th>Abditibacterium</th>\n",
       "      <th>Abiotrophia</th>\n",
       "      <th>Acetanaerobacterium</th>\n",
       "      <th>Acetobacter</th>\n",
       "      <th>Achromobacter</th>\n",
       "      <th>Acidaminococcus</th>\n",
       "      <th>Acidipila</th>\n",
       "      <th>Acinetobacter</th>\n",
       "      <th>Actibacter</th>\n",
       "      <th>...</th>\n",
       "      <th>Victivallaceae</th>\n",
       "      <th>Victivallis</th>\n",
       "      <th>Weissella</th>\n",
       "      <th>Winogradskyella</th>\n",
       "      <th>Woeseia</th>\n",
       "      <th>Yoonia-Loktanella</th>\n",
       "      <th>Yueomyces</th>\n",
       "      <th>Zavarzinella</th>\n",
       "      <th>uid</th>\n",
       "      <th>method</th>\n",
       "    </tr>\n",
       "  </thead>\n",
       "  <tbody>\n",
       "    <tr>\n",
       "      <th>0</th>\n",
       "      <td>C0915-4F-1A</td>\n",
       "      <td>0.0</td>\n",
       "      <td>0.0</td>\n",
       "      <td>0.0</td>\n",
       "      <td>0.0</td>\n",
       "      <td>0.0</td>\n",
       "      <td>0.0</td>\n",
       "      <td>0.0</td>\n",
       "      <td>0.0</td>\n",
       "      <td>0.0</td>\n",
       "      <td>...</td>\n",
       "      <td>0.0</td>\n",
       "      <td>0.0</td>\n",
       "      <td>0.0</td>\n",
       "      <td>0.0</td>\n",
       "      <td>0.0</td>\n",
       "      <td>0.0</td>\n",
       "      <td>0.0</td>\n",
       "      <td>0.0</td>\n",
       "      <td>C0915-4F-1A-amp</td>\n",
       "      <td>amp</td>\n",
       "    </tr>\n",
       "    <tr>\n",
       "      <th>1</th>\n",
       "      <td>C0577-1F-1A</td>\n",
       "      <td>0.0</td>\n",
       "      <td>0.0</td>\n",
       "      <td>0.0</td>\n",
       "      <td>0.0</td>\n",
       "      <td>0.0</td>\n",
       "      <td>0.0</td>\n",
       "      <td>0.0</td>\n",
       "      <td>0.0</td>\n",
       "      <td>0.0</td>\n",
       "      <td>...</td>\n",
       "      <td>0.0</td>\n",
       "      <td>0.0</td>\n",
       "      <td>0.0</td>\n",
       "      <td>0.0</td>\n",
       "      <td>0.0</td>\n",
       "      <td>0.0</td>\n",
       "      <td>0.0</td>\n",
       "      <td>0.0</td>\n",
       "      <td>C0577-1F-1A-amp</td>\n",
       "      <td>amp</td>\n",
       "    </tr>\n",
       "    <tr>\n",
       "      <th>2</th>\n",
       "      <td>C0061-6F-1A</td>\n",
       "      <td>0.0</td>\n",
       "      <td>0.0</td>\n",
       "      <td>0.0</td>\n",
       "      <td>0.0</td>\n",
       "      <td>0.0</td>\n",
       "      <td>0.0</td>\n",
       "      <td>0.0</td>\n",
       "      <td>0.0</td>\n",
       "      <td>0.0</td>\n",
       "      <td>...</td>\n",
       "      <td>0.0</td>\n",
       "      <td>0.0</td>\n",
       "      <td>0.0</td>\n",
       "      <td>0.0</td>\n",
       "      <td>0.0</td>\n",
       "      <td>0.0</td>\n",
       "      <td>0.0</td>\n",
       "      <td>0.0</td>\n",
       "      <td>C0061-6F-1A-amp</td>\n",
       "      <td>amp</td>\n",
       "    </tr>\n",
       "    <tr>\n",
       "      <th>3</th>\n",
       "      <td>C0592-1F-1A</td>\n",
       "      <td>0.0</td>\n",
       "      <td>0.0</td>\n",
       "      <td>0.0</td>\n",
       "      <td>0.0</td>\n",
       "      <td>0.0</td>\n",
       "      <td>0.0</td>\n",
       "      <td>0.0</td>\n",
       "      <td>0.0</td>\n",
       "      <td>0.0</td>\n",
       "      <td>...</td>\n",
       "      <td>0.0</td>\n",
       "      <td>0.0</td>\n",
       "      <td>0.0</td>\n",
       "      <td>0.0</td>\n",
       "      <td>0.0</td>\n",
       "      <td>0.0</td>\n",
       "      <td>0.0</td>\n",
       "      <td>0.0</td>\n",
       "      <td>C0592-1F-1A-amp</td>\n",
       "      <td>amp</td>\n",
       "    </tr>\n",
       "    <tr>\n",
       "      <th>4</th>\n",
       "      <td>C0521-1F-2A</td>\n",
       "      <td>0.0</td>\n",
       "      <td>0.0</td>\n",
       "      <td>0.0</td>\n",
       "      <td>0.0</td>\n",
       "      <td>0.0</td>\n",
       "      <td>0.0</td>\n",
       "      <td>0.0</td>\n",
       "      <td>0.0</td>\n",
       "      <td>0.0</td>\n",
       "      <td>...</td>\n",
       "      <td>0.0</td>\n",
       "      <td>0.0</td>\n",
       "      <td>0.0</td>\n",
       "      <td>0.0</td>\n",
       "      <td>0.0</td>\n",
       "      <td>0.0</td>\n",
       "      <td>0.0</td>\n",
       "      <td>0.0</td>\n",
       "      <td>C0521-1F-2A-amp</td>\n",
       "      <td>amp</td>\n",
       "    </tr>\n",
       "  </tbody>\n",
       "</table>\n",
       "<p>5 rows × 521 columns</p>\n",
       "</div>"
      ],
      "text/plain": [
       "taxa     sampleid  Abditibacterium  Abiotrophia  Acetanaerobacterium  \\\n",
       "0     C0915-4F-1A              0.0          0.0                  0.0   \n",
       "1     C0577-1F-1A              0.0          0.0                  0.0   \n",
       "2     C0061-6F-1A              0.0          0.0                  0.0   \n",
       "3     C0592-1F-1A              0.0          0.0                  0.0   \n",
       "4     C0521-1F-2A              0.0          0.0                  0.0   \n",
       "\n",
       "taxa  Acetobacter  Achromobacter  Acidaminococcus  Acidipila  Acinetobacter  \\\n",
       "0             0.0            0.0              0.0        0.0            0.0   \n",
       "1             0.0            0.0              0.0        0.0            0.0   \n",
       "2             0.0            0.0              0.0        0.0            0.0   \n",
       "3             0.0            0.0              0.0        0.0            0.0   \n",
       "4             0.0            0.0              0.0        0.0            0.0   \n",
       "\n",
       "taxa  Actibacter  ...  Victivallaceae  Victivallis  Weissella  \\\n",
       "0            0.0  ...             0.0          0.0        0.0   \n",
       "1            0.0  ...             0.0          0.0        0.0   \n",
       "2            0.0  ...             0.0          0.0        0.0   \n",
       "3            0.0  ...             0.0          0.0        0.0   \n",
       "4            0.0  ...             0.0          0.0        0.0   \n",
       "\n",
       "taxa  Winogradskyella  Woeseia  Yoonia-Loktanella  Yueomyces  Zavarzinella  \\\n",
       "0                 0.0      0.0                0.0        0.0           0.0   \n",
       "1                 0.0      0.0                0.0        0.0           0.0   \n",
       "2                 0.0      0.0                0.0        0.0           0.0   \n",
       "3                 0.0      0.0                0.0        0.0           0.0   \n",
       "4                 0.0      0.0                0.0        0.0           0.0   \n",
       "\n",
       "taxa              uid  method  \n",
       "0     C0915-4F-1A-amp     amp  \n",
       "1     C0577-1F-1A-amp     amp  \n",
       "2     C0061-6F-1A-amp     amp  \n",
       "3     C0592-1F-1A-amp     amp  \n",
       "4     C0521-1F-2A-amp     amp  \n",
       "\n",
       "[5 rows x 521 columns]"
      ]
     },
     "execution_count": 70,
     "metadata": {},
     "output_type": "execute_result"
    }
   ],
   "source": [
    "amp_trans.head()"
   ]
  },
  {
   "cell_type": "code",
   "execution_count": 71,
   "metadata": {},
   "outputs": [],
   "source": [
    "mgx_trans = mgx.set_index(\"taxa\").transpose()"
   ]
  },
  {
   "cell_type": "code",
   "execution_count": 72,
   "metadata": {},
   "outputs": [],
   "source": [
    "mgx_trans.reset_index(level=0, inplace=True)"
   ]
  },
  {
   "cell_type": "code",
   "execution_count": 73,
   "metadata": {},
   "outputs": [],
   "source": [
    "mgx_trans.rename(columns = {'index':'sampleid'}, inplace = True)"
   ]
  },
  {
   "cell_type": "code",
   "execution_count": 74,
   "metadata": {},
   "outputs": [],
   "source": [
    "mgx_trans[\"uid\"] = mgx_trans[\"sampleid\"].astype(str)+'-mgx'"
   ]
  },
  {
   "cell_type": "code",
   "execution_count": 75,
   "metadata": {},
   "outputs": [],
   "source": [
    "mgx_trans[\"method\"] = \"mgx\""
   ]
  },
  {
   "cell_type": "code",
   "execution_count": 76,
   "metadata": {},
   "outputs": [
    {
     "data": {
      "text/html": [
       "<div>\n",
       "<style scoped>\n",
       "    .dataframe tbody tr th:only-of-type {\n",
       "        vertical-align: middle;\n",
       "    }\n",
       "\n",
       "    .dataframe tbody tr th {\n",
       "        vertical-align: top;\n",
       "    }\n",
       "\n",
       "    .dataframe thead th {\n",
       "        text-align: right;\n",
       "    }\n",
       "</style>\n",
       "<table border=\"1\" class=\"dataframe\">\n",
       "  <thead>\n",
       "    <tr style=\"text-align: right;\">\n",
       "      <th>taxa</th>\n",
       "      <th>sampleid</th>\n",
       "      <th>Bacteroides</th>\n",
       "      <th>Roseburia</th>\n",
       "      <th>Faecalibacterium</th>\n",
       "      <th>Ruminococcus</th>\n",
       "      <th>Bifidobacterium</th>\n",
       "      <th>Blautia</th>\n",
       "      <th>Fusicatenibacter</th>\n",
       "      <th>Eubacterium</th>\n",
       "      <th>Streptococcus</th>\n",
       "      <th>...</th>\n",
       "      <th>Kosakonia</th>\n",
       "      <th>Paeniclostridium</th>\n",
       "      <th>Eikenella</th>\n",
       "      <th>Actinotignum</th>\n",
       "      <th>Muribaculum</th>\n",
       "      <th>Cellulosilyticum</th>\n",
       "      <th>Delftia</th>\n",
       "      <th>UNCLASSIFIED</th>\n",
       "      <th>uid</th>\n",
       "      <th>method</th>\n",
       "    </tr>\n",
       "  </thead>\n",
       "  <tbody>\n",
       "    <tr>\n",
       "      <th>0</th>\n",
       "      <td>C0915-4F-1A</td>\n",
       "      <td>0.505630</td>\n",
       "      <td>0.000000</td>\n",
       "      <td>0.000000</td>\n",
       "      <td>0.000000</td>\n",
       "      <td>0.042840</td>\n",
       "      <td>0.174137</td>\n",
       "      <td>0.000000</td>\n",
       "      <td>0.000000</td>\n",
       "      <td>0.000000</td>\n",
       "      <td>...</td>\n",
       "      <td>0.0</td>\n",
       "      <td>0.0</td>\n",
       "      <td>0.0</td>\n",
       "      <td>0.0</td>\n",
       "      <td>0.0</td>\n",
       "      <td>0.0</td>\n",
       "      <td>0.0</td>\n",
       "      <td>0.000000</td>\n",
       "      <td>C0915-4F-1A-mgx</td>\n",
       "      <td>mgx</td>\n",
       "    </tr>\n",
       "    <tr>\n",
       "      <th>1</th>\n",
       "      <td>C0577-1F-1A</td>\n",
       "      <td>0.630697</td>\n",
       "      <td>0.053045</td>\n",
       "      <td>0.052880</td>\n",
       "      <td>0.000731</td>\n",
       "      <td>0.025253</td>\n",
       "      <td>0.036852</td>\n",
       "      <td>0.011669</td>\n",
       "      <td>0.009109</td>\n",
       "      <td>0.010352</td>\n",
       "      <td>...</td>\n",
       "      <td>0.0</td>\n",
       "      <td>0.0</td>\n",
       "      <td>0.0</td>\n",
       "      <td>0.0</td>\n",
       "      <td>0.0</td>\n",
       "      <td>0.0</td>\n",
       "      <td>0.0</td>\n",
       "      <td>0.054926</td>\n",
       "      <td>C0577-1F-1A-mgx</td>\n",
       "      <td>mgx</td>\n",
       "    </tr>\n",
       "    <tr>\n",
       "      <th>2</th>\n",
       "      <td>C0061-6F-1A</td>\n",
       "      <td>0.188099</td>\n",
       "      <td>0.002322</td>\n",
       "      <td>0.158600</td>\n",
       "      <td>0.002863</td>\n",
       "      <td>0.010010</td>\n",
       "      <td>0.040635</td>\n",
       "      <td>0.040964</td>\n",
       "      <td>0.021648</td>\n",
       "      <td>0.001541</td>\n",
       "      <td>...</td>\n",
       "      <td>0.0</td>\n",
       "      <td>0.0</td>\n",
       "      <td>0.0</td>\n",
       "      <td>0.0</td>\n",
       "      <td>0.0</td>\n",
       "      <td>0.0</td>\n",
       "      <td>0.0</td>\n",
       "      <td>0.080185</td>\n",
       "      <td>C0061-6F-1A-mgx</td>\n",
       "      <td>mgx</td>\n",
       "    </tr>\n",
       "    <tr>\n",
       "      <th>3</th>\n",
       "      <td>C0592-1F-1A</td>\n",
       "      <td>0.260330</td>\n",
       "      <td>0.006396</td>\n",
       "      <td>0.011412</td>\n",
       "      <td>0.093125</td>\n",
       "      <td>0.190601</td>\n",
       "      <td>0.056237</td>\n",
       "      <td>0.000000</td>\n",
       "      <td>0.003011</td>\n",
       "      <td>0.001933</td>\n",
       "      <td>...</td>\n",
       "      <td>0.0</td>\n",
       "      <td>0.0</td>\n",
       "      <td>0.0</td>\n",
       "      <td>0.0</td>\n",
       "      <td>0.0</td>\n",
       "      <td>0.0</td>\n",
       "      <td>0.0</td>\n",
       "      <td>0.050952</td>\n",
       "      <td>C0592-1F-1A-mgx</td>\n",
       "      <td>mgx</td>\n",
       "    </tr>\n",
       "    <tr>\n",
       "      <th>4</th>\n",
       "      <td>C0521-1F-2A</td>\n",
       "      <td>0.361576</td>\n",
       "      <td>0.134187</td>\n",
       "      <td>0.077194</td>\n",
       "      <td>0.035297</td>\n",
       "      <td>0.016160</td>\n",
       "      <td>0.029726</td>\n",
       "      <td>0.008775</td>\n",
       "      <td>0.054712</td>\n",
       "      <td>0.001893</td>\n",
       "      <td>...</td>\n",
       "      <td>0.0</td>\n",
       "      <td>0.0</td>\n",
       "      <td>0.0</td>\n",
       "      <td>0.0</td>\n",
       "      <td>0.0</td>\n",
       "      <td>0.0</td>\n",
       "      <td>0.0</td>\n",
       "      <td>0.081333</td>\n",
       "      <td>C0521-1F-2A-mgx</td>\n",
       "      <td>mgx</td>\n",
       "    </tr>\n",
       "  </tbody>\n",
       "</table>\n",
       "<p>5 rows × 188 columns</p>\n",
       "</div>"
      ],
      "text/plain": [
       "taxa     sampleid  Bacteroides  Roseburia  Faecalibacterium  Ruminococcus  \\\n",
       "0     C0915-4F-1A     0.505630   0.000000          0.000000      0.000000   \n",
       "1     C0577-1F-1A     0.630697   0.053045          0.052880      0.000731   \n",
       "2     C0061-6F-1A     0.188099   0.002322          0.158600      0.002863   \n",
       "3     C0592-1F-1A     0.260330   0.006396          0.011412      0.093125   \n",
       "4     C0521-1F-2A     0.361576   0.134187          0.077194      0.035297   \n",
       "\n",
       "taxa  Bifidobacterium   Blautia  Fusicatenibacter  Eubacterium  Streptococcus  \\\n",
       "0            0.042840  0.174137          0.000000     0.000000       0.000000   \n",
       "1            0.025253  0.036852          0.011669     0.009109       0.010352   \n",
       "2            0.010010  0.040635          0.040964     0.021648       0.001541   \n",
       "3            0.190601  0.056237          0.000000     0.003011       0.001933   \n",
       "4            0.016160  0.029726          0.008775     0.054712       0.001893   \n",
       "\n",
       "taxa  ...  Kosakonia  Paeniclostridium  Eikenella  Actinotignum  Muribaculum  \\\n",
       "0     ...        0.0               0.0        0.0           0.0          0.0   \n",
       "1     ...        0.0               0.0        0.0           0.0          0.0   \n",
       "2     ...        0.0               0.0        0.0           0.0          0.0   \n",
       "3     ...        0.0               0.0        0.0           0.0          0.0   \n",
       "4     ...        0.0               0.0        0.0           0.0          0.0   \n",
       "\n",
       "taxa  Cellulosilyticum  Delftia  UNCLASSIFIED              uid  method  \n",
       "0                  0.0      0.0      0.000000  C0915-4F-1A-mgx     mgx  \n",
       "1                  0.0      0.0      0.054926  C0577-1F-1A-mgx     mgx  \n",
       "2                  0.0      0.0      0.080185  C0061-6F-1A-mgx     mgx  \n",
       "3                  0.0      0.0      0.050952  C0592-1F-1A-mgx     mgx  \n",
       "4                  0.0      0.0      0.081333  C0521-1F-2A-mgx     mgx  \n",
       "\n",
       "[5 rows x 188 columns]"
      ]
     },
     "execution_count": 76,
     "metadata": {},
     "output_type": "execute_result"
    }
   ],
   "source": [
    "mgx_trans.head()"
   ]
  },
  {
   "cell_type": "code",
   "execution_count": 77,
   "metadata": {},
   "outputs": [],
   "source": [
    "concat_df = pd.concat([mgx_trans,amp_trans], sort=True).reset_index(drop = True)"
   ]
  },
  {
   "cell_type": "code",
   "execution_count": 78,
   "metadata": {},
   "outputs": [],
   "source": [
    "concat_df.fillna(0, inplace=True)"
   ]
  },
  {
   "cell_type": "code",
   "execution_count": 79,
   "metadata": {},
   "outputs": [
    {
     "data": {
      "text/html": [
       "<div>\n",
       "<style scoped>\n",
       "    .dataframe tbody tr th:only-of-type {\n",
       "        vertical-align: middle;\n",
       "    }\n",
       "\n",
       "    .dataframe tbody tr th {\n",
       "        vertical-align: top;\n",
       "    }\n",
       "\n",
       "    .dataframe thead th {\n",
       "        text-align: right;\n",
       "    }\n",
       "</style>\n",
       "<table border=\"1\" class=\"dataframe\">\n",
       "  <thead>\n",
       "    <tr style=\"text-align: right;\">\n",
       "      <th></th>\n",
       "      <th>Abditibacterium</th>\n",
       "      <th>Abiotrophia</th>\n",
       "      <th>Absiella</th>\n",
       "      <th>Acetanaerobacterium</th>\n",
       "      <th>Acetobacter</th>\n",
       "      <th>Achromobacter</th>\n",
       "      <th>Acidaminococcus</th>\n",
       "      <th>Acidipila</th>\n",
       "      <th>Acinetobacter</th>\n",
       "      <th>Actibacter</th>\n",
       "      <th>...</th>\n",
       "      <th>Victivallis</th>\n",
       "      <th>Weissella</th>\n",
       "      <th>Winogradskyella</th>\n",
       "      <th>Woeseia</th>\n",
       "      <th>Yoonia-Loktanella</th>\n",
       "      <th>Yueomyces</th>\n",
       "      <th>Zavarzinella</th>\n",
       "      <th>method</th>\n",
       "      <th>sampleid</th>\n",
       "      <th>uid</th>\n",
       "    </tr>\n",
       "  </thead>\n",
       "  <tbody>\n",
       "    <tr>\n",
       "      <th>0</th>\n",
       "      <td>0.0</td>\n",
       "      <td>0.0</td>\n",
       "      <td>0.0</td>\n",
       "      <td>0.0</td>\n",
       "      <td>0.000000</td>\n",
       "      <td>0.0</td>\n",
       "      <td>0.000000</td>\n",
       "      <td>0.0</td>\n",
       "      <td>0.000000</td>\n",
       "      <td>0.0</td>\n",
       "      <td>...</td>\n",
       "      <td>0.000000</td>\n",
       "      <td>0.0</td>\n",
       "      <td>0.0</td>\n",
       "      <td>0.0</td>\n",
       "      <td>0.0</td>\n",
       "      <td>0.0</td>\n",
       "      <td>0.0</td>\n",
       "      <td>mgx</td>\n",
       "      <td>C0915-4F-1A</td>\n",
       "      <td>C0915-4F-1A-mgx</td>\n",
       "    </tr>\n",
       "    <tr>\n",
       "      <th>1</th>\n",
       "      <td>0.0</td>\n",
       "      <td>0.0</td>\n",
       "      <td>0.0</td>\n",
       "      <td>0.0</td>\n",
       "      <td>0.000000</td>\n",
       "      <td>0.0</td>\n",
       "      <td>0.000000</td>\n",
       "      <td>0.0</td>\n",
       "      <td>0.000000</td>\n",
       "      <td>0.0</td>\n",
       "      <td>...</td>\n",
       "      <td>0.000000</td>\n",
       "      <td>0.0</td>\n",
       "      <td>0.0</td>\n",
       "      <td>0.0</td>\n",
       "      <td>0.0</td>\n",
       "      <td>0.0</td>\n",
       "      <td>0.0</td>\n",
       "      <td>mgx</td>\n",
       "      <td>C0577-1F-1A</td>\n",
       "      <td>C0577-1F-1A-mgx</td>\n",
       "    </tr>\n",
       "    <tr>\n",
       "      <th>2</th>\n",
       "      <td>0.0</td>\n",
       "      <td>0.0</td>\n",
       "      <td>0.0</td>\n",
       "      <td>0.0</td>\n",
       "      <td>0.000000</td>\n",
       "      <td>0.0</td>\n",
       "      <td>0.000000</td>\n",
       "      <td>0.0</td>\n",
       "      <td>0.000000</td>\n",
       "      <td>0.0</td>\n",
       "      <td>...</td>\n",
       "      <td>0.000000</td>\n",
       "      <td>0.0</td>\n",
       "      <td>0.0</td>\n",
       "      <td>0.0</td>\n",
       "      <td>0.0</td>\n",
       "      <td>0.0</td>\n",
       "      <td>0.0</td>\n",
       "      <td>mgx</td>\n",
       "      <td>C0061-6F-1A</td>\n",
       "      <td>C0061-6F-1A-mgx</td>\n",
       "    </tr>\n",
       "    <tr>\n",
       "      <th>3</th>\n",
       "      <td>0.0</td>\n",
       "      <td>0.0</td>\n",
       "      <td>0.0</td>\n",
       "      <td>0.0</td>\n",
       "      <td>0.000000</td>\n",
       "      <td>0.0</td>\n",
       "      <td>0.000000</td>\n",
       "      <td>0.0</td>\n",
       "      <td>0.000000</td>\n",
       "      <td>0.0</td>\n",
       "      <td>...</td>\n",
       "      <td>0.000000</td>\n",
       "      <td>0.0</td>\n",
       "      <td>0.0</td>\n",
       "      <td>0.0</td>\n",
       "      <td>0.0</td>\n",
       "      <td>0.0</td>\n",
       "      <td>0.0</td>\n",
       "      <td>mgx</td>\n",
       "      <td>C0592-1F-1A</td>\n",
       "      <td>C0592-1F-1A-mgx</td>\n",
       "    </tr>\n",
       "    <tr>\n",
       "      <th>4</th>\n",
       "      <td>0.0</td>\n",
       "      <td>0.0</td>\n",
       "      <td>0.0</td>\n",
       "      <td>0.0</td>\n",
       "      <td>0.000000</td>\n",
       "      <td>0.0</td>\n",
       "      <td>0.000000</td>\n",
       "      <td>0.0</td>\n",
       "      <td>0.000000</td>\n",
       "      <td>0.0</td>\n",
       "      <td>...</td>\n",
       "      <td>0.000000</td>\n",
       "      <td>0.0</td>\n",
       "      <td>0.0</td>\n",
       "      <td>0.0</td>\n",
       "      <td>0.0</td>\n",
       "      <td>0.0</td>\n",
       "      <td>0.0</td>\n",
       "      <td>mgx</td>\n",
       "      <td>C0521-1F-2A</td>\n",
       "      <td>C0521-1F-2A-mgx</td>\n",
       "    </tr>\n",
       "    <tr>\n",
       "      <th>5</th>\n",
       "      <td>0.0</td>\n",
       "      <td>0.0</td>\n",
       "      <td>0.0</td>\n",
       "      <td>0.0</td>\n",
       "      <td>0.000000</td>\n",
       "      <td>0.0</td>\n",
       "      <td>0.000000</td>\n",
       "      <td>0.0</td>\n",
       "      <td>0.000000</td>\n",
       "      <td>0.0</td>\n",
       "      <td>...</td>\n",
       "      <td>0.000000</td>\n",
       "      <td>0.0</td>\n",
       "      <td>0.0</td>\n",
       "      <td>0.0</td>\n",
       "      <td>0.0</td>\n",
       "      <td>0.0</td>\n",
       "      <td>0.0</td>\n",
       "      <td>mgx</td>\n",
       "      <td>C0124-3F-1A</td>\n",
       "      <td>C0124-3F-1A-mgx</td>\n",
       "    </tr>\n",
       "    <tr>\n",
       "      <th>6</th>\n",
       "      <td>0.0</td>\n",
       "      <td>0.0</td>\n",
       "      <td>0.0</td>\n",
       "      <td>0.0</td>\n",
       "      <td>0.000000</td>\n",
       "      <td>0.0</td>\n",
       "      <td>0.000000</td>\n",
       "      <td>0.0</td>\n",
       "      <td>0.000000</td>\n",
       "      <td>0.0</td>\n",
       "      <td>...</td>\n",
       "      <td>0.000000</td>\n",
       "      <td>0.0</td>\n",
       "      <td>0.0</td>\n",
       "      <td>0.0</td>\n",
       "      <td>0.0</td>\n",
       "      <td>0.0</td>\n",
       "      <td>0.0</td>\n",
       "      <td>mgx</td>\n",
       "      <td>C0841-1F-1A</td>\n",
       "      <td>C0841-1F-1A-mgx</td>\n",
       "    </tr>\n",
       "    <tr>\n",
       "      <th>7</th>\n",
       "      <td>0.0</td>\n",
       "      <td>0.0</td>\n",
       "      <td>0.0</td>\n",
       "      <td>0.0</td>\n",
       "      <td>0.000000</td>\n",
       "      <td>0.0</td>\n",
       "      <td>0.000000</td>\n",
       "      <td>0.0</td>\n",
       "      <td>0.000000</td>\n",
       "      <td>0.0</td>\n",
       "      <td>...</td>\n",
       "      <td>0.000000</td>\n",
       "      <td>0.0</td>\n",
       "      <td>0.0</td>\n",
       "      <td>0.0</td>\n",
       "      <td>0.0</td>\n",
       "      <td>0.0</td>\n",
       "      <td>0.0</td>\n",
       "      <td>mgx</td>\n",
       "      <td>C0106-6E-1A</td>\n",
       "      <td>C0106-6E-1A-mgx</td>\n",
       "    </tr>\n",
       "    <tr>\n",
       "      <th>8</th>\n",
       "      <td>0.0</td>\n",
       "      <td>0.0</td>\n",
       "      <td>0.0</td>\n",
       "      <td>0.0</td>\n",
       "      <td>0.000000</td>\n",
       "      <td>0.0</td>\n",
       "      <td>0.000000</td>\n",
       "      <td>0.0</td>\n",
       "      <td>0.000000</td>\n",
       "      <td>0.0</td>\n",
       "      <td>...</td>\n",
       "      <td>0.000000</td>\n",
       "      <td>0.0</td>\n",
       "      <td>0.0</td>\n",
       "      <td>0.0</td>\n",
       "      <td>0.0</td>\n",
       "      <td>0.0</td>\n",
       "      <td>0.0</td>\n",
       "      <td>mgx</td>\n",
       "      <td>C0590-1F-1A</td>\n",
       "      <td>C0590-1F-1A-mgx</td>\n",
       "    </tr>\n",
       "    <tr>\n",
       "      <th>9</th>\n",
       "      <td>0.0</td>\n",
       "      <td>0.0</td>\n",
       "      <td>0.0</td>\n",
       "      <td>0.0</td>\n",
       "      <td>0.000000</td>\n",
       "      <td>0.0</td>\n",
       "      <td>0.000000</td>\n",
       "      <td>0.0</td>\n",
       "      <td>0.000000</td>\n",
       "      <td>0.0</td>\n",
       "      <td>...</td>\n",
       "      <td>0.000000</td>\n",
       "      <td>0.0</td>\n",
       "      <td>0.0</td>\n",
       "      <td>0.0</td>\n",
       "      <td>0.0</td>\n",
       "      <td>0.0</td>\n",
       "      <td>0.0</td>\n",
       "      <td>mgx</td>\n",
       "      <td>C0541-1F-1A</td>\n",
       "      <td>C0541-1F-1A-mgx</td>\n",
       "    </tr>\n",
       "    <tr>\n",
       "      <th>10</th>\n",
       "      <td>0.0</td>\n",
       "      <td>0.0</td>\n",
       "      <td>0.0</td>\n",
       "      <td>0.0</td>\n",
       "      <td>0.000000</td>\n",
       "      <td>0.0</td>\n",
       "      <td>0.000000</td>\n",
       "      <td>0.0</td>\n",
       "      <td>0.000000</td>\n",
       "      <td>0.0</td>\n",
       "      <td>...</td>\n",
       "      <td>0.000000</td>\n",
       "      <td>0.0</td>\n",
       "      <td>0.0</td>\n",
       "      <td>0.0</td>\n",
       "      <td>0.0</td>\n",
       "      <td>0.0</td>\n",
       "      <td>0.0</td>\n",
       "      <td>mgx</td>\n",
       "      <td>C0286-6F-1A</td>\n",
       "      <td>C0286-6F-1A-mgx</td>\n",
       "    </tr>\n",
       "    <tr>\n",
       "      <th>11</th>\n",
       "      <td>0.0</td>\n",
       "      <td>0.0</td>\n",
       "      <td>0.0</td>\n",
       "      <td>0.0</td>\n",
       "      <td>0.000000</td>\n",
       "      <td>0.0</td>\n",
       "      <td>0.006359</td>\n",
       "      <td>0.0</td>\n",
       "      <td>0.000000</td>\n",
       "      <td>0.0</td>\n",
       "      <td>...</td>\n",
       "      <td>0.000000</td>\n",
       "      <td>0.0</td>\n",
       "      <td>0.0</td>\n",
       "      <td>0.0</td>\n",
       "      <td>0.0</td>\n",
       "      <td>0.0</td>\n",
       "      <td>0.0</td>\n",
       "      <td>mgx</td>\n",
       "      <td>C1238-1F-1A</td>\n",
       "      <td>C1238-1F-1A-mgx</td>\n",
       "    </tr>\n",
       "    <tr>\n",
       "      <th>12</th>\n",
       "      <td>0.0</td>\n",
       "      <td>0.0</td>\n",
       "      <td>0.0</td>\n",
       "      <td>0.0</td>\n",
       "      <td>0.000000</td>\n",
       "      <td>0.0</td>\n",
       "      <td>0.003851</td>\n",
       "      <td>0.0</td>\n",
       "      <td>0.000000</td>\n",
       "      <td>0.0</td>\n",
       "      <td>...</td>\n",
       "      <td>0.000000</td>\n",
       "      <td>0.0</td>\n",
       "      <td>0.0</td>\n",
       "      <td>0.0</td>\n",
       "      <td>0.0</td>\n",
       "      <td>0.0</td>\n",
       "      <td>0.0</td>\n",
       "      <td>mgx</td>\n",
       "      <td>C0825-1E-1A</td>\n",
       "      <td>C0825-1E-1A-mgx</td>\n",
       "    </tr>\n",
       "    <tr>\n",
       "      <th>13</th>\n",
       "      <td>0.0</td>\n",
       "      <td>0.0</td>\n",
       "      <td>0.0</td>\n",
       "      <td>0.0</td>\n",
       "      <td>0.000000</td>\n",
       "      <td>0.0</td>\n",
       "      <td>0.000000</td>\n",
       "      <td>0.0</td>\n",
       "      <td>0.001133</td>\n",
       "      <td>0.0</td>\n",
       "      <td>...</td>\n",
       "      <td>0.000000</td>\n",
       "      <td>0.0</td>\n",
       "      <td>0.0</td>\n",
       "      <td>0.0</td>\n",
       "      <td>0.0</td>\n",
       "      <td>0.0</td>\n",
       "      <td>0.0</td>\n",
       "      <td>mgx</td>\n",
       "      <td>C0794-4F-1A</td>\n",
       "      <td>C0794-4F-1A-mgx</td>\n",
       "    </tr>\n",
       "    <tr>\n",
       "      <th>14</th>\n",
       "      <td>0.0</td>\n",
       "      <td>0.0</td>\n",
       "      <td>0.0</td>\n",
       "      <td>0.0</td>\n",
       "      <td>0.000000</td>\n",
       "      <td>0.0</td>\n",
       "      <td>0.000000</td>\n",
       "      <td>0.0</td>\n",
       "      <td>0.000000</td>\n",
       "      <td>0.0</td>\n",
       "      <td>...</td>\n",
       "      <td>0.000000</td>\n",
       "      <td>0.0</td>\n",
       "      <td>0.0</td>\n",
       "      <td>0.0</td>\n",
       "      <td>0.0</td>\n",
       "      <td>0.0</td>\n",
       "      <td>0.0</td>\n",
       "      <td>mgx</td>\n",
       "      <td>C0863-4F-1A</td>\n",
       "      <td>C0863-4F-1A-mgx</td>\n",
       "    </tr>\n",
       "    <tr>\n",
       "      <th>15</th>\n",
       "      <td>0.0</td>\n",
       "      <td>0.0</td>\n",
       "      <td>0.0</td>\n",
       "      <td>0.0</td>\n",
       "      <td>0.000000</td>\n",
       "      <td>0.0</td>\n",
       "      <td>0.000000</td>\n",
       "      <td>0.0</td>\n",
       "      <td>0.000000</td>\n",
       "      <td>0.0</td>\n",
       "      <td>...</td>\n",
       "      <td>0.000000</td>\n",
       "      <td>0.0</td>\n",
       "      <td>0.0</td>\n",
       "      <td>0.0</td>\n",
       "      <td>0.0</td>\n",
       "      <td>0.0</td>\n",
       "      <td>0.0</td>\n",
       "      <td>mgx</td>\n",
       "      <td>C0142-6F-1A</td>\n",
       "      <td>C0142-6F-1A-mgx</td>\n",
       "    </tr>\n",
       "    <tr>\n",
       "      <th>16</th>\n",
       "      <td>0.0</td>\n",
       "      <td>0.0</td>\n",
       "      <td>0.0</td>\n",
       "      <td>0.0</td>\n",
       "      <td>0.000000</td>\n",
       "      <td>0.0</td>\n",
       "      <td>0.000000</td>\n",
       "      <td>0.0</td>\n",
       "      <td>0.000000</td>\n",
       "      <td>0.0</td>\n",
       "      <td>...</td>\n",
       "      <td>0.000000</td>\n",
       "      <td>0.0</td>\n",
       "      <td>0.0</td>\n",
       "      <td>0.0</td>\n",
       "      <td>0.0</td>\n",
       "      <td>0.0</td>\n",
       "      <td>0.0</td>\n",
       "      <td>mgx</td>\n",
       "      <td>C1219-3F-1A</td>\n",
       "      <td>C1219-3F-1A-mgx</td>\n",
       "    </tr>\n",
       "    <tr>\n",
       "      <th>17</th>\n",
       "      <td>0.0</td>\n",
       "      <td>0.0</td>\n",
       "      <td>0.0</td>\n",
       "      <td>0.0</td>\n",
       "      <td>0.000000</td>\n",
       "      <td>0.0</td>\n",
       "      <td>0.000000</td>\n",
       "      <td>0.0</td>\n",
       "      <td>0.000000</td>\n",
       "      <td>0.0</td>\n",
       "      <td>...</td>\n",
       "      <td>0.000107</td>\n",
       "      <td>0.0</td>\n",
       "      <td>0.0</td>\n",
       "      <td>0.0</td>\n",
       "      <td>0.0</td>\n",
       "      <td>0.0</td>\n",
       "      <td>0.0</td>\n",
       "      <td>mgx</td>\n",
       "      <td>C0062-6F-1A</td>\n",
       "      <td>C0062-6F-1A-mgx</td>\n",
       "    </tr>\n",
       "    <tr>\n",
       "      <th>18</th>\n",
       "      <td>0.0</td>\n",
       "      <td>0.0</td>\n",
       "      <td>0.0</td>\n",
       "      <td>0.0</td>\n",
       "      <td>0.000000</td>\n",
       "      <td>0.0</td>\n",
       "      <td>0.000000</td>\n",
       "      <td>0.0</td>\n",
       "      <td>0.000000</td>\n",
       "      <td>0.0</td>\n",
       "      <td>...</td>\n",
       "      <td>0.000000</td>\n",
       "      <td>0.0</td>\n",
       "      <td>0.0</td>\n",
       "      <td>0.0</td>\n",
       "      <td>0.0</td>\n",
       "      <td>0.0</td>\n",
       "      <td>0.0</td>\n",
       "      <td>mgx</td>\n",
       "      <td>C0673-1E-1A</td>\n",
       "      <td>C0673-1E-1A-mgx</td>\n",
       "    </tr>\n",
       "    <tr>\n",
       "      <th>19</th>\n",
       "      <td>0.0</td>\n",
       "      <td>0.0</td>\n",
       "      <td>0.0</td>\n",
       "      <td>0.0</td>\n",
       "      <td>0.000000</td>\n",
       "      <td>0.0</td>\n",
       "      <td>0.000000</td>\n",
       "      <td>0.0</td>\n",
       "      <td>0.000000</td>\n",
       "      <td>0.0</td>\n",
       "      <td>...</td>\n",
       "      <td>0.000000</td>\n",
       "      <td>0.0</td>\n",
       "      <td>0.0</td>\n",
       "      <td>0.0</td>\n",
       "      <td>0.0</td>\n",
       "      <td>0.0</td>\n",
       "      <td>0.0</td>\n",
       "      <td>mgx</td>\n",
       "      <td>C0661-1F-1A</td>\n",
       "      <td>C0661-1F-1A-mgx</td>\n",
       "    </tr>\n",
       "    <tr>\n",
       "      <th>20</th>\n",
       "      <td>0.0</td>\n",
       "      <td>0.0</td>\n",
       "      <td>0.0</td>\n",
       "      <td>0.0</td>\n",
       "      <td>0.000000</td>\n",
       "      <td>0.0</td>\n",
       "      <td>0.000000</td>\n",
       "      <td>0.0</td>\n",
       "      <td>0.000000</td>\n",
       "      <td>0.0</td>\n",
       "      <td>...</td>\n",
       "      <td>0.000000</td>\n",
       "      <td>0.0</td>\n",
       "      <td>0.0</td>\n",
       "      <td>0.0</td>\n",
       "      <td>0.0</td>\n",
       "      <td>0.0</td>\n",
       "      <td>0.0</td>\n",
       "      <td>mgx</td>\n",
       "      <td>C0744-6F-1A</td>\n",
       "      <td>C0744-6F-1A-mgx</td>\n",
       "    </tr>\n",
       "    <tr>\n",
       "      <th>21</th>\n",
       "      <td>0.0</td>\n",
       "      <td>0.0</td>\n",
       "      <td>0.0</td>\n",
       "      <td>0.0</td>\n",
       "      <td>0.000000</td>\n",
       "      <td>0.0</td>\n",
       "      <td>0.000000</td>\n",
       "      <td>0.0</td>\n",
       "      <td>0.000000</td>\n",
       "      <td>0.0</td>\n",
       "      <td>...</td>\n",
       "      <td>0.000000</td>\n",
       "      <td>0.0</td>\n",
       "      <td>0.0</td>\n",
       "      <td>0.0</td>\n",
       "      <td>0.0</td>\n",
       "      <td>0.0</td>\n",
       "      <td>0.0</td>\n",
       "      <td>mgx</td>\n",
       "      <td>C0505-2F-1A</td>\n",
       "      <td>C0505-2F-1A-mgx</td>\n",
       "    </tr>\n",
       "    <tr>\n",
       "      <th>22</th>\n",
       "      <td>0.0</td>\n",
       "      <td>0.0</td>\n",
       "      <td>0.0</td>\n",
       "      <td>0.0</td>\n",
       "      <td>0.000000</td>\n",
       "      <td>0.0</td>\n",
       "      <td>0.000000</td>\n",
       "      <td>0.0</td>\n",
       "      <td>0.000000</td>\n",
       "      <td>0.0</td>\n",
       "      <td>...</td>\n",
       "      <td>0.000000</td>\n",
       "      <td>0.0</td>\n",
       "      <td>0.0</td>\n",
       "      <td>0.0</td>\n",
       "      <td>0.0</td>\n",
       "      <td>0.0</td>\n",
       "      <td>0.0</td>\n",
       "      <td>mgx</td>\n",
       "      <td>C0569-1F-2A</td>\n",
       "      <td>C0569-1F-2A-mgx</td>\n",
       "    </tr>\n",
       "    <tr>\n",
       "      <th>23</th>\n",
       "      <td>0.0</td>\n",
       "      <td>0.0</td>\n",
       "      <td>0.0</td>\n",
       "      <td>0.0</td>\n",
       "      <td>0.000000</td>\n",
       "      <td>0.0</td>\n",
       "      <td>0.000000</td>\n",
       "      <td>0.0</td>\n",
       "      <td>0.000000</td>\n",
       "      <td>0.0</td>\n",
       "      <td>...</td>\n",
       "      <td>0.000000</td>\n",
       "      <td>0.0</td>\n",
       "      <td>0.0</td>\n",
       "      <td>0.0</td>\n",
       "      <td>0.0</td>\n",
       "      <td>0.0</td>\n",
       "      <td>0.0</td>\n",
       "      <td>mgx</td>\n",
       "      <td>C0058-4E-1A</td>\n",
       "      <td>C0058-4E-1A-mgx</td>\n",
       "    </tr>\n",
       "    <tr>\n",
       "      <th>24</th>\n",
       "      <td>0.0</td>\n",
       "      <td>0.0</td>\n",
       "      <td>0.0</td>\n",
       "      <td>0.0</td>\n",
       "      <td>0.000000</td>\n",
       "      <td>0.0</td>\n",
       "      <td>0.000000</td>\n",
       "      <td>0.0</td>\n",
       "      <td>0.000000</td>\n",
       "      <td>0.0</td>\n",
       "      <td>...</td>\n",
       "      <td>0.000759</td>\n",
       "      <td>0.0</td>\n",
       "      <td>0.0</td>\n",
       "      <td>0.0</td>\n",
       "      <td>0.0</td>\n",
       "      <td>0.0</td>\n",
       "      <td>0.0</td>\n",
       "      <td>mgx</td>\n",
       "      <td>C0512-2F-1A</td>\n",
       "      <td>C0512-2F-1A-mgx</td>\n",
       "    </tr>\n",
       "    <tr>\n",
       "      <th>25</th>\n",
       "      <td>0.0</td>\n",
       "      <td>0.0</td>\n",
       "      <td>0.0</td>\n",
       "      <td>0.0</td>\n",
       "      <td>0.000000</td>\n",
       "      <td>0.0</td>\n",
       "      <td>0.000000</td>\n",
       "      <td>0.0</td>\n",
       "      <td>0.000000</td>\n",
       "      <td>0.0</td>\n",
       "      <td>...</td>\n",
       "      <td>0.000000</td>\n",
       "      <td>0.0</td>\n",
       "      <td>0.0</td>\n",
       "      <td>0.0</td>\n",
       "      <td>0.0</td>\n",
       "      <td>0.0</td>\n",
       "      <td>0.0</td>\n",
       "      <td>mgx</td>\n",
       "      <td>C0552-1F-1A</td>\n",
       "      <td>C0552-1F-1A-mgx</td>\n",
       "    </tr>\n",
       "    <tr>\n",
       "      <th>26</th>\n",
       "      <td>0.0</td>\n",
       "      <td>0.0</td>\n",
       "      <td>0.0</td>\n",
       "      <td>0.0</td>\n",
       "      <td>0.000000</td>\n",
       "      <td>0.0</td>\n",
       "      <td>0.000000</td>\n",
       "      <td>0.0</td>\n",
       "      <td>0.000000</td>\n",
       "      <td>0.0</td>\n",
       "      <td>...</td>\n",
       "      <td>0.000000</td>\n",
       "      <td>0.0</td>\n",
       "      <td>0.0</td>\n",
       "      <td>0.0</td>\n",
       "      <td>0.0</td>\n",
       "      <td>0.0</td>\n",
       "      <td>0.0</td>\n",
       "      <td>mgx</td>\n",
       "      <td>C1037-4F-1A</td>\n",
       "      <td>C1037-4F-1A-mgx</td>\n",
       "    </tr>\n",
       "    <tr>\n",
       "      <th>27</th>\n",
       "      <td>0.0</td>\n",
       "      <td>0.0</td>\n",
       "      <td>0.0</td>\n",
       "      <td>0.0</td>\n",
       "      <td>0.000000</td>\n",
       "      <td>0.0</td>\n",
       "      <td>0.000000</td>\n",
       "      <td>0.0</td>\n",
       "      <td>0.000000</td>\n",
       "      <td>0.0</td>\n",
       "      <td>...</td>\n",
       "      <td>0.000000</td>\n",
       "      <td>0.0</td>\n",
       "      <td>0.0</td>\n",
       "      <td>0.0</td>\n",
       "      <td>0.0</td>\n",
       "      <td>0.0</td>\n",
       "      <td>0.0</td>\n",
       "      <td>mgx</td>\n",
       "      <td>C0799-1E-1A</td>\n",
       "      <td>C0799-1E-1A-mgx</td>\n",
       "    </tr>\n",
       "    <tr>\n",
       "      <th>28</th>\n",
       "      <td>0.0</td>\n",
       "      <td>0.0</td>\n",
       "      <td>0.0</td>\n",
       "      <td>0.0</td>\n",
       "      <td>0.000000</td>\n",
       "      <td>0.0</td>\n",
       "      <td>0.000000</td>\n",
       "      <td>0.0</td>\n",
       "      <td>0.000000</td>\n",
       "      <td>0.0</td>\n",
       "      <td>...</td>\n",
       "      <td>0.000000</td>\n",
       "      <td>0.0</td>\n",
       "      <td>0.0</td>\n",
       "      <td>0.0</td>\n",
       "      <td>0.0</td>\n",
       "      <td>0.0</td>\n",
       "      <td>0.0</td>\n",
       "      <td>mgx</td>\n",
       "      <td>C0723-3F-1A</td>\n",
       "      <td>C0723-3F-1A-mgx</td>\n",
       "    </tr>\n",
       "    <tr>\n",
       "      <th>29</th>\n",
       "      <td>0.0</td>\n",
       "      <td>0.0</td>\n",
       "      <td>0.0</td>\n",
       "      <td>0.0</td>\n",
       "      <td>0.000000</td>\n",
       "      <td>0.0</td>\n",
       "      <td>0.000000</td>\n",
       "      <td>0.0</td>\n",
       "      <td>0.000000</td>\n",
       "      <td>0.0</td>\n",
       "      <td>...</td>\n",
       "      <td>0.000000</td>\n",
       "      <td>0.0</td>\n",
       "      <td>0.0</td>\n",
       "      <td>0.0</td>\n",
       "      <td>0.0</td>\n",
       "      <td>0.0</td>\n",
       "      <td>0.0</td>\n",
       "      <td>mgx</td>\n",
       "      <td>C0839-4F-1A</td>\n",
       "      <td>C0839-4F-1A-mgx</td>\n",
       "    </tr>\n",
       "    <tr>\n",
       "      <th>...</th>\n",
       "      <td>...</td>\n",
       "      <td>...</td>\n",
       "      <td>...</td>\n",
       "      <td>...</td>\n",
       "      <td>...</td>\n",
       "      <td>...</td>\n",
       "      <td>...</td>\n",
       "      <td>...</td>\n",
       "      <td>...</td>\n",
       "      <td>...</td>\n",
       "      <td>...</td>\n",
       "      <td>...</td>\n",
       "      <td>...</td>\n",
       "      <td>...</td>\n",
       "      <td>...</td>\n",
       "      <td>...</td>\n",
       "      <td>...</td>\n",
       "      <td>...</td>\n",
       "      <td>...</td>\n",
       "      <td>...</td>\n",
       "      <td>...</td>\n",
       "    </tr>\n",
       "    <tr>\n",
       "      <th>656</th>\n",
       "      <td>0.0</td>\n",
       "      <td>0.0</td>\n",
       "      <td>0.0</td>\n",
       "      <td>0.0</td>\n",
       "      <td>0.000000</td>\n",
       "      <td>0.0</td>\n",
       "      <td>0.000000</td>\n",
       "      <td>0.0</td>\n",
       "      <td>0.000000</td>\n",
       "      <td>0.0</td>\n",
       "      <td>...</td>\n",
       "      <td>0.000000</td>\n",
       "      <td>0.0</td>\n",
       "      <td>0.0</td>\n",
       "      <td>0.0</td>\n",
       "      <td>0.0</td>\n",
       "      <td>0.0</td>\n",
       "      <td>0.0</td>\n",
       "      <td>amp</td>\n",
       "      <td>C0032-9F-1A</td>\n",
       "      <td>C0032-9F-1A-amp</td>\n",
       "    </tr>\n",
       "    <tr>\n",
       "      <th>657</th>\n",
       "      <td>0.0</td>\n",
       "      <td>0.0</td>\n",
       "      <td>0.0</td>\n",
       "      <td>0.0</td>\n",
       "      <td>0.000000</td>\n",
       "      <td>0.0</td>\n",
       "      <td>0.000000</td>\n",
       "      <td>0.0</td>\n",
       "      <td>0.000000</td>\n",
       "      <td>0.0</td>\n",
       "      <td>...</td>\n",
       "      <td>0.000000</td>\n",
       "      <td>0.0</td>\n",
       "      <td>0.0</td>\n",
       "      <td>0.0</td>\n",
       "      <td>0.0</td>\n",
       "      <td>0.0</td>\n",
       "      <td>0.0</td>\n",
       "      <td>amp</td>\n",
       "      <td>C0886-4F-1A</td>\n",
       "      <td>C0886-4F-1A-amp</td>\n",
       "    </tr>\n",
       "    <tr>\n",
       "      <th>658</th>\n",
       "      <td>0.0</td>\n",
       "      <td>0.0</td>\n",
       "      <td>0.0</td>\n",
       "      <td>0.0</td>\n",
       "      <td>0.000000</td>\n",
       "      <td>0.0</td>\n",
       "      <td>0.000000</td>\n",
       "      <td>0.0</td>\n",
       "      <td>0.000000</td>\n",
       "      <td>0.0</td>\n",
       "      <td>...</td>\n",
       "      <td>0.000000</td>\n",
       "      <td>0.0</td>\n",
       "      <td>0.0</td>\n",
       "      <td>0.0</td>\n",
       "      <td>0.0</td>\n",
       "      <td>0.0</td>\n",
       "      <td>0.0</td>\n",
       "      <td>amp</td>\n",
       "      <td>C0631-1F-1A</td>\n",
       "      <td>C0631-1F-1A-amp</td>\n",
       "    </tr>\n",
       "    <tr>\n",
       "      <th>659</th>\n",
       "      <td>0.0</td>\n",
       "      <td>0.0</td>\n",
       "      <td>0.0</td>\n",
       "      <td>0.0</td>\n",
       "      <td>0.000000</td>\n",
       "      <td>0.0</td>\n",
       "      <td>0.000000</td>\n",
       "      <td>0.0</td>\n",
       "      <td>0.000918</td>\n",
       "      <td>0.0</td>\n",
       "      <td>...</td>\n",
       "      <td>0.000000</td>\n",
       "      <td>0.0</td>\n",
       "      <td>0.0</td>\n",
       "      <td>0.0</td>\n",
       "      <td>0.0</td>\n",
       "      <td>0.0</td>\n",
       "      <td>0.0</td>\n",
       "      <td>amp</td>\n",
       "      <td>C1099-3F-1A</td>\n",
       "      <td>C1099-3F-1A-amp</td>\n",
       "    </tr>\n",
       "    <tr>\n",
       "      <th>660</th>\n",
       "      <td>0.0</td>\n",
       "      <td>0.0</td>\n",
       "      <td>0.0</td>\n",
       "      <td>0.0</td>\n",
       "      <td>0.000000</td>\n",
       "      <td>0.0</td>\n",
       "      <td>0.000000</td>\n",
       "      <td>0.0</td>\n",
       "      <td>0.000000</td>\n",
       "      <td>0.0</td>\n",
       "      <td>...</td>\n",
       "      <td>0.000000</td>\n",
       "      <td>0.0</td>\n",
       "      <td>0.0</td>\n",
       "      <td>0.0</td>\n",
       "      <td>0.0</td>\n",
       "      <td>0.0</td>\n",
       "      <td>0.0</td>\n",
       "      <td>amp</td>\n",
       "      <td>C0902-1F-1A</td>\n",
       "      <td>C0902-1F-1A-amp</td>\n",
       "    </tr>\n",
       "    <tr>\n",
       "      <th>661</th>\n",
       "      <td>0.0</td>\n",
       "      <td>0.0</td>\n",
       "      <td>0.0</td>\n",
       "      <td>0.0</td>\n",
       "      <td>0.000000</td>\n",
       "      <td>0.0</td>\n",
       "      <td>0.000000</td>\n",
       "      <td>0.0</td>\n",
       "      <td>0.000000</td>\n",
       "      <td>0.0</td>\n",
       "      <td>...</td>\n",
       "      <td>0.000000</td>\n",
       "      <td>0.0</td>\n",
       "      <td>0.0</td>\n",
       "      <td>0.0</td>\n",
       "      <td>0.0</td>\n",
       "      <td>0.0</td>\n",
       "      <td>0.0</td>\n",
       "      <td>amp</td>\n",
       "      <td>C0093-3F-1A</td>\n",
       "      <td>C0093-3F-1A-amp</td>\n",
       "    </tr>\n",
       "    <tr>\n",
       "      <th>662</th>\n",
       "      <td>0.0</td>\n",
       "      <td>0.0</td>\n",
       "      <td>0.0</td>\n",
       "      <td>0.0</td>\n",
       "      <td>0.000000</td>\n",
       "      <td>0.0</td>\n",
       "      <td>0.000000</td>\n",
       "      <td>0.0</td>\n",
       "      <td>0.001377</td>\n",
       "      <td>0.0</td>\n",
       "      <td>...</td>\n",
       "      <td>0.000000</td>\n",
       "      <td>0.0</td>\n",
       "      <td>0.0</td>\n",
       "      <td>0.0</td>\n",
       "      <td>0.0</td>\n",
       "      <td>0.0</td>\n",
       "      <td>0.0</td>\n",
       "      <td>amp</td>\n",
       "      <td>C0595-1F-1A</td>\n",
       "      <td>C0595-1F-1A-amp</td>\n",
       "    </tr>\n",
       "    <tr>\n",
       "      <th>663</th>\n",
       "      <td>0.0</td>\n",
       "      <td>0.0</td>\n",
       "      <td>0.0</td>\n",
       "      <td>0.0</td>\n",
       "      <td>0.000000</td>\n",
       "      <td>0.0</td>\n",
       "      <td>0.000000</td>\n",
       "      <td>0.0</td>\n",
       "      <td>0.000000</td>\n",
       "      <td>0.0</td>\n",
       "      <td>...</td>\n",
       "      <td>0.000000</td>\n",
       "      <td>0.0</td>\n",
       "      <td>0.0</td>\n",
       "      <td>0.0</td>\n",
       "      <td>0.0</td>\n",
       "      <td>0.0</td>\n",
       "      <td>0.0</td>\n",
       "      <td>amp</td>\n",
       "      <td>C0526-2F-1A</td>\n",
       "      <td>C0526-2F-1A-amp</td>\n",
       "    </tr>\n",
       "    <tr>\n",
       "      <th>664</th>\n",
       "      <td>0.0</td>\n",
       "      <td>0.0</td>\n",
       "      <td>0.0</td>\n",
       "      <td>0.0</td>\n",
       "      <td>0.000000</td>\n",
       "      <td>0.0</td>\n",
       "      <td>0.001306</td>\n",
       "      <td>0.0</td>\n",
       "      <td>0.000000</td>\n",
       "      <td>0.0</td>\n",
       "      <td>...</td>\n",
       "      <td>0.000290</td>\n",
       "      <td>0.0</td>\n",
       "      <td>0.0</td>\n",
       "      <td>0.0</td>\n",
       "      <td>0.0</td>\n",
       "      <td>0.0</td>\n",
       "      <td>0.0</td>\n",
       "      <td>amp</td>\n",
       "      <td>C0594-1F-1A</td>\n",
       "      <td>C0594-1F-1A-amp</td>\n",
       "    </tr>\n",
       "    <tr>\n",
       "      <th>665</th>\n",
       "      <td>0.0</td>\n",
       "      <td>0.0</td>\n",
       "      <td>0.0</td>\n",
       "      <td>0.0</td>\n",
       "      <td>0.000000</td>\n",
       "      <td>0.0</td>\n",
       "      <td>0.000000</td>\n",
       "      <td>0.0</td>\n",
       "      <td>0.000000</td>\n",
       "      <td>0.0</td>\n",
       "      <td>...</td>\n",
       "      <td>0.000000</td>\n",
       "      <td>0.0</td>\n",
       "      <td>0.0</td>\n",
       "      <td>0.0</td>\n",
       "      <td>0.0</td>\n",
       "      <td>0.0</td>\n",
       "      <td>0.0</td>\n",
       "      <td>amp</td>\n",
       "      <td>C0684-4F-1A</td>\n",
       "      <td>C0684-4F-1A-amp</td>\n",
       "    </tr>\n",
       "    <tr>\n",
       "      <th>666</th>\n",
       "      <td>0.0</td>\n",
       "      <td>0.0</td>\n",
       "      <td>0.0</td>\n",
       "      <td>0.0</td>\n",
       "      <td>0.000000</td>\n",
       "      <td>0.0</td>\n",
       "      <td>0.000000</td>\n",
       "      <td>0.0</td>\n",
       "      <td>0.000000</td>\n",
       "      <td>0.0</td>\n",
       "      <td>...</td>\n",
       "      <td>0.000282</td>\n",
       "      <td>0.0</td>\n",
       "      <td>0.0</td>\n",
       "      <td>0.0</td>\n",
       "      <td>0.0</td>\n",
       "      <td>0.0</td>\n",
       "      <td>0.0</td>\n",
       "      <td>amp</td>\n",
       "      <td>C0259-3F-1A</td>\n",
       "      <td>C0259-3F-1A-amp</td>\n",
       "    </tr>\n",
       "    <tr>\n",
       "      <th>667</th>\n",
       "      <td>0.0</td>\n",
       "      <td>0.0</td>\n",
       "      <td>0.0</td>\n",
       "      <td>0.0</td>\n",
       "      <td>0.000000</td>\n",
       "      <td>0.0</td>\n",
       "      <td>0.000000</td>\n",
       "      <td>0.0</td>\n",
       "      <td>0.000000</td>\n",
       "      <td>0.0</td>\n",
       "      <td>...</td>\n",
       "      <td>0.000000</td>\n",
       "      <td>0.0</td>\n",
       "      <td>0.0</td>\n",
       "      <td>0.0</td>\n",
       "      <td>0.0</td>\n",
       "      <td>0.0</td>\n",
       "      <td>0.0</td>\n",
       "      <td>amp</td>\n",
       "      <td>C0909-4F-1A</td>\n",
       "      <td>C0909-4F-1A-amp</td>\n",
       "    </tr>\n",
       "    <tr>\n",
       "      <th>668</th>\n",
       "      <td>0.0</td>\n",
       "      <td>0.0</td>\n",
       "      <td>0.0</td>\n",
       "      <td>0.0</td>\n",
       "      <td>0.000000</td>\n",
       "      <td>0.0</td>\n",
       "      <td>0.000000</td>\n",
       "      <td>0.0</td>\n",
       "      <td>0.000000</td>\n",
       "      <td>0.0</td>\n",
       "      <td>...</td>\n",
       "      <td>0.000000</td>\n",
       "      <td>0.0</td>\n",
       "      <td>0.0</td>\n",
       "      <td>0.0</td>\n",
       "      <td>0.0</td>\n",
       "      <td>0.0</td>\n",
       "      <td>0.0</td>\n",
       "      <td>amp</td>\n",
       "      <td>C0647-4F-1A</td>\n",
       "      <td>C0647-4F-1A-amp</td>\n",
       "    </tr>\n",
       "    <tr>\n",
       "      <th>669</th>\n",
       "      <td>0.0</td>\n",
       "      <td>0.0</td>\n",
       "      <td>0.0</td>\n",
       "      <td>0.0</td>\n",
       "      <td>0.000000</td>\n",
       "      <td>0.0</td>\n",
       "      <td>0.000000</td>\n",
       "      <td>0.0</td>\n",
       "      <td>0.000000</td>\n",
       "      <td>0.0</td>\n",
       "      <td>...</td>\n",
       "      <td>0.000000</td>\n",
       "      <td>0.0</td>\n",
       "      <td>0.0</td>\n",
       "      <td>0.0</td>\n",
       "      <td>0.0</td>\n",
       "      <td>0.0</td>\n",
       "      <td>0.0</td>\n",
       "      <td>amp</td>\n",
       "      <td>C0607-1F-1A</td>\n",
       "      <td>C0607-1F-1A-amp</td>\n",
       "    </tr>\n",
       "    <tr>\n",
       "      <th>670</th>\n",
       "      <td>0.0</td>\n",
       "      <td>0.0</td>\n",
       "      <td>0.0</td>\n",
       "      <td>0.0</td>\n",
       "      <td>0.000000</td>\n",
       "      <td>0.0</td>\n",
       "      <td>0.000000</td>\n",
       "      <td>0.0</td>\n",
       "      <td>0.000000</td>\n",
       "      <td>0.0</td>\n",
       "      <td>...</td>\n",
       "      <td>0.000000</td>\n",
       "      <td>0.0</td>\n",
       "      <td>0.0</td>\n",
       "      <td>0.0</td>\n",
       "      <td>0.0</td>\n",
       "      <td>0.0</td>\n",
       "      <td>0.0</td>\n",
       "      <td>amp</td>\n",
       "      <td>C0277-2F-1A</td>\n",
       "      <td>C0277-2F-1A-amp</td>\n",
       "    </tr>\n",
       "    <tr>\n",
       "      <th>671</th>\n",
       "      <td>0.0</td>\n",
       "      <td>0.0</td>\n",
       "      <td>0.0</td>\n",
       "      <td>0.0</td>\n",
       "      <td>0.000000</td>\n",
       "      <td>0.0</td>\n",
       "      <td>0.000000</td>\n",
       "      <td>0.0</td>\n",
       "      <td>0.000000</td>\n",
       "      <td>0.0</td>\n",
       "      <td>...</td>\n",
       "      <td>0.000000</td>\n",
       "      <td>0.0</td>\n",
       "      <td>0.0</td>\n",
       "      <td>0.0</td>\n",
       "      <td>0.0</td>\n",
       "      <td>0.0</td>\n",
       "      <td>0.0</td>\n",
       "      <td>amp</td>\n",
       "      <td>C0996-4F-1A</td>\n",
       "      <td>C0996-4F-1A-amp</td>\n",
       "    </tr>\n",
       "    <tr>\n",
       "      <th>672</th>\n",
       "      <td>0.0</td>\n",
       "      <td>0.0</td>\n",
       "      <td>0.0</td>\n",
       "      <td>0.0</td>\n",
       "      <td>0.000000</td>\n",
       "      <td>0.0</td>\n",
       "      <td>0.000000</td>\n",
       "      <td>0.0</td>\n",
       "      <td>0.000000</td>\n",
       "      <td>0.0</td>\n",
       "      <td>...</td>\n",
       "      <td>0.000000</td>\n",
       "      <td>0.0</td>\n",
       "      <td>0.0</td>\n",
       "      <td>0.0</td>\n",
       "      <td>0.0</td>\n",
       "      <td>0.0</td>\n",
       "      <td>0.0</td>\n",
       "      <td>amp</td>\n",
       "      <td>C0897-2F-1A</td>\n",
       "      <td>C0897-2F-1A-amp</td>\n",
       "    </tr>\n",
       "    <tr>\n",
       "      <th>673</th>\n",
       "      <td>0.0</td>\n",
       "      <td>0.0</td>\n",
       "      <td>0.0</td>\n",
       "      <td>0.0</td>\n",
       "      <td>0.000000</td>\n",
       "      <td>0.0</td>\n",
       "      <td>0.000000</td>\n",
       "      <td>0.0</td>\n",
       "      <td>0.000000</td>\n",
       "      <td>0.0</td>\n",
       "      <td>...</td>\n",
       "      <td>0.000000</td>\n",
       "      <td>0.0</td>\n",
       "      <td>0.0</td>\n",
       "      <td>0.0</td>\n",
       "      <td>0.0</td>\n",
       "      <td>0.0</td>\n",
       "      <td>0.0</td>\n",
       "      <td>amp</td>\n",
       "      <td>C0443-4F-1A</td>\n",
       "      <td>C0443-4F-1A-amp</td>\n",
       "    </tr>\n",
       "    <tr>\n",
       "      <th>674</th>\n",
       "      <td>0.0</td>\n",
       "      <td>0.0</td>\n",
       "      <td>0.0</td>\n",
       "      <td>0.0</td>\n",
       "      <td>0.000000</td>\n",
       "      <td>0.0</td>\n",
       "      <td>0.000000</td>\n",
       "      <td>0.0</td>\n",
       "      <td>0.000000</td>\n",
       "      <td>0.0</td>\n",
       "      <td>...</td>\n",
       "      <td>0.000379</td>\n",
       "      <td>0.0</td>\n",
       "      <td>0.0</td>\n",
       "      <td>0.0</td>\n",
       "      <td>0.0</td>\n",
       "      <td>0.0</td>\n",
       "      <td>0.0</td>\n",
       "      <td>amp</td>\n",
       "      <td>C0517-1F-1A</td>\n",
       "      <td>C0517-1F-1A-amp</td>\n",
       "    </tr>\n",
       "    <tr>\n",
       "      <th>675</th>\n",
       "      <td>0.0</td>\n",
       "      <td>0.0</td>\n",
       "      <td>0.0</td>\n",
       "      <td>0.0</td>\n",
       "      <td>0.000000</td>\n",
       "      <td>0.0</td>\n",
       "      <td>0.000000</td>\n",
       "      <td>0.0</td>\n",
       "      <td>0.000000</td>\n",
       "      <td>0.0</td>\n",
       "      <td>...</td>\n",
       "      <td>0.000000</td>\n",
       "      <td>0.0</td>\n",
       "      <td>0.0</td>\n",
       "      <td>0.0</td>\n",
       "      <td>0.0</td>\n",
       "      <td>0.0</td>\n",
       "      <td>0.0</td>\n",
       "      <td>amp</td>\n",
       "      <td>C0518-2F-1A</td>\n",
       "      <td>C0518-2F-1A-amp</td>\n",
       "    </tr>\n",
       "    <tr>\n",
       "      <th>676</th>\n",
       "      <td>0.0</td>\n",
       "      <td>0.0</td>\n",
       "      <td>0.0</td>\n",
       "      <td>0.0</td>\n",
       "      <td>0.000000</td>\n",
       "      <td>0.0</td>\n",
       "      <td>0.000000</td>\n",
       "      <td>0.0</td>\n",
       "      <td>0.000000</td>\n",
       "      <td>0.0</td>\n",
       "      <td>...</td>\n",
       "      <td>0.000000</td>\n",
       "      <td>0.0</td>\n",
       "      <td>0.0</td>\n",
       "      <td>0.0</td>\n",
       "      <td>0.0</td>\n",
       "      <td>0.0</td>\n",
       "      <td>0.0</td>\n",
       "      <td>amp</td>\n",
       "      <td>C0638-1F-1A</td>\n",
       "      <td>C0638-1F-1A-amp</td>\n",
       "    </tr>\n",
       "    <tr>\n",
       "      <th>677</th>\n",
       "      <td>0.0</td>\n",
       "      <td>0.0</td>\n",
       "      <td>0.0</td>\n",
       "      <td>0.0</td>\n",
       "      <td>0.000000</td>\n",
       "      <td>0.0</td>\n",
       "      <td>0.000000</td>\n",
       "      <td>0.0</td>\n",
       "      <td>0.000000</td>\n",
       "      <td>0.0</td>\n",
       "      <td>...</td>\n",
       "      <td>0.000000</td>\n",
       "      <td>0.0</td>\n",
       "      <td>0.0</td>\n",
       "      <td>0.0</td>\n",
       "      <td>0.0</td>\n",
       "      <td>0.0</td>\n",
       "      <td>0.0</td>\n",
       "      <td>amp</td>\n",
       "      <td>C1160-3F-1A</td>\n",
       "      <td>C1160-3F-1A-amp</td>\n",
       "    </tr>\n",
       "    <tr>\n",
       "      <th>678</th>\n",
       "      <td>0.0</td>\n",
       "      <td>0.0</td>\n",
       "      <td>0.0</td>\n",
       "      <td>0.0</td>\n",
       "      <td>0.000000</td>\n",
       "      <td>0.0</td>\n",
       "      <td>0.000000</td>\n",
       "      <td>0.0</td>\n",
       "      <td>0.000000</td>\n",
       "      <td>0.0</td>\n",
       "      <td>...</td>\n",
       "      <td>0.000000</td>\n",
       "      <td>0.0</td>\n",
       "      <td>0.0</td>\n",
       "      <td>0.0</td>\n",
       "      <td>0.0</td>\n",
       "      <td>0.0</td>\n",
       "      <td>0.0</td>\n",
       "      <td>amp</td>\n",
       "      <td>C0639-1F-1A</td>\n",
       "      <td>C0639-1F-1A-amp</td>\n",
       "    </tr>\n",
       "    <tr>\n",
       "      <th>679</th>\n",
       "      <td>0.0</td>\n",
       "      <td>0.0</td>\n",
       "      <td>0.0</td>\n",
       "      <td>0.0</td>\n",
       "      <td>0.000000</td>\n",
       "      <td>0.0</td>\n",
       "      <td>0.000000</td>\n",
       "      <td>0.0</td>\n",
       "      <td>0.000000</td>\n",
       "      <td>0.0</td>\n",
       "      <td>...</td>\n",
       "      <td>0.000000</td>\n",
       "      <td>0.0</td>\n",
       "      <td>0.0</td>\n",
       "      <td>0.0</td>\n",
       "      <td>0.0</td>\n",
       "      <td>0.0</td>\n",
       "      <td>0.0</td>\n",
       "      <td>amp</td>\n",
       "      <td>C0641-1F-1A</td>\n",
       "      <td>C0641-1F-1A-amp</td>\n",
       "    </tr>\n",
       "    <tr>\n",
       "      <th>680</th>\n",
       "      <td>0.0</td>\n",
       "      <td>0.0</td>\n",
       "      <td>0.0</td>\n",
       "      <td>0.0</td>\n",
       "      <td>0.000717</td>\n",
       "      <td>0.0</td>\n",
       "      <td>0.000000</td>\n",
       "      <td>0.0</td>\n",
       "      <td>0.000000</td>\n",
       "      <td>0.0</td>\n",
       "      <td>...</td>\n",
       "      <td>0.000000</td>\n",
       "      <td>0.0</td>\n",
       "      <td>0.0</td>\n",
       "      <td>0.0</td>\n",
       "      <td>0.0</td>\n",
       "      <td>0.0</td>\n",
       "      <td>0.0</td>\n",
       "      <td>amp</td>\n",
       "      <td>C0703-4F-1A</td>\n",
       "      <td>C0703-4F-1A-amp</td>\n",
       "    </tr>\n",
       "    <tr>\n",
       "      <th>681</th>\n",
       "      <td>0.0</td>\n",
       "      <td>0.0</td>\n",
       "      <td>0.0</td>\n",
       "      <td>0.0</td>\n",
       "      <td>0.000000</td>\n",
       "      <td>0.0</td>\n",
       "      <td>0.000000</td>\n",
       "      <td>0.0</td>\n",
       "      <td>0.000000</td>\n",
       "      <td>0.0</td>\n",
       "      <td>...</td>\n",
       "      <td>0.000000</td>\n",
       "      <td>0.0</td>\n",
       "      <td>0.0</td>\n",
       "      <td>0.0</td>\n",
       "      <td>0.0</td>\n",
       "      <td>0.0</td>\n",
       "      <td>0.0</td>\n",
       "      <td>amp</td>\n",
       "      <td>C1008-4F-1A</td>\n",
       "      <td>C1008-4F-1A-amp</td>\n",
       "    </tr>\n",
       "    <tr>\n",
       "      <th>682</th>\n",
       "      <td>0.0</td>\n",
       "      <td>0.0</td>\n",
       "      <td>0.0</td>\n",
       "      <td>0.0</td>\n",
       "      <td>0.000000</td>\n",
       "      <td>0.0</td>\n",
       "      <td>0.000000</td>\n",
       "      <td>0.0</td>\n",
       "      <td>0.000176</td>\n",
       "      <td>0.0</td>\n",
       "      <td>...</td>\n",
       "      <td>0.000000</td>\n",
       "      <td>0.0</td>\n",
       "      <td>0.0</td>\n",
       "      <td>0.0</td>\n",
       "      <td>0.0</td>\n",
       "      <td>0.0</td>\n",
       "      <td>0.0</td>\n",
       "      <td>amp</td>\n",
       "      <td>C0713-4F-1A</td>\n",
       "      <td>C0713-4F-1A-amp</td>\n",
       "    </tr>\n",
       "    <tr>\n",
       "      <th>683</th>\n",
       "      <td>0.0</td>\n",
       "      <td>0.0</td>\n",
       "      <td>0.0</td>\n",
       "      <td>0.0</td>\n",
       "      <td>0.000000</td>\n",
       "      <td>0.0</td>\n",
       "      <td>0.000000</td>\n",
       "      <td>0.0</td>\n",
       "      <td>0.000000</td>\n",
       "      <td>0.0</td>\n",
       "      <td>...</td>\n",
       "      <td>0.000000</td>\n",
       "      <td>0.0</td>\n",
       "      <td>0.0</td>\n",
       "      <td>0.0</td>\n",
       "      <td>0.0</td>\n",
       "      <td>0.0</td>\n",
       "      <td>0.0</td>\n",
       "      <td>amp</td>\n",
       "      <td>C0192-4F-1A</td>\n",
       "      <td>C0192-4F-1A-amp</td>\n",
       "    </tr>\n",
       "    <tr>\n",
       "      <th>684</th>\n",
       "      <td>0.0</td>\n",
       "      <td>0.0</td>\n",
       "      <td>0.0</td>\n",
       "      <td>0.0</td>\n",
       "      <td>0.000000</td>\n",
       "      <td>0.0</td>\n",
       "      <td>0.000000</td>\n",
       "      <td>0.0</td>\n",
       "      <td>0.000000</td>\n",
       "      <td>0.0</td>\n",
       "      <td>...</td>\n",
       "      <td>0.000000</td>\n",
       "      <td>0.0</td>\n",
       "      <td>0.0</td>\n",
       "      <td>0.0</td>\n",
       "      <td>0.0</td>\n",
       "      <td>0.0</td>\n",
       "      <td>0.0</td>\n",
       "      <td>amp</td>\n",
       "      <td>C0071-8F-1A</td>\n",
       "      <td>C0071-8F-1A-amp</td>\n",
       "    </tr>\n",
       "    <tr>\n",
       "      <th>685</th>\n",
       "      <td>0.0</td>\n",
       "      <td>0.0</td>\n",
       "      <td>0.0</td>\n",
       "      <td>0.0</td>\n",
       "      <td>0.000000</td>\n",
       "      <td>0.0</td>\n",
       "      <td>0.000000</td>\n",
       "      <td>0.0</td>\n",
       "      <td>0.000000</td>\n",
       "      <td>0.0</td>\n",
       "      <td>...</td>\n",
       "      <td>0.000000</td>\n",
       "      <td>0.0</td>\n",
       "      <td>0.0</td>\n",
       "      <td>0.0</td>\n",
       "      <td>0.0</td>\n",
       "      <td>0.0</td>\n",
       "      <td>0.0</td>\n",
       "      <td>amp</td>\n",
       "      <td>C1217-1F-1A</td>\n",
       "      <td>C1217-1F-1A-amp</td>\n",
       "    </tr>\n",
       "  </tbody>\n",
       "</table>\n",
       "<p>686 rows × 561 columns</p>\n",
       "</div>"
      ],
      "text/plain": [
       "     Abditibacterium  Abiotrophia  Absiella  Acetanaerobacterium  Acetobacter  \\\n",
       "0                0.0          0.0       0.0                  0.0     0.000000   \n",
       "1                0.0          0.0       0.0                  0.0     0.000000   \n",
       "2                0.0          0.0       0.0                  0.0     0.000000   \n",
       "3                0.0          0.0       0.0                  0.0     0.000000   \n",
       "4                0.0          0.0       0.0                  0.0     0.000000   \n",
       "5                0.0          0.0       0.0                  0.0     0.000000   \n",
       "6                0.0          0.0       0.0                  0.0     0.000000   \n",
       "7                0.0          0.0       0.0                  0.0     0.000000   \n",
       "8                0.0          0.0       0.0                  0.0     0.000000   \n",
       "9                0.0          0.0       0.0                  0.0     0.000000   \n",
       "10               0.0          0.0       0.0                  0.0     0.000000   \n",
       "11               0.0          0.0       0.0                  0.0     0.000000   \n",
       "12               0.0          0.0       0.0                  0.0     0.000000   \n",
       "13               0.0          0.0       0.0                  0.0     0.000000   \n",
       "14               0.0          0.0       0.0                  0.0     0.000000   \n",
       "15               0.0          0.0       0.0                  0.0     0.000000   \n",
       "16               0.0          0.0       0.0                  0.0     0.000000   \n",
       "17               0.0          0.0       0.0                  0.0     0.000000   \n",
       "18               0.0          0.0       0.0                  0.0     0.000000   \n",
       "19               0.0          0.0       0.0                  0.0     0.000000   \n",
       "20               0.0          0.0       0.0                  0.0     0.000000   \n",
       "21               0.0          0.0       0.0                  0.0     0.000000   \n",
       "22               0.0          0.0       0.0                  0.0     0.000000   \n",
       "23               0.0          0.0       0.0                  0.0     0.000000   \n",
       "24               0.0          0.0       0.0                  0.0     0.000000   \n",
       "25               0.0          0.0       0.0                  0.0     0.000000   \n",
       "26               0.0          0.0       0.0                  0.0     0.000000   \n",
       "27               0.0          0.0       0.0                  0.0     0.000000   \n",
       "28               0.0          0.0       0.0                  0.0     0.000000   \n",
       "29               0.0          0.0       0.0                  0.0     0.000000   \n",
       "..               ...          ...       ...                  ...          ...   \n",
       "656              0.0          0.0       0.0                  0.0     0.000000   \n",
       "657              0.0          0.0       0.0                  0.0     0.000000   \n",
       "658              0.0          0.0       0.0                  0.0     0.000000   \n",
       "659              0.0          0.0       0.0                  0.0     0.000000   \n",
       "660              0.0          0.0       0.0                  0.0     0.000000   \n",
       "661              0.0          0.0       0.0                  0.0     0.000000   \n",
       "662              0.0          0.0       0.0                  0.0     0.000000   \n",
       "663              0.0          0.0       0.0                  0.0     0.000000   \n",
       "664              0.0          0.0       0.0                  0.0     0.000000   \n",
       "665              0.0          0.0       0.0                  0.0     0.000000   \n",
       "666              0.0          0.0       0.0                  0.0     0.000000   \n",
       "667              0.0          0.0       0.0                  0.0     0.000000   \n",
       "668              0.0          0.0       0.0                  0.0     0.000000   \n",
       "669              0.0          0.0       0.0                  0.0     0.000000   \n",
       "670              0.0          0.0       0.0                  0.0     0.000000   \n",
       "671              0.0          0.0       0.0                  0.0     0.000000   \n",
       "672              0.0          0.0       0.0                  0.0     0.000000   \n",
       "673              0.0          0.0       0.0                  0.0     0.000000   \n",
       "674              0.0          0.0       0.0                  0.0     0.000000   \n",
       "675              0.0          0.0       0.0                  0.0     0.000000   \n",
       "676              0.0          0.0       0.0                  0.0     0.000000   \n",
       "677              0.0          0.0       0.0                  0.0     0.000000   \n",
       "678              0.0          0.0       0.0                  0.0     0.000000   \n",
       "679              0.0          0.0       0.0                  0.0     0.000000   \n",
       "680              0.0          0.0       0.0                  0.0     0.000717   \n",
       "681              0.0          0.0       0.0                  0.0     0.000000   \n",
       "682              0.0          0.0       0.0                  0.0     0.000000   \n",
       "683              0.0          0.0       0.0                  0.0     0.000000   \n",
       "684              0.0          0.0       0.0                  0.0     0.000000   \n",
       "685              0.0          0.0       0.0                  0.0     0.000000   \n",
       "\n",
       "     Achromobacter  Acidaminococcus  Acidipila  Acinetobacter  Actibacter  \\\n",
       "0              0.0         0.000000        0.0       0.000000         0.0   \n",
       "1              0.0         0.000000        0.0       0.000000         0.0   \n",
       "2              0.0         0.000000        0.0       0.000000         0.0   \n",
       "3              0.0         0.000000        0.0       0.000000         0.0   \n",
       "4              0.0         0.000000        0.0       0.000000         0.0   \n",
       "5              0.0         0.000000        0.0       0.000000         0.0   \n",
       "6              0.0         0.000000        0.0       0.000000         0.0   \n",
       "7              0.0         0.000000        0.0       0.000000         0.0   \n",
       "8              0.0         0.000000        0.0       0.000000         0.0   \n",
       "9              0.0         0.000000        0.0       0.000000         0.0   \n",
       "10             0.0         0.000000        0.0       0.000000         0.0   \n",
       "11             0.0         0.006359        0.0       0.000000         0.0   \n",
       "12             0.0         0.003851        0.0       0.000000         0.0   \n",
       "13             0.0         0.000000        0.0       0.001133         0.0   \n",
       "14             0.0         0.000000        0.0       0.000000         0.0   \n",
       "15             0.0         0.000000        0.0       0.000000         0.0   \n",
       "16             0.0         0.000000        0.0       0.000000         0.0   \n",
       "17             0.0         0.000000        0.0       0.000000         0.0   \n",
       "18             0.0         0.000000        0.0       0.000000         0.0   \n",
       "19             0.0         0.000000        0.0       0.000000         0.0   \n",
       "20             0.0         0.000000        0.0       0.000000         0.0   \n",
       "21             0.0         0.000000        0.0       0.000000         0.0   \n",
       "22             0.0         0.000000        0.0       0.000000         0.0   \n",
       "23             0.0         0.000000        0.0       0.000000         0.0   \n",
       "24             0.0         0.000000        0.0       0.000000         0.0   \n",
       "25             0.0         0.000000        0.0       0.000000         0.0   \n",
       "26             0.0         0.000000        0.0       0.000000         0.0   \n",
       "27             0.0         0.000000        0.0       0.000000         0.0   \n",
       "28             0.0         0.000000        0.0       0.000000         0.0   \n",
       "29             0.0         0.000000        0.0       0.000000         0.0   \n",
       "..             ...              ...        ...            ...         ...   \n",
       "656            0.0         0.000000        0.0       0.000000         0.0   \n",
       "657            0.0         0.000000        0.0       0.000000         0.0   \n",
       "658            0.0         0.000000        0.0       0.000000         0.0   \n",
       "659            0.0         0.000000        0.0       0.000918         0.0   \n",
       "660            0.0         0.000000        0.0       0.000000         0.0   \n",
       "661            0.0         0.000000        0.0       0.000000         0.0   \n",
       "662            0.0         0.000000        0.0       0.001377         0.0   \n",
       "663            0.0         0.000000        0.0       0.000000         0.0   \n",
       "664            0.0         0.001306        0.0       0.000000         0.0   \n",
       "665            0.0         0.000000        0.0       0.000000         0.0   \n",
       "666            0.0         0.000000        0.0       0.000000         0.0   \n",
       "667            0.0         0.000000        0.0       0.000000         0.0   \n",
       "668            0.0         0.000000        0.0       0.000000         0.0   \n",
       "669            0.0         0.000000        0.0       0.000000         0.0   \n",
       "670            0.0         0.000000        0.0       0.000000         0.0   \n",
       "671            0.0         0.000000        0.0       0.000000         0.0   \n",
       "672            0.0         0.000000        0.0       0.000000         0.0   \n",
       "673            0.0         0.000000        0.0       0.000000         0.0   \n",
       "674            0.0         0.000000        0.0       0.000000         0.0   \n",
       "675            0.0         0.000000        0.0       0.000000         0.0   \n",
       "676            0.0         0.000000        0.0       0.000000         0.0   \n",
       "677            0.0         0.000000        0.0       0.000000         0.0   \n",
       "678            0.0         0.000000        0.0       0.000000         0.0   \n",
       "679            0.0         0.000000        0.0       0.000000         0.0   \n",
       "680            0.0         0.000000        0.0       0.000000         0.0   \n",
       "681            0.0         0.000000        0.0       0.000000         0.0   \n",
       "682            0.0         0.000000        0.0       0.000176         0.0   \n",
       "683            0.0         0.000000        0.0       0.000000         0.0   \n",
       "684            0.0         0.000000        0.0       0.000000         0.0   \n",
       "685            0.0         0.000000        0.0       0.000000         0.0   \n",
       "\n",
       "     ...  Victivallis  Weissella  Winogradskyella  Woeseia  Yoonia-Loktanella  \\\n",
       "0    ...     0.000000        0.0              0.0      0.0                0.0   \n",
       "1    ...     0.000000        0.0              0.0      0.0                0.0   \n",
       "2    ...     0.000000        0.0              0.0      0.0                0.0   \n",
       "3    ...     0.000000        0.0              0.0      0.0                0.0   \n",
       "4    ...     0.000000        0.0              0.0      0.0                0.0   \n",
       "5    ...     0.000000        0.0              0.0      0.0                0.0   \n",
       "6    ...     0.000000        0.0              0.0      0.0                0.0   \n",
       "7    ...     0.000000        0.0              0.0      0.0                0.0   \n",
       "8    ...     0.000000        0.0              0.0      0.0                0.0   \n",
       "9    ...     0.000000        0.0              0.0      0.0                0.0   \n",
       "10   ...     0.000000        0.0              0.0      0.0                0.0   \n",
       "11   ...     0.000000        0.0              0.0      0.0                0.0   \n",
       "12   ...     0.000000        0.0              0.0      0.0                0.0   \n",
       "13   ...     0.000000        0.0              0.0      0.0                0.0   \n",
       "14   ...     0.000000        0.0              0.0      0.0                0.0   \n",
       "15   ...     0.000000        0.0              0.0      0.0                0.0   \n",
       "16   ...     0.000000        0.0              0.0      0.0                0.0   \n",
       "17   ...     0.000107        0.0              0.0      0.0                0.0   \n",
       "18   ...     0.000000        0.0              0.0      0.0                0.0   \n",
       "19   ...     0.000000        0.0              0.0      0.0                0.0   \n",
       "20   ...     0.000000        0.0              0.0      0.0                0.0   \n",
       "21   ...     0.000000        0.0              0.0      0.0                0.0   \n",
       "22   ...     0.000000        0.0              0.0      0.0                0.0   \n",
       "23   ...     0.000000        0.0              0.0      0.0                0.0   \n",
       "24   ...     0.000759        0.0              0.0      0.0                0.0   \n",
       "25   ...     0.000000        0.0              0.0      0.0                0.0   \n",
       "26   ...     0.000000        0.0              0.0      0.0                0.0   \n",
       "27   ...     0.000000        0.0              0.0      0.0                0.0   \n",
       "28   ...     0.000000        0.0              0.0      0.0                0.0   \n",
       "29   ...     0.000000        0.0              0.0      0.0                0.0   \n",
       "..   ...          ...        ...              ...      ...                ...   \n",
       "656  ...     0.000000        0.0              0.0      0.0                0.0   \n",
       "657  ...     0.000000        0.0              0.0      0.0                0.0   \n",
       "658  ...     0.000000        0.0              0.0      0.0                0.0   \n",
       "659  ...     0.000000        0.0              0.0      0.0                0.0   \n",
       "660  ...     0.000000        0.0              0.0      0.0                0.0   \n",
       "661  ...     0.000000        0.0              0.0      0.0                0.0   \n",
       "662  ...     0.000000        0.0              0.0      0.0                0.0   \n",
       "663  ...     0.000000        0.0              0.0      0.0                0.0   \n",
       "664  ...     0.000290        0.0              0.0      0.0                0.0   \n",
       "665  ...     0.000000        0.0              0.0      0.0                0.0   \n",
       "666  ...     0.000282        0.0              0.0      0.0                0.0   \n",
       "667  ...     0.000000        0.0              0.0      0.0                0.0   \n",
       "668  ...     0.000000        0.0              0.0      0.0                0.0   \n",
       "669  ...     0.000000        0.0              0.0      0.0                0.0   \n",
       "670  ...     0.000000        0.0              0.0      0.0                0.0   \n",
       "671  ...     0.000000        0.0              0.0      0.0                0.0   \n",
       "672  ...     0.000000        0.0              0.0      0.0                0.0   \n",
       "673  ...     0.000000        0.0              0.0      0.0                0.0   \n",
       "674  ...     0.000379        0.0              0.0      0.0                0.0   \n",
       "675  ...     0.000000        0.0              0.0      0.0                0.0   \n",
       "676  ...     0.000000        0.0              0.0      0.0                0.0   \n",
       "677  ...     0.000000        0.0              0.0      0.0                0.0   \n",
       "678  ...     0.000000        0.0              0.0      0.0                0.0   \n",
       "679  ...     0.000000        0.0              0.0      0.0                0.0   \n",
       "680  ...     0.000000        0.0              0.0      0.0                0.0   \n",
       "681  ...     0.000000        0.0              0.0      0.0                0.0   \n",
       "682  ...     0.000000        0.0              0.0      0.0                0.0   \n",
       "683  ...     0.000000        0.0              0.0      0.0                0.0   \n",
       "684  ...     0.000000        0.0              0.0      0.0                0.0   \n",
       "685  ...     0.000000        0.0              0.0      0.0                0.0   \n",
       "\n",
       "     Yueomyces  Zavarzinella  method     sampleid              uid  \n",
       "0          0.0           0.0     mgx  C0915-4F-1A  C0915-4F-1A-mgx  \n",
       "1          0.0           0.0     mgx  C0577-1F-1A  C0577-1F-1A-mgx  \n",
       "2          0.0           0.0     mgx  C0061-6F-1A  C0061-6F-1A-mgx  \n",
       "3          0.0           0.0     mgx  C0592-1F-1A  C0592-1F-1A-mgx  \n",
       "4          0.0           0.0     mgx  C0521-1F-2A  C0521-1F-2A-mgx  \n",
       "5          0.0           0.0     mgx  C0124-3F-1A  C0124-3F-1A-mgx  \n",
       "6          0.0           0.0     mgx  C0841-1F-1A  C0841-1F-1A-mgx  \n",
       "7          0.0           0.0     mgx  C0106-6E-1A  C0106-6E-1A-mgx  \n",
       "8          0.0           0.0     mgx  C0590-1F-1A  C0590-1F-1A-mgx  \n",
       "9          0.0           0.0     mgx  C0541-1F-1A  C0541-1F-1A-mgx  \n",
       "10         0.0           0.0     mgx  C0286-6F-1A  C0286-6F-1A-mgx  \n",
       "11         0.0           0.0     mgx  C1238-1F-1A  C1238-1F-1A-mgx  \n",
       "12         0.0           0.0     mgx  C0825-1E-1A  C0825-1E-1A-mgx  \n",
       "13         0.0           0.0     mgx  C0794-4F-1A  C0794-4F-1A-mgx  \n",
       "14         0.0           0.0     mgx  C0863-4F-1A  C0863-4F-1A-mgx  \n",
       "15         0.0           0.0     mgx  C0142-6F-1A  C0142-6F-1A-mgx  \n",
       "16         0.0           0.0     mgx  C1219-3F-1A  C1219-3F-1A-mgx  \n",
       "17         0.0           0.0     mgx  C0062-6F-1A  C0062-6F-1A-mgx  \n",
       "18         0.0           0.0     mgx  C0673-1E-1A  C0673-1E-1A-mgx  \n",
       "19         0.0           0.0     mgx  C0661-1F-1A  C0661-1F-1A-mgx  \n",
       "20         0.0           0.0     mgx  C0744-6F-1A  C0744-6F-1A-mgx  \n",
       "21         0.0           0.0     mgx  C0505-2F-1A  C0505-2F-1A-mgx  \n",
       "22         0.0           0.0     mgx  C0569-1F-2A  C0569-1F-2A-mgx  \n",
       "23         0.0           0.0     mgx  C0058-4E-1A  C0058-4E-1A-mgx  \n",
       "24         0.0           0.0     mgx  C0512-2F-1A  C0512-2F-1A-mgx  \n",
       "25         0.0           0.0     mgx  C0552-1F-1A  C0552-1F-1A-mgx  \n",
       "26         0.0           0.0     mgx  C1037-4F-1A  C1037-4F-1A-mgx  \n",
       "27         0.0           0.0     mgx  C0799-1E-1A  C0799-1E-1A-mgx  \n",
       "28         0.0           0.0     mgx  C0723-3F-1A  C0723-3F-1A-mgx  \n",
       "29         0.0           0.0     mgx  C0839-4F-1A  C0839-4F-1A-mgx  \n",
       "..         ...           ...     ...          ...              ...  \n",
       "656        0.0           0.0     amp  C0032-9F-1A  C0032-9F-1A-amp  \n",
       "657        0.0           0.0     amp  C0886-4F-1A  C0886-4F-1A-amp  \n",
       "658        0.0           0.0     amp  C0631-1F-1A  C0631-1F-1A-amp  \n",
       "659        0.0           0.0     amp  C1099-3F-1A  C1099-3F-1A-amp  \n",
       "660        0.0           0.0     amp  C0902-1F-1A  C0902-1F-1A-amp  \n",
       "661        0.0           0.0     amp  C0093-3F-1A  C0093-3F-1A-amp  \n",
       "662        0.0           0.0     amp  C0595-1F-1A  C0595-1F-1A-amp  \n",
       "663        0.0           0.0     amp  C0526-2F-1A  C0526-2F-1A-amp  \n",
       "664        0.0           0.0     amp  C0594-1F-1A  C0594-1F-1A-amp  \n",
       "665        0.0           0.0     amp  C0684-4F-1A  C0684-4F-1A-amp  \n",
       "666        0.0           0.0     amp  C0259-3F-1A  C0259-3F-1A-amp  \n",
       "667        0.0           0.0     amp  C0909-4F-1A  C0909-4F-1A-amp  \n",
       "668        0.0           0.0     amp  C0647-4F-1A  C0647-4F-1A-amp  \n",
       "669        0.0           0.0     amp  C0607-1F-1A  C0607-1F-1A-amp  \n",
       "670        0.0           0.0     amp  C0277-2F-1A  C0277-2F-1A-amp  \n",
       "671        0.0           0.0     amp  C0996-4F-1A  C0996-4F-1A-amp  \n",
       "672        0.0           0.0     amp  C0897-2F-1A  C0897-2F-1A-amp  \n",
       "673        0.0           0.0     amp  C0443-4F-1A  C0443-4F-1A-amp  \n",
       "674        0.0           0.0     amp  C0517-1F-1A  C0517-1F-1A-amp  \n",
       "675        0.0           0.0     amp  C0518-2F-1A  C0518-2F-1A-amp  \n",
       "676        0.0           0.0     amp  C0638-1F-1A  C0638-1F-1A-amp  \n",
       "677        0.0           0.0     amp  C1160-3F-1A  C1160-3F-1A-amp  \n",
       "678        0.0           0.0     amp  C0639-1F-1A  C0639-1F-1A-amp  \n",
       "679        0.0           0.0     amp  C0641-1F-1A  C0641-1F-1A-amp  \n",
       "680        0.0           0.0     amp  C0703-4F-1A  C0703-4F-1A-amp  \n",
       "681        0.0           0.0     amp  C1008-4F-1A  C1008-4F-1A-amp  \n",
       "682        0.0           0.0     amp  C0713-4F-1A  C0713-4F-1A-amp  \n",
       "683        0.0           0.0     amp  C0192-4F-1A  C0192-4F-1A-amp  \n",
       "684        0.0           0.0     amp  C0071-8F-1A  C0071-8F-1A-amp  \n",
       "685        0.0           0.0     amp  C1217-1F-1A  C1217-1F-1A-amp  \n",
       "\n",
       "[686 rows x 561 columns]"
      ]
     },
     "execution_count": 79,
     "metadata": {},
     "output_type": "execute_result"
    }
   ],
   "source": [
    "concat_df"
   ]
  },
  {
   "cell_type": "code",
   "execution_count": 80,
   "metadata": {},
   "outputs": [
    {
     "data": {
      "text/plain": [
       "343"
      ]
     },
     "execution_count": 80,
     "metadata": {},
     "output_type": "execute_result"
    }
   ],
   "source": [
    "len(concat_df[\"sampleid\"].unique())"
   ]
  },
  {
   "cell_type": "code",
   "execution_count": 81,
   "metadata": {},
   "outputs": [
    {
     "data": {
      "text/plain": [
       "686"
      ]
     },
     "execution_count": 81,
     "metadata": {},
     "output_type": "execute_result"
    }
   ],
   "source": [
    "len(concat_df)"
   ]
  },
  {
   "cell_type": "code",
   "execution_count": 82,
   "metadata": {},
   "outputs": [
    {
     "data": {
      "text/html": [
       "<div>\n",
       "<style scoped>\n",
       "    .dataframe tbody tr th:only-of-type {\n",
       "        vertical-align: middle;\n",
       "    }\n",
       "\n",
       "    .dataframe tbody tr th {\n",
       "        vertical-align: top;\n",
       "    }\n",
       "\n",
       "    .dataframe thead th {\n",
       "        text-align: right;\n",
       "    }\n",
       "</style>\n",
       "<table border=\"1\" class=\"dataframe\">\n",
       "  <thead>\n",
       "    <tr style=\"text-align: right;\">\n",
       "      <th></th>\n",
       "      <th>subjectID</th>\n",
       "      <th>timepoint</th>\n",
       "      <th>ageLabel</th>\n",
       "      <th>ASLProcessed</th>\n",
       "      <th>birthType</th>\n",
       "      <th>breastFedPercent</th>\n",
       "      <th>breastfeeding</th>\n",
       "      <th>childBMI</th>\n",
       "      <th>childGender</th>\n",
       "      <th>cogAssessment</th>\n",
       "      <th>...</th>\n",
       "      <th>WHO_fwfl</th>\n",
       "      <th>WHO_zbmi</th>\n",
       "      <th>WHO_zlen</th>\n",
       "      <th>WHO_zwei</th>\n",
       "      <th>WHO_zwfl</th>\n",
       "      <th>ProcessingComplete</th>\n",
       "      <th>SequenceName</th>\n",
       "      <th>timepoint.1</th>\n",
       "      <th>sampleid</th>\n",
       "      <th>AgeMonths</th>\n",
       "    </tr>\n",
       "  </thead>\n",
       "  <tbody>\n",
       "    <tr>\n",
       "      <th>0</th>\n",
       "      <td>52.0</td>\n",
       "      <td>5.0</td>\n",
       "      <td>2 and over</td>\n",
       "      <td>0.0</td>\n",
       "      <td>Cesarean</td>\n",
       "      <td>NaN</td>\n",
       "      <td>NaN</td>\n",
       "      <td>16.728348</td>\n",
       "      <td>Male</td>\n",
       "      <td>WISC</td>\n",
       "      <td>...</td>\n",
       "      <td>NaN</td>\n",
       "      <td>NaN</td>\n",
       "      <td>NaN</td>\n",
       "      <td>NaN</td>\n",
       "      <td>NaN</td>\n",
       "      <td>Yes</td>\n",
       "      <td>Mcdespot</td>\n",
       "      <td>5.0</td>\n",
       "      <td>C0052-5F-1A</td>\n",
       "      <td>94.133333</td>\n",
       "    </tr>\n",
       "    <tr>\n",
       "      <th>1</th>\n",
       "      <td>53.0</td>\n",
       "      <td>6.0</td>\n",
       "      <td>2 and over</td>\n",
       "      <td>0.0</td>\n",
       "      <td>Cesarean</td>\n",
       "      <td>NaN</td>\n",
       "      <td>NaN</td>\n",
       "      <td>16.008798</td>\n",
       "      <td>Female</td>\n",
       "      <td>WPPSI</td>\n",
       "      <td>...</td>\n",
       "      <td>NaN</td>\n",
       "      <td>NaN</td>\n",
       "      <td>NaN</td>\n",
       "      <td>NaN</td>\n",
       "      <td>NaN</td>\n",
       "      <td>Yes</td>\n",
       "      <td>Mcdespot</td>\n",
       "      <td>6.0</td>\n",
       "      <td>C0053-6F-1A</td>\n",
       "      <td>72.500000</td>\n",
       "    </tr>\n",
       "    <tr>\n",
       "      <th>2</th>\n",
       "      <td>202.0</td>\n",
       "      <td>4.0</td>\n",
       "      <td>2 and over</td>\n",
       "      <td>0.0</td>\n",
       "      <td>Vaginal</td>\n",
       "      <td>NaN</td>\n",
       "      <td>NaN</td>\n",
       "      <td>15.285845</td>\n",
       "      <td>Female</td>\n",
       "      <td>WPPSI</td>\n",
       "      <td>...</td>\n",
       "      <td>0.0</td>\n",
       "      <td>0.03</td>\n",
       "      <td>-1.26</td>\n",
       "      <td>-0.75</td>\n",
       "      <td>0.04</td>\n",
       "      <td>Yes</td>\n",
       "      <td>Mcdespot</td>\n",
       "      <td>4.0</td>\n",
       "      <td>C0202-4F-1A</td>\n",
       "      <td>53.366667</td>\n",
       "    </tr>\n",
       "    <tr>\n",
       "      <th>3</th>\n",
       "      <td>202.0</td>\n",
       "      <td>4.0</td>\n",
       "      <td>2 and over</td>\n",
       "      <td>0.0</td>\n",
       "      <td>Vaginal</td>\n",
       "      <td>NaN</td>\n",
       "      <td>NaN</td>\n",
       "      <td>15.285845</td>\n",
       "      <td>Female</td>\n",
       "      <td>WPPSI</td>\n",
       "      <td>...</td>\n",
       "      <td>0.0</td>\n",
       "      <td>0.03</td>\n",
       "      <td>-1.26</td>\n",
       "      <td>-0.75</td>\n",
       "      <td>0.04</td>\n",
       "      <td>Yes</td>\n",
       "      <td>Mcdespot</td>\n",
       "      <td>4.0</td>\n",
       "      <td>C0202-4F-2A</td>\n",
       "      <td>53.366667</td>\n",
       "    </tr>\n",
       "    <tr>\n",
       "      <th>4</th>\n",
       "      <td>420.0</td>\n",
       "      <td>4.0</td>\n",
       "      <td>2 and over</td>\n",
       "      <td>0.0</td>\n",
       "      <td>Vaginal</td>\n",
       "      <td>NaN</td>\n",
       "      <td>NaN</td>\n",
       "      <td>18.979630</td>\n",
       "      <td>Female</td>\n",
       "      <td>Mullen</td>\n",
       "      <td>...</td>\n",
       "      <td>0.0</td>\n",
       "      <td>2.19</td>\n",
       "      <td>-3.46</td>\n",
       "      <td>-0.68</td>\n",
       "      <td>1.61</td>\n",
       "      <td>NaN</td>\n",
       "      <td>Mcdespot</td>\n",
       "      <td>4.0</td>\n",
       "      <td>C0420-4F-1A</td>\n",
       "      <td>26.600000</td>\n",
       "    </tr>\n",
       "    <tr>\n",
       "      <th>5</th>\n",
       "      <td>420.0</td>\n",
       "      <td>4.0</td>\n",
       "      <td>2 and over</td>\n",
       "      <td>0.0</td>\n",
       "      <td>Vaginal</td>\n",
       "      <td>NaN</td>\n",
       "      <td>NaN</td>\n",
       "      <td>18.979630</td>\n",
       "      <td>Female</td>\n",
       "      <td>Mullen</td>\n",
       "      <td>...</td>\n",
       "      <td>0.0</td>\n",
       "      <td>2.19</td>\n",
       "      <td>-3.46</td>\n",
       "      <td>-0.68</td>\n",
       "      <td>1.61</td>\n",
       "      <td>NaN</td>\n",
       "      <td>Mcdespot</td>\n",
       "      <td>4.0</td>\n",
       "      <td>C0420-4F-2A</td>\n",
       "      <td>26.600000</td>\n",
       "    </tr>\n",
       "    <tr>\n",
       "      <th>6</th>\n",
       "      <td>108.0</td>\n",
       "      <td>4.0</td>\n",
       "      <td>2 and over</td>\n",
       "      <td>0.0</td>\n",
       "      <td>Cesarean</td>\n",
       "      <td>NaN</td>\n",
       "      <td>NaN</td>\n",
       "      <td>17.834450</td>\n",
       "      <td>Male</td>\n",
       "      <td>WISC</td>\n",
       "      <td>...</td>\n",
       "      <td>NaN</td>\n",
       "      <td>NaN</td>\n",
       "      <td>NaN</td>\n",
       "      <td>NaN</td>\n",
       "      <td>NaN</td>\n",
       "      <td>Yes</td>\n",
       "      <td>Mcdespot</td>\n",
       "      <td>4.0</td>\n",
       "      <td>C0108-4F-1A</td>\n",
       "      <td>137.466667</td>\n",
       "    </tr>\n",
       "    <tr>\n",
       "      <th>7</th>\n",
       "      <td>126.0</td>\n",
       "      <td>8.0</td>\n",
       "      <td>2 and over</td>\n",
       "      <td>0.0</td>\n",
       "      <td>Vaginal</td>\n",
       "      <td>NaN</td>\n",
       "      <td>NaN</td>\n",
       "      <td>NaN</td>\n",
       "      <td>Male</td>\n",
       "      <td>WISC</td>\n",
       "      <td>...</td>\n",
       "      <td>NaN</td>\n",
       "      <td>NaN</td>\n",
       "      <td>NaN</td>\n",
       "      <td>NaN</td>\n",
       "      <td>NaN</td>\n",
       "      <td>NaN</td>\n",
       "      <td>Mcdespot</td>\n",
       "      <td>8.0</td>\n",
       "      <td>C0126-8F-1A</td>\n",
       "      <td>75.366667</td>\n",
       "    </tr>\n",
       "    <tr>\n",
       "      <th>8</th>\n",
       "      <td>126.0</td>\n",
       "      <td>8.0</td>\n",
       "      <td>2 and over</td>\n",
       "      <td>0.0</td>\n",
       "      <td>Vaginal</td>\n",
       "      <td>NaN</td>\n",
       "      <td>NaN</td>\n",
       "      <td>NaN</td>\n",
       "      <td>Male</td>\n",
       "      <td>WISC</td>\n",
       "      <td>...</td>\n",
       "      <td>NaN</td>\n",
       "      <td>NaN</td>\n",
       "      <td>NaN</td>\n",
       "      <td>NaN</td>\n",
       "      <td>NaN</td>\n",
       "      <td>NaN</td>\n",
       "      <td>Mcdespot</td>\n",
       "      <td>8.0</td>\n",
       "      <td>C0126-8F-1B</td>\n",
       "      <td>75.366667</td>\n",
       "    </tr>\n",
       "    <tr>\n",
       "      <th>9</th>\n",
       "      <td>127.0</td>\n",
       "      <td>6.0</td>\n",
       "      <td>2 and over</td>\n",
       "      <td>0.0</td>\n",
       "      <td>Vaginal</td>\n",
       "      <td>NaN</td>\n",
       "      <td>NaN</td>\n",
       "      <td>NaN</td>\n",
       "      <td>Female</td>\n",
       "      <td>WISC</td>\n",
       "      <td>...</td>\n",
       "      <td>NaN</td>\n",
       "      <td>NaN</td>\n",
       "      <td>NaN</td>\n",
       "      <td>NaN</td>\n",
       "      <td>NaN</td>\n",
       "      <td>Yes</td>\n",
       "      <td>Mcdespot</td>\n",
       "      <td>6.0</td>\n",
       "      <td>C0127-6F-1B</td>\n",
       "      <td>112.233333</td>\n",
       "    </tr>\n",
       "    <tr>\n",
       "      <th>10</th>\n",
       "      <td>82.0</td>\n",
       "      <td>4.0</td>\n",
       "      <td>2 and over</td>\n",
       "      <td>0.0</td>\n",
       "      <td>Cesarean</td>\n",
       "      <td>NaN</td>\n",
       "      <td>NaN</td>\n",
       "      <td>13.321486</td>\n",
       "      <td>Female</td>\n",
       "      <td>WISC</td>\n",
       "      <td>...</td>\n",
       "      <td>NaN</td>\n",
       "      <td>NaN</td>\n",
       "      <td>NaN</td>\n",
       "      <td>NaN</td>\n",
       "      <td>NaN</td>\n",
       "      <td>NaN</td>\n",
       "      <td>Mcdespot</td>\n",
       "      <td>4.0</td>\n",
       "      <td>C0082-4F-1A</td>\n",
       "      <td>99.466667</td>\n",
       "    </tr>\n",
       "    <tr>\n",
       "      <th>11</th>\n",
       "      <td>507.0</td>\n",
       "      <td>1.0</td>\n",
       "      <td>2 and over</td>\n",
       "      <td>0.0</td>\n",
       "      <td>Vaginal</td>\n",
       "      <td>NaN</td>\n",
       "      <td>NaN</td>\n",
       "      <td>NaN</td>\n",
       "      <td>Male</td>\n",
       "      <td>WISC</td>\n",
       "      <td>...</td>\n",
       "      <td>NaN</td>\n",
       "      <td>NaN</td>\n",
       "      <td>NaN</td>\n",
       "      <td>NaN</td>\n",
       "      <td>NaN</td>\n",
       "      <td>Yes</td>\n",
       "      <td>Mcdespot</td>\n",
       "      <td>1.0</td>\n",
       "      <td>C0507-1F-1A</td>\n",
       "      <td>83.433333</td>\n",
       "    </tr>\n",
       "    <tr>\n",
       "      <th>12</th>\n",
       "      <td>507.0</td>\n",
       "      <td>1.0</td>\n",
       "      <td>2 and over</td>\n",
       "      <td>0.0</td>\n",
       "      <td>Vaginal</td>\n",
       "      <td>NaN</td>\n",
       "      <td>NaN</td>\n",
       "      <td>NaN</td>\n",
       "      <td>Male</td>\n",
       "      <td>WISC</td>\n",
       "      <td>...</td>\n",
       "      <td>NaN</td>\n",
       "      <td>NaN</td>\n",
       "      <td>NaN</td>\n",
       "      <td>NaN</td>\n",
       "      <td>NaN</td>\n",
       "      <td>Yes</td>\n",
       "      <td>Mcdespot</td>\n",
       "      <td>1.0</td>\n",
       "      <td>C0507-1F-2A</td>\n",
       "      <td>83.433333</td>\n",
       "    </tr>\n",
       "    <tr>\n",
       "      <th>13</th>\n",
       "      <td>240.0</td>\n",
       "      <td>3.0</td>\n",
       "      <td>2 and over</td>\n",
       "      <td>0.0</td>\n",
       "      <td>Vaginal</td>\n",
       "      <td>NaN</td>\n",
       "      <td>NaN</td>\n",
       "      <td>NaN</td>\n",
       "      <td>Female</td>\n",
       "      <td>WISC</td>\n",
       "      <td>...</td>\n",
       "      <td>NaN</td>\n",
       "      <td>NaN</td>\n",
       "      <td>NaN</td>\n",
       "      <td>NaN</td>\n",
       "      <td>NaN</td>\n",
       "      <td>Yes</td>\n",
       "      <td>Mcdespot</td>\n",
       "      <td>3.0</td>\n",
       "      <td>C0240-3F-1A</td>\n",
       "      <td>73.400000</td>\n",
       "    </tr>\n",
       "    <tr>\n",
       "      <th>14</th>\n",
       "      <td>240.0</td>\n",
       "      <td>3.0</td>\n",
       "      <td>2 and over</td>\n",
       "      <td>0.0</td>\n",
       "      <td>Vaginal</td>\n",
       "      <td>NaN</td>\n",
       "      <td>NaN</td>\n",
       "      <td>NaN</td>\n",
       "      <td>Female</td>\n",
       "      <td>WISC</td>\n",
       "      <td>...</td>\n",
       "      <td>NaN</td>\n",
       "      <td>NaN</td>\n",
       "      <td>NaN</td>\n",
       "      <td>NaN</td>\n",
       "      <td>NaN</td>\n",
       "      <td>Yes</td>\n",
       "      <td>Mcdespot</td>\n",
       "      <td>3.0</td>\n",
       "      <td>C0240-3F-2A</td>\n",
       "      <td>73.400000</td>\n",
       "    </tr>\n",
       "    <tr>\n",
       "      <th>15</th>\n",
       "      <td>61.0</td>\n",
       "      <td>6.0</td>\n",
       "      <td>2 and over</td>\n",
       "      <td>0.0</td>\n",
       "      <td>Vaginal</td>\n",
       "      <td>NaN</td>\n",
       "      <td>NaN</td>\n",
       "      <td>17.859429</td>\n",
       "      <td>Male</td>\n",
       "      <td>WISC</td>\n",
       "      <td>...</td>\n",
       "      <td>NaN</td>\n",
       "      <td>NaN</td>\n",
       "      <td>NaN</td>\n",
       "      <td>NaN</td>\n",
       "      <td>NaN</td>\n",
       "      <td>NaN</td>\n",
       "      <td>Mcdespot</td>\n",
       "      <td>6.0</td>\n",
       "      <td>C0061-6F-1A</td>\n",
       "      <td>130.733333</td>\n",
       "    </tr>\n",
       "    <tr>\n",
       "      <th>16</th>\n",
       "      <td>61.0</td>\n",
       "      <td>6.0</td>\n",
       "      <td>2 and over</td>\n",
       "      <td>0.0</td>\n",
       "      <td>Vaginal</td>\n",
       "      <td>NaN</td>\n",
       "      <td>NaN</td>\n",
       "      <td>17.859429</td>\n",
       "      <td>Male</td>\n",
       "      <td>WISC</td>\n",
       "      <td>...</td>\n",
       "      <td>NaN</td>\n",
       "      <td>NaN</td>\n",
       "      <td>NaN</td>\n",
       "      <td>NaN</td>\n",
       "      <td>NaN</td>\n",
       "      <td>NaN</td>\n",
       "      <td>Mcdespot</td>\n",
       "      <td>6.0</td>\n",
       "      <td>C0061-6F-2A</td>\n",
       "      <td>130.733333</td>\n",
       "    </tr>\n",
       "    <tr>\n",
       "      <th>17</th>\n",
       "      <td>43.0</td>\n",
       "      <td>7.0</td>\n",
       "      <td>2 and over</td>\n",
       "      <td>0.0</td>\n",
       "      <td>Vaginal</td>\n",
       "      <td>NaN</td>\n",
       "      <td>NaN</td>\n",
       "      <td>19.594504</td>\n",
       "      <td>Male</td>\n",
       "      <td>WISC</td>\n",
       "      <td>...</td>\n",
       "      <td>NaN</td>\n",
       "      <td>NaN</td>\n",
       "      <td>NaN</td>\n",
       "      <td>NaN</td>\n",
       "      <td>NaN</td>\n",
       "      <td>NaN</td>\n",
       "      <td>Mcdespot</td>\n",
       "      <td>7.0</td>\n",
       "      <td>C0043-7F-1A</td>\n",
       "      <td>86.600000</td>\n",
       "    </tr>\n",
       "    <tr>\n",
       "      <th>18</th>\n",
       "      <td>66.0</td>\n",
       "      <td>6.0</td>\n",
       "      <td>2 and over</td>\n",
       "      <td>0.0</td>\n",
       "      <td>Vaginal</td>\n",
       "      <td>NaN</td>\n",
       "      <td>NaN</td>\n",
       "      <td>13.764884</td>\n",
       "      <td>Male</td>\n",
       "      <td>WISC</td>\n",
       "      <td>...</td>\n",
       "      <td>NaN</td>\n",
       "      <td>NaN</td>\n",
       "      <td>NaN</td>\n",
       "      <td>NaN</td>\n",
       "      <td>NaN</td>\n",
       "      <td>NaN</td>\n",
       "      <td>Mcdespot</td>\n",
       "      <td>6.0</td>\n",
       "      <td>C0066-6F-1A</td>\n",
       "      <td>124.866667</td>\n",
       "    </tr>\n",
       "    <tr>\n",
       "      <th>19</th>\n",
       "      <td>66.0</td>\n",
       "      <td>6.0</td>\n",
       "      <td>2 and over</td>\n",
       "      <td>0.0</td>\n",
       "      <td>Vaginal</td>\n",
       "      <td>NaN</td>\n",
       "      <td>NaN</td>\n",
       "      <td>13.764884</td>\n",
       "      <td>Male</td>\n",
       "      <td>WISC</td>\n",
       "      <td>...</td>\n",
       "      <td>NaN</td>\n",
       "      <td>NaN</td>\n",
       "      <td>NaN</td>\n",
       "      <td>NaN</td>\n",
       "      <td>NaN</td>\n",
       "      <td>NaN</td>\n",
       "      <td>Mcdespot</td>\n",
       "      <td>6.0</td>\n",
       "      <td>C0066-6F-1B</td>\n",
       "      <td>124.866667</td>\n",
       "    </tr>\n",
       "    <tr>\n",
       "      <th>20</th>\n",
       "      <td>66.0</td>\n",
       "      <td>6.0</td>\n",
       "      <td>2 and over</td>\n",
       "      <td>0.0</td>\n",
       "      <td>Vaginal</td>\n",
       "      <td>NaN</td>\n",
       "      <td>NaN</td>\n",
       "      <td>13.764884</td>\n",
       "      <td>Male</td>\n",
       "      <td>WISC</td>\n",
       "      <td>...</td>\n",
       "      <td>NaN</td>\n",
       "      <td>NaN</td>\n",
       "      <td>NaN</td>\n",
       "      <td>NaN</td>\n",
       "      <td>NaN</td>\n",
       "      <td>NaN</td>\n",
       "      <td>Mcdespot</td>\n",
       "      <td>6.0</td>\n",
       "      <td>C0066-6F-2A</td>\n",
       "      <td>124.866667</td>\n",
       "    </tr>\n",
       "    <tr>\n",
       "      <th>21</th>\n",
       "      <td>229.0</td>\n",
       "      <td>4.0</td>\n",
       "      <td>2 and over</td>\n",
       "      <td>0.0</td>\n",
       "      <td>Vaginal</td>\n",
       "      <td>NaN</td>\n",
       "      <td>NaN</td>\n",
       "      <td>15.042535</td>\n",
       "      <td>Male</td>\n",
       "      <td>WISC</td>\n",
       "      <td>...</td>\n",
       "      <td>NaN</td>\n",
       "      <td>NaN</td>\n",
       "      <td>NaN</td>\n",
       "      <td>NaN</td>\n",
       "      <td>NaN</td>\n",
       "      <td>NaN</td>\n",
       "      <td>Mcdespot</td>\n",
       "      <td>4.0</td>\n",
       "      <td>C0229-4F-1A</td>\n",
       "      <td>110.300000</td>\n",
       "    </tr>\n",
       "    <tr>\n",
       "      <th>22</th>\n",
       "      <td>229.0</td>\n",
       "      <td>4.0</td>\n",
       "      <td>2 and over</td>\n",
       "      <td>0.0</td>\n",
       "      <td>Vaginal</td>\n",
       "      <td>NaN</td>\n",
       "      <td>NaN</td>\n",
       "      <td>15.042535</td>\n",
       "      <td>Male</td>\n",
       "      <td>WISC</td>\n",
       "      <td>...</td>\n",
       "      <td>NaN</td>\n",
       "      <td>NaN</td>\n",
       "      <td>NaN</td>\n",
       "      <td>NaN</td>\n",
       "      <td>NaN</td>\n",
       "      <td>NaN</td>\n",
       "      <td>Mcdespot</td>\n",
       "      <td>4.0</td>\n",
       "      <td>C0229-4F-2A</td>\n",
       "      <td>110.300000</td>\n",
       "    </tr>\n",
       "    <tr>\n",
       "      <th>23</th>\n",
       "      <td>117.0</td>\n",
       "      <td>4.0</td>\n",
       "      <td>2 and over</td>\n",
       "      <td>0.0</td>\n",
       "      <td>Cesarean</td>\n",
       "      <td>NaN</td>\n",
       "      <td>NaN</td>\n",
       "      <td>12.641523</td>\n",
       "      <td>Female</td>\n",
       "      <td>WISC</td>\n",
       "      <td>...</td>\n",
       "      <td>NaN</td>\n",
       "      <td>NaN</td>\n",
       "      <td>NaN</td>\n",
       "      <td>NaN</td>\n",
       "      <td>NaN</td>\n",
       "      <td>Yes</td>\n",
       "      <td>Mcdespot</td>\n",
       "      <td>4.0</td>\n",
       "      <td>C0117-4F-1A</td>\n",
       "      <td>105.800000</td>\n",
       "    </tr>\n",
       "    <tr>\n",
       "      <th>24</th>\n",
       "      <td>117.0</td>\n",
       "      <td>4.0</td>\n",
       "      <td>2 and over</td>\n",
       "      <td>0.0</td>\n",
       "      <td>Cesarean</td>\n",
       "      <td>NaN</td>\n",
       "      <td>NaN</td>\n",
       "      <td>12.641523</td>\n",
       "      <td>Female</td>\n",
       "      <td>WISC</td>\n",
       "      <td>...</td>\n",
       "      <td>NaN</td>\n",
       "      <td>NaN</td>\n",
       "      <td>NaN</td>\n",
       "      <td>NaN</td>\n",
       "      <td>NaN</td>\n",
       "      <td>Yes</td>\n",
       "      <td>Mcdespot</td>\n",
       "      <td>4.0</td>\n",
       "      <td>C0117-4F-1B</td>\n",
       "      <td>105.800000</td>\n",
       "    </tr>\n",
       "    <tr>\n",
       "      <th>25</th>\n",
       "      <td>117.0</td>\n",
       "      <td>4.0</td>\n",
       "      <td>2 and over</td>\n",
       "      <td>0.0</td>\n",
       "      <td>Cesarean</td>\n",
       "      <td>NaN</td>\n",
       "      <td>NaN</td>\n",
       "      <td>12.641523</td>\n",
       "      <td>Female</td>\n",
       "      <td>WISC</td>\n",
       "      <td>...</td>\n",
       "      <td>NaN</td>\n",
       "      <td>NaN</td>\n",
       "      <td>NaN</td>\n",
       "      <td>NaN</td>\n",
       "      <td>NaN</td>\n",
       "      <td>Yes</td>\n",
       "      <td>Mcdespot</td>\n",
       "      <td>4.0</td>\n",
       "      <td>C0117-4F-2A</td>\n",
       "      <td>105.800000</td>\n",
       "    </tr>\n",
       "    <tr>\n",
       "      <th>26</th>\n",
       "      <td>476.0</td>\n",
       "      <td>3.0</td>\n",
       "      <td>1 to 2</td>\n",
       "      <td>0.0</td>\n",
       "      <td>Vaginal</td>\n",
       "      <td>NaN</td>\n",
       "      <td>NaN</td>\n",
       "      <td>14.617694</td>\n",
       "      <td>Female</td>\n",
       "      <td>Mullen</td>\n",
       "      <td>...</td>\n",
       "      <td>0.0</td>\n",
       "      <td>-0.85</td>\n",
       "      <td>1.81</td>\n",
       "      <td>0.53</td>\n",
       "      <td>-0.69</td>\n",
       "      <td>Yes</td>\n",
       "      <td>Mcdespot</td>\n",
       "      <td>3.0</td>\n",
       "      <td>C0476-3F-1A</td>\n",
       "      <td>24.166667</td>\n",
       "    </tr>\n",
       "    <tr>\n",
       "      <th>27</th>\n",
       "      <td>476.0</td>\n",
       "      <td>3.0</td>\n",
       "      <td>1 to 2</td>\n",
       "      <td>0.0</td>\n",
       "      <td>Vaginal</td>\n",
       "      <td>NaN</td>\n",
       "      <td>NaN</td>\n",
       "      <td>14.617694</td>\n",
       "      <td>Female</td>\n",
       "      <td>Mullen</td>\n",
       "      <td>...</td>\n",
       "      <td>0.0</td>\n",
       "      <td>-0.85</td>\n",
       "      <td>1.81</td>\n",
       "      <td>0.53</td>\n",
       "      <td>-0.69</td>\n",
       "      <td>Yes</td>\n",
       "      <td>Mcdespot</td>\n",
       "      <td>3.0</td>\n",
       "      <td>C0476-3F-2A</td>\n",
       "      <td>24.166667</td>\n",
       "    </tr>\n",
       "    <tr>\n",
       "      <th>28</th>\n",
       "      <td>479.0</td>\n",
       "      <td>3.0</td>\n",
       "      <td>2 and over</td>\n",
       "      <td>0.0</td>\n",
       "      <td>Vaginal</td>\n",
       "      <td>NaN</td>\n",
       "      <td>NaN</td>\n",
       "      <td>14.717395</td>\n",
       "      <td>Female</td>\n",
       "      <td>Mullen</td>\n",
       "      <td>...</td>\n",
       "      <td>0.0</td>\n",
       "      <td>-0.76</td>\n",
       "      <td>-0.68</td>\n",
       "      <td>-0.91</td>\n",
       "      <td>-0.81</td>\n",
       "      <td>NaN</td>\n",
       "      <td>Mcdespot</td>\n",
       "      <td>3.0</td>\n",
       "      <td>C0479-3F-1A</td>\n",
       "      <td>24.766667</td>\n",
       "    </tr>\n",
       "    <tr>\n",
       "      <th>29</th>\n",
       "      <td>479.0</td>\n",
       "      <td>3.0</td>\n",
       "      <td>2 and over</td>\n",
       "      <td>0.0</td>\n",
       "      <td>Vaginal</td>\n",
       "      <td>NaN</td>\n",
       "      <td>NaN</td>\n",
       "      <td>14.717395</td>\n",
       "      <td>Female</td>\n",
       "      <td>Mullen</td>\n",
       "      <td>...</td>\n",
       "      <td>0.0</td>\n",
       "      <td>-0.76</td>\n",
       "      <td>-0.68</td>\n",
       "      <td>-0.91</td>\n",
       "      <td>-0.81</td>\n",
       "      <td>NaN</td>\n",
       "      <td>Mcdespot</td>\n",
       "      <td>3.0</td>\n",
       "      <td>C0479-3F-2A</td>\n",
       "      <td>24.766667</td>\n",
       "    </tr>\n",
       "    <tr>\n",
       "      <th>...</th>\n",
       "      <td>...</td>\n",
       "      <td>...</td>\n",
       "      <td>...</td>\n",
       "      <td>...</td>\n",
       "      <td>...</td>\n",
       "      <td>...</td>\n",
       "      <td>...</td>\n",
       "      <td>...</td>\n",
       "      <td>...</td>\n",
       "      <td>...</td>\n",
       "      <td>...</td>\n",
       "      <td>...</td>\n",
       "      <td>...</td>\n",
       "      <td>...</td>\n",
       "      <td>...</td>\n",
       "      <td>...</td>\n",
       "      <td>...</td>\n",
       "      <td>...</td>\n",
       "      <td>...</td>\n",
       "      <td>...</td>\n",
       "      <td>...</td>\n",
       "    </tr>\n",
       "    <tr>\n",
       "      <th>1192</th>\n",
       "      <td>1273.0</td>\n",
       "      <td>4.0</td>\n",
       "      <td>1 and under</td>\n",
       "      <td>0.0</td>\n",
       "      <td>Cesarean</td>\n",
       "      <td>NaN</td>\n",
       "      <td>NaN</td>\n",
       "      <td>15.939892</td>\n",
       "      <td>Male</td>\n",
       "      <td>None</td>\n",
       "      <td>...</td>\n",
       "      <td>0.0</td>\n",
       "      <td>0.02</td>\n",
       "      <td>-1.89</td>\n",
       "      <td>-1.03</td>\n",
       "      <td>1.16</td>\n",
       "      <td>NaN</td>\n",
       "      <td>Mcdespot</td>\n",
       "      <td>4.0</td>\n",
       "      <td>C1273-4F-1A</td>\n",
       "      <td>0.933333</td>\n",
       "    </tr>\n",
       "    <tr>\n",
       "      <th>1193</th>\n",
       "      <td>1371.0</td>\n",
       "      <td>1.0</td>\n",
       "      <td>Prenatal</td>\n",
       "      <td>0.0</td>\n",
       "      <td>NaN</td>\n",
       "      <td>NaN</td>\n",
       "      <td>NaN</td>\n",
       "      <td>NaN</td>\n",
       "      <td>Male</td>\n",
       "      <td>None</td>\n",
       "      <td>...</td>\n",
       "      <td>NaN</td>\n",
       "      <td>NaN</td>\n",
       "      <td>NaN</td>\n",
       "      <td>NaN</td>\n",
       "      <td>NaN</td>\n",
       "      <td>NaN</td>\n",
       "      <td>NaN</td>\n",
       "      <td>NaN</td>\n",
       "      <td>M1371-1F-1A</td>\n",
       "      <td>NaN</td>\n",
       "    </tr>\n",
       "    <tr>\n",
       "      <th>1194</th>\n",
       "      <td>1316.0</td>\n",
       "      <td>3.0</td>\n",
       "      <td>Prenatal</td>\n",
       "      <td>0.0</td>\n",
       "      <td>NaN</td>\n",
       "      <td>NaN</td>\n",
       "      <td>NaN</td>\n",
       "      <td>NaN</td>\n",
       "      <td>Male</td>\n",
       "      <td>None</td>\n",
       "      <td>...</td>\n",
       "      <td>NaN</td>\n",
       "      <td>NaN</td>\n",
       "      <td>NaN</td>\n",
       "      <td>NaN</td>\n",
       "      <td>NaN</td>\n",
       "      <td>NaN</td>\n",
       "      <td>NaN</td>\n",
       "      <td>NaN</td>\n",
       "      <td>M1316-3F-1A</td>\n",
       "      <td>NaN</td>\n",
       "    </tr>\n",
       "    <tr>\n",
       "      <th>1195</th>\n",
       "      <td>1342.0</td>\n",
       "      <td>2.0</td>\n",
       "      <td>Prenatal</td>\n",
       "      <td>0.0</td>\n",
       "      <td>NaN</td>\n",
       "      <td>NaN</td>\n",
       "      <td>NaN</td>\n",
       "      <td>NaN</td>\n",
       "      <td>Female</td>\n",
       "      <td>None</td>\n",
       "      <td>...</td>\n",
       "      <td>NaN</td>\n",
       "      <td>NaN</td>\n",
       "      <td>NaN</td>\n",
       "      <td>NaN</td>\n",
       "      <td>NaN</td>\n",
       "      <td>NaN</td>\n",
       "      <td>NaN</td>\n",
       "      <td>NaN</td>\n",
       "      <td>M1342-2F-1A</td>\n",
       "      <td>NaN</td>\n",
       "    </tr>\n",
       "    <tr>\n",
       "      <th>1196</th>\n",
       "      <td>635.0</td>\n",
       "      <td>3.0</td>\n",
       "      <td>2 and over</td>\n",
       "      <td>0.0</td>\n",
       "      <td>Vaginal</td>\n",
       "      <td>NaN</td>\n",
       "      <td>NaN</td>\n",
       "      <td>14.673942</td>\n",
       "      <td>Female</td>\n",
       "      <td>None</td>\n",
       "      <td>...</td>\n",
       "      <td>NaN</td>\n",
       "      <td>NaN</td>\n",
       "      <td>NaN</td>\n",
       "      <td>NaN</td>\n",
       "      <td>NaN</td>\n",
       "      <td>NaN</td>\n",
       "      <td>Mcdespot</td>\n",
       "      <td>3.0</td>\n",
       "      <td>C0635-3F-1A</td>\n",
       "      <td>67.866667</td>\n",
       "    </tr>\n",
       "    <tr>\n",
       "      <th>1197</th>\n",
       "      <td>1352.0</td>\n",
       "      <td>2.0</td>\n",
       "      <td>Prenatal</td>\n",
       "      <td>0.0</td>\n",
       "      <td>NaN</td>\n",
       "      <td>NaN</td>\n",
       "      <td>NaN</td>\n",
       "      <td>NaN</td>\n",
       "      <td>Male</td>\n",
       "      <td>None</td>\n",
       "      <td>...</td>\n",
       "      <td>NaN</td>\n",
       "      <td>NaN</td>\n",
       "      <td>NaN</td>\n",
       "      <td>NaN</td>\n",
       "      <td>NaN</td>\n",
       "      <td>NaN</td>\n",
       "      <td>NaN</td>\n",
       "      <td>NaN</td>\n",
       "      <td>M1352-2F-1A</td>\n",
       "      <td>NaN</td>\n",
       "    </tr>\n",
       "    <tr>\n",
       "      <th>1198</th>\n",
       "      <td>1324.0</td>\n",
       "      <td>3.0</td>\n",
       "      <td>Prenatal</td>\n",
       "      <td>0.0</td>\n",
       "      <td>NaN</td>\n",
       "      <td>NaN</td>\n",
       "      <td>NaN</td>\n",
       "      <td>NaN</td>\n",
       "      <td>Female</td>\n",
       "      <td>None</td>\n",
       "      <td>...</td>\n",
       "      <td>NaN</td>\n",
       "      <td>NaN</td>\n",
       "      <td>NaN</td>\n",
       "      <td>NaN</td>\n",
       "      <td>NaN</td>\n",
       "      <td>NaN</td>\n",
       "      <td>NaN</td>\n",
       "      <td>NaN</td>\n",
       "      <td>M1324-3F-1A</td>\n",
       "      <td>NaN</td>\n",
       "    </tr>\n",
       "    <tr>\n",
       "      <th>1199</th>\n",
       "      <td>1305.0</td>\n",
       "      <td>3.0</td>\n",
       "      <td>Prenatal</td>\n",
       "      <td>0.0</td>\n",
       "      <td>NaN</td>\n",
       "      <td>NaN</td>\n",
       "      <td>NaN</td>\n",
       "      <td>NaN</td>\n",
       "      <td>Male</td>\n",
       "      <td>None</td>\n",
       "      <td>...</td>\n",
       "      <td>NaN</td>\n",
       "      <td>NaN</td>\n",
       "      <td>NaN</td>\n",
       "      <td>NaN</td>\n",
       "      <td>NaN</td>\n",
       "      <td>NaN</td>\n",
       "      <td>NaN</td>\n",
       "      <td>NaN</td>\n",
       "      <td>M1305-3F-1A</td>\n",
       "      <td>NaN</td>\n",
       "    </tr>\n",
       "    <tr>\n",
       "      <th>1200</th>\n",
       "      <td>1318.0</td>\n",
       "      <td>3.0</td>\n",
       "      <td>Prenatal</td>\n",
       "      <td>0.0</td>\n",
       "      <td>NaN</td>\n",
       "      <td>NaN</td>\n",
       "      <td>NaN</td>\n",
       "      <td>NaN</td>\n",
       "      <td>Male</td>\n",
       "      <td>None</td>\n",
       "      <td>...</td>\n",
       "      <td>NaN</td>\n",
       "      <td>NaN</td>\n",
       "      <td>NaN</td>\n",
       "      <td>NaN</td>\n",
       "      <td>NaN</td>\n",
       "      <td>NaN</td>\n",
       "      <td>NaN</td>\n",
       "      <td>NaN</td>\n",
       "      <td>M1318-3F-1A</td>\n",
       "      <td>NaN</td>\n",
       "    </tr>\n",
       "    <tr>\n",
       "      <th>1201</th>\n",
       "      <td>1322.0</td>\n",
       "      <td>3.0</td>\n",
       "      <td>Prenatal</td>\n",
       "      <td>0.0</td>\n",
       "      <td>Vaginal</td>\n",
       "      <td>NaN</td>\n",
       "      <td>NaN</td>\n",
       "      <td>NaN</td>\n",
       "      <td>Female</td>\n",
       "      <td>None</td>\n",
       "      <td>...</td>\n",
       "      <td>NaN</td>\n",
       "      <td>NaN</td>\n",
       "      <td>NaN</td>\n",
       "      <td>NaN</td>\n",
       "      <td>NaN</td>\n",
       "      <td>NaN</td>\n",
       "      <td>NaN</td>\n",
       "      <td>NaN</td>\n",
       "      <td>M1322-3F-1A</td>\n",
       "      <td>NaN</td>\n",
       "    </tr>\n",
       "    <tr>\n",
       "      <th>1202</th>\n",
       "      <td>571.0</td>\n",
       "      <td>3.0</td>\n",
       "      <td>2 and over</td>\n",
       "      <td>0.0</td>\n",
       "      <td>Vaginal</td>\n",
       "      <td>NaN</td>\n",
       "      <td>NaN</td>\n",
       "      <td>14.270571</td>\n",
       "      <td>Male</td>\n",
       "      <td>WISC</td>\n",
       "      <td>...</td>\n",
       "      <td>NaN</td>\n",
       "      <td>NaN</td>\n",
       "      <td>NaN</td>\n",
       "      <td>NaN</td>\n",
       "      <td>NaN</td>\n",
       "      <td>NaN</td>\n",
       "      <td>Mcdespot</td>\n",
       "      <td>3.0</td>\n",
       "      <td>C0571-3F-1A</td>\n",
       "      <td>72.900000</td>\n",
       "    </tr>\n",
       "    <tr>\n",
       "      <th>1203</th>\n",
       "      <td>1353.0</td>\n",
       "      <td>2.0</td>\n",
       "      <td>Prenatal</td>\n",
       "      <td>0.0</td>\n",
       "      <td>NaN</td>\n",
       "      <td>NaN</td>\n",
       "      <td>NaN</td>\n",
       "      <td>NaN</td>\n",
       "      <td>Male</td>\n",
       "      <td>None</td>\n",
       "      <td>...</td>\n",
       "      <td>NaN</td>\n",
       "      <td>NaN</td>\n",
       "      <td>NaN</td>\n",
       "      <td>NaN</td>\n",
       "      <td>NaN</td>\n",
       "      <td>NaN</td>\n",
       "      <td>NaN</td>\n",
       "      <td>NaN</td>\n",
       "      <td>M1353-2F-1A</td>\n",
       "      <td>NaN</td>\n",
       "    </tr>\n",
       "    <tr>\n",
       "      <th>1204</th>\n",
       "      <td>1376.0</td>\n",
       "      <td>1.0</td>\n",
       "      <td>2 and over</td>\n",
       "      <td>0.0</td>\n",
       "      <td>Vaginal</td>\n",
       "      <td>NaN</td>\n",
       "      <td>NaN</td>\n",
       "      <td>18.803472</td>\n",
       "      <td>Female</td>\n",
       "      <td>WPPSI</td>\n",
       "      <td>...</td>\n",
       "      <td>NaN</td>\n",
       "      <td>NaN</td>\n",
       "      <td>NaN</td>\n",
       "      <td>NaN</td>\n",
       "      <td>NaN</td>\n",
       "      <td>NaN</td>\n",
       "      <td>Mcdespot</td>\n",
       "      <td>1.0</td>\n",
       "      <td>M1376-1F-1A</td>\n",
       "      <td>73.166667</td>\n",
       "    </tr>\n",
       "    <tr>\n",
       "      <th>1205</th>\n",
       "      <td>1347.0</td>\n",
       "      <td>2.0</td>\n",
       "      <td>Prenatal</td>\n",
       "      <td>0.0</td>\n",
       "      <td>NaN</td>\n",
       "      <td>NaN</td>\n",
       "      <td>NaN</td>\n",
       "      <td>NaN</td>\n",
       "      <td>Female</td>\n",
       "      <td>None</td>\n",
       "      <td>...</td>\n",
       "      <td>NaN</td>\n",
       "      <td>NaN</td>\n",
       "      <td>NaN</td>\n",
       "      <td>NaN</td>\n",
       "      <td>NaN</td>\n",
       "      <td>NaN</td>\n",
       "      <td>NaN</td>\n",
       "      <td>NaN</td>\n",
       "      <td>M1347-2F-1A</td>\n",
       "      <td>NaN</td>\n",
       "    </tr>\n",
       "    <tr>\n",
       "      <th>1206</th>\n",
       "      <td>1345.0</td>\n",
       "      <td>2.0</td>\n",
       "      <td>Prenatal</td>\n",
       "      <td>0.0</td>\n",
       "      <td>NaN</td>\n",
       "      <td>NaN</td>\n",
       "      <td>NaN</td>\n",
       "      <td>NaN</td>\n",
       "      <td>Female</td>\n",
       "      <td>None</td>\n",
       "      <td>...</td>\n",
       "      <td>NaN</td>\n",
       "      <td>NaN</td>\n",
       "      <td>NaN</td>\n",
       "      <td>NaN</td>\n",
       "      <td>NaN</td>\n",
       "      <td>NaN</td>\n",
       "      <td>NaN</td>\n",
       "      <td>NaN</td>\n",
       "      <td>M1345-2F-1A</td>\n",
       "      <td>NaN</td>\n",
       "    </tr>\n",
       "    <tr>\n",
       "      <th>1207</th>\n",
       "      <td>123.0</td>\n",
       "      <td>5.0</td>\n",
       "      <td>2 and over</td>\n",
       "      <td>0.0</td>\n",
       "      <td>Vaginal</td>\n",
       "      <td>NaN</td>\n",
       "      <td>NaN</td>\n",
       "      <td>NaN</td>\n",
       "      <td>Female</td>\n",
       "      <td>WISC</td>\n",
       "      <td>...</td>\n",
       "      <td>NaN</td>\n",
       "      <td>NaN</td>\n",
       "      <td>NaN</td>\n",
       "      <td>NaN</td>\n",
       "      <td>NaN</td>\n",
       "      <td>NaN</td>\n",
       "      <td>Mcdespot</td>\n",
       "      <td>5.0</td>\n",
       "      <td>C0123-5F-1A</td>\n",
       "      <td>116.033333</td>\n",
       "    </tr>\n",
       "    <tr>\n",
       "      <th>1208</th>\n",
       "      <td>623.0</td>\n",
       "      <td>3.0</td>\n",
       "      <td>2 and over</td>\n",
       "      <td>0.0</td>\n",
       "      <td>Cesarean</td>\n",
       "      <td>NaN</td>\n",
       "      <td>NaN</td>\n",
       "      <td>13.531110</td>\n",
       "      <td>Male</td>\n",
       "      <td>None</td>\n",
       "      <td>...</td>\n",
       "      <td>NaN</td>\n",
       "      <td>NaN</td>\n",
       "      <td>NaN</td>\n",
       "      <td>NaN</td>\n",
       "      <td>NaN</td>\n",
       "      <td>NaN</td>\n",
       "      <td>Mcdespot</td>\n",
       "      <td>3.0</td>\n",
       "      <td>C0623-3F-1A</td>\n",
       "      <td>93.233333</td>\n",
       "    </tr>\n",
       "    <tr>\n",
       "      <th>1209</th>\n",
       "      <td>1359.0</td>\n",
       "      <td>2.0</td>\n",
       "      <td>Prenatal</td>\n",
       "      <td>0.0</td>\n",
       "      <td>NaN</td>\n",
       "      <td>NaN</td>\n",
       "      <td>NaN</td>\n",
       "      <td>NaN</td>\n",
       "      <td>Female</td>\n",
       "      <td>None</td>\n",
       "      <td>...</td>\n",
       "      <td>NaN</td>\n",
       "      <td>NaN</td>\n",
       "      <td>NaN</td>\n",
       "      <td>NaN</td>\n",
       "      <td>NaN</td>\n",
       "      <td>NaN</td>\n",
       "      <td>NaN</td>\n",
       "      <td>NaN</td>\n",
       "      <td>M1359-2F-1A</td>\n",
       "      <td>NaN</td>\n",
       "    </tr>\n",
       "    <tr>\n",
       "      <th>1210</th>\n",
       "      <td>1050.0</td>\n",
       "      <td>9.0</td>\n",
       "      <td>1 and under</td>\n",
       "      <td>0.0</td>\n",
       "      <td>Vaginal</td>\n",
       "      <td>NaN</td>\n",
       "      <td>NaN</td>\n",
       "      <td>NaN</td>\n",
       "      <td>Female</td>\n",
       "      <td>None</td>\n",
       "      <td>...</td>\n",
       "      <td>NaN</td>\n",
       "      <td>NaN</td>\n",
       "      <td>NaN</td>\n",
       "      <td>NaN</td>\n",
       "      <td>NaN</td>\n",
       "      <td>NaN</td>\n",
       "      <td>NaN</td>\n",
       "      <td>NaN</td>\n",
       "      <td>C1050-9F-1A</td>\n",
       "      <td>7.333333</td>\n",
       "    </tr>\n",
       "    <tr>\n",
       "      <th>1211</th>\n",
       "      <td>1220.0</td>\n",
       "      <td>4.0</td>\n",
       "      <td>1 and under</td>\n",
       "      <td>0.0</td>\n",
       "      <td>Vaginal</td>\n",
       "      <td>NaN</td>\n",
       "      <td>NaN</td>\n",
       "      <td>18.925557</td>\n",
       "      <td>Male</td>\n",
       "      <td>Mullen</td>\n",
       "      <td>...</td>\n",
       "      <td>0.0</td>\n",
       "      <td>1.24</td>\n",
       "      <td>1.63</td>\n",
       "      <td>1.85</td>\n",
       "      <td>1.13</td>\n",
       "      <td>NaN</td>\n",
       "      <td>NaN</td>\n",
       "      <td>NaN</td>\n",
       "      <td>C1220-4F-1A</td>\n",
       "      <td>3.533333</td>\n",
       "    </tr>\n",
       "    <tr>\n",
       "      <th>1212</th>\n",
       "      <td>1362.0</td>\n",
       "      <td>2.0</td>\n",
       "      <td>Prenatal</td>\n",
       "      <td>0.0</td>\n",
       "      <td>NaN</td>\n",
       "      <td>NaN</td>\n",
       "      <td>NaN</td>\n",
       "      <td>NaN</td>\n",
       "      <td>Female</td>\n",
       "      <td>None</td>\n",
       "      <td>...</td>\n",
       "      <td>NaN</td>\n",
       "      <td>NaN</td>\n",
       "      <td>NaN</td>\n",
       "      <td>NaN</td>\n",
       "      <td>NaN</td>\n",
       "      <td>NaN</td>\n",
       "      <td>NaN</td>\n",
       "      <td>NaN</td>\n",
       "      <td>M1362-2F-1A</td>\n",
       "      <td>NaN</td>\n",
       "    </tr>\n",
       "    <tr>\n",
       "      <th>1213</th>\n",
       "      <td>1215.0</td>\n",
       "      <td>4.0</td>\n",
       "      <td>1 and under</td>\n",
       "      <td>0.0</td>\n",
       "      <td>Cesarean</td>\n",
       "      <td>NaN</td>\n",
       "      <td>NaN</td>\n",
       "      <td>19.160249</td>\n",
       "      <td>Female</td>\n",
       "      <td>Mullen</td>\n",
       "      <td>...</td>\n",
       "      <td>0.0</td>\n",
       "      <td>1.57</td>\n",
       "      <td>-0.20</td>\n",
       "      <td>1.05</td>\n",
       "      <td>1.62</td>\n",
       "      <td>NaN</td>\n",
       "      <td>NaN</td>\n",
       "      <td>NaN</td>\n",
       "      <td>C1215-4F-1A</td>\n",
       "      <td>3.733333</td>\n",
       "    </tr>\n",
       "    <tr>\n",
       "      <th>1214</th>\n",
       "      <td>1336.0</td>\n",
       "      <td>3.0</td>\n",
       "      <td>Prenatal</td>\n",
       "      <td>0.0</td>\n",
       "      <td>NaN</td>\n",
       "      <td>NaN</td>\n",
       "      <td>NaN</td>\n",
       "      <td>NaN</td>\n",
       "      <td>Female</td>\n",
       "      <td>None</td>\n",
       "      <td>...</td>\n",
       "      <td>NaN</td>\n",
       "      <td>NaN</td>\n",
       "      <td>NaN</td>\n",
       "      <td>NaN</td>\n",
       "      <td>NaN</td>\n",
       "      <td>NaN</td>\n",
       "      <td>NaN</td>\n",
       "      <td>NaN</td>\n",
       "      <td>M1336-3F-1A</td>\n",
       "      <td>NaN</td>\n",
       "    </tr>\n",
       "    <tr>\n",
       "      <th>1215</th>\n",
       "      <td>1271.0</td>\n",
       "      <td>4.0</td>\n",
       "      <td>1 and under</td>\n",
       "      <td>0.0</td>\n",
       "      <td>Cesarean</td>\n",
       "      <td>NaN</td>\n",
       "      <td>NaN</td>\n",
       "      <td>NaN</td>\n",
       "      <td>Female</td>\n",
       "      <td>None</td>\n",
       "      <td>...</td>\n",
       "      <td>NaN</td>\n",
       "      <td>NaN</td>\n",
       "      <td>NaN</td>\n",
       "      <td>NaN</td>\n",
       "      <td>NaN</td>\n",
       "      <td>NaN</td>\n",
       "      <td>Mcdespot</td>\n",
       "      <td>4.0</td>\n",
       "      <td>C1271-4F-1A</td>\n",
       "      <td>1.466667</td>\n",
       "    </tr>\n",
       "    <tr>\n",
       "      <th>1216</th>\n",
       "      <td>1244.0</td>\n",
       "      <td>4.0</td>\n",
       "      <td>1 and under</td>\n",
       "      <td>0.0</td>\n",
       "      <td>Vaginal</td>\n",
       "      <td>NaN</td>\n",
       "      <td>NaN</td>\n",
       "      <td>17.141863</td>\n",
       "      <td>Female</td>\n",
       "      <td>Mullen</td>\n",
       "      <td>...</td>\n",
       "      <td>0.0</td>\n",
       "      <td>0.32</td>\n",
       "      <td>-1.58</td>\n",
       "      <td>-0.67</td>\n",
       "      <td>0.74</td>\n",
       "      <td>NaN</td>\n",
       "      <td>Mcdespot</td>\n",
       "      <td>4.0</td>\n",
       "      <td>C1244-4F-1A</td>\n",
       "      <td>3.933333</td>\n",
       "    </tr>\n",
       "    <tr>\n",
       "      <th>1217</th>\n",
       "      <td>1234.0</td>\n",
       "      <td>4.0</td>\n",
       "      <td>1 and under</td>\n",
       "      <td>0.0</td>\n",
       "      <td>Vaginal</td>\n",
       "      <td>NaN</td>\n",
       "      <td>NaN</td>\n",
       "      <td>16.537532</td>\n",
       "      <td>Female</td>\n",
       "      <td>Mullen</td>\n",
       "      <td>...</td>\n",
       "      <td>0.0</td>\n",
       "      <td>-0.07</td>\n",
       "      <td>-2.17</td>\n",
       "      <td>-1.31</td>\n",
       "      <td>0.57</td>\n",
       "      <td>NaN</td>\n",
       "      <td>Mcdespot</td>\n",
       "      <td>4.0</td>\n",
       "      <td>C1234-4F-1A</td>\n",
       "      <td>3.233333</td>\n",
       "    </tr>\n",
       "    <tr>\n",
       "      <th>1218</th>\n",
       "      <td>1333.0</td>\n",
       "      <td>3.0</td>\n",
       "      <td>Prenatal</td>\n",
       "      <td>0.0</td>\n",
       "      <td>NaN</td>\n",
       "      <td>NaN</td>\n",
       "      <td>NaN</td>\n",
       "      <td>NaN</td>\n",
       "      <td>Male</td>\n",
       "      <td>None</td>\n",
       "      <td>...</td>\n",
       "      <td>NaN</td>\n",
       "      <td>NaN</td>\n",
       "      <td>NaN</td>\n",
       "      <td>NaN</td>\n",
       "      <td>NaN</td>\n",
       "      <td>NaN</td>\n",
       "      <td>NaN</td>\n",
       "      <td>NaN</td>\n",
       "      <td>M1333-3F-1A</td>\n",
       "      <td>NaN</td>\n",
       "    </tr>\n",
       "    <tr>\n",
       "      <th>1219</th>\n",
       "      <td>1135.0</td>\n",
       "      <td>5.0</td>\n",
       "      <td>1 and under</td>\n",
       "      <td>0.0</td>\n",
       "      <td>Cesarean</td>\n",
       "      <td>NaN</td>\n",
       "      <td>NaN</td>\n",
       "      <td>19.675012</td>\n",
       "      <td>Female</td>\n",
       "      <td>Mullen</td>\n",
       "      <td>...</td>\n",
       "      <td>0.0</td>\n",
       "      <td>1.66</td>\n",
       "      <td>-0.50</td>\n",
       "      <td>0.96</td>\n",
       "      <td>1.71</td>\n",
       "      <td>NaN</td>\n",
       "      <td>NaN</td>\n",
       "      <td>NaN</td>\n",
       "      <td>C1135-5F-1A</td>\n",
       "      <td>6.000000</td>\n",
       "    </tr>\n",
       "    <tr>\n",
       "      <th>1220</th>\n",
       "      <td>492.0</td>\n",
       "      <td>7.0</td>\n",
       "      <td>1 to 2</td>\n",
       "      <td>0.0</td>\n",
       "      <td>Vaginal</td>\n",
       "      <td>NaN</td>\n",
       "      <td>NaN</td>\n",
       "      <td>16.206351</td>\n",
       "      <td>Male</td>\n",
       "      <td>Mullen</td>\n",
       "      <td>...</td>\n",
       "      <td>0.0</td>\n",
       "      <td>0.05</td>\n",
       "      <td>-0.69</td>\n",
       "      <td>-0.39</td>\n",
       "      <td>-0.06</td>\n",
       "      <td>NaN</td>\n",
       "      <td>Mcdespot</td>\n",
       "      <td>7.0</td>\n",
       "      <td>C0492-7F-1A</td>\n",
       "      <td>18.400000</td>\n",
       "    </tr>\n",
       "    <tr>\n",
       "      <th>1221</th>\n",
       "      <td>194.0</td>\n",
       "      <td>5.0</td>\n",
       "      <td>2 and over</td>\n",
       "      <td>0.0</td>\n",
       "      <td>Cesarean</td>\n",
       "      <td>NaN</td>\n",
       "      <td>NaN</td>\n",
       "      <td>19.445971</td>\n",
       "      <td>Female</td>\n",
       "      <td>None</td>\n",
       "      <td>...</td>\n",
       "      <td>NaN</td>\n",
       "      <td>NaN</td>\n",
       "      <td>NaN</td>\n",
       "      <td>NaN</td>\n",
       "      <td>NaN</td>\n",
       "      <td>NaN</td>\n",
       "      <td>Mcdespot</td>\n",
       "      <td>5.0</td>\n",
       "      <td>C0194-5F-1A</td>\n",
       "      <td>117.700000</td>\n",
       "    </tr>\n",
       "  </tbody>\n",
       "</table>\n",
       "<p>1222 rows × 47 columns</p>\n",
       "</div>"
      ],
      "text/plain": [
       "      subjectID  timepoint     ageLabel  ASLProcessed birthType  \\\n",
       "0          52.0        5.0   2 and over           0.0  Cesarean   \n",
       "1          53.0        6.0   2 and over           0.0  Cesarean   \n",
       "2         202.0        4.0   2 and over           0.0   Vaginal   \n",
       "3         202.0        4.0   2 and over           0.0   Vaginal   \n",
       "4         420.0        4.0   2 and over           0.0   Vaginal   \n",
       "5         420.0        4.0   2 and over           0.0   Vaginal   \n",
       "6         108.0        4.0   2 and over           0.0  Cesarean   \n",
       "7         126.0        8.0   2 and over           0.0   Vaginal   \n",
       "8         126.0        8.0   2 and over           0.0   Vaginal   \n",
       "9         127.0        6.0   2 and over           0.0   Vaginal   \n",
       "10         82.0        4.0   2 and over           0.0  Cesarean   \n",
       "11        507.0        1.0   2 and over           0.0   Vaginal   \n",
       "12        507.0        1.0   2 and over           0.0   Vaginal   \n",
       "13        240.0        3.0   2 and over           0.0   Vaginal   \n",
       "14        240.0        3.0   2 and over           0.0   Vaginal   \n",
       "15         61.0        6.0   2 and over           0.0   Vaginal   \n",
       "16         61.0        6.0   2 and over           0.0   Vaginal   \n",
       "17         43.0        7.0   2 and over           0.0   Vaginal   \n",
       "18         66.0        6.0   2 and over           0.0   Vaginal   \n",
       "19         66.0        6.0   2 and over           0.0   Vaginal   \n",
       "20         66.0        6.0   2 and over           0.0   Vaginal   \n",
       "21        229.0        4.0   2 and over           0.0   Vaginal   \n",
       "22        229.0        4.0   2 and over           0.0   Vaginal   \n",
       "23        117.0        4.0   2 and over           0.0  Cesarean   \n",
       "24        117.0        4.0   2 and over           0.0  Cesarean   \n",
       "25        117.0        4.0   2 and over           0.0  Cesarean   \n",
       "26        476.0        3.0       1 to 2           0.0   Vaginal   \n",
       "27        476.0        3.0       1 to 2           0.0   Vaginal   \n",
       "28        479.0        3.0   2 and over           0.0   Vaginal   \n",
       "29        479.0        3.0   2 and over           0.0   Vaginal   \n",
       "...         ...        ...          ...           ...       ...   \n",
       "1192     1273.0        4.0  1 and under           0.0  Cesarean   \n",
       "1193     1371.0        1.0     Prenatal           0.0       NaN   \n",
       "1194     1316.0        3.0     Prenatal           0.0       NaN   \n",
       "1195     1342.0        2.0     Prenatal           0.0       NaN   \n",
       "1196      635.0        3.0   2 and over           0.0   Vaginal   \n",
       "1197     1352.0        2.0     Prenatal           0.0       NaN   \n",
       "1198     1324.0        3.0     Prenatal           0.0       NaN   \n",
       "1199     1305.0        3.0     Prenatal           0.0       NaN   \n",
       "1200     1318.0        3.0     Prenatal           0.0       NaN   \n",
       "1201     1322.0        3.0     Prenatal           0.0   Vaginal   \n",
       "1202      571.0        3.0   2 and over           0.0   Vaginal   \n",
       "1203     1353.0        2.0     Prenatal           0.0       NaN   \n",
       "1204     1376.0        1.0   2 and over           0.0   Vaginal   \n",
       "1205     1347.0        2.0     Prenatal           0.0       NaN   \n",
       "1206     1345.0        2.0     Prenatal           0.0       NaN   \n",
       "1207      123.0        5.0   2 and over           0.0   Vaginal   \n",
       "1208      623.0        3.0   2 and over           0.0  Cesarean   \n",
       "1209     1359.0        2.0     Prenatal           0.0       NaN   \n",
       "1210     1050.0        9.0  1 and under           0.0   Vaginal   \n",
       "1211     1220.0        4.0  1 and under           0.0   Vaginal   \n",
       "1212     1362.0        2.0     Prenatal           0.0       NaN   \n",
       "1213     1215.0        4.0  1 and under           0.0  Cesarean   \n",
       "1214     1336.0        3.0     Prenatal           0.0       NaN   \n",
       "1215     1271.0        4.0  1 and under           0.0  Cesarean   \n",
       "1216     1244.0        4.0  1 and under           0.0   Vaginal   \n",
       "1217     1234.0        4.0  1 and under           0.0   Vaginal   \n",
       "1218     1333.0        3.0     Prenatal           0.0       NaN   \n",
       "1219     1135.0        5.0  1 and under           0.0  Cesarean   \n",
       "1220      492.0        7.0       1 to 2           0.0   Vaginal   \n",
       "1221      194.0        5.0   2 and over           0.0  Cesarean   \n",
       "\n",
       "      breastFedPercent breastfeeding   childBMI childGender cogAssessment  \\\n",
       "0                  NaN           NaN  16.728348        Male          WISC   \n",
       "1                  NaN           NaN  16.008798      Female         WPPSI   \n",
       "2                  NaN           NaN  15.285845      Female         WPPSI   \n",
       "3                  NaN           NaN  15.285845      Female         WPPSI   \n",
       "4                  NaN           NaN  18.979630      Female        Mullen   \n",
       "5                  NaN           NaN  18.979630      Female        Mullen   \n",
       "6                  NaN           NaN  17.834450        Male          WISC   \n",
       "7                  NaN           NaN        NaN        Male          WISC   \n",
       "8                  NaN           NaN        NaN        Male          WISC   \n",
       "9                  NaN           NaN        NaN      Female          WISC   \n",
       "10                 NaN           NaN  13.321486      Female          WISC   \n",
       "11                 NaN           NaN        NaN        Male          WISC   \n",
       "12                 NaN           NaN        NaN        Male          WISC   \n",
       "13                 NaN           NaN        NaN      Female          WISC   \n",
       "14                 NaN           NaN        NaN      Female          WISC   \n",
       "15                 NaN           NaN  17.859429        Male          WISC   \n",
       "16                 NaN           NaN  17.859429        Male          WISC   \n",
       "17                 NaN           NaN  19.594504        Male          WISC   \n",
       "18                 NaN           NaN  13.764884        Male          WISC   \n",
       "19                 NaN           NaN  13.764884        Male          WISC   \n",
       "20                 NaN           NaN  13.764884        Male          WISC   \n",
       "21                 NaN           NaN  15.042535        Male          WISC   \n",
       "22                 NaN           NaN  15.042535        Male          WISC   \n",
       "23                 NaN           NaN  12.641523      Female          WISC   \n",
       "24                 NaN           NaN  12.641523      Female          WISC   \n",
       "25                 NaN           NaN  12.641523      Female          WISC   \n",
       "26                 NaN           NaN  14.617694      Female        Mullen   \n",
       "27                 NaN           NaN  14.617694      Female        Mullen   \n",
       "28                 NaN           NaN  14.717395      Female        Mullen   \n",
       "29                 NaN           NaN  14.717395      Female        Mullen   \n",
       "...                ...           ...        ...         ...           ...   \n",
       "1192               NaN           NaN  15.939892        Male          None   \n",
       "1193               NaN           NaN        NaN        Male          None   \n",
       "1194               NaN           NaN        NaN        Male          None   \n",
       "1195               NaN           NaN        NaN      Female          None   \n",
       "1196               NaN           NaN  14.673942      Female          None   \n",
       "1197               NaN           NaN        NaN        Male          None   \n",
       "1198               NaN           NaN        NaN      Female          None   \n",
       "1199               NaN           NaN        NaN        Male          None   \n",
       "1200               NaN           NaN        NaN        Male          None   \n",
       "1201               NaN           NaN        NaN      Female          None   \n",
       "1202               NaN           NaN  14.270571        Male          WISC   \n",
       "1203               NaN           NaN        NaN        Male          None   \n",
       "1204               NaN           NaN  18.803472      Female         WPPSI   \n",
       "1205               NaN           NaN        NaN      Female          None   \n",
       "1206               NaN           NaN        NaN      Female          None   \n",
       "1207               NaN           NaN        NaN      Female          WISC   \n",
       "1208               NaN           NaN  13.531110        Male          None   \n",
       "1209               NaN           NaN        NaN      Female          None   \n",
       "1210               NaN           NaN        NaN      Female          None   \n",
       "1211               NaN           NaN  18.925557        Male        Mullen   \n",
       "1212               NaN           NaN        NaN      Female          None   \n",
       "1213               NaN           NaN  19.160249      Female        Mullen   \n",
       "1214               NaN           NaN        NaN      Female          None   \n",
       "1215               NaN           NaN        NaN      Female          None   \n",
       "1216               NaN           NaN  17.141863      Female        Mullen   \n",
       "1217               NaN           NaN  16.537532      Female        Mullen   \n",
       "1218               NaN           NaN        NaN        Male          None   \n",
       "1219               NaN           NaN  19.675012      Female        Mullen   \n",
       "1220               NaN           NaN  16.206351        Male        Mullen   \n",
       "1221               NaN           NaN  19.445971      Female          None   \n",
       "\n",
       "      ...  WHO_fwfl  WHO_zbmi  WHO_zlen  WHO_zwei  WHO_zwfl  \\\n",
       "0     ...       NaN       NaN       NaN       NaN       NaN   \n",
       "1     ...       NaN       NaN       NaN       NaN       NaN   \n",
       "2     ...       0.0      0.03     -1.26     -0.75      0.04   \n",
       "3     ...       0.0      0.03     -1.26     -0.75      0.04   \n",
       "4     ...       0.0      2.19     -3.46     -0.68      1.61   \n",
       "5     ...       0.0      2.19     -3.46     -0.68      1.61   \n",
       "6     ...       NaN       NaN       NaN       NaN       NaN   \n",
       "7     ...       NaN       NaN       NaN       NaN       NaN   \n",
       "8     ...       NaN       NaN       NaN       NaN       NaN   \n",
       "9     ...       NaN       NaN       NaN       NaN       NaN   \n",
       "10    ...       NaN       NaN       NaN       NaN       NaN   \n",
       "11    ...       NaN       NaN       NaN       NaN       NaN   \n",
       "12    ...       NaN       NaN       NaN       NaN       NaN   \n",
       "13    ...       NaN       NaN       NaN       NaN       NaN   \n",
       "14    ...       NaN       NaN       NaN       NaN       NaN   \n",
       "15    ...       NaN       NaN       NaN       NaN       NaN   \n",
       "16    ...       NaN       NaN       NaN       NaN       NaN   \n",
       "17    ...       NaN       NaN       NaN       NaN       NaN   \n",
       "18    ...       NaN       NaN       NaN       NaN       NaN   \n",
       "19    ...       NaN       NaN       NaN       NaN       NaN   \n",
       "20    ...       NaN       NaN       NaN       NaN       NaN   \n",
       "21    ...       NaN       NaN       NaN       NaN       NaN   \n",
       "22    ...       NaN       NaN       NaN       NaN       NaN   \n",
       "23    ...       NaN       NaN       NaN       NaN       NaN   \n",
       "24    ...       NaN       NaN       NaN       NaN       NaN   \n",
       "25    ...       NaN       NaN       NaN       NaN       NaN   \n",
       "26    ...       0.0     -0.85      1.81      0.53     -0.69   \n",
       "27    ...       0.0     -0.85      1.81      0.53     -0.69   \n",
       "28    ...       0.0     -0.76     -0.68     -0.91     -0.81   \n",
       "29    ...       0.0     -0.76     -0.68     -0.91     -0.81   \n",
       "...   ...       ...       ...       ...       ...       ...   \n",
       "1192  ...       0.0      0.02     -1.89     -1.03      1.16   \n",
       "1193  ...       NaN       NaN       NaN       NaN       NaN   \n",
       "1194  ...       NaN       NaN       NaN       NaN       NaN   \n",
       "1195  ...       NaN       NaN       NaN       NaN       NaN   \n",
       "1196  ...       NaN       NaN       NaN       NaN       NaN   \n",
       "1197  ...       NaN       NaN       NaN       NaN       NaN   \n",
       "1198  ...       NaN       NaN       NaN       NaN       NaN   \n",
       "1199  ...       NaN       NaN       NaN       NaN       NaN   \n",
       "1200  ...       NaN       NaN       NaN       NaN       NaN   \n",
       "1201  ...       NaN       NaN       NaN       NaN       NaN   \n",
       "1202  ...       NaN       NaN       NaN       NaN       NaN   \n",
       "1203  ...       NaN       NaN       NaN       NaN       NaN   \n",
       "1204  ...       NaN       NaN       NaN       NaN       NaN   \n",
       "1205  ...       NaN       NaN       NaN       NaN       NaN   \n",
       "1206  ...       NaN       NaN       NaN       NaN       NaN   \n",
       "1207  ...       NaN       NaN       NaN       NaN       NaN   \n",
       "1208  ...       NaN       NaN       NaN       NaN       NaN   \n",
       "1209  ...       NaN       NaN       NaN       NaN       NaN   \n",
       "1210  ...       NaN       NaN       NaN       NaN       NaN   \n",
       "1211  ...       0.0      1.24      1.63      1.85      1.13   \n",
       "1212  ...       NaN       NaN       NaN       NaN       NaN   \n",
       "1213  ...       0.0      1.57     -0.20      1.05      1.62   \n",
       "1214  ...       NaN       NaN       NaN       NaN       NaN   \n",
       "1215  ...       NaN       NaN       NaN       NaN       NaN   \n",
       "1216  ...       0.0      0.32     -1.58     -0.67      0.74   \n",
       "1217  ...       0.0     -0.07     -2.17     -1.31      0.57   \n",
       "1218  ...       NaN       NaN       NaN       NaN       NaN   \n",
       "1219  ...       0.0      1.66     -0.50      0.96      1.71   \n",
       "1220  ...       0.0      0.05     -0.69     -0.39     -0.06   \n",
       "1221  ...       NaN       NaN       NaN       NaN       NaN   \n",
       "\n",
       "     ProcessingComplete  SequenceName  timepoint.1     sampleid   AgeMonths  \n",
       "0                   Yes      Mcdespot          5.0  C0052-5F-1A   94.133333  \n",
       "1                   Yes      Mcdespot          6.0  C0053-6F-1A   72.500000  \n",
       "2                   Yes      Mcdespot          4.0  C0202-4F-1A   53.366667  \n",
       "3                   Yes      Mcdespot          4.0  C0202-4F-2A   53.366667  \n",
       "4                   NaN      Mcdespot          4.0  C0420-4F-1A   26.600000  \n",
       "5                   NaN      Mcdespot          4.0  C0420-4F-2A   26.600000  \n",
       "6                   Yes      Mcdespot          4.0  C0108-4F-1A  137.466667  \n",
       "7                   NaN      Mcdespot          8.0  C0126-8F-1A   75.366667  \n",
       "8                   NaN      Mcdespot          8.0  C0126-8F-1B   75.366667  \n",
       "9                   Yes      Mcdespot          6.0  C0127-6F-1B  112.233333  \n",
       "10                  NaN      Mcdespot          4.0  C0082-4F-1A   99.466667  \n",
       "11                  Yes      Mcdespot          1.0  C0507-1F-1A   83.433333  \n",
       "12                  Yes      Mcdespot          1.0  C0507-1F-2A   83.433333  \n",
       "13                  Yes      Mcdespot          3.0  C0240-3F-1A   73.400000  \n",
       "14                  Yes      Mcdespot          3.0  C0240-3F-2A   73.400000  \n",
       "15                  NaN      Mcdespot          6.0  C0061-6F-1A  130.733333  \n",
       "16                  NaN      Mcdespot          6.0  C0061-6F-2A  130.733333  \n",
       "17                  NaN      Mcdespot          7.0  C0043-7F-1A   86.600000  \n",
       "18                  NaN      Mcdespot          6.0  C0066-6F-1A  124.866667  \n",
       "19                  NaN      Mcdespot          6.0  C0066-6F-1B  124.866667  \n",
       "20                  NaN      Mcdespot          6.0  C0066-6F-2A  124.866667  \n",
       "21                  NaN      Mcdespot          4.0  C0229-4F-1A  110.300000  \n",
       "22                  NaN      Mcdespot          4.0  C0229-4F-2A  110.300000  \n",
       "23                  Yes      Mcdespot          4.0  C0117-4F-1A  105.800000  \n",
       "24                  Yes      Mcdespot          4.0  C0117-4F-1B  105.800000  \n",
       "25                  Yes      Mcdespot          4.0  C0117-4F-2A  105.800000  \n",
       "26                  Yes      Mcdespot          3.0  C0476-3F-1A   24.166667  \n",
       "27                  Yes      Mcdespot          3.0  C0476-3F-2A   24.166667  \n",
       "28                  NaN      Mcdespot          3.0  C0479-3F-1A   24.766667  \n",
       "29                  NaN      Mcdespot          3.0  C0479-3F-2A   24.766667  \n",
       "...                 ...           ...          ...          ...         ...  \n",
       "1192                NaN      Mcdespot          4.0  C1273-4F-1A    0.933333  \n",
       "1193                NaN           NaN          NaN  M1371-1F-1A         NaN  \n",
       "1194                NaN           NaN          NaN  M1316-3F-1A         NaN  \n",
       "1195                NaN           NaN          NaN  M1342-2F-1A         NaN  \n",
       "1196                NaN      Mcdespot          3.0  C0635-3F-1A   67.866667  \n",
       "1197                NaN           NaN          NaN  M1352-2F-1A         NaN  \n",
       "1198                NaN           NaN          NaN  M1324-3F-1A         NaN  \n",
       "1199                NaN           NaN          NaN  M1305-3F-1A         NaN  \n",
       "1200                NaN           NaN          NaN  M1318-3F-1A         NaN  \n",
       "1201                NaN           NaN          NaN  M1322-3F-1A         NaN  \n",
       "1202                NaN      Mcdespot          3.0  C0571-3F-1A   72.900000  \n",
       "1203                NaN           NaN          NaN  M1353-2F-1A         NaN  \n",
       "1204                NaN      Mcdespot          1.0  M1376-1F-1A   73.166667  \n",
       "1205                NaN           NaN          NaN  M1347-2F-1A         NaN  \n",
       "1206                NaN           NaN          NaN  M1345-2F-1A         NaN  \n",
       "1207                NaN      Mcdespot          5.0  C0123-5F-1A  116.033333  \n",
       "1208                NaN      Mcdespot          3.0  C0623-3F-1A   93.233333  \n",
       "1209                NaN           NaN          NaN  M1359-2F-1A         NaN  \n",
       "1210                NaN           NaN          NaN  C1050-9F-1A    7.333333  \n",
       "1211                NaN           NaN          NaN  C1220-4F-1A    3.533333  \n",
       "1212                NaN           NaN          NaN  M1362-2F-1A         NaN  \n",
       "1213                NaN           NaN          NaN  C1215-4F-1A    3.733333  \n",
       "1214                NaN           NaN          NaN  M1336-3F-1A         NaN  \n",
       "1215                NaN      Mcdespot          4.0  C1271-4F-1A    1.466667  \n",
       "1216                NaN      Mcdespot          4.0  C1244-4F-1A    3.933333  \n",
       "1217                NaN      Mcdespot          4.0  C1234-4F-1A    3.233333  \n",
       "1218                NaN           NaN          NaN  M1333-3F-1A         NaN  \n",
       "1219                NaN           NaN          NaN  C1135-5F-1A    6.000000  \n",
       "1220                NaN      Mcdespot          7.0  C0492-7F-1A   18.400000  \n",
       "1221                NaN      Mcdespot          5.0  C0194-5F-1A  117.700000  \n",
       "\n",
       "[1222 rows x 47 columns]"
      ]
     },
     "execution_count": 82,
     "metadata": {},
     "output_type": "execute_result"
    }
   ],
   "source": [
    "mapping_16S"
   ]
  },
  {
   "cell_type": "code",
   "execution_count": 83,
   "metadata": {},
   "outputs": [],
   "source": [
    "# make age dictionary\n",
    "agedict = {str(s): {} for s in mapping_16S[\"sampleid\"]}\n",
    "for index, row in mapping_16S.iterrows():\n",
    "    age_months = row[\"AgeMonths\"]\n",
    "    agedict[row[\"sampleid\"]]= age_months"
   ]
  },
  {
   "cell_type": "code",
   "execution_count": 84,
   "metadata": {},
   "outputs": [],
   "source": [
    "concat_df[\"AgeMonths\"]= concat_df[\"sampleid\"].map(agedict)"
   ]
  },
  {
   "cell_type": "code",
   "execution_count": 85,
   "metadata": {},
   "outputs": [],
   "source": [
    "cols_to_order = ['uid', 'sampleid',\"method\", \"AgeMonths\"]\n",
    "new_columns = cols_to_order + (concat_df.columns.drop(cols_to_order).tolist())\n",
    "concat_df = concat_df[new_columns]"
   ]
  },
  {
   "cell_type": "code",
   "execution_count": 86,
   "metadata": {},
   "outputs": [],
   "source": [
    "concat_df = concat_df[concat_df['AgeMonths'].notna()]"
   ]
  },
  {
   "cell_type": "code",
   "execution_count": 87,
   "metadata": {},
   "outputs": [
    {
     "data": {
      "text/plain": [
       "0"
      ]
     },
     "execution_count": 87,
     "metadata": {},
     "output_type": "execute_result"
    }
   ],
   "source": [
    "concat_df[\"AgeMonths\"].isna().sum()"
   ]
  },
  {
   "cell_type": "code",
   "execution_count": 88,
   "metadata": {},
   "outputs": [
    {
     "data": {
      "text/plain": [
       "(678, 562)"
      ]
     },
     "execution_count": 88,
     "metadata": {},
     "output_type": "execute_result"
    }
   ],
   "source": [
    "concat_df.shape"
   ]
  },
  {
   "cell_type": "code",
   "execution_count": 89,
   "metadata": {},
   "outputs": [
    {
     "data": {
      "text/html": [
       "<div>\n",
       "<style scoped>\n",
       "    .dataframe tbody tr th:only-of-type {\n",
       "        vertical-align: middle;\n",
       "    }\n",
       "\n",
       "    .dataframe tbody tr th {\n",
       "        vertical-align: top;\n",
       "    }\n",
       "\n",
       "    .dataframe thead th {\n",
       "        text-align: right;\n",
       "    }\n",
       "</style>\n",
       "<table border=\"1\" class=\"dataframe\">\n",
       "  <thead>\n",
       "    <tr style=\"text-align: right;\">\n",
       "      <th></th>\n",
       "      <th>uid</th>\n",
       "      <th>sampleid</th>\n",
       "      <th>method</th>\n",
       "      <th>AgeMonths</th>\n",
       "      <th>Abditibacterium</th>\n",
       "      <th>Abiotrophia</th>\n",
       "      <th>Absiella</th>\n",
       "      <th>Acetanaerobacterium</th>\n",
       "      <th>Acetobacter</th>\n",
       "      <th>Achromobacter</th>\n",
       "      <th>...</th>\n",
       "      <th>Vicinamibacteraceae</th>\n",
       "      <th>Vicingus</th>\n",
       "      <th>Victivallaceae</th>\n",
       "      <th>Victivallis</th>\n",
       "      <th>Weissella</th>\n",
       "      <th>Winogradskyella</th>\n",
       "      <th>Woeseia</th>\n",
       "      <th>Yoonia-Loktanella</th>\n",
       "      <th>Yueomyces</th>\n",
       "      <th>Zavarzinella</th>\n",
       "    </tr>\n",
       "  </thead>\n",
       "  <tbody>\n",
       "    <tr>\n",
       "      <th>8</th>\n",
       "      <td>C0590-1F-1A-mgx</td>\n",
       "      <td>C0590-1F-1A</td>\n",
       "      <td>mgx</td>\n",
       "      <td>47.200000</td>\n",
       "      <td>0.0</td>\n",
       "      <td>0.0</td>\n",
       "      <td>0.0</td>\n",
       "      <td>0.0</td>\n",
       "      <td>0.0</td>\n",
       "      <td>0.0</td>\n",
       "      <td>...</td>\n",
       "      <td>0.0</td>\n",
       "      <td>0.0</td>\n",
       "      <td>0.0</td>\n",
       "      <td>0.000000</td>\n",
       "      <td>0.0</td>\n",
       "      <td>0.0</td>\n",
       "      <td>0.0</td>\n",
       "      <td>0.0</td>\n",
       "      <td>0.0</td>\n",
       "      <td>0.0</td>\n",
       "    </tr>\n",
       "    <tr>\n",
       "      <th>663</th>\n",
       "      <td>C0526-2F-1A-amp</td>\n",
       "      <td>C0526-2F-1A</td>\n",
       "      <td>amp</td>\n",
       "      <td>59.233333</td>\n",
       "      <td>0.0</td>\n",
       "      <td>0.0</td>\n",
       "      <td>0.0</td>\n",
       "      <td>0.0</td>\n",
       "      <td>0.0</td>\n",
       "      <td>0.0</td>\n",
       "      <td>...</td>\n",
       "      <td>0.0</td>\n",
       "      <td>0.0</td>\n",
       "      <td>0.0</td>\n",
       "      <td>0.000000</td>\n",
       "      <td>0.0</td>\n",
       "      <td>0.0</td>\n",
       "      <td>0.0</td>\n",
       "      <td>0.0</td>\n",
       "      <td>0.0</td>\n",
       "      <td>0.0</td>\n",
       "    </tr>\n",
       "    <tr>\n",
       "      <th>215</th>\n",
       "      <td>C0656-4F-1A-mgx</td>\n",
       "      <td>C0656-4F-1A</td>\n",
       "      <td>mgx</td>\n",
       "      <td>3.200000</td>\n",
       "      <td>0.0</td>\n",
       "      <td>0.0</td>\n",
       "      <td>0.0</td>\n",
       "      <td>0.0</td>\n",
       "      <td>0.0</td>\n",
       "      <td>0.0</td>\n",
       "      <td>...</td>\n",
       "      <td>0.0</td>\n",
       "      <td>0.0</td>\n",
       "      <td>0.0</td>\n",
       "      <td>0.000000</td>\n",
       "      <td>0.0</td>\n",
       "      <td>0.0</td>\n",
       "      <td>0.0</td>\n",
       "      <td>0.0</td>\n",
       "      <td>0.0</td>\n",
       "      <td>0.0</td>\n",
       "    </tr>\n",
       "    <tr>\n",
       "      <th>476</th>\n",
       "      <td>C0052-7E-1A-amp</td>\n",
       "      <td>C0052-7E-1A</td>\n",
       "      <td>amp</td>\n",
       "      <td>127.333333</td>\n",
       "      <td>0.0</td>\n",
       "      <td>0.0</td>\n",
       "      <td>0.0</td>\n",
       "      <td>0.0</td>\n",
       "      <td>0.0</td>\n",
       "      <td>0.0</td>\n",
       "      <td>...</td>\n",
       "      <td>0.0</td>\n",
       "      <td>0.0</td>\n",
       "      <td>0.0</td>\n",
       "      <td>0.000000</td>\n",
       "      <td>0.0</td>\n",
       "      <td>0.0</td>\n",
       "      <td>0.0</td>\n",
       "      <td>0.0</td>\n",
       "      <td>0.0</td>\n",
       "      <td>0.0</td>\n",
       "    </tr>\n",
       "    <tr>\n",
       "      <th>245</th>\n",
       "      <td>C0194-5F-1A-mgx</td>\n",
       "      <td>C0194-5F-1A</td>\n",
       "      <td>mgx</td>\n",
       "      <td>117.700000</td>\n",
       "      <td>0.0</td>\n",
       "      <td>0.0</td>\n",
       "      <td>0.0</td>\n",
       "      <td>0.0</td>\n",
       "      <td>0.0</td>\n",
       "      <td>0.0</td>\n",
       "      <td>...</td>\n",
       "      <td>0.0</td>\n",
       "      <td>0.0</td>\n",
       "      <td>0.0</td>\n",
       "      <td>0.000000</td>\n",
       "      <td>0.0</td>\n",
       "      <td>0.0</td>\n",
       "      <td>0.0</td>\n",
       "      <td>0.0</td>\n",
       "      <td>0.0</td>\n",
       "      <td>0.0</td>\n",
       "    </tr>\n",
       "    <tr>\n",
       "      <th>355</th>\n",
       "      <td>C0825-1E-1A-amp</td>\n",
       "      <td>C0825-1E-1A</td>\n",
       "      <td>amp</td>\n",
       "      <td>19.566667</td>\n",
       "      <td>0.0</td>\n",
       "      <td>0.0</td>\n",
       "      <td>0.0</td>\n",
       "      <td>0.0</td>\n",
       "      <td>0.0</td>\n",
       "      <td>0.0</td>\n",
       "      <td>...</td>\n",
       "      <td>0.0</td>\n",
       "      <td>0.0</td>\n",
       "      <td>0.0</td>\n",
       "      <td>0.000000</td>\n",
       "      <td>0.0</td>\n",
       "      <td>0.0</td>\n",
       "      <td>0.0</td>\n",
       "      <td>0.0</td>\n",
       "      <td>0.0</td>\n",
       "      <td>0.0</td>\n",
       "    </tr>\n",
       "    <tr>\n",
       "      <th>24</th>\n",
       "      <td>C0512-2F-1A-mgx</td>\n",
       "      <td>C0512-2F-1A</td>\n",
       "      <td>mgx</td>\n",
       "      <td>54.433333</td>\n",
       "      <td>0.0</td>\n",
       "      <td>0.0</td>\n",
       "      <td>0.0</td>\n",
       "      <td>0.0</td>\n",
       "      <td>0.0</td>\n",
       "      <td>0.0</td>\n",
       "      <td>...</td>\n",
       "      <td>0.0</td>\n",
       "      <td>0.0</td>\n",
       "      <td>0.0</td>\n",
       "      <td>0.000759</td>\n",
       "      <td>0.0</td>\n",
       "      <td>0.0</td>\n",
       "      <td>0.0</td>\n",
       "      <td>0.0</td>\n",
       "      <td>0.0</td>\n",
       "      <td>0.0</td>\n",
       "    </tr>\n",
       "    <tr>\n",
       "      <th>507</th>\n",
       "      <td>C0686-1F-1A-amp</td>\n",
       "      <td>C0686-1F-1A</td>\n",
       "      <td>amp</td>\n",
       "      <td>9.700000</td>\n",
       "      <td>0.0</td>\n",
       "      <td>0.0</td>\n",
       "      <td>0.0</td>\n",
       "      <td>0.0</td>\n",
       "      <td>0.0</td>\n",
       "      <td>0.0</td>\n",
       "      <td>...</td>\n",
       "      <td>0.0</td>\n",
       "      <td>0.0</td>\n",
       "      <td>0.0</td>\n",
       "      <td>0.000000</td>\n",
       "      <td>0.0</td>\n",
       "      <td>0.0</td>\n",
       "      <td>0.0</td>\n",
       "      <td>0.0</td>\n",
       "      <td>0.0</td>\n",
       "      <td>0.0</td>\n",
       "    </tr>\n",
       "    <tr>\n",
       "      <th>378</th>\n",
       "      <td>C1171-2F-1A-amp</td>\n",
       "      <td>C1171-2F-1A</td>\n",
       "      <td>amp</td>\n",
       "      <td>98.533333</td>\n",
       "      <td>0.0</td>\n",
       "      <td>0.0</td>\n",
       "      <td>0.0</td>\n",
       "      <td>0.0</td>\n",
       "      <td>0.0</td>\n",
       "      <td>0.0</td>\n",
       "      <td>...</td>\n",
       "      <td>0.0</td>\n",
       "      <td>0.0</td>\n",
       "      <td>0.0</td>\n",
       "      <td>0.000000</td>\n",
       "      <td>0.0</td>\n",
       "      <td>0.0</td>\n",
       "      <td>0.0</td>\n",
       "      <td>0.0</td>\n",
       "      <td>0.0</td>\n",
       "      <td>0.0</td>\n",
       "    </tr>\n",
       "    <tr>\n",
       "      <th>42</th>\n",
       "      <td>C0476-5F-1A-mgx</td>\n",
       "      <td>C0476-5F-1A</td>\n",
       "      <td>mgx</td>\n",
       "      <td>48.633333</td>\n",
       "      <td>0.0</td>\n",
       "      <td>0.0</td>\n",
       "      <td>0.0</td>\n",
       "      <td>0.0</td>\n",
       "      <td>0.0</td>\n",
       "      <td>0.0</td>\n",
       "      <td>...</td>\n",
       "      <td>0.0</td>\n",
       "      <td>0.0</td>\n",
       "      <td>0.0</td>\n",
       "      <td>0.000000</td>\n",
       "      <td>0.0</td>\n",
       "      <td>0.0</td>\n",
       "      <td>0.0</td>\n",
       "      <td>0.0</td>\n",
       "      <td>0.0</td>\n",
       "      <td>0.0</td>\n",
       "    </tr>\n",
       "    <tr>\n",
       "      <th>306</th>\n",
       "      <td>C0980-5F-1A-mgx</td>\n",
       "      <td>C0980-5F-1A</td>\n",
       "      <td>mgx</td>\n",
       "      <td>5.800000</td>\n",
       "      <td>0.0</td>\n",
       "      <td>0.0</td>\n",
       "      <td>0.0</td>\n",
       "      <td>0.0</td>\n",
       "      <td>0.0</td>\n",
       "      <td>0.0</td>\n",
       "      <td>...</td>\n",
       "      <td>0.0</td>\n",
       "      <td>0.0</td>\n",
       "      <td>0.0</td>\n",
       "      <td>0.000000</td>\n",
       "      <td>0.0</td>\n",
       "      <td>0.0</td>\n",
       "      <td>0.0</td>\n",
       "      <td>0.0</td>\n",
       "      <td>0.0</td>\n",
       "      <td>0.0</td>\n",
       "    </tr>\n",
       "    <tr>\n",
       "      <th>308</th>\n",
       "      <td>C0699-4F-1A-mgx</td>\n",
       "      <td>C0699-4F-1A</td>\n",
       "      <td>mgx</td>\n",
       "      <td>2.900000</td>\n",
       "      <td>0.0</td>\n",
       "      <td>0.0</td>\n",
       "      <td>0.0</td>\n",
       "      <td>0.0</td>\n",
       "      <td>0.0</td>\n",
       "      <td>0.0</td>\n",
       "      <td>...</td>\n",
       "      <td>0.0</td>\n",
       "      <td>0.0</td>\n",
       "      <td>0.0</td>\n",
       "      <td>0.000000</td>\n",
       "      <td>0.0</td>\n",
       "      <td>0.0</td>\n",
       "      <td>0.0</td>\n",
       "      <td>0.0</td>\n",
       "      <td>0.0</td>\n",
       "      <td>0.0</td>\n",
       "    </tr>\n",
       "    <tr>\n",
       "      <th>70</th>\n",
       "      <td>C1115-4F-1A-mgx</td>\n",
       "      <td>C1115-4F-1A</td>\n",
       "      <td>mgx</td>\n",
       "      <td>2.900000</td>\n",
       "      <td>0.0</td>\n",
       "      <td>0.0</td>\n",
       "      <td>0.0</td>\n",
       "      <td>0.0</td>\n",
       "      <td>0.0</td>\n",
       "      <td>0.0</td>\n",
       "      <td>...</td>\n",
       "      <td>0.0</td>\n",
       "      <td>0.0</td>\n",
       "      <td>0.0</td>\n",
       "      <td>0.000000</td>\n",
       "      <td>0.0</td>\n",
       "      <td>0.0</td>\n",
       "      <td>0.0</td>\n",
       "      <td>0.0</td>\n",
       "      <td>0.0</td>\n",
       "      <td>0.0</td>\n",
       "    </tr>\n",
       "    <tr>\n",
       "      <th>83</th>\n",
       "      <td>C0479-3F-2A-mgx</td>\n",
       "      <td>C0479-3F-2A</td>\n",
       "      <td>mgx</td>\n",
       "      <td>24.766667</td>\n",
       "      <td>0.0</td>\n",
       "      <td>0.0</td>\n",
       "      <td>0.0</td>\n",
       "      <td>0.0</td>\n",
       "      <td>0.0</td>\n",
       "      <td>0.0</td>\n",
       "      <td>...</td>\n",
       "      <td>0.0</td>\n",
       "      <td>0.0</td>\n",
       "      <td>0.0</td>\n",
       "      <td>0.000000</td>\n",
       "      <td>0.0</td>\n",
       "      <td>0.0</td>\n",
       "      <td>0.0</td>\n",
       "      <td>0.0</td>\n",
       "      <td>0.0</td>\n",
       "      <td>0.0</td>\n",
       "    </tr>\n",
       "    <tr>\n",
       "      <th>573</th>\n",
       "      <td>C1059-3F-1A-amp</td>\n",
       "      <td>C1059-3F-1A</td>\n",
       "      <td>amp</td>\n",
       "      <td>1.366667</td>\n",
       "      <td>0.0</td>\n",
       "      <td>0.0</td>\n",
       "      <td>0.0</td>\n",
       "      <td>0.0</td>\n",
       "      <td>0.0</td>\n",
       "      <td>0.0</td>\n",
       "      <td>...</td>\n",
       "      <td>0.0</td>\n",
       "      <td>0.0</td>\n",
       "      <td>0.0</td>\n",
       "      <td>0.000000</td>\n",
       "      <td>0.0</td>\n",
       "      <td>0.0</td>\n",
       "      <td>0.0</td>\n",
       "      <td>0.0</td>\n",
       "      <td>0.0</td>\n",
       "      <td>0.0</td>\n",
       "    </tr>\n",
       "  </tbody>\n",
       "</table>\n",
       "<p>15 rows × 562 columns</p>\n",
       "</div>"
      ],
      "text/plain": [
       "                 uid     sampleid method   AgeMonths  Abditibacterium  \\\n",
       "8    C0590-1F-1A-mgx  C0590-1F-1A    mgx   47.200000              0.0   \n",
       "663  C0526-2F-1A-amp  C0526-2F-1A    amp   59.233333              0.0   \n",
       "215  C0656-4F-1A-mgx  C0656-4F-1A    mgx    3.200000              0.0   \n",
       "476  C0052-7E-1A-amp  C0052-7E-1A    amp  127.333333              0.0   \n",
       "245  C0194-5F-1A-mgx  C0194-5F-1A    mgx  117.700000              0.0   \n",
       "355  C0825-1E-1A-amp  C0825-1E-1A    amp   19.566667              0.0   \n",
       "24   C0512-2F-1A-mgx  C0512-2F-1A    mgx   54.433333              0.0   \n",
       "507  C0686-1F-1A-amp  C0686-1F-1A    amp    9.700000              0.0   \n",
       "378  C1171-2F-1A-amp  C1171-2F-1A    amp   98.533333              0.0   \n",
       "42   C0476-5F-1A-mgx  C0476-5F-1A    mgx   48.633333              0.0   \n",
       "306  C0980-5F-1A-mgx  C0980-5F-1A    mgx    5.800000              0.0   \n",
       "308  C0699-4F-1A-mgx  C0699-4F-1A    mgx    2.900000              0.0   \n",
       "70   C1115-4F-1A-mgx  C1115-4F-1A    mgx    2.900000              0.0   \n",
       "83   C0479-3F-2A-mgx  C0479-3F-2A    mgx   24.766667              0.0   \n",
       "573  C1059-3F-1A-amp  C1059-3F-1A    amp    1.366667              0.0   \n",
       "\n",
       "     Abiotrophia  Absiella  Acetanaerobacterium  Acetobacter  Achromobacter  \\\n",
       "8            0.0       0.0                  0.0          0.0            0.0   \n",
       "663          0.0       0.0                  0.0          0.0            0.0   \n",
       "215          0.0       0.0                  0.0          0.0            0.0   \n",
       "476          0.0       0.0                  0.0          0.0            0.0   \n",
       "245          0.0       0.0                  0.0          0.0            0.0   \n",
       "355          0.0       0.0                  0.0          0.0            0.0   \n",
       "24           0.0       0.0                  0.0          0.0            0.0   \n",
       "507          0.0       0.0                  0.0          0.0            0.0   \n",
       "378          0.0       0.0                  0.0          0.0            0.0   \n",
       "42           0.0       0.0                  0.0          0.0            0.0   \n",
       "306          0.0       0.0                  0.0          0.0            0.0   \n",
       "308          0.0       0.0                  0.0          0.0            0.0   \n",
       "70           0.0       0.0                  0.0          0.0            0.0   \n",
       "83           0.0       0.0                  0.0          0.0            0.0   \n",
       "573          0.0       0.0                  0.0          0.0            0.0   \n",
       "\n",
       "     ...  Vicinamibacteraceae  Vicingus  Victivallaceae  Victivallis  \\\n",
       "8    ...                  0.0       0.0             0.0     0.000000   \n",
       "663  ...                  0.0       0.0             0.0     0.000000   \n",
       "215  ...                  0.0       0.0             0.0     0.000000   \n",
       "476  ...                  0.0       0.0             0.0     0.000000   \n",
       "245  ...                  0.0       0.0             0.0     0.000000   \n",
       "355  ...                  0.0       0.0             0.0     0.000000   \n",
       "24   ...                  0.0       0.0             0.0     0.000759   \n",
       "507  ...                  0.0       0.0             0.0     0.000000   \n",
       "378  ...                  0.0       0.0             0.0     0.000000   \n",
       "42   ...                  0.0       0.0             0.0     0.000000   \n",
       "306  ...                  0.0       0.0             0.0     0.000000   \n",
       "308  ...                  0.0       0.0             0.0     0.000000   \n",
       "70   ...                  0.0       0.0             0.0     0.000000   \n",
       "83   ...                  0.0       0.0             0.0     0.000000   \n",
       "573  ...                  0.0       0.0             0.0     0.000000   \n",
       "\n",
       "     Weissella  Winogradskyella  Woeseia  Yoonia-Loktanella  Yueomyces  \\\n",
       "8          0.0              0.0      0.0                0.0        0.0   \n",
       "663        0.0              0.0      0.0                0.0        0.0   \n",
       "215        0.0              0.0      0.0                0.0        0.0   \n",
       "476        0.0              0.0      0.0                0.0        0.0   \n",
       "245        0.0              0.0      0.0                0.0        0.0   \n",
       "355        0.0              0.0      0.0                0.0        0.0   \n",
       "24         0.0              0.0      0.0                0.0        0.0   \n",
       "507        0.0              0.0      0.0                0.0        0.0   \n",
       "378        0.0              0.0      0.0                0.0        0.0   \n",
       "42         0.0              0.0      0.0                0.0        0.0   \n",
       "306        0.0              0.0      0.0                0.0        0.0   \n",
       "308        0.0              0.0      0.0                0.0        0.0   \n",
       "70         0.0              0.0      0.0                0.0        0.0   \n",
       "83         0.0              0.0      0.0                0.0        0.0   \n",
       "573        0.0              0.0      0.0                0.0        0.0   \n",
       "\n",
       "     Zavarzinella  \n",
       "8             0.0  \n",
       "663           0.0  \n",
       "215           0.0  \n",
       "476           0.0  \n",
       "245           0.0  \n",
       "355           0.0  \n",
       "24            0.0  \n",
       "507           0.0  \n",
       "378           0.0  \n",
       "42            0.0  \n",
       "306           0.0  \n",
       "308           0.0  \n",
       "70            0.0  \n",
       "83            0.0  \n",
       "573           0.0  \n",
       "\n",
       "[15 rows x 562 columns]"
      ]
     },
     "execution_count": 89,
     "metadata": {},
     "output_type": "execute_result"
    }
   ],
   "source": [
    "concat_df.sample(15)"
   ]
  },
  {
   "cell_type": "code",
   "execution_count": 90,
   "metadata": {},
   "outputs": [],
   "source": [
    "concat_df.to_csv('transposed_mgxamp_df.csv', index=False)"
   ]
  },
  {
   "cell_type": "code",
   "execution_count": null,
   "metadata": {},
   "outputs": [],
   "source": []
  }
 ],
 "metadata": {
  "kernelspec": {
   "display_name": "Python 3",
   "language": "python",
   "name": "python3"
  },
  "language_info": {
   "codemirror_mode": {
    "name": "ipython",
    "version": 3
   },
   "file_extension": ".py",
   "mimetype": "text/x-python",
   "name": "python",
   "nbconvert_exporter": "python",
   "pygments_lexer": "ipython3",
   "version": "3.7.4"
  }
 },
 "nbformat": 4,
 "nbformat_minor": 4
}
